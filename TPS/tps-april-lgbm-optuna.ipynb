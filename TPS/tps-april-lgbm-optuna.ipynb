{
 "cells": [
  {
   "cell_type": "code",
   "execution_count": 1,
   "id": "signed-mason",
   "metadata": {
    "_cell_guid": "1c781eb8-b421-4538-942d-07860c9cffd7",
    "_uuid": "629bc8ff-1fa7-4a96-b107-0544f5a77041",
    "execution": {
     "iopub.execute_input": "2021-04-19T15:24:06.319027Z",
     "iopub.status.busy": "2021-04-19T15:24:06.318214Z",
     "iopub.status.idle": "2021-04-19T15:24:06.325863Z",
     "shell.execute_reply": "2021-04-19T15:24:06.325311Z"
    },
    "papermill": {
     "duration": 0.028657,
     "end_time": "2021-04-19T15:24:06.325996",
     "exception": false,
     "start_time": "2021-04-19T15:24:06.297339",
     "status": "completed"
    },
    "tags": []
   },
   "outputs": [
    {
     "name": "stdout",
     "output_type": "stream",
     "text": [
      "/kaggle/input/tabular-playground-series-apr-2021/sample_submission.csv\n",
      "/kaggle/input/tabular-playground-series-apr-2021/train.csv\n",
      "/kaggle/input/tabular-playground-series-apr-2021/test.csv\n"
     ]
    }
   ],
   "source": [
    "# This Python 3 environment comes with many helpful analytics libraries installed\n",
    "# It is defined by the kaggle/python Docker image: https://github.com/kaggle/docker-python\n",
    "# For example, here's several helpful packages to load\n",
    "\n",
    "import numpy as np # linear algebra\n",
    "import pandas as pd # data processing, CSV file I/O (e.g. pd.read_csv)\n",
    "\n",
    "# Input data files are available in the read-only \"../input/\" directory\n",
    "# For example, running this (by clicking run or pressing Shift+Enter) will list all files under the input directory\n",
    "\n",
    "import os\n",
    "for dirname, _, filenames in os.walk('/kaggle/input'):\n",
    "    for filename in filenames:\n",
    "        print(os.path.join(dirname, filename))\n",
    "\n",
    "# You can write up to 20GB to the current directory (/kaggle/working/) that gets preserved as output when you create a version using \"Save & Run All\" \n",
    "# You can also write temporary files to /kaggle/temp/, but they won't be saved outside of the current session"
   ]
  },
  {
   "cell_type": "markdown",
   "id": "lasting-bones",
   "metadata": {
    "papermill": {
     "duration": 0.015029,
     "end_time": "2021-04-19T15:24:06.357054",
     "exception": false,
     "start_time": "2021-04-19T15:24:06.342025",
     "status": "completed"
    },
    "tags": []
   },
   "source": [
    "**************************************************"
   ]
  },
  {
   "cell_type": "markdown",
   "id": "nonprofit-ghana",
   "metadata": {
    "papermill": {
     "duration": 0.014945,
     "end_time": "2021-04-19T15:24:06.387242",
     "exception": false,
     "start_time": "2021-04-19T15:24:06.372297",
     "status": "completed"
    },
    "tags": []
   },
   "source": [
    "## TO DO\n",
    "\n",
    "### ~~Scaling numerical columns~~\n",
    "### Using Kfold - Average - predict_proba\n",
    "### Increase Trials\n",
    "### ~~Range of values for n_estimators~~\n",
    "### Threshold for predict_proba"
   ]
  },
  {
   "cell_type": "markdown",
   "id": "three-indonesian",
   "metadata": {
    "papermill": {
     "duration": 0.015123,
     "end_time": "2021-04-19T15:24:06.417770",
     "exception": false,
     "start_time": "2021-04-19T15:24:06.402647",
     "status": "completed"
    },
    "tags": []
   },
   "source": [
    "**************************************"
   ]
  },
  {
   "cell_type": "code",
   "execution_count": 2,
   "id": "billion-paper",
   "metadata": {
    "_cell_guid": "0dbda638-4ace-411f-936f-520d01b916e7",
    "_uuid": "74856958-271c-4049-86b4-0fface976241",
    "collapsed": false,
    "execution": {
     "iopub.execute_input": "2021-04-19T15:24:06.453204Z",
     "iopub.status.busy": "2021-04-19T15:24:06.452548Z",
     "iopub.status.idle": "2021-04-19T15:24:08.074948Z",
     "shell.execute_reply": "2021-04-19T15:24:08.074460Z"
    },
    "jupyter": {
     "outputs_hidden": false
    },
    "papermill": {
     "duration": 1.642134,
     "end_time": "2021-04-19T15:24:08.075083",
     "exception": false,
     "start_time": "2021-04-19T15:24:06.432949",
     "status": "completed"
    },
    "scrolled": true,
    "tags": []
   },
   "outputs": [
    {
     "data": {
      "text/html": [
       "<style type='text/css'>\n",
       ".datatable table.frame { margin-bottom: 0; }\n",
       ".datatable table.frame thead { border-bottom: none; }\n",
       ".datatable table.frame tr.coltypes td {  color: #FFFFFF;  line-height: 6px;  padding: 0 0.5em;}\n",
       ".datatable .bool    { background: #DDDD99; }\n",
       ".datatable .object  { background: #565656; }\n",
       ".datatable .int     { background: #5D9E5D; }\n",
       ".datatable .float   { background: #4040CC; }\n",
       ".datatable .str     { background: #CC4040; }\n",
       ".datatable .row_index {  background: var(--jp-border-color3);  border-right: 1px solid var(--jp-border-color0);  color: var(--jp-ui-font-color3);  font-size: 9px;}\n",
       ".datatable .frame tr.coltypes .row_index {  background: var(--jp-border-color0);}\n",
       ".datatable th:nth-child(2) { padding-left: 12px; }\n",
       ".datatable .hellipsis {  color: var(--jp-cell-editor-border-color);}\n",
       ".datatable .vellipsis {  background: var(--jp-layout-color0);  color: var(--jp-cell-editor-border-color);}\n",
       ".datatable .na {  color: var(--jp-cell-editor-border-color);  font-size: 80%;}\n",
       ".datatable .footer { font-size: 9px; }\n",
       ".datatable .frame_dimensions {  background: var(--jp-border-color3);  border-top: 1px solid var(--jp-border-color0);  color: var(--jp-ui-font-color3);  display: inline-block;  opacity: 0.6;  padding: 1px 10px 1px 5px;}\n",
       "</style>\n"
      ],
      "text/plain": [
       "<IPython.core.display.HTML object>"
      ]
     },
     "metadata": {},
     "output_type": "display_data"
    }
   ],
   "source": [
    "import matplotlib.pyplot as plt\n",
    "import seaborn as sns\n",
    "import optuna\n",
    "from lightgbm import LGBMClassifier\n",
    "from sklearn.metrics import accuracy_score, roc_auc_score\n",
    "from sklearn.model_selection import train_test_split, StratifiedKFold\n",
    "from sklearn.preprocessing import LabelEncoder, StandardScaler, MinMaxScaler"
   ]
  },
  {
   "cell_type": "code",
   "execution_count": 3,
   "id": "detected-rachel",
   "metadata": {
    "execution": {
     "iopub.execute_input": "2021-04-19T15:24:08.114617Z",
     "iopub.status.busy": "2021-04-19T15:24:08.114094Z",
     "iopub.status.idle": "2021-04-19T15:24:08.578656Z",
     "shell.execute_reply": "2021-04-19T15:24:08.577748Z"
    },
    "papermill": {
     "duration": 0.485378,
     "end_time": "2021-04-19T15:24:08.578801",
     "exception": false,
     "start_time": "2021-04-19T15:24:08.093423",
     "status": "completed"
    },
    "tags": []
   },
   "outputs": [],
   "source": [
    "train = pd.read_csv(\"/kaggle/input/tabular-playground-series-apr-2021/train.csv\")\n",
    "test = pd.read_csv(\"/kaggle/input/tabular-playground-series-apr-2021/test.csv\")\n",
    "submission = pd.read_csv(\"/kaggle/input/tabular-playground-series-apr-2021/sample_submission.csv\")"
   ]
  },
  {
   "cell_type": "code",
   "execution_count": 4,
   "id": "molecular-fleet",
   "metadata": {
    "execution": {
     "iopub.execute_input": "2021-04-19T15:24:08.624686Z",
     "iopub.status.busy": "2021-04-19T15:24:08.624179Z",
     "iopub.status.idle": "2021-04-19T15:24:08.645592Z",
     "shell.execute_reply": "2021-04-19T15:24:08.645190Z"
    },
    "papermill": {
     "duration": 0.050713,
     "end_time": "2021-04-19T15:24:08.645705",
     "exception": false,
     "start_time": "2021-04-19T15:24:08.594992",
     "status": "completed"
    },
    "tags": []
   },
   "outputs": [
    {
     "data": {
      "text/html": [
       "<div>\n",
       "<style scoped>\n",
       "    .dataframe tbody tr th:only-of-type {\n",
       "        vertical-align: middle;\n",
       "    }\n",
       "\n",
       "    .dataframe tbody tr th {\n",
       "        vertical-align: top;\n",
       "    }\n",
       "\n",
       "    .dataframe thead th {\n",
       "        text-align: right;\n",
       "    }\n",
       "</style>\n",
       "<table border=\"1\" class=\"dataframe\">\n",
       "  <thead>\n",
       "    <tr style=\"text-align: right;\">\n",
       "      <th></th>\n",
       "      <th>PassengerId</th>\n",
       "      <th>Survived</th>\n",
       "      <th>Pclass</th>\n",
       "      <th>Name</th>\n",
       "      <th>Sex</th>\n",
       "      <th>Age</th>\n",
       "      <th>SibSp</th>\n",
       "      <th>Parch</th>\n",
       "      <th>Ticket</th>\n",
       "      <th>Fare</th>\n",
       "      <th>Cabin</th>\n",
       "      <th>Embarked</th>\n",
       "    </tr>\n",
       "  </thead>\n",
       "  <tbody>\n",
       "    <tr>\n",
       "      <th>0</th>\n",
       "      <td>0</td>\n",
       "      <td>1</td>\n",
       "      <td>1</td>\n",
       "      <td>Oconnor, Frankie</td>\n",
       "      <td>male</td>\n",
       "      <td>NaN</td>\n",
       "      <td>2</td>\n",
       "      <td>0</td>\n",
       "      <td>209245</td>\n",
       "      <td>27.14</td>\n",
       "      <td>C12239</td>\n",
       "      <td>S</td>\n",
       "    </tr>\n",
       "    <tr>\n",
       "      <th>1</th>\n",
       "      <td>1</td>\n",
       "      <td>0</td>\n",
       "      <td>3</td>\n",
       "      <td>Bryan, Drew</td>\n",
       "      <td>male</td>\n",
       "      <td>NaN</td>\n",
       "      <td>0</td>\n",
       "      <td>0</td>\n",
       "      <td>27323</td>\n",
       "      <td>13.35</td>\n",
       "      <td>NaN</td>\n",
       "      <td>S</td>\n",
       "    </tr>\n",
       "    <tr>\n",
       "      <th>2</th>\n",
       "      <td>2</td>\n",
       "      <td>0</td>\n",
       "      <td>3</td>\n",
       "      <td>Owens, Kenneth</td>\n",
       "      <td>male</td>\n",
       "      <td>0.33</td>\n",
       "      <td>1</td>\n",
       "      <td>2</td>\n",
       "      <td>CA 457703</td>\n",
       "      <td>71.29</td>\n",
       "      <td>NaN</td>\n",
       "      <td>S</td>\n",
       "    </tr>\n",
       "    <tr>\n",
       "      <th>3</th>\n",
       "      <td>3</td>\n",
       "      <td>0</td>\n",
       "      <td>3</td>\n",
       "      <td>Kramer, James</td>\n",
       "      <td>male</td>\n",
       "      <td>19.00</td>\n",
       "      <td>0</td>\n",
       "      <td>0</td>\n",
       "      <td>A. 10866</td>\n",
       "      <td>13.04</td>\n",
       "      <td>NaN</td>\n",
       "      <td>S</td>\n",
       "    </tr>\n",
       "    <tr>\n",
       "      <th>4</th>\n",
       "      <td>4</td>\n",
       "      <td>1</td>\n",
       "      <td>3</td>\n",
       "      <td>Bond, Michael</td>\n",
       "      <td>male</td>\n",
       "      <td>25.00</td>\n",
       "      <td>0</td>\n",
       "      <td>0</td>\n",
       "      <td>427635</td>\n",
       "      <td>7.76</td>\n",
       "      <td>NaN</td>\n",
       "      <td>S</td>\n",
       "    </tr>\n",
       "  </tbody>\n",
       "</table>\n",
       "</div>"
      ],
      "text/plain": [
       "   PassengerId  Survived  Pclass              Name   Sex    Age  SibSp  Parch  \\\n",
       "0            0         1       1  Oconnor, Frankie  male    NaN      2      0   \n",
       "1            1         0       3       Bryan, Drew  male    NaN      0      0   \n",
       "2            2         0       3    Owens, Kenneth  male   0.33      1      2   \n",
       "3            3         0       3     Kramer, James  male  19.00      0      0   \n",
       "4            4         1       3     Bond, Michael  male  25.00      0      0   \n",
       "\n",
       "      Ticket   Fare   Cabin Embarked  \n",
       "0     209245  27.14  C12239        S  \n",
       "1      27323  13.35     NaN        S  \n",
       "2  CA 457703  71.29     NaN        S  \n",
       "3   A. 10866  13.04     NaN        S  \n",
       "4     427635   7.76     NaN        S  "
      ]
     },
     "metadata": {},
     "output_type": "display_data"
    },
    {
     "data": {
      "text/html": [
       "<div>\n",
       "<style scoped>\n",
       "    .dataframe tbody tr th:only-of-type {\n",
       "        vertical-align: middle;\n",
       "    }\n",
       "\n",
       "    .dataframe tbody tr th {\n",
       "        vertical-align: top;\n",
       "    }\n",
       "\n",
       "    .dataframe thead th {\n",
       "        text-align: right;\n",
       "    }\n",
       "</style>\n",
       "<table border=\"1\" class=\"dataframe\">\n",
       "  <thead>\n",
       "    <tr style=\"text-align: right;\">\n",
       "      <th></th>\n",
       "      <th>PassengerId</th>\n",
       "      <th>Pclass</th>\n",
       "      <th>Name</th>\n",
       "      <th>Sex</th>\n",
       "      <th>Age</th>\n",
       "      <th>SibSp</th>\n",
       "      <th>Parch</th>\n",
       "      <th>Ticket</th>\n",
       "      <th>Fare</th>\n",
       "      <th>Cabin</th>\n",
       "      <th>Embarked</th>\n",
       "    </tr>\n",
       "  </thead>\n",
       "  <tbody>\n",
       "    <tr>\n",
       "      <th>0</th>\n",
       "      <td>100000</td>\n",
       "      <td>3</td>\n",
       "      <td>Holliday, Daniel</td>\n",
       "      <td>male</td>\n",
       "      <td>19.0</td>\n",
       "      <td>0</td>\n",
       "      <td>0</td>\n",
       "      <td>24745</td>\n",
       "      <td>63.01</td>\n",
       "      <td>NaN</td>\n",
       "      <td>S</td>\n",
       "    </tr>\n",
       "    <tr>\n",
       "      <th>1</th>\n",
       "      <td>100001</td>\n",
       "      <td>3</td>\n",
       "      <td>Nguyen, Lorraine</td>\n",
       "      <td>female</td>\n",
       "      <td>53.0</td>\n",
       "      <td>0</td>\n",
       "      <td>0</td>\n",
       "      <td>13264</td>\n",
       "      <td>5.81</td>\n",
       "      <td>NaN</td>\n",
       "      <td>S</td>\n",
       "    </tr>\n",
       "    <tr>\n",
       "      <th>2</th>\n",
       "      <td>100002</td>\n",
       "      <td>1</td>\n",
       "      <td>Harris, Heather</td>\n",
       "      <td>female</td>\n",
       "      <td>19.0</td>\n",
       "      <td>0</td>\n",
       "      <td>0</td>\n",
       "      <td>25990</td>\n",
       "      <td>38.91</td>\n",
       "      <td>B15315</td>\n",
       "      <td>C</td>\n",
       "    </tr>\n",
       "    <tr>\n",
       "      <th>3</th>\n",
       "      <td>100003</td>\n",
       "      <td>2</td>\n",
       "      <td>Larsen, Eric</td>\n",
       "      <td>male</td>\n",
       "      <td>25.0</td>\n",
       "      <td>0</td>\n",
       "      <td>0</td>\n",
       "      <td>314011</td>\n",
       "      <td>12.93</td>\n",
       "      <td>NaN</td>\n",
       "      <td>S</td>\n",
       "    </tr>\n",
       "    <tr>\n",
       "      <th>4</th>\n",
       "      <td>100004</td>\n",
       "      <td>1</td>\n",
       "      <td>Cleary, Sarah</td>\n",
       "      <td>female</td>\n",
       "      <td>17.0</td>\n",
       "      <td>0</td>\n",
       "      <td>2</td>\n",
       "      <td>26203</td>\n",
       "      <td>26.89</td>\n",
       "      <td>B22515</td>\n",
       "      <td>C</td>\n",
       "    </tr>\n",
       "  </tbody>\n",
       "</table>\n",
       "</div>"
      ],
      "text/plain": [
       "   PassengerId  Pclass              Name     Sex   Age  SibSp  Parch  Ticket  \\\n",
       "0       100000       3  Holliday, Daniel    male  19.0      0      0   24745   \n",
       "1       100001       3  Nguyen, Lorraine  female  53.0      0      0   13264   \n",
       "2       100002       1   Harris, Heather  female  19.0      0      0   25990   \n",
       "3       100003       2      Larsen, Eric    male  25.0      0      0  314011   \n",
       "4       100004       1     Cleary, Sarah  female  17.0      0      2   26203   \n",
       "\n",
       "    Fare   Cabin Embarked  \n",
       "0  63.01     NaN        S  \n",
       "1   5.81     NaN        S  \n",
       "2  38.91  B15315        C  \n",
       "3  12.93     NaN        S  \n",
       "4  26.89  B22515        C  "
      ]
     },
     "metadata": {},
     "output_type": "display_data"
    }
   ],
   "source": [
    "display(train.head())\n",
    "display(test.head())"
   ]
  },
  {
   "cell_type": "code",
   "execution_count": 5,
   "id": "subtle-trustee",
   "metadata": {
    "execution": {
     "iopub.execute_input": "2021-04-19T15:24:08.685045Z",
     "iopub.status.busy": "2021-04-19T15:24:08.684512Z",
     "iopub.status.idle": "2021-04-19T15:24:08.726847Z",
     "shell.execute_reply": "2021-04-19T15:24:08.726030Z"
    },
    "papermill": {
     "duration": 0.063179,
     "end_time": "2021-04-19T15:24:08.726976",
     "exception": false,
     "start_time": "2021-04-19T15:24:08.663797",
     "status": "completed"
    },
    "tags": []
   },
   "outputs": [],
   "source": [
    "df = train.append(test, sort=False)\n",
    "train_len = len(train)"
   ]
  },
  {
   "cell_type": "code",
   "execution_count": 6,
   "id": "intended-missouri",
   "metadata": {
    "execution": {
     "iopub.execute_input": "2021-04-19T15:24:08.766078Z",
     "iopub.status.busy": "2021-04-19T15:24:08.765316Z",
     "iopub.status.idle": "2021-04-19T15:24:08.851888Z",
     "shell.execute_reply": "2021-04-19T15:24:08.852283Z"
    },
    "papermill": {
     "duration": 0.10805,
     "end_time": "2021-04-19T15:24:08.852435",
     "exception": false,
     "start_time": "2021-04-19T15:24:08.744385",
     "status": "completed"
    },
    "tags": []
   },
   "outputs": [
    {
     "data": {
      "text/plain": [
       "PassengerId         0\n",
       "Survived       100000\n",
       "Pclass              0\n",
       "Name                0\n",
       "Sex                 0\n",
       "Age              6779\n",
       "SibSp               0\n",
       "Parch               0\n",
       "Ticket           9804\n",
       "Fare              267\n",
       "Cabin          138697\n",
       "Embarked          527\n",
       "dtype: int64"
      ]
     },
     "execution_count": 6,
     "metadata": {},
     "output_type": "execute_result"
    }
   ],
   "source": [
    "df.isnull().sum()"
   ]
  },
  {
   "cell_type": "code",
   "execution_count": 7,
   "id": "hungry-cigarette",
   "metadata": {
    "execution": {
     "iopub.execute_input": "2021-04-19T15:24:08.896841Z",
     "iopub.status.busy": "2021-04-19T15:24:08.895692Z",
     "iopub.status.idle": "2021-04-19T15:24:09.396510Z",
     "shell.execute_reply": "2021-04-19T15:24:09.396025Z"
    },
    "papermill": {
     "duration": 0.526485,
     "end_time": "2021-04-19T15:24:09.396628",
     "exception": false,
     "start_time": "2021-04-19T15:24:08.870143",
     "status": "completed"
    },
    "tags": []
   },
   "outputs": [],
   "source": [
    "df['Fare'] = df['Fare'].fillna(df['Fare'].mean())\n",
    "\n",
    "df['Family_Size'] = df['SibSp'] + df['Parch'] + 1\n",
    "\n",
    "df['Name'] = df['Name'].map(lambda x: x.split(',')[0])\n",
    "\n",
    "df['isAlone'] = df['Family_Size'].map(lambda x: 1 if x==1 else 0)\n",
    "\n",
    "# FE : https://www.kaggle.com/jmargni/tps-apr-2021-lightgbm-cv\n",
    "\n",
    "age_map = df[['Age', 'Pclass']].dropna().groupby('Pclass').mean().to_dict()\n",
    "df['Age'] = df['Age'].fillna(df['Pclass'].map(age_map['Age']))\n",
    "\n",
    "df['Cabin'] = df['Cabin'].fillna('X').map(lambda x: x[0].strip())\n",
    "\n",
    "df['Ticket'] = df['Ticket'].fillna('X').map(lambda x: str(x).split()[0] if len(str(x).split()) > 1 else 'X')\n",
    "\n",
    "df['Embarked'] = df['Embarked'].fillna('X')"
   ]
  },
  {
   "cell_type": "code",
   "execution_count": 8,
   "id": "dangerous-fantasy",
   "metadata": {
    "execution": {
     "iopub.execute_input": "2021-04-19T15:24:09.451727Z",
     "iopub.status.busy": "2021-04-19T15:24:09.451099Z",
     "iopub.status.idle": "2021-04-19T15:24:09.454658Z",
     "shell.execute_reply": "2021-04-19T15:24:09.455109Z"
    },
    "papermill": {
     "duration": 0.039668,
     "end_time": "2021-04-19T15:24:09.455254",
     "exception": false,
     "start_time": "2021-04-19T15:24:09.415586",
     "status": "completed"
    },
    "tags": []
   },
   "outputs": [
    {
     "data": {
      "text/html": [
       "<div>\n",
       "<style scoped>\n",
       "    .dataframe tbody tr th:only-of-type {\n",
       "        vertical-align: middle;\n",
       "    }\n",
       "\n",
       "    .dataframe tbody tr th {\n",
       "        vertical-align: top;\n",
       "    }\n",
       "\n",
       "    .dataframe thead th {\n",
       "        text-align: right;\n",
       "    }\n",
       "</style>\n",
       "<table border=\"1\" class=\"dataframe\">\n",
       "  <thead>\n",
       "    <tr style=\"text-align: right;\">\n",
       "      <th></th>\n",
       "      <th>PassengerId</th>\n",
       "      <th>Survived</th>\n",
       "      <th>Pclass</th>\n",
       "      <th>Name</th>\n",
       "      <th>Sex</th>\n",
       "      <th>Age</th>\n",
       "      <th>SibSp</th>\n",
       "      <th>Parch</th>\n",
       "      <th>Ticket</th>\n",
       "      <th>Fare</th>\n",
       "      <th>Cabin</th>\n",
       "      <th>Embarked</th>\n",
       "      <th>Family_Size</th>\n",
       "      <th>isAlone</th>\n",
       "    </tr>\n",
       "  </thead>\n",
       "  <tbody>\n",
       "    <tr>\n",
       "      <th>0</th>\n",
       "      <td>0</td>\n",
       "      <td>1.0</td>\n",
       "      <td>1</td>\n",
       "      <td>Oconnor</td>\n",
       "      <td>male</td>\n",
       "      <td>40.672757</td>\n",
       "      <td>2</td>\n",
       "      <td>0</td>\n",
       "      <td>X</td>\n",
       "      <td>27.14</td>\n",
       "      <td>C</td>\n",
       "      <td>S</td>\n",
       "      <td>3</td>\n",
       "      <td>0</td>\n",
       "    </tr>\n",
       "    <tr>\n",
       "      <th>1</th>\n",
       "      <td>1</td>\n",
       "      <td>0.0</td>\n",
       "      <td>3</td>\n",
       "      <td>Bryan</td>\n",
       "      <td>male</td>\n",
       "      <td>30.205570</td>\n",
       "      <td>0</td>\n",
       "      <td>0</td>\n",
       "      <td>X</td>\n",
       "      <td>13.35</td>\n",
       "      <td>X</td>\n",
       "      <td>S</td>\n",
       "      <td>1</td>\n",
       "      <td>1</td>\n",
       "    </tr>\n",
       "    <tr>\n",
       "      <th>2</th>\n",
       "      <td>2</td>\n",
       "      <td>0.0</td>\n",
       "      <td>3</td>\n",
       "      <td>Owens</td>\n",
       "      <td>male</td>\n",
       "      <td>0.330000</td>\n",
       "      <td>1</td>\n",
       "      <td>2</td>\n",
       "      <td>CA</td>\n",
       "      <td>71.29</td>\n",
       "      <td>X</td>\n",
       "      <td>S</td>\n",
       "      <td>4</td>\n",
       "      <td>0</td>\n",
       "    </tr>\n",
       "    <tr>\n",
       "      <th>3</th>\n",
       "      <td>3</td>\n",
       "      <td>0.0</td>\n",
       "      <td>3</td>\n",
       "      <td>Kramer</td>\n",
       "      <td>male</td>\n",
       "      <td>19.000000</td>\n",
       "      <td>0</td>\n",
       "      <td>0</td>\n",
       "      <td>A.</td>\n",
       "      <td>13.04</td>\n",
       "      <td>X</td>\n",
       "      <td>S</td>\n",
       "      <td>1</td>\n",
       "      <td>1</td>\n",
       "    </tr>\n",
       "    <tr>\n",
       "      <th>4</th>\n",
       "      <td>4</td>\n",
       "      <td>1.0</td>\n",
       "      <td>3</td>\n",
       "      <td>Bond</td>\n",
       "      <td>male</td>\n",
       "      <td>25.000000</td>\n",
       "      <td>0</td>\n",
       "      <td>0</td>\n",
       "      <td>X</td>\n",
       "      <td>7.76</td>\n",
       "      <td>X</td>\n",
       "      <td>S</td>\n",
       "      <td>1</td>\n",
       "      <td>1</td>\n",
       "    </tr>\n",
       "    <tr>\n",
       "      <th>5</th>\n",
       "      <td>5</td>\n",
       "      <td>0.0</td>\n",
       "      <td>2</td>\n",
       "      <td>Sassano</td>\n",
       "      <td>male</td>\n",
       "      <td>35.000000</td>\n",
       "      <td>0</td>\n",
       "      <td>0</td>\n",
       "      <td>X</td>\n",
       "      <td>6.71</td>\n",
       "      <td>X</td>\n",
       "      <td>S</td>\n",
       "      <td>1</td>\n",
       "      <td>1</td>\n",
       "    </tr>\n",
       "    <tr>\n",
       "      <th>6</th>\n",
       "      <td>6</td>\n",
       "      <td>0.0</td>\n",
       "      <td>3</td>\n",
       "      <td>Conway</td>\n",
       "      <td>male</td>\n",
       "      <td>7.000000</td>\n",
       "      <td>0</td>\n",
       "      <td>0</td>\n",
       "      <td>X</td>\n",
       "      <td>9.77</td>\n",
       "      <td>X</td>\n",
       "      <td>S</td>\n",
       "      <td>1</td>\n",
       "      <td>1</td>\n",
       "    </tr>\n",
       "    <tr>\n",
       "      <th>7</th>\n",
       "      <td>7</td>\n",
       "      <td>1.0</td>\n",
       "      <td>3</td>\n",
       "      <td>Werner</td>\n",
       "      <td>female</td>\n",
       "      <td>6.000000</td>\n",
       "      <td>1</td>\n",
       "      <td>2</td>\n",
       "      <td>X</td>\n",
       "      <td>31.50</td>\n",
       "      <td>X</td>\n",
       "      <td>S</td>\n",
       "      <td>4</td>\n",
       "      <td>0</td>\n",
       "    </tr>\n",
       "    <tr>\n",
       "      <th>8</th>\n",
       "      <td>8</td>\n",
       "      <td>0.0</td>\n",
       "      <td>1</td>\n",
       "      <td>Wardlaw</td>\n",
       "      <td>male</td>\n",
       "      <td>27.000000</td>\n",
       "      <td>2</td>\n",
       "      <td>1</td>\n",
       "      <td>X</td>\n",
       "      <td>73.02</td>\n",
       "      <td>A</td>\n",
       "      <td>S</td>\n",
       "      <td>4</td>\n",
       "      <td>0</td>\n",
       "    </tr>\n",
       "    <tr>\n",
       "      <th>9</th>\n",
       "      <td>9</td>\n",
       "      <td>0.0</td>\n",
       "      <td>2</td>\n",
       "      <td>Greigo</td>\n",
       "      <td>male</td>\n",
       "      <td>66.000000</td>\n",
       "      <td>0</td>\n",
       "      <td>0</td>\n",
       "      <td>X</td>\n",
       "      <td>9.14</td>\n",
       "      <td>D</td>\n",
       "      <td>C</td>\n",
       "      <td>1</td>\n",
       "      <td>1</td>\n",
       "    </tr>\n",
       "  </tbody>\n",
       "</table>\n",
       "</div>"
      ],
      "text/plain": [
       "   PassengerId  Survived  Pclass     Name     Sex        Age  SibSp  Parch  \\\n",
       "0            0       1.0       1  Oconnor    male  40.672757      2      0   \n",
       "1            1       0.0       3    Bryan    male  30.205570      0      0   \n",
       "2            2       0.0       3    Owens    male   0.330000      1      2   \n",
       "3            3       0.0       3   Kramer    male  19.000000      0      0   \n",
       "4            4       1.0       3     Bond    male  25.000000      0      0   \n",
       "5            5       0.0       2  Sassano    male  35.000000      0      0   \n",
       "6            6       0.0       3   Conway    male   7.000000      0      0   \n",
       "7            7       1.0       3   Werner  female   6.000000      1      2   \n",
       "8            8       0.0       1  Wardlaw    male  27.000000      2      1   \n",
       "9            9       0.0       2   Greigo    male  66.000000      0      0   \n",
       "\n",
       "  Ticket   Fare Cabin Embarked  Family_Size  isAlone  \n",
       "0      X  27.14     C        S            3        0  \n",
       "1      X  13.35     X        S            1        1  \n",
       "2     CA  71.29     X        S            4        0  \n",
       "3     A.  13.04     X        S            1        1  \n",
       "4      X   7.76     X        S            1        1  \n",
       "5      X   6.71     X        S            1        1  \n",
       "6      X   9.77     X        S            1        1  \n",
       "7      X  31.50     X        S            4        0  \n",
       "8      X  73.02     A        S            4        0  \n",
       "9      X   9.14     D        C            1        1  "
      ]
     },
     "execution_count": 8,
     "metadata": {},
     "output_type": "execute_result"
    }
   ],
   "source": [
    "df.head(10)"
   ]
  },
  {
   "cell_type": "code",
   "execution_count": 9,
   "id": "gentle-delta",
   "metadata": {
    "execution": {
     "iopub.execute_input": "2021-04-19T15:24:09.499562Z",
     "iopub.status.busy": "2021-04-19T15:24:09.498738Z",
     "iopub.status.idle": "2021-04-19T15:24:09.508058Z",
     "shell.execute_reply": "2021-04-19T15:24:09.507628Z"
    },
    "papermill": {
     "duration": 0.034076,
     "end_time": "2021-04-19T15:24:09.508173",
     "exception": false,
     "start_time": "2021-04-19T15:24:09.474097",
     "status": "completed"
    },
    "tags": []
   },
   "outputs": [],
   "source": [
    "df.drop(['PassengerId', 'Survived'], axis=1, inplace=True)"
   ]
  },
  {
   "cell_type": "code",
   "execution_count": 10,
   "id": "athletic-currency",
   "metadata": {
    "execution": {
     "iopub.execute_input": "2021-04-19T15:24:09.550134Z",
     "iopub.status.busy": "2021-04-19T15:24:09.549477Z",
     "iopub.status.idle": "2021-04-19T15:24:09.554259Z",
     "shell.execute_reply": "2021-04-19T15:24:09.553869Z"
    },
    "papermill": {
     "duration": 0.027744,
     "end_time": "2021-04-19T15:24:09.554366",
     "exception": false,
     "start_time": "2021-04-19T15:24:09.526622",
     "status": "completed"
    },
    "tags": []
   },
   "outputs": [
    {
     "data": {
      "text/plain": [
       "['Pclass',\n",
       " 'Name',\n",
       " 'Age',\n",
       " 'SibSp',\n",
       " 'Parch',\n",
       " 'Ticket',\n",
       " 'Fare',\n",
       " 'Family_Size',\n",
       " 'isAlone']"
      ]
     },
     "execution_count": 10,
     "metadata": {},
     "output_type": "execute_result"
    }
   ],
   "source": [
    "label_col = [['Name'], [\"Ticket\"]]\n",
    "cat_col = ['Sex', 'Cabin', 'Embarked']\n",
    "num_col = [x for x in df.columns if x not in (cat_col + label_col)]\n",
    "# numerical_col, categorical_col\n",
    "num_col"
   ]
  },
  {
   "cell_type": "code",
   "execution_count": 11,
   "id": "democratic-theme",
   "metadata": {
    "execution": {
     "iopub.execute_input": "2021-04-19T15:24:09.596320Z",
     "iopub.status.busy": "2021-04-19T15:24:09.595251Z",
     "iopub.status.idle": "2021-04-19T15:24:09.614543Z",
     "shell.execute_reply": "2021-04-19T15:24:09.614119Z"
    },
    "papermill": {
     "duration": 0.041626,
     "end_time": "2021-04-19T15:24:09.614660",
     "exception": false,
     "start_time": "2021-04-19T15:24:09.573034",
     "status": "completed"
    },
    "tags": []
   },
   "outputs": [],
   "source": [
    "lc = LabelEncoder()\n",
    "scaler = StandardScaler()\n",
    "df_copy = df.copy()\n",
    "# df[label_col]"
   ]
  },
  {
   "cell_type": "code",
   "execution_count": 12,
   "id": "presidential-density",
   "metadata": {
    "execution": {
     "iopub.execute_input": "2021-04-19T15:24:09.666464Z",
     "iopub.status.busy": "2021-04-19T15:24:09.657646Z",
     "iopub.status.idle": "2021-04-19T15:24:09.973335Z",
     "shell.execute_reply": "2021-04-19T15:24:09.973998Z"
    },
    "papermill": {
     "duration": 0.340465,
     "end_time": "2021-04-19T15:24:09.974216",
     "exception": false,
     "start_time": "2021-04-19T15:24:09.633751",
     "status": "completed"
    },
    "tags": []
   },
   "outputs": [
    {
     "name": "stderr",
     "output_type": "stream",
     "text": [
      "/opt/conda/lib/python3.7/site-packages/sklearn/utils/validation.py:63: DataConversionWarning: A column-vector y was passed when a 1d array was expected. Please change the shape of y to (n_samples, ), for example using ravel().\n",
      "  return f(*args, **kwargs)\n"
     ]
    }
   ],
   "source": [
    "df_copy = pd.get_dummies(df, columns=cat_col)\n",
    "df_copy[['Name']] = lc.fit_transform(df_copy[['Name']])\n",
    "df_copy[['Ticket']] = lc.fit_transform(df_copy[['Ticket']])"
   ]
  },
  {
   "cell_type": "code",
   "execution_count": 13,
   "id": "african-fantasy",
   "metadata": {
    "execution": {
     "iopub.execute_input": "2021-04-19T15:24:10.018808Z",
     "iopub.status.busy": "2021-04-19T15:24:10.018140Z",
     "iopub.status.idle": "2021-04-19T15:24:10.020989Z",
     "shell.execute_reply": "2021-04-19T15:24:10.020552Z"
    },
    "papermill": {
     "duration": 0.026514,
     "end_time": "2021-04-19T15:24:10.021104",
     "exception": false,
     "start_time": "2021-04-19T15:24:09.994590",
     "status": "completed"
    },
    "tags": []
   },
   "outputs": [],
   "source": [
    "test_df = df_copy[train_len:]\n",
    "X = df_copy[:train_len]\n",
    "y = train.Survived"
   ]
  },
  {
   "cell_type": "code",
   "execution_count": 14,
   "id": "photographic-natural",
   "metadata": {
    "execution": {
     "iopub.execute_input": "2021-04-19T15:24:10.066423Z",
     "iopub.status.busy": "2021-04-19T15:24:10.065554Z",
     "iopub.status.idle": "2021-04-19T15:24:10.177360Z",
     "shell.execute_reply": "2021-04-19T15:24:10.177788Z"
    },
    "papermill": {
     "duration": 0.137579,
     "end_time": "2021-04-19T15:24:10.177951",
     "exception": false,
     "start_time": "2021-04-19T15:24:10.040372",
     "status": "completed"
    },
    "tags": []
   },
   "outputs": [
    {
     "name": "stderr",
     "output_type": "stream",
     "text": [
      "/opt/conda/lib/python3.7/site-packages/ipykernel_launcher.py:1: SettingWithCopyWarning: \n",
      "A value is trying to be set on a copy of a slice from a DataFrame.\n",
      "Try using .loc[row_indexer,col_indexer] = value instead\n",
      "\n",
      "See the caveats in the documentation: https://pandas.pydata.org/pandas-docs/stable/user_guide/indexing.html#returning-a-view-versus-a-copy\n",
      "  \"\"\"Entry point for launching an IPython kernel.\n",
      "/opt/conda/lib/python3.7/site-packages/pandas/core/indexing.py:1734: SettingWithCopyWarning: \n",
      "A value is trying to be set on a copy of a slice from a DataFrame.\n",
      "Try using .loc[row_indexer,col_indexer] = value instead\n",
      "\n",
      "See the caveats in the documentation: https://pandas.pydata.org/pandas-docs/stable/user_guide/indexing.html#returning-a-view-versus-a-copy\n",
      "  isetter(loc, value[:, i].tolist())\n",
      "/opt/conda/lib/python3.7/site-packages/ipykernel_launcher.py:2: SettingWithCopyWarning: \n",
      "A value is trying to be set on a copy of a slice from a DataFrame.\n",
      "Try using .loc[row_indexer,col_indexer] = value instead\n",
      "\n",
      "See the caveats in the documentation: https://pandas.pydata.org/pandas-docs/stable/user_guide/indexing.html#returning-a-view-versus-a-copy\n",
      "  \n",
      "/opt/conda/lib/python3.7/site-packages/pandas/core/indexing.py:1734: SettingWithCopyWarning: \n",
      "A value is trying to be set on a copy of a slice from a DataFrame.\n",
      "Try using .loc[row_indexer,col_indexer] = value instead\n",
      "\n",
      "See the caveats in the documentation: https://pandas.pydata.org/pandas-docs/stable/user_guide/indexing.html#returning-a-view-versus-a-copy\n",
      "  isetter(loc, value[:, i].tolist())\n"
     ]
    }
   ],
   "source": [
    "X[['Fare', 'Age']] = scaler.fit_transform(X[['Fare', 'Age']])\n",
    "test_df[['Fare', 'Age']] = scaler.transform(test_df[['Fare', 'Age']])"
   ]
  },
  {
   "cell_type": "code",
   "execution_count": 15,
   "id": "offensive-claim",
   "metadata": {
    "execution": {
     "iopub.execute_input": "2021-04-19T15:24:10.237010Z",
     "iopub.status.busy": "2021-04-19T15:24:10.236376Z",
     "iopub.status.idle": "2021-04-19T15:24:10.239829Z",
     "shell.execute_reply": "2021-04-19T15:24:10.240224Z"
    },
    "papermill": {
     "duration": 0.042386,
     "end_time": "2021-04-19T15:24:10.240358",
     "exception": false,
     "start_time": "2021-04-19T15:24:10.197972",
     "status": "completed"
    },
    "tags": []
   },
   "outputs": [
    {
     "data": {
      "text/html": [
       "<div>\n",
       "<style scoped>\n",
       "    .dataframe tbody tr th:only-of-type {\n",
       "        vertical-align: middle;\n",
       "    }\n",
       "\n",
       "    .dataframe tbody tr th {\n",
       "        vertical-align: top;\n",
       "    }\n",
       "\n",
       "    .dataframe thead th {\n",
       "        text-align: right;\n",
       "    }\n",
       "</style>\n",
       "<table border=\"1\" class=\"dataframe\">\n",
       "  <thead>\n",
       "    <tr style=\"text-align: right;\">\n",
       "      <th></th>\n",
       "      <th>Pclass</th>\n",
       "      <th>Name</th>\n",
       "      <th>Age</th>\n",
       "      <th>SibSp</th>\n",
       "      <th>Parch</th>\n",
       "      <th>Ticket</th>\n",
       "      <th>Fare</th>\n",
       "      <th>Family_Size</th>\n",
       "      <th>isAlone</th>\n",
       "      <th>Sex_female</th>\n",
       "      <th>...</th>\n",
       "      <th>Cabin_D</th>\n",
       "      <th>Cabin_E</th>\n",
       "      <th>Cabin_F</th>\n",
       "      <th>Cabin_G</th>\n",
       "      <th>Cabin_T</th>\n",
       "      <th>Cabin_X</th>\n",
       "      <th>Embarked_C</th>\n",
       "      <th>Embarked_Q</th>\n",
       "      <th>Embarked_S</th>\n",
       "      <th>Embarked_X</th>\n",
       "    </tr>\n",
       "  </thead>\n",
       "  <tbody>\n",
       "    <tr>\n",
       "      <th>0</th>\n",
       "      <td>1</td>\n",
       "      <td>17441</td>\n",
       "      <td>0.134273</td>\n",
       "      <td>2</td>\n",
       "      <td>0</td>\n",
       "      <td>49</td>\n",
       "      <td>-0.241442</td>\n",
       "      <td>3</td>\n",
       "      <td>0</td>\n",
       "      <td>0</td>\n",
       "      <td>...</td>\n",
       "      <td>0</td>\n",
       "      <td>0</td>\n",
       "      <td>0</td>\n",
       "      <td>0</td>\n",
       "      <td>0</td>\n",
       "      <td>0</td>\n",
       "      <td>0</td>\n",
       "      <td>0</td>\n",
       "      <td>1</td>\n",
       "      <td>0</td>\n",
       "    </tr>\n",
       "    <tr>\n",
       "      <th>1</th>\n",
       "      <td>3</td>\n",
       "      <td>3063</td>\n",
       "      <td>-0.446054</td>\n",
       "      <td>0</td>\n",
       "      <td>0</td>\n",
       "      <td>49</td>\n",
       "      <td>-0.439740</td>\n",
       "      <td>1</td>\n",
       "      <td>1</td>\n",
       "      <td>0</td>\n",
       "      <td>...</td>\n",
       "      <td>0</td>\n",
       "      <td>0</td>\n",
       "      <td>0</td>\n",
       "      <td>0</td>\n",
       "      <td>0</td>\n",
       "      <td>1</td>\n",
       "      <td>0</td>\n",
       "      <td>0</td>\n",
       "      <td>1</td>\n",
       "      <td>0</td>\n",
       "    </tr>\n",
       "    <tr>\n",
       "      <th>2</th>\n",
       "      <td>3</td>\n",
       "      <td>17798</td>\n",
       "      <td>-2.102432</td>\n",
       "      <td>1</td>\n",
       "      <td>2</td>\n",
       "      <td>14</td>\n",
       "      <td>0.393428</td>\n",
       "      <td>4</td>\n",
       "      <td>0</td>\n",
       "      <td>0</td>\n",
       "      <td>...</td>\n",
       "      <td>0</td>\n",
       "      <td>0</td>\n",
       "      <td>0</td>\n",
       "      <td>0</td>\n",
       "      <td>0</td>\n",
       "      <td>1</td>\n",
       "      <td>0</td>\n",
       "      <td>0</td>\n",
       "      <td>1</td>\n",
       "      <td>0</td>\n",
       "    </tr>\n",
       "    <tr>\n",
       "      <th>3</th>\n",
       "      <td>3</td>\n",
       "      <td>12742</td>\n",
       "      <td>-1.067320</td>\n",
       "      <td>0</td>\n",
       "      <td>0</td>\n",
       "      <td>0</td>\n",
       "      <td>-0.444197</td>\n",
       "      <td>1</td>\n",
       "      <td>1</td>\n",
       "      <td>0</td>\n",
       "      <td>...</td>\n",
       "      <td>0</td>\n",
       "      <td>0</td>\n",
       "      <td>0</td>\n",
       "      <td>0</td>\n",
       "      <td>0</td>\n",
       "      <td>1</td>\n",
       "      <td>0</td>\n",
       "      <td>0</td>\n",
       "      <td>1</td>\n",
       "      <td>0</td>\n",
       "    </tr>\n",
       "    <tr>\n",
       "      <th>4</th>\n",
       "      <td>3</td>\n",
       "      <td>2335</td>\n",
       "      <td>-0.734664</td>\n",
       "      <td>0</td>\n",
       "      <td>0</td>\n",
       "      <td>49</td>\n",
       "      <td>-0.520123</td>\n",
       "      <td>1</td>\n",
       "      <td>1</td>\n",
       "      <td>0</td>\n",
       "      <td>...</td>\n",
       "      <td>0</td>\n",
       "      <td>0</td>\n",
       "      <td>0</td>\n",
       "      <td>0</td>\n",
       "      <td>0</td>\n",
       "      <td>1</td>\n",
       "      <td>0</td>\n",
       "      <td>0</td>\n",
       "      <td>1</td>\n",
       "      <td>0</td>\n",
       "    </tr>\n",
       "  </tbody>\n",
       "</table>\n",
       "<p>5 rows × 24 columns</p>\n",
       "</div>"
      ],
      "text/plain": [
       "   Pclass   Name       Age  SibSp  Parch  Ticket      Fare  Family_Size  \\\n",
       "0       1  17441  0.134273      2      0      49 -0.241442            3   \n",
       "1       3   3063 -0.446054      0      0      49 -0.439740            1   \n",
       "2       3  17798 -2.102432      1      2      14  0.393428            4   \n",
       "3       3  12742 -1.067320      0      0       0 -0.444197            1   \n",
       "4       3   2335 -0.734664      0      0      49 -0.520123            1   \n",
       "\n",
       "   isAlone  Sex_female  ...  Cabin_D  Cabin_E  Cabin_F  Cabin_G  Cabin_T  \\\n",
       "0        0           0  ...        0        0        0        0        0   \n",
       "1        1           0  ...        0        0        0        0        0   \n",
       "2        0           0  ...        0        0        0        0        0   \n",
       "3        1           0  ...        0        0        0        0        0   \n",
       "4        1           0  ...        0        0        0        0        0   \n",
       "\n",
       "   Cabin_X  Embarked_C  Embarked_Q  Embarked_S  Embarked_X  \n",
       "0        0           0           0           1           0  \n",
       "1        1           0           0           1           0  \n",
       "2        1           0           0           1           0  \n",
       "3        1           0           0           1           0  \n",
       "4        1           0           0           1           0  \n",
       "\n",
       "[5 rows x 24 columns]"
      ]
     },
     "execution_count": 15,
     "metadata": {},
     "output_type": "execute_result"
    }
   ],
   "source": [
    "X.head()\n"
   ]
  },
  {
   "cell_type": "code",
   "execution_count": 16,
   "id": "liberal-heart",
   "metadata": {
    "execution": {
     "iopub.execute_input": "2021-04-19T15:24:10.285965Z",
     "iopub.status.busy": "2021-04-19T15:24:10.285253Z",
     "iopub.status.idle": "2021-04-19T15:24:10.288029Z",
     "shell.execute_reply": "2021-04-19T15:24:10.287586Z"
    },
    "papermill": {
     "duration": 0.02693,
     "end_time": "2021-04-19T15:24:10.288134",
     "exception": false,
     "start_time": "2021-04-19T15:24:10.261204",
     "status": "completed"
    },
    "tags": []
   },
   "outputs": [],
   "source": [
    "# def objective(trial, data=X, target=y):\n",
    "    \n",
    "# #     aucs = []\n",
    "    \n",
    "#     X_train, X_test, y_train, y_test = train_test_split(X, y, train_size=0.8, random_state=0)\n",
    "# #     skf = StratifiedKFold(n_splits=10, shuffle=True, random_state=42)\n",
    "\n",
    "#     params = {\n",
    "#             \"random_state\": 42,\n",
    "#             \"metric\": \"auc\",\n",
    "# #             \"categorical_feature\": cat_indices,\n",
    "#             \"verbosity\": -1,\n",
    "#             \"n_estimators\": 5000,\n",
    "#             \"learning_rate\": trial.suggest_categorical('learning_rate', [0.001, 0.005, 0.01, 0.05, 0.1]),\n",
    "#             'num_leaves': trial.suggest_int('num_leaves', 2, 1024),\n",
    "#             'max_depth': trial.suggest_int('max_depth', -1, 32),\n",
    "#             'reg_alpha': trial.suggest_float('reg_alpha', 1E-16, 25),\n",
    "#             'reg_lambda': trial.suggest_float('reg_lambda', 1E-16, 25),\n",
    "#             'colsample_bytree': trial.suggest_float('colsample_bytree', 1E-16, 1.0),\n",
    "#             'subsample': trial.suggest_float('subsample ', 1E-16, 1.0),\n",
    "#             'cat_smooth': trial.suggest_float('cat_smooth', 1.0, 50.0),\n",
    "#             'device_type': 'gpu'\n",
    "#     }\n",
    "    \n",
    "# #     for fold, (train_idx, val_idx) in enumerate(skf.split(X, y)):\n",
    "        \n",
    "# #         print('Fold {}:'.format(fold))\n",
    "        \n",
    "# #         X_train, y_train = X.iloc[train_idx], y.iloc[train_idx]\n",
    "# #         X_test, y_test = X.iloc[val_idx], y.iloc[val_idx]\n",
    "    \n",
    "#     lgb_model = LGBMClassifier(**params)\n",
    "    \n",
    "#     lgb_model.fit(X_train, y_train, eval_set=[(X_train, y_train),(X_test, y_test)],\n",
    "#         eval_metric='auc', early_stopping_rounds=200, verbose=1000)\n",
    "    \n",
    "#     pred = lgb_model.predict_proba(X_test)[:,1]\n",
    "\n",
    "#     auc = roc_auc_score(y_test, np.where(pred>0.5, 1, 0))\n",
    "        \n",
    "# #         aucs.append(auc)\n",
    "#     return auc\n",
    "# #     return np.average(aucs)"
   ]
  },
  {
   "cell_type": "code",
   "execution_count": 17,
   "id": "unlimited-thailand",
   "metadata": {
    "execution": {
     "iopub.execute_input": "2021-04-19T15:24:10.332657Z",
     "iopub.status.busy": "2021-04-19T15:24:10.332022Z",
     "iopub.status.idle": "2021-04-19T15:24:10.334926Z",
     "shell.execute_reply": "2021-04-19T15:24:10.334489Z"
    },
    "papermill": {
     "duration": 0.026499,
     "end_time": "2021-04-19T15:24:10.335036",
     "exception": false,
     "start_time": "2021-04-19T15:24:10.308537",
     "status": "completed"
    },
    "tags": []
   },
   "outputs": [],
   "source": [
    "# %%time\n",
    "\n",
    "# study = optuna.create_study(study_name=\"lgbm_classifier\", direction=\"maximize\")\n",
    "# study.optimize(objective, n_trials=30)"
   ]
  },
  {
   "cell_type": "code",
   "execution_count": 18,
   "id": "historical-teaching",
   "metadata": {
    "execution": {
     "iopub.execute_input": "2021-04-19T15:24:10.381611Z",
     "iopub.status.busy": "2021-04-19T15:24:10.381015Z",
     "iopub.status.idle": "2021-04-19T15:24:10.383831Z",
     "shell.execute_reply": "2021-04-19T15:24:10.383380Z"
    },
    "papermill": {
     "duration": 0.028216,
     "end_time": "2021-04-19T15:24:10.383935",
     "exception": false,
     "start_time": "2021-04-19T15:24:10.355719",
     "status": "completed"
    },
    "tags": []
   },
   "outputs": [],
   "source": [
    "# best_params = study.best_trial.params\n",
    "# best_params['random_state'] = 42\n",
    "# best_params['metric'] = 'auc'\n",
    "# best_params['n_estimators'] = 5000\n",
    "# best_params['verbosity'] = -1\n",
    "# best_params"
   ]
  },
  {
   "cell_type": "markdown",
   "id": "blessed-probe",
   "metadata": {
    "papermill": {
     "duration": 0.020581,
     "end_time": "2021-04-19T15:24:10.425071",
     "exception": false,
     "start_time": "2021-04-19T15:24:10.404490",
     "status": "completed"
    },
    "tags": []
   },
   "source": [
    "```{'learning_rate': 0.001,\n",
    " 'num_leaves': 236,\n",
    " 'max_depth': 10,\n",
    " 'reg_alpha': 24.851800493638546,\n",
    " 'reg_lambda': 20.10035504769574,\n",
    " 'colsample_bytree': 0.8184743953551142,\n",
    " 'subsample ': 0.4011776137391286,\n",
    " 'cat_smooth': 34.824512621833776,\n",
    " 'random_state': 42,\n",
    " 'metric': 'auc',\n",
    " 'n_estimators': 5000,\n",
    " 'verbosity': -1}```"
   ]
  },
  {
   "cell_type": "code",
   "execution_count": 19,
   "id": "younger-fruit",
   "metadata": {
    "execution": {
     "iopub.execute_input": "2021-04-19T15:24:10.470135Z",
     "iopub.status.busy": "2021-04-19T15:24:10.469574Z",
     "iopub.status.idle": "2021-04-19T15:24:10.473457Z",
     "shell.execute_reply": "2021-04-19T15:24:10.473041Z"
    },
    "papermill": {
     "duration": 0.027895,
     "end_time": "2021-04-19T15:24:10.473564",
     "exception": false,
     "start_time": "2021-04-19T15:24:10.445669",
     "status": "completed"
    },
    "tags": []
   },
   "outputs": [],
   "source": [
    "# X_train, X_test, y_train, y_test = train_test_split(X, y, train_size=0.8, random_state=0)\n",
    "\n",
    "# model = LGBMClassifier(**best_params)\n",
    "# model.fit(X_train, y_train, eval_set=[(X_train, y_train),(X_test, y_test)],\n",
    "#         eval_metric='auc', early_stopping_rounds=200, verbose=500)\n",
    "# preds = model.predict(df_copy[train_len:])"
   ]
  },
  {
   "cell_type": "code",
   "execution_count": 20,
   "id": "suffering-expert",
   "metadata": {
    "execution": {
     "iopub.execute_input": "2021-04-19T15:24:10.520722Z",
     "iopub.status.busy": "2021-04-19T15:24:10.518941Z",
     "iopub.status.idle": "2021-04-19T15:24:10.521301Z",
     "shell.execute_reply": "2021-04-19T15:24:10.521692Z"
    },
    "papermill": {
     "duration": 0.027567,
     "end_time": "2021-04-19T15:24:10.521834",
     "exception": false,
     "start_time": "2021-04-19T15:24:10.494267",
     "status": "completed"
    },
    "tags": []
   },
   "outputs": [],
   "source": [
    "# study.best_trial.params"
   ]
  },
  {
   "cell_type": "code",
   "execution_count": 21,
   "id": "underlying-reference",
   "metadata": {
    "execution": {
     "iopub.execute_input": "2021-04-19T15:24:10.568832Z",
     "iopub.status.busy": "2021-04-19T15:24:10.567161Z",
     "iopub.status.idle": "2021-04-19T15:24:10.569473Z",
     "shell.execute_reply": "2021-04-19T15:24:10.569869Z"
    },
    "papermill": {
     "duration": 0.027323,
     "end_time": "2021-04-19T15:24:10.569992",
     "exception": false,
     "start_time": "2021-04-19T15:24:10.542669",
     "status": "completed"
    },
    "tags": []
   },
   "outputs": [],
   "source": [
    "# preds"
   ]
  },
  {
   "cell_type": "code",
   "execution_count": 22,
   "id": "stuffed-diagram",
   "metadata": {
    "execution": {
     "iopub.execute_input": "2021-04-19T15:24:10.615496Z",
     "iopub.status.busy": "2021-04-19T15:24:10.615000Z",
     "iopub.status.idle": "2021-04-19T15:24:10.618876Z",
     "shell.execute_reply": "2021-04-19T15:24:10.618432Z"
    },
    "papermill": {
     "duration": 0.027975,
     "end_time": "2021-04-19T15:24:10.619019",
     "exception": false,
     "start_time": "2021-04-19T15:24:10.591044",
     "status": "completed"
    },
    "tags": []
   },
   "outputs": [],
   "source": [
    "# submission['Survived'] = preds\n",
    "# submission = submission.set_index('PassengerId')\n",
    "# submission.to_csv(\"april_tps_lgbm(3).csv\")\n",
    "# submission\n"
   ]
  },
  {
   "cell_type": "code",
   "execution_count": null,
   "id": "fuzzy-manhattan",
   "metadata": {
    "papermill": {
     "duration": 0.020912,
     "end_time": "2021-04-19T15:24:10.661005",
     "exception": false,
     "start_time": "2021-04-19T15:24:10.640093",
     "status": "completed"
    },
    "tags": []
   },
   "outputs": [],
   "source": []
  }
 ],
 "metadata": {
  "kernelspec": {
   "display_name": "Python 3",
   "language": "python",
   "name": "python3"
  },
  "language_info": {
   "codemirror_mode": {
    "name": "ipython",
    "version": 3
   },
   "file_extension": ".py",
   "mimetype": "text/x-python",
   "name": "python",
   "nbconvert_exporter": "python",
   "pygments_lexer": "ipython3",
   "version": "3.7.9"
  },
  "papermill": {
   "default_parameters": {},
   "duration": 9.914021,
   "end_time": "2021-04-19T15:24:11.392169",
   "environment_variables": {},
   "exception": null,
   "input_path": "__notebook__.ipynb",
   "output_path": "__notebook__.ipynb",
   "parameters": {},
   "start_time": "2021-04-19T15:24:01.478148",
   "version": "2.3.2"
  }
 },
 "nbformat": 4,
 "nbformat_minor": 5
}
