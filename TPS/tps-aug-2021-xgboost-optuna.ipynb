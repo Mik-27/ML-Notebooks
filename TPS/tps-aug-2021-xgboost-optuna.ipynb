{
 "cells": [
  {
   "cell_type": "code",
   "execution_count": 1,
   "id": "d188eb22",
   "metadata": {
    "execution": {
     "iopub.execute_input": "2021-08-03T08:44:28.213386Z",
     "iopub.status.busy": "2021-08-03T08:44:28.211279Z",
     "iopub.status.idle": "2021-08-03T08:44:30.424238Z",
     "shell.execute_reply": "2021-08-03T08:44:30.423219Z",
     "shell.execute_reply.started": "2021-08-03T07:31:18.150554Z"
    },
    "papermill": {
     "duration": 2.237405,
     "end_time": "2021-08-03T08:44:30.424400",
     "exception": false,
     "start_time": "2021-08-03T08:44:28.186995",
     "status": "completed"
    },
    "tags": []
   },
   "outputs": [],
   "source": [
    "import numpy as np # linear algebra\n",
    "import pandas as pd # data processing, CSV file I/O (e.g. pd.read_csv)\n",
    "from xgboost import XGBRegressor\n",
    "from sklearn.model_selection import train_test_split, KFold\n",
    "from sklearn.metrics import mean_squared_error\n",
    "from sklearn.preprocessing import StandardScaler\n",
    "import optuna\n",
    "from optuna.samplers import TPESampler"
   ]
  },
  {
   "cell_type": "code",
   "execution_count": 2,
   "id": "999af8ac",
   "metadata": {
    "_cell_guid": "b1076dfc-b9ad-4769-8c92-a6c4dae69d19",
    "_kg_hide-input": true,
    "_kg_hide-output": true,
    "_uuid": "8f2839f25d086af736a60e9eeb907d3b93b6e0e5",
    "execution": {
     "iopub.execute_input": "2021-08-03T08:44:30.466267Z",
     "iopub.status.busy": "2021-08-03T08:44:30.465403Z",
     "iopub.status.idle": "2021-08-03T08:44:30.470337Z",
     "shell.execute_reply": "2021-08-03T08:44:30.471098Z",
     "shell.execute_reply.started": "2021-08-03T07:31:24.304938Z"
    },
    "papermill": {
     "duration": 0.03002,
     "end_time": "2021-08-03T08:44:30.471307",
     "exception": false,
     "start_time": "2021-08-03T08:44:30.441287",
     "status": "completed"
    },
    "tags": []
   },
   "outputs": [
    {
     "name": "stdout",
     "output_type": "stream",
     "text": [
      "/kaggle/input/tabular-playground-series-aug-2021/sample_submission.csv\n",
      "/kaggle/input/tabular-playground-series-aug-2021/train.csv\n",
      "/kaggle/input/tabular-playground-series-aug-2021/test.csv\n"
     ]
    }
   ],
   "source": [
    "# This Python 3 environment comes with many helpful analytics libraries installed\n",
    "# It is defined by the kaggle/python Docker image: https://github.com/kaggle/docker-python\n",
    "# For example, here's several helpful packages to load\n",
    "\n",
    "\n",
    "# Input data files are available in the read-only \"../input/\" directory\n",
    "# For example, running this (by clicking run or pressing Shift+Enter) will list all files under the input directory\n",
    "\n",
    "import os\n",
    "for dirname, _, filenames in os.walk('/kaggle/input'):\n",
    "    for filename in filenames:\n",
    "        print(os.path.join(dirname, filename))\n",
    "        \n",
    "OPTUNA = False\n",
    "\n",
    "# You can write up to 20GB to the current directory (/kaggle/working/) that gets preserved as output when you create a version using \"Save & Run All\" \n",
    "# You can also write temporary files to /kaggle/temp/, but they won't be saved outside of the current session"
   ]
  },
  {
   "cell_type": "code",
   "execution_count": 3,
   "id": "ad14ed57",
   "metadata": {
    "execution": {
     "iopub.execute_input": "2021-08-03T08:44:30.512563Z",
     "iopub.status.busy": "2021-08-03T08:44:30.511594Z",
     "iopub.status.idle": "2021-08-03T08:44:40.250930Z",
     "shell.execute_reply": "2021-08-03T08:44:40.250374Z",
     "shell.execute_reply.started": "2021-08-03T07:31:25.334672Z"
    },
    "papermill": {
     "duration": 9.760401,
     "end_time": "2021-08-03T08:44:40.251118",
     "exception": false,
     "start_time": "2021-08-03T08:44:30.490717",
     "status": "completed"
    },
    "tags": []
   },
   "outputs": [
    {
     "data": {
      "text/html": [
       "<div>\n",
       "<style scoped>\n",
       "    .dataframe tbody tr th:only-of-type {\n",
       "        vertical-align: middle;\n",
       "    }\n",
       "\n",
       "    .dataframe tbody tr th {\n",
       "        vertical-align: top;\n",
       "    }\n",
       "\n",
       "    .dataframe thead th {\n",
       "        text-align: right;\n",
       "    }\n",
       "</style>\n",
       "<table border=\"1\" class=\"dataframe\">\n",
       "  <thead>\n",
       "    <tr style=\"text-align: right;\">\n",
       "      <th></th>\n",
       "      <th>id</th>\n",
       "      <th>f0</th>\n",
       "      <th>f1</th>\n",
       "      <th>f2</th>\n",
       "      <th>f3</th>\n",
       "      <th>f4</th>\n",
       "      <th>f5</th>\n",
       "      <th>f6</th>\n",
       "      <th>f7</th>\n",
       "      <th>f8</th>\n",
       "      <th>...</th>\n",
       "      <th>f91</th>\n",
       "      <th>f92</th>\n",
       "      <th>f93</th>\n",
       "      <th>f94</th>\n",
       "      <th>f95</th>\n",
       "      <th>f96</th>\n",
       "      <th>f97</th>\n",
       "      <th>f98</th>\n",
       "      <th>f99</th>\n",
       "      <th>loss</th>\n",
       "    </tr>\n",
       "  </thead>\n",
       "  <tbody>\n",
       "    <tr>\n",
       "      <th>0</th>\n",
       "      <td>0</td>\n",
       "      <td>-0.002350</td>\n",
       "      <td>59</td>\n",
       "      <td>0.766739</td>\n",
       "      <td>-1.350460</td>\n",
       "      <td>42.2727</td>\n",
       "      <td>16.68570</td>\n",
       "      <td>30.3599</td>\n",
       "      <td>1.267300</td>\n",
       "      <td>0.392007</td>\n",
       "      <td>...</td>\n",
       "      <td>-42.43990</td>\n",
       "      <td>26.854000</td>\n",
       "      <td>1.45751</td>\n",
       "      <td>0.696161</td>\n",
       "      <td>0.941764</td>\n",
       "      <td>1.828470</td>\n",
       "      <td>0.924090</td>\n",
       "      <td>2.29658</td>\n",
       "      <td>10.48980</td>\n",
       "      <td>15</td>\n",
       "    </tr>\n",
       "    <tr>\n",
       "      <th>1</th>\n",
       "      <td>1</td>\n",
       "      <td>0.784462</td>\n",
       "      <td>145</td>\n",
       "      <td>-0.463845</td>\n",
       "      <td>-0.530421</td>\n",
       "      <td>27324.9000</td>\n",
       "      <td>3.47545</td>\n",
       "      <td>160.4980</td>\n",
       "      <td>0.828007</td>\n",
       "      <td>3.735860</td>\n",
       "      <td>...</td>\n",
       "      <td>-184.13200</td>\n",
       "      <td>7.901370</td>\n",
       "      <td>1.70644</td>\n",
       "      <td>-0.494699</td>\n",
       "      <td>-2.058300</td>\n",
       "      <td>0.819184</td>\n",
       "      <td>0.439152</td>\n",
       "      <td>2.36470</td>\n",
       "      <td>1.14383</td>\n",
       "      <td>3</td>\n",
       "    </tr>\n",
       "    <tr>\n",
       "      <th>2</th>\n",
       "      <td>2</td>\n",
       "      <td>0.317816</td>\n",
       "      <td>19</td>\n",
       "      <td>-0.432571</td>\n",
       "      <td>-0.382644</td>\n",
       "      <td>1383.2600</td>\n",
       "      <td>19.71290</td>\n",
       "      <td>31.1026</td>\n",
       "      <td>-0.515354</td>\n",
       "      <td>34.430800</td>\n",
       "      <td>...</td>\n",
       "      <td>7.43721</td>\n",
       "      <td>37.218100</td>\n",
       "      <td>3.25339</td>\n",
       "      <td>0.337934</td>\n",
       "      <td>0.615037</td>\n",
       "      <td>2.216760</td>\n",
       "      <td>0.745268</td>\n",
       "      <td>1.69679</td>\n",
       "      <td>12.30550</td>\n",
       "      <td>6</td>\n",
       "    </tr>\n",
       "    <tr>\n",
       "      <th>3</th>\n",
       "      <td>3</td>\n",
       "      <td>0.210753</td>\n",
       "      <td>17</td>\n",
       "      <td>-0.616454</td>\n",
       "      <td>0.946362</td>\n",
       "      <td>-119.2530</td>\n",
       "      <td>4.08235</td>\n",
       "      <td>185.2570</td>\n",
       "      <td>1.383310</td>\n",
       "      <td>-47.521400</td>\n",
       "      <td>...</td>\n",
       "      <td>9.66778</td>\n",
       "      <td>0.626942</td>\n",
       "      <td>1.49425</td>\n",
       "      <td>0.517513</td>\n",
       "      <td>-10.222100</td>\n",
       "      <td>2.627310</td>\n",
       "      <td>0.617270</td>\n",
       "      <td>1.45645</td>\n",
       "      <td>10.02880</td>\n",
       "      <td>2</td>\n",
       "    </tr>\n",
       "    <tr>\n",
       "      <th>4</th>\n",
       "      <td>4</td>\n",
       "      <td>0.439671</td>\n",
       "      <td>20</td>\n",
       "      <td>0.968126</td>\n",
       "      <td>-0.092546</td>\n",
       "      <td>74.3020</td>\n",
       "      <td>12.30650</td>\n",
       "      <td>72.1860</td>\n",
       "      <td>-0.233964</td>\n",
       "      <td>24.399100</td>\n",
       "      <td>...</td>\n",
       "      <td>290.65700</td>\n",
       "      <td>15.604300</td>\n",
       "      <td>1.73557</td>\n",
       "      <td>-0.476668</td>\n",
       "      <td>1.390190</td>\n",
       "      <td>2.195740</td>\n",
       "      <td>0.826987</td>\n",
       "      <td>1.78485</td>\n",
       "      <td>7.07197</td>\n",
       "      <td>1</td>\n",
       "    </tr>\n",
       "  </tbody>\n",
       "</table>\n",
       "<p>5 rows × 102 columns</p>\n",
       "</div>"
      ],
      "text/plain": [
       "   id        f0   f1        f2        f3          f4        f5        f6  \\\n",
       "0   0 -0.002350   59  0.766739 -1.350460     42.2727  16.68570   30.3599   \n",
       "1   1  0.784462  145 -0.463845 -0.530421  27324.9000   3.47545  160.4980   \n",
       "2   2  0.317816   19 -0.432571 -0.382644   1383.2600  19.71290   31.1026   \n",
       "3   3  0.210753   17 -0.616454  0.946362   -119.2530   4.08235  185.2570   \n",
       "4   4  0.439671   20  0.968126 -0.092546     74.3020  12.30650   72.1860   \n",
       "\n",
       "         f7         f8  ...        f91        f92      f93       f94  \\\n",
       "0  1.267300   0.392007  ...  -42.43990  26.854000  1.45751  0.696161   \n",
       "1  0.828007   3.735860  ... -184.13200   7.901370  1.70644 -0.494699   \n",
       "2 -0.515354  34.430800  ...    7.43721  37.218100  3.25339  0.337934   \n",
       "3  1.383310 -47.521400  ...    9.66778   0.626942  1.49425  0.517513   \n",
       "4 -0.233964  24.399100  ...  290.65700  15.604300  1.73557 -0.476668   \n",
       "\n",
       "         f95       f96       f97      f98       f99  loss  \n",
       "0   0.941764  1.828470  0.924090  2.29658  10.48980    15  \n",
       "1  -2.058300  0.819184  0.439152  2.36470   1.14383     3  \n",
       "2   0.615037  2.216760  0.745268  1.69679  12.30550     6  \n",
       "3 -10.222100  2.627310  0.617270  1.45645  10.02880     2  \n",
       "4   1.390190  2.195740  0.826987  1.78485   7.07197     1  \n",
       "\n",
       "[5 rows x 102 columns]"
      ]
     },
     "execution_count": 3,
     "metadata": {},
     "output_type": "execute_result"
    }
   ],
   "source": [
    "train = pd.read_csv('/kaggle/input/tabular-playground-series-aug-2021/train.csv')\n",
    "test = pd.read_csv('/kaggle/input/tabular-playground-series-aug-2021/test.csv')\n",
    "train.head()"
   ]
  },
  {
   "cell_type": "code",
   "execution_count": 4,
   "id": "7a5dfbbb",
   "metadata": {
    "execution": {
     "iopub.execute_input": "2021-08-03T08:44:40.315422Z",
     "iopub.status.busy": "2021-08-03T08:44:40.314211Z",
     "iopub.status.idle": "2021-08-03T08:44:40.362602Z",
     "shell.execute_reply": "2021-08-03T08:44:40.367195Z",
     "shell.execute_reply.started": "2021-08-03T07:31:35.600656Z"
    },
    "papermill": {
     "duration": 0.097255,
     "end_time": "2021-08-03T08:44:40.367841",
     "exception": false,
     "start_time": "2021-08-03T08:44:40.270586",
     "status": "completed"
    },
    "tags": []
   },
   "outputs": [
    {
     "data": {
      "text/html": [
       "<div>\n",
       "<style scoped>\n",
       "    .dataframe tbody tr th:only-of-type {\n",
       "        vertical-align: middle;\n",
       "    }\n",
       "\n",
       "    .dataframe tbody tr th {\n",
       "        vertical-align: top;\n",
       "    }\n",
       "\n",
       "    .dataframe thead th {\n",
       "        text-align: right;\n",
       "    }\n",
       "</style>\n",
       "<table border=\"1\" class=\"dataframe\">\n",
       "  <thead>\n",
       "    <tr style=\"text-align: right;\">\n",
       "      <th></th>\n",
       "      <th>id</th>\n",
       "      <th>f0</th>\n",
       "      <th>f1</th>\n",
       "      <th>f2</th>\n",
       "      <th>f3</th>\n",
       "      <th>f4</th>\n",
       "      <th>f5</th>\n",
       "      <th>f6</th>\n",
       "      <th>f7</th>\n",
       "      <th>f8</th>\n",
       "      <th>...</th>\n",
       "      <th>f90</th>\n",
       "      <th>f91</th>\n",
       "      <th>f92</th>\n",
       "      <th>f93</th>\n",
       "      <th>f94</th>\n",
       "      <th>f95</th>\n",
       "      <th>f96</th>\n",
       "      <th>f97</th>\n",
       "      <th>f98</th>\n",
       "      <th>f99</th>\n",
       "    </tr>\n",
       "  </thead>\n",
       "  <tbody>\n",
       "    <tr>\n",
       "      <th>0</th>\n",
       "      <td>250000</td>\n",
       "      <td>0.812665</td>\n",
       "      <td>15</td>\n",
       "      <td>-1.239120</td>\n",
       "      <td>-0.893251</td>\n",
       "      <td>295.5770</td>\n",
       "      <td>15.87120</td>\n",
       "      <td>23.04360</td>\n",
       "      <td>0.942256</td>\n",
       "      <td>29.898000</td>\n",
       "      <td>...</td>\n",
       "      <td>0.446389</td>\n",
       "      <td>-422.332</td>\n",
       "      <td>-1.44630</td>\n",
       "      <td>1.69075</td>\n",
       "      <td>1.059300</td>\n",
       "      <td>-3.010570</td>\n",
       "      <td>1.94664</td>\n",
       "      <td>0.529470</td>\n",
       "      <td>1.386950</td>\n",
       "      <td>8.78767</td>\n",
       "    </tr>\n",
       "    <tr>\n",
       "      <th>1</th>\n",
       "      <td>250001</td>\n",
       "      <td>0.190344</td>\n",
       "      <td>131</td>\n",
       "      <td>-0.501361</td>\n",
       "      <td>0.801921</td>\n",
       "      <td>64.8866</td>\n",
       "      <td>3.09703</td>\n",
       "      <td>344.80500</td>\n",
       "      <td>0.807194</td>\n",
       "      <td>38.421900</td>\n",
       "      <td>...</td>\n",
       "      <td>0.377179</td>\n",
       "      <td>10352.200</td>\n",
       "      <td>21.06270</td>\n",
       "      <td>1.84351</td>\n",
       "      <td>0.251895</td>\n",
       "      <td>4.440570</td>\n",
       "      <td>1.90309</td>\n",
       "      <td>0.248534</td>\n",
       "      <td>0.863881</td>\n",
       "      <td>11.79390</td>\n",
       "    </tr>\n",
       "    <tr>\n",
       "      <th>2</th>\n",
       "      <td>250002</td>\n",
       "      <td>0.919671</td>\n",
       "      <td>19</td>\n",
       "      <td>-0.057382</td>\n",
       "      <td>0.901419</td>\n",
       "      <td>11961.2000</td>\n",
       "      <td>16.39650</td>\n",
       "      <td>273.24000</td>\n",
       "      <td>-0.003300</td>\n",
       "      <td>37.940000</td>\n",
       "      <td>...</td>\n",
       "      <td>0.990140</td>\n",
       "      <td>3224.020</td>\n",
       "      <td>-2.25287</td>\n",
       "      <td>1.55100</td>\n",
       "      <td>-0.559157</td>\n",
       "      <td>17.838600</td>\n",
       "      <td>1.83385</td>\n",
       "      <td>0.931796</td>\n",
       "      <td>2.336870</td>\n",
       "      <td>9.05400</td>\n",
       "    </tr>\n",
       "    <tr>\n",
       "      <th>3</th>\n",
       "      <td>250003</td>\n",
       "      <td>0.860985</td>\n",
       "      <td>19</td>\n",
       "      <td>-0.549509</td>\n",
       "      <td>0.471799</td>\n",
       "      <td>7501.6000</td>\n",
       "      <td>2.80698</td>\n",
       "      <td>71.08170</td>\n",
       "      <td>0.792136</td>\n",
       "      <td>0.395235</td>\n",
       "      <td>...</td>\n",
       "      <td>1.396880</td>\n",
       "      <td>9689.760</td>\n",
       "      <td>14.77150</td>\n",
       "      <td>1.41390</td>\n",
       "      <td>0.329272</td>\n",
       "      <td>0.802437</td>\n",
       "      <td>2.23251</td>\n",
       "      <td>0.893348</td>\n",
       "      <td>1.359470</td>\n",
       "      <td>4.84833</td>\n",
       "    </tr>\n",
       "    <tr>\n",
       "      <th>4</th>\n",
       "      <td>250004</td>\n",
       "      <td>0.313229</td>\n",
       "      <td>89</td>\n",
       "      <td>0.588509</td>\n",
       "      <td>0.167705</td>\n",
       "      <td>2931.2600</td>\n",
       "      <td>4.34986</td>\n",
       "      <td>1.57187</td>\n",
       "      <td>1.118300</td>\n",
       "      <td>7.754630</td>\n",
       "      <td>...</td>\n",
       "      <td>0.862502</td>\n",
       "      <td>2693.350</td>\n",
       "      <td>44.18050</td>\n",
       "      <td>1.58020</td>\n",
       "      <td>-0.191021</td>\n",
       "      <td>26.253000</td>\n",
       "      <td>2.68238</td>\n",
       "      <td>0.361923</td>\n",
       "      <td>1.532800</td>\n",
       "      <td>3.70660</td>\n",
       "    </tr>\n",
       "  </tbody>\n",
       "</table>\n",
       "<p>5 rows × 101 columns</p>\n",
       "</div>"
      ],
      "text/plain": [
       "       id        f0   f1        f2        f3          f4        f5         f6  \\\n",
       "0  250000  0.812665   15 -1.239120 -0.893251    295.5770  15.87120   23.04360   \n",
       "1  250001  0.190344  131 -0.501361  0.801921     64.8866   3.09703  344.80500   \n",
       "2  250002  0.919671   19 -0.057382  0.901419  11961.2000  16.39650  273.24000   \n",
       "3  250003  0.860985   19 -0.549509  0.471799   7501.6000   2.80698   71.08170   \n",
       "4  250004  0.313229   89  0.588509  0.167705   2931.2600   4.34986    1.57187   \n",
       "\n",
       "         f7         f8  ...       f90        f91       f92      f93       f94  \\\n",
       "0  0.942256  29.898000  ...  0.446389   -422.332  -1.44630  1.69075  1.059300   \n",
       "1  0.807194  38.421900  ...  0.377179  10352.200  21.06270  1.84351  0.251895   \n",
       "2 -0.003300  37.940000  ...  0.990140   3224.020  -2.25287  1.55100 -0.559157   \n",
       "3  0.792136   0.395235  ...  1.396880   9689.760  14.77150  1.41390  0.329272   \n",
       "4  1.118300   7.754630  ...  0.862502   2693.350  44.18050  1.58020 -0.191021   \n",
       "\n",
       "         f95      f96       f97       f98       f99  \n",
       "0  -3.010570  1.94664  0.529470  1.386950   8.78767  \n",
       "1   4.440570  1.90309  0.248534  0.863881  11.79390  \n",
       "2  17.838600  1.83385  0.931796  2.336870   9.05400  \n",
       "3   0.802437  2.23251  0.893348  1.359470   4.84833  \n",
       "4  26.253000  2.68238  0.361923  1.532800   3.70660  \n",
       "\n",
       "[5 rows x 101 columns]"
      ]
     },
     "execution_count": 4,
     "metadata": {},
     "output_type": "execute_result"
    }
   ],
   "source": [
    "test.head()"
   ]
  },
  {
   "cell_type": "code",
   "execution_count": 5,
   "id": "68a910ed",
   "metadata": {
    "_kg_hide-output": true,
    "execution": {
     "iopub.execute_input": "2021-08-03T08:44:40.453729Z",
     "iopub.status.busy": "2021-08-03T08:44:40.452448Z",
     "iopub.status.idle": "2021-08-03T08:44:40.532466Z",
     "shell.execute_reply": "2021-08-03T08:44:40.534076Z",
     "shell.execute_reply.started": "2021-08-03T07:31:35.630330Z"
    },
    "papermill": {
     "duration": 0.129901,
     "end_time": "2021-08-03T08:44:40.534364",
     "exception": false,
     "start_time": "2021-08-03T08:44:40.404463",
     "status": "completed"
    },
    "tags": []
   },
   "outputs": [
    {
     "data": {
      "text/plain": [
       "id      0\n",
       "f0      0\n",
       "f1      0\n",
       "f2      0\n",
       "f3      0\n",
       "       ..\n",
       "f96     0\n",
       "f97     0\n",
       "f98     0\n",
       "f99     0\n",
       "loss    0\n",
       "Length: 102, dtype: int64"
      ]
     },
     "execution_count": 5,
     "metadata": {},
     "output_type": "execute_result"
    }
   ],
   "source": [
    "train.isnull().sum()"
   ]
  },
  {
   "cell_type": "code",
   "execution_count": 6,
   "id": "c62d38f4",
   "metadata": {
    "_kg_hide-output": true,
    "execution": {
     "iopub.execute_input": "2021-08-03T08:44:40.639437Z",
     "iopub.status.busy": "2021-08-03T08:44:40.637013Z",
     "iopub.status.idle": "2021-08-03T08:44:40.690178Z",
     "shell.execute_reply": "2021-08-03T08:44:40.691571Z",
     "shell.execute_reply.started": "2021-08-03T07:31:35.684565Z"
    },
    "papermill": {
     "duration": 0.107267,
     "end_time": "2021-08-03T08:44:40.691814",
     "exception": false,
     "start_time": "2021-08-03T08:44:40.584547",
     "status": "completed"
    },
    "tags": []
   },
   "outputs": [
    {
     "data": {
      "text/plain": [
       "id     0\n",
       "f0     0\n",
       "f1     0\n",
       "f2     0\n",
       "f3     0\n",
       "      ..\n",
       "f95    0\n",
       "f96    0\n",
       "f97    0\n",
       "f98    0\n",
       "f99    0\n",
       "Length: 101, dtype: int64"
      ]
     },
     "execution_count": 6,
     "metadata": {},
     "output_type": "execute_result"
    }
   ],
   "source": [
    "test.isnull().sum()"
   ]
  },
  {
   "cell_type": "code",
   "execution_count": 7,
   "id": "6b7645a0",
   "metadata": {
    "execution": {
     "iopub.execute_input": "2021-08-03T08:44:40.893015Z",
     "iopub.status.busy": "2021-08-03T08:44:40.854845Z",
     "iopub.status.idle": "2021-08-03T08:44:40.898551Z",
     "shell.execute_reply": "2021-08-03T08:44:40.897687Z",
     "shell.execute_reply.started": "2021-08-03T08:27:48.145361Z"
    },
    "papermill": {
     "duration": 0.168936,
     "end_time": "2021-08-03T08:44:40.898773",
     "exception": false,
     "start_time": "2021-08-03T08:44:40.729837",
     "status": "completed"
    },
    "tags": []
   },
   "outputs": [],
   "source": [
    "X = train.drop(['id', 'loss'], axis=1)\n",
    "y = train['loss']\n",
    "X_test = test.drop(['id'], axis=1)"
   ]
  },
  {
   "cell_type": "code",
   "execution_count": 8,
   "id": "e7ecb37a",
   "metadata": {
    "execution": {
     "iopub.execute_input": "2021-08-03T08:44:40.980376Z",
     "iopub.status.busy": "2021-08-03T08:44:40.979347Z",
     "iopub.status.idle": "2021-08-03T08:44:41.953432Z",
     "shell.execute_reply": "2021-08-03T08:44:41.952794Z",
     "shell.execute_reply.started": "2021-08-03T08:27:48.604663Z"
    },
    "papermill": {
     "duration": 1.019359,
     "end_time": "2021-08-03T08:44:41.953594",
     "exception": false,
     "start_time": "2021-08-03T08:44:40.934235",
     "status": "completed"
    },
    "tags": []
   },
   "outputs": [],
   "source": [
    "scaler = StandardScaler()\n",
    "X = scaler.fit_transform(X)\n",
    "X_test = scaler.transform(X_test)"
   ]
  },
  {
   "cell_type": "code",
   "execution_count": 9,
   "id": "868516f0",
   "metadata": {
    "execution": {
     "iopub.execute_input": "2021-08-03T08:44:42.004837Z",
     "iopub.status.busy": "2021-08-03T08:44:42.004009Z",
     "iopub.status.idle": "2021-08-03T08:44:42.007645Z",
     "shell.execute_reply": "2021-08-03T08:44:42.008164Z",
     "shell.execute_reply.started": "2021-08-03T07:33:12.581146Z"
    },
    "papermill": {
     "duration": 0.033884,
     "end_time": "2021-08-03T08:44:42.008321",
     "exception": false,
     "start_time": "2021-08-03T08:44:41.974437",
     "status": "completed"
    },
    "tags": []
   },
   "outputs": [],
   "source": [
    "def objective(trial, data=X, target=y):\n",
    "    \n",
    "    X_train, X_val, y_train, y_val = train_test_split(X, y, train_size=0.8, random_state=0)\n",
    "    \n",
    "    params = {\n",
    "        'max_depth': trial.suggest_int('max_depth', 3, 10),\n",
    "        'learning_rate': trial.suggest_categorical('learning_rate', [0.005, 0.02, 0.05, 0.08, 0.1]),\n",
    "        'n_estimators': 4000,\n",
    "        'min_child_weight': trial.suggest_int('min_child_weight', 1, 300),\n",
    "        'gamma': trial.suggest_float('gamma', 1e-5, 1.0, log = True),\n",
    "        'alpha': trial.suggest_float('alpha', 1e-5, 10.0, log = True),\n",
    "        'lambda': trial.suggest_float('lambda', 1e-5, 10.0, log = True),\n",
    "        'colsample_bytree': trial.suggest_float('colsample_bytree', 0.1, 0.8),\n",
    "        'subsample': trial.suggest_float('subsample', 0.1, 0.8),\n",
    "        'tree_method': 'gpu_hist',\n",
    "        'booster': 'gbtree',\n",
    "        'random_state': 42,\n",
    "        'use_label_encoder': False,\n",
    "#         'eval_metric': 'rmse'\n",
    "    }\n",
    "    \n",
    "    xgb_model = XGBRegressor(**params)\n",
    "    \n",
    "    xgb_model.fit(X_train, y_train,\n",
    "                 early_stopping_rounds = 200,\n",
    "                 eval_set=[(X_val, y_val)],\n",
    "                 eval_metric='rmse',\n",
    "                 verbose=False)\n",
    "    \n",
    "    preds = xgb_model.predict(X_val)\n",
    "    \n",
    "    return mean_squared_error(y_val, preds, squared=False)"
   ]
  },
  {
   "cell_type": "code",
   "execution_count": 10,
   "id": "b3e21a4d",
   "metadata": {
    "_kg_hide-output": true,
    "execution": {
     "iopub.execute_input": "2021-08-03T08:44:42.054551Z",
     "iopub.status.busy": "2021-08-03T08:44:42.053839Z",
     "iopub.status.idle": "2021-08-03T08:44:42.058846Z",
     "shell.execute_reply": "2021-08-03T08:44:42.058343Z",
     "shell.execute_reply.started": "2021-08-03T07:33:13.724801Z"
    },
    "papermill": {
     "duration": 0.029801,
     "end_time": "2021-08-03T08:44:42.058989",
     "exception": false,
     "start_time": "2021-08-03T08:44:42.029188",
     "status": "completed"
    },
    "tags": []
   },
   "outputs": [],
   "source": [
    "if OPTUNA:\n",
    "    TIME = 1 * 30 * 60 # h * m * s\n",
    "    study = optuna.create_study(direction='minimize', sampler=TPESampler(), study_name='xgbregressor')\n",
    "    study.optimize(objective, n_trials=30)\n"
   ]
  },
  {
   "cell_type": "code",
   "execution_count": 11,
   "id": "0bda5ea1",
   "metadata": {
    "execution": {
     "iopub.execute_input": "2021-08-03T08:44:42.103166Z",
     "iopub.status.busy": "2021-08-03T08:44:42.102458Z",
     "iopub.status.idle": "2021-08-03T08:44:42.107210Z",
     "shell.execute_reply": "2021-08-03T08:44:42.107896Z",
     "shell.execute_reply.started": "2021-08-03T07:59:01.425815Z"
    },
    "papermill": {
     "duration": 0.0291,
     "end_time": "2021-08-03T08:44:42.108146",
     "exception": false,
     "start_time": "2021-08-03T08:44:42.079046",
     "status": "completed"
    },
    "tags": []
   },
   "outputs": [],
   "source": [
    "if OPTUNA:\n",
    "    best_params = study.best_trial.params"
   ]
  },
  {
   "cell_type": "markdown",
   "id": "b80c8429",
   "metadata": {
    "papermill": {
     "duration": 0.020185,
     "end_time": "2021-08-03T08:44:42.148575",
     "exception": false,
     "start_time": "2021-08-03T08:44:42.128390",
     "status": "completed"
    },
    "tags": []
   },
   "source": [
    "`{'max_depth': 10,\n",
    " 'learning_rate': 0.005,\n",
    " 'min_child_weight': 300,\n",
    " 'gamma': 0.0009284956972705897,\n",
    " 'alpha': 0.0005237330351000966,\n",
    " 'lambda': 0.00011494884725082336,\n",
    " 'colsample_bytree': 0.2804762665363134,\n",
    " 'subsample': 0.4058810101637117}`"
   ]
  },
  {
   "cell_type": "code",
   "execution_count": 12,
   "id": "0ffd6556",
   "metadata": {
    "execution": {
     "iopub.execute_input": "2021-08-03T08:44:42.192807Z",
     "iopub.status.busy": "2021-08-03T08:44:42.192057Z",
     "iopub.status.idle": "2021-08-03T08:44:42.197159Z",
     "shell.execute_reply": "2021-08-03T08:44:42.196591Z",
     "shell.execute_reply.started": "2021-08-03T07:57:59.885239Z"
    },
    "papermill": {
     "duration": 0.029138,
     "end_time": "2021-08-03T08:44:42.197393",
     "exception": false,
     "start_time": "2021-08-03T08:44:42.168255",
     "status": "completed"
    },
    "tags": []
   },
   "outputs": [],
   "source": [
    "if OPTUNA:\n",
    "    optuna.visualization.plot_optimization_history(study)"
   ]
  },
  {
   "cell_type": "code",
   "execution_count": 13,
   "id": "fc859897",
   "metadata": {
    "execution": {
     "iopub.execute_input": "2021-08-03T08:44:42.241893Z",
     "iopub.status.busy": "2021-08-03T08:44:42.241228Z",
     "iopub.status.idle": "2021-08-03T08:44:42.246028Z",
     "shell.execute_reply": "2021-08-03T08:44:42.245467Z",
     "shell.execute_reply.started": "2021-08-03T07:58:24.525617Z"
    },
    "papermill": {
     "duration": 0.028516,
     "end_time": "2021-08-03T08:44:42.246167",
     "exception": false,
     "start_time": "2021-08-03T08:44:42.217651",
     "status": "completed"
    },
    "tags": []
   },
   "outputs": [],
   "source": [
    "if OPTUNA:\n",
    "    optuna.visualization.plot_param_importances(study)\n"
   ]
  },
  {
   "cell_type": "code",
   "execution_count": 14,
   "id": "1c59d7b7",
   "metadata": {
    "execution": {
     "iopub.execute_input": "2021-08-03T08:44:42.294253Z",
     "iopub.status.busy": "2021-08-03T08:44:42.293542Z",
     "iopub.status.idle": "2021-08-03T08:44:42.298291Z",
     "shell.execute_reply": "2021-08-03T08:44:42.298799Z",
     "shell.execute_reply.started": "2021-08-03T07:59:09.275672Z"
    },
    "papermill": {
     "duration": 0.032912,
     "end_time": "2021-08-03T08:44:42.298954",
     "exception": false,
     "start_time": "2021-08-03T08:44:42.266042",
     "status": "completed"
    },
    "tags": []
   },
   "outputs": [],
   "source": [
    "if OPTUNA:\n",
    "    best_params['tree_method'] = 'gpu_hist'\n",
    "    best_params['booster'] = 'gbtree'\n",
    "    best_params['eval_metric'] = 'rmse'\n",
    "    best_params['random_state'] = 42\n",
    "    best_params['use_label_encoder'] = False\n",
    "#     best_params\n",
    "else:\n",
    "    best_params = {'max_depth': 10,\n",
    "                 'learning_rate': 0.005,\n",
    "                 'min_child_weight': 300,\n",
    "                 'gamma': 0.0009284956972705897,\n",
    "                 'alpha': 0.0005237330351000966,\n",
    "                 'lambda': 0.00011494884725082336,\n",
    "                 'colsample_bytree': 0.2804762665363134,\n",
    "                 'subsample': 0.4058810101637117,\n",
    "                 'tree_method': 'gpu_hist',\n",
    "                 'booster': 'gbtree',\n",
    "                 'eval_metric': 'rmse',\n",
    "                 'random_state': 42,\n",
    "                 'use_label_encoder': False}"
   ]
  },
  {
   "cell_type": "markdown",
   "id": "7f0e261c",
   "metadata": {
    "papermill": {
     "duration": 0.01989,
     "end_time": "2021-08-03T08:44:42.338477",
     "exception": false,
     "start_time": "2021-08-03T08:44:42.318587",
     "status": "completed"
    },
    "tags": []
   },
   "source": [
    "`{'max_depth': 10,\n",
    " 'learning_rate': 0.005,\n",
    " 'min_child_weight': 300,\n",
    " 'gamma': 0.0009284956972705897,\n",
    " 'alpha': 0.0005237330351000966,\n",
    " 'lambda': 0.00011494884725082336,\n",
    " 'colsample_bytree': 0.2804762665363134,\n",
    " 'subsample': 0.4058810101637117,\n",
    " 'tree_method': 'gpu_hist',\n",
    " 'booster': 'gbtree',\n",
    " 'eval_metric': 'rmse',\n",
    " 'random_state': 42,\n",
    " 'use_label_encoder': False}`"
   ]
  },
  {
   "cell_type": "code",
   "execution_count": 15,
   "id": "aa09f353",
   "metadata": {
    "execution": {
     "iopub.execute_input": "2021-08-03T08:44:42.389736Z",
     "iopub.status.busy": "2021-08-03T08:44:42.388608Z",
     "iopub.status.idle": "2021-08-03T08:45:27.640090Z",
     "shell.execute_reply": "2021-08-03T08:45:27.639510Z",
     "shell.execute_reply.started": "2021-08-03T08:36:28.801746Z"
    },
    "papermill": {
     "duration": 45.281203,
     "end_time": "2021-08-03T08:45:27.640250",
     "exception": false,
     "start_time": "2021-08-03T08:44:42.359047",
     "status": "completed"
    },
    "tags": []
   },
   "outputs": [
    {
     "name": "stdout",
     "output_type": "stream",
     "text": [
      "Fold 0:\n",
      "LogLoss: 8.82459373600536\n",
      "(150000,)\n",
      "Fold 1:\n",
      "LogLoss: 8.683935114237\n",
      "(150000,)\n",
      "Fold 2:\n",
      "LogLoss: 8.852925120447443\n",
      "(150000,)\n",
      "Fold 3:\n",
      "LogLoss: 8.7991684351624\n",
      "(150000,)\n",
      "Fold 4:\n",
      "LogLoss: 8.799300477349158\n",
      "(150000,)\n",
      "Fold 5:\n",
      "LogLoss: 8.842783522942486\n",
      "(150000,)\n",
      "Fold 6:\n",
      "LogLoss: 8.796654371780248\n",
      "(150000,)\n",
      "Fold 7:\n",
      "LogLoss: 8.81803847854558\n",
      "(150000,)\n",
      "Fold 8:\n",
      "LogLoss: 8.824325065638122\n",
      "(150000,)\n",
      "Fold 9:\n",
      "LogLoss: 8.757520243665203\n",
      "(150000,)\n"
     ]
    }
   ],
   "source": [
    "preds = np.zeros(test.shape[0])\n",
    "rmses = []\n",
    "\n",
    "skf = KFold(n_splits=10, shuffle=True, random_state=42)\n",
    "\n",
    "for fold, (train_idx, val_idx) in enumerate(skf.split(X, y)):\n",
    "    \n",
    "    print(\"Fold {}:\".format(fold))\n",
    "    \n",
    "    X_train, X_val = X[train_idx], X[val_idx]\n",
    "    y_train, y_val = y[train_idx], y[val_idx]\n",
    "    \n",
    "    model = XGBRegressor(**best_params)\n",
    "    \n",
    "    model.fit(X_train, y_train,\n",
    "             early_stopping_rounds=200,\n",
    "             eval_set=[(X_val, y_val)],\n",
    "             eval_metric='rmse',\n",
    "             verbose=False)\n",
    "    rmse = mean_squared_error(y_val, model.predict(X_val), squared=False)\n",
    "    print(\"LogLoss: {}\".format(rmse))\n",
    "    rmses.append(rmse)\n",
    "    print(model.predict(X_test).shape)\n",
    "    preds += model.predict(X_test)\n",
    "    \n",
    "preds /= skf.n_splits"
   ]
  },
  {
   "cell_type": "code",
   "execution_count": 16,
   "id": "827521e4",
   "metadata": {
    "execution": {
     "iopub.execute_input": "2021-08-03T08:45:27.704682Z",
     "iopub.status.busy": "2021-08-03T08:45:27.704078Z",
     "iopub.status.idle": "2021-08-03T08:45:27.709652Z",
     "shell.execute_reply": "2021-08-03T08:45:27.710275Z",
     "shell.execute_reply.started": "2021-08-03T08:41:36.410805Z"
    },
    "papermill": {
     "duration": 0.039661,
     "end_time": "2021-08-03T08:45:27.710417",
     "exception": false,
     "start_time": "2021-08-03T08:45:27.670756",
     "status": "completed"
    },
    "tags": []
   },
   "outputs": [
    {
     "name": "stdout",
     "output_type": "stream",
     "text": [
      "Average RMSE: 8.7999244565773\n"
     ]
    }
   ],
   "source": [
    "print(\"Average RMSE: {}\".format(np.mean(rmses)))"
   ]
  },
  {
   "cell_type": "code",
   "execution_count": 17,
   "id": "3f30d3b9",
   "metadata": {
    "execution": {
     "iopub.execute_input": "2021-08-03T08:45:27.774363Z",
     "iopub.status.busy": "2021-08-03T08:45:27.773558Z",
     "iopub.status.idle": "2021-08-03T08:45:28.329594Z",
     "shell.execute_reply": "2021-08-03T08:45:28.328584Z",
     "shell.execute_reply.started": "2021-08-03T08:43:33.976280Z"
    },
    "papermill": {
     "duration": 0.589554,
     "end_time": "2021-08-03T08:45:28.329795",
     "exception": false,
     "start_time": "2021-08-03T08:45:27.740241",
     "status": "completed"
    },
    "tags": []
   },
   "outputs": [
    {
     "data": {
      "text/html": [
       "<div>\n",
       "<style scoped>\n",
       "    .dataframe tbody tr th:only-of-type {\n",
       "        vertical-align: middle;\n",
       "    }\n",
       "\n",
       "    .dataframe tbody tr th {\n",
       "        vertical-align: top;\n",
       "    }\n",
       "\n",
       "    .dataframe thead th {\n",
       "        text-align: right;\n",
       "    }\n",
       "</style>\n",
       "<table border=\"1\" class=\"dataframe\">\n",
       "  <thead>\n",
       "    <tr style=\"text-align: right;\">\n",
       "      <th></th>\n",
       "      <th>id</th>\n",
       "      <th>loss</th>\n",
       "    </tr>\n",
       "  </thead>\n",
       "  <tbody>\n",
       "    <tr>\n",
       "      <th>0</th>\n",
       "      <td>250000</td>\n",
       "      <td>3.104693</td>\n",
       "    </tr>\n",
       "    <tr>\n",
       "      <th>1</th>\n",
       "      <td>250001</td>\n",
       "      <td>2.842394</td>\n",
       "    </tr>\n",
       "    <tr>\n",
       "      <th>2</th>\n",
       "      <td>250002</td>\n",
       "      <td>3.034634</td>\n",
       "    </tr>\n",
       "    <tr>\n",
       "      <th>3</th>\n",
       "      <td>250003</td>\n",
       "      <td>3.013256</td>\n",
       "    </tr>\n",
       "    <tr>\n",
       "      <th>4</th>\n",
       "      <td>250004</td>\n",
       "      <td>3.085135</td>\n",
       "    </tr>\n",
       "    <tr>\n",
       "      <th>...</th>\n",
       "      <td>...</td>\n",
       "      <td>...</td>\n",
       "    </tr>\n",
       "    <tr>\n",
       "      <th>149995</th>\n",
       "      <td>399995</td>\n",
       "      <td>3.036356</td>\n",
       "    </tr>\n",
       "    <tr>\n",
       "      <th>149996</th>\n",
       "      <td>399996</td>\n",
       "      <td>2.986600</td>\n",
       "    </tr>\n",
       "    <tr>\n",
       "      <th>149997</th>\n",
       "      <td>399997</td>\n",
       "      <td>2.903387</td>\n",
       "    </tr>\n",
       "    <tr>\n",
       "      <th>149998</th>\n",
       "      <td>399998</td>\n",
       "      <td>2.947960</td>\n",
       "    </tr>\n",
       "    <tr>\n",
       "      <th>149999</th>\n",
       "      <td>399999</td>\n",
       "      <td>3.023192</td>\n",
       "    </tr>\n",
       "  </tbody>\n",
       "</table>\n",
       "<p>150000 rows × 2 columns</p>\n",
       "</div>"
      ],
      "text/plain": [
       "            id      loss\n",
       "0       250000  3.104693\n",
       "1       250001  2.842394\n",
       "2       250002  3.034634\n",
       "3       250003  3.013256\n",
       "4       250004  3.085135\n",
       "...        ...       ...\n",
       "149995  399995  3.036356\n",
       "149996  399996  2.986600\n",
       "149997  399997  2.903387\n",
       "149998  399998  2.947960\n",
       "149999  399999  3.023192\n",
       "\n",
       "[150000 rows x 2 columns]"
      ]
     },
     "execution_count": 17,
     "metadata": {},
     "output_type": "execute_result"
    }
   ],
   "source": [
    "sample_submission = pd.read_csv('/kaggle/input/tabular-playground-series-aug-2021/sample_submission.csv')\n",
    "sample_submission['loss'] = preds\n",
    "sample_submission.to_csv('xgb_submission.csv', index=False)\n",
    "sample_submission"
   ]
  },
  {
   "cell_type": "code",
   "execution_count": null,
   "id": "404220fa",
   "metadata": {
    "papermill": {
     "duration": 0.029129,
     "end_time": "2021-08-03T08:45:28.388648",
     "exception": false,
     "start_time": "2021-08-03T08:45:28.359519",
     "status": "completed"
    },
    "tags": []
   },
   "outputs": [],
   "source": []
  }
 ],
 "metadata": {
  "kernelspec": {
   "display_name": "Python 3",
   "language": "python",
   "name": "python3"
  },
  "language_info": {
   "codemirror_mode": {
    "name": "ipython",
    "version": 3
   },
   "file_extension": ".py",
   "mimetype": "text/x-python",
   "name": "python",
   "nbconvert_exporter": "python",
   "pygments_lexer": "ipython3",
   "version": "3.7.10"
  },
  "papermill": {
   "default_parameters": {},
   "duration": 69.896069,
   "end_time": "2021-08-03T08:45:29.847415",
   "environment_variables": {},
   "exception": null,
   "input_path": "__notebook__.ipynb",
   "output_path": "__notebook__.ipynb",
   "parameters": {},
   "start_time": "2021-08-03T08:44:19.951346",
   "version": "2.3.3"
  }
 },
 "nbformat": 4,
 "nbformat_minor": 5
}
