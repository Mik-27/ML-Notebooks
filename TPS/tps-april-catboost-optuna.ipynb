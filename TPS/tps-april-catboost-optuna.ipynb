{
 "cells": [
  {
   "cell_type": "code",
   "execution_count": 1,
   "id": "sapphire-search",
   "metadata": {
    "_cell_guid": "b1076dfc-b9ad-4769-8c92-a6c4dae69d19",
    "_uuid": "8f2839f25d086af736a60e9eeb907d3b93b6e0e5",
    "execution": {
     "iopub.execute_input": "2021-04-26T07:46:34.214902Z",
     "iopub.status.busy": "2021-04-26T07:46:34.212090Z",
     "iopub.status.idle": "2021-04-26T07:46:34.219801Z",
     "shell.execute_reply": "2021-04-26T07:46:34.220600Z"
    },
    "papermill": {
     "duration": 0.041919,
     "end_time": "2021-04-26T07:46:34.220940",
     "exception": false,
     "start_time": "2021-04-26T07:46:34.179021",
     "status": "completed"
    },
    "tags": []
   },
   "outputs": [
    {
     "name": "stdout",
     "output_type": "stream",
     "text": [
      "/kaggle/input/tabular-playground-series-apr-2021/sample_submission.csv\n",
      "/kaggle/input/tabular-playground-series-apr-2021/train.csv\n",
      "/kaggle/input/tabular-playground-series-apr-2021/test.csv\n"
     ]
    }
   ],
   "source": [
    "# This Python 3 environment comes with many helpful analytics libraries installed\n",
    "# It is defined by the kaggle/python Docker image: https://github.com/kaggle/docker-python\n",
    "# For example, here's several helpful packages to load\n",
    "\n",
    "import numpy as np # linear algebra\n",
    "import pandas as pd # data processing, CSV file I/O (e.g. pd.read_csv)\n",
    "\n",
    "# Input data files are available in the read-only \"../input/\" directory\n",
    "# For example, running this (by clicking run or pressing Shift+Enter) will list all files under the input directory\n",
    "\n",
    "import os\n",
    "for dirname, _, filenames in os.walk('/kaggle/input'):\n",
    "    for filename in filenames:\n",
    "        print(os.path.join(dirname, filename))\n",
    "\n",
    "# You can write up to 20GB to the current directory (/kaggle/working/) that gets preserved as output when you create a version using \"Save & Run All\" \n",
    "# You can also write temporary files to /kaggle/temp/, but they won't be saved outside of the current session"
   ]
  },
  {
   "cell_type": "code",
   "execution_count": 2,
   "id": "aging-assistant",
   "metadata": {
    "execution": {
     "iopub.execute_input": "2021-04-26T07:46:34.263628Z",
     "iopub.status.busy": "2021-04-26T07:46:34.262997Z",
     "iopub.status.idle": "2021-04-26T07:46:36.393960Z",
     "shell.execute_reply": "2021-04-26T07:46:36.394752Z"
    },
    "papermill": {
     "duration": 2.154726,
     "end_time": "2021-04-26T07:46:36.395023",
     "exception": false,
     "start_time": "2021-04-26T07:46:34.240297",
     "status": "completed"
    },
    "tags": []
   },
   "outputs": [],
   "source": [
    "import matplotlib.pyplot as plt\n",
    "import seaborn as sns\n",
    "import optuna\n",
    "\n",
    "from sklearn.metrics import accuracy_score, roc_auc_score\n",
    "from sklearn.model_selection import train_test_split, StratifiedKFold\n",
    "from sklearn.preprocessing import MinMaxScaler, StandardScaler, LabelEncoder\n",
    "from catboost import CatBoostClassifier"
   ]
  },
  {
   "cell_type": "code",
   "execution_count": 3,
   "id": "latin-participation",
   "metadata": {
    "execution": {
     "iopub.execute_input": "2021-04-26T07:46:36.461882Z",
     "iopub.status.busy": "2021-04-26T07:46:36.461199Z",
     "iopub.status.idle": "2021-04-26T07:46:37.032942Z",
     "shell.execute_reply": "2021-04-26T07:46:37.031738Z"
    },
    "papermill": {
     "duration": 0.601463,
     "end_time": "2021-04-26T07:46:37.033089",
     "exception": false,
     "start_time": "2021-04-26T07:46:36.431626",
     "status": "completed"
    },
    "tags": []
   },
   "outputs": [],
   "source": [
    "train = pd.read_csv(\"/kaggle/input/tabular-playground-series-apr-2021/train.csv\")\n",
    "test = pd.read_csv(\"/kaggle/input/tabular-playground-series-apr-2021/test.csv\")"
   ]
  },
  {
   "cell_type": "code",
   "execution_count": 4,
   "id": "earned-dayton",
   "metadata": {
    "execution": {
     "iopub.execute_input": "2021-04-26T07:46:37.075617Z",
     "iopub.status.busy": "2021-04-26T07:46:37.074639Z",
     "iopub.status.idle": "2021-04-26T07:46:37.078169Z",
     "shell.execute_reply": "2021-04-26T07:46:37.077643Z"
    },
    "papermill": {
     "duration": 0.025994,
     "end_time": "2021-04-26T07:46:37.078329",
     "exception": false,
     "start_time": "2021-04-26T07:46:37.052335",
     "status": "completed"
    },
    "tags": []
   },
   "outputs": [],
   "source": [
    "N_TRIALS = 30\n",
    "N_SPLITS = 10\n",
    "OPTUNA = True"
   ]
  },
  {
   "cell_type": "code",
   "execution_count": 5,
   "id": "organic-recorder",
   "metadata": {
    "execution": {
     "iopub.execute_input": "2021-04-26T07:46:37.119734Z",
     "iopub.status.busy": "2021-04-26T07:46:37.118713Z",
     "iopub.status.idle": "2021-04-26T07:46:37.174273Z",
     "shell.execute_reply": "2021-04-26T07:46:37.174815Z"
    },
    "papermill": {
     "duration": 0.077871,
     "end_time": "2021-04-26T07:46:37.174987",
     "exception": false,
     "start_time": "2021-04-26T07:46:37.097116",
     "status": "completed"
    },
    "tags": []
   },
   "outputs": [
    {
     "data": {
      "text/plain": [
       "PassengerId        0\n",
       "Survived           0\n",
       "Pclass             0\n",
       "Name               0\n",
       "Sex                0\n",
       "Age             3292\n",
       "SibSp              0\n",
       "Parch              0\n",
       "Ticket          4623\n",
       "Fare             134\n",
       "Cabin          67866\n",
       "Embarked         250\n",
       "dtype: int64"
      ]
     },
     "execution_count": 5,
     "metadata": {},
     "output_type": "execute_result"
    }
   ],
   "source": [
    "train.isnull().sum()"
   ]
  },
  {
   "cell_type": "code",
   "execution_count": 6,
   "id": "hungry-astrology",
   "metadata": {
    "execution": {
     "iopub.execute_input": "2021-04-26T07:46:37.223713Z",
     "iopub.status.busy": "2021-04-26T07:46:37.222394Z",
     "iopub.status.idle": "2021-04-26T07:46:37.263777Z",
     "shell.execute_reply": "2021-04-26T07:46:37.263095Z"
    },
    "papermill": {
     "duration": 0.06976,
     "end_time": "2021-04-26T07:46:37.263927",
     "exception": false,
     "start_time": "2021-04-26T07:46:37.194167",
     "status": "completed"
    },
    "tags": []
   },
   "outputs": [],
   "source": [
    "train_len = len(train)\n",
    "\n",
    "df = pd.concat([train, test], axis=0, ignore_index=True)"
   ]
  },
  {
   "cell_type": "code",
   "execution_count": 7,
   "id": "bibliographic-chaos",
   "metadata": {
    "execution": {
     "iopub.execute_input": "2021-04-26T07:46:37.314814Z",
     "iopub.status.busy": "2021-04-26T07:46:37.313472Z",
     "iopub.status.idle": "2021-04-26T07:46:37.891685Z",
     "shell.execute_reply": "2021-04-26T07:46:37.891088Z"
    },
    "papermill": {
     "duration": 0.607956,
     "end_time": "2021-04-26T07:46:37.891835",
     "exception": false,
     "start_time": "2021-04-26T07:46:37.283879",
     "status": "completed"
    },
    "tags": []
   },
   "outputs": [],
   "source": [
    "fare_map = df[['Fare','Pclass']].dropna().groupby('Pclass').mean().to_dict()\n",
    "df['Fare'] = df['Fare'].fillna(df['Pclass'].map(fare_map['Fare']))\n",
    "\n",
    "df['Family_Size'] = df['SibSp'] + df['Parch'] + 1\n",
    "\n",
    "df['Name'] = df['Name'].map(lambda x: x.split(',')[0])\n",
    "\n",
    "df['isAlone'] = df['Family_Size'].map(lambda x: 1 if x==1 else 0)\n",
    "\n",
    "# FE : https://www.kaggle.com/jmargni/tps-apr-2021-lightgbm-cv\n",
    "\n",
    "age_map = df[['Age', 'Pclass']].dropna().groupby('Pclass').mean().to_dict()\n",
    "df['Age'] = df['Age'].fillna(df['Pclass'].map(age_map['Age']))\n",
    "\n",
    "df['Cabin'] = df['Cabin'].fillna('X').map(lambda x: x[0].strip())\n",
    "\n",
    "df['Ticket'] = df['Ticket'].fillna('X').map(lambda x: str(x).split()[0] if len(str(x).split()) > 1 else 'X')\n",
    "\n",
    "df['Embarked'] = df['Embarked'].fillna('X')"
   ]
  },
  {
   "cell_type": "code",
   "execution_count": 8,
   "id": "everyday-shelf",
   "metadata": {
    "execution": {
     "iopub.execute_input": "2021-04-26T07:46:37.937418Z",
     "iopub.status.busy": "2021-04-26T07:46:37.935726Z",
     "iopub.status.idle": "2021-04-26T07:46:37.939271Z",
     "shell.execute_reply": "2021-04-26T07:46:37.938795Z"
    },
    "papermill": {
     "duration": 0.027453,
     "end_time": "2021-04-26T07:46:37.939391",
     "exception": false,
     "start_time": "2021-04-26T07:46:37.911938",
     "status": "completed"
    },
    "tags": []
   },
   "outputs": [],
   "source": [
    "label_cols = ['Name', 'Ticket', 'Sex']\n",
    "onehot_cols = ['Cabin', 'Embarked']\n",
    "numerical_cols = ['Pclass', 'Age', 'SibSp', 'Parch', 'Fare']"
   ]
  },
  {
   "cell_type": "code",
   "execution_count": 9,
   "id": "spread-understanding",
   "metadata": {
    "execution": {
     "iopub.execute_input": "2021-04-26T07:46:37.983445Z",
     "iopub.status.busy": "2021-04-26T07:46:37.982489Z",
     "iopub.status.idle": "2021-04-26T07:46:37.986352Z",
     "shell.execute_reply": "2021-04-26T07:46:37.985594Z"
    },
    "papermill": {
     "duration": 0.027768,
     "end_time": "2021-04-26T07:46:37.986534",
     "exception": false,
     "start_time": "2021-04-26T07:46:37.958766",
     "status": "completed"
    },
    "tags": []
   },
   "outputs": [],
   "source": [
    "def label_encoder(c):\n",
    "    le = LabelEncoder()\n",
    "    return le.fit_transform(c)\n",
    "\n",
    "scaler = StandardScaler()"
   ]
  },
  {
   "cell_type": "code",
   "execution_count": 10,
   "id": "acknowledged-lesson",
   "metadata": {
    "execution": {
     "iopub.execute_input": "2021-04-26T07:46:38.031925Z",
     "iopub.status.busy": "2021-04-26T07:46:38.030893Z",
     "iopub.status.idle": "2021-04-26T07:46:38.078591Z",
     "shell.execute_reply": "2021-04-26T07:46:38.078006Z"
    },
    "papermill": {
     "duration": 0.072457,
     "end_time": "2021-04-26T07:46:38.078730",
     "exception": false,
     "start_time": "2021-04-26T07:46:38.006273",
     "status": "completed"
    },
    "tags": []
   },
   "outputs": [],
   "source": [
    "onehot_encoded_df = pd.get_dummies(df[onehot_cols])"
   ]
  },
  {
   "cell_type": "code",
   "execution_count": 11,
   "id": "convertible-report",
   "metadata": {
    "execution": {
     "iopub.execute_input": "2021-04-26T07:46:38.125247Z",
     "iopub.status.busy": "2021-04-26T07:46:38.123943Z",
     "iopub.status.idle": "2021-04-26T07:46:38.426303Z",
     "shell.execute_reply": "2021-04-26T07:46:38.425745Z"
    },
    "papermill": {
     "duration": 0.327849,
     "end_time": "2021-04-26T07:46:38.426514",
     "exception": false,
     "start_time": "2021-04-26T07:46:38.098665",
     "status": "completed"
    },
    "tags": []
   },
   "outputs": [],
   "source": [
    "label_encoded_df = df[label_cols].apply(label_encoder)"
   ]
  },
  {
   "cell_type": "code",
   "execution_count": 12,
   "id": "spanish-pride",
   "metadata": {
    "execution": {
     "iopub.execute_input": "2021-04-26T07:46:38.477829Z",
     "iopub.status.busy": "2021-04-26T07:46:38.476461Z",
     "iopub.status.idle": "2021-04-26T07:46:38.519000Z",
     "shell.execute_reply": "2021-04-26T07:46:38.518280Z"
    },
    "papermill": {
     "duration": 0.072156,
     "end_time": "2021-04-26T07:46:38.519165",
     "exception": false,
     "start_time": "2021-04-26T07:46:38.447009",
     "status": "completed"
    },
    "tags": []
   },
   "outputs": [],
   "source": [
    "numerical_df = pd.DataFrame(scaler.fit_transform(df[numerical_cols]), columns=numerical_cols)\n",
    "target_df = df['Survived']\n",
    "\n",
    "df = pd.concat([numerical_df, label_encoded_df, onehot_encoded_df, target_df], axis=1)"
   ]
  },
  {
   "cell_type": "code",
   "execution_count": 13,
   "id": "political-boutique",
   "metadata": {
    "execution": {
     "iopub.execute_input": "2021-04-26T07:46:38.567923Z",
     "iopub.status.busy": "2021-04-26T07:46:38.566588Z",
     "iopub.status.idle": "2021-04-26T07:46:38.594675Z",
     "shell.execute_reply": "2021-04-26T07:46:38.594067Z"
    },
    "papermill": {
     "duration": 0.05505,
     "end_time": "2021-04-26T07:46:38.594818",
     "exception": false,
     "start_time": "2021-04-26T07:46:38.539768",
     "status": "completed"
    },
    "tags": []
   },
   "outputs": [],
   "source": [
    "preprocessed_train = df[df.columns].iloc[:train_len,:]\n",
    "preprocessed_test = df[df.columns].iloc[train_len:,:]"
   ]
  },
  {
   "cell_type": "code",
   "execution_count": 14,
   "id": "pursuant-production",
   "metadata": {
    "execution": {
     "iopub.execute_input": "2021-04-26T07:46:38.651612Z",
     "iopub.status.busy": "2021-04-26T07:46:38.650819Z",
     "iopub.status.idle": "2021-04-26T07:46:38.665501Z",
     "shell.execute_reply": "2021-04-26T07:46:38.666036Z"
    },
    "papermill": {
     "duration": 0.050556,
     "end_time": "2021-04-26T07:46:38.666176",
     "exception": false,
     "start_time": "2021-04-26T07:46:38.615620",
     "status": "completed"
    },
    "tags": []
   },
   "outputs": [
    {
     "data": {
      "text/html": [
       "<div>\n",
       "<style scoped>\n",
       "    .dataframe tbody tr th:only-of-type {\n",
       "        vertical-align: middle;\n",
       "    }\n",
       "\n",
       "    .dataframe tbody tr th {\n",
       "        vertical-align: top;\n",
       "    }\n",
       "\n",
       "    .dataframe thead th {\n",
       "        text-align: right;\n",
       "    }\n",
       "</style>\n",
       "<table border=\"1\" class=\"dataframe\">\n",
       "  <thead>\n",
       "    <tr style=\"text-align: right;\">\n",
       "      <th></th>\n",
       "      <th>Pclass</th>\n",
       "      <th>Age</th>\n",
       "      <th>SibSp</th>\n",
       "      <th>Parch</th>\n",
       "      <th>Fare</th>\n",
       "      <th>Name</th>\n",
       "      <th>Ticket</th>\n",
       "      <th>Sex</th>\n",
       "      <th>Cabin_A</th>\n",
       "      <th>Cabin_B</th>\n",
       "      <th>...</th>\n",
       "      <th>Cabin_E</th>\n",
       "      <th>Cabin_F</th>\n",
       "      <th>Cabin_G</th>\n",
       "      <th>Cabin_T</th>\n",
       "      <th>Cabin_X</th>\n",
       "      <th>Embarked_C</th>\n",
       "      <th>Embarked_Q</th>\n",
       "      <th>Embarked_S</th>\n",
       "      <th>Embarked_X</th>\n",
       "      <th>Survived</th>\n",
       "    </tr>\n",
       "  </thead>\n",
       "  <tbody>\n",
       "    <tr>\n",
       "      <th>99995</th>\n",
       "      <td>-0.274016</td>\n",
       "      <td>1.667037</td>\n",
       "      <td>-0.539572</td>\n",
       "      <td>-0.505478</td>\n",
       "      <td>-0.441937</td>\n",
       "      <td>1590</td>\n",
       "      <td>21</td>\n",
       "      <td>0</td>\n",
       "      <td>0</td>\n",
       "      <td>0</td>\n",
       "      <td>...</td>\n",
       "      <td>0</td>\n",
       "      <td>0</td>\n",
       "      <td>0</td>\n",
       "      <td>0</td>\n",
       "      <td>0</td>\n",
       "      <td>1</td>\n",
       "      <td>0</td>\n",
       "      <td>0</td>\n",
       "      <td>0</td>\n",
       "      <td>1.0</td>\n",
       "    </tr>\n",
       "    <tr>\n",
       "      <th>99996</th>\n",
       "      <td>-0.274016</td>\n",
       "      <td>1.909184</td>\n",
       "      <td>-0.539572</td>\n",
       "      <td>-0.505478</td>\n",
       "      <td>-0.496979</td>\n",
       "      <td>2992</td>\n",
       "      <td>49</td>\n",
       "      <td>1</td>\n",
       "      <td>0</td>\n",
       "      <td>0</td>\n",
       "      <td>...</td>\n",
       "      <td>0</td>\n",
       "      <td>0</td>\n",
       "      <td>0</td>\n",
       "      <td>0</td>\n",
       "      <td>1</td>\n",
       "      <td>0</td>\n",
       "      <td>0</td>\n",
       "      <td>1</td>\n",
       "      <td>0</td>\n",
       "      <td>0.0</td>\n",
       "    </tr>\n",
       "    <tr>\n",
       "      <th>99997</th>\n",
       "      <td>0.877699</td>\n",
       "      <td>0.153624</td>\n",
       "      <td>-0.539572</td>\n",
       "      <td>-0.505478</td>\n",
       "      <td>-0.514782</td>\n",
       "      <td>4219</td>\n",
       "      <td>49</td>\n",
       "      <td>1</td>\n",
       "      <td>0</td>\n",
       "      <td>0</td>\n",
       "      <td>...</td>\n",
       "      <td>0</td>\n",
       "      <td>0</td>\n",
       "      <td>0</td>\n",
       "      <td>0</td>\n",
       "      <td>1</td>\n",
       "      <td>0</td>\n",
       "      <td>0</td>\n",
       "      <td>1</td>\n",
       "      <td>0</td>\n",
       "      <td>0.0</td>\n",
       "    </tr>\n",
       "    <tr>\n",
       "      <th>99998</th>\n",
       "      <td>0.877699</td>\n",
       "      <td>1.001135</td>\n",
       "      <td>-0.539572</td>\n",
       "      <td>0.561618</td>\n",
       "      <td>-0.203671</td>\n",
       "      <td>3941</td>\n",
       "      <td>49</td>\n",
       "      <td>1</td>\n",
       "      <td>0</td>\n",
       "      <td>0</td>\n",
       "      <td>...</td>\n",
       "      <td>0</td>\n",
       "      <td>0</td>\n",
       "      <td>0</td>\n",
       "      <td>0</td>\n",
       "      <td>1</td>\n",
       "      <td>0</td>\n",
       "      <td>0</td>\n",
       "      <td>1</td>\n",
       "      <td>0</td>\n",
       "      <td>0.0</td>\n",
       "    </tr>\n",
       "    <tr>\n",
       "      <th>99999</th>\n",
       "      <td>0.877699</td>\n",
       "      <td>1.243282</td>\n",
       "      <td>-0.539572</td>\n",
       "      <td>-0.505478</td>\n",
       "      <td>-0.455290</td>\n",
       "      <td>7055</td>\n",
       "      <td>49</td>\n",
       "      <td>1</td>\n",
       "      <td>0</td>\n",
       "      <td>0</td>\n",
       "      <td>...</td>\n",
       "      <td>0</td>\n",
       "      <td>0</td>\n",
       "      <td>0</td>\n",
       "      <td>0</td>\n",
       "      <td>1</td>\n",
       "      <td>0</td>\n",
       "      <td>0</td>\n",
       "      <td>1</td>\n",
       "      <td>0</td>\n",
       "      <td>0.0</td>\n",
       "    </tr>\n",
       "  </tbody>\n",
       "</table>\n",
       "<p>5 rows × 22 columns</p>\n",
       "</div>"
      ],
      "text/plain": [
       "         Pclass       Age     SibSp     Parch      Fare  Name  Ticket  Sex  \\\n",
       "99995 -0.274016  1.667037 -0.539572 -0.505478 -0.441937  1590      21    0   \n",
       "99996 -0.274016  1.909184 -0.539572 -0.505478 -0.496979  2992      49    1   \n",
       "99997  0.877699  0.153624 -0.539572 -0.505478 -0.514782  4219      49    1   \n",
       "99998  0.877699  1.001135 -0.539572  0.561618 -0.203671  3941      49    1   \n",
       "99999  0.877699  1.243282 -0.539572 -0.505478 -0.455290  7055      49    1   \n",
       "\n",
       "       Cabin_A  Cabin_B  ...  Cabin_E  Cabin_F  Cabin_G  Cabin_T  Cabin_X  \\\n",
       "99995        0        0  ...        0        0        0        0        0   \n",
       "99996        0        0  ...        0        0        0        0        1   \n",
       "99997        0        0  ...        0        0        0        0        1   \n",
       "99998        0        0  ...        0        0        0        0        1   \n",
       "99999        0        0  ...        0        0        0        0        1   \n",
       "\n",
       "       Embarked_C  Embarked_Q  Embarked_S  Embarked_X  Survived  \n",
       "99995           1           0           0           0       1.0  \n",
       "99996           0           0           1           0       0.0  \n",
       "99997           0           0           1           0       0.0  \n",
       "99998           0           0           1           0       0.0  \n",
       "99999           0           0           1           0       0.0  \n",
       "\n",
       "[5 rows x 22 columns]"
      ]
     },
     "metadata": {},
     "output_type": "display_data"
    }
   ],
   "source": [
    "display(preprocessed_train.tail())"
   ]
  },
  {
   "cell_type": "code",
   "execution_count": 15,
   "id": "intermediate-medication",
   "metadata": {
    "execution": {
     "iopub.execute_input": "2021-04-26T07:46:38.718104Z",
     "iopub.status.busy": "2021-04-26T07:46:38.716872Z",
     "iopub.status.idle": "2021-04-26T07:46:38.722611Z",
     "shell.execute_reply": "2021-04-26T07:46:38.722040Z"
    },
    "papermill": {
     "duration": 0.035364,
     "end_time": "2021-04-26T07:46:38.722759",
     "exception": false,
     "start_time": "2021-04-26T07:46:38.687395",
     "status": "completed"
    },
    "tags": []
   },
   "outputs": [],
   "source": [
    "y = train['Survived']\n",
    "X = preprocessed_train.drop(['Survived'], axis=1)\n",
    "# X.describe()"
   ]
  },
  {
   "cell_type": "code",
   "execution_count": 16,
   "id": "suspended-cartoon",
   "metadata": {
    "execution": {
     "iopub.execute_input": "2021-04-26T07:46:38.774127Z",
     "iopub.status.busy": "2021-04-26T07:46:38.772885Z",
     "iopub.status.idle": "2021-04-26T07:46:38.779795Z",
     "shell.execute_reply": "2021-04-26T07:46:38.779191Z"
    },
    "papermill": {
     "duration": 0.036191,
     "end_time": "2021-04-26T07:46:38.779914",
     "exception": false,
     "start_time": "2021-04-26T07:46:38.743723",
     "status": "completed"
    },
    "tags": []
   },
   "outputs": [],
   "source": [
    "preprocessed_test.drop(['Survived'], axis=1, inplace=True)"
   ]
  },
  {
   "cell_type": "code",
   "execution_count": 17,
   "id": "canadian-portrait",
   "metadata": {
    "execution": {
     "iopub.execute_input": "2021-04-26T07:46:38.832254Z",
     "iopub.status.busy": "2021-04-26T07:46:38.831314Z",
     "iopub.status.idle": "2021-04-26T07:46:38.834987Z",
     "shell.execute_reply": "2021-04-26T07:46:38.834491Z"
    },
    "papermill": {
     "duration": 0.033299,
     "end_time": "2021-04-26T07:46:38.835111",
     "exception": false,
     "start_time": "2021-04-26T07:46:38.801812",
     "status": "completed"
    },
    "tags": []
   },
   "outputs": [],
   "source": [
    "def objective(trial, data=X, target=y):\n",
    "    \n",
    "    X_train, X_test, y_train, y_test = train_test_split(X, y, train_size=0.8, random_state=0)\n",
    "\n",
    "    params = {\n",
    "        'max_depth': trial.suggest_int('max_depth', 4, 10),\n",
    "        'learning_rate': trial.suggest_categorical('learning_rate', [0.005, 0.002, 0.05, 0.08, 0.1]),\n",
    "        'n_estimators': 4000,\n",
    "        'max_bin': trial.suggest_int('max_bin', 200, 400),\n",
    "        'min_data_in_leaf': trial.suggest_int('min_data_in_leaf', 1, 300),\n",
    "        'l2_leaf_reg': trial.suggest_float('l2_leaf_reg', 0.0001, 1.0, log = True),\n",
    "        'subsample': trial.suggest_float('subsample', 0.1, 0.8),\n",
    "        'random_seed': 42,\n",
    "        'task_type': 'GPU',\n",
    "        'loss_function':'Logloss', # objective function\n",
    "        'eval_metric':'AUC', # metric\n",
    "        'bootstrap_type': 'Poisson',\n",
    "        'early_stopping_rounds': 222,\n",
    "        'verbose': False\n",
    "    }\n",
    "\n",
    "    cbc_model = CatBoostClassifier(**params)\n",
    "\n",
    "    cbc_model.fit(X_train, y_train,\n",
    "        eval_set=[(X_test, y_test)],\n",
    "         \n",
    "    )\n",
    "    \n",
    "    y_pred = cbc_model.predict_proba(X_test)[:,1]\n",
    "    \n",
    "    roc_auc = roc_auc_score(y_test, y_pred)\n",
    "    \n",
    "    return roc_auc"
   ]
  },
  {
   "cell_type": "code",
   "execution_count": 18,
   "id": "painted-effort",
   "metadata": {
    "execution": {
     "iopub.execute_input": "2021-04-26T07:46:38.883824Z",
     "iopub.status.busy": "2021-04-26T07:46:38.882656Z",
     "iopub.status.idle": "2021-04-26T08:01:30.238957Z",
     "shell.execute_reply": "2021-04-26T08:01:30.238161Z"
    },
    "papermill": {
     "duration": 891.382348,
     "end_time": "2021-04-26T08:01:30.239142",
     "exception": false,
     "start_time": "2021-04-26T07:46:38.856794",
     "status": "completed"
    },
    "tags": []
   },
   "outputs": [
    {
     "name": "stderr",
     "output_type": "stream",
     "text": [
      "\u001b[32m[I 2021-04-26 07:46:38,881]\u001b[0m A new study created in memory with name: catboostclassifier\u001b[0m\n",
      "\u001b[32m[I 2021-04-26 07:48:05,754]\u001b[0m Trial 0 finished with value: 0.8500932766829091 and parameters: {'max_depth': 6, 'learning_rate': 0.08, 'max_bin': 256, 'min_data_in_leaf': 36, 'l2_leaf_reg': 0.04704010064951091, 'subsample': 0.6626280105851026}. Best is trial 0 with value: 0.8500932766829091.\u001b[0m\n",
      "\u001b[32m[I 2021-04-26 07:49:06,988]\u001b[0m Trial 1 finished with value: 0.84722558904299 and parameters: {'max_depth': 4, 'learning_rate': 0.002, 'max_bin': 337, 'min_data_in_leaf': 75, 'l2_leaf_reg': 0.8843451179412305, 'subsample': 0.43513933489980405}. Best is trial 0 with value: 0.8500932766829091.\u001b[0m\n",
      "\u001b[32m[I 2021-04-26 07:49:17,084]\u001b[0m Trial 2 finished with value: 0.8485753268368086 and parameters: {'max_depth': 10, 'learning_rate': 0.08, 'max_bin': 328, 'min_data_in_leaf': 60, 'l2_leaf_reg': 0.17508997044605934, 'subsample': 0.7600976350589687}. Best is trial 0 with value: 0.8500932766829091.\u001b[0m\n",
      "\u001b[32m[I 2021-04-26 07:49:30,069]\u001b[0m Trial 3 finished with value: 0.8503651663471514 and parameters: {'max_depth': 5, 'learning_rate': 0.08, 'max_bin': 373, 'min_data_in_leaf': 98, 'l2_leaf_reg': 0.42757633266765155, 'subsample': 0.6130099268202346}. Best is trial 3 with value: 0.8503651663471514.\u001b[0m\n",
      "\u001b[32m[I 2021-04-26 07:50:48,407]\u001b[0m Trial 4 finished with value: 0.8489240944861769 and parameters: {'max_depth': 7, 'learning_rate': 0.002, 'max_bin': 362, 'min_data_in_leaf': 129, 'l2_leaf_reg': 0.03642475512877883, 'subsample': 0.17792708670571714}. Best is trial 3 with value: 0.8503651663471514.\u001b[0m\n",
      "\u001b[32m[I 2021-04-26 07:50:57,870]\u001b[0m Trial 5 finished with value: 0.849867679138743 and parameters: {'max_depth': 7, 'learning_rate': 0.08, 'max_bin': 310, 'min_data_in_leaf': 277, 'l2_leaf_reg': 0.0797375301860837, 'subsample': 0.5003437736135953}. Best is trial 3 with value: 0.8503651663471514.\u001b[0m\n",
      "\u001b[32m[I 2021-04-26 07:51:17,320]\u001b[0m Trial 6 finished with value: 0.8504318031192051 and parameters: {'max_depth': 5, 'learning_rate': 0.05, 'max_bin': 284, 'min_data_in_leaf': 238, 'l2_leaf_reg': 0.1574475828842941, 'subsample': 0.46949088504602}. Best is trial 6 with value: 0.8504318031192051.\u001b[0m\n",
      "\u001b[32m[I 2021-04-26 07:51:25,657]\u001b[0m Trial 7 finished with value: 0.8491516821016426 and parameters: {'max_depth': 6, 'learning_rate': 0.1, 'max_bin': 245, 'min_data_in_leaf': 208, 'l2_leaf_reg': 0.0010152887891181424, 'subsample': 0.557285358642569}. Best is trial 6 with value: 0.8504318031192051.\u001b[0m\n",
      "\u001b[32m[I 2021-04-26 07:52:28,643]\u001b[0m Trial 8 finished with value: 0.8475146596561184 and parameters: {'max_depth': 4, 'learning_rate': 0.002, 'max_bin': 372, 'min_data_in_leaf': 183, 'l2_leaf_reg': 0.00018636357324638584, 'subsample': 0.7114241622681539}. Best is trial 6 with value: 0.8504318031192051.\u001b[0m\n",
      "\u001b[32m[I 2021-04-26 07:52:36,388]\u001b[0m Trial 9 finished with value: 0.8476524746449863 and parameters: {'max_depth': 9, 'learning_rate': 0.1, 'max_bin': 204, 'min_data_in_leaf': 9, 'l2_leaf_reg': 0.0007157221122300835, 'subsample': 0.7312104209102513}. Best is trial 6 with value: 0.8504318031192051.\u001b[0m\n",
      "\u001b[32m[I 2021-04-26 07:52:45,894]\u001b[0m Trial 10 finished with value: 0.8492140070525473 and parameters: {'max_depth': 8, 'learning_rate': 0.05, 'max_bin': 272, 'min_data_in_leaf': 298, 'l2_leaf_reg': 0.006885670982876692, 'subsample': 0.3393801912358836}. Best is trial 6 with value: 0.8504318031192051.\u001b[0m\n",
      "\u001b[32m[I 2021-04-26 07:53:06,591]\u001b[0m Trial 11 finished with value: 0.8505426347823497 and parameters: {'max_depth': 5, 'learning_rate': 0.05, 'max_bin': 392, 'min_data_in_leaf': 251, 'l2_leaf_reg': 0.8342575887248292, 'subsample': 0.35674876273320855}. Best is trial 11 with value: 0.8505426347823497.\u001b[0m\n",
      "\u001b[32m[I 2021-04-26 07:53:29,140]\u001b[0m Trial 12 finished with value: 0.8503868121995943 and parameters: {'max_depth': 5, 'learning_rate': 0.05, 'max_bin': 282, 'min_data_in_leaf': 229, 'l2_leaf_reg': 0.9111870681119936, 'subsample': 0.30020398385580116}. Best is trial 11 with value: 0.8505426347823497.\u001b[0m\n",
      "\u001b[32m[I 2021-04-26 07:53:48,076]\u001b[0m Trial 13 finished with value: 0.8505493755110337 and parameters: {'max_depth': 5, 'learning_rate': 0.05, 'max_bin': 211, 'min_data_in_leaf': 262, 'l2_leaf_reg': 0.2632716895957909, 'subsample': 0.4023301494078579}. Best is trial 13 with value: 0.8505493755110337.\u001b[0m\n",
      "\u001b[32m[I 2021-04-26 07:54:48,780]\u001b[0m Trial 14 finished with value: 0.8483324207750829 and parameters: {'max_depth': 4, 'learning_rate': 0.005, 'max_bin': 210, 'min_data_in_leaf': 270, 'l2_leaf_reg': 0.011568713069582194, 'subsample': 0.15920490150369856}. Best is trial 13 with value: 0.8505493755110337.\u001b[0m\n",
      "\u001b[32m[I 2021-04-26 07:55:01,652]\u001b[0m Trial 15 finished with value: 0.8503817757883823 and parameters: {'max_depth': 6, 'learning_rate': 0.05, 'max_bin': 229, 'min_data_in_leaf': 177, 'l2_leaf_reg': 0.46834789108983005, 'subsample': 0.3359081603976954}. Best is trial 13 with value: 0.8505493755110337.\u001b[0m\n",
      "\u001b[32m[I 2021-04-26 07:55:22,422]\u001b[0m Trial 16 finished with value: 0.8499459603792725 and parameters: {'max_depth': 5, 'learning_rate': 0.05, 'max_bin': 400, 'min_data_in_leaf': 256, 'l2_leaf_reg': 0.012434541516509662, 'subsample': 0.2389050620638307}. Best is trial 13 with value: 0.8505493755110337.\u001b[0m\n",
      "\u001b[32m[I 2021-04-26 07:55:39,905]\u001b[0m Trial 17 finished with value: 0.85034994995583 and parameters: {'max_depth': 6, 'learning_rate': 0.05, 'max_bin': 400, 'min_data_in_leaf': 299, 'l2_leaf_reg': 0.370418920194708, 'subsample': 0.3989707590690043}. Best is trial 13 with value: 0.8505493755110337.\u001b[0m\n",
      "\u001b[32m[I 2021-04-26 07:56:43,000]\u001b[0m Trial 18 finished with value: 0.848707493084834 and parameters: {'max_depth': 4, 'learning_rate': 0.005, 'max_bin': 311, 'min_data_in_leaf': 145, 'l2_leaf_reg': 0.1413233863138705, 'subsample': 0.254394943452684}. Best is trial 13 with value: 0.8505493755110337.\u001b[0m\n",
      "\u001b[32m[I 2021-04-26 07:57:05,267]\u001b[0m Trial 19 finished with value: 0.8505619435767025 and parameters: {'max_depth': 5, 'learning_rate': 0.05, 'max_bin': 221, 'min_data_in_leaf': 209, 'l2_leaf_reg': 0.9808875483397916, 'subsample': 0.38805603153633345}. Best is trial 19 with value: 0.8505619435767025.\u001b[0m\n",
      "\u001b[32m[I 2021-04-26 07:57:15,465]\u001b[0m Trial 20 finished with value: 0.8493387539065481 and parameters: {'max_depth': 8, 'learning_rate': 0.05, 'max_bin': 225, 'min_data_in_leaf': 198, 'l2_leaf_reg': 0.024824666675357022, 'subsample': 0.5285473396551235}. Best is trial 19 with value: 0.8505619435767025.\u001b[0m\n",
      "\u001b[32m[I 2021-04-26 07:57:40,996]\u001b[0m Trial 21 finished with value: 0.850666376395207 and parameters: {'max_depth': 5, 'learning_rate': 0.05, 'max_bin': 222, 'min_data_in_leaf': 229, 'l2_leaf_reg': 0.9885391374175718, 'subsample': 0.4072623196556988}. Best is trial 21 with value: 0.850666376395207.\u001b[0m\n",
      "\u001b[32m[I 2021-04-26 07:57:55,522]\u001b[0m Trial 22 finished with value: 0.8503985740312494 and parameters: {'max_depth': 6, 'learning_rate': 0.05, 'max_bin': 200, 'min_data_in_leaf': 213, 'l2_leaf_reg': 0.9498559142886384, 'subsample': 0.4224123102989513}. Best is trial 21 with value: 0.850666376395207.\u001b[0m\n",
      "\u001b[32m[I 2021-04-26 07:58:15,094]\u001b[0m Trial 23 finished with value: 0.8502983356707146 and parameters: {'max_depth': 5, 'learning_rate': 0.05, 'max_bin': 221, 'min_data_in_leaf': 168, 'l2_leaf_reg': 0.3196009521420656, 'subsample': 0.3836221467678857}. Best is trial 21 with value: 0.850666376395207.\u001b[0m\n",
      "\u001b[32m[I 2021-04-26 07:58:43,872]\u001b[0m Trial 24 finished with value: 0.8501829523573156 and parameters: {'max_depth': 4, 'learning_rate': 0.05, 'max_bin': 247, 'min_data_in_leaf': 226, 'l2_leaf_reg': 0.0036893118969024306, 'subsample': 0.28682008867117514}. Best is trial 21 with value: 0.850666376395207.\u001b[0m\n",
      "\u001b[32m[I 2021-04-26 08:00:02,463]\u001b[0m Trial 25 finished with value: 0.8504590619932622 and parameters: {'max_depth': 7, 'learning_rate': 0.005, 'max_bin': 236, 'min_data_in_leaf': 278, 'l2_leaf_reg': 0.22832123643064028, 'subsample': 0.4679981977895868}. Best is trial 21 with value: 0.850666376395207.\u001b[0m\n",
      "\u001b[32m[I 2021-04-26 08:00:14,243]\u001b[0m Trial 26 finished with value: 0.8498030375407355 and parameters: {'max_depth': 5, 'learning_rate': 0.1, 'max_bin': 263, 'min_data_in_leaf': 196, 'l2_leaf_reg': 0.08636220595661313, 'subsample': 0.6005122255920761}. Best is trial 21 with value: 0.850666376395207.\u001b[0m\n",
      "\u001b[32m[I 2021-04-26 08:00:32,958]\u001b[0m Trial 27 finished with value: 0.8499174462294726 and parameters: {'max_depth': 6, 'learning_rate': 0.05, 'max_bin': 215, 'min_data_in_leaf': 247, 'l2_leaf_reg': 0.5802753811289069, 'subsample': 0.21673660843989423}. Best is trial 21 with value: 0.850666376395207.\u001b[0m\n",
      "\u001b[32m[I 2021-04-26 08:01:02,585]\u001b[0m Trial 28 finished with value: 0.8504049014374326 and parameters: {'max_depth': 4, 'learning_rate': 0.05, 'max_bin': 200, 'min_data_in_leaf': 155, 'l2_leaf_reg': 0.9245587127149305, 'subsample': 0.3932528846630755}. Best is trial 21 with value: 0.850666376395207.\u001b[0m\n",
      "\u001b[32m[I 2021-04-26 08:01:30,177]\u001b[0m Trial 29 finished with value: 0.8499020461392622 and parameters: {'max_depth': 5, 'learning_rate': 0.05, 'max_bin': 251, 'min_data_in_leaf': 219, 'l2_leaf_reg': 0.0516477585703738, 'subsample': 0.10652665743244022}. Best is trial 21 with value: 0.850666376395207.\u001b[0m\n"
     ]
    },
    {
     "name": "stdout",
     "output_type": "stream",
     "text": [
      "CPU times: user 15min 48s, sys: 8min 19s, total: 24min 8s\n",
      "Wall time: 14min 51s\n"
     ]
    }
   ],
   "source": [
    "%%time\n",
    "\n",
    "study = optuna.create_study(direction='maximize', study_name='catboostclassifier')\n",
    "study.optimize(objective, n_trials=N_TRIALS)"
   ]
  },
  {
   "cell_type": "code",
   "execution_count": 19,
   "id": "suited-knife",
   "metadata": {
    "execution": {
     "iopub.execute_input": "2021-04-26T08:01:30.346178Z",
     "iopub.status.busy": "2021-04-26T08:01:30.345270Z",
     "iopub.status.idle": "2021-04-26T08:01:30.349372Z",
     "shell.execute_reply": "2021-04-26T08:01:30.350129Z"
    },
    "papermill": {
     "duration": 0.061917,
     "end_time": "2021-04-26T08:01:30.350341",
     "exception": false,
     "start_time": "2021-04-26T08:01:30.288424",
     "status": "completed"
    },
    "tags": []
   },
   "outputs": [],
   "source": [
    "best_params = study.best_trial.params\n",
    "best_params['task_type'] = 'GPU'\n",
    "best_params['loss_function'] = 'Logloss'\n",
    "best_params['eval_metric'] = 'AUC'\n",
    "best_params['random_seed'] = 42\n",
    "best_params['bootstrap_type'] = 'Poisson'\n",
    "best_params['early_stopping_rounds'] = 200\n",
    "best_params['verbose'] = False"
   ]
  },
  {
   "cell_type": "code",
   "execution_count": 20,
   "id": "dangerous-request",
   "metadata": {
    "execution": {
     "iopub.execute_input": "2021-04-26T08:01:30.458537Z",
     "iopub.status.busy": "2021-04-26T08:01:30.457247Z",
     "iopub.status.idle": "2021-04-26T08:01:30.461948Z",
     "shell.execute_reply": "2021-04-26T08:01:30.462715Z"
    },
    "papermill": {
     "duration": 0.062547,
     "end_time": "2021-04-26T08:01:30.462929",
     "exception": false,
     "start_time": "2021-04-26T08:01:30.400382",
     "status": "completed"
    },
    "tags": []
   },
   "outputs": [
    {
     "data": {
      "text/plain": [
       "0.850666376395207"
      ]
     },
     "execution_count": 20,
     "metadata": {},
     "output_type": "execute_result"
    }
   ],
   "source": [
    "study.best_value"
   ]
  },
  {
   "cell_type": "markdown",
   "id": "familiar-investment",
   "metadata": {
    "papermill": {
     "duration": 0.049982,
     "end_time": "2021-04-26T08:01:30.563236",
     "exception": false,
     "start_time": "2021-04-26T08:01:30.513254",
     "status": "completed"
    },
    "tags": []
   },
   "source": [
    "```{'max_depth': 8,\n",
    " 'learning_rate': 0.005,\n",
    " 'max_bin': 365,\n",
    " 'min_data_in_leaf': 46,\n",
    " 'l2_leaf_reg': 0.28648239231053535,\n",
    " 'subsample': 0.7192966519984039,\n",
    " 'task_type': 'GPU',\n",
    " 'loss_function': 'Logloss',\n",
    " 'eval_metric': 'AUC',\n",
    " 'random_seed': 42,\n",
    " 'bootstrap_type': 'Poisson',\n",
    " 'early_stopping_rounds': 200,\n",
    " 'verbose': False}```\n",
    " \n",
    " Best Score: 0.8505297962710942"
   ]
  },
  {
   "cell_type": "code",
   "execution_count": 21,
   "id": "weekly-reasoning",
   "metadata": {
    "execution": {
     "iopub.execute_input": "2021-04-26T08:01:30.673440Z",
     "iopub.status.busy": "2021-04-26T08:01:30.672235Z",
     "iopub.status.idle": "2021-04-26T08:04:14.685636Z",
     "shell.execute_reply": "2021-04-26T08:04:14.686419Z"
    },
    "papermill": {
     "duration": 164.073678,
     "end_time": "2021-04-26T08:04:14.686713",
     "exception": false,
     "start_time": "2021-04-26T08:01:30.613035",
     "status": "completed"
    },
    "tags": []
   },
   "outputs": [],
   "source": [
    "# from sklearn.model_selection import KFold\n",
    "\n",
    "skf = StratifiedKFold(n_splits=N_SPLITS, shuffle=True, random_state=42)\n",
    "\n",
    "predictions = np.zeros(len(test))\n",
    "\n",
    "for fold, (train_id, test_id) in enumerate(skf.split(X, y)):\n",
    "    X_train, X_val = X.iloc[train_id], X.iloc[test_id]\n",
    "    y_train, y_val = y.iloc[train_id], y.iloc[test_id]\n",
    "    \n",
    "    model = CatBoostClassifier(**best_params)\n",
    "    \n",
    "    model.fit(X_train, y_train, eval_set=[(X_val, y_val)])\n",
    "    \n",
    "    predictions += model.predict_proba(preprocessed_test)[:,1] / skf.n_splits"
   ]
  },
  {
   "cell_type": "code",
   "execution_count": 22,
   "id": "aerial-welding",
   "metadata": {
    "execution": {
     "iopub.execute_input": "2021-04-26T08:04:14.807279Z",
     "iopub.status.busy": "2021-04-26T08:04:14.806386Z",
     "iopub.status.idle": "2021-04-26T08:04:15.427881Z",
     "shell.execute_reply": "2021-04-26T08:04:15.428591Z"
    },
    "papermill": {
     "duration": 0.692057,
     "end_time": "2021-04-26T08:04:15.428885",
     "exception": false,
     "start_time": "2021-04-26T08:04:14.736828",
     "status": "completed"
    },
    "tags": []
   },
   "outputs": [],
   "source": [
    "submission = pd.read_csv(\"/kaggle/input/tabular-playground-series-apr-2021/sample_submission.csv\", index_col='PassengerId')\n",
    "submission['Survived'] = np.round(predictions).astype(int)\n",
    "submission.to_csv(\"cat_optuna.csv\")"
   ]
  },
  {
   "cell_type": "code",
   "execution_count": null,
   "id": "designed-saint",
   "metadata": {
    "papermill": {
     "duration": 0.033902,
     "end_time": "2021-04-26T08:04:15.513113",
     "exception": false,
     "start_time": "2021-04-26T08:04:15.479211",
     "status": "completed"
    },
    "tags": []
   },
   "outputs": [],
   "source": []
  }
 ],
 "metadata": {
  "kernelspec": {
   "display_name": "Python 3",
   "language": "python",
   "name": "python3"
  },
  "language_info": {
   "codemirror_mode": {
    "name": "ipython",
    "version": 3
   },
   "file_extension": ".py",
   "mimetype": "text/x-python",
   "name": "python",
   "nbconvert_exporter": "python",
   "pygments_lexer": "ipython3",
   "version": "3.7.10"
  },
  "papermill": {
   "default_parameters": {},
   "duration": 1071.168146,
   "end_time": "2021-04-26T08:04:17.459119",
   "environment_variables": {},
   "exception": null,
   "input_path": "__notebook__.ipynb",
   "output_path": "__notebook__.ipynb",
   "parameters": {},
   "start_time": "2021-04-26T07:46:26.290973",
   "version": "2.3.3"
  }
 },
 "nbformat": 4,
 "nbformat_minor": 5
}
