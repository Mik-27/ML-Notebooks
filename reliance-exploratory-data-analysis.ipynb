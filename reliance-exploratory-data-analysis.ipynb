{
 "cells": [
  {
   "cell_type": "markdown",
   "id": "foster-lingerie",
   "metadata": {
    "papermill": {
     "duration": 0.035737,
     "end_time": "2021-05-31T18:42:42.554051",
     "exception": false,
     "start_time": "2021-05-31T18:42:42.518314",
     "status": "completed"
    },
    "tags": []
   },
   "source": [
    "\n",
    "<div align=center>\n",
    "    <img src=https://i.imgur.com/lbVlAYr.png>\n",
    "</div>"
   ]
  },
  {
   "cell_type": "markdown",
   "id": "fifteen-company",
   "metadata": {
    "papermill": {
     "duration": 0.034128,
     "end_time": "2021-05-31T18:42:42.622456",
     "exception": false,
     "start_time": "2021-05-31T18:42:42.588328",
     "status": "completed"
    },
    "tags": []
   },
   "source": [
    "<div style=\"font-family:verdana; \n",
    "            text-align:center; \n",
    "            font-weight:bold; \n",
    "            display:fill; \n",
    "            background-color:#5642C5;\n",
    "            color:white;\n",
    "            border-radius:5px\">\n",
    "    <h1 style=\"padding:20px 10px\">Reliance Industries Stock Prices - EDA</h1>\n",
    "</div>"
   ]
  },
  {
   "cell_type": "markdown",
   "id": "southern-method",
   "metadata": {
    "papermill": {
     "duration": 0.034018,
     "end_time": "2021-05-31T18:42:42.690912",
     "exception": false,
     "start_time": "2021-05-31T18:42:42.656894",
     "status": "completed"
    },
    "tags": []
   },
   "source": [
    "<!-- ![Reliance](https://upload.wikimedia.org/wikipedia/en/thumb/9/99/Reliance_Industries_Logo.svg/375px-Reliance_Industries_Logo.svg.png) -->\n",
    "<div align=center>\n",
    "    <img src=https://upload.wikimedia.org/wikipedia/en/thumb/9/99/Reliance_Industries_Logo.svg/375px-Reliance_Industries_Logo.svg.png>\n",
    "</div>"
   ]
  },
  {
   "cell_type": "markdown",
   "id": "equivalent-peace",
   "metadata": {
    "papermill": {
     "duration": 0.033983,
     "end_time": "2021-05-31T18:42:42.759131",
     "exception": false,
     "start_time": "2021-05-31T18:42:42.725148",
     "status": "completed"
    },
    "tags": []
   },
   "source": [
    "<div style=\"font-family:verdana;\">\n",
    "    <blockquote>\n",
    "        Reliance Industries Limited (RIL) is an Indian multinational conglomerate headquartered in Mumbai. Reliance owns businesses across India engaged in energy, petrochemicals, textiles, natural resources, retail, and telecommunications. Reliance is one of the most profitable companies in India, the largest publicly traded company in India by market capitalisation, and the largest company in India as measured by revenue after recently surpassing the government-controlled Indian Oil Corporation. It is also the eighth largest employer in India with nearly 195,000 employees. On 10 September 2020, Reliance Industries became the first Indian company to cross $200 billion in market capitalisation.\n",
    "    </blockquote>\n",
    "</div>"
   ]
  },
  {
   "cell_type": "markdown",
   "id": "generous-tradition",
   "metadata": {
    "papermill": {
     "duration": 0.034851,
     "end_time": "2021-05-31T18:42:42.828154",
     "exception": false,
     "start_time": "2021-05-31T18:42:42.793303",
     "status": "completed"
    },
    "tags": []
   },
   "source": [
    "*****************"
   ]
  },
  {
   "cell_type": "markdown",
   "id": "generous-roulette",
   "metadata": {
    "papermill": {
     "duration": 0.034397,
     "end_time": "2021-05-31T18:42:42.897414",
     "exception": false,
     "start_time": "2021-05-31T18:42:42.863017",
     "status": "completed"
    },
    "tags": []
   },
   "source": [
    "<!-- ![Plotly](https://upload.wikimedia.org/wikipedia/commons/thumb/3/37/Plotly-logo-01-square.png/330px-Plotly-logo-01-square.png) -->\n",
    "<div align=center>\n",
    "    <img src=https://upload.wikimedia.org/wikipedia/commons/thumb/3/37/Plotly-logo-01-square.png/330px-Plotly-logo-01-square.png>\n",
    "</div>"
   ]
  },
  {
   "cell_type": "markdown",
   "id": "moving-nepal",
   "metadata": {
    "papermill": {
     "duration": 0.034429,
     "end_time": "2021-05-31T18:42:42.966416",
     "exception": false,
     "start_time": "2021-05-31T18:42:42.931987",
     "status": "completed"
    },
    "tags": []
   },
   "source": [
    "<div style=\"font-family:verdana;\">\n",
    "    <blockquote>\n",
    "        Plotly is a technical computing company headquartered in Montreal, Quebec, that develops online data analytics and visualization tools. Plotly provides online graphing, analytics, and statistics tools for individuals and collaboration, as well as scientific graphing libraries for Python, R, MATLAB, Perl, Julia, Arduino, and REST.\n",
    "        Plotly was founded by Alex Johnson, Jack Parmer, Chris Parmer, and Matthew Sundquist.\n",
    "        The Boston Globe and Washington Post newsrooms have produced data journalism using Plotly. In 2020, Plotly was named a Best Place to Work by the Canadian SME National Business Awards, and nominated as Business of the Year.\n",
    "    </blockquote>\n",
    "    <blockquote>\n",
    "        Plotly was founded by Alex Johnson, Jack Parmer, Chris Parmer, and Matthew Sundquist.\n",
    "    </blockquote>\n",
    "    <blockquote>\n",
    "        The Boston Globe and Washington Post newsrooms have produced data journalism using Plotly. In 2020, Plotly was named a Best Place to Work by the Canadian SME National Business Awards, and nominated as Business of the Year.\n",
    "    </blockquote>\n",
    "</div>"
   ]
  },
  {
   "cell_type": "markdown",
   "id": "cardiovascular-memorial",
   "metadata": {
    "papermill": {
     "duration": 0.034504,
     "end_time": "2021-05-31T18:42:43.035417",
     "exception": false,
     "start_time": "2021-05-31T18:42:43.000913",
     "status": "completed"
    },
    "tags": []
   },
   "source": [
    "*************"
   ]
  },
  {
   "cell_type": "markdown",
   "id": "everyday-point",
   "metadata": {
    "papermill": {
     "duration": 0.033558,
     "end_time": "2021-05-31T18:42:43.103135",
     "exception": false,
     "start_time": "2021-05-31T18:42:43.069577",
     "status": "completed"
    },
    "tags": []
   },
   "source": [
    "<div style=\"font-family:verdana;\">\n",
    "    <center><h1>About the data 📃</h1></center>\n",
    "    <br>\n",
    "    <blockquote>\n",
    "        The dataset contains individual files for each stock in the BSE(Bombay Stock Exchange) at an interval of 15 minutes. It contains stock in formation for the interval i.e. <code>high</code>, <code>low</code>, <code>open</code>, <code>close</code> and <code>volume</code>. This notebook focuses on the stock data for Reliance Industries Limited.\n",
    "    </blockquote>\n",
    "    <blockquote>\n",
    "        <li>high - Highest price in the interval\n",
    "        <li>low - Lowest price in the interval\n",
    "        <li>open - Price at start of the interval\n",
    "        <li>close - Price at closing of the interval\n",
    "        <li>volume - Quantity of stocks traded in the interval\n",
    "    </blockquote>\n",
    "</div>"
   ]
  },
  {
   "cell_type": "markdown",
   "id": "upper-gardening",
   "metadata": {
    "papermill": {
     "duration": 0.033722,
     "end_time": "2021-05-31T18:42:43.171187",
     "exception": false,
     "start_time": "2021-05-31T18:42:43.137465",
     "status": "completed"
    },
    "tags": []
   },
   "source": [
    "-----------------"
   ]
  },
  {
   "cell_type": "markdown",
   "id": "moving-clothing",
   "metadata": {
    "papermill": {
     "duration": 0.03356,
     "end_time": "2021-05-31T18:42:43.238607",
     "exception": false,
     "start_time": "2021-05-31T18:42:43.205047",
     "status": "completed"
    },
    "tags": []
   },
   "source": [
    "# Importing Libraries 📚"
   ]
  },
  {
   "cell_type": "code",
   "execution_count": 1,
   "id": "present-business",
   "metadata": {
    "execution": {
     "iopub.execute_input": "2021-05-31T18:42:43.315489Z",
     "iopub.status.busy": "2021-05-31T18:42:43.314821Z",
     "iopub.status.idle": "2021-05-31T18:42:44.696092Z",
     "shell.execute_reply": "2021-05-31T18:42:44.695377Z",
     "shell.execute_reply.started": "2021-05-31T17:08:43.755979Z"
    },
    "papermill": {
     "duration": 1.42385,
     "end_time": "2021-05-31T18:42:44.696269",
     "exception": false,
     "start_time": "2021-05-31T18:42:43.272419",
     "status": "completed"
    },
    "tags": []
   },
   "outputs": [],
   "source": [
    "import numpy as np # linear algebra\n",
    "import pandas as pd # data processing, CSV file I/O (e.g. pd.read_csv)\n",
    "import plotly.express as px\n",
    "import plotly.graph_objects as go\n",
    "from plotly.subplots import make_subplots\n",
    "import re"
   ]
  },
  {
   "cell_type": "markdown",
   "id": "signed-terry",
   "metadata": {
    "papermill": {
     "duration": 0.034367,
     "end_time": "2021-05-31T18:42:44.764609",
     "exception": false,
     "start_time": "2021-05-31T18:42:44.730242",
     "status": "completed"
    },
    "tags": []
   },
   "source": [
    "# Loading Data ⏳"
   ]
  },
  {
   "cell_type": "code",
   "execution_count": 2,
   "id": "romance-shift",
   "metadata": {
    "_cell_guid": "b1076dfc-b9ad-4769-8c92-a6c4dae69d19",
    "_kg_hide-output": true,
    "_uuid": "8f2839f25d086af736a60e9eeb907d3b93b6e0e5",
    "execution": {
     "iopub.execute_input": "2021-05-31T18:42:44.839281Z",
     "iopub.status.busy": "2021-05-31T18:42:44.838644Z",
     "iopub.status.idle": "2021-05-31T18:42:44.893520Z",
     "shell.execute_reply": "2021-05-31T18:42:44.892780Z",
     "shell.execute_reply.started": "2021-05-31T17:08:45.324191Z"
    },
    "papermill": {
     "duration": 0.094753,
     "end_time": "2021-05-31T18:42:44.893684",
     "exception": false,
     "start_time": "2021-05-31T18:42:44.798931",
     "status": "completed"
    },
    "tags": []
   },
   "outputs": [
    {
     "name": "stdout",
     "output_type": "stream",
     "text": [
      "/kaggle/input/bse-stocks-data-15-minute-interval-historical/JUSTDIAL-15minute-Hist\n",
      "/kaggle/input/bse-stocks-data-15-minute-interval-historical/UPL-15minute-Hist\n",
      "/kaggle/input/bse-stocks-data-15-minute-interval-historical/APOLLOHOSP-15minute-Hist\n",
      "/kaggle/input/bse-stocks-data-15-minute-interval-historical/JINDALSTEL-15minute-Hist\n",
      "/kaggle/input/bse-stocks-data-15-minute-interval-historical/BATAINDIA-15minute-Hist\n",
      "/kaggle/input/bse-stocks-data-15-minute-interval-historical/HINDUNILVR-15minute-Hist\n",
      "/kaggle/input/bse-stocks-data-15-minute-interval-historical/TORNTPHARM-15minute-Hist\n",
      "/kaggle/input/bse-stocks-data-15-minute-interval-historical/CUMMINSIND-15minute-Hist\n",
      "/kaggle/input/bse-stocks-data-15-minute-interval-historical/NESTLEIND-15minute-Hist\n",
      "/kaggle/input/bse-stocks-data-15-minute-interval-historical/COLPAL-15minute-Hist\n",
      "/kaggle/input/bse-stocks-data-15-minute-interval-historical/MM-15minute-Hist\n",
      "/kaggle/input/bse-stocks-data-15-minute-interval-historical/CENTURYTEX-15minute-Hist\n",
      "/kaggle/input/bse-stocks-data-15-minute-interval-historical/RELINFRA-15minute-Hist\n",
      "/kaggle/input/bse-stocks-data-15-minute-interval-historical/TECHM-15minute-Hist\n",
      "/kaggle/input/bse-stocks-data-15-minute-interval-historical/PETRONET-15minute-Hist\n",
      "/kaggle/input/bse-stocks-data-15-minute-interval-historical/BHARATFORG-15minute-Hist\n",
      "/kaggle/input/bse-stocks-data-15-minute-interval-historical/INFRATEL-15minute-Hist\n",
      "/kaggle/input/bse-stocks-data-15-minute-interval-historical/PFC-15minute-Hist\n",
      "/kaggle/input/bse-stocks-data-15-minute-interval-historical/NATIONALUM-15minute-Hist\n",
      "/kaggle/input/bse-stocks-data-15-minute-interval-historical/MCX-15minute-Hist\n",
      "/kaggle/input/bse-stocks-data-15-minute-interval-historical/AMBUJACEM-15minute-Hist\n",
      "/kaggle/input/bse-stocks-data-15-minute-interval-historical/AUROPHARMA-15minute-Hist\n",
      "/kaggle/input/bse-stocks-data-15-minute-interval-historical/RAMCOCEM-15minute-Hist\n",
      "/kaggle/input/bse-stocks-data-15-minute-interval-historical/HEXAWARE-15minute-Hist\n",
      "/kaggle/input/bse-stocks-data-15-minute-interval-historical/SAIL-15minute-Hist\n",
      "/kaggle/input/bse-stocks-data-15-minute-interval-historical/CADILAHC-15minute-Hist\n",
      "/kaggle/input/bse-stocks-data-15-minute-interval-historical/BHARTIARTL-15minute-Hist\n",
      "/kaggle/input/bse-stocks-data-15-minute-interval-historical/CASTROLIND-15minute-Hist\n",
      "/kaggle/input/bse-stocks-data-15-minute-interval-historical/IGL-15minute-Hist\n",
      "/kaggle/input/bse-stocks-data-15-minute-interval-historical/YESBANK-15minute-Hist\n",
      "/kaggle/input/bse-stocks-data-15-minute-interval-historical/TATACHEM-15minute-Hist\n",
      "/kaggle/input/bse-stocks-data-15-minute-interval-historical/MARUTI-15minute-Hist\n",
      "/kaggle/input/bse-stocks-data-15-minute-interval-historical/INDIGO-15minute-Hist\n",
      "/kaggle/input/bse-stocks-data-15-minute-interval-historical/INDIANB-15minute-Hist\n",
      "/kaggle/input/bse-stocks-data-15-minute-interval-historical/POWERGRID-15minute-Hist\n",
      "/kaggle/input/bse-stocks-data-15-minute-interval-historical/EICHERMOT-15minute-Hist\n",
      "/kaggle/input/bse-stocks-data-15-minute-interval-historical/BAJAJ-AUTO-15minute-Hist\n",
      "/kaggle/input/bse-stocks-data-15-minute-interval-historical/SUNTV-15minute-Hist\n",
      "/kaggle/input/bse-stocks-data-15-minute-interval-historical/DLF-15minute-Hist\n",
      "/kaggle/input/bse-stocks-data-15-minute-interval-historical/BEL-15minute-Hist\n",
      "/kaggle/input/bse-stocks-data-15-minute-interval-historical/SIEMENS-15minute-Hist\n",
      "/kaggle/input/bse-stocks-data-15-minute-interval-historical/LUPIN-15minute-Hist\n",
      "/kaggle/input/bse-stocks-data-15-minute-interval-historical/RELCAPITAL-15minute-Hist\n",
      "/kaggle/input/bse-stocks-data-15-minute-interval-historical/BIOCON-15minute-Hist\n",
      "/kaggle/input/bse-stocks-data-15-minute-interval-historical/BHEL-15minute-Hist\n",
      "/kaggle/input/bse-stocks-data-15-minute-interval-historical/STAR-15minute-Hist\n",
      "/kaggle/input/bse-stocks-data-15-minute-interval-historical/APOLLOTYRE-15minute-Hist\n",
      "/kaggle/input/bse-stocks-data-15-minute-interval-historical/HCLTECH-15minute-Hist\n",
      "/kaggle/input/bse-stocks-data-15-minute-interval-historical/PIDILITIND-15minute-Hist\n",
      "/kaggle/input/bse-stocks-data-15-minute-interval-historical/ASHOKLEY-15minute-Hist\n",
      "/kaggle/input/bse-stocks-data-15-minute-interval-historical/TITAN-15minute-Hist\n",
      "/kaggle/input/bse-stocks-data-15-minute-interval-historical/OFSS-15minute-Hist\n",
      "/kaggle/input/bse-stocks-data-15-minute-interval-historical/MANAPPURAM-15minute-Hist\n",
      "/kaggle/input/bse-stocks-data-15-minute-interval-historical/TCS-15minute-Hist\n",
      "/kaggle/input/bse-stocks-data-15-minute-interval-historical/IOC-15minute-Hist\n",
      "/kaggle/input/bse-stocks-data-15-minute-interval-historical/HINDZINC-15minute-Hist\n",
      "/kaggle/input/bse-stocks-data-15-minute-interval-historical/HDFC-15minute-Hist\n",
      "/kaggle/input/bse-stocks-data-15-minute-interval-historical/SBIN-15minute-Hist\n",
      "/kaggle/input/bse-stocks-data-15-minute-interval-historical/FEDERALBNK-15minute-Hist\n",
      "/kaggle/input/bse-stocks-data-15-minute-interval-historical/BAJFINANCE-15minute-Hist\n",
      "/kaggle/input/bse-stocks-data-15-minute-interval-historical/TATAGLOBAL-15minute-Hist\n",
      "/kaggle/input/bse-stocks-data-15-minute-interval-historical/PEL-15minute-Hist\n",
      "/kaggle/input/bse-stocks-data-15-minute-interval-historical/MCDOWELL-N-15minute-Hist\n",
      "/kaggle/input/bse-stocks-data-15-minute-interval-historical/OIL-15minute-Hist\n",
      "/kaggle/input/bse-stocks-data-15-minute-interval-historical/KOTAKBANK-15minute-Hist\n",
      "/kaggle/input/bse-stocks-data-15-minute-interval-historical/COALINDIA-15minute-Hist\n",
      "/kaggle/input/bse-stocks-data-15-minute-interval-historical/HINDPETRO-15minute-Hist\n",
      "/kaggle/input/bse-stocks-data-15-minute-interval-historical/MMFIN-15minute-Hist\n",
      "/kaggle/input/bse-stocks-data-15-minute-interval-historical/ESCORTS-15minute-Hist\n",
      "/kaggle/input/bse-stocks-data-15-minute-interval-historical/NTPC-15minute-Hist\n",
      "/kaggle/input/bse-stocks-data-15-minute-interval-historical/HAVELLS-15minute-Hist\n",
      "/kaggle/input/bse-stocks-data-15-minute-interval-historical/CESC-15minute-Hist\n",
      "/kaggle/input/bse-stocks-data-15-minute-interval-historical/TATAMTRDVR-15minute-Hist\n",
      "/kaggle/input/bse-stocks-data-15-minute-interval-historical/HINDALCO-15minute-Hist\n",
      "/kaggle/input/bse-stocks-data-15-minute-interval-historical/ASIANPAINT-15minute-Hist\n",
      "/kaggle/input/bse-stocks-data-15-minute-interval-historical/PNB-15minute-Hist\n",
      "/kaggle/input/bse-stocks-data-15-minute-interval-historical/NMDC-15minute-Hist\n",
      "/kaggle/input/bse-stocks-data-15-minute-interval-historical/PAGEIND-15minute-Hist\n",
      "/kaggle/input/bse-stocks-data-15-minute-interval-historical/GLENMARK-15minute-Hist\n",
      "/kaggle/input/bse-stocks-data-15-minute-interval-historical/LT-15minute-Hist\n",
      "/kaggle/input/bse-stocks-data-15-minute-interval-historical/IDFCFIRSTB-15minute-Hist\n",
      "/kaggle/input/bse-stocks-data-15-minute-interval-historical/SUNPHARMA-15minute-Hist\n",
      "/kaggle/input/bse-stocks-data-15-minute-interval-historical/IBULHSGFIN-15minute-Hist\n",
      "/kaggle/input/bse-stocks-data-15-minute-interval-historical/WIPRO-15minute-Hist\n",
      "/kaggle/input/bse-stocks-data-15-minute-interval-historical/MARICO-15minute-Hist\n",
      "/kaggle/input/bse-stocks-data-15-minute-interval-historical/TATAMOTORS-15minute-Hist\n",
      "/kaggle/input/bse-stocks-data-15-minute-interval-historical/BANKINDIA-15minute-Hist\n",
      "/kaggle/input/bse-stocks-data-15-minute-interval-historical/RECLTD-15minute-Hist\n",
      "/kaggle/input/bse-stocks-data-15-minute-interval-historical/LTFH-15minute-Hist\n",
      "/kaggle/input/bse-stocks-data-15-minute-interval-historical/BSOFT-15minute-Hist\n",
      "/kaggle/input/bse-stocks-data-15-minute-interval-historical/VOLTAS-15minute-Hist\n",
      "/kaggle/input/bse-stocks-data-15-minute-interval-historical/BERGEPAINT-15minute-Hist\n",
      "/kaggle/input/bse-stocks-data-15-minute-interval-historical/TVSMOTOR-15minute-Hist\n",
      "/kaggle/input/bse-stocks-data-15-minute-interval-historical/EXIDEIND-15minute-Hist\n",
      "/kaggle/input/bse-stocks-data-15-minute-interval-historical/MFSL-15minute-Hist\n",
      "/kaggle/input/bse-stocks-data-15-minute-interval-historical/BHARATFIN-15minute-Hist\n",
      "/kaggle/input/bse-stocks-data-15-minute-interval-historical/CANBK-15minute-Hist\n",
      "/kaggle/input/bse-stocks-data-15-minute-interval-historical/HDFCBANK-15minute-Hist\n",
      "/kaggle/input/bse-stocks-data-15-minute-interval-historical/RAYMOND-15minute-Hist\n",
      "/kaggle/input/bse-stocks-data-15-minute-interval-historical/AMARAJABAT-15minute-Hist\n",
      "/kaggle/input/bse-stocks-data-15-minute-interval-historical/BRITANNIA-15minute-Hist\n",
      "/kaggle/input/bse-stocks-data-15-minute-interval-historical/UNIONBANK-15minute-Hist\n",
      "/kaggle/input/bse-stocks-data-15-minute-interval-historical/TATAPOWER-15minute-Hist\n",
      "/kaggle/input/bse-stocks-data-15-minute-interval-historical/CONCOR-15minute-Hist\n",
      "/kaggle/input/bse-stocks-data-15-minute-interval-historical/TORNTPOWER-15minute-Hist\n",
      "/kaggle/input/bse-stocks-data-15-minute-interval-historical/LICHSGFIN-15minute-Hist\n",
      "/kaggle/input/bse-stocks-data-15-minute-interval-historical/AXISBANK-15minute-Hist\n",
      "/kaggle/input/bse-stocks-data-15-minute-interval-historical/IDEA-15minute-Hist\n",
      "/kaggle/input/bse-stocks-data-15-minute-interval-historical/ZEEL-15minute-Hist\n",
      "/kaggle/input/bse-stocks-data-15-minute-interval-historical/SRF-15minute-Hist\n",
      "/kaggle/input/bse-stocks-data-15-minute-interval-historical/DISHTV-15minute-Hist\n",
      "/kaggle/input/bse-stocks-data-15-minute-interval-historical/MUTHOOTFIN-15minute-Hist\n",
      "/kaggle/input/bse-stocks-data-15-minute-interval-historical/ADANIENT-15minute-Hist\n",
      "/kaggle/input/bse-stocks-data-15-minute-interval-historical/RELIANCE-15minute-Hist\n",
      "/kaggle/input/bse-stocks-data-15-minute-interval-historical/PVR-15minute-Hist\n",
      "/kaggle/input/bse-stocks-data-15-minute-interval-historical/ADANIPOWER-15minute-Hist\n",
      "/kaggle/input/bse-stocks-data-15-minute-interval-historical/JSWSTEEL-15minute-Hist\n",
      "/kaggle/input/bse-stocks-data-15-minute-interval-historical/IDBI-15minute-Hist\n",
      "/kaggle/input/bse-stocks-data-15-minute-interval-historical/MOTHERSUMI-15minute-Hist\n",
      "/kaggle/input/bse-stocks-data-15-minute-interval-historical/BAJAJFINSV-15minute-Hist\n",
      "/kaggle/input/bse-stocks-data-15-minute-interval-historical/CIPLA-15minute-Hist\n",
      "/kaggle/input/bse-stocks-data-15-minute-interval-historical/ULTRACEMCO-15minute-Hist\n",
      "/kaggle/input/bse-stocks-data-15-minute-interval-historical/MINDTREE-15minute-Hist\n",
      "/kaggle/input/bse-stocks-data-15-minute-interval-historical/MRF-15minute-Hist\n",
      "/kaggle/input/bse-stocks-data-15-minute-interval-historical/GMRINFRA-15minute-Hist\n",
      "/kaggle/input/bse-stocks-data-15-minute-interval-historical/UBL-15minute-Hist\n",
      "/kaggle/input/bse-stocks-data-15-minute-interval-historical/GRASIM-15minute-Hist\n",
      "/kaggle/input/bse-stocks-data-15-minute-interval-historical/DIVISLAB-15minute-Hist\n",
      "/kaggle/input/bse-stocks-data-15-minute-interval-historical/BANKBARODA-15minute-Hist\n",
      "/kaggle/input/bse-stocks-data-15-minute-interval-historical/CHOLAFIN-15minute-Hist\n",
      "/kaggle/input/bse-stocks-data-15-minute-interval-historical/KAJARIACER-15minute-Hist\n",
      "/kaggle/input/bse-stocks-data-15-minute-interval-historical/GODREJCP-15minute-Hist\n",
      "/kaggle/input/bse-stocks-data-15-minute-interval-historical/TATASTEEL-15minute-Hist\n",
      "/kaggle/input/bse-stocks-data-15-minute-interval-historical/ICICIBANK-15minute-Hist\n",
      "/kaggle/input/bse-stocks-data-15-minute-interval-historical/DHFL-15minute-Hist\n",
      "/kaggle/input/bse-stocks-data-15-minute-interval-historical/ONGC-15minute-Hist\n",
      "/kaggle/input/bse-stocks-data-15-minute-interval-historical/BOSCHLTD-15minute-Hist\n",
      "/kaggle/input/bse-stocks-data-15-minute-interval-historical/ADANIPORTS-15minute-Hist\n",
      "/kaggle/input/bse-stocks-data-15-minute-interval-historical/DABUR-15minute-Hist\n",
      "/kaggle/input/bse-stocks-data-15-minute-interval-historical/NBCC-15minute-Hist\n",
      "/kaggle/input/bse-stocks-data-15-minute-interval-historical/HEROMOTOCO-15minute-Hist\n",
      "/kaggle/input/bse-stocks-data-15-minute-interval-historical/ITC-15minute-Hist\n",
      "/kaggle/input/bse-stocks-data-15-minute-interval-historical/VEDL-15minute-Hist\n",
      "/kaggle/input/bse-stocks-data-15-minute-interval-historical/JUBLFOOD-15minute-Hist\n",
      "/kaggle/input/bse-stocks-data-15-minute-interval-historical/SRTRANSFIN-15minute-Hist\n",
      "/kaggle/input/bse-stocks-data-15-minute-interval-historical/ENGINERSIN-15minute-Hist\n",
      "/kaggle/input/bse-stocks-data-15-minute-interval-historical/ACC-15minute-Hist\n",
      "/kaggle/input/bse-stocks-data-15-minute-interval-historical/DRREDDY-15minute-Hist\n",
      "/kaggle/input/bse-stocks-data-15-minute-interval-historical/TATAELXSI-15minute-Hist\n",
      "/kaggle/input/bse-stocks-data-15-minute-interval-historical/ARVIND-15minute-Hist\n",
      "/kaggle/input/bse-stocks-data-15-minute-interval-historical/GAIL-15minute-Hist\n",
      "/kaggle/input/bse-stocks-data-15-minute-interval-historical/INFY-15minute-Hist\n",
      "/kaggle/input/bse-stocks-data-15-minute-interval-historical/SHREECEM-15minute-Hist\n",
      "/kaggle/input/bse-stocks-data-15-minute-interval-historical/BPCL-15minute-Hist\n"
     ]
    }
   ],
   "source": [
    "# This Python 3 environment comes with many helpful analytics libraries installed\n",
    "# It is defined by the kaggle/python Docker image: https://github.com/kaggle/docker-python\n",
    "\n",
    "file_paths = []\n",
    "\n",
    "import os\n",
    "for dirname, _, filenames in os.walk('/kaggle/input'):\n",
    "    for filename in filenames:\n",
    "        file_paths.append(os.path.join(dirname, filename))\n",
    "        print(os.path.join(dirname, filename))\n"
   ]
  },
  {
   "cell_type": "markdown",
   "id": "handmade-capacity",
   "metadata": {
    "papermill": {
     "duration": 0.034329,
     "end_time": "2021-05-31T18:42:44.963012",
     "exception": false,
     "start_time": "2021-05-31T18:42:44.928683",
     "status": "completed"
    },
    "tags": []
   },
   "source": [
    "<div class=\"alert alert-info\">\n",
    "    <strong>📌 Merging Dataframes</strong>\n",
    "    <p>Read and merge dataframes of selected companies with <code>Reliance</code> data. The selected stocks are <code>TCS</code>, <code>Wipro</code>, <code>Asian Paints</code> and <code>HDFC</code>. These stocks are in the similar range as that of Reliance. This merged dataset will be used to compare the stocks of these companies with Reliance.</p>\n",
    "</div>"
   ]
  },
  {
   "cell_type": "code",
   "execution_count": 3,
   "id": "super-attendance",
   "metadata": {
    "_kg_hide-input": true,
    "execution": {
     "iopub.execute_input": "2021-05-31T18:42:45.041186Z",
     "iopub.status.busy": "2021-05-31T18:42:45.040459Z",
     "iopub.status.idle": "2021-05-31T18:42:45.043389Z",
     "shell.execute_reply": "2021-05-31T18:42:45.042826Z",
     "shell.execute_reply.started": "2021-05-31T17:08:45.483081Z"
    },
    "papermill": {
     "duration": 0.045879,
     "end_time": "2021-05-31T18:42:45.043535",
     "exception": false,
     "start_time": "2021-05-31T18:42:44.997656",
     "status": "completed"
    },
    "tags": []
   },
   "outputs": [],
   "source": [
    "def merge_files(file_paths=file_paths):\n",
    "    final_df = pd.DataFrame()\n",
    "    for file_path in file_paths:\n",
    "        df = pd.read_pickle(file_path)\n",
    "        df = pd.DataFrame(df)\n",
    "        \n",
    "        # Getting Stock Name\n",
    "        pattern = \"historical\\/(.*?)\\-\"\n",
    "        stock_name = re.search(pattern, file_path).group(1)\n",
    "        \n",
    "        # Preprocessing\n",
    "        df['date'] = df['date'].apply(pd.to_datetime)\n",
    "        df['time'] = df['date'].dt.time\n",
    "        df['date'] = df['date'].dt.date\n",
    "        \n",
    "        temp = df.groupby(['date']).agg({'low':'min', 'high':'max', 'open':'first', 'close':'last', 'volume':'sum'})\n",
    "        temp = temp.reset_index()\n",
    "        temp['stock_name'] = stock_name\n",
    "        \n",
    "        final_df = final_df.append(temp, ignore_index=True)\n",
    "    \n",
    "    return final_df"
   ]
  },
  {
   "cell_type": "code",
   "execution_count": 4,
   "id": "assured-actress",
   "metadata": {
    "_kg_hide-input": true,
    "execution": {
     "iopub.execute_input": "2021-05-31T18:42:45.118203Z",
     "iopub.status.busy": "2021-05-31T18:42:45.117505Z",
     "iopub.status.idle": "2021-05-31T18:42:45.120586Z",
     "shell.execute_reply": "2021-05-31T18:42:45.119887Z",
     "shell.execute_reply.started": "2021-05-31T17:08:45.493904Z"
    },
    "papermill": {
     "duration": 0.04236,
     "end_time": "2021-05-31T18:42:45.120724",
     "exception": false,
     "start_time": "2021-05-31T18:42:45.078364",
     "status": "completed"
    },
    "tags": []
   },
   "outputs": [],
   "source": [
    "file_paths = [\n",
    "    '/kaggle/input/bse-stocks-data-15-minute-interval-historical/RELIANCE-15minute-Hist',\n",
    "    '/kaggle/input/bse-stocks-data-15-minute-interval-historical/TCS-15minute-Hist',\n",
    "    '/kaggle/input/bse-stocks-data-15-minute-interval-historical/WIPRO-15minute-Hist',\n",
    "    '/kaggle/input/bse-stocks-data-15-minute-interval-historical/ASIANPAINT-15minute-Hist',\n",
    "    '/kaggle/input/bse-stocks-data-15-minute-interval-historical/HDFC-15minute-Hist'\n",
    "]"
   ]
  },
  {
   "cell_type": "code",
   "execution_count": 5,
   "id": "progressive-monkey",
   "metadata": {
    "execution": {
     "iopub.execute_input": "2021-05-31T18:42:45.195939Z",
     "iopub.status.busy": "2021-05-31T18:42:45.195324Z",
     "iopub.status.idle": "2021-05-31T18:42:47.331172Z",
     "shell.execute_reply": "2021-05-31T18:42:47.330611Z",
     "shell.execute_reply.started": "2021-05-31T17:08:45.510146Z"
    },
    "papermill": {
     "duration": 2.175506,
     "end_time": "2021-05-31T18:42:47.331310",
     "exception": false,
     "start_time": "2021-05-31T18:42:45.155804",
     "status": "completed"
    },
    "tags": []
   },
   "outputs": [],
   "source": [
    "df_merged = merge_files(file_paths=file_paths)"
   ]
  },
  {
   "cell_type": "code",
   "execution_count": 6,
   "id": "respected-characterization",
   "metadata": {
    "execution": {
     "iopub.execute_input": "2021-05-31T18:42:47.405561Z",
     "iopub.status.busy": "2021-05-31T18:42:47.404547Z",
     "iopub.status.idle": "2021-05-31T18:42:47.661327Z",
     "shell.execute_reply": "2021-05-31T18:42:47.660673Z",
     "shell.execute_reply.started": "2021-05-31T17:08:47.877686Z"
    },
    "papermill": {
     "duration": 0.295631,
     "end_time": "2021-05-31T18:42:47.661461",
     "exception": false,
     "start_time": "2021-05-31T18:42:47.365830",
     "status": "completed"
    },
    "tags": []
   },
   "outputs": [],
   "source": [
    "ril_data = pd.read_pickle('/kaggle/input/bse-stocks-data-15-minute-interval-historical/RELIANCE-15minute-Hist')\n",
    "ril_data = pd.DataFrame(ril_data)"
   ]
  },
  {
   "cell_type": "code",
   "execution_count": 7,
   "id": "earned-ebony",
   "metadata": {
    "execution": {
     "iopub.execute_input": "2021-05-31T18:42:47.740424Z",
     "iopub.status.busy": "2021-05-31T18:42:47.739514Z",
     "iopub.status.idle": "2021-05-31T18:42:47.757516Z",
     "shell.execute_reply": "2021-05-31T18:42:47.756890Z",
     "shell.execute_reply.started": "2021-05-31T17:08:48.146159Z"
    },
    "papermill": {
     "duration": 0.060468,
     "end_time": "2021-05-31T18:42:47.757649",
     "exception": false,
     "start_time": "2021-05-31T18:42:47.697181",
     "status": "completed"
    },
    "tags": []
   },
   "outputs": [
    {
     "data": {
      "text/html": [
       "<div>\n",
       "<style scoped>\n",
       "    .dataframe tbody tr th:only-of-type {\n",
       "        vertical-align: middle;\n",
       "    }\n",
       "\n",
       "    .dataframe tbody tr th {\n",
       "        vertical-align: top;\n",
       "    }\n",
       "\n",
       "    .dataframe thead th {\n",
       "        text-align: right;\n",
       "    }\n",
       "</style>\n",
       "<table border=\"1\" class=\"dataframe\">\n",
       "  <thead>\n",
       "    <tr style=\"text-align: right;\">\n",
       "      <th></th>\n",
       "      <th>date</th>\n",
       "      <th>open</th>\n",
       "      <th>high</th>\n",
       "      <th>low</th>\n",
       "      <th>close</th>\n",
       "      <th>volume</th>\n",
       "    </tr>\n",
       "  </thead>\n",
       "  <tbody>\n",
       "    <tr>\n",
       "      <th>0</th>\n",
       "      <td>2015-02-02 09:15:00+05:30</td>\n",
       "      <td>458.48</td>\n",
       "      <td>459.90</td>\n",
       "      <td>457.03</td>\n",
       "      <td>458.25</td>\n",
       "      <td>587446</td>\n",
       "    </tr>\n",
       "    <tr>\n",
       "      <th>1</th>\n",
       "      <td>2015-02-02 09:30:00+05:30</td>\n",
       "      <td>458.35</td>\n",
       "      <td>458.48</td>\n",
       "      <td>457.00</td>\n",
       "      <td>457.03</td>\n",
       "      <td>288842</td>\n",
       "    </tr>\n",
       "    <tr>\n",
       "      <th>2</th>\n",
       "      <td>2015-02-02 09:45:00+05:30</td>\n",
       "      <td>457.03</td>\n",
       "      <td>457.88</td>\n",
       "      <td>456.45</td>\n",
       "      <td>457.25</td>\n",
       "      <td>232376</td>\n",
       "    </tr>\n",
       "    <tr>\n",
       "      <th>3</th>\n",
       "      <td>2015-02-02 10:00:00+05:30</td>\n",
       "      <td>457.25</td>\n",
       "      <td>457.75</td>\n",
       "      <td>455.75</td>\n",
       "      <td>457.00</td>\n",
       "      <td>208256</td>\n",
       "    </tr>\n",
       "    <tr>\n",
       "      <th>4</th>\n",
       "      <td>2015-02-02 10:15:00+05:30</td>\n",
       "      <td>457.00</td>\n",
       "      <td>457.48</td>\n",
       "      <td>456.50</td>\n",
       "      <td>457.00</td>\n",
       "      <td>90870</td>\n",
       "    </tr>\n",
       "  </tbody>\n",
       "</table>\n",
       "</div>"
      ],
      "text/plain": [
       "                       date    open    high     low   close  volume\n",
       "0 2015-02-02 09:15:00+05:30  458.48  459.90  457.03  458.25  587446\n",
       "1 2015-02-02 09:30:00+05:30  458.35  458.48  457.00  457.03  288842\n",
       "2 2015-02-02 09:45:00+05:30  457.03  457.88  456.45  457.25  232376\n",
       "3 2015-02-02 10:00:00+05:30  457.25  457.75  455.75  457.00  208256\n",
       "4 2015-02-02 10:15:00+05:30  457.00  457.48  456.50  457.00   90870"
      ]
     },
     "execution_count": 7,
     "metadata": {},
     "output_type": "execute_result"
    }
   ],
   "source": [
    "ril_data.head()"
   ]
  },
  {
   "cell_type": "code",
   "execution_count": 8,
   "id": "occupational-florist",
   "metadata": {
    "execution": {
     "iopub.execute_input": "2021-05-31T18:42:47.841284Z",
     "iopub.status.busy": "2021-05-31T18:42:47.840579Z",
     "iopub.status.idle": "2021-05-31T18:42:47.843966Z",
     "shell.execute_reply": "2021-05-31T18:42:47.844503Z",
     "shell.execute_reply.started": "2021-05-31T17:08:48.174655Z"
    },
    "papermill": {
     "duration": 0.052039,
     "end_time": "2021-05-31T18:42:47.844673",
     "exception": false,
     "start_time": "2021-05-31T18:42:47.792634",
     "status": "completed"
    },
    "tags": []
   },
   "outputs": [
    {
     "data": {
      "text/html": [
       "<div>\n",
       "<style scoped>\n",
       "    .dataframe tbody tr th:only-of-type {\n",
       "        vertical-align: middle;\n",
       "    }\n",
       "\n",
       "    .dataframe tbody tr th {\n",
       "        vertical-align: top;\n",
       "    }\n",
       "\n",
       "    .dataframe thead th {\n",
       "        text-align: right;\n",
       "    }\n",
       "</style>\n",
       "<table border=\"1\" class=\"dataframe\">\n",
       "  <thead>\n",
       "    <tr style=\"text-align: right;\">\n",
       "      <th></th>\n",
       "      <th>date</th>\n",
       "      <th>open</th>\n",
       "      <th>high</th>\n",
       "      <th>low</th>\n",
       "      <th>close</th>\n",
       "      <th>volume</th>\n",
       "    </tr>\n",
       "  </thead>\n",
       "  <tbody>\n",
       "    <tr>\n",
       "      <th>26226</th>\n",
       "      <td>2019-05-08 15:00:00+05:30</td>\n",
       "      <td>1303.00</td>\n",
       "      <td>1306.70</td>\n",
       "      <td>1302.05</td>\n",
       "      <td>1304.75</td>\n",
       "      <td>650447</td>\n",
       "    </tr>\n",
       "    <tr>\n",
       "      <th>26227</th>\n",
       "      <td>2019-05-08 15:15:00+05:30</td>\n",
       "      <td>1304.70</td>\n",
       "      <td>1305.00</td>\n",
       "      <td>1292.50</td>\n",
       "      <td>1298.00</td>\n",
       "      <td>1993463</td>\n",
       "    </tr>\n",
       "    <tr>\n",
       "      <th>26228</th>\n",
       "      <td>2019-05-08 15:30:00+05:30</td>\n",
       "      <td>1297.75</td>\n",
       "      <td>1299.45</td>\n",
       "      <td>1297.75</td>\n",
       "      <td>1299.45</td>\n",
       "      <td>5877</td>\n",
       "    </tr>\n",
       "    <tr>\n",
       "      <th>26229</th>\n",
       "      <td>2019-05-08 15:45:00+05:30</td>\n",
       "      <td>1299.45</td>\n",
       "      <td>1299.45</td>\n",
       "      <td>1299.45</td>\n",
       "      <td>1299.45</td>\n",
       "      <td>1479</td>\n",
       "    </tr>\n",
       "    <tr>\n",
       "      <th>26230</th>\n",
       "      <td>2019-05-08 16:00:00+05:30</td>\n",
       "      <td>1299.45</td>\n",
       "      <td>1299.45</td>\n",
       "      <td>1299.45</td>\n",
       "      <td>1299.45</td>\n",
       "      <td>0</td>\n",
       "    </tr>\n",
       "  </tbody>\n",
       "</table>\n",
       "</div>"
      ],
      "text/plain": [
       "                           date     open     high      low    close   volume\n",
       "26226 2019-05-08 15:00:00+05:30  1303.00  1306.70  1302.05  1304.75   650447\n",
       "26227 2019-05-08 15:15:00+05:30  1304.70  1305.00  1292.50  1298.00  1993463\n",
       "26228 2019-05-08 15:30:00+05:30  1297.75  1299.45  1297.75  1299.45     5877\n",
       "26229 2019-05-08 15:45:00+05:30  1299.45  1299.45  1299.45  1299.45     1479\n",
       "26230 2019-05-08 16:00:00+05:30  1299.45  1299.45  1299.45  1299.45        0"
      ]
     },
     "execution_count": 8,
     "metadata": {},
     "output_type": "execute_result"
    }
   ],
   "source": [
    "ril_data.tail()"
   ]
  },
  {
   "cell_type": "code",
   "execution_count": 9,
   "id": "compatible-sussex",
   "metadata": {
    "execution": {
     "iopub.execute_input": "2021-05-31T18:42:47.919696Z",
     "iopub.status.busy": "2021-05-31T18:42:47.919032Z",
     "iopub.status.idle": "2021-05-31T18:42:47.927270Z",
     "shell.execute_reply": "2021-05-31T18:42:47.926653Z",
     "shell.execute_reply.started": "2021-05-31T17:08:48.192389Z"
    },
    "papermill": {
     "duration": 0.046395,
     "end_time": "2021-05-31T18:42:47.927403",
     "exception": false,
     "start_time": "2021-05-31T18:42:47.881008",
     "status": "completed"
    },
    "tags": []
   },
   "outputs": [
    {
     "data": {
      "text/plain": [
       "date      0\n",
       "open      0\n",
       "high      0\n",
       "low       0\n",
       "close     0\n",
       "volume    0\n",
       "dtype: int64"
      ]
     },
     "execution_count": 9,
     "metadata": {},
     "output_type": "execute_result"
    }
   ],
   "source": [
    "ril_data.isnull().sum()"
   ]
  },
  {
   "cell_type": "code",
   "execution_count": 10,
   "id": "short-parallel",
   "metadata": {
    "execution": {
     "iopub.execute_input": "2021-05-31T18:42:48.004632Z",
     "iopub.status.busy": "2021-05-31T18:42:48.003974Z",
     "iopub.status.idle": "2021-05-31T18:42:48.038601Z",
     "shell.execute_reply": "2021-05-31T18:42:48.038082Z",
     "shell.execute_reply.started": "2021-05-31T17:08:48.209522Z"
    },
    "papermill": {
     "duration": 0.074216,
     "end_time": "2021-05-31T18:42:48.038735",
     "exception": false,
     "start_time": "2021-05-31T18:42:47.964519",
     "status": "completed"
    },
    "tags": []
   },
   "outputs": [
    {
     "data": {
      "text/html": [
       "<div>\n",
       "<style scoped>\n",
       "    .dataframe tbody tr th:only-of-type {\n",
       "        vertical-align: middle;\n",
       "    }\n",
       "\n",
       "    .dataframe tbody tr th {\n",
       "        vertical-align: top;\n",
       "    }\n",
       "\n",
       "    .dataframe thead th {\n",
       "        text-align: right;\n",
       "    }\n",
       "</style>\n",
       "<table border=\"1\" class=\"dataframe\">\n",
       "  <thead>\n",
       "    <tr style=\"text-align: right;\">\n",
       "      <th></th>\n",
       "      <th>open</th>\n",
       "      <th>high</th>\n",
       "      <th>low</th>\n",
       "      <th>close</th>\n",
       "      <th>volume</th>\n",
       "    </tr>\n",
       "  </thead>\n",
       "  <tbody>\n",
       "    <tr>\n",
       "      <th>count</th>\n",
       "      <td>26231.000000</td>\n",
       "      <td>26231.000000</td>\n",
       "      <td>26231.000000</td>\n",
       "      <td>26231.000000</td>\n",
       "      <td>2.623100e+04</td>\n",
       "    </tr>\n",
       "    <tr>\n",
       "      <th>mean</th>\n",
       "      <td>739.320535</td>\n",
       "      <td>740.641894</td>\n",
       "      <td>737.925143</td>\n",
       "      <td>739.308286</td>\n",
       "      <td>3.115162e+05</td>\n",
       "    </tr>\n",
       "    <tr>\n",
       "      <th>std</th>\n",
       "      <td>286.903640</td>\n",
       "      <td>287.457618</td>\n",
       "      <td>286.298588</td>\n",
       "      <td>286.904062</td>\n",
       "      <td>3.816801e+05</td>\n",
       "    </tr>\n",
       "    <tr>\n",
       "      <th>min</th>\n",
       "      <td>398.750000</td>\n",
       "      <td>400.230000</td>\n",
       "      <td>398.280000</td>\n",
       "      <td>398.750000</td>\n",
       "      <td>0.000000e+00</td>\n",
       "    </tr>\n",
       "    <tr>\n",
       "      <th>25%</th>\n",
       "      <td>495.530000</td>\n",
       "      <td>496.350000</td>\n",
       "      <td>494.750000</td>\n",
       "      <td>495.500000</td>\n",
       "      <td>1.276230e+05</td>\n",
       "    </tr>\n",
       "    <tr>\n",
       "      <th>50%</th>\n",
       "      <td>644.000000</td>\n",
       "      <td>645.100000</td>\n",
       "      <td>642.850000</td>\n",
       "      <td>643.880000</td>\n",
       "      <td>2.060620e+05</td>\n",
       "    </tr>\n",
       "    <tr>\n",
       "      <th>75%</th>\n",
       "      <td>944.725000</td>\n",
       "      <td>946.050000</td>\n",
       "      <td>942.775000</td>\n",
       "      <td>944.725000</td>\n",
       "      <td>3.593500e+05</td>\n",
       "    </tr>\n",
       "    <tr>\n",
       "      <th>max</th>\n",
       "      <td>1416.850000</td>\n",
       "      <td>1417.500000</td>\n",
       "      <td>1412.850000</td>\n",
       "      <td>1417.000000</td>\n",
       "      <td>1.093779e+07</td>\n",
       "    </tr>\n",
       "  </tbody>\n",
       "</table>\n",
       "</div>"
      ],
      "text/plain": [
       "               open          high           low         close        volume\n",
       "count  26231.000000  26231.000000  26231.000000  26231.000000  2.623100e+04\n",
       "mean     739.320535    740.641894    737.925143    739.308286  3.115162e+05\n",
       "std      286.903640    287.457618    286.298588    286.904062  3.816801e+05\n",
       "min      398.750000    400.230000    398.280000    398.750000  0.000000e+00\n",
       "25%      495.530000    496.350000    494.750000    495.500000  1.276230e+05\n",
       "50%      644.000000    645.100000    642.850000    643.880000  2.060620e+05\n",
       "75%      944.725000    946.050000    942.775000    944.725000  3.593500e+05\n",
       "max     1416.850000   1417.500000   1412.850000   1417.000000  1.093779e+07"
      ]
     },
     "execution_count": 10,
     "metadata": {},
     "output_type": "execute_result"
    }
   ],
   "source": [
    "ril_data.describe()"
   ]
  },
  {
   "cell_type": "markdown",
   "id": "involved-grain",
   "metadata": {
    "papermill": {
     "duration": 0.036378,
     "end_time": "2021-05-31T18:42:48.111210",
     "exception": false,
     "start_time": "2021-05-31T18:42:48.074832",
     "status": "completed"
    },
    "tags": []
   },
   "source": [
    "# Preprocessing ⚒"
   ]
  },
  {
   "cell_type": "code",
   "execution_count": 11,
   "id": "varying-coordinator",
   "metadata": {
    "execution": {
     "iopub.execute_input": "2021-05-31T18:42:48.211661Z",
     "iopub.status.busy": "2021-05-31T18:42:48.202087Z",
     "iopub.status.idle": "2021-05-31T18:42:48.215850Z",
     "shell.execute_reply": "2021-05-31T18:42:48.215242Z",
     "shell.execute_reply.started": "2021-05-31T17:08:48.251956Z"
    },
    "papermill": {
     "duration": 0.067584,
     "end_time": "2021-05-31T18:42:48.216015",
     "exception": false,
     "start_time": "2021-05-31T18:42:48.148431",
     "status": "completed"
    },
    "tags": []
   },
   "outputs": [
    {
     "data": {
      "text/html": [
       "<div>\n",
       "<style scoped>\n",
       "    .dataframe tbody tr th:only-of-type {\n",
       "        vertical-align: middle;\n",
       "    }\n",
       "\n",
       "    .dataframe tbody tr th {\n",
       "        vertical-align: top;\n",
       "    }\n",
       "\n",
       "    .dataframe thead th {\n",
       "        text-align: right;\n",
       "    }\n",
       "</style>\n",
       "<table border=\"1\" class=\"dataframe\">\n",
       "  <thead>\n",
       "    <tr style=\"text-align: right;\">\n",
       "      <th></th>\n",
       "      <th>date</th>\n",
       "      <th>open</th>\n",
       "      <th>high</th>\n",
       "      <th>low</th>\n",
       "      <th>close</th>\n",
       "      <th>volume</th>\n",
       "    </tr>\n",
       "  </thead>\n",
       "  <tbody>\n",
       "    <tr>\n",
       "      <th>0</th>\n",
       "      <td>2015-02-02 09:15:00+05:30</td>\n",
       "      <td>458.48</td>\n",
       "      <td>459.90</td>\n",
       "      <td>457.03</td>\n",
       "      <td>458.25</td>\n",
       "      <td>587446</td>\n",
       "    </tr>\n",
       "    <tr>\n",
       "      <th>1</th>\n",
       "      <td>2015-02-02 09:30:00+05:30</td>\n",
       "      <td>458.35</td>\n",
       "      <td>458.48</td>\n",
       "      <td>457.00</td>\n",
       "      <td>457.03</td>\n",
       "      <td>288842</td>\n",
       "    </tr>\n",
       "    <tr>\n",
       "      <th>2</th>\n",
       "      <td>2015-02-02 09:45:00+05:30</td>\n",
       "      <td>457.03</td>\n",
       "      <td>457.88</td>\n",
       "      <td>456.45</td>\n",
       "      <td>457.25</td>\n",
       "      <td>232376</td>\n",
       "    </tr>\n",
       "    <tr>\n",
       "      <th>3</th>\n",
       "      <td>2015-02-02 10:00:00+05:30</td>\n",
       "      <td>457.25</td>\n",
       "      <td>457.75</td>\n",
       "      <td>455.75</td>\n",
       "      <td>457.00</td>\n",
       "      <td>208256</td>\n",
       "    </tr>\n",
       "    <tr>\n",
       "      <th>4</th>\n",
       "      <td>2015-02-02 10:15:00+05:30</td>\n",
       "      <td>457.00</td>\n",
       "      <td>457.48</td>\n",
       "      <td>456.50</td>\n",
       "      <td>457.00</td>\n",
       "      <td>90870</td>\n",
       "    </tr>\n",
       "  </tbody>\n",
       "</table>\n",
       "</div>"
      ],
      "text/plain": [
       "                       date    open    high     low   close  volume\n",
       "0 2015-02-02 09:15:00+05:30  458.48  459.90  457.03  458.25  587446\n",
       "1 2015-02-02 09:30:00+05:30  458.35  458.48  457.00  457.03  288842\n",
       "2 2015-02-02 09:45:00+05:30  457.03  457.88  456.45  457.25  232376\n",
       "3 2015-02-02 10:00:00+05:30  457.25  457.75  455.75  457.00  208256\n",
       "4 2015-02-02 10:15:00+05:30  457.00  457.48  456.50  457.00   90870"
      ]
     },
     "execution_count": 11,
     "metadata": {},
     "output_type": "execute_result"
    }
   ],
   "source": [
    "ril_data['date'] = ril_data['date'].apply(pd.to_datetime)\n",
    "ril_data.head()"
   ]
  },
  {
   "cell_type": "code",
   "execution_count": 12,
   "id": "saving-entrance",
   "metadata": {
    "execution": {
     "iopub.execute_input": "2021-05-31T18:42:48.295047Z",
     "iopub.status.busy": "2021-05-31T18:42:48.294426Z",
     "iopub.status.idle": "2021-05-31T18:42:48.339237Z",
     "shell.execute_reply": "2021-05-31T18:42:48.339737Z",
     "shell.execute_reply.started": "2021-05-31T17:08:48.283779Z"
    },
    "papermill": {
     "duration": 0.086687,
     "end_time": "2021-05-31T18:42:48.339913",
     "exception": false,
     "start_time": "2021-05-31T18:42:48.253226",
     "status": "completed"
    },
    "tags": []
   },
   "outputs": [
    {
     "data": {
      "text/html": [
       "<div>\n",
       "<style scoped>\n",
       "    .dataframe tbody tr th:only-of-type {\n",
       "        vertical-align: middle;\n",
       "    }\n",
       "\n",
       "    .dataframe tbody tr th {\n",
       "        vertical-align: top;\n",
       "    }\n",
       "\n",
       "    .dataframe thead th {\n",
       "        text-align: right;\n",
       "    }\n",
       "</style>\n",
       "<table border=\"1\" class=\"dataframe\">\n",
       "  <thead>\n",
       "    <tr style=\"text-align: right;\">\n",
       "      <th></th>\n",
       "      <th>date</th>\n",
       "      <th>open</th>\n",
       "      <th>high</th>\n",
       "      <th>low</th>\n",
       "      <th>close</th>\n",
       "      <th>volume</th>\n",
       "      <th>time</th>\n",
       "    </tr>\n",
       "  </thead>\n",
       "  <tbody>\n",
       "    <tr>\n",
       "      <th>0</th>\n",
       "      <td>2015-02-02</td>\n",
       "      <td>458.48</td>\n",
       "      <td>459.90</td>\n",
       "      <td>457.03</td>\n",
       "      <td>458.25</td>\n",
       "      <td>587446</td>\n",
       "      <td>09:15:00</td>\n",
       "    </tr>\n",
       "    <tr>\n",
       "      <th>1</th>\n",
       "      <td>2015-02-02</td>\n",
       "      <td>458.35</td>\n",
       "      <td>458.48</td>\n",
       "      <td>457.00</td>\n",
       "      <td>457.03</td>\n",
       "      <td>288842</td>\n",
       "      <td>09:30:00</td>\n",
       "    </tr>\n",
       "    <tr>\n",
       "      <th>2</th>\n",
       "      <td>2015-02-02</td>\n",
       "      <td>457.03</td>\n",
       "      <td>457.88</td>\n",
       "      <td>456.45</td>\n",
       "      <td>457.25</td>\n",
       "      <td>232376</td>\n",
       "      <td>09:45:00</td>\n",
       "    </tr>\n",
       "    <tr>\n",
       "      <th>3</th>\n",
       "      <td>2015-02-02</td>\n",
       "      <td>457.25</td>\n",
       "      <td>457.75</td>\n",
       "      <td>455.75</td>\n",
       "      <td>457.00</td>\n",
       "      <td>208256</td>\n",
       "      <td>10:00:00</td>\n",
       "    </tr>\n",
       "    <tr>\n",
       "      <th>4</th>\n",
       "      <td>2015-02-02</td>\n",
       "      <td>457.00</td>\n",
       "      <td>457.48</td>\n",
       "      <td>456.50</td>\n",
       "      <td>457.00</td>\n",
       "      <td>90870</td>\n",
       "      <td>10:15:00</td>\n",
       "    </tr>\n",
       "  </tbody>\n",
       "</table>\n",
       "</div>"
      ],
      "text/plain": [
       "         date    open    high     low   close  volume      time\n",
       "0  2015-02-02  458.48  459.90  457.03  458.25  587446  09:15:00\n",
       "1  2015-02-02  458.35  458.48  457.00  457.03  288842  09:30:00\n",
       "2  2015-02-02  457.03  457.88  456.45  457.25  232376  09:45:00\n",
       "3  2015-02-02  457.25  457.75  455.75  457.00  208256  10:00:00\n",
       "4  2015-02-02  457.00  457.48  456.50  457.00   90870  10:15:00"
      ]
     },
     "execution_count": 12,
     "metadata": {},
     "output_type": "execute_result"
    }
   ],
   "source": [
    "# Splitting date into date and time\n",
    "df = ril_data.copy()\n",
    "df['time'] = df['date'].dt.time\n",
    "df['date'] = df['date'].dt.date\n",
    "df.head()"
   ]
  },
  {
   "cell_type": "markdown",
   "id": "turkish-lindsay",
   "metadata": {
    "papermill": {
     "duration": 0.036815,
     "end_time": "2021-05-31T18:42:48.414005",
     "exception": false,
     "start_time": "2021-05-31T18:42:48.377190",
     "status": "completed"
    },
    "tags": []
   },
   "source": [
    "<div class=\"alert alert-info\">\n",
    "    <strong>📌 Converting the data with 15 min interval to 1 day interval</strong>\n",
    "    <p>\n",
    "        <li>df['open'] = Open price at start of day | when time==9.15\n",
    "        <li>df['high'] = Max value in 'high' fot the whole day\n",
    "        <li>df['low] = Min value in 'low' for the whole day\n",
    "        <li>df['close'] = Close price at end of day | when time==5.15\n",
    "        <li>df['volume'] = Sum of volume for the entire day\n",
    "    </p>\n",
    "</div>"
   ]
  },
  {
   "cell_type": "code",
   "execution_count": 13,
   "id": "corrected-beijing",
   "metadata": {
    "execution": {
     "iopub.execute_input": "2021-05-31T18:42:48.492384Z",
     "iopub.status.busy": "2021-05-31T18:42:48.491745Z",
     "iopub.status.idle": "2021-05-31T18:42:48.508297Z",
     "shell.execute_reply": "2021-05-31T18:42:48.508801Z",
     "shell.execute_reply.started": "2021-05-31T17:08:48.342234Z"
    },
    "papermill": {
     "duration": 0.057136,
     "end_time": "2021-05-31T18:42:48.508973",
     "exception": false,
     "start_time": "2021-05-31T18:42:48.451837",
     "status": "completed"
    },
    "tags": []
   },
   "outputs": [],
   "source": [
    "temp1 = df.groupby(['date']).agg({'low':'min', 'high':'max', 'open':'first', 'close':'last', 'volume':'sum'})\n"
   ]
  },
  {
   "cell_type": "markdown",
   "id": "consistent-depth",
   "metadata": {
    "papermill": {
     "duration": 0.03685,
     "end_time": "2021-05-31T18:42:48.583712",
     "exception": false,
     "start_time": "2021-05-31T18:42:48.546862",
     "status": "completed"
    },
    "tags": []
   },
   "source": [
    "<div class=\"alert alert-info\">\n",
    "    <strong>📌 Converting 15 min interval data to mean data for 1 day</strong>\n",
    "    <p>\n",
    "        Convert the 15 min interval data for each column into mean data for each of the columns for that complete day. This is not correct way for grouping this kind of problem, the previous <code>temp1</code> dataframe is more appropriate.\n",
    "    </p>\n",
    "</div>"
   ]
  },
  {
   "cell_type": "code",
   "execution_count": 14,
   "id": "everyday-union",
   "metadata": {
    "execution": {
     "iopub.execute_input": "2021-05-31T18:42:48.661237Z",
     "iopub.status.busy": "2021-05-31T18:42:48.660624Z",
     "iopub.status.idle": "2021-05-31T18:42:48.673883Z",
     "shell.execute_reply": "2021-05-31T18:42:48.674342Z",
     "shell.execute_reply.started": "2021-05-31T17:08:48.379796Z"
    },
    "papermill": {
     "duration": 0.053526,
     "end_time": "2021-05-31T18:42:48.674514",
     "exception": false,
     "start_time": "2021-05-31T18:42:48.620988",
     "status": "completed"
    },
    "tags": []
   },
   "outputs": [],
   "source": [
    "temp = df.groupby(['date']).mean()"
   ]
  },
  {
   "cell_type": "markdown",
   "id": "south-interference",
   "metadata": {
    "papermill": {
     "duration": 0.03719,
     "end_time": "2021-05-31T18:42:48.749026",
     "exception": false,
     "start_time": "2021-05-31T18:42:48.711836",
     "status": "completed"
    },
    "tags": []
   },
   "source": [
    "# EDA 📈"
   ]
  },
  {
   "cell_type": "code",
   "execution_count": 15,
   "id": "unsigned-accused",
   "metadata": {
    "execution": {
     "iopub.execute_input": "2021-05-31T18:42:48.827093Z",
     "iopub.status.busy": "2021-05-31T18:42:48.826416Z",
     "iopub.status.idle": "2021-05-31T18:42:50.035903Z",
     "shell.execute_reply": "2021-05-31T18:42:50.036407Z",
     "shell.execute_reply.started": "2021-05-31T17:08:48.398690Z"
    },
    "papermill": {
     "duration": 1.250113,
     "end_time": "2021-05-31T18:42:50.036574",
     "exception": false,
     "start_time": "2021-05-31T18:42:48.786461",
     "status": "completed"
    },
    "tags": []
   },
   "outputs": [
    {
     "data": {
      "text/html": [
       "        <script type=\"text/javascript\">\n",
       "        window.PlotlyConfig = {MathJaxConfig: 'local'};\n",
       "        if (window.MathJax) {MathJax.Hub.Config({SVG: {font: \"STIX-Web\"}});}\n",
       "        if (typeof require !== 'undefined') {\n",
       "        require.undef(\"plotly\");\n",
       "        requirejs.config({\n",
       "            paths: {\n",
       "                'plotly': ['https://cdn.plot.ly/plotly-latest.min']\n",
       "            }\n",
       "        });\n",
       "        require(['plotly'], function(Plotly) {\n",
       "            window._Plotly = Plotly;\n",
       "        });\n",
       "        }\n",
       "        </script>\n",
       "        "
      ]
     },
     "metadata": {},
     "output_type": "display_data"
    },
    {
     "data": {
      "text/html": [
       "<div>                            <div id=\"fa00443e-0f3d-4a91-a581-e848e7b6770c\" class=\"plotly-graph-div\" style=\"height:525px; width:100%;\"></div>            <script type=\"text/javascript\">                require([\"plotly\"], function(Plotly) {                    window.PLOTLYENV=window.PLOTLYENV || {};                                    if (document.getElementById(\"fa00443e-0f3d-4a91-a581-e848e7b6770c\")) {                    Plotly.newPlot(                        \"fa00443e-0f3d-4a91-a581-e848e7b6770c\",                        [{\"hovertemplate\": \"date=%{x}<br>high=%{y}<extra></extra>\", \"legendgroup\": \"\", \"line\": {\"color\": \"#636efa\", \"dash\": \"solid\"}, \"mode\": \"lines\", \"name\": \"\", \"showlegend\": false, \"type\": \"scattergl\", \"x\": [\"2015-02-02\", \"2015-02-03\", \"2015-02-04\", \"2015-02-05\", \"2015-02-06\", \"2015-02-09\", \"2015-02-10\", \"2015-02-11\", \"2015-02-12\", \"2015-02-13\", \"2015-02-16\", \"2015-02-18\", \"2015-02-19\", \"2015-02-20\", \"2015-02-23\", \"2015-02-24\", \"2015-02-25\", \"2015-02-26\", \"2015-02-27\", \"2015-02-28\", \"2015-03-02\", \"2015-03-03\", \"2015-03-04\", \"2015-03-05\", \"2015-03-09\", \"2015-03-10\", \"2015-03-11\", \"2015-03-12\", \"2015-03-13\", \"2015-03-16\", \"2015-03-17\", \"2015-03-18\", \"2015-03-19\", \"2015-03-20\", \"2015-03-23\", \"2015-03-24\", \"2015-03-25\", \"2015-03-26\", \"2015-03-27\", \"2015-03-30\", \"2015-03-31\", \"2015-04-01\", \"2015-04-06\", \"2015-04-07\", \"2015-04-08\", \"2015-04-09\", \"2015-04-10\", \"2015-04-13\", \"2015-04-15\", \"2015-04-16\", \"2015-04-17\", \"2015-04-20\", \"2015-04-21\", \"2015-04-22\", \"2015-04-23\", \"2015-04-24\", \"2015-04-27\", \"2015-04-28\", \"2015-04-29\", \"2015-04-30\", \"2015-05-04\", \"2015-05-05\", \"2015-05-06\", \"2015-05-07\", \"2015-05-08\", \"2015-05-11\", \"2015-05-12\", \"2015-05-13\", \"2015-05-14\", \"2015-05-15\", \"2015-05-18\", \"2015-05-19\", \"2015-05-20\", \"2015-05-21\", \"2015-05-22\", \"2015-05-25\", \"2015-05-26\", \"2015-05-27\", \"2015-05-28\", \"2015-05-29\", \"2015-06-01\", \"2015-06-02\", \"2015-06-03\", \"2015-06-04\", \"2015-06-05\", \"2015-06-08\", \"2015-06-09\", \"2015-06-10\", \"2015-06-11\", \"2015-06-12\", \"2015-06-15\", \"2015-06-16\", \"2015-06-17\", \"2015-06-18\", \"2015-06-19\", \"2015-06-22\", \"2015-06-23\", \"2015-06-24\", \"2015-06-25\", \"2015-06-26\", \"2015-06-29\", \"2015-06-30\", \"2015-07-01\", \"2015-07-02\", \"2015-07-03\", \"2015-07-06\", \"2015-07-07\", \"2015-07-08\", \"2015-07-09\", \"2015-07-10\", \"2015-07-13\", \"2015-07-14\", \"2015-07-15\", \"2015-07-16\", \"2015-07-17\", \"2015-07-20\", \"2015-07-21\", \"2015-07-22\", \"2015-07-23\", \"2015-07-24\", \"2015-07-27\", \"2015-07-28\", \"2015-07-29\", \"2015-07-30\", \"2015-07-31\", \"2015-08-03\", \"2015-08-04\", \"2015-08-05\", \"2015-08-06\", \"2015-08-07\", \"2015-08-10\", \"2015-08-11\", \"2015-08-12\", \"2015-08-13\", \"2015-08-14\", \"2015-08-17\", \"2015-08-18\", \"2015-08-19\", \"2015-08-20\", \"2015-08-21\", \"2015-08-24\", \"2015-08-25\", \"2015-08-26\", \"2015-08-27\", \"2015-08-28\", \"2015-08-31\", \"2015-09-01\", \"2015-09-02\", \"2015-09-03\", \"2015-09-04\", \"2015-09-07\", \"2015-09-08\", \"2015-09-09\", \"2015-09-10\", \"2015-09-11\", \"2015-09-14\", \"2015-09-15\", \"2015-09-16\", \"2015-09-18\", \"2015-09-21\", \"2015-09-22\", \"2015-09-23\", \"2015-09-24\", \"2015-09-28\", \"2015-09-29\", \"2015-09-30\", \"2015-10-01\", \"2015-10-05\", \"2015-10-06\", \"2015-10-07\", \"2015-10-08\", \"2015-10-09\", \"2015-10-12\", \"2015-10-13\", \"2015-10-14\", \"2015-10-15\", \"2015-10-16\", \"2015-10-19\", \"2015-10-20\", \"2015-10-21\", \"2015-10-23\", \"2015-10-26\", \"2015-10-27\", \"2015-10-28\", \"2015-10-29\", \"2015-10-30\", \"2015-11-02\", \"2015-11-03\", \"2015-11-04\", \"2015-11-05\", \"2015-11-06\", \"2015-11-09\", \"2015-11-10\", \"2015-11-11\", \"2015-11-13\", \"2015-11-16\", \"2015-11-17\", \"2015-11-18\", \"2015-11-19\", \"2015-11-20\", \"2015-11-23\", \"2015-11-24\", \"2015-11-26\", \"2015-11-27\", \"2015-11-30\", \"2015-12-01\", \"2015-12-02\", \"2015-12-03\", \"2015-12-04\", \"2015-12-07\", \"2015-12-08\", \"2015-12-09\", \"2015-12-10\", \"2015-12-11\", \"2015-12-14\", \"2015-12-15\", \"2015-12-16\", \"2015-12-17\", \"2015-12-18\", \"2015-12-21\", \"2015-12-22\", \"2015-12-23\", \"2015-12-24\", \"2015-12-28\", \"2015-12-29\", \"2015-12-30\", \"2015-12-31\", \"2016-01-04\", \"2016-01-05\", \"2016-01-06\", \"2016-01-07\", \"2016-01-08\", \"2016-01-11\", \"2016-01-12\", \"2016-01-13\", \"2016-01-14\", \"2016-01-15\", \"2016-01-18\", \"2016-01-19\", \"2016-01-20\", \"2016-01-21\", \"2016-01-22\", \"2016-01-25\", \"2016-01-27\", \"2016-01-28\", \"2016-01-29\", \"2016-02-01\", \"2016-02-02\", \"2016-02-03\", \"2016-02-04\", \"2016-02-05\", \"2016-02-08\", \"2016-02-09\", \"2016-02-10\", \"2016-02-11\", \"2016-02-12\", \"2016-02-15\", \"2016-02-16\", \"2016-02-17\", \"2016-02-18\", \"2016-02-19\", \"2016-02-22\", \"2016-02-23\", \"2016-02-24\", \"2016-02-25\", \"2016-02-26\", \"2016-02-29\", \"2016-03-01\", \"2016-03-02\", \"2016-03-03\", \"2016-03-04\", \"2016-03-08\", \"2016-03-09\", \"2016-03-10\", \"2016-03-11\", \"2016-03-14\", \"2016-03-15\", \"2016-03-16\", \"2016-03-17\", \"2016-03-18\", \"2016-03-21\", \"2016-03-22\", \"2016-03-23\", \"2016-03-28\", \"2016-03-29\", \"2016-03-30\", \"2016-03-31\", \"2016-04-01\", \"2016-04-04\", \"2016-04-05\", \"2016-04-06\", \"2016-04-07\", \"2016-04-08\", \"2016-04-11\", \"2016-04-12\", \"2016-04-13\", \"2016-04-18\", \"2016-04-20\", \"2016-04-21\", \"2016-04-22\", \"2016-04-25\", \"2016-04-26\", \"2016-04-27\", \"2016-04-28\", \"2016-04-29\", \"2016-05-02\", \"2016-05-03\", \"2016-05-04\", \"2016-05-05\", \"2016-05-06\", \"2016-05-09\", \"2016-05-10\", \"2016-05-11\", \"2016-05-12\", \"2016-05-13\", \"2016-05-16\", \"2016-05-17\", \"2016-05-18\", \"2016-05-19\", \"2016-05-20\", \"2016-05-23\", \"2016-05-24\", \"2016-05-25\", \"2016-05-26\", \"2016-05-27\", \"2016-05-30\", \"2016-05-31\", \"2016-06-01\", \"2016-06-02\", \"2016-06-03\", \"2016-06-06\", \"2016-06-07\", \"2016-06-08\", \"2016-06-09\", \"2016-06-10\", \"2016-06-13\", \"2016-06-14\", \"2016-06-15\", \"2016-06-16\", \"2016-06-17\", \"2016-06-20\", \"2016-06-21\", \"2016-06-22\", \"2016-06-23\", \"2016-06-24\", \"2016-06-27\", \"2016-06-28\", \"2016-06-29\", \"2016-06-30\", \"2016-07-01\", \"2016-07-04\", \"2016-07-05\", \"2016-07-07\", \"2016-07-08\", \"2016-07-11\", \"2016-07-12\", \"2016-07-13\", \"2016-07-14\", \"2016-07-15\", \"2016-07-18\", \"2016-07-19\", \"2016-07-20\", \"2016-07-21\", \"2016-07-22\", \"2016-07-25\", \"2016-07-26\", \"2016-07-27\", \"2016-07-28\", \"2016-07-29\", \"2016-08-01\", \"2016-08-02\", \"2016-08-03\", \"2016-08-04\", \"2016-08-05\", \"2016-08-08\", \"2016-08-09\", \"2016-08-10\", \"2016-08-11\", \"2016-08-12\", \"2016-08-16\", \"2016-08-17\", \"2016-08-18\", \"2016-08-19\", \"2016-08-22\", \"2016-08-23\", \"2016-08-24\", \"2016-08-25\", \"2016-08-26\", \"2016-08-29\", \"2016-08-30\", \"2016-08-31\", \"2016-09-01\", \"2016-09-02\", \"2016-09-06\", \"2016-09-07\", \"2016-09-08\", \"2016-09-09\", \"2016-09-12\", \"2016-09-14\", \"2016-09-15\", \"2016-09-16\", \"2016-09-19\", \"2016-09-20\", \"2016-09-21\", \"2016-09-22\", \"2016-09-23\", \"2016-09-26\", \"2016-09-27\", \"2016-09-28\", \"2016-09-29\", \"2016-09-30\", \"2016-10-03\", \"2016-10-04\", \"2016-10-05\", \"2016-10-06\", \"2016-10-07\", \"2016-10-10\", \"2016-10-13\", \"2016-10-14\", \"2016-10-17\", \"2016-10-18\", \"2016-10-19\", \"2016-10-20\", \"2016-10-21\", \"2016-10-24\", \"2016-10-25\", \"2016-10-26\", \"2016-10-27\", \"2016-10-28\", \"2016-10-30\", \"2016-11-01\", \"2016-11-02\", \"2016-11-03\", \"2016-11-04\", \"2016-11-07\", \"2016-11-08\", \"2016-11-09\", \"2016-11-10\", \"2016-11-11\", \"2016-11-15\", \"2016-11-16\", \"2016-11-17\", \"2016-11-18\", \"2016-11-21\", \"2016-11-22\", \"2016-11-23\", \"2016-11-24\", \"2016-11-25\", \"2016-11-28\", \"2016-11-29\", \"2016-11-30\", \"2016-12-01\", \"2016-12-02\", \"2016-12-05\", \"2016-12-06\", \"2016-12-07\", \"2016-12-08\", \"2016-12-09\", \"2016-12-12\", \"2016-12-13\", \"2016-12-14\", \"2016-12-15\", \"2016-12-16\", \"2016-12-19\", \"2016-12-20\", \"2016-12-21\", \"2016-12-22\", \"2016-12-23\", \"2016-12-26\", \"2016-12-27\", \"2016-12-28\", \"2016-12-29\", \"2016-12-30\", \"2017-01-02\", \"2017-01-03\", \"2017-01-04\", \"2017-01-05\", \"2017-01-06\", \"2017-01-09\", \"2017-01-10\", \"2017-01-11\", \"2017-01-12\", \"2017-01-13\", \"2017-01-16\", \"2017-01-17\", \"2017-01-18\", \"2017-01-19\", \"2017-01-20\", \"2017-01-23\", \"2017-01-24\", \"2017-01-25\", \"2017-01-27\", \"2017-01-30\", \"2017-01-31\", \"2017-02-01\", \"2017-02-02\", \"2017-02-03\", \"2017-02-06\", \"2017-02-07\", \"2017-02-08\", \"2017-02-09\", \"2017-02-10\", \"2017-02-13\", \"2017-02-14\", \"2017-02-15\", \"2017-02-16\", \"2017-02-17\", \"2017-02-20\", \"2017-02-21\", \"2017-02-22\", \"2017-02-23\", \"2017-02-27\", \"2017-02-28\", \"2017-03-01\", \"2017-03-02\", \"2017-03-03\", \"2017-03-06\", \"2017-03-07\", \"2017-03-08\", \"2017-03-09\", \"2017-03-10\", \"2017-03-14\", \"2017-03-15\", \"2017-03-16\", \"2017-03-17\", \"2017-03-20\", \"2017-03-21\", \"2017-03-22\", \"2017-03-23\", \"2017-03-24\", \"2017-03-27\", \"2017-03-28\", \"2017-03-29\", \"2017-03-30\", \"2017-03-31\", \"2017-04-03\", \"2017-04-05\", \"2017-04-06\", \"2017-04-07\", \"2017-04-10\", \"2017-04-11\", \"2017-04-12\", \"2017-04-13\", \"2017-04-17\", \"2017-04-18\", \"2017-04-19\", \"2017-04-20\", \"2017-04-21\", \"2017-04-24\", \"2017-04-25\", \"2017-04-26\", \"2017-04-27\", \"2017-04-28\", \"2017-05-02\", \"2017-05-03\", \"2017-05-04\", \"2017-05-05\", \"2017-05-08\", \"2017-05-09\", \"2017-05-10\", \"2017-05-11\", \"2017-05-12\", \"2017-05-15\", \"2017-05-16\", \"2017-05-17\", \"2017-05-18\", \"2017-05-19\", \"2017-05-22\", \"2017-05-23\", \"2017-05-24\", \"2017-05-25\", \"2017-05-26\", \"2017-05-29\", \"2017-05-30\", \"2017-05-31\", \"2017-06-01\", \"2017-06-02\", \"2017-06-05\", \"2017-06-06\", \"2017-06-07\", \"2017-06-08\", \"2017-06-09\", \"2017-06-12\", \"2017-06-13\", \"2017-06-14\", \"2017-06-15\", \"2017-06-16\", \"2017-06-19\", \"2017-06-20\", \"2017-06-21\", \"2017-06-22\", \"2017-06-23\", \"2017-06-27\", \"2017-06-28\", \"2017-06-29\", \"2017-06-30\", \"2017-07-03\", \"2017-07-04\", \"2017-07-05\", \"2017-07-06\", \"2017-07-07\", \"2017-07-10\", \"2017-07-11\", \"2017-07-12\", \"2017-07-13\", \"2017-07-14\", \"2017-07-17\", \"2017-07-18\", \"2017-07-19\", \"2017-07-20\", \"2017-07-21\", \"2017-07-24\", \"2017-07-25\", \"2017-07-26\", \"2017-07-27\", \"2017-07-28\", \"2017-07-31\", \"2017-08-01\", \"2017-08-02\", \"2017-08-03\", \"2017-08-04\", \"2017-08-07\", \"2017-08-08\", \"2017-08-09\", \"2017-08-10\", \"2017-08-11\", \"2017-08-14\", \"2017-08-16\", \"2017-08-17\", \"2017-08-18\", \"2017-08-21\", \"2017-08-22\", \"2017-08-23\", \"2017-08-24\", \"2017-08-28\", \"2017-08-29\", \"2017-08-30\", \"2017-08-31\", \"2017-09-01\", \"2017-09-04\", \"2017-09-05\", \"2017-09-06\", \"2017-09-07\", \"2017-09-08\", \"2017-09-11\", \"2017-09-12\", \"2017-09-13\", \"2017-09-14\", \"2017-09-15\", \"2017-09-18\", \"2017-09-19\", \"2017-09-20\", \"2017-09-21\", \"2017-09-22\", \"2017-09-25\", \"2017-09-26\", \"2017-09-27\", \"2017-09-28\", \"2017-09-29\", \"2017-10-03\", \"2017-10-04\", \"2017-10-05\", \"2017-10-06\", \"2017-10-09\", \"2017-10-10\", \"2017-10-11\", \"2017-10-12\", \"2017-10-13\", \"2017-10-16\", \"2017-10-17\", \"2017-10-18\", \"2017-10-19\", \"2017-10-23\", \"2017-10-24\", \"2017-10-25\", \"2017-10-26\", \"2017-10-27\", \"2017-10-30\", \"2017-10-31\", \"2017-11-01\", \"2017-11-02\", \"2017-11-03\", \"2017-11-06\", \"2017-11-07\", \"2017-11-08\", \"2017-11-09\", \"2017-11-10\", \"2017-11-13\", \"2017-11-14\", \"2017-11-15\", \"2017-11-16\", \"2017-11-17\", \"2017-11-20\", \"2017-11-21\", \"2017-11-22\", \"2017-11-23\", \"2017-11-24\", \"2017-11-27\", \"2017-11-28\", \"2017-11-29\", \"2017-11-30\", \"2017-12-01\", \"2017-12-04\", \"2017-12-05\", \"2017-12-06\", \"2017-12-07\", \"2017-12-08\", \"2017-12-11\", \"2017-12-12\", \"2017-12-13\", \"2017-12-14\", \"2017-12-15\", \"2017-12-18\", \"2017-12-19\", \"2017-12-20\", \"2017-12-21\", \"2017-12-22\", \"2017-12-26\", \"2017-12-27\", \"2017-12-28\", \"2017-12-29\", \"2018-01-01\", \"2018-01-02\", \"2018-01-03\", \"2018-01-04\", \"2018-01-05\", \"2018-01-08\", \"2018-01-09\", \"2018-01-10\", \"2018-01-11\", \"2018-01-12\", \"2018-01-15\", \"2018-01-16\", \"2018-01-17\", \"2018-01-18\", \"2018-01-19\", \"2018-01-22\", \"2018-01-23\", \"2018-01-24\", \"2018-01-25\", \"2018-01-29\", \"2018-01-30\", \"2018-01-31\", \"2018-02-01\", \"2018-02-02\", \"2018-02-05\", \"2018-02-06\", \"2018-02-07\", \"2018-02-08\", \"2018-02-09\", \"2018-02-12\", \"2018-02-14\", \"2018-02-15\", \"2018-02-16\", \"2018-02-19\", \"2018-02-20\", \"2018-02-21\", \"2018-02-22\", \"2018-02-23\", \"2018-02-26\", \"2018-02-27\", \"2018-02-28\", \"2018-03-01\", \"2018-03-05\", \"2018-03-06\", \"2018-03-07\", \"2018-03-08\", \"2018-03-09\", \"2018-03-12\", \"2018-03-13\", \"2018-03-14\", \"2018-03-15\", \"2018-03-16\", \"2018-03-19\", \"2018-03-20\", \"2018-03-21\", \"2018-03-22\", \"2018-03-23\", \"2018-03-26\", \"2018-03-27\", \"2018-03-28\", \"2018-04-02\", \"2018-04-03\", \"2018-04-04\", \"2018-04-05\", \"2018-04-06\", \"2018-04-09\", \"2018-04-10\", \"2018-04-11\", \"2018-04-12\", \"2018-04-13\", \"2018-04-16\", \"2018-04-17\", \"2018-04-18\", \"2018-04-19\", \"2018-04-20\", \"2018-04-23\", \"2018-04-24\", \"2018-04-25\", \"2018-04-26\", \"2018-04-27\", \"2018-04-30\", \"2018-05-02\", \"2018-05-03\", \"2018-05-04\", \"2018-05-07\", \"2018-05-08\", \"2018-05-09\", \"2018-05-10\", \"2018-05-11\", \"2018-05-14\", \"2018-05-15\", \"2018-05-16\", \"2018-05-17\", \"2018-05-18\", \"2018-05-21\", \"2018-05-22\", \"2018-05-23\", \"2018-05-24\", \"2018-05-25\", \"2018-05-28\", \"2018-05-29\", \"2018-05-30\", \"2018-05-31\", \"2018-06-01\", \"2018-06-04\", \"2018-06-05\", \"2018-06-06\", \"2018-06-07\", \"2018-06-08\", \"2018-06-11\", \"2018-06-12\", \"2018-06-13\", \"2018-06-14\", \"2018-06-15\", \"2018-06-18\", \"2018-06-19\", \"2018-06-20\", \"2018-06-21\", \"2018-06-22\", \"2018-06-25\", \"2018-06-26\", \"2018-06-27\", \"2018-06-28\", \"2018-06-29\", \"2018-07-02\", \"2018-07-03\", \"2018-07-04\", \"2018-07-05\", \"2018-07-06\", \"2018-07-09\", \"2018-07-10\", \"2018-07-11\", \"2018-07-12\", \"2018-07-13\", \"2018-07-16\", \"2018-07-17\", \"2018-07-18\", \"2018-07-19\", \"2018-07-20\", \"2018-07-23\", \"2018-07-24\", \"2018-07-25\", \"2018-07-26\", \"2018-07-27\", \"2018-07-30\", \"2018-07-31\", \"2018-08-01\", \"2018-08-02\", \"2018-08-03\", \"2018-08-06\", \"2018-08-07\", \"2018-08-08\", \"2018-08-09\", \"2018-08-10\", \"2018-08-13\", \"2018-08-14\", \"2018-08-16\", \"2018-08-17\", \"2018-08-20\", \"2018-08-21\", \"2018-08-23\", \"2018-08-24\", \"2018-08-27\", \"2018-08-28\", \"2018-08-29\", \"2018-08-30\", \"2018-08-31\", \"2018-09-03\", \"2018-09-04\", \"2018-09-05\", \"2018-09-06\", \"2018-09-07\", \"2018-09-10\", \"2018-09-11\", \"2018-09-12\", \"2018-09-14\", \"2018-09-17\", \"2018-09-18\", \"2018-09-19\", \"2018-09-21\", \"2018-09-24\", \"2018-09-25\", \"2018-09-26\", \"2018-09-27\", \"2018-09-28\", \"2018-10-01\", \"2018-10-03\", \"2018-10-04\", \"2018-10-05\", \"2018-10-08\", \"2018-10-09\", \"2018-10-10\", \"2018-10-11\", \"2018-10-12\", \"2018-10-15\", \"2018-10-16\", \"2018-10-17\", \"2018-10-19\", \"2018-10-22\", \"2018-10-23\", \"2018-10-24\", \"2018-10-25\", \"2018-10-26\", \"2018-10-29\", \"2018-10-30\", \"2018-10-31\", \"2018-11-01\", \"2018-11-02\", \"2018-11-05\", \"2018-11-06\", \"2018-11-07\", \"2018-11-09\", \"2018-11-12\", \"2018-11-13\", \"2018-11-14\", \"2018-11-15\", \"2018-11-16\", \"2018-11-19\", \"2018-11-20\", \"2018-11-21\", \"2018-11-22\", \"2018-11-26\", \"2018-11-27\", \"2018-11-28\", \"2018-11-29\", \"2018-11-30\", \"2018-12-03\", \"2018-12-04\", \"2018-12-05\", \"2018-12-06\", \"2018-12-07\", \"2018-12-10\", \"2018-12-11\", \"2018-12-12\", \"2018-12-13\", \"2018-12-14\", \"2018-12-17\", \"2018-12-18\", \"2018-12-19\", \"2018-12-20\", \"2018-12-21\", \"2018-12-24\", \"2018-12-26\", \"2018-12-27\", \"2018-12-28\", \"2018-12-31\", \"2019-01-01\", \"2019-01-02\", \"2019-01-03\", \"2019-01-04\", \"2019-01-07\", \"2019-01-08\", \"2019-01-09\", \"2019-01-10\", \"2019-01-11\", \"2019-01-14\", \"2019-01-15\", \"2019-01-16\", \"2019-01-17\", \"2019-01-18\", \"2019-01-21\", \"2019-01-22\", \"2019-01-23\", \"2019-01-24\", \"2019-01-25\", \"2019-01-28\", \"2019-01-29\", \"2019-01-30\", \"2019-01-31\", \"2019-02-01\", \"2019-02-04\", \"2019-02-05\", \"2019-02-06\", \"2019-02-07\", \"2019-02-08\", \"2019-02-11\", \"2019-02-12\", \"2019-02-13\", \"2019-02-14\", \"2019-02-15\", \"2019-02-18\", \"2019-02-19\", \"2019-02-20\", \"2019-02-21\", \"2019-02-22\", \"2019-02-25\", \"2019-02-26\", \"2019-02-27\", \"2019-02-28\", \"2019-03-01\", \"2019-03-05\", \"2019-03-06\", \"2019-03-07\", \"2019-03-08\", \"2019-03-11\", \"2019-03-12\", \"2019-03-13\", \"2019-03-14\", \"2019-03-15\", \"2019-03-18\", \"2019-03-19\", \"2019-03-20\", \"2019-03-22\", \"2019-03-25\", \"2019-03-26\", \"2019-03-27\", \"2019-03-28\", \"2019-03-29\", \"2019-04-01\", \"2019-04-02\", \"2019-04-03\", \"2019-04-04\", \"2019-04-05\", \"2019-04-08\", \"2019-04-09\", \"2019-04-10\", \"2019-04-11\", \"2019-04-12\", \"2019-04-15\", \"2019-04-16\", \"2019-04-18\", \"2019-04-22\", \"2019-04-23\", \"2019-04-24\", \"2019-04-25\", \"2019-04-26\", \"2019-04-30\", \"2019-05-02\", \"2019-05-03\", \"2019-05-06\", \"2019-05-07\", \"2019-05-08\"], \"xaxis\": \"x\", \"y\": [457.2132000000001, 465.02440000000007, 469.54279999999994, 466.5232, 459.5312, 454.43479999999994, 447.3592, 447.92159999999996, 449.0908000000001, 458.63039999999995, 456.9055999999998, 451.44000000000005, 448.3368000000001, 439.61519999999996, 433.41159999999996, 422.606, 424.9776, 421.6696, 425.51279999999997, 431.3172, 431.522, 446.6671999999999, 449.35479999999995, 444.85040000000004, 441.1364000000001, 433.2244, 432.162, 430.25160000000005, 428.7319999999999, 422.17375, 425.8276, 431.5939999999999, 434.756, 428.26920000000007, 424.6516, 424.7087999999999, 421.96399999999994, 421.50479999999993, 410.17080000000004, 404.4083999999999, 414.47880000000004, 412.17199999999997, 413.79560000000004, 416.156, 428.5296000000001, 441.66759999999994, 450.35280000000006, 457.02, 458.7336, 464.7288000000001, 468.3132, 453.0327999999999, 444.844, 439.9631999999999, 440.25559999999996, 439.5720000000001, 440.8963999999999, 435.91959999999995, 431.6052, 429.1668, 438.2684, 447.6644, 442.2052, 434.43760000000003, 441.0464, 446.07, 437.58119999999997, 436.684, 439.86680000000007, 439.2724, 442.50919999999996, 448.1955999999999, 452.54959999999994, 451.40160000000003, 451.16119999999995, 450.44880000000006, 446.13759999999985, 443.4, 444.5504, 440.902, 450.2164, 452.2511999999999, 450.5164000000001, 453.3992, 455.9824, 449.06, 443.18760000000003, 452.4664, 444.9156, 444.9632, 450.93599999999986, 449.0288, 457.9508, 483.52880000000005, 497.718, 497.1000000000001, 498.6716, 499.9284, 500.83040000000005, 502.70599999999996, 492.71439999999996, 497.8128, 503.97200000000004, 507.7095999999999, 505.1756, 503.6568000000001, 504.55, 500.664, 497.61719999999985, 499.8204, 502.3212, 501.8815999999999, 505.50159999999994, 512.238, 513.7527999999999, 512.6160000000001, 510.7872, 517.9907999999999, 526.594, 520.7671999999999, 509.39399999999995, 506.11120000000005, 502.892, 501.21079999999995, 500.55880000000013, 503.56799999999987, 496.11319999999995, 498.22919999999993, 492.83119999999997, 494.9336, 491.34079999999994, 484.0936, 479.3179999999998, 472.95560000000006, 480.0644, 477.24519999999995, 473.7836000000001, 477.44879999999995, 469.0376, 453.20160000000004, 431.4823999999998, 423.10720000000003, 433.3719999999999, 436.18359999999996, 439.00519999999995, 432.68880000000007, 422.13759999999985, 426.3904, 426.44559999999996, 418.6523999999999, 417.1372, 421.54079999999993, 432.58520000000004, 432.25559999999996, 432.35759999999993, 429.22799999999995, 432.1832, 436.758, 445.7112, 442.02359999999993, 432.7247999999999, 424.9431999999999, 420.2388, 417.78079999999994, 420.1804, 426.4896, 432.9536, 439.76199999999994, 447.15039999999993, 450.8164, 451.8635999999999, 447.0592, 448.376, 445.01439999999997, 450.4268, 453.09439999999995, 456.36400000000003, 478.78439999999995, 479.47240000000005, 482.09719999999993, 482.12159999999994, 474.63679999999994, 471.54799999999994, 469.31119999999993, 470.76360000000005, 476.17319999999995, 476.38200000000006, 483.2783999999999, 482.5116, 472.9560000000001, 474.63239999999996, 475.44039999999995, 470.1983999999999, 464.6933333333333, 465.3548, 467.83639999999997, 466.84960000000007, 462.49719999999996, 466.0036, 470.8451999999999, 476.5516, 482.2704, 491.5863999999999, 491.744, 486.032, 485.50919999999996, 487.0136, 491.5680000000001, 484.314, 479.7064, 474.63480000000004, 466.5472000000001, 469.9724, 476.3596, 479.0095999999999, 484.49199999999996, 491.356, 494.49719999999996, 499.58840000000004, 496.202, 497.65124999999995, 502.6212000000001, 500.85760000000005, 504.8732, 507.3844, 504.9683999999999, 504.1164, 499.9215999999999, 502.3396000000001, 514.8219999999999, 509.5, 514.288, 524.718, 527.2848, 532.7803999999999, 535.6336, 542.0195999999999, 529.8192000000001, 520.3256, 505.8496, 498.25519999999995, 502.8076000000001, 506.45959999999997, 503.116, 503.80320000000006, 517.3652000000001, 517.6224000000001, 510.02999999999986, 493.46679999999986, 493.79520000000014, 486.5263999999999, 489.5352000000001, 481.91159999999996, 483.23920000000004, 474.9168000000001, 455.9152, 471.29279999999994, 474.2991999999999, 470.7131999999999, 477.0708, 473.1092, 481.4676, 480.50719999999995, 477.4928, 474.458, 476.56839999999994, 481.8980000000001, 490.9719999999999, 500.6164, 505.3492000000001, 504.736, 511.8832, 517.2736000000001, 511.16960000000006, 511.1032, 510.258, 511.74600000000004, 508.2127999999999, 513.9479999999999, 511.80519999999984, 514.9359999999999, 523.2979999999999, 516.6100000000001, 512.4487999999999, 517.724, 524.406, 524.6888, 517.5972, 516.5251999999999, 516.8288, 515.3119999999998, 519.3292, 521.6927999999999, 521.276, 525.1348, 530.06, 530.6932, 524.1472, 522.1456, 520.834, 509.53200000000004, 508.4248, 511.7212, 505.4204000000001, 495.08920000000006, 494.16, 492.3728, 490.5336, 489.14200000000005, 486.17999999999995, 491.37999999999994, 491.152, 489.0856, 493.1772, 491.5324000000001, 488.68520000000007, 488.4188, 485.4856, 483.7347999999999, 473.98320000000007, 467.32239999999996, 470.6404, 474.31359999999995, 474.7356, 483.56320000000005, 487.0116, 482.298, 480.7316000000001, 475.34399999999994, 480.26120000000003, 479.1103999999999, 478.6, 476.95039999999995, 486.33999999999986, 489.22520000000003, 487.1951999999999, 489.0812, 490.1644, 488.3096, 487.6872, 490.38, 493.31039999999996, 491.1512, 487.7216, 474.31520000000006, 477.68160000000006, 479.7371999999999, 482.5884, 486.48040000000003, 487.0244, 494.62479999999994, 496.7371999999999, 496.86800000000005, 492.00359999999995, 496.24799999999993, 499.05680000000007, 506.29639999999995, 503.9420000000001, 507.282, 512.6784, 505.0608, 511.7788, 506.8083999999999, 507.45720000000006, 508.25479999999993, 514.3520000000001, 510.3507999999999, 510.1668, 509.3344, 507.07399999999996, 508.2900000000001, 499.99799999999993, 496.2560000000001, 503.8391999999999, 515.554, 514.3376, 506.8172, 508.26759999999996, 516.9396, 513.9868, 508.89760000000007, 510.1864, 508.2136, 506.63999999999993, 505.76279999999997, 508.5352, 512.1756, 512.7359999999999, 521.9, 531.5787999999999, 534.1247999999999, 527.3543999999999, 507.4103999999999, 510.09479999999996, 510.218, 515.9448000000001, 522.324, 524.5904, 525.886, 527.7075999999998, 541.4264, 542.2351999999998, 539.1708000000001, 538.6439999999998, 546.0912000000001, 550.4928, 560.5863999999998, 558.2460000000001, 547.164, 548.0128, 542.2072000000001, 547.9728, 551.4655999999999, 549.034, 558.862, 557.952, 554.7319999999999, 536.8968, 538.07, 535.9456000000001, 538.6904000000001, 545.7328, 545.7447999999999, 534.0452, 535.0348, 530.6624000000002, 527.9912, 525.1892, 526.7396, 527.5525, 526.1612, 516.4884000000001, 515.3231999999999, 507.24799999999993, 503.56200000000007, 501.37679999999995, 494.1947999999999, 511.0316000000001, 503.8348, 496.64079999999996, 496.3616, 495.7867999999999, 494.6768, 494.6476, 501.2872, 502.8956, 497.4707999999999, 494.93839999999994, 497.39639999999997, 500.70279999999997, 495.5736, 503.72159999999997, 500.67080000000004, 496.97200000000004, 499.75720000000007, 502.37799999999993, 508.6587999999999, 514.4392, 518.4608000000001, 519.1296000000001, 529.5979999999998, 530.7832, 529.4004, 532.3284, 529.7955999999999, 531.0444000000001, 529.7064, 530.6148000000001, 529.6351999999999, 528.6347999999999, 530.3716000000001, 528.8268, 540.0783999999999, 544.1168, 546.8732000000001, 538.0756, 539.1720000000001, 540.4492, 540.322, 545.3371999999999, 544.6299999999999, 542.9344, 546.7968, 541.086, 524.6412000000001, 518.7531999999999, 520.012, 516.5628, 511.2299999999999, 512.2291999999999, 511.8075999999999, 512.8539999999999, 518.5131999999999, 523.9312, 522.7356, 521.6872000000002, 520.8128, 519.6824, 516.8631999999999, 514.9535999999998, 515.6723999999999, 515.9356, 513.8779999999999, 524.2296, 527.3004, 532.1088, 535.426, 537.8444, 541.9084, 592.6015999999998, 598.8011999999999, 622.4436000000001, 621.4912, 619.7911999999999, 621.548, 634.6840000000001, 651.5732, 653.6944, 648.1415999999999, 644.8276000000001, 642.7072, 649.9348000000001, 654.7632, 650.7887999999999, 651.8895999999999, 646.3503999999999, 636.7651999999999, 629.1184000000002, 635.366, 640.8792000000001, 629.5191999999998, 626.4080000000001, 623.3659999999999, 632.9839999999999, 650.9511999999999, 685.8384, 701.5247999999999, 715.4716000000002, 711.4556, 701.6411999999999, 693.3772, 682.0668, 684.2524000000001, 689.2260000000002, 699.7692, 685.2648000000002, 686.1192000000001, 704.5692000000001, 710.3008, 721.0056000000001, 712.4736000000001, 704.6124000000001, 702.9527999999998, 689.3136, 686.2268, 683.6752, 675.65, 664.6956000000001, 665.1424, 676.2056000000001, 681.4832000000001, 676.6396, 673.4128, 680.8515999999998, 678.0688000000002, 669.3219999999998, 662.6432000000001, 661.8412, 658.1676, 653.1839999999999, 652.948, 664.6684, 678.1720000000001, 679.6196000000001, 677.6139999999999, 665.2423999999999, 664.2447999999999, 665.0352, 661.4168000000001, 664.1828, 666.934, 670.7576000000001, 661.0264000000002, 660.5304000000001, 675.1719999999998, 690.9424, 694.648, 706.1107999999999, 708.0319999999999, 709.9076, 719.5147999999999, 719.1959999999999, 717.2455999999999, 707.1248, 700.4612, 691.8611999999998, 692.8019999999998, 706.5892, 721.7272, 723.2212000000001, 729.1584000000001, 748.7225, 748.5404000000001, 756.2372, 759.4471999999998, 764.418, 776.9764, 762.2239999999999, 764.1324000000001, 769.4348000000001, 789.3051999999999, 810.2864, 805.9871999999999, 811.97, 810.6524000000001, 796.7496000000001, 805.6076, 804.4656, 812.4700000000001, 822.6824, 813.6920000000001, 811.4979999999999, 803.6843999999999, 805.4068000000001, 798.1100000000002, 781.2267999999999, 786.4387999999999, 781.1404000000001, 791.3684000000001, 785.344, 787.0079999999999, 787.2104, 783.1876, 789.7239999999999, 784.7948, 773.8276, 780.1843999999999, 793.6475999999999, 805.5236000000001, 809.2528, 815.5067999999999, 823.6132000000001, 822.678, 818.214, 823.8480000000001, 821.9160000000002, 851.8059999999999, 851.492, 842.1359999999997, 847.9300000000002, 840.9679999999998, 853.5260000000001, 842.678, 827.45, 820.8159999999999, 820.4240000000001, 809.984, 795.048, 788.0060000000001, 800.0880000000001, 813.278, 823.836, 832.916, 833.7960000000002, 843.29, 852.3700000000001, 855.9899999999999, 881.6499999999999, 876.0219999999998, 875.564, 903.216, 917.375, 929.6660000000002, 938.6800000000002, 939.3480000000002, 941.092, 938.1260000000003, 939.984, 939.4840000000003, 953.2120000000001, 950.1520000000003, 946.0120000000002, 937.2479999999999, 913.7979999999999, 894.1900000000002, 903.98, 889.2939999999998, 881.4859999999999, 887.05, 886.964, 901.7219999999999, 917.592, 915.684, 935.3680000000002, 931.3420000000002, 939.8820000000001, 953.5420000000001, 950.6060000000001, 945.4220000000001, 948.0620000000001, 931.596, 920.076, 904.75, 914.1240000000003, 924.33, 929.034, 926.58, 918.846, 922.5920000000001, 921.558, 916.6860000000001, 927.6920000000001, 925.71, 924.8940000000001, 921.9300000000002, 919.9799999999999, 919.0479999999999, 922.714, 932.9480000000002, 924.9900000000001, 925.5100000000001, 918.8, 914.5740000000002, 921.8579999999998, 919.6260000000001, 923.3119999999997, 927.8820000000001, 939.7059999999999, 942.758, 940.81, 947.7059999999999, 953.2100000000002, 933.5520000000001, 924.372, 924.7420000000001, 929.3779999999999, 962.396, 986.1760000000002, 969.436, 964.7000000000002, 971.2300000000001, 958.666, 960.382, 959.6679999999999, 922.9699999999998, 905.8059999999999, 886.0140000000001, 899.6640000000001, 904.8180000000002, 897.572, 909.3580000000001, 930.528, 940.2460000000001, 933.984, 923.944, 924.5239999999999, 927.488, 926.0180000000001, 933.3280000000002, 942.528, 949.2080000000002, 951.472, 952.5519999999998, 932.9520000000001, 929.0000000000001, 900.8100000000002, 904.864, 916.422, 923.732, 930.812, 924.7920000000001, 920.824, 899.964, 900.2800000000002, 897.6660000000002, 898.6620000000001, 908.8720000000001, 896.4440000000001, 899.3520000000001, 905.3079999999999, 890.568, 896.164, 893.0800000000002, 902.722, 908.202, 913.974, 916.808, 920.3560000000001, 928.7840000000001, 930.3540000000003, 937.3, 933.2460000000001, 942.5960000000002, 943.0760000000002, 942.6279999999999, 928.8639999999998, 937.89, 958.3180000000002, 972.0880000000001, 980.7540000000001, 1001.6, 969.706, 975.888, 965.6159999999999, 955.7800000000002, 963.4080000000004, 975.1719999999998, 973.6339999999998, 981.7440000000001, 987.9020000000002, 985.242, 990.6659999999999, 965.09, 951.3940000000002, 943.2040000000002, 927.8539999999999, 930.8080000000002, 919.3760000000002, 918.2260000000002, 920.9220000000003, 923.054, 921.1419999999999, 917.2239999999999, 921.2720000000002, 928.62, 941.234, 951.2939999999998, 953.6419999999999, 971.0219999999999, 973.5140000000001, 994.3719999999998, 992.2179999999998, 999.5260000000001, 998.9399999999998, 1018.51, 1015.8379999999999, 1005.3440000000003, 1016.1820000000001, 1032.06, 1015.9280000000002, 1013.3520000000001, 989.6959999999999, 976.0680000000002, 959.762, 969.1500000000001, 963.1840000000001, 973.882, 982.312, 989.8040000000002, 980.2800000000002, 991.62, 1021.3760000000001, 1031.2680000000003, 1081.1000000000004, 1101.522, 1082.8239999999998, 1086.354, 1093.328, 1099.522, 1126.8419999999999, 1120.208, 1116.7380000000003, 1118.7060000000004, 1117.0659999999998, 1128.95, 1144.182, 1169.262, 1194.6819999999998, 1175.5919999999999, 1176.272, 1190.404, 1186.5560000000003, 1203.1699999999998, 1222.7659999999998, 1209.9820000000002, 1194.0420000000001, 1202.728, 1207.102, 1210.774, 1229.506, 1246.74, 1259.6480000000001, 1273.4880000000003, 1292.0379999999998, 1312.316, 1315.1739999999998, 1281.532, 1248.6320000000003, 1243.1919999999998, 1243.9959999999999, 1234.824, 1242.912, 1274.666, 1266.626, 1258.542, 1246.574, 1258.814, 1235.1740000000004, 1233.346, 1215.96, 1230.1019999999999, 1226.4260000000002, 1232.5040000000001, 1238.7720000000002, 1254.1160000000002, 1264.32, 1234.4520000000002, 1222.568, 1142.122, 1086.166, 1092.0960000000002, 1109.732, 1104.99, 1088.9759999999999, 1124.402, 1140.0160000000003, 1153.2, 1171.0120000000002, 1097.3280000000002, 1089.0639999999999, 1057.2259999999999, 1053.894, 1031.292, 1048.324, 1072.006, 1066.166, 1060.872, 1060.1019999999999, 1074.4180000000001, 1080.9099999999999, 1107.478, 1112.4125, 1104.6680000000001, 1087.382, 1090.676, 1099.732, 1095.8039999999999, 1124.8220000000003, 1142.418, 1146.276, 1118.058, 1116.0620000000004, 1108.3460000000002, 1124.16, 1144.144, 1174.178, 1175.7820000000002, 1160.358, 1150.4999999999998, 1151.7680000000003, 1139.9880000000003, 1126.1440000000002, 1092.134, 1085.2379999999998, 1099.926, 1113.82, 1109.4759999999999, 1126.7600000000002, 1130.394, 1143.372, 1126.67, 1113.4260000000002, 1096.338, 1081.4780000000003, 1122.5200000000004, 1132.1660000000002, 1123.5240000000001, 1119.9920000000002, 1116.8500000000004, 1104.126, 1095.376, 1112.634, 1105.124, 1112.9700000000003, 1106.966, 1100.778, 1094.576, 1126.8020000000004, 1140.996, 1141.0800000000004, 1161.5620000000001, 1227.356, 1236.37, 1236.362, 1242.2559999999999, 1257.2440000000001, 1240.402, 1214.848, 1211.054, 1220.992, 1242.4959999999999, 1267.3880000000001, 1293.842, 1311.4299999999996, 1304.1680000000003, 1285.4899999999998, 1262.4540000000002, 1264.478, 1261.8500000000001, 1230.036, 1228.4360000000001, 1228.362, 1232.5440000000003, 1229.2680000000005, 1248.334, 1235.2660000000003, 1233.92, 1225.1940000000002, 1230.7179999999998, 1236.2, 1230.628, 1229.976, 1259.218, 1273.846, 1268.7520000000002, 1291.382, 1326.646, 1340.35, 1355.586, 1350.432, 1342.03, 1358.5359999999998, 1379.236, 1363.296, 1327.8740000000003, 1351.596, 1365.968, 1357.1779999999999, 1365.3780000000002, 1384.9419999999998, 1392.2060000000001, 1393.8499999999997, 1363.468, 1354.4660000000003, 1339.09, 1331.4279999999999, 1341.5539999999999, 1337.7379999999998, 1347.6260000000004, 1342.8080000000002, 1352.66, 1381.31, 1356.9820000000002, 1366.902, 1378.8580000000002, 1403.396, 1384.8780000000002, 1386.862, 1404.886, 1414.226, 1395.0059999999999, 1366.8139999999999, 1315.5767857142853], \"yaxis\": \"y\"}],                        {\"annotations\": [{\"showarrow\": false, \"text\": \"Mean:740.6274385745942\", \"x\": 1, \"xanchor\": \"right\", \"xref\": \"x domain\", \"y\": 740.6274385745942, \"yanchor\": \"bottom\", \"yref\": \"y\"}, {\"showarrow\": false, \"text\": \"Rise\", \"x\": \"2018-08-29\", \"xanchor\": \"right\", \"xref\": \"x\", \"y\": 0, \"yanchor\": \"bottom\", \"yref\": \"y domain\"}], \"legend\": {\"tracegroupgap\": 0}, \"margin\": {\"t\": 60}, \"shapes\": [{\"line\": {\"color\": \"Orange\", \"dash\": \"dot\"}, \"type\": \"line\", \"x0\": 0, \"x1\": 1, \"xref\": \"x domain\", \"y0\": 740.6274385745942, \"y1\": 740.6274385745942, \"yref\": \"y\"}, {\"fillcolor\": \"Green\", \"line\": {\"width\": 0}, \"opacity\": 0.2, \"type\": \"rect\", \"x0\": \"2018-06-28\", \"x1\": \"2018-08-29\", \"xref\": \"x\", \"y0\": 0, \"y1\": 1, \"yref\": \"y domain\"}], \"template\": {\"data\": {\"bar\": [{\"error_x\": {\"color\": \"#2a3f5f\"}, \"error_y\": {\"color\": \"#2a3f5f\"}, \"marker\": {\"line\": {\"color\": \"#E5ECF6\", \"width\": 0.5}}, \"type\": \"bar\"}], \"barpolar\": [{\"marker\": {\"line\": {\"color\": \"#E5ECF6\", \"width\": 0.5}}, \"type\": \"barpolar\"}], \"carpet\": [{\"aaxis\": {\"endlinecolor\": \"#2a3f5f\", \"gridcolor\": \"white\", \"linecolor\": \"white\", \"minorgridcolor\": \"white\", \"startlinecolor\": \"#2a3f5f\"}, \"baxis\": {\"endlinecolor\": \"#2a3f5f\", \"gridcolor\": \"white\", \"linecolor\": \"white\", \"minorgridcolor\": \"white\", \"startlinecolor\": \"#2a3f5f\"}, \"type\": \"carpet\"}], \"choropleth\": [{\"colorbar\": {\"outlinewidth\": 0, \"ticks\": \"\"}, \"type\": \"choropleth\"}], \"contour\": [{\"colorbar\": {\"outlinewidth\": 0, \"ticks\": \"\"}, \"colorscale\": [[0.0, \"#0d0887\"], [0.1111111111111111, \"#46039f\"], [0.2222222222222222, \"#7201a8\"], [0.3333333333333333, \"#9c179e\"], [0.4444444444444444, \"#bd3786\"], [0.5555555555555556, \"#d8576b\"], [0.6666666666666666, \"#ed7953\"], [0.7777777777777778, \"#fb9f3a\"], [0.8888888888888888, \"#fdca26\"], [1.0, \"#f0f921\"]], \"type\": \"contour\"}], \"contourcarpet\": [{\"colorbar\": {\"outlinewidth\": 0, \"ticks\": \"\"}, \"type\": \"contourcarpet\"}], \"heatmap\": [{\"colorbar\": {\"outlinewidth\": 0, \"ticks\": \"\"}, \"colorscale\": [[0.0, \"#0d0887\"], [0.1111111111111111, \"#46039f\"], [0.2222222222222222, \"#7201a8\"], [0.3333333333333333, \"#9c179e\"], [0.4444444444444444, \"#bd3786\"], [0.5555555555555556, \"#d8576b\"], [0.6666666666666666, \"#ed7953\"], [0.7777777777777778, \"#fb9f3a\"], [0.8888888888888888, \"#fdca26\"], [1.0, \"#f0f921\"]], \"type\": \"heatmap\"}], \"heatmapgl\": [{\"colorbar\": {\"outlinewidth\": 0, \"ticks\": \"\"}, \"colorscale\": [[0.0, \"#0d0887\"], [0.1111111111111111, \"#46039f\"], [0.2222222222222222, \"#7201a8\"], [0.3333333333333333, \"#9c179e\"], [0.4444444444444444, \"#bd3786\"], [0.5555555555555556, \"#d8576b\"], [0.6666666666666666, \"#ed7953\"], [0.7777777777777778, \"#fb9f3a\"], [0.8888888888888888, \"#fdca26\"], [1.0, \"#f0f921\"]], \"type\": \"heatmapgl\"}], \"histogram\": [{\"marker\": {\"colorbar\": {\"outlinewidth\": 0, \"ticks\": \"\"}}, \"type\": \"histogram\"}], \"histogram2d\": [{\"colorbar\": {\"outlinewidth\": 0, \"ticks\": \"\"}, \"colorscale\": [[0.0, \"#0d0887\"], [0.1111111111111111, \"#46039f\"], [0.2222222222222222, \"#7201a8\"], [0.3333333333333333, \"#9c179e\"], [0.4444444444444444, \"#bd3786\"], [0.5555555555555556, \"#d8576b\"], [0.6666666666666666, \"#ed7953\"], [0.7777777777777778, \"#fb9f3a\"], [0.8888888888888888, \"#fdca26\"], [1.0, \"#f0f921\"]], \"type\": \"histogram2d\"}], \"histogram2dcontour\": [{\"colorbar\": {\"outlinewidth\": 0, \"ticks\": \"\"}, \"colorscale\": [[0.0, \"#0d0887\"], [0.1111111111111111, \"#46039f\"], [0.2222222222222222, \"#7201a8\"], [0.3333333333333333, \"#9c179e\"], [0.4444444444444444, \"#bd3786\"], [0.5555555555555556, \"#d8576b\"], [0.6666666666666666, \"#ed7953\"], [0.7777777777777778, \"#fb9f3a\"], [0.8888888888888888, \"#fdca26\"], [1.0, \"#f0f921\"]], \"type\": \"histogram2dcontour\"}], \"mesh3d\": [{\"colorbar\": {\"outlinewidth\": 0, \"ticks\": \"\"}, \"type\": \"mesh3d\"}], \"parcoords\": [{\"line\": {\"colorbar\": {\"outlinewidth\": 0, \"ticks\": \"\"}}, \"type\": \"parcoords\"}], \"pie\": [{\"automargin\": true, \"type\": \"pie\"}], \"scatter\": [{\"marker\": {\"colorbar\": {\"outlinewidth\": 0, \"ticks\": \"\"}}, \"type\": \"scatter\"}], \"scatter3d\": [{\"line\": {\"colorbar\": {\"outlinewidth\": 0, \"ticks\": \"\"}}, \"marker\": {\"colorbar\": {\"outlinewidth\": 0, \"ticks\": \"\"}}, \"type\": \"scatter3d\"}], \"scattercarpet\": [{\"marker\": {\"colorbar\": {\"outlinewidth\": 0, \"ticks\": \"\"}}, \"type\": \"scattercarpet\"}], \"scattergeo\": [{\"marker\": {\"colorbar\": {\"outlinewidth\": 0, \"ticks\": \"\"}}, \"type\": \"scattergeo\"}], \"scattergl\": [{\"marker\": {\"colorbar\": {\"outlinewidth\": 0, \"ticks\": \"\"}}, \"type\": \"scattergl\"}], \"scattermapbox\": [{\"marker\": {\"colorbar\": {\"outlinewidth\": 0, \"ticks\": \"\"}}, \"type\": \"scattermapbox\"}], \"scatterpolar\": [{\"marker\": {\"colorbar\": {\"outlinewidth\": 0, \"ticks\": \"\"}}, \"type\": \"scatterpolar\"}], \"scatterpolargl\": [{\"marker\": {\"colorbar\": {\"outlinewidth\": 0, \"ticks\": \"\"}}, \"type\": \"scatterpolargl\"}], \"scatterternary\": [{\"marker\": {\"colorbar\": {\"outlinewidth\": 0, \"ticks\": \"\"}}, \"type\": \"scatterternary\"}], \"surface\": [{\"colorbar\": {\"outlinewidth\": 0, \"ticks\": \"\"}, \"colorscale\": [[0.0, \"#0d0887\"], [0.1111111111111111, \"#46039f\"], [0.2222222222222222, \"#7201a8\"], [0.3333333333333333, \"#9c179e\"], [0.4444444444444444, \"#bd3786\"], [0.5555555555555556, \"#d8576b\"], [0.6666666666666666, \"#ed7953\"], [0.7777777777777778, \"#fb9f3a\"], [0.8888888888888888, \"#fdca26\"], [1.0, \"#f0f921\"]], \"type\": \"surface\"}], \"table\": [{\"cells\": {\"fill\": {\"color\": \"#EBF0F8\"}, \"line\": {\"color\": \"white\"}}, \"header\": {\"fill\": {\"color\": \"#C8D4E3\"}, \"line\": {\"color\": \"white\"}}, \"type\": \"table\"}]}, \"layout\": {\"annotationdefaults\": {\"arrowcolor\": \"#2a3f5f\", \"arrowhead\": 0, \"arrowwidth\": 1}, \"autotypenumbers\": \"strict\", \"coloraxis\": {\"colorbar\": {\"outlinewidth\": 0, \"ticks\": \"\"}}, \"colorscale\": {\"diverging\": [[0, \"#8e0152\"], [0.1, \"#c51b7d\"], [0.2, \"#de77ae\"], [0.3, \"#f1b6da\"], [0.4, \"#fde0ef\"], [0.5, \"#f7f7f7\"], [0.6, \"#e6f5d0\"], [0.7, \"#b8e186\"], [0.8, \"#7fbc41\"], [0.9, \"#4d9221\"], [1, \"#276419\"]], \"sequential\": [[0.0, \"#0d0887\"], [0.1111111111111111, \"#46039f\"], [0.2222222222222222, \"#7201a8\"], [0.3333333333333333, \"#9c179e\"], [0.4444444444444444, \"#bd3786\"], [0.5555555555555556, \"#d8576b\"], [0.6666666666666666, \"#ed7953\"], [0.7777777777777778, \"#fb9f3a\"], [0.8888888888888888, \"#fdca26\"], [1.0, \"#f0f921\"]], \"sequentialminus\": [[0.0, \"#0d0887\"], [0.1111111111111111, \"#46039f\"], [0.2222222222222222, \"#7201a8\"], [0.3333333333333333, \"#9c179e\"], [0.4444444444444444, \"#bd3786\"], [0.5555555555555556, \"#d8576b\"], [0.6666666666666666, \"#ed7953\"], [0.7777777777777778, \"#fb9f3a\"], [0.8888888888888888, \"#fdca26\"], [1.0, \"#f0f921\"]]}, \"colorway\": [\"#636efa\", \"#EF553B\", \"#00cc96\", \"#ab63fa\", \"#FFA15A\", \"#19d3f3\", \"#FF6692\", \"#B6E880\", \"#FF97FF\", \"#FECB52\"], \"font\": {\"color\": \"#2a3f5f\"}, \"geo\": {\"bgcolor\": \"white\", \"lakecolor\": \"white\", \"landcolor\": \"#E5ECF6\", \"showlakes\": true, \"showland\": true, \"subunitcolor\": \"white\"}, \"hoverlabel\": {\"align\": \"left\"}, \"hovermode\": \"closest\", \"mapbox\": {\"style\": \"light\"}, \"paper_bgcolor\": \"white\", \"plot_bgcolor\": \"#E5ECF6\", \"polar\": {\"angularaxis\": {\"gridcolor\": \"white\", \"linecolor\": \"white\", \"ticks\": \"\"}, \"bgcolor\": \"#E5ECF6\", \"radialaxis\": {\"gridcolor\": \"white\", \"linecolor\": \"white\", \"ticks\": \"\"}}, \"scene\": {\"xaxis\": {\"backgroundcolor\": \"#E5ECF6\", \"gridcolor\": \"white\", \"gridwidth\": 2, \"linecolor\": \"white\", \"showbackground\": true, \"ticks\": \"\", \"zerolinecolor\": \"white\"}, \"yaxis\": {\"backgroundcolor\": \"#E5ECF6\", \"gridcolor\": \"white\", \"gridwidth\": 2, \"linecolor\": \"white\", \"showbackground\": true, \"ticks\": \"\", \"zerolinecolor\": \"white\"}, \"zaxis\": {\"backgroundcolor\": \"#E5ECF6\", \"gridcolor\": \"white\", \"gridwidth\": 2, \"linecolor\": \"white\", \"showbackground\": true, \"ticks\": \"\", \"zerolinecolor\": \"white\"}}, \"shapedefaults\": {\"line\": {\"color\": \"#2a3f5f\"}}, \"ternary\": {\"aaxis\": {\"gridcolor\": \"white\", \"linecolor\": \"white\", \"ticks\": \"\"}, \"baxis\": {\"gridcolor\": \"white\", \"linecolor\": \"white\", \"ticks\": \"\"}, \"bgcolor\": \"#E5ECF6\", \"caxis\": {\"gridcolor\": \"white\", \"linecolor\": \"white\", \"ticks\": \"\"}}, \"title\": {\"x\": 0.05}, \"xaxis\": {\"automargin\": true, \"gridcolor\": \"white\", \"linecolor\": \"white\", \"ticks\": \"\", \"title\": {\"standoff\": 15}, \"zerolinecolor\": \"white\", \"zerolinewidth\": 2}, \"yaxis\": {\"automargin\": true, \"gridcolor\": \"white\", \"linecolor\": \"white\", \"ticks\": \"\", \"title\": {\"standoff\": 15}, \"zerolinecolor\": \"white\", \"zerolinewidth\": 2}}}, \"title\": {\"text\": \"Reliance Stock Mean Data\"}, \"xaxis\": {\"anchor\": \"y\", \"domain\": [0.0, 1.0], \"title\": {\"text\": \"Date\"}}, \"yaxis\": {\"anchor\": \"x\", \"domain\": [0.0, 1.0], \"title\": {\"text\": \"Mean of High for the day\"}}},                        {\"responsive\": true}                    ).then(function(){\n",
       "                            \n",
       "var gd = document.getElementById('fa00443e-0f3d-4a91-a581-e848e7b6770c');\n",
       "var x = new MutationObserver(function (mutations, observer) {{\n",
       "        var display = window.getComputedStyle(gd).display;\n",
       "        if (!display || display === 'none') {{\n",
       "            console.log([gd, 'removed!']);\n",
       "            Plotly.purge(gd);\n",
       "            observer.disconnect();\n",
       "        }}\n",
       "}});\n",
       "\n",
       "// Listen for the removal of the full notebook cells\n",
       "var notebookContainer = gd.closest('#notebook-container');\n",
       "if (notebookContainer) {{\n",
       "    x.observe(notebookContainer, {childList: true});\n",
       "}}\n",
       "\n",
       "// Listen for the clearing of the current output cell\n",
       "var outputEl = gd.closest('.output');\n",
       "if (outputEl) {{\n",
       "    x.observe(outputEl, {childList: true});\n",
       "}}\n",
       "\n",
       "                        })                };                });            </script>        </div>"
      ]
     },
     "metadata": {},
     "output_type": "display_data"
    }
   ],
   "source": [
    "fig = px.line(temp, x=temp.index, y='high')\n",
    "\n",
    "fig.update_layout(title='Reliance Stock Mean Data', xaxis_title='Date', yaxis_title='Mean of High for the day')\n",
    "\n",
    "fig.add_hline(y=np.average(temp['high']),\n",
    "              line={\n",
    "                  'color':'Orange',\n",
    "                  'dash':'dot'\n",
    "              },\n",
    "              annotation_text=f\"Mean:{np.average(temp['high'])}\")\n",
    "\n",
    "fig.add_vrect(x0=\"2018-06-28\", x1=\"2018-08-29\",\n",
    "              annotation_position=\"bottom right\",\n",
    "              annotation_text=\"Rise\",\n",
    "              fillcolor=\"Green\", opacity=0.2,\n",
    "              line_width=0\n",
    "             )\n",
    "\n",
    "fig.show()"
   ]
  },
  {
   "cell_type": "code",
   "execution_count": 16,
   "id": "waiting-animal",
   "metadata": {
    "execution": {
     "iopub.execute_input": "2021-05-31T18:42:50.124948Z",
     "iopub.status.busy": "2021-05-31T18:42:50.124286Z",
     "iopub.status.idle": "2021-05-31T18:42:50.205091Z",
     "shell.execute_reply": "2021-05-31T18:42:50.205585Z",
     "shell.execute_reply.started": "2021-05-31T17:08:49.723459Z"
    },
    "papermill": {
     "duration": 0.129473,
     "end_time": "2021-05-31T18:42:50.205745",
     "exception": false,
     "start_time": "2021-05-31T18:42:50.076272",
     "status": "completed"
    },
    "tags": []
   },
   "outputs": [
    {
     "data": {
      "text/html": [
       "<div>                            <div id=\"0825a98a-1bc4-48a9-813c-590ed89efecf\" class=\"plotly-graph-div\" style=\"height:525px; width:100%;\"></div>            <script type=\"text/javascript\">                require([\"plotly\"], function(Plotly) {                    window.PLOTLYENV=window.PLOTLYENV || {};                                    if (document.getElementById(\"0825a98a-1bc4-48a9-813c-590ed89efecf\")) {                    Plotly.newPlot(                        \"0825a98a-1bc4-48a9-813c-590ed89efecf\",                        [{\"mode\": \"lines\", \"name\": \"Low\", \"type\": \"scatter\", \"x\": [\"2015-02-02\", \"2015-02-03\", \"2015-02-04\", \"2015-02-05\", \"2015-02-06\", \"2015-02-09\", \"2015-02-10\", \"2015-02-11\", \"2015-02-12\", \"2015-02-13\", \"2015-02-16\", \"2015-02-18\", \"2015-02-19\", \"2015-02-20\", \"2015-02-23\", \"2015-02-24\", \"2015-02-25\", \"2015-02-26\", \"2015-02-27\", \"2015-02-28\", \"2015-03-02\", \"2015-03-03\", \"2015-03-04\", \"2015-03-05\", \"2015-03-09\", \"2015-03-10\", \"2015-03-11\", \"2015-03-12\", \"2015-03-13\", \"2015-03-16\", \"2015-03-17\", \"2015-03-18\", \"2015-03-19\", \"2015-03-20\", \"2015-03-23\", \"2015-03-24\", \"2015-03-25\", \"2015-03-26\", \"2015-03-27\", \"2015-03-30\", \"2015-03-31\", \"2015-04-01\", \"2015-04-06\", \"2015-04-07\", \"2015-04-08\", \"2015-04-09\", \"2015-04-10\", \"2015-04-13\", \"2015-04-15\", \"2015-04-16\", \"2015-04-17\", \"2015-04-20\", \"2015-04-21\", \"2015-04-22\", \"2015-04-23\", \"2015-04-24\", \"2015-04-27\", \"2015-04-28\", \"2015-04-29\", \"2015-04-30\", \"2015-05-04\", \"2015-05-05\", \"2015-05-06\", \"2015-05-07\", \"2015-05-08\", \"2015-05-11\", \"2015-05-12\", \"2015-05-13\", \"2015-05-14\", \"2015-05-15\", \"2015-05-18\", \"2015-05-19\", \"2015-05-20\", \"2015-05-21\", \"2015-05-22\", \"2015-05-25\", \"2015-05-26\", \"2015-05-27\", \"2015-05-28\", \"2015-05-29\", \"2015-06-01\", \"2015-06-02\", \"2015-06-03\", \"2015-06-04\", \"2015-06-05\", \"2015-06-08\", \"2015-06-09\", \"2015-06-10\", \"2015-06-11\", \"2015-06-12\", \"2015-06-15\", \"2015-06-16\", \"2015-06-17\", \"2015-06-18\", \"2015-06-19\", \"2015-06-22\", \"2015-06-23\", \"2015-06-24\", \"2015-06-25\", \"2015-06-26\", \"2015-06-29\", \"2015-06-30\", \"2015-07-01\", \"2015-07-02\", \"2015-07-03\", \"2015-07-06\", \"2015-07-07\", \"2015-07-08\", \"2015-07-09\", \"2015-07-10\", \"2015-07-13\", \"2015-07-14\", \"2015-07-15\", \"2015-07-16\", \"2015-07-17\", \"2015-07-20\", \"2015-07-21\", \"2015-07-22\", \"2015-07-23\", \"2015-07-24\", \"2015-07-27\", \"2015-07-28\", \"2015-07-29\", \"2015-07-30\", \"2015-07-31\", \"2015-08-03\", \"2015-08-04\", \"2015-08-05\", \"2015-08-06\", \"2015-08-07\", \"2015-08-10\", \"2015-08-11\", \"2015-08-12\", \"2015-08-13\", \"2015-08-14\", \"2015-08-17\", \"2015-08-18\", \"2015-08-19\", \"2015-08-20\", \"2015-08-21\", \"2015-08-24\", \"2015-08-25\", \"2015-08-26\", \"2015-08-27\", \"2015-08-28\", \"2015-08-31\", \"2015-09-01\", \"2015-09-02\", \"2015-09-03\", \"2015-09-04\", \"2015-09-07\", \"2015-09-08\", \"2015-09-09\", \"2015-09-10\", \"2015-09-11\", \"2015-09-14\", \"2015-09-15\", \"2015-09-16\", \"2015-09-18\", \"2015-09-21\", \"2015-09-22\", \"2015-09-23\", \"2015-09-24\", \"2015-09-28\", \"2015-09-29\", \"2015-09-30\", \"2015-10-01\", \"2015-10-05\", \"2015-10-06\", \"2015-10-07\", \"2015-10-08\", \"2015-10-09\", \"2015-10-12\", \"2015-10-13\", \"2015-10-14\", \"2015-10-15\", \"2015-10-16\", \"2015-10-19\", \"2015-10-20\", \"2015-10-21\", \"2015-10-23\", \"2015-10-26\", \"2015-10-27\", \"2015-10-28\", \"2015-10-29\", \"2015-10-30\", \"2015-11-02\", \"2015-11-03\", \"2015-11-04\", \"2015-11-05\", \"2015-11-06\", \"2015-11-09\", \"2015-11-10\", \"2015-11-11\", \"2015-11-13\", \"2015-11-16\", \"2015-11-17\", \"2015-11-18\", \"2015-11-19\", \"2015-11-20\", \"2015-11-23\", \"2015-11-24\", \"2015-11-26\", \"2015-11-27\", \"2015-11-30\", \"2015-12-01\", \"2015-12-02\", \"2015-12-03\", \"2015-12-04\", \"2015-12-07\", \"2015-12-08\", \"2015-12-09\", \"2015-12-10\", \"2015-12-11\", \"2015-12-14\", \"2015-12-15\", \"2015-12-16\", \"2015-12-17\", \"2015-12-18\", \"2015-12-21\", \"2015-12-22\", \"2015-12-23\", \"2015-12-24\", \"2015-12-28\", \"2015-12-29\", \"2015-12-30\", \"2015-12-31\", \"2016-01-04\", \"2016-01-05\", \"2016-01-06\", \"2016-01-07\", \"2016-01-08\", \"2016-01-11\", \"2016-01-12\", \"2016-01-13\", \"2016-01-14\", \"2016-01-15\", \"2016-01-18\", \"2016-01-19\", \"2016-01-20\", \"2016-01-21\", \"2016-01-22\", \"2016-01-25\", \"2016-01-27\", \"2016-01-28\", \"2016-01-29\", \"2016-02-01\", \"2016-02-02\", \"2016-02-03\", \"2016-02-04\", \"2016-02-05\", \"2016-02-08\", \"2016-02-09\", \"2016-02-10\", \"2016-02-11\", \"2016-02-12\", \"2016-02-15\", \"2016-02-16\", \"2016-02-17\", \"2016-02-18\", \"2016-02-19\", \"2016-02-22\", \"2016-02-23\", \"2016-02-24\", \"2016-02-25\", \"2016-02-26\", \"2016-02-29\", \"2016-03-01\", \"2016-03-02\", \"2016-03-03\", \"2016-03-04\", \"2016-03-08\", \"2016-03-09\", \"2016-03-10\", \"2016-03-11\", \"2016-03-14\", \"2016-03-15\", \"2016-03-16\", \"2016-03-17\", \"2016-03-18\", \"2016-03-21\", \"2016-03-22\", \"2016-03-23\", \"2016-03-28\", \"2016-03-29\", \"2016-03-30\", \"2016-03-31\", \"2016-04-01\", \"2016-04-04\", \"2016-04-05\", \"2016-04-06\", \"2016-04-07\", \"2016-04-08\", \"2016-04-11\", \"2016-04-12\", \"2016-04-13\", \"2016-04-18\", \"2016-04-20\", \"2016-04-21\", \"2016-04-22\", \"2016-04-25\", \"2016-04-26\", \"2016-04-27\", \"2016-04-28\", \"2016-04-29\", \"2016-05-02\", \"2016-05-03\", \"2016-05-04\", \"2016-05-05\", \"2016-05-06\", \"2016-05-09\", \"2016-05-10\", \"2016-05-11\", \"2016-05-12\", \"2016-05-13\", \"2016-05-16\", \"2016-05-17\", \"2016-05-18\", \"2016-05-19\", \"2016-05-20\", \"2016-05-23\", \"2016-05-24\", \"2016-05-25\", \"2016-05-26\", \"2016-05-27\", \"2016-05-30\", \"2016-05-31\", \"2016-06-01\", \"2016-06-02\", \"2016-06-03\", \"2016-06-06\", \"2016-06-07\", \"2016-06-08\", \"2016-06-09\", \"2016-06-10\", \"2016-06-13\", \"2016-06-14\", \"2016-06-15\", \"2016-06-16\", \"2016-06-17\", \"2016-06-20\", \"2016-06-21\", \"2016-06-22\", \"2016-06-23\", \"2016-06-24\", \"2016-06-27\", \"2016-06-28\", \"2016-06-29\", \"2016-06-30\", \"2016-07-01\", \"2016-07-04\", \"2016-07-05\", \"2016-07-07\", \"2016-07-08\", \"2016-07-11\", \"2016-07-12\", \"2016-07-13\", \"2016-07-14\", \"2016-07-15\", \"2016-07-18\", \"2016-07-19\", \"2016-07-20\", \"2016-07-21\", \"2016-07-22\", \"2016-07-25\", \"2016-07-26\", \"2016-07-27\", \"2016-07-28\", \"2016-07-29\", \"2016-08-01\", \"2016-08-02\", \"2016-08-03\", \"2016-08-04\", \"2016-08-05\", \"2016-08-08\", \"2016-08-09\", \"2016-08-10\", \"2016-08-11\", \"2016-08-12\", \"2016-08-16\", \"2016-08-17\", \"2016-08-18\", \"2016-08-19\", \"2016-08-22\", \"2016-08-23\", \"2016-08-24\", \"2016-08-25\", \"2016-08-26\", \"2016-08-29\", \"2016-08-30\", \"2016-08-31\", \"2016-09-01\", \"2016-09-02\", \"2016-09-06\", \"2016-09-07\", \"2016-09-08\", \"2016-09-09\", \"2016-09-12\", \"2016-09-14\", \"2016-09-15\", \"2016-09-16\", \"2016-09-19\", \"2016-09-20\", \"2016-09-21\", \"2016-09-22\", \"2016-09-23\", \"2016-09-26\", \"2016-09-27\", \"2016-09-28\", \"2016-09-29\", \"2016-09-30\", \"2016-10-03\", \"2016-10-04\", \"2016-10-05\", \"2016-10-06\", \"2016-10-07\", \"2016-10-10\", \"2016-10-13\", \"2016-10-14\", \"2016-10-17\", \"2016-10-18\", \"2016-10-19\", \"2016-10-20\", \"2016-10-21\", \"2016-10-24\", \"2016-10-25\", \"2016-10-26\", \"2016-10-27\", \"2016-10-28\", \"2016-10-30\", \"2016-11-01\", \"2016-11-02\", \"2016-11-03\", \"2016-11-04\", \"2016-11-07\", \"2016-11-08\", \"2016-11-09\", \"2016-11-10\", \"2016-11-11\", \"2016-11-15\", \"2016-11-16\", \"2016-11-17\", \"2016-11-18\", \"2016-11-21\", \"2016-11-22\", \"2016-11-23\", \"2016-11-24\", \"2016-11-25\", \"2016-11-28\", \"2016-11-29\", \"2016-11-30\", \"2016-12-01\", \"2016-12-02\", \"2016-12-05\", \"2016-12-06\", \"2016-12-07\", \"2016-12-08\", \"2016-12-09\", \"2016-12-12\", \"2016-12-13\", \"2016-12-14\", \"2016-12-15\", \"2016-12-16\", \"2016-12-19\", \"2016-12-20\", \"2016-12-21\", \"2016-12-22\", \"2016-12-23\", \"2016-12-26\", \"2016-12-27\", \"2016-12-28\", \"2016-12-29\", \"2016-12-30\", \"2017-01-02\", \"2017-01-03\", \"2017-01-04\", \"2017-01-05\", \"2017-01-06\", \"2017-01-09\", \"2017-01-10\", \"2017-01-11\", \"2017-01-12\", \"2017-01-13\", \"2017-01-16\", \"2017-01-17\", \"2017-01-18\", \"2017-01-19\", \"2017-01-20\", \"2017-01-23\", \"2017-01-24\", \"2017-01-25\", \"2017-01-27\", \"2017-01-30\", \"2017-01-31\", \"2017-02-01\", \"2017-02-02\", \"2017-02-03\", \"2017-02-06\", \"2017-02-07\", \"2017-02-08\", \"2017-02-09\", \"2017-02-10\", \"2017-02-13\", \"2017-02-14\", \"2017-02-15\", \"2017-02-16\", \"2017-02-17\", \"2017-02-20\", \"2017-02-21\", \"2017-02-22\", \"2017-02-23\", \"2017-02-27\", \"2017-02-28\", \"2017-03-01\", \"2017-03-02\", \"2017-03-03\", \"2017-03-06\", \"2017-03-07\", \"2017-03-08\", \"2017-03-09\", \"2017-03-10\", \"2017-03-14\", \"2017-03-15\", \"2017-03-16\", \"2017-03-17\", \"2017-03-20\", \"2017-03-21\", \"2017-03-22\", \"2017-03-23\", \"2017-03-24\", \"2017-03-27\", \"2017-03-28\", \"2017-03-29\", \"2017-03-30\", \"2017-03-31\", \"2017-04-03\", \"2017-04-05\", \"2017-04-06\", \"2017-04-07\", \"2017-04-10\", \"2017-04-11\", \"2017-04-12\", \"2017-04-13\", \"2017-04-17\", \"2017-04-18\", \"2017-04-19\", \"2017-04-20\", \"2017-04-21\", \"2017-04-24\", \"2017-04-25\", \"2017-04-26\", \"2017-04-27\", \"2017-04-28\", \"2017-05-02\", \"2017-05-03\", \"2017-05-04\", \"2017-05-05\", \"2017-05-08\", \"2017-05-09\", \"2017-05-10\", \"2017-05-11\", \"2017-05-12\", \"2017-05-15\", \"2017-05-16\", \"2017-05-17\", \"2017-05-18\", \"2017-05-19\", \"2017-05-22\", \"2017-05-23\", \"2017-05-24\", \"2017-05-25\", \"2017-05-26\", \"2017-05-29\", \"2017-05-30\", \"2017-05-31\", \"2017-06-01\", \"2017-06-02\", \"2017-06-05\", \"2017-06-06\", \"2017-06-07\", \"2017-06-08\", \"2017-06-09\", \"2017-06-12\", \"2017-06-13\", \"2017-06-14\", \"2017-06-15\", \"2017-06-16\", \"2017-06-19\", \"2017-06-20\", \"2017-06-21\", \"2017-06-22\", \"2017-06-23\", \"2017-06-27\", \"2017-06-28\", \"2017-06-29\", \"2017-06-30\", \"2017-07-03\", \"2017-07-04\", \"2017-07-05\", \"2017-07-06\", \"2017-07-07\", \"2017-07-10\", \"2017-07-11\", \"2017-07-12\", \"2017-07-13\", \"2017-07-14\", \"2017-07-17\", \"2017-07-18\", \"2017-07-19\", \"2017-07-20\", \"2017-07-21\", \"2017-07-24\", \"2017-07-25\", \"2017-07-26\", \"2017-07-27\", \"2017-07-28\", \"2017-07-31\", \"2017-08-01\", \"2017-08-02\", \"2017-08-03\", \"2017-08-04\", \"2017-08-07\", \"2017-08-08\", \"2017-08-09\", \"2017-08-10\", \"2017-08-11\", \"2017-08-14\", \"2017-08-16\", \"2017-08-17\", \"2017-08-18\", \"2017-08-21\", \"2017-08-22\", \"2017-08-23\", \"2017-08-24\", \"2017-08-28\", \"2017-08-29\", \"2017-08-30\", \"2017-08-31\", \"2017-09-01\", \"2017-09-04\", \"2017-09-05\", \"2017-09-06\", \"2017-09-07\", \"2017-09-08\", \"2017-09-11\", \"2017-09-12\", \"2017-09-13\", \"2017-09-14\", \"2017-09-15\", \"2017-09-18\", \"2017-09-19\", \"2017-09-20\", \"2017-09-21\", \"2017-09-22\", \"2017-09-25\", \"2017-09-26\", \"2017-09-27\", \"2017-09-28\", \"2017-09-29\", \"2017-10-03\", \"2017-10-04\", \"2017-10-05\", \"2017-10-06\", \"2017-10-09\", \"2017-10-10\", \"2017-10-11\", \"2017-10-12\", \"2017-10-13\", \"2017-10-16\", \"2017-10-17\", \"2017-10-18\", \"2017-10-19\", \"2017-10-23\", \"2017-10-24\", \"2017-10-25\", \"2017-10-26\", \"2017-10-27\", \"2017-10-30\", \"2017-10-31\", \"2017-11-01\", \"2017-11-02\", \"2017-11-03\", \"2017-11-06\", \"2017-11-07\", \"2017-11-08\", \"2017-11-09\", \"2017-11-10\", \"2017-11-13\", \"2017-11-14\", \"2017-11-15\", \"2017-11-16\", \"2017-11-17\", \"2017-11-20\", \"2017-11-21\", \"2017-11-22\", \"2017-11-23\", \"2017-11-24\", \"2017-11-27\", \"2017-11-28\", \"2017-11-29\", \"2017-11-30\", \"2017-12-01\", \"2017-12-04\", \"2017-12-05\", \"2017-12-06\", \"2017-12-07\", \"2017-12-08\", \"2017-12-11\", \"2017-12-12\", \"2017-12-13\", \"2017-12-14\", \"2017-12-15\", \"2017-12-18\", \"2017-12-19\", \"2017-12-20\", \"2017-12-21\", \"2017-12-22\", \"2017-12-26\", \"2017-12-27\", \"2017-12-28\", \"2017-12-29\", \"2018-01-01\", \"2018-01-02\", \"2018-01-03\", \"2018-01-04\", \"2018-01-05\", \"2018-01-08\", \"2018-01-09\", \"2018-01-10\", \"2018-01-11\", \"2018-01-12\", \"2018-01-15\", \"2018-01-16\", \"2018-01-17\", \"2018-01-18\", \"2018-01-19\", \"2018-01-22\", \"2018-01-23\", \"2018-01-24\", \"2018-01-25\", \"2018-01-29\", \"2018-01-30\", \"2018-01-31\", \"2018-02-01\", \"2018-02-02\", \"2018-02-05\", \"2018-02-06\", \"2018-02-07\", \"2018-02-08\", \"2018-02-09\", \"2018-02-12\", \"2018-02-14\", \"2018-02-15\", \"2018-02-16\", \"2018-02-19\", \"2018-02-20\", \"2018-02-21\", \"2018-02-22\", \"2018-02-23\", \"2018-02-26\", \"2018-02-27\", \"2018-02-28\", \"2018-03-01\", \"2018-03-05\", \"2018-03-06\", \"2018-03-07\", \"2018-03-08\", \"2018-03-09\", \"2018-03-12\", \"2018-03-13\", \"2018-03-14\", \"2018-03-15\", \"2018-03-16\", \"2018-03-19\", \"2018-03-20\", \"2018-03-21\", \"2018-03-22\", \"2018-03-23\", \"2018-03-26\", \"2018-03-27\", \"2018-03-28\", \"2018-04-02\", \"2018-04-03\", \"2018-04-04\", \"2018-04-05\", \"2018-04-06\", \"2018-04-09\", \"2018-04-10\", \"2018-04-11\", \"2018-04-12\", \"2018-04-13\", \"2018-04-16\", \"2018-04-17\", \"2018-04-18\", \"2018-04-19\", \"2018-04-20\", \"2018-04-23\", \"2018-04-24\", \"2018-04-25\", \"2018-04-26\", \"2018-04-27\", \"2018-04-30\", \"2018-05-02\", \"2018-05-03\", \"2018-05-04\", \"2018-05-07\", \"2018-05-08\", \"2018-05-09\", \"2018-05-10\", \"2018-05-11\", \"2018-05-14\", \"2018-05-15\", \"2018-05-16\", \"2018-05-17\", \"2018-05-18\", \"2018-05-21\", \"2018-05-22\", \"2018-05-23\", \"2018-05-24\", \"2018-05-25\", \"2018-05-28\", \"2018-05-29\", \"2018-05-30\", \"2018-05-31\", \"2018-06-01\", \"2018-06-04\", \"2018-06-05\", \"2018-06-06\", \"2018-06-07\", \"2018-06-08\", \"2018-06-11\", \"2018-06-12\", \"2018-06-13\", \"2018-06-14\", \"2018-06-15\", \"2018-06-18\", \"2018-06-19\", \"2018-06-20\", \"2018-06-21\", \"2018-06-22\", \"2018-06-25\", \"2018-06-26\", \"2018-06-27\", \"2018-06-28\", \"2018-06-29\", \"2018-07-02\", \"2018-07-03\", \"2018-07-04\", \"2018-07-05\", \"2018-07-06\", \"2018-07-09\", \"2018-07-10\", \"2018-07-11\", \"2018-07-12\", \"2018-07-13\", \"2018-07-16\", \"2018-07-17\", \"2018-07-18\", \"2018-07-19\", \"2018-07-20\", \"2018-07-23\", \"2018-07-24\", \"2018-07-25\", \"2018-07-26\", \"2018-07-27\", \"2018-07-30\", \"2018-07-31\", \"2018-08-01\", \"2018-08-02\", \"2018-08-03\", \"2018-08-06\", \"2018-08-07\", \"2018-08-08\", \"2018-08-09\", \"2018-08-10\", \"2018-08-13\", \"2018-08-14\", \"2018-08-16\", \"2018-08-17\", \"2018-08-20\", \"2018-08-21\", \"2018-08-23\", \"2018-08-24\", \"2018-08-27\", \"2018-08-28\", \"2018-08-29\", \"2018-08-30\", \"2018-08-31\", \"2018-09-03\", \"2018-09-04\", \"2018-09-05\", \"2018-09-06\", \"2018-09-07\", \"2018-09-10\", \"2018-09-11\", \"2018-09-12\", \"2018-09-14\", \"2018-09-17\", \"2018-09-18\", \"2018-09-19\", \"2018-09-21\", \"2018-09-24\", \"2018-09-25\", \"2018-09-26\", \"2018-09-27\", \"2018-09-28\", \"2018-10-01\", \"2018-10-03\", \"2018-10-04\", \"2018-10-05\", \"2018-10-08\", \"2018-10-09\", \"2018-10-10\", \"2018-10-11\", \"2018-10-12\", \"2018-10-15\", \"2018-10-16\", \"2018-10-17\", \"2018-10-19\", \"2018-10-22\", \"2018-10-23\", \"2018-10-24\", \"2018-10-25\", \"2018-10-26\", \"2018-10-29\", \"2018-10-30\", \"2018-10-31\", \"2018-11-01\", \"2018-11-02\", \"2018-11-05\", \"2018-11-06\", \"2018-11-07\", \"2018-11-09\", \"2018-11-12\", \"2018-11-13\", \"2018-11-14\", \"2018-11-15\", \"2018-11-16\", \"2018-11-19\", \"2018-11-20\", \"2018-11-21\", \"2018-11-22\", \"2018-11-26\", \"2018-11-27\", \"2018-11-28\", \"2018-11-29\", \"2018-11-30\", \"2018-12-03\", \"2018-12-04\", \"2018-12-05\", \"2018-12-06\", \"2018-12-07\", \"2018-12-10\", \"2018-12-11\", \"2018-12-12\", \"2018-12-13\", \"2018-12-14\", \"2018-12-17\", \"2018-12-18\", \"2018-12-19\", \"2018-12-20\", \"2018-12-21\", \"2018-12-24\", \"2018-12-26\", \"2018-12-27\", \"2018-12-28\", \"2018-12-31\", \"2019-01-01\", \"2019-01-02\", \"2019-01-03\", \"2019-01-04\", \"2019-01-07\", \"2019-01-08\", \"2019-01-09\", \"2019-01-10\", \"2019-01-11\", \"2019-01-14\", \"2019-01-15\", \"2019-01-16\", \"2019-01-17\", \"2019-01-18\", \"2019-01-21\", \"2019-01-22\", \"2019-01-23\", \"2019-01-24\", \"2019-01-25\", \"2019-01-28\", \"2019-01-29\", \"2019-01-30\", \"2019-01-31\", \"2019-02-01\", \"2019-02-04\", \"2019-02-05\", \"2019-02-06\", \"2019-02-07\", \"2019-02-08\", \"2019-02-11\", \"2019-02-12\", \"2019-02-13\", \"2019-02-14\", \"2019-02-15\", \"2019-02-18\", \"2019-02-19\", \"2019-02-20\", \"2019-02-21\", \"2019-02-22\", \"2019-02-25\", \"2019-02-26\", \"2019-02-27\", \"2019-02-28\", \"2019-03-01\", \"2019-03-05\", \"2019-03-06\", \"2019-03-07\", \"2019-03-08\", \"2019-03-11\", \"2019-03-12\", \"2019-03-13\", \"2019-03-14\", \"2019-03-15\", \"2019-03-18\", \"2019-03-19\", \"2019-03-20\", \"2019-03-22\", \"2019-03-25\", \"2019-03-26\", \"2019-03-27\", \"2019-03-28\", \"2019-03-29\", \"2019-04-01\", \"2019-04-02\", \"2019-04-03\", \"2019-04-04\", \"2019-04-05\", \"2019-04-08\", \"2019-04-09\", \"2019-04-10\", \"2019-04-11\", \"2019-04-12\", \"2019-04-15\", \"2019-04-16\", \"2019-04-18\", \"2019-04-22\", \"2019-04-23\", \"2019-04-24\", \"2019-04-25\", \"2019-04-26\", \"2019-04-30\", \"2019-05-02\", \"2019-05-03\", \"2019-05-06\", \"2019-05-07\", \"2019-05-08\"], \"y\": [452.9, 456.9, 462.95, 458.9, 451.55, 446.03, 430.85, 441.63, 443.63, 454.83, 450.2, 447.23, 443.78, 435.8, 423.63, 418.5, 420.63, 418.33, 422.35, 423.33, 427.78, 433.75, 440.15, 439.43, 432.15, 427.88, 426.25, 427.95, 423.5, 420.3, 420.5, 427.5, 427.25, 424.38, 419.05, 421.2, 420.5, 412.05, 400.73, 398.28, 409.03, 406.7, 410.75, 413.55, 416.45, 429.73, 444.55, 449.38, 453.83, 459.5, 461.38, 439.48, 436.25, 433.65, 434.55, 434.35, 435.73, 429.33, 423.7, 424.03, 430.25, 442.55, 436.0, 430.0, 432.05, 441.7, 432.6, 428.6, 435.33, 435.08, 436.1, 443.3, 449.65, 447.13, 448.5, 446.18, 441.35, 440.1, 436.1, 436.55, 439.5, 445.78, 444.3, 447.28, 452.25, 441.73, 438.8, 442.5, 436.95, 439.5, 445.0, 446.75, 447.0, 466.28, 491.43, 493.35, 495.5, 493.33, 492.5, 497.7, 486.08, 494.0, 500.5, 503.55, 501.53, 497.9, 500.13, 495.83, 491.73, 495.13, 497.58, 497.6, 499.85, 505.78, 509.0, 508.95, 501.38, 502.3, 520.75, 510.6, 500.9, 500.13, 496.08, 496.4, 495.0, 499.93, 490.0, 492.08, 488.75, 488.75, 482.25, 479.0, 470.4, 464.7, 467.15, 473.48, 471.1, 469.85, 456.93, 448.63, 409.03, 412.0, 420.73, 428.7, 433.05, 427.05, 417.55, 421.5, 422.23, 412.55, 413.85, 412.55, 425.35, 427.75, 428.28, 426.08, 427.8, 432.65, 438.65, 438.03, 422.28, 420.2, 417.63, 414.53, 413.08, 419.3, 429.43, 431.03, 442.88, 445.5, 443.23, 440.75, 444.3, 441.45, 446.98, 450.05, 451.88, 471.0, 476.53, 476.5, 476.2, 470.7, 469.1, 465.05, 467.5, 470.23, 472.63, 480.75, 473.15, 466.5, 468.95, 461.73, 458.15, 463.55, 457.3, 462.43, 463.1, 455.0, 459.0, 462.78, 473.15, 475.65, 484.25, 487.05, 481.2, 480.63, 482.95, 487.05, 480.73, 474.88, 468.15, 456.5, 460.0, 471.75, 473.0, 476.83, 486.93, 489.0, 495.0, 492.25, 492.0, 495.1, 498.15, 500.0, 503.6, 501.0, 499.55, 493.35, 498.5, 500.2, 504.3, 508.35, 505.5, 520.65, 524.28, 526.53, 532.83, 504.15, 507.45, 495.0, 488.55, 497.15, 500.0, 498.48, 498.58, 509.38, 513.08, 495.3, 487.5, 483.28, 481.05, 478.98, 475.05, 474.33, 458.0, 444.15, 459.6, 463.5, 458.33, 468.15, 468.68, 472.63, 471.45, 471.13, 470.5, 472.38, 468.05, 482.63, 493.68, 498.75, 501.78, 503.78, 509.53, 504.53, 505.3, 506.5, 507.6, 502.98, 506.0, 507.9, 511.5, 518.03, 511.28, 507.83, 510.85, 521.45, 516.63, 512.5, 512.65, 511.23, 511.3, 511.53, 515.7, 516.5, 519.03, 526.5, 527.78, 517.9, 517.5, 514.73, 506.15, 503.98, 508.0, 495.85, 489.48, 489.28, 486.5, 486.55, 485.5, 483.5, 486.4, 489.0, 485.0, 487.7, 487.75, 485.55, 483.18, 482.2, 473.0, 466.23, 462.83, 464.13, 470.65, 472.05, 474.38, 482.63, 478.25, 475.9, 472.55, 478.0, 476.28, 475.8, 474.83, 479.55, 484.43, 481.8, 484.73, 486.88, 483.8, 485.05, 484.0, 489.93, 488.55, 485.0, 466.78, 471.9, 477.5, 480.0, 483.65, 485.0, 488.0, 490.15, 493.23, 488.25, 492.95, 495.5, 502.25, 499.53, 502.03, 500.93, 497.93, 508.28, 502.53, 502.55, 503.7, 507.6, 504.95, 506.53, 506.0, 502.53, 503.15, 495.78, 491.7, 498.53, 509.4, 510.5, 501.0, 500.0, 508.55, 507.75, 503.65, 508.18, 503.58, 503.6, 502.5, 505.88, 504.8, 507.33, 513.43, 526.53, 523.58, 513.13, 501.35, 507.5, 506.65, 510.15, 515.03, 514.88, 520.45, 524.0, 529.8, 535.55, 534.55, 534.55, 539.53, 545.0, 551.58, 553.3, 543.25, 533.75, 533.98, 538.15, 546.0, 542.9, 546.45, 553.25, 547.0, 526.0, 530.85, 529.4, 531.05, 540.7, 542.1, 529.53, 530.38, 527.1, 526.23, 521.75, 522.0, 524.25, 523.73, 510.5, 510.3, 500.05, 499.55, 499.15, 465.95, 503.98, 498.0, 489.8, 490.35, 487.2, 491.53, 491.63, 496.75, 499.78, 491.38, 492.2, 492.05, 494.25, 493.35, 497.5, 496.1, 493.25, 497.35, 498.18, 502.3, 510.15, 510.55, 514.0, 519.25, 524.33, 526.25, 527.45, 526.83, 528.6, 525.48, 526.5, 522.33, 524.0, 523.58, 524.78, 531.55, 536.2, 540.55, 532.15, 534.5, 536.55, 535.5, 540.0, 542.0, 539.95, 542.3, 536.98, 519.33, 514.5, 515.5, 512.0, 506.6, 509.13, 508.08, 509.5, 512.48, 520.18, 517.6, 519.13, 515.05, 516.05, 513.6, 511.0, 513.48, 512.85, 511.0, 515.33, 522.8, 526.28, 529.25, 533.25, 536.53, 546.5, 589.8, 596.0, 614.3, 615.0, 613.55, 621.73, 632.63, 648.38, 643.33, 640.85, 630.7, 642.63, 645.2, 646.9, 649.1, 639.18, 629.65, 623.3, 629.0, 634.28, 623.65, 621.13, 616.68, 626.55, 633.85, 669.45, 690.13, 701.28, 701.4, 688.7, 685.15, 675.6, 674.05, 682.88, 683.63, 679.13, 682.05, 689.53, 700.68, 713.93, 701.38, 701.13, 695.5, 683.15, 682.63, 677.25, 662.53, 659.4, 660.38, 665.33, 675.83, 672.05, 666.75, 670.5, 673.88, 662.2, 655.2, 657.63, 651.0, 647.55, 648.28, 650.0, 667.8, 674.55, 668.1, 661.5, 658.5, 658.0, 655.5, 654.5, 664.03, 665.55, 658.58, 655.5, 658.0, 680.0, 685.0, 695.5, 703.73, 702.28, 714.05, 715.35, 712.5, 698.0, 695.13, 687.53, 685.75, 695.0, 712.0, 719.0, 720.5, 744.55, 743.55, 749.0, 753.15, 757.85, 768.75, 755.53, 757.45, 761.88, 773.2, 792.95, 798.8, 800.55, 794.23, 789.13, 798.0, 795.75, 804.08, 808.53, 807.55, 806.4, 793.85, 792.5, 789.0, 766.53, 780.5, 775.1, 780.58, 776.9, 780.13, 778.03, 776.58, 782.38, 780.78, 765.0, 771.5, 787.03, 799.5, 798.03, 810.53, 811.88, 815.0, 812.2, 816.55, 817.0, 822.1, 842.0, 834.8, 843.1, 837.0, 845.1, 836.55, 813.85, 805.25, 812.2, 795.7, 780.5, 779.8, 786.15, 795.95, 819.45, 823.1, 828.0, 831.05, 836.0, 844.25, 873.5, 861.55, 867.25, 876.0, 903.65, 910.0, 928.5, 929.9, 931.0, 925.8, 930.8, 932.25, 945.85, 944.3, 940.15, 929.0, 903.1, 884.2, 892.3, 879.25, 873.5, 873.05, 877.95, 888.0, 908.9, 905.2, 925.9, 923.9, 926.95, 947.55, 944.05, 938.1, 941.55, 919.5, 908.0, 898.0, 895.55, 909.05, 923.0, 919.5, 913.6, 908.0, 911.0, 909.1, 917.7, 864.6, 920.0, 917.05, 910.35, 909.95, 918.25, 919.0, 919.1, 918.5, 907.55, 906.5, 913.05, 916.0, 920.25, 923.75, 924.0, 935.5, 935.05, 938.3, 945.3, 920.0, 907.05, 915.45, 922.3, 940.0, 975.15, 963.05, 956.75, 959.45, 949.1, 941.95, 937.4, 901.05, 883.8, 871.45, 890.0, 892.55, 886.0, 903.1, 921.15, 928.15, 918.35, 913.8, 918.85, 922.15, 920.5, 923.1, 936.9, 938.75, 943.9, 946.0, 922.0, 905.4, 888.05, 893.8, 911.3, 917.6, 921.45, 919.5, 910.0, 886.4, 892.0, 887.05, 893.35, 895.9, 889.15, 892.5, 897.05, 880.1, 887.35, 885.25, 892.1, 903.5, 905.0, 912.55, 914.4, 916.1, 924.3, 930.0, 928.5, 936.0, 935.05, 935.0, 921.25, 928.8, 935.45, 964.3, 962.55, 988.1, 960.25, 965.55, 959.5, 950.0, 956.4, 965.25, 962.25, 974.85, 977.75, 976.7, 976.65, 953.45, 942.0, 932.05, 922.4, 925.1, 909.25, 910.2, 914.85, 918.35, 914.4, 906.85, 915.95, 918.5, 931.55, 941.0, 942.75, 954.9, 960.6, 979.1, 980.35, 989.5, 988.1, 999.25, 1007.7, 993.65, 995.95, 1021.3, 1008.45, 1002.55, 975.65, 962.8, 940.65, 949.0, 957.0, 960.75, 971.95, 958.75, 964.7, 983.75, 1002.2, 1018.0, 1043.25, 1080.55, 1073.35, 1070.2, 1078.35, 1086.55, 1112.15, 1113.2, 1107.5, 1104.45, 1107.8, 1112.3, 1129.6, 1147.2, 1185.5, 1166.05, 1169.55, 1175.35, 1177.1, 1185.2, 1212.2, 1202.3, 1182.7, 1184.3, 1195.55, 1200.05, 1207.65, 1227.0, 1238.4, 1260.5, 1279.0, 1296.05, 1290.5, 1270.6, 1236.65, 1226.1, 1229.0, 1208.75, 1225.55, 1255.0, 1250.15, 1234.25, 1229.0, 1248.15, 1221.75, 1214.45, 1201.4, 1183.5, 1204.55, 1195.25, 1227.35, 1237.55, 1247.8, 1204.7, 1200.25, 1106.0, 1038.4, 1025.55, 1081.55, 1085.15, 1044.1, 1101.9, 1119.9, 1140.0, 1144.05, 1074.55, 1057.4, 1043.85, 1031.4, 1016.7, 1022.9, 1046.85, 1052.5, 1047.0, 1050.0, 1063.2, 1065.05, 1094.0, 1106.8, 1085.0, 1074.6, 1070.25, 1085.75, 1086.5, 1097.5, 1132.1, 1130.0, 1107.15, 1100.1, 1097.7, 1106.0, 1126.5, 1161.25, 1162.3, 1148.5, 1142.2, 1139.7, 1119.0, 1108.6, 1083.3, 1056.25, 1088.1, 1095.25, 1091.8, 1111.7, 1120.65, 1133.3, 1116.15, 1096.0, 1086.65, 1065.7, 1104.1, 1121.5, 1116.2, 1111.6, 1101.0, 1090.1, 1081.4, 1101.0, 1096.0, 1099.0, 1103.0, 1088.6, 1086.4, 1105.0, 1132.0, 1130.0, 1135.3, 1189.75, 1220.0, 1222.0, 1220.1, 1235.4, 1222.4, 1201.35, 1191.25, 1202.0, 1227.05, 1245.55, 1279.8, 1295.95, 1286.2, 1272.35, 1251.0, 1251.5, 1235.75, 1218.0, 1214.15, 1215.0, 1211.4, 1219.0, 1229.5, 1226.0, 1222.65, 1206.05, 1209.05, 1226.8, 1222.25, 1218.65, 1235.1, 1259.0, 1262.0, 1268.0, 1315.05, 1328.1, 1336.15, 1311.6, 1329.5, 1343.1, 1364.0, 1336.9, 1317.0, 1330.3, 1344.3, 1343.05, 1355.4, 1362.6, 1380.35, 1372.0, 1347.25, 1343.2, 1323.8, 1321.3, 1326.5, 1329.0, 1337.2, 1335.05, 1340.0, 1365.35, 1341.5, 1346.1, 1366.35, 1363.0, 1370.7, 1366.95, 1382.2, 1402.65, 1378.3, 1340.3, 1292.5]}, {\"fill\": \"tonexty\", \"mode\": \"lines\", \"name\": \"High\", \"type\": \"scatter\", \"x\": [\"2015-02-02\", \"2015-02-03\", \"2015-02-04\", \"2015-02-05\", \"2015-02-06\", \"2015-02-09\", \"2015-02-10\", \"2015-02-11\", \"2015-02-12\", \"2015-02-13\", \"2015-02-16\", \"2015-02-18\", \"2015-02-19\", \"2015-02-20\", \"2015-02-23\", \"2015-02-24\", \"2015-02-25\", \"2015-02-26\", \"2015-02-27\", \"2015-02-28\", \"2015-03-02\", \"2015-03-03\", \"2015-03-04\", \"2015-03-05\", \"2015-03-09\", \"2015-03-10\", \"2015-03-11\", \"2015-03-12\", \"2015-03-13\", \"2015-03-16\", \"2015-03-17\", \"2015-03-18\", \"2015-03-19\", \"2015-03-20\", \"2015-03-23\", \"2015-03-24\", \"2015-03-25\", \"2015-03-26\", \"2015-03-27\", \"2015-03-30\", \"2015-03-31\", \"2015-04-01\", \"2015-04-06\", \"2015-04-07\", \"2015-04-08\", \"2015-04-09\", \"2015-04-10\", \"2015-04-13\", \"2015-04-15\", \"2015-04-16\", \"2015-04-17\", \"2015-04-20\", \"2015-04-21\", \"2015-04-22\", \"2015-04-23\", \"2015-04-24\", \"2015-04-27\", \"2015-04-28\", \"2015-04-29\", \"2015-04-30\", \"2015-05-04\", \"2015-05-05\", \"2015-05-06\", \"2015-05-07\", \"2015-05-08\", \"2015-05-11\", \"2015-05-12\", \"2015-05-13\", \"2015-05-14\", \"2015-05-15\", \"2015-05-18\", \"2015-05-19\", \"2015-05-20\", \"2015-05-21\", \"2015-05-22\", \"2015-05-25\", \"2015-05-26\", \"2015-05-27\", \"2015-05-28\", \"2015-05-29\", \"2015-06-01\", \"2015-06-02\", \"2015-06-03\", \"2015-06-04\", \"2015-06-05\", \"2015-06-08\", \"2015-06-09\", \"2015-06-10\", \"2015-06-11\", \"2015-06-12\", \"2015-06-15\", \"2015-06-16\", \"2015-06-17\", \"2015-06-18\", \"2015-06-19\", \"2015-06-22\", \"2015-06-23\", \"2015-06-24\", \"2015-06-25\", \"2015-06-26\", \"2015-06-29\", \"2015-06-30\", \"2015-07-01\", \"2015-07-02\", \"2015-07-03\", \"2015-07-06\", \"2015-07-07\", \"2015-07-08\", \"2015-07-09\", \"2015-07-10\", \"2015-07-13\", \"2015-07-14\", \"2015-07-15\", \"2015-07-16\", \"2015-07-17\", \"2015-07-20\", \"2015-07-21\", \"2015-07-22\", \"2015-07-23\", \"2015-07-24\", \"2015-07-27\", \"2015-07-28\", \"2015-07-29\", \"2015-07-30\", \"2015-07-31\", \"2015-08-03\", \"2015-08-04\", \"2015-08-05\", \"2015-08-06\", \"2015-08-07\", \"2015-08-10\", \"2015-08-11\", \"2015-08-12\", \"2015-08-13\", \"2015-08-14\", \"2015-08-17\", \"2015-08-18\", \"2015-08-19\", \"2015-08-20\", \"2015-08-21\", \"2015-08-24\", \"2015-08-25\", \"2015-08-26\", \"2015-08-27\", \"2015-08-28\", \"2015-08-31\", \"2015-09-01\", \"2015-09-02\", \"2015-09-03\", \"2015-09-04\", \"2015-09-07\", \"2015-09-08\", \"2015-09-09\", \"2015-09-10\", \"2015-09-11\", \"2015-09-14\", \"2015-09-15\", \"2015-09-16\", \"2015-09-18\", \"2015-09-21\", \"2015-09-22\", \"2015-09-23\", \"2015-09-24\", \"2015-09-28\", \"2015-09-29\", \"2015-09-30\", \"2015-10-01\", \"2015-10-05\", \"2015-10-06\", \"2015-10-07\", \"2015-10-08\", \"2015-10-09\", \"2015-10-12\", \"2015-10-13\", \"2015-10-14\", \"2015-10-15\", \"2015-10-16\", \"2015-10-19\", \"2015-10-20\", \"2015-10-21\", \"2015-10-23\", \"2015-10-26\", \"2015-10-27\", \"2015-10-28\", \"2015-10-29\", \"2015-10-30\", \"2015-11-02\", \"2015-11-03\", \"2015-11-04\", \"2015-11-05\", \"2015-11-06\", \"2015-11-09\", \"2015-11-10\", \"2015-11-11\", \"2015-11-13\", \"2015-11-16\", \"2015-11-17\", \"2015-11-18\", \"2015-11-19\", \"2015-11-20\", \"2015-11-23\", \"2015-11-24\", \"2015-11-26\", \"2015-11-27\", \"2015-11-30\", \"2015-12-01\", \"2015-12-02\", \"2015-12-03\", \"2015-12-04\", \"2015-12-07\", \"2015-12-08\", \"2015-12-09\", \"2015-12-10\", \"2015-12-11\", \"2015-12-14\", \"2015-12-15\", \"2015-12-16\", \"2015-12-17\", \"2015-12-18\", \"2015-12-21\", \"2015-12-22\", \"2015-12-23\", \"2015-12-24\", \"2015-12-28\", \"2015-12-29\", \"2015-12-30\", \"2015-12-31\", \"2016-01-04\", \"2016-01-05\", \"2016-01-06\", \"2016-01-07\", \"2016-01-08\", \"2016-01-11\", \"2016-01-12\", \"2016-01-13\", \"2016-01-14\", \"2016-01-15\", \"2016-01-18\", \"2016-01-19\", \"2016-01-20\", \"2016-01-21\", \"2016-01-22\", \"2016-01-25\", \"2016-01-27\", \"2016-01-28\", \"2016-01-29\", \"2016-02-01\", \"2016-02-02\", \"2016-02-03\", \"2016-02-04\", \"2016-02-05\", \"2016-02-08\", \"2016-02-09\", \"2016-02-10\", \"2016-02-11\", \"2016-02-12\", \"2016-02-15\", \"2016-02-16\", \"2016-02-17\", \"2016-02-18\", \"2016-02-19\", \"2016-02-22\", \"2016-02-23\", \"2016-02-24\", \"2016-02-25\", \"2016-02-26\", \"2016-02-29\", \"2016-03-01\", \"2016-03-02\", \"2016-03-03\", \"2016-03-04\", \"2016-03-08\", \"2016-03-09\", \"2016-03-10\", \"2016-03-11\", \"2016-03-14\", \"2016-03-15\", \"2016-03-16\", \"2016-03-17\", \"2016-03-18\", \"2016-03-21\", \"2016-03-22\", \"2016-03-23\", \"2016-03-28\", \"2016-03-29\", \"2016-03-30\", \"2016-03-31\", \"2016-04-01\", \"2016-04-04\", \"2016-04-05\", \"2016-04-06\", \"2016-04-07\", \"2016-04-08\", \"2016-04-11\", \"2016-04-12\", \"2016-04-13\", \"2016-04-18\", \"2016-04-20\", \"2016-04-21\", \"2016-04-22\", \"2016-04-25\", \"2016-04-26\", \"2016-04-27\", \"2016-04-28\", \"2016-04-29\", \"2016-05-02\", \"2016-05-03\", \"2016-05-04\", \"2016-05-05\", \"2016-05-06\", \"2016-05-09\", \"2016-05-10\", \"2016-05-11\", \"2016-05-12\", \"2016-05-13\", \"2016-05-16\", \"2016-05-17\", \"2016-05-18\", \"2016-05-19\", \"2016-05-20\", \"2016-05-23\", \"2016-05-24\", \"2016-05-25\", \"2016-05-26\", \"2016-05-27\", \"2016-05-30\", \"2016-05-31\", \"2016-06-01\", \"2016-06-02\", \"2016-06-03\", \"2016-06-06\", \"2016-06-07\", \"2016-06-08\", \"2016-06-09\", \"2016-06-10\", \"2016-06-13\", \"2016-06-14\", \"2016-06-15\", \"2016-06-16\", \"2016-06-17\", \"2016-06-20\", \"2016-06-21\", \"2016-06-22\", \"2016-06-23\", \"2016-06-24\", \"2016-06-27\", \"2016-06-28\", \"2016-06-29\", \"2016-06-30\", \"2016-07-01\", \"2016-07-04\", \"2016-07-05\", \"2016-07-07\", \"2016-07-08\", \"2016-07-11\", \"2016-07-12\", \"2016-07-13\", \"2016-07-14\", \"2016-07-15\", \"2016-07-18\", \"2016-07-19\", \"2016-07-20\", \"2016-07-21\", \"2016-07-22\", \"2016-07-25\", \"2016-07-26\", \"2016-07-27\", \"2016-07-28\", \"2016-07-29\", \"2016-08-01\", \"2016-08-02\", \"2016-08-03\", \"2016-08-04\", \"2016-08-05\", \"2016-08-08\", \"2016-08-09\", \"2016-08-10\", \"2016-08-11\", \"2016-08-12\", \"2016-08-16\", \"2016-08-17\", \"2016-08-18\", \"2016-08-19\", \"2016-08-22\", \"2016-08-23\", \"2016-08-24\", \"2016-08-25\", \"2016-08-26\", \"2016-08-29\", \"2016-08-30\", \"2016-08-31\", \"2016-09-01\", \"2016-09-02\", \"2016-09-06\", \"2016-09-07\", \"2016-09-08\", \"2016-09-09\", \"2016-09-12\", \"2016-09-14\", \"2016-09-15\", \"2016-09-16\", \"2016-09-19\", \"2016-09-20\", \"2016-09-21\", \"2016-09-22\", \"2016-09-23\", \"2016-09-26\", \"2016-09-27\", \"2016-09-28\", \"2016-09-29\", \"2016-09-30\", \"2016-10-03\", \"2016-10-04\", \"2016-10-05\", \"2016-10-06\", \"2016-10-07\", \"2016-10-10\", \"2016-10-13\", \"2016-10-14\", \"2016-10-17\", \"2016-10-18\", \"2016-10-19\", \"2016-10-20\", \"2016-10-21\", \"2016-10-24\", \"2016-10-25\", \"2016-10-26\", \"2016-10-27\", \"2016-10-28\", \"2016-10-30\", \"2016-11-01\", \"2016-11-02\", \"2016-11-03\", \"2016-11-04\", \"2016-11-07\", \"2016-11-08\", \"2016-11-09\", \"2016-11-10\", \"2016-11-11\", \"2016-11-15\", \"2016-11-16\", \"2016-11-17\", \"2016-11-18\", \"2016-11-21\", \"2016-11-22\", \"2016-11-23\", \"2016-11-24\", \"2016-11-25\", \"2016-11-28\", \"2016-11-29\", \"2016-11-30\", \"2016-12-01\", \"2016-12-02\", \"2016-12-05\", \"2016-12-06\", \"2016-12-07\", \"2016-12-08\", \"2016-12-09\", \"2016-12-12\", \"2016-12-13\", \"2016-12-14\", \"2016-12-15\", \"2016-12-16\", \"2016-12-19\", \"2016-12-20\", \"2016-12-21\", \"2016-12-22\", \"2016-12-23\", \"2016-12-26\", \"2016-12-27\", \"2016-12-28\", \"2016-12-29\", \"2016-12-30\", \"2017-01-02\", \"2017-01-03\", \"2017-01-04\", \"2017-01-05\", \"2017-01-06\", \"2017-01-09\", \"2017-01-10\", \"2017-01-11\", \"2017-01-12\", \"2017-01-13\", \"2017-01-16\", \"2017-01-17\", \"2017-01-18\", \"2017-01-19\", \"2017-01-20\", \"2017-01-23\", \"2017-01-24\", \"2017-01-25\", \"2017-01-27\", \"2017-01-30\", \"2017-01-31\", \"2017-02-01\", \"2017-02-02\", \"2017-02-03\", \"2017-02-06\", \"2017-02-07\", \"2017-02-08\", \"2017-02-09\", \"2017-02-10\", \"2017-02-13\", \"2017-02-14\", \"2017-02-15\", \"2017-02-16\", \"2017-02-17\", \"2017-02-20\", \"2017-02-21\", \"2017-02-22\", \"2017-02-23\", \"2017-02-27\", \"2017-02-28\", \"2017-03-01\", \"2017-03-02\", \"2017-03-03\", \"2017-03-06\", \"2017-03-07\", \"2017-03-08\", \"2017-03-09\", \"2017-03-10\", \"2017-03-14\", \"2017-03-15\", \"2017-03-16\", \"2017-03-17\", \"2017-03-20\", \"2017-03-21\", \"2017-03-22\", \"2017-03-23\", \"2017-03-24\", \"2017-03-27\", \"2017-03-28\", \"2017-03-29\", \"2017-03-30\", \"2017-03-31\", \"2017-04-03\", \"2017-04-05\", \"2017-04-06\", \"2017-04-07\", \"2017-04-10\", \"2017-04-11\", \"2017-04-12\", \"2017-04-13\", \"2017-04-17\", \"2017-04-18\", \"2017-04-19\", \"2017-04-20\", \"2017-04-21\", \"2017-04-24\", \"2017-04-25\", \"2017-04-26\", \"2017-04-27\", \"2017-04-28\", \"2017-05-02\", \"2017-05-03\", \"2017-05-04\", \"2017-05-05\", \"2017-05-08\", \"2017-05-09\", \"2017-05-10\", \"2017-05-11\", \"2017-05-12\", \"2017-05-15\", \"2017-05-16\", \"2017-05-17\", \"2017-05-18\", \"2017-05-19\", \"2017-05-22\", \"2017-05-23\", \"2017-05-24\", \"2017-05-25\", \"2017-05-26\", \"2017-05-29\", \"2017-05-30\", \"2017-05-31\", \"2017-06-01\", \"2017-06-02\", \"2017-06-05\", \"2017-06-06\", \"2017-06-07\", \"2017-06-08\", \"2017-06-09\", \"2017-06-12\", \"2017-06-13\", \"2017-06-14\", \"2017-06-15\", \"2017-06-16\", \"2017-06-19\", \"2017-06-20\", \"2017-06-21\", \"2017-06-22\", \"2017-06-23\", \"2017-06-27\", \"2017-06-28\", \"2017-06-29\", \"2017-06-30\", \"2017-07-03\", \"2017-07-04\", \"2017-07-05\", \"2017-07-06\", \"2017-07-07\", \"2017-07-10\", \"2017-07-11\", \"2017-07-12\", \"2017-07-13\", \"2017-07-14\", \"2017-07-17\", \"2017-07-18\", \"2017-07-19\", \"2017-07-20\", \"2017-07-21\", \"2017-07-24\", \"2017-07-25\", \"2017-07-26\", \"2017-07-27\", \"2017-07-28\", \"2017-07-31\", \"2017-08-01\", \"2017-08-02\", \"2017-08-03\", \"2017-08-04\", \"2017-08-07\", \"2017-08-08\", \"2017-08-09\", \"2017-08-10\", \"2017-08-11\", \"2017-08-14\", \"2017-08-16\", \"2017-08-17\", \"2017-08-18\", \"2017-08-21\", \"2017-08-22\", \"2017-08-23\", \"2017-08-24\", \"2017-08-28\", \"2017-08-29\", \"2017-08-30\", \"2017-08-31\", \"2017-09-01\", \"2017-09-04\", \"2017-09-05\", \"2017-09-06\", \"2017-09-07\", \"2017-09-08\", \"2017-09-11\", \"2017-09-12\", \"2017-09-13\", \"2017-09-14\", \"2017-09-15\", \"2017-09-18\", \"2017-09-19\", \"2017-09-20\", \"2017-09-21\", \"2017-09-22\", \"2017-09-25\", \"2017-09-26\", \"2017-09-27\", \"2017-09-28\", \"2017-09-29\", \"2017-10-03\", \"2017-10-04\", \"2017-10-05\", \"2017-10-06\", \"2017-10-09\", \"2017-10-10\", \"2017-10-11\", \"2017-10-12\", \"2017-10-13\", \"2017-10-16\", \"2017-10-17\", \"2017-10-18\", \"2017-10-19\", \"2017-10-23\", \"2017-10-24\", \"2017-10-25\", \"2017-10-26\", \"2017-10-27\", \"2017-10-30\", \"2017-10-31\", \"2017-11-01\", \"2017-11-02\", \"2017-11-03\", \"2017-11-06\", \"2017-11-07\", \"2017-11-08\", \"2017-11-09\", \"2017-11-10\", \"2017-11-13\", \"2017-11-14\", \"2017-11-15\", \"2017-11-16\", \"2017-11-17\", \"2017-11-20\", \"2017-11-21\", \"2017-11-22\", \"2017-11-23\", \"2017-11-24\", \"2017-11-27\", \"2017-11-28\", \"2017-11-29\", \"2017-11-30\", \"2017-12-01\", \"2017-12-04\", \"2017-12-05\", \"2017-12-06\", \"2017-12-07\", \"2017-12-08\", \"2017-12-11\", \"2017-12-12\", \"2017-12-13\", \"2017-12-14\", \"2017-12-15\", \"2017-12-18\", \"2017-12-19\", \"2017-12-20\", \"2017-12-21\", \"2017-12-22\", \"2017-12-26\", \"2017-12-27\", \"2017-12-28\", \"2017-12-29\", \"2018-01-01\", \"2018-01-02\", \"2018-01-03\", \"2018-01-04\", \"2018-01-05\", \"2018-01-08\", \"2018-01-09\", \"2018-01-10\", \"2018-01-11\", \"2018-01-12\", \"2018-01-15\", \"2018-01-16\", \"2018-01-17\", \"2018-01-18\", \"2018-01-19\", \"2018-01-22\", \"2018-01-23\", \"2018-01-24\", \"2018-01-25\", \"2018-01-29\", \"2018-01-30\", \"2018-01-31\", \"2018-02-01\", \"2018-02-02\", \"2018-02-05\", \"2018-02-06\", \"2018-02-07\", \"2018-02-08\", \"2018-02-09\", \"2018-02-12\", \"2018-02-14\", \"2018-02-15\", \"2018-02-16\", \"2018-02-19\", \"2018-02-20\", \"2018-02-21\", \"2018-02-22\", \"2018-02-23\", \"2018-02-26\", \"2018-02-27\", \"2018-02-28\", \"2018-03-01\", \"2018-03-05\", \"2018-03-06\", \"2018-03-07\", \"2018-03-08\", \"2018-03-09\", \"2018-03-12\", \"2018-03-13\", \"2018-03-14\", \"2018-03-15\", \"2018-03-16\", \"2018-03-19\", \"2018-03-20\", \"2018-03-21\", \"2018-03-22\", \"2018-03-23\", \"2018-03-26\", \"2018-03-27\", \"2018-03-28\", \"2018-04-02\", \"2018-04-03\", \"2018-04-04\", \"2018-04-05\", \"2018-04-06\", \"2018-04-09\", \"2018-04-10\", \"2018-04-11\", \"2018-04-12\", \"2018-04-13\", \"2018-04-16\", \"2018-04-17\", \"2018-04-18\", \"2018-04-19\", \"2018-04-20\", \"2018-04-23\", \"2018-04-24\", \"2018-04-25\", \"2018-04-26\", \"2018-04-27\", \"2018-04-30\", \"2018-05-02\", \"2018-05-03\", \"2018-05-04\", \"2018-05-07\", \"2018-05-08\", \"2018-05-09\", \"2018-05-10\", \"2018-05-11\", \"2018-05-14\", \"2018-05-15\", \"2018-05-16\", \"2018-05-17\", \"2018-05-18\", \"2018-05-21\", \"2018-05-22\", \"2018-05-23\", \"2018-05-24\", \"2018-05-25\", \"2018-05-28\", \"2018-05-29\", \"2018-05-30\", \"2018-05-31\", \"2018-06-01\", \"2018-06-04\", \"2018-06-05\", \"2018-06-06\", \"2018-06-07\", \"2018-06-08\", \"2018-06-11\", \"2018-06-12\", \"2018-06-13\", \"2018-06-14\", \"2018-06-15\", \"2018-06-18\", \"2018-06-19\", \"2018-06-20\", \"2018-06-21\", \"2018-06-22\", \"2018-06-25\", \"2018-06-26\", \"2018-06-27\", \"2018-06-28\", \"2018-06-29\", \"2018-07-02\", \"2018-07-03\", \"2018-07-04\", \"2018-07-05\", \"2018-07-06\", \"2018-07-09\", \"2018-07-10\", \"2018-07-11\", \"2018-07-12\", \"2018-07-13\", \"2018-07-16\", \"2018-07-17\", \"2018-07-18\", \"2018-07-19\", \"2018-07-20\", \"2018-07-23\", \"2018-07-24\", \"2018-07-25\", \"2018-07-26\", \"2018-07-27\", \"2018-07-30\", \"2018-07-31\", \"2018-08-01\", \"2018-08-02\", \"2018-08-03\", \"2018-08-06\", \"2018-08-07\", \"2018-08-08\", \"2018-08-09\", \"2018-08-10\", \"2018-08-13\", \"2018-08-14\", \"2018-08-16\", \"2018-08-17\", \"2018-08-20\", \"2018-08-21\", \"2018-08-23\", \"2018-08-24\", \"2018-08-27\", \"2018-08-28\", \"2018-08-29\", \"2018-08-30\", \"2018-08-31\", \"2018-09-03\", \"2018-09-04\", \"2018-09-05\", \"2018-09-06\", \"2018-09-07\", \"2018-09-10\", \"2018-09-11\", \"2018-09-12\", \"2018-09-14\", \"2018-09-17\", \"2018-09-18\", \"2018-09-19\", \"2018-09-21\", \"2018-09-24\", \"2018-09-25\", \"2018-09-26\", \"2018-09-27\", \"2018-09-28\", \"2018-10-01\", \"2018-10-03\", \"2018-10-04\", \"2018-10-05\", \"2018-10-08\", \"2018-10-09\", \"2018-10-10\", \"2018-10-11\", \"2018-10-12\", \"2018-10-15\", \"2018-10-16\", \"2018-10-17\", \"2018-10-19\", \"2018-10-22\", \"2018-10-23\", \"2018-10-24\", \"2018-10-25\", \"2018-10-26\", \"2018-10-29\", \"2018-10-30\", \"2018-10-31\", \"2018-11-01\", \"2018-11-02\", \"2018-11-05\", \"2018-11-06\", \"2018-11-07\", \"2018-11-09\", \"2018-11-12\", \"2018-11-13\", \"2018-11-14\", \"2018-11-15\", \"2018-11-16\", \"2018-11-19\", \"2018-11-20\", \"2018-11-21\", \"2018-11-22\", \"2018-11-26\", \"2018-11-27\", \"2018-11-28\", \"2018-11-29\", \"2018-11-30\", \"2018-12-03\", \"2018-12-04\", \"2018-12-05\", \"2018-12-06\", \"2018-12-07\", \"2018-12-10\", \"2018-12-11\", \"2018-12-12\", \"2018-12-13\", \"2018-12-14\", \"2018-12-17\", \"2018-12-18\", \"2018-12-19\", \"2018-12-20\", \"2018-12-21\", \"2018-12-24\", \"2018-12-26\", \"2018-12-27\", \"2018-12-28\", \"2018-12-31\", \"2019-01-01\", \"2019-01-02\", \"2019-01-03\", \"2019-01-04\", \"2019-01-07\", \"2019-01-08\", \"2019-01-09\", \"2019-01-10\", \"2019-01-11\", \"2019-01-14\", \"2019-01-15\", \"2019-01-16\", \"2019-01-17\", \"2019-01-18\", \"2019-01-21\", \"2019-01-22\", \"2019-01-23\", \"2019-01-24\", \"2019-01-25\", \"2019-01-28\", \"2019-01-29\", \"2019-01-30\", \"2019-01-31\", \"2019-02-01\", \"2019-02-04\", \"2019-02-05\", \"2019-02-06\", \"2019-02-07\", \"2019-02-08\", \"2019-02-11\", \"2019-02-12\", \"2019-02-13\", \"2019-02-14\", \"2019-02-15\", \"2019-02-18\", \"2019-02-19\", \"2019-02-20\", \"2019-02-21\", \"2019-02-22\", \"2019-02-25\", \"2019-02-26\", \"2019-02-27\", \"2019-02-28\", \"2019-03-01\", \"2019-03-05\", \"2019-03-06\", \"2019-03-07\", \"2019-03-08\", \"2019-03-11\", \"2019-03-12\", \"2019-03-13\", \"2019-03-14\", \"2019-03-15\", \"2019-03-18\", \"2019-03-19\", \"2019-03-20\", \"2019-03-22\", \"2019-03-25\", \"2019-03-26\", \"2019-03-27\", \"2019-03-28\", \"2019-03-29\", \"2019-04-01\", \"2019-04-02\", \"2019-04-03\", \"2019-04-04\", \"2019-04-05\", \"2019-04-08\", \"2019-04-09\", \"2019-04-10\", \"2019-04-11\", \"2019-04-12\", \"2019-04-15\", \"2019-04-16\", \"2019-04-18\", \"2019-04-22\", \"2019-04-23\", \"2019-04-24\", \"2019-04-25\", \"2019-04-26\", \"2019-04-30\", \"2019-05-02\", \"2019-05-03\", \"2019-05-06\", \"2019-05-07\", \"2019-05-08\"], \"y\": [459.9, 470.43, 471.9, 469.95, 464.95, 457.8, 452.2, 452.38, 456.98, 460.33, 462.0, 454.0, 453.43, 447.58, 438.35, 428.25, 428.2, 425.0, 430.15, 434.2, 437.73, 453.23, 454.5, 449.38, 445.88, 437.9, 434.8, 433.7, 434.05, 424.13, 429.95, 436.13, 438.23, 430.5, 431.73, 427.15, 424.5, 424.6, 417.5, 408.55, 416.45, 419.48, 418.58, 418.05, 434.7, 449.43, 454.18, 462.25, 469.78, 469.0, 472.15, 468.65, 447.7, 443.38, 444.7, 442.2, 443.75, 441.0, 435.28, 432.95, 446.95, 450.78, 448.38, 439.23, 446.7, 449.7, 447.0, 444.1, 442.83, 443.48, 447.0, 452.35, 455.5, 457.7, 452.8, 453.93, 447.93, 445.45, 447.13, 443.23, 452.45, 459.3, 455.2, 458.0, 458.45, 455.0, 445.2, 454.95, 453.93, 446.28, 452.5, 452.5, 471.03, 491.0, 503.2, 504.23, 501.35, 503.2, 504.43, 506.88, 496.88, 501.43, 505.23, 509.8, 506.75, 509.45, 508.28, 504.35, 500.5, 502.0, 506.23, 505.7, 507.0, 513.78, 515.5, 514.95, 514.13, 526.98, 533.73, 524.73, 514.85, 508.35, 506.35, 504.0, 503.95, 506.88, 502.83, 500.4, 496.0, 496.93, 494.35, 486.83, 482.98, 476.98, 486.0, 482.3, 477.5, 480.5, 478.43, 455.03, 440.0, 429.83, 437.4, 440.58, 441.5, 436.23, 426.93, 428.5, 430.33, 424.85, 422.0, 426.48, 439.25, 435.25, 438.03, 432.75, 434.95, 438.68, 449.75, 444.05, 442.43, 428.3, 424.0, 420.43, 425.13, 432.4, 435.18, 445.0, 450.25, 458.75, 457.0, 452.7, 450.7, 448.1, 452.5, 455.45, 457.4, 482.73, 483.18, 487.4, 486.4, 481.35, 474.1, 472.45, 472.5, 477.95, 480.7, 485.23, 487.48, 475.5, 477.38, 482.5, 479.58, 466.33, 469.25, 470.85, 469.45, 465.48, 469.25, 476.38, 478.95, 485.7, 495.98, 496.23, 492.08, 489.4, 489.85, 494.43, 487.98, 486.43, 476.8, 471.73, 476.85, 479.5, 481.33, 488.9, 493.75, 507.05, 504.5, 499.03, 501.25, 503.45, 503.6, 506.7, 509.35, 507.78, 509.43, 506.9, 505.0, 519.18, 514.0, 516.08, 530.13, 532.5, 544.78, 540.5, 544.75, 541.63, 524.63, 516.9, 512.75, 505.5, 509.33, 505.0, 510.9, 519.78, 520.5, 516.25, 497.0, 500.2, 491.0, 492.4, 484.4, 486.5, 482.88, 466.4, 475.68, 479.0, 478.73, 484.0, 476.38, 484.0, 483.35, 479.28, 478.23, 479.3, 497.23, 492.53, 502.8, 508.78, 507.5, 515.45, 521.9, 522.85, 514.75, 513.15, 513.6, 512.9, 518.35, 515.05, 520.75, 526.13, 522.78, 515.75, 521.0, 525.6, 528.0, 523.13, 521.05, 521.2, 518.3, 524.0, 527.0, 522.75, 528.73, 534.9, 533.35, 534.18, 526.0, 523.75, 521.58, 511.95, 512.9, 509.5, 499.18, 496.2, 497.48, 491.75, 491.73, 488.35, 493.0, 492.28, 490.38, 497.0, 495.25, 491.25, 491.55, 486.23, 485.75, 477.25, 469.93, 472.0, 476.4, 475.98, 488.45, 490.75, 486.5, 483.05, 478.58, 481.45, 481.33, 480.45, 479.0, 488.23, 492.18, 491.73, 492.7, 493.25, 491.83, 489.33, 496.3, 497.03, 492.95, 491.0, 482.05, 479.2, 480.75, 484.48, 488.7, 488.35, 496.7, 501.45, 500.25, 494.4, 497.48, 502.5, 508.33, 507.03, 510.43, 519.28, 511.4, 514.15, 512.03, 508.9, 511.88, 517.38, 513.0, 515.23, 512.38, 510.15, 510.0, 506.3, 500.0, 509.5, 517.0, 517.25, 517.28, 511.43, 521.38, 522.4, 514.35, 511.83, 510.85, 509.85, 507.5, 510.98, 514.5, 515.4, 529.85, 534.25, 537.0, 536.25, 516.1, 512.48, 513.5, 517.95, 524.95, 527.88, 529.5, 535.0, 546.93, 543.95, 542.3, 542.43, 547.75, 554.73, 564.78, 562.93, 554.0, 555.38, 547.28, 553.85, 554.15, 553.25, 563.0, 561.53, 561.0, 544.48, 541.0, 540.4, 541.38, 547.35, 549.0, 548.5, 536.98, 532.58, 529.68, 526.95, 529.0, 529.35, 527.98, 521.33, 517.38, 513.45, 508.15, 502.85, 504.35, 514.43, 508.73, 499.95, 498.4, 499.08, 496.05, 496.68, 503.88, 505.15, 502.0, 497.95, 500.3, 502.08, 499.5, 507.5, 502.5, 499.73, 503.28, 503.8, 510.88, 515.93, 520.85, 520.5, 532.08, 533.8, 530.88, 533.45, 530.5, 533.5, 531.33, 534.48, 533.0, 533.55, 534.6, 534.4, 542.5, 545.0, 548.5, 546.5, 539.95, 542.5, 543.0, 547.18, 547.85, 545.18, 548.75, 546.95, 533.6, 524.0, 522.65, 518.73, 515.25, 514.4, 516.35, 514.35, 523.23, 526.9, 525.4, 525.4, 525.23, 522.3, 521.18, 519.13, 517.0, 517.75, 517.0, 526.4, 528.75, 534.7, 539.0, 539.4, 545.45, 605.68, 610.95, 628.35, 624.0, 622.2, 627.1, 643.53, 655.85, 663.45, 653.85, 649.0, 648.0, 659.5, 658.05, 655.2, 659.95, 652.18, 641.73, 632.95, 638.75, 645.95, 639.25, 631.93, 630.0, 637.38, 668.73, 689.78, 708.98, 724.38, 716.88, 712.4, 700.18, 693.2, 686.65, 697.65, 704.98, 691.25, 693.38, 710.5, 717.5, 732.5, 720.0, 711.88, 710.15, 700.53, 690.33, 689.73, 683.5, 669.75, 666.83, 681.8, 684.88, 681.95, 678.0, 688.45, 682.85, 674.88, 667.85, 666.73, 664.93, 656.75, 656.2, 672.2, 682.73, 682.35, 683.7, 670.0, 669.33, 670.48, 666.98, 671.0, 672.35, 675.85, 664.88, 663.5, 680.0, 697.5, 697.9, 707.9, 711.0, 714.0, 721.95, 720.75, 721.35, 719.6, 704.95, 696.2, 697.35, 713.55, 723.7, 725.0, 748.7, 750.45, 752.05, 762.5, 762.5, 768.0, 779.8, 775.75, 769.0, 775.0, 795.85, 812.45, 812.35, 814.95, 815.75, 802.5, 809.38, 810.95, 817.78, 832.4, 830.48, 815.8, 810.5, 810.0, 803.33, 788.15, 792.25, 788.0, 798.78, 788.9, 792.08, 789.95, 793.25, 795.8, 790.85, 783.75, 784.35, 798.68, 808.3, 818.03, 817.0, 826.2, 832.45, 823.25, 826.6, 825.0, 859.85, 861.45, 852.85, 851.05, 848.75, 872.05, 851.7, 838.45, 827.9, 827.05, 825.2, 802.9, 793.25, 803.85, 824.9, 828.45, 839.0, 839.7, 847.25, 858.4, 876.5, 890.6, 891.9, 883.75, 917.9, 921.7, 944.65, 946.05, 945.55, 957.8, 956.5, 945.55, 945.0, 957.55, 956.4, 953.0, 941.8, 935.0, 905.7, 909.9, 900.5, 891.85, 895.0, 890.6, 906.0, 924.6, 924.35, 939.5, 938.5, 949.9, 959.0, 957.25, 951.35, 950.0, 941.0, 931.25, 913.75, 920.75, 930.3, 936.0, 936.8, 926.0, 929.0, 924.7, 924.9, 932.7, 932.55, 927.0, 927.4, 923.85, 922.4, 938.9, 937.45, 934.25, 931.7, 922.7, 919.35, 925.95, 921.8, 926.85, 931.0, 943.9, 947.0, 942.5, 952.8, 958.5, 947.7, 929.0, 929.35, 934.3, 974.05, 990.6, 981.0, 972.0, 976.85, 965.1, 964.4, 972.6, 943.85, 912.5, 896.95, 905.35, 910.65, 902.0, 918.2, 942.4, 945.65, 942.6, 932.0, 929.55, 932.5, 930.75, 938.0, 944.9, 955.65, 956.85, 959.75, 950.15, 936.2, 909.25, 914.5, 919.35, 933.1, 936.0, 932.05, 929.45, 909.65, 906.8, 904.0, 902.35, 911.9, 900.0, 904.3, 910.7, 895.85, 900.95, 901.7, 911.55, 910.0, 918.5, 919.0, 923.9, 932.6, 936.3, 941.6, 940.0, 947.2, 948.15, 945.0, 941.75, 944.0, 975.5, 981.75, 988.0, 1011.0, 992.4, 979.1, 976.95, 964.7, 973.25, 982.0, 984.3, 984.4, 991.0, 991.95, 1000.0, 972.4, 959.5, 953.5, 935.7, 934.0, 926.0, 921.0, 923.4, 927.0, 928.0, 923.2, 922.15, 935.75, 944.0, 955.0, 956.0, 976.0, 986.55, 999.3, 1000.0, 1005.9, 1011.8, 1023.5, 1020.4, 1014.7, 1022.8, 1036.0, 1029.2, 1016.5, 1005.9, 985.4, 968.5, 975.25, 971.9, 978.4, 992.0, 1008.4, 982.9, 1000.0, 1028.05, 1040.85, 1098.9, 1109.0, 1108.8, 1095.9, 1104.55, 1114.9, 1138.4, 1129.5, 1126.35, 1123.0, 1121.5, 1137.3, 1156.7, 1190.4, 1202.9, 1190.0, 1183.5, 1196.0, 1201.0, 1222.5, 1231.65, 1215.0, 1199.7, 1217.1, 1215.95, 1215.3, 1236.8, 1251.45, 1274.0, 1279.9, 1295.85, 1323.0, 1328.95, 1296.0, 1269.0, 1257.85, 1254.8, 1252.35, 1265.2, 1281.0, 1277.0, 1268.4, 1258.2, 1275.6, 1249.2, 1239.35, 1223.65, 1237.2, 1239.9, 1245.0, 1253.95, 1263.0, 1271.7, 1257.05, 1239.5, 1190.0, 1115.0, 1117.0, 1122.75, 1115.2, 1114.65, 1129.0, 1146.9, 1167.4, 1178.0, 1110.9, 1114.55, 1064.5, 1073.0, 1040.5, 1057.0, 1093.55, 1083.1, 1065.8, 1066.95, 1080.7, 1092.7, 1112.0, 1114.9, 1113.8, 1098.25, 1102.65, 1112.5, 1102.75, 1129.8, 1151.6, 1155.75, 1145.15, 1125.25, 1117.25, 1130.0, 1157.65, 1179.9, 1186.0, 1174.8, 1157.35, 1158.8, 1148.0, 1136.95, 1112.95, 1102.05, 1113.5, 1123.85, 1114.75, 1133.0, 1139.0, 1147.0, 1132.4, 1131.0, 1103.0, 1100.0, 1127.0, 1135.25, 1133.3, 1126.75, 1126.9, 1114.6, 1104.45, 1118.4, 1109.95, 1117.0, 1110.7, 1113.75, 1100.4, 1132.0, 1145.0, 1147.9, 1189.45, 1239.9, 1246.9, 1244.15, 1253.2, 1264.7, 1255.5, 1231.0, 1225.0, 1229.6, 1255.0, 1296.95, 1304.25, 1317.6, 1321.2, 1300.15, 1275.9, 1272.25, 1273.95, 1241.0, 1249.9, 1251.55, 1239.7, 1240.0, 1257.75, 1245.0, 1243.0, 1234.5, 1244.9, 1239.85, 1242.35, 1239.8, 1273.0, 1279.8, 1274.45, 1312.0, 1334.0, 1358.0, 1362.0, 1358.75, 1357.95, 1380.0, 1387.95, 1380.8, 1336.75, 1371.05, 1377.95, 1369.8, 1376.5, 1406.75, 1403.0, 1403.0, 1383.7, 1363.8, 1357.0, 1340.7, 1348.0, 1353.0, 1356.8, 1348.95, 1360.0, 1389.75, 1366.7, 1373.0, 1394.8, 1412.35, 1395.9, 1396.4, 1413.9, 1417.5, 1402.7, 1394.8, 1340.0]}],                        {\"template\": {\"data\": {\"bar\": [{\"error_x\": {\"color\": \"#2a3f5f\"}, \"error_y\": {\"color\": \"#2a3f5f\"}, \"marker\": {\"line\": {\"color\": \"#E5ECF6\", \"width\": 0.5}}, \"type\": \"bar\"}], \"barpolar\": [{\"marker\": {\"line\": {\"color\": \"#E5ECF6\", \"width\": 0.5}}, \"type\": \"barpolar\"}], \"carpet\": [{\"aaxis\": {\"endlinecolor\": \"#2a3f5f\", \"gridcolor\": \"white\", \"linecolor\": \"white\", \"minorgridcolor\": \"white\", \"startlinecolor\": \"#2a3f5f\"}, \"baxis\": {\"endlinecolor\": \"#2a3f5f\", \"gridcolor\": \"white\", \"linecolor\": \"white\", \"minorgridcolor\": \"white\", \"startlinecolor\": \"#2a3f5f\"}, \"type\": \"carpet\"}], \"choropleth\": [{\"colorbar\": {\"outlinewidth\": 0, \"ticks\": \"\"}, \"type\": \"choropleth\"}], \"contour\": [{\"colorbar\": {\"outlinewidth\": 0, \"ticks\": \"\"}, \"colorscale\": [[0.0, \"#0d0887\"], [0.1111111111111111, \"#46039f\"], [0.2222222222222222, \"#7201a8\"], [0.3333333333333333, \"#9c179e\"], [0.4444444444444444, \"#bd3786\"], [0.5555555555555556, \"#d8576b\"], [0.6666666666666666, \"#ed7953\"], [0.7777777777777778, \"#fb9f3a\"], [0.8888888888888888, \"#fdca26\"], [1.0, \"#f0f921\"]], \"type\": \"contour\"}], \"contourcarpet\": [{\"colorbar\": {\"outlinewidth\": 0, \"ticks\": \"\"}, \"type\": \"contourcarpet\"}], \"heatmap\": [{\"colorbar\": {\"outlinewidth\": 0, \"ticks\": \"\"}, \"colorscale\": [[0.0, \"#0d0887\"], [0.1111111111111111, \"#46039f\"], [0.2222222222222222, \"#7201a8\"], [0.3333333333333333, \"#9c179e\"], [0.4444444444444444, \"#bd3786\"], [0.5555555555555556, \"#d8576b\"], [0.6666666666666666, \"#ed7953\"], [0.7777777777777778, \"#fb9f3a\"], [0.8888888888888888, \"#fdca26\"], [1.0, \"#f0f921\"]], \"type\": \"heatmap\"}], \"heatmapgl\": [{\"colorbar\": {\"outlinewidth\": 0, \"ticks\": \"\"}, \"colorscale\": [[0.0, \"#0d0887\"], [0.1111111111111111, \"#46039f\"], [0.2222222222222222, \"#7201a8\"], [0.3333333333333333, \"#9c179e\"], [0.4444444444444444, \"#bd3786\"], [0.5555555555555556, \"#d8576b\"], [0.6666666666666666, \"#ed7953\"], [0.7777777777777778, \"#fb9f3a\"], [0.8888888888888888, \"#fdca26\"], [1.0, \"#f0f921\"]], \"type\": \"heatmapgl\"}], \"histogram\": [{\"marker\": {\"colorbar\": {\"outlinewidth\": 0, \"ticks\": \"\"}}, \"type\": \"histogram\"}], \"histogram2d\": [{\"colorbar\": {\"outlinewidth\": 0, \"ticks\": \"\"}, \"colorscale\": [[0.0, \"#0d0887\"], [0.1111111111111111, \"#46039f\"], [0.2222222222222222, \"#7201a8\"], [0.3333333333333333, \"#9c179e\"], [0.4444444444444444, \"#bd3786\"], [0.5555555555555556, \"#d8576b\"], [0.6666666666666666, \"#ed7953\"], [0.7777777777777778, \"#fb9f3a\"], [0.8888888888888888, \"#fdca26\"], [1.0, \"#f0f921\"]], \"type\": \"histogram2d\"}], \"histogram2dcontour\": [{\"colorbar\": {\"outlinewidth\": 0, \"ticks\": \"\"}, \"colorscale\": [[0.0, \"#0d0887\"], [0.1111111111111111, \"#46039f\"], [0.2222222222222222, \"#7201a8\"], [0.3333333333333333, \"#9c179e\"], [0.4444444444444444, \"#bd3786\"], [0.5555555555555556, \"#d8576b\"], [0.6666666666666666, \"#ed7953\"], [0.7777777777777778, \"#fb9f3a\"], [0.8888888888888888, \"#fdca26\"], [1.0, \"#f0f921\"]], \"type\": \"histogram2dcontour\"}], \"mesh3d\": [{\"colorbar\": {\"outlinewidth\": 0, \"ticks\": \"\"}, \"type\": \"mesh3d\"}], \"parcoords\": [{\"line\": {\"colorbar\": {\"outlinewidth\": 0, \"ticks\": \"\"}}, \"type\": \"parcoords\"}], \"pie\": [{\"automargin\": true, \"type\": \"pie\"}], \"scatter\": [{\"marker\": {\"colorbar\": {\"outlinewidth\": 0, \"ticks\": \"\"}}, \"type\": \"scatter\"}], \"scatter3d\": [{\"line\": {\"colorbar\": {\"outlinewidth\": 0, \"ticks\": \"\"}}, \"marker\": {\"colorbar\": {\"outlinewidth\": 0, \"ticks\": \"\"}}, \"type\": \"scatter3d\"}], \"scattercarpet\": [{\"marker\": {\"colorbar\": {\"outlinewidth\": 0, \"ticks\": \"\"}}, \"type\": \"scattercarpet\"}], \"scattergeo\": [{\"marker\": {\"colorbar\": {\"outlinewidth\": 0, \"ticks\": \"\"}}, \"type\": \"scattergeo\"}], \"scattergl\": [{\"marker\": {\"colorbar\": {\"outlinewidth\": 0, \"ticks\": \"\"}}, \"type\": \"scattergl\"}], \"scattermapbox\": [{\"marker\": {\"colorbar\": {\"outlinewidth\": 0, \"ticks\": \"\"}}, \"type\": \"scattermapbox\"}], \"scatterpolar\": [{\"marker\": {\"colorbar\": {\"outlinewidth\": 0, \"ticks\": \"\"}}, \"type\": \"scatterpolar\"}], \"scatterpolargl\": [{\"marker\": {\"colorbar\": {\"outlinewidth\": 0, \"ticks\": \"\"}}, \"type\": \"scatterpolargl\"}], \"scatterternary\": [{\"marker\": {\"colorbar\": {\"outlinewidth\": 0, \"ticks\": \"\"}}, \"type\": \"scatterternary\"}], \"surface\": [{\"colorbar\": {\"outlinewidth\": 0, \"ticks\": \"\"}, \"colorscale\": [[0.0, \"#0d0887\"], [0.1111111111111111, \"#46039f\"], [0.2222222222222222, \"#7201a8\"], [0.3333333333333333, \"#9c179e\"], [0.4444444444444444, \"#bd3786\"], [0.5555555555555556, \"#d8576b\"], [0.6666666666666666, \"#ed7953\"], [0.7777777777777778, \"#fb9f3a\"], [0.8888888888888888, \"#fdca26\"], [1.0, \"#f0f921\"]], \"type\": \"surface\"}], \"table\": [{\"cells\": {\"fill\": {\"color\": \"#EBF0F8\"}, \"line\": {\"color\": \"white\"}}, \"header\": {\"fill\": {\"color\": \"#C8D4E3\"}, \"line\": {\"color\": \"white\"}}, \"type\": \"table\"}]}, \"layout\": {\"annotationdefaults\": {\"arrowcolor\": \"#2a3f5f\", \"arrowhead\": 0, \"arrowwidth\": 1}, \"autotypenumbers\": \"strict\", \"coloraxis\": {\"colorbar\": {\"outlinewidth\": 0, \"ticks\": \"\"}}, \"colorscale\": {\"diverging\": [[0, \"#8e0152\"], [0.1, \"#c51b7d\"], [0.2, \"#de77ae\"], [0.3, \"#f1b6da\"], [0.4, \"#fde0ef\"], [0.5, \"#f7f7f7\"], [0.6, \"#e6f5d0\"], [0.7, \"#b8e186\"], [0.8, \"#7fbc41\"], [0.9, \"#4d9221\"], [1, \"#276419\"]], \"sequential\": [[0.0, \"#0d0887\"], [0.1111111111111111, \"#46039f\"], [0.2222222222222222, \"#7201a8\"], [0.3333333333333333, \"#9c179e\"], [0.4444444444444444, \"#bd3786\"], [0.5555555555555556, \"#d8576b\"], [0.6666666666666666, \"#ed7953\"], [0.7777777777777778, \"#fb9f3a\"], [0.8888888888888888, \"#fdca26\"], [1.0, \"#f0f921\"]], \"sequentialminus\": [[0.0, \"#0d0887\"], [0.1111111111111111, \"#46039f\"], [0.2222222222222222, \"#7201a8\"], [0.3333333333333333, \"#9c179e\"], [0.4444444444444444, \"#bd3786\"], [0.5555555555555556, \"#d8576b\"], [0.6666666666666666, \"#ed7953\"], [0.7777777777777778, \"#fb9f3a\"], [0.8888888888888888, \"#fdca26\"], [1.0, \"#f0f921\"]]}, \"colorway\": [\"#636efa\", \"#EF553B\", \"#00cc96\", \"#ab63fa\", \"#FFA15A\", \"#19d3f3\", \"#FF6692\", \"#B6E880\", \"#FF97FF\", \"#FECB52\"], \"font\": {\"color\": \"#2a3f5f\"}, \"geo\": {\"bgcolor\": \"white\", \"lakecolor\": \"white\", \"landcolor\": \"#E5ECF6\", \"showlakes\": true, \"showland\": true, \"subunitcolor\": \"white\"}, \"hoverlabel\": {\"align\": \"left\"}, \"hovermode\": \"closest\", \"mapbox\": {\"style\": \"light\"}, \"paper_bgcolor\": \"white\", \"plot_bgcolor\": \"#E5ECF6\", \"polar\": {\"angularaxis\": {\"gridcolor\": \"white\", \"linecolor\": \"white\", \"ticks\": \"\"}, \"bgcolor\": \"#E5ECF6\", \"radialaxis\": {\"gridcolor\": \"white\", \"linecolor\": \"white\", \"ticks\": \"\"}}, \"scene\": {\"xaxis\": {\"backgroundcolor\": \"#E5ECF6\", \"gridcolor\": \"white\", \"gridwidth\": 2, \"linecolor\": \"white\", \"showbackground\": true, \"ticks\": \"\", \"zerolinecolor\": \"white\"}, \"yaxis\": {\"backgroundcolor\": \"#E5ECF6\", \"gridcolor\": \"white\", \"gridwidth\": 2, \"linecolor\": \"white\", \"showbackground\": true, \"ticks\": \"\", \"zerolinecolor\": \"white\"}, \"zaxis\": {\"backgroundcolor\": \"#E5ECF6\", \"gridcolor\": \"white\", \"gridwidth\": 2, \"linecolor\": \"white\", \"showbackground\": true, \"ticks\": \"\", \"zerolinecolor\": \"white\"}}, \"shapedefaults\": {\"line\": {\"color\": \"#2a3f5f\"}}, \"ternary\": {\"aaxis\": {\"gridcolor\": \"white\", \"linecolor\": \"white\", \"ticks\": \"\"}, \"baxis\": {\"gridcolor\": \"white\", \"linecolor\": \"white\", \"ticks\": \"\"}, \"bgcolor\": \"#E5ECF6\", \"caxis\": {\"gridcolor\": \"white\", \"linecolor\": \"white\", \"ticks\": \"\"}}, \"title\": {\"x\": 0.05}, \"xaxis\": {\"automargin\": true, \"gridcolor\": \"white\", \"linecolor\": \"white\", \"ticks\": \"\", \"title\": {\"standoff\": 15}, \"zerolinecolor\": \"white\", \"zerolinewidth\": 2}, \"yaxis\": {\"automargin\": true, \"gridcolor\": \"white\", \"linecolor\": \"white\", \"ticks\": \"\", \"title\": {\"standoff\": 15}, \"zerolinecolor\": \"white\", \"zerolinewidth\": 2}}}, \"title\": {\"text\": \"Reliance Daily Stock Prices(2015-2019)\"}},                        {\"responsive\": true}                    ).then(function(){\n",
       "                            \n",
       "var gd = document.getElementById('0825a98a-1bc4-48a9-813c-590ed89efecf');\n",
       "var x = new MutationObserver(function (mutations, observer) {{\n",
       "        var display = window.getComputedStyle(gd).display;\n",
       "        if (!display || display === 'none') {{\n",
       "            console.log([gd, 'removed!']);\n",
       "            Plotly.purge(gd);\n",
       "            observer.disconnect();\n",
       "        }}\n",
       "}});\n",
       "\n",
       "// Listen for the removal of the full notebook cells\n",
       "var notebookContainer = gd.closest('#notebook-container');\n",
       "if (notebookContainer) {{\n",
       "    x.observe(notebookContainer, {childList: true});\n",
       "}}\n",
       "\n",
       "// Listen for the clearing of the current output cell\n",
       "var outputEl = gd.closest('.output');\n",
       "if (outputEl) {{\n",
       "    x.observe(outputEl, {childList: true});\n",
       "}}\n",
       "\n",
       "                        })                };                });            </script>        </div>"
      ]
     },
     "metadata": {},
     "output_type": "display_data"
    }
   ],
   "source": [
    "fig = go.Figure()\n",
    "\n",
    "fig.add_trace(go.Scatter(x=temp1.index, y=temp1['low'],\n",
    "                        mode='lines',\n",
    "                        name='Low',\n",
    "                        ))\n",
    "\n",
    "fig.add_trace(go.Scatter(x=temp1.index, y=temp1['high'],\n",
    "                        mode='lines',\n",
    "                        name='High',\n",
    "                        fill='tonexty'))\n",
    "\n",
    "\n",
    "\n",
    "fig.update_layout(title=\"Reliance Daily Stock Prices(2015-2019)\")\n",
    "\n",
    "fig.show()"
   ]
  },
  {
   "cell_type": "code",
   "execution_count": 17,
   "id": "representative-provision",
   "metadata": {
    "execution": {
     "iopub.execute_input": "2021-05-31T18:42:50.330730Z",
     "iopub.status.busy": "2021-05-31T18:42:50.320146Z",
     "iopub.status.idle": "2021-05-31T18:42:50.399012Z",
     "shell.execute_reply": "2021-05-31T18:42:50.399489Z",
     "shell.execute_reply.started": "2021-05-31T17:08:49.815953Z"
    },
    "papermill": {
     "duration": 0.152024,
     "end_time": "2021-05-31T18:42:50.399691",
     "exception": false,
     "start_time": "2021-05-31T18:42:50.247667",
     "status": "completed"
    },
    "tags": []
   },
   "outputs": [],
   "source": [
    "temp1.reset_index(inplace=True)\n",
    "temp1['date'] = temp1['date'].apply(pd.to_datetime)"
   ]
  },
  {
   "cell_type": "markdown",
   "id": "backed-skill",
   "metadata": {
    "papermill": {
     "duration": 0.041416,
     "end_time": "2021-05-31T18:42:50.482164",
     "exception": false,
     "start_time": "2021-05-31T18:42:50.440748",
     "status": "completed"
    },
    "tags": []
   },
   "source": [
    "<div class=\"alert alert-info\">\n",
    "    <strong>📌 Add missing dates</strong>\n",
    "    <p>Add missing dates in the data for each year for the sake of plotting for each year with uniformity. Also, fill the missing values with vlaue from the previous day.</p>\n",
    "</div>"
   ]
  },
  {
   "cell_type": "code",
   "execution_count": 18,
   "id": "expanded-platinum",
   "metadata": {
    "execution": {
     "iopub.execute_input": "2021-05-31T18:42:50.571725Z",
     "iopub.status.busy": "2021-05-31T18:42:50.571009Z",
     "iopub.status.idle": "2021-05-31T18:42:50.574266Z",
     "shell.execute_reply": "2021-05-31T18:42:50.574704Z",
     "shell.execute_reply.started": "2021-05-31T17:08:49.925910Z"
    },
    "papermill": {
     "duration": 0.051899,
     "end_time": "2021-05-31T18:42:50.574893",
     "exception": false,
     "start_time": "2021-05-31T18:42:50.522994",
     "status": "completed"
    },
    "tags": []
   },
   "outputs": [],
   "source": [
    "def add_missing_data(year):\n",
    "    \n",
    "    df = temp1.copy()\n",
    "    df = df[df['date'].dt.year == year]\n",
    "#     df['day_of_year'] = df['date'].dt.strftime('%j')\n",
    "    \n",
    "    dates = pd.date_range(start=f'{year}-01-01', end=f'{year}-12-31').to_frame()\n",
    "    dates = dates[~dates.index.isin(df['date'])]\n",
    "    dates = dates.reset_index()\n",
    "    \n",
    "    df = pd.merge(df, dates, left_on='date', right_on=0, how='outer').sort_values(by=['date'])\n",
    "    df = df.reset_index()\n",
    "    df = df.drop([0, 'level_0', 'index'], axis=1)\n",
    "    df.index += 1    \n",
    "    \n",
    "    return df"
   ]
  },
  {
   "cell_type": "code",
   "execution_count": 19,
   "id": "compatible-twelve",
   "metadata": {
    "_kg_hide-input": true,
    "execution": {
     "iopub.execute_input": "2021-05-31T18:42:50.663199Z",
     "iopub.status.busy": "2021-05-31T18:42:50.662555Z",
     "iopub.status.idle": "2021-05-31T18:42:50.724154Z",
     "shell.execute_reply": "2021-05-31T18:42:50.723612Z",
     "shell.execute_reply.started": "2021-05-31T17:08:49.935626Z"
    },
    "papermill": {
     "duration": 0.108424,
     "end_time": "2021-05-31T18:42:50.724306",
     "exception": false,
     "start_time": "2021-05-31T18:42:50.615882",
     "status": "completed"
    },
    "tags": []
   },
   "outputs": [],
   "source": [
    "df_15 = add_missing_data(2015)\n",
    "df_16 = add_missing_data(2016)\n",
    "df_17 = add_missing_data(2017)\n",
    "df_18 = add_missing_data(2018)\n",
    "df_19 = add_missing_data(2019)"
   ]
  },
  {
   "cell_type": "code",
   "execution_count": 20,
   "id": "wireless-heather",
   "metadata": {
    "_kg_hide-input": true,
    "execution": {
     "iopub.execute_input": "2021-05-31T18:42:50.817413Z",
     "iopub.status.busy": "2021-05-31T18:42:50.816369Z",
     "iopub.status.idle": "2021-05-31T18:42:50.819379Z",
     "shell.execute_reply": "2021-05-31T18:42:50.818824Z",
     "shell.execute_reply.started": "2021-05-31T17:08:50.021549Z"
    },
    "papermill": {
     "duration": 0.053789,
     "end_time": "2021-05-31T18:42:50.819515",
     "exception": false,
     "start_time": "2021-05-31T18:42:50.765726",
     "status": "completed"
    },
    "tags": []
   },
   "outputs": [],
   "source": [
    "df_19[:128] = df_19[:128].fillna(method='ffill')"
   ]
  },
  {
   "cell_type": "code",
   "execution_count": 21,
   "id": "major-private",
   "metadata": {
    "execution": {
     "iopub.execute_input": "2021-05-31T18:42:50.922794Z",
     "iopub.status.busy": "2021-05-31T18:42:50.915597Z",
     "iopub.status.idle": "2021-05-31T18:42:51.063989Z",
     "shell.execute_reply": "2021-05-31T18:42:51.063325Z",
     "shell.execute_reply.started": "2021-05-31T17:08:50.033240Z"
    },
    "papermill": {
     "duration": 0.203209,
     "end_time": "2021-05-31T18:42:51.064145",
     "exception": false,
     "start_time": "2021-05-31T18:42:50.860936",
     "status": "completed"
    },
    "tags": []
   },
   "outputs": [
    {
     "data": {
      "text/html": [
       "<div>                            <div id=\"86767841-0cb4-49e2-b114-e95da611c6ef\" class=\"plotly-graph-div\" style=\"height:1000px; width:800px;\"></div>            <script type=\"text/javascript\">                require([\"plotly\"], function(Plotly) {                    window.PLOTLYENV=window.PLOTLYENV || {};                                    if (document.getElementById(\"86767841-0cb4-49e2-b114-e95da611c6ef\")) {                    Plotly.newPlot(                        \"86767841-0cb4-49e2-b114-e95da611c6ef\",                        [{\"name\": \"2015\", \"type\": \"scatter\", \"x\": [\"2015-01-01T00:00:00\", \"2015-01-02T00:00:00\", \"2015-01-03T00:00:00\", \"2015-01-04T00:00:00\", \"2015-01-05T00:00:00\", \"2015-01-06T00:00:00\", \"2015-01-07T00:00:00\", \"2015-01-08T00:00:00\", \"2015-01-09T00:00:00\", \"2015-01-10T00:00:00\", \"2015-01-11T00:00:00\", \"2015-01-12T00:00:00\", \"2015-01-13T00:00:00\", \"2015-01-14T00:00:00\", \"2015-01-15T00:00:00\", \"2015-01-16T00:00:00\", \"2015-01-17T00:00:00\", \"2015-01-18T00:00:00\", \"2015-01-19T00:00:00\", \"2015-01-20T00:00:00\", \"2015-01-21T00:00:00\", \"2015-01-22T00:00:00\", \"2015-01-23T00:00:00\", \"2015-01-24T00:00:00\", \"2015-01-25T00:00:00\", \"2015-01-26T00:00:00\", \"2015-01-27T00:00:00\", \"2015-01-28T00:00:00\", \"2015-01-29T00:00:00\", \"2015-01-30T00:00:00\", \"2015-01-31T00:00:00\", \"2015-02-01T00:00:00\", \"2015-02-02T00:00:00\", \"2015-02-03T00:00:00\", \"2015-02-04T00:00:00\", \"2015-02-05T00:00:00\", \"2015-02-06T00:00:00\", \"2015-02-07T00:00:00\", \"2015-02-08T00:00:00\", \"2015-02-09T00:00:00\", \"2015-02-10T00:00:00\", \"2015-02-11T00:00:00\", \"2015-02-12T00:00:00\", \"2015-02-13T00:00:00\", \"2015-02-14T00:00:00\", \"2015-02-15T00:00:00\", \"2015-02-16T00:00:00\", \"2015-02-17T00:00:00\", \"2015-02-18T00:00:00\", \"2015-02-19T00:00:00\", \"2015-02-20T00:00:00\", \"2015-02-21T00:00:00\", \"2015-02-22T00:00:00\", \"2015-02-23T00:00:00\", \"2015-02-24T00:00:00\", \"2015-02-25T00:00:00\", \"2015-02-26T00:00:00\", \"2015-02-27T00:00:00\", \"2015-02-28T00:00:00\", \"2015-03-01T00:00:00\", \"2015-03-02T00:00:00\", \"2015-03-03T00:00:00\", \"2015-03-04T00:00:00\", \"2015-03-05T00:00:00\", \"2015-03-06T00:00:00\", \"2015-03-07T00:00:00\", \"2015-03-08T00:00:00\", \"2015-03-09T00:00:00\", \"2015-03-10T00:00:00\", \"2015-03-11T00:00:00\", \"2015-03-12T00:00:00\", \"2015-03-13T00:00:00\", \"2015-03-14T00:00:00\", \"2015-03-15T00:00:00\", \"2015-03-16T00:00:00\", \"2015-03-17T00:00:00\", \"2015-03-18T00:00:00\", \"2015-03-19T00:00:00\", \"2015-03-20T00:00:00\", \"2015-03-21T00:00:00\", \"2015-03-22T00:00:00\", \"2015-03-23T00:00:00\", \"2015-03-24T00:00:00\", \"2015-03-25T00:00:00\", \"2015-03-26T00:00:00\", \"2015-03-27T00:00:00\", \"2015-03-28T00:00:00\", \"2015-03-29T00:00:00\", \"2015-03-30T00:00:00\", \"2015-03-31T00:00:00\", \"2015-04-01T00:00:00\", \"2015-04-02T00:00:00\", \"2015-04-03T00:00:00\", \"2015-04-04T00:00:00\", \"2015-04-05T00:00:00\", \"2015-04-06T00:00:00\", \"2015-04-07T00:00:00\", \"2015-04-08T00:00:00\", \"2015-04-09T00:00:00\", \"2015-04-10T00:00:00\", \"2015-04-11T00:00:00\", \"2015-04-12T00:00:00\", \"2015-04-13T00:00:00\", \"2015-04-14T00:00:00\", \"2015-04-15T00:00:00\", \"2015-04-16T00:00:00\", \"2015-04-17T00:00:00\", \"2015-04-18T00:00:00\", \"2015-04-19T00:00:00\", \"2015-04-20T00:00:00\", \"2015-04-21T00:00:00\", \"2015-04-22T00:00:00\", \"2015-04-23T00:00:00\", \"2015-04-24T00:00:00\", \"2015-04-25T00:00:00\", \"2015-04-26T00:00:00\", \"2015-04-27T00:00:00\", \"2015-04-28T00:00:00\", \"2015-04-29T00:00:00\", \"2015-04-30T00:00:00\", \"2015-05-01T00:00:00\", \"2015-05-02T00:00:00\", \"2015-05-03T00:00:00\", \"2015-05-04T00:00:00\", \"2015-05-05T00:00:00\", \"2015-05-06T00:00:00\", \"2015-05-07T00:00:00\", \"2015-05-08T00:00:00\", \"2015-05-09T00:00:00\", \"2015-05-10T00:00:00\", \"2015-05-11T00:00:00\", \"2015-05-12T00:00:00\", \"2015-05-13T00:00:00\", \"2015-05-14T00:00:00\", \"2015-05-15T00:00:00\", \"2015-05-16T00:00:00\", \"2015-05-17T00:00:00\", \"2015-05-18T00:00:00\", \"2015-05-19T00:00:00\", \"2015-05-20T00:00:00\", \"2015-05-21T00:00:00\", \"2015-05-22T00:00:00\", \"2015-05-23T00:00:00\", \"2015-05-24T00:00:00\", \"2015-05-25T00:00:00\", \"2015-05-26T00:00:00\", \"2015-05-27T00:00:00\", \"2015-05-28T00:00:00\", \"2015-05-29T00:00:00\", \"2015-05-30T00:00:00\", \"2015-05-31T00:00:00\", \"2015-06-01T00:00:00\", \"2015-06-02T00:00:00\", \"2015-06-03T00:00:00\", \"2015-06-04T00:00:00\", \"2015-06-05T00:00:00\", \"2015-06-06T00:00:00\", \"2015-06-07T00:00:00\", \"2015-06-08T00:00:00\", \"2015-06-09T00:00:00\", \"2015-06-10T00:00:00\", \"2015-06-11T00:00:00\", \"2015-06-12T00:00:00\", \"2015-06-13T00:00:00\", \"2015-06-14T00:00:00\", \"2015-06-15T00:00:00\", \"2015-06-16T00:00:00\", \"2015-06-17T00:00:00\", \"2015-06-18T00:00:00\", \"2015-06-19T00:00:00\", \"2015-06-20T00:00:00\", \"2015-06-21T00:00:00\", \"2015-06-22T00:00:00\", \"2015-06-23T00:00:00\", \"2015-06-24T00:00:00\", \"2015-06-25T00:00:00\", \"2015-06-26T00:00:00\", \"2015-06-27T00:00:00\", \"2015-06-28T00:00:00\", \"2015-06-29T00:00:00\", \"2015-06-30T00:00:00\", \"2015-07-01T00:00:00\", \"2015-07-02T00:00:00\", \"2015-07-03T00:00:00\", \"2015-07-04T00:00:00\", \"2015-07-05T00:00:00\", \"2015-07-06T00:00:00\", \"2015-07-07T00:00:00\", \"2015-07-08T00:00:00\", \"2015-07-09T00:00:00\", \"2015-07-10T00:00:00\", \"2015-07-11T00:00:00\", \"2015-07-12T00:00:00\", \"2015-07-13T00:00:00\", \"2015-07-14T00:00:00\", \"2015-07-15T00:00:00\", \"2015-07-16T00:00:00\", \"2015-07-17T00:00:00\", \"2015-07-18T00:00:00\", \"2015-07-19T00:00:00\", \"2015-07-20T00:00:00\", \"2015-07-21T00:00:00\", \"2015-07-22T00:00:00\", \"2015-07-23T00:00:00\", \"2015-07-24T00:00:00\", \"2015-07-25T00:00:00\", \"2015-07-26T00:00:00\", \"2015-07-27T00:00:00\", \"2015-07-28T00:00:00\", \"2015-07-29T00:00:00\", \"2015-07-30T00:00:00\", \"2015-07-31T00:00:00\", \"2015-08-01T00:00:00\", \"2015-08-02T00:00:00\", \"2015-08-03T00:00:00\", \"2015-08-04T00:00:00\", \"2015-08-05T00:00:00\", \"2015-08-06T00:00:00\", \"2015-08-07T00:00:00\", \"2015-08-08T00:00:00\", \"2015-08-09T00:00:00\", \"2015-08-10T00:00:00\", \"2015-08-11T00:00:00\", \"2015-08-12T00:00:00\", \"2015-08-13T00:00:00\", \"2015-08-14T00:00:00\", \"2015-08-15T00:00:00\", \"2015-08-16T00:00:00\", \"2015-08-17T00:00:00\", \"2015-08-18T00:00:00\", \"2015-08-19T00:00:00\", \"2015-08-20T00:00:00\", \"2015-08-21T00:00:00\", \"2015-08-22T00:00:00\", \"2015-08-23T00:00:00\", \"2015-08-24T00:00:00\", \"2015-08-25T00:00:00\", \"2015-08-26T00:00:00\", \"2015-08-27T00:00:00\", \"2015-08-28T00:00:00\", \"2015-08-29T00:00:00\", \"2015-08-30T00:00:00\", \"2015-08-31T00:00:00\", \"2015-09-01T00:00:00\", \"2015-09-02T00:00:00\", \"2015-09-03T00:00:00\", \"2015-09-04T00:00:00\", \"2015-09-05T00:00:00\", \"2015-09-06T00:00:00\", \"2015-09-07T00:00:00\", \"2015-09-08T00:00:00\", \"2015-09-09T00:00:00\", \"2015-09-10T00:00:00\", \"2015-09-11T00:00:00\", \"2015-09-12T00:00:00\", \"2015-09-13T00:00:00\", \"2015-09-14T00:00:00\", \"2015-09-15T00:00:00\", \"2015-09-16T00:00:00\", \"2015-09-17T00:00:00\", \"2015-09-18T00:00:00\", \"2015-09-19T00:00:00\", \"2015-09-20T00:00:00\", \"2015-09-21T00:00:00\", \"2015-09-22T00:00:00\", \"2015-09-23T00:00:00\", \"2015-09-24T00:00:00\", \"2015-09-25T00:00:00\", \"2015-09-26T00:00:00\", \"2015-09-27T00:00:00\", \"2015-09-28T00:00:00\", \"2015-09-29T00:00:00\", \"2015-09-30T00:00:00\", \"2015-10-01T00:00:00\", \"2015-10-02T00:00:00\", \"2015-10-03T00:00:00\", \"2015-10-04T00:00:00\", \"2015-10-05T00:00:00\", \"2015-10-06T00:00:00\", \"2015-10-07T00:00:00\", \"2015-10-08T00:00:00\", \"2015-10-09T00:00:00\", \"2015-10-10T00:00:00\", \"2015-10-11T00:00:00\", \"2015-10-12T00:00:00\", \"2015-10-13T00:00:00\", \"2015-10-14T00:00:00\", \"2015-10-15T00:00:00\", \"2015-10-16T00:00:00\", \"2015-10-17T00:00:00\", \"2015-10-18T00:00:00\", \"2015-10-19T00:00:00\", \"2015-10-20T00:00:00\", \"2015-10-21T00:00:00\", \"2015-10-22T00:00:00\", \"2015-10-23T00:00:00\", \"2015-10-24T00:00:00\", \"2015-10-25T00:00:00\", \"2015-10-26T00:00:00\", \"2015-10-27T00:00:00\", \"2015-10-28T00:00:00\", \"2015-10-29T00:00:00\", \"2015-10-30T00:00:00\", \"2015-10-31T00:00:00\", \"2015-11-01T00:00:00\", \"2015-11-02T00:00:00\", \"2015-11-03T00:00:00\", \"2015-11-04T00:00:00\", \"2015-11-05T00:00:00\", \"2015-11-06T00:00:00\", \"2015-11-07T00:00:00\", \"2015-11-08T00:00:00\", \"2015-11-09T00:00:00\", \"2015-11-10T00:00:00\", \"2015-11-11T00:00:00\", \"2015-11-12T00:00:00\", \"2015-11-13T00:00:00\", \"2015-11-14T00:00:00\", \"2015-11-15T00:00:00\", \"2015-11-16T00:00:00\", \"2015-11-17T00:00:00\", \"2015-11-18T00:00:00\", \"2015-11-19T00:00:00\", \"2015-11-20T00:00:00\", \"2015-11-21T00:00:00\", \"2015-11-22T00:00:00\", \"2015-11-23T00:00:00\", \"2015-11-24T00:00:00\", \"2015-11-25T00:00:00\", \"2015-11-26T00:00:00\", \"2015-11-27T00:00:00\", \"2015-11-28T00:00:00\", \"2015-11-29T00:00:00\", \"2015-11-30T00:00:00\", \"2015-12-01T00:00:00\", \"2015-12-02T00:00:00\", \"2015-12-03T00:00:00\", \"2015-12-04T00:00:00\", \"2015-12-05T00:00:00\", \"2015-12-06T00:00:00\", \"2015-12-07T00:00:00\", \"2015-12-08T00:00:00\", \"2015-12-09T00:00:00\", \"2015-12-10T00:00:00\", \"2015-12-11T00:00:00\", \"2015-12-12T00:00:00\", \"2015-12-13T00:00:00\", \"2015-12-14T00:00:00\", \"2015-12-15T00:00:00\", \"2015-12-16T00:00:00\", \"2015-12-17T00:00:00\", \"2015-12-18T00:00:00\", \"2015-12-19T00:00:00\", \"2015-12-20T00:00:00\", \"2015-12-21T00:00:00\", \"2015-12-22T00:00:00\", \"2015-12-23T00:00:00\", \"2015-12-24T00:00:00\", \"2015-12-25T00:00:00\", \"2015-12-26T00:00:00\", \"2015-12-27T00:00:00\", \"2015-12-28T00:00:00\", \"2015-12-29T00:00:00\", \"2015-12-30T00:00:00\", \"2015-12-31T00:00:00\"], \"xaxis\": \"x\", \"y\": [null, null, null, null, null, null, null, null, null, null, null, null, null, null, null, null, null, null, null, null, null, null, null, null, null, null, null, null, null, null, null, null, 459.9, 470.43, 471.9, 469.95, 464.95, 464.95, 464.95, 457.8, 452.2, 452.38, 456.98, 460.33, 460.33, 460.33, 462.0, 462.0, 454.0, 453.43, 447.58, 447.58, 447.58, 438.35, 428.25, 428.2, 425.0, 430.15, 434.2, 434.2, 437.73, 453.23, 454.5, 449.38, 449.38, 449.38, 449.38, 445.88, 437.9, 434.8, 433.7, 434.05, 434.05, 434.05, 424.13, 429.95, 436.13, 438.23, 430.5, 430.5, 430.5, 431.73, 427.15, 424.5, 424.6, 417.5, 417.5, 417.5, 408.55, 416.45, 419.48, 419.48, 419.48, 419.48, 419.48, 418.58, 418.05, 434.7, 449.43, 454.18, 454.18, 454.18, 462.25, 462.25, 469.78, 469.0, 472.15, 472.15, 472.15, 468.65, 447.7, 443.38, 444.7, 442.2, 442.2, 442.2, 443.75, 441.0, 435.28, 432.95, 432.95, 432.95, 432.95, 446.95, 450.78, 448.38, 439.23, 446.7, 446.7, 446.7, 449.7, 447.0, 444.1, 442.83, 443.48, 443.48, 443.48, 447.0, 452.35, 455.5, 457.7, 452.8, 452.8, 452.8, 453.93, 447.93, 445.45, 447.13, 443.23, 443.23, 443.23, 452.45, 459.3, 455.2, 458.0, 458.45, 458.45, 458.45, 455.0, 445.2, 454.95, 453.93, 446.28, 446.28, 446.28, 452.5, 452.5, 471.03, 491.0, 503.2, 503.2, 503.2, 504.23, 501.35, 503.2, 504.43, 506.88, 506.88, 506.88, 496.88, 501.43, 505.23, 509.8, 506.75, 506.75, 506.75, 509.45, 508.28, 504.35, 500.5, 502.0, 502.0, 502.0, 506.23, 505.7, 507.0, 513.78, 515.5, 515.5, 515.5, 514.95, 514.13, 526.98, 533.73, 524.73, 524.73, 524.73, 514.85, 508.35, 506.35, 504.0, 503.95, 503.95, 503.95, 506.88, 502.83, 500.4, 496.0, 496.93, 496.93, 496.93, 494.35, 486.83, 482.98, 476.98, 486.0, 486.0, 486.0, 482.3, 477.5, 480.5, 478.43, 455.03, 455.03, 455.03, 440.0, 429.83, 437.4, 440.58, 441.5, 441.5, 441.5, 436.23, 426.93, 428.5, 430.33, 424.85, 424.85, 424.85, 422.0, 426.48, 439.25, 435.25, 438.03, 438.03, 438.03, 432.75, 434.95, 438.68, 438.68, 449.75, 449.75, 449.75, 444.05, 442.43, 428.3, 424.0, 424.0, 424.0, 424.0, 420.43, 425.13, 432.4, 435.18, 435.18, 435.18, 435.18, 445.0, 450.25, 458.75, 457.0, 452.7, 452.7, 452.7, 450.7, 448.1, 452.5, 455.45, 457.4, 457.4, 457.4, 482.73, 483.18, 487.4, 487.4, 486.4, 486.4, 486.4, 481.35, 474.1, 472.45, 472.5, 477.95, 477.95, 477.95, 480.7, 485.23, 487.48, 475.5, 477.38, 477.38, 477.38, 482.5, 479.58, 466.33, 466.33, 469.25, 469.25, 469.25, 470.85, 469.45, 465.48, 469.25, 476.38, 476.38, 476.38, 478.95, 485.7, 485.7, 495.98, 496.23, 496.23, 496.23, 492.08, 489.4, 489.85, 494.43, 487.98, 487.98, 487.98, 486.43, 476.8, 471.73, 476.85, 479.5, 479.5, 479.5, 481.33, 488.9, 493.75, 507.05, 504.5, 504.5, 504.5, 499.03, 501.25, 503.45, 503.6, 503.6, 503.6, 503.6, 506.7, 509.35, 507.78, 509.43], \"yaxis\": \"y\"}, {\"name\": \"2016\", \"type\": \"scatter\", \"x\": [\"2016-01-01T00:00:00\", \"2016-01-02T00:00:00\", \"2016-01-03T00:00:00\", \"2016-01-04T00:00:00\", \"2016-01-05T00:00:00\", \"2016-01-06T00:00:00\", \"2016-01-07T00:00:00\", \"2016-01-08T00:00:00\", \"2016-01-09T00:00:00\", \"2016-01-10T00:00:00\", \"2016-01-11T00:00:00\", \"2016-01-12T00:00:00\", \"2016-01-13T00:00:00\", \"2016-01-14T00:00:00\", \"2016-01-15T00:00:00\", \"2016-01-16T00:00:00\", \"2016-01-17T00:00:00\", \"2016-01-18T00:00:00\", \"2016-01-19T00:00:00\", \"2016-01-20T00:00:00\", \"2016-01-21T00:00:00\", \"2016-01-22T00:00:00\", \"2016-01-23T00:00:00\", \"2016-01-24T00:00:00\", \"2016-01-25T00:00:00\", \"2016-01-26T00:00:00\", \"2016-01-27T00:00:00\", \"2016-01-28T00:00:00\", \"2016-01-29T00:00:00\", \"2016-01-30T00:00:00\", \"2016-01-31T00:00:00\", \"2016-02-01T00:00:00\", \"2016-02-02T00:00:00\", \"2016-02-03T00:00:00\", \"2016-02-04T00:00:00\", \"2016-02-05T00:00:00\", \"2016-02-06T00:00:00\", \"2016-02-07T00:00:00\", \"2016-02-08T00:00:00\", \"2016-02-09T00:00:00\", \"2016-02-10T00:00:00\", \"2016-02-11T00:00:00\", \"2016-02-12T00:00:00\", \"2016-02-13T00:00:00\", \"2016-02-14T00:00:00\", \"2016-02-15T00:00:00\", \"2016-02-16T00:00:00\", \"2016-02-17T00:00:00\", \"2016-02-18T00:00:00\", \"2016-02-19T00:00:00\", \"2016-02-20T00:00:00\", \"2016-02-21T00:00:00\", \"2016-02-22T00:00:00\", \"2016-02-23T00:00:00\", \"2016-02-24T00:00:00\", \"2016-02-25T00:00:00\", \"2016-02-26T00:00:00\", \"2016-02-27T00:00:00\", \"2016-02-28T00:00:00\", \"2016-02-29T00:00:00\", \"2016-03-01T00:00:00\", \"2016-03-02T00:00:00\", \"2016-03-03T00:00:00\", \"2016-03-04T00:00:00\", \"2016-03-05T00:00:00\", \"2016-03-06T00:00:00\", \"2016-03-07T00:00:00\", \"2016-03-08T00:00:00\", \"2016-03-09T00:00:00\", \"2016-03-10T00:00:00\", \"2016-03-11T00:00:00\", \"2016-03-12T00:00:00\", \"2016-03-13T00:00:00\", \"2016-03-14T00:00:00\", \"2016-03-15T00:00:00\", \"2016-03-16T00:00:00\", \"2016-03-17T00:00:00\", \"2016-03-18T00:00:00\", \"2016-03-19T00:00:00\", \"2016-03-20T00:00:00\", \"2016-03-21T00:00:00\", \"2016-03-22T00:00:00\", \"2016-03-23T00:00:00\", \"2016-03-24T00:00:00\", \"2016-03-25T00:00:00\", \"2016-03-26T00:00:00\", \"2016-03-27T00:00:00\", \"2016-03-28T00:00:00\", \"2016-03-29T00:00:00\", \"2016-03-30T00:00:00\", \"2016-03-31T00:00:00\", \"2016-04-01T00:00:00\", \"2016-04-02T00:00:00\", \"2016-04-03T00:00:00\", \"2016-04-04T00:00:00\", \"2016-04-05T00:00:00\", \"2016-04-06T00:00:00\", \"2016-04-07T00:00:00\", \"2016-04-08T00:00:00\", \"2016-04-09T00:00:00\", \"2016-04-10T00:00:00\", \"2016-04-11T00:00:00\", \"2016-04-12T00:00:00\", \"2016-04-13T00:00:00\", \"2016-04-14T00:00:00\", \"2016-04-15T00:00:00\", \"2016-04-16T00:00:00\", \"2016-04-17T00:00:00\", \"2016-04-18T00:00:00\", \"2016-04-19T00:00:00\", \"2016-04-20T00:00:00\", \"2016-04-21T00:00:00\", \"2016-04-22T00:00:00\", \"2016-04-23T00:00:00\", \"2016-04-24T00:00:00\", \"2016-04-25T00:00:00\", \"2016-04-26T00:00:00\", \"2016-04-27T00:00:00\", \"2016-04-28T00:00:00\", \"2016-04-29T00:00:00\", \"2016-04-30T00:00:00\", \"2016-05-01T00:00:00\", \"2016-05-02T00:00:00\", \"2016-05-03T00:00:00\", \"2016-05-04T00:00:00\", \"2016-05-05T00:00:00\", \"2016-05-06T00:00:00\", \"2016-05-07T00:00:00\", \"2016-05-08T00:00:00\", \"2016-05-09T00:00:00\", \"2016-05-10T00:00:00\", \"2016-05-11T00:00:00\", \"2016-05-12T00:00:00\", \"2016-05-13T00:00:00\", \"2016-05-14T00:00:00\", \"2016-05-15T00:00:00\", \"2016-05-16T00:00:00\", \"2016-05-17T00:00:00\", \"2016-05-18T00:00:00\", \"2016-05-19T00:00:00\", \"2016-05-20T00:00:00\", \"2016-05-21T00:00:00\", \"2016-05-22T00:00:00\", \"2016-05-23T00:00:00\", \"2016-05-24T00:00:00\", \"2016-05-25T00:00:00\", \"2016-05-26T00:00:00\", \"2016-05-27T00:00:00\", \"2016-05-28T00:00:00\", \"2016-05-29T00:00:00\", \"2016-05-30T00:00:00\", \"2016-05-31T00:00:00\", \"2016-06-01T00:00:00\", \"2016-06-02T00:00:00\", \"2016-06-03T00:00:00\", \"2016-06-04T00:00:00\", \"2016-06-05T00:00:00\", \"2016-06-06T00:00:00\", \"2016-06-07T00:00:00\", \"2016-06-08T00:00:00\", \"2016-06-09T00:00:00\", \"2016-06-10T00:00:00\", \"2016-06-11T00:00:00\", \"2016-06-12T00:00:00\", \"2016-06-13T00:00:00\", \"2016-06-14T00:00:00\", \"2016-06-15T00:00:00\", \"2016-06-16T00:00:00\", \"2016-06-17T00:00:00\", \"2016-06-18T00:00:00\", \"2016-06-19T00:00:00\", \"2016-06-20T00:00:00\", \"2016-06-21T00:00:00\", \"2016-06-22T00:00:00\", \"2016-06-23T00:00:00\", \"2016-06-24T00:00:00\", \"2016-06-25T00:00:00\", \"2016-06-26T00:00:00\", \"2016-06-27T00:00:00\", \"2016-06-28T00:00:00\", \"2016-06-29T00:00:00\", \"2016-06-30T00:00:00\", \"2016-07-01T00:00:00\", \"2016-07-02T00:00:00\", \"2016-07-03T00:00:00\", \"2016-07-04T00:00:00\", \"2016-07-05T00:00:00\", \"2016-07-06T00:00:00\", \"2016-07-07T00:00:00\", \"2016-07-08T00:00:00\", \"2016-07-09T00:00:00\", \"2016-07-10T00:00:00\", \"2016-07-11T00:00:00\", \"2016-07-12T00:00:00\", \"2016-07-13T00:00:00\", \"2016-07-14T00:00:00\", \"2016-07-15T00:00:00\", \"2016-07-16T00:00:00\", \"2016-07-17T00:00:00\", \"2016-07-18T00:00:00\", \"2016-07-19T00:00:00\", \"2016-07-20T00:00:00\", \"2016-07-21T00:00:00\", \"2016-07-22T00:00:00\", \"2016-07-23T00:00:00\", \"2016-07-24T00:00:00\", \"2016-07-25T00:00:00\", \"2016-07-26T00:00:00\", \"2016-07-27T00:00:00\", \"2016-07-28T00:00:00\", \"2016-07-29T00:00:00\", \"2016-07-30T00:00:00\", \"2016-07-31T00:00:00\", \"2016-08-01T00:00:00\", \"2016-08-02T00:00:00\", \"2016-08-03T00:00:00\", \"2016-08-04T00:00:00\", \"2016-08-05T00:00:00\", \"2016-08-06T00:00:00\", \"2016-08-07T00:00:00\", \"2016-08-08T00:00:00\", \"2016-08-09T00:00:00\", \"2016-08-10T00:00:00\", \"2016-08-11T00:00:00\", \"2016-08-12T00:00:00\", \"2016-08-13T00:00:00\", \"2016-08-14T00:00:00\", \"2016-08-15T00:00:00\", \"2016-08-16T00:00:00\", \"2016-08-17T00:00:00\", \"2016-08-18T00:00:00\", \"2016-08-19T00:00:00\", \"2016-08-20T00:00:00\", \"2016-08-21T00:00:00\", \"2016-08-22T00:00:00\", \"2016-08-23T00:00:00\", \"2016-08-24T00:00:00\", \"2016-08-25T00:00:00\", \"2016-08-26T00:00:00\", \"2016-08-27T00:00:00\", \"2016-08-28T00:00:00\", \"2016-08-29T00:00:00\", \"2016-08-30T00:00:00\", \"2016-08-31T00:00:00\", \"2016-09-01T00:00:00\", \"2016-09-02T00:00:00\", \"2016-09-03T00:00:00\", \"2016-09-04T00:00:00\", \"2016-09-05T00:00:00\", \"2016-09-06T00:00:00\", \"2016-09-07T00:00:00\", \"2016-09-08T00:00:00\", \"2016-09-09T00:00:00\", \"2016-09-10T00:00:00\", \"2016-09-11T00:00:00\", \"2016-09-12T00:00:00\", \"2016-09-13T00:00:00\", \"2016-09-14T00:00:00\", \"2016-09-15T00:00:00\", \"2016-09-16T00:00:00\", \"2016-09-17T00:00:00\", \"2016-09-18T00:00:00\", \"2016-09-19T00:00:00\", \"2016-09-20T00:00:00\", \"2016-09-21T00:00:00\", \"2016-09-22T00:00:00\", \"2016-09-23T00:00:00\", \"2016-09-24T00:00:00\", \"2016-09-25T00:00:00\", \"2016-09-26T00:00:00\", \"2016-09-27T00:00:00\", \"2016-09-28T00:00:00\", \"2016-09-29T00:00:00\", \"2016-09-30T00:00:00\", \"2016-10-01T00:00:00\", \"2016-10-02T00:00:00\", \"2016-10-03T00:00:00\", \"2016-10-04T00:00:00\", \"2016-10-05T00:00:00\", \"2016-10-06T00:00:00\", \"2016-10-07T00:00:00\", \"2016-10-08T00:00:00\", \"2016-10-09T00:00:00\", \"2016-10-10T00:00:00\", \"2016-10-11T00:00:00\", \"2016-10-12T00:00:00\", \"2016-10-13T00:00:00\", \"2016-10-14T00:00:00\", \"2016-10-15T00:00:00\", \"2016-10-16T00:00:00\", \"2016-10-17T00:00:00\", \"2016-10-18T00:00:00\", \"2016-10-19T00:00:00\", \"2016-10-20T00:00:00\", \"2016-10-21T00:00:00\", \"2016-10-22T00:00:00\", \"2016-10-23T00:00:00\", \"2016-10-24T00:00:00\", \"2016-10-25T00:00:00\", \"2016-10-26T00:00:00\", \"2016-10-27T00:00:00\", \"2016-10-28T00:00:00\", \"2016-10-29T00:00:00\", \"2016-10-30T00:00:00\", \"2016-10-31T00:00:00\", \"2016-11-01T00:00:00\", \"2016-11-02T00:00:00\", \"2016-11-03T00:00:00\", \"2016-11-04T00:00:00\", \"2016-11-05T00:00:00\", \"2016-11-06T00:00:00\", \"2016-11-07T00:00:00\", \"2016-11-08T00:00:00\", \"2016-11-09T00:00:00\", \"2016-11-10T00:00:00\", \"2016-11-11T00:00:00\", \"2016-11-12T00:00:00\", \"2016-11-13T00:00:00\", \"2016-11-14T00:00:00\", \"2016-11-15T00:00:00\", \"2016-11-16T00:00:00\", \"2016-11-17T00:00:00\", \"2016-11-18T00:00:00\", \"2016-11-19T00:00:00\", \"2016-11-20T00:00:00\", \"2016-11-21T00:00:00\", \"2016-11-22T00:00:00\", \"2016-11-23T00:00:00\", \"2016-11-24T00:00:00\", \"2016-11-25T00:00:00\", \"2016-11-26T00:00:00\", \"2016-11-27T00:00:00\", \"2016-11-28T00:00:00\", \"2016-11-29T00:00:00\", \"2016-11-30T00:00:00\", \"2016-12-01T00:00:00\", \"2016-12-02T00:00:00\", \"2016-12-03T00:00:00\", \"2016-12-04T00:00:00\", \"2016-12-05T00:00:00\", \"2016-12-06T00:00:00\", \"2016-12-07T00:00:00\", \"2016-12-08T00:00:00\", \"2016-12-09T00:00:00\", \"2016-12-10T00:00:00\", \"2016-12-11T00:00:00\", \"2016-12-12T00:00:00\", \"2016-12-13T00:00:00\", \"2016-12-14T00:00:00\", \"2016-12-15T00:00:00\", \"2016-12-16T00:00:00\", \"2016-12-17T00:00:00\", \"2016-12-18T00:00:00\", \"2016-12-19T00:00:00\", \"2016-12-20T00:00:00\", \"2016-12-21T00:00:00\", \"2016-12-22T00:00:00\", \"2016-12-23T00:00:00\", \"2016-12-24T00:00:00\", \"2016-12-25T00:00:00\", \"2016-12-26T00:00:00\", \"2016-12-27T00:00:00\", \"2016-12-28T00:00:00\", \"2016-12-29T00:00:00\", \"2016-12-30T00:00:00\", \"2016-12-31T00:00:00\"], \"xaxis\": \"x2\", \"y\": [null, null, null, 506.9, 505.0, 519.18, 514.0, 516.08, 516.08, 516.08, 530.13, 532.5, 544.78, 540.5, 544.75, 544.75, 544.75, 541.63, 524.63, 516.9, 512.75, 505.5, 505.5, 505.5, 509.33, 509.33, 505.0, 510.9, 519.78, 519.78, 519.78, 520.5, 516.25, 497.0, 500.2, 491.0, 491.0, 491.0, 492.4, 484.4, 486.5, 482.88, 466.4, 466.4, 466.4, 475.68, 479.0, 478.73, 484.0, 476.38, 476.38, 476.38, 484.0, 483.35, 479.28, 478.23, 479.3, 479.3, 479.3, 497.23, 492.53, 502.8, 508.78, 507.5, 507.5, 507.5, 507.5, 515.45, 521.9, 522.85, 514.75, 514.75, 514.75, 513.15, 513.6, 512.9, 518.35, 515.05, 515.05, 515.05, 520.75, 526.13, 522.78, 522.78, 522.78, 522.78, 522.78, 515.75, 521.0, 525.6, 528.0, 523.13, 523.13, 523.13, 521.05, 521.2, 518.3, 524.0, 527.0, 527.0, 527.0, 522.75, 528.73, 534.9, 534.9, 534.9, 534.9, 534.9, 533.35, 533.35, 534.18, 526.0, 523.75, 523.75, 523.75, 521.58, 511.95, 512.9, 509.5, 499.18, 499.18, 499.18, 496.2, 497.48, 491.75, 491.73, 488.35, 488.35, 488.35, 493.0, 492.28, 490.38, 497.0, 495.25, 495.25, 495.25, 491.25, 491.55, 486.23, 485.75, 477.25, 477.25, 477.25, 469.93, 472.0, 476.4, 475.98, 488.45, 488.45, 488.45, 490.75, 486.5, 483.05, 478.58, 481.45, 481.45, 481.45, 481.33, 480.45, 479.0, 488.23, 492.18, 492.18, 492.18, 491.73, 492.7, 493.25, 491.83, 489.33, 489.33, 489.33, 496.3, 497.03, 492.95, 491.0, 482.05, 482.05, 482.05, 479.2, 480.75, 484.48, 488.7, 488.35, 488.35, 488.35, 496.7, 501.45, 501.45, 500.25, 494.4, 494.4, 494.4, 497.48, 502.5, 508.33, 507.03, 510.43, 510.43, 510.43, 519.28, 511.4, 514.15, 512.03, 508.9, 508.9, 508.9, 511.88, 517.38, 513.0, 515.23, 512.38, 512.38, 512.38, 510.15, 510.0, 506.3, 500.0, 509.5, 509.5, 509.5, 517.0, 517.25, 517.28, 511.43, 521.38, 521.38, 521.38, 521.38, 522.4, 514.35, 511.83, 510.85, 510.85, 510.85, 509.85, 507.5, 510.98, 514.5, 515.4, 515.4, 515.4, 529.85, 534.25, 537.0, 536.25, 516.1, 516.1, 516.1, 516.1, 512.48, 513.5, 517.95, 524.95, 524.95, 524.95, 527.88, 527.88, 529.5, 535.0, 546.93, 546.93, 546.93, 543.95, 542.3, 542.43, 547.75, 554.73, 554.73, 554.73, 564.78, 562.93, 554.0, 555.38, 547.28, 547.28, 547.28, 553.85, 554.15, 553.25, 563.0, 561.53, 561.53, 561.53, 561.0, 561.0, 561.0, 544.48, 541.0, 541.0, 541.0, 540.4, 541.38, 547.35, 549.0, 548.5, 548.5, 548.5, 536.98, 532.58, 529.68, 526.95, 529.0, 529.0, 529.35, 529.35, 527.98, 521.33, 517.38, 513.45, 513.45, 513.45, 508.15, 502.85, 504.35, 514.43, 508.73, 508.73, 508.73, 508.73, 499.95, 498.4, 499.08, 496.05, 496.05, 496.05, 496.68, 503.88, 505.15, 502.0, 497.95, 497.95, 497.95, 500.3, 502.08, 499.5, 507.5, 502.5, 502.5, 502.5, 499.73, 503.28, 503.8, 510.88, 515.93, 515.93, 515.93, 520.85, 520.5, 532.08, 533.8, 530.88, 530.88, 530.88, 533.45, 530.5, 533.5, 531.33, 534.48, 534.48, 534.48, 533.0, 533.55, 534.6, 534.4, 542.5, 542.5], \"yaxis\": \"y2\"}, {\"name\": \"2017\", \"type\": \"scatter\", \"x\": [\"2017-01-01T00:00:00\", \"2017-01-02T00:00:00\", \"2017-01-03T00:00:00\", \"2017-01-04T00:00:00\", \"2017-01-05T00:00:00\", \"2017-01-06T00:00:00\", \"2017-01-07T00:00:00\", \"2017-01-08T00:00:00\", \"2017-01-09T00:00:00\", \"2017-01-10T00:00:00\", \"2017-01-11T00:00:00\", \"2017-01-12T00:00:00\", \"2017-01-13T00:00:00\", \"2017-01-14T00:00:00\", \"2017-01-15T00:00:00\", \"2017-01-16T00:00:00\", \"2017-01-17T00:00:00\", \"2017-01-18T00:00:00\", \"2017-01-19T00:00:00\", \"2017-01-20T00:00:00\", \"2017-01-21T00:00:00\", \"2017-01-22T00:00:00\", \"2017-01-23T00:00:00\", \"2017-01-24T00:00:00\", \"2017-01-25T00:00:00\", \"2017-01-26T00:00:00\", \"2017-01-27T00:00:00\", \"2017-01-28T00:00:00\", \"2017-01-29T00:00:00\", \"2017-01-30T00:00:00\", \"2017-01-31T00:00:00\", \"2017-02-01T00:00:00\", \"2017-02-02T00:00:00\", \"2017-02-03T00:00:00\", \"2017-02-04T00:00:00\", \"2017-02-05T00:00:00\", \"2017-02-06T00:00:00\", \"2017-02-07T00:00:00\", \"2017-02-08T00:00:00\", \"2017-02-09T00:00:00\", \"2017-02-10T00:00:00\", \"2017-02-11T00:00:00\", \"2017-02-12T00:00:00\", \"2017-02-13T00:00:00\", \"2017-02-14T00:00:00\", \"2017-02-15T00:00:00\", \"2017-02-16T00:00:00\", \"2017-02-17T00:00:00\", \"2017-02-18T00:00:00\", \"2017-02-19T00:00:00\", \"2017-02-20T00:00:00\", \"2017-02-21T00:00:00\", \"2017-02-22T00:00:00\", \"2017-02-23T00:00:00\", \"2017-02-24T00:00:00\", \"2017-02-25T00:00:00\", \"2017-02-26T00:00:00\", \"2017-02-27T00:00:00\", \"2017-02-28T00:00:00\", \"2017-03-01T00:00:00\", \"2017-03-02T00:00:00\", \"2017-03-03T00:00:00\", \"2017-03-04T00:00:00\", \"2017-03-05T00:00:00\", \"2017-03-06T00:00:00\", \"2017-03-07T00:00:00\", \"2017-03-08T00:00:00\", \"2017-03-09T00:00:00\", \"2017-03-10T00:00:00\", \"2017-03-11T00:00:00\", \"2017-03-12T00:00:00\", \"2017-03-13T00:00:00\", \"2017-03-14T00:00:00\", \"2017-03-15T00:00:00\", \"2017-03-16T00:00:00\", \"2017-03-17T00:00:00\", \"2017-03-18T00:00:00\", \"2017-03-19T00:00:00\", \"2017-03-20T00:00:00\", \"2017-03-21T00:00:00\", \"2017-03-22T00:00:00\", \"2017-03-23T00:00:00\", \"2017-03-24T00:00:00\", \"2017-03-25T00:00:00\", \"2017-03-26T00:00:00\", \"2017-03-27T00:00:00\", \"2017-03-28T00:00:00\", \"2017-03-29T00:00:00\", \"2017-03-30T00:00:00\", \"2017-03-31T00:00:00\", \"2017-04-01T00:00:00\", \"2017-04-02T00:00:00\", \"2017-04-03T00:00:00\", \"2017-04-04T00:00:00\", \"2017-04-05T00:00:00\", \"2017-04-06T00:00:00\", \"2017-04-07T00:00:00\", \"2017-04-08T00:00:00\", \"2017-04-09T00:00:00\", \"2017-04-10T00:00:00\", \"2017-04-11T00:00:00\", \"2017-04-12T00:00:00\", \"2017-04-13T00:00:00\", \"2017-04-14T00:00:00\", \"2017-04-15T00:00:00\", \"2017-04-16T00:00:00\", \"2017-04-17T00:00:00\", \"2017-04-18T00:00:00\", \"2017-04-19T00:00:00\", \"2017-04-20T00:00:00\", \"2017-04-21T00:00:00\", \"2017-04-22T00:00:00\", \"2017-04-23T00:00:00\", \"2017-04-24T00:00:00\", \"2017-04-25T00:00:00\", \"2017-04-26T00:00:00\", \"2017-04-27T00:00:00\", \"2017-04-28T00:00:00\", \"2017-04-29T00:00:00\", \"2017-04-30T00:00:00\", \"2017-05-01T00:00:00\", \"2017-05-02T00:00:00\", \"2017-05-03T00:00:00\", \"2017-05-04T00:00:00\", \"2017-05-05T00:00:00\", \"2017-05-06T00:00:00\", \"2017-05-07T00:00:00\", \"2017-05-08T00:00:00\", \"2017-05-09T00:00:00\", \"2017-05-10T00:00:00\", \"2017-05-11T00:00:00\", \"2017-05-12T00:00:00\", \"2017-05-13T00:00:00\", \"2017-05-14T00:00:00\", \"2017-05-15T00:00:00\", \"2017-05-16T00:00:00\", \"2017-05-17T00:00:00\", \"2017-05-18T00:00:00\", \"2017-05-19T00:00:00\", \"2017-05-20T00:00:00\", \"2017-05-21T00:00:00\", \"2017-05-22T00:00:00\", \"2017-05-23T00:00:00\", \"2017-05-24T00:00:00\", \"2017-05-25T00:00:00\", \"2017-05-26T00:00:00\", \"2017-05-27T00:00:00\", \"2017-05-28T00:00:00\", \"2017-05-29T00:00:00\", \"2017-05-30T00:00:00\", \"2017-05-31T00:00:00\", \"2017-06-01T00:00:00\", \"2017-06-02T00:00:00\", \"2017-06-03T00:00:00\", \"2017-06-04T00:00:00\", \"2017-06-05T00:00:00\", \"2017-06-06T00:00:00\", \"2017-06-07T00:00:00\", \"2017-06-08T00:00:00\", \"2017-06-09T00:00:00\", \"2017-06-10T00:00:00\", \"2017-06-11T00:00:00\", \"2017-06-12T00:00:00\", \"2017-06-13T00:00:00\", \"2017-06-14T00:00:00\", \"2017-06-15T00:00:00\", \"2017-06-16T00:00:00\", \"2017-06-17T00:00:00\", \"2017-06-18T00:00:00\", \"2017-06-19T00:00:00\", \"2017-06-20T00:00:00\", \"2017-06-21T00:00:00\", \"2017-06-22T00:00:00\", \"2017-06-23T00:00:00\", \"2017-06-24T00:00:00\", \"2017-06-25T00:00:00\", \"2017-06-26T00:00:00\", \"2017-06-27T00:00:00\", \"2017-06-28T00:00:00\", \"2017-06-29T00:00:00\", \"2017-06-30T00:00:00\", \"2017-07-01T00:00:00\", \"2017-07-02T00:00:00\", \"2017-07-03T00:00:00\", \"2017-07-04T00:00:00\", \"2017-07-05T00:00:00\", \"2017-07-06T00:00:00\", \"2017-07-07T00:00:00\", \"2017-07-08T00:00:00\", \"2017-07-09T00:00:00\", \"2017-07-10T00:00:00\", \"2017-07-11T00:00:00\", \"2017-07-12T00:00:00\", \"2017-07-13T00:00:00\", \"2017-07-14T00:00:00\", \"2017-07-15T00:00:00\", \"2017-07-16T00:00:00\", \"2017-07-17T00:00:00\", \"2017-07-18T00:00:00\", \"2017-07-19T00:00:00\", \"2017-07-20T00:00:00\", \"2017-07-21T00:00:00\", \"2017-07-22T00:00:00\", \"2017-07-23T00:00:00\", \"2017-07-24T00:00:00\", \"2017-07-25T00:00:00\", \"2017-07-26T00:00:00\", \"2017-07-27T00:00:00\", \"2017-07-28T00:00:00\", \"2017-07-29T00:00:00\", \"2017-07-30T00:00:00\", \"2017-07-31T00:00:00\", \"2017-08-01T00:00:00\", \"2017-08-02T00:00:00\", \"2017-08-03T00:00:00\", \"2017-08-04T00:00:00\", \"2017-08-05T00:00:00\", \"2017-08-06T00:00:00\", \"2017-08-07T00:00:00\", \"2017-08-08T00:00:00\", \"2017-08-09T00:00:00\", \"2017-08-10T00:00:00\", \"2017-08-11T00:00:00\", \"2017-08-12T00:00:00\", \"2017-08-13T00:00:00\", \"2017-08-14T00:00:00\", \"2017-08-15T00:00:00\", \"2017-08-16T00:00:00\", \"2017-08-17T00:00:00\", \"2017-08-18T00:00:00\", \"2017-08-19T00:00:00\", \"2017-08-20T00:00:00\", \"2017-08-21T00:00:00\", \"2017-08-22T00:00:00\", \"2017-08-23T00:00:00\", \"2017-08-24T00:00:00\", \"2017-08-25T00:00:00\", \"2017-08-26T00:00:00\", \"2017-08-27T00:00:00\", \"2017-08-28T00:00:00\", \"2017-08-29T00:00:00\", \"2017-08-30T00:00:00\", \"2017-08-31T00:00:00\", \"2017-09-01T00:00:00\", \"2017-09-02T00:00:00\", \"2017-09-03T00:00:00\", \"2017-09-04T00:00:00\", \"2017-09-05T00:00:00\", \"2017-09-06T00:00:00\", \"2017-09-07T00:00:00\", \"2017-09-08T00:00:00\", \"2017-09-09T00:00:00\", \"2017-09-10T00:00:00\", \"2017-09-11T00:00:00\", \"2017-09-12T00:00:00\", \"2017-09-13T00:00:00\", \"2017-09-14T00:00:00\", \"2017-09-15T00:00:00\", \"2017-09-16T00:00:00\", \"2017-09-17T00:00:00\", \"2017-09-18T00:00:00\", \"2017-09-19T00:00:00\", \"2017-09-20T00:00:00\", \"2017-09-21T00:00:00\", \"2017-09-22T00:00:00\", \"2017-09-23T00:00:00\", \"2017-09-24T00:00:00\", \"2017-09-25T00:00:00\", \"2017-09-26T00:00:00\", \"2017-09-27T00:00:00\", \"2017-09-28T00:00:00\", \"2017-09-29T00:00:00\", \"2017-09-30T00:00:00\", \"2017-10-01T00:00:00\", \"2017-10-02T00:00:00\", \"2017-10-03T00:00:00\", \"2017-10-04T00:00:00\", \"2017-10-05T00:00:00\", \"2017-10-06T00:00:00\", \"2017-10-07T00:00:00\", \"2017-10-08T00:00:00\", \"2017-10-09T00:00:00\", \"2017-10-10T00:00:00\", \"2017-10-11T00:00:00\", \"2017-10-12T00:00:00\", \"2017-10-13T00:00:00\", \"2017-10-14T00:00:00\", \"2017-10-15T00:00:00\", \"2017-10-16T00:00:00\", \"2017-10-17T00:00:00\", \"2017-10-18T00:00:00\", \"2017-10-19T00:00:00\", \"2017-10-20T00:00:00\", \"2017-10-21T00:00:00\", \"2017-10-22T00:00:00\", \"2017-10-23T00:00:00\", \"2017-10-24T00:00:00\", \"2017-10-25T00:00:00\", \"2017-10-26T00:00:00\", \"2017-10-27T00:00:00\", \"2017-10-28T00:00:00\", \"2017-10-29T00:00:00\", \"2017-10-30T00:00:00\", \"2017-10-31T00:00:00\", \"2017-11-01T00:00:00\", \"2017-11-02T00:00:00\", \"2017-11-03T00:00:00\", \"2017-11-04T00:00:00\", \"2017-11-05T00:00:00\", \"2017-11-06T00:00:00\", \"2017-11-07T00:00:00\", \"2017-11-08T00:00:00\", \"2017-11-09T00:00:00\", \"2017-11-10T00:00:00\", \"2017-11-11T00:00:00\", \"2017-11-12T00:00:00\", \"2017-11-13T00:00:00\", \"2017-11-14T00:00:00\", \"2017-11-15T00:00:00\", \"2017-11-16T00:00:00\", \"2017-11-17T00:00:00\", \"2017-11-18T00:00:00\", \"2017-11-19T00:00:00\", \"2017-11-20T00:00:00\", \"2017-11-21T00:00:00\", \"2017-11-22T00:00:00\", \"2017-11-23T00:00:00\", \"2017-11-24T00:00:00\", \"2017-11-25T00:00:00\", \"2017-11-26T00:00:00\", \"2017-11-27T00:00:00\", \"2017-11-28T00:00:00\", \"2017-11-29T00:00:00\", \"2017-11-30T00:00:00\", \"2017-12-01T00:00:00\", \"2017-12-02T00:00:00\", \"2017-12-03T00:00:00\", \"2017-12-04T00:00:00\", \"2017-12-05T00:00:00\", \"2017-12-06T00:00:00\", \"2017-12-07T00:00:00\", \"2017-12-08T00:00:00\", \"2017-12-09T00:00:00\", \"2017-12-10T00:00:00\", \"2017-12-11T00:00:00\", \"2017-12-12T00:00:00\", \"2017-12-13T00:00:00\", \"2017-12-14T00:00:00\", \"2017-12-15T00:00:00\", \"2017-12-16T00:00:00\", \"2017-12-17T00:00:00\", \"2017-12-18T00:00:00\", \"2017-12-19T00:00:00\", \"2017-12-20T00:00:00\", \"2017-12-21T00:00:00\", \"2017-12-22T00:00:00\", \"2017-12-23T00:00:00\", \"2017-12-24T00:00:00\", \"2017-12-25T00:00:00\", \"2017-12-26T00:00:00\", \"2017-12-27T00:00:00\", \"2017-12-28T00:00:00\", \"2017-12-29T00:00:00\", \"2017-12-30T00:00:00\", \"2017-12-31T00:00:00\"], \"xaxis\": \"x3\", \"y\": [null, 545.0, 548.5, 546.5, 539.95, 542.5, 542.5, 542.5, 543.0, 547.18, 547.85, 545.18, 548.75, 548.75, 548.75, 546.95, 533.6, 524.0, 522.65, 518.73, 518.73, 518.73, 515.25, 514.4, 516.35, 516.35, 514.35, 514.35, 514.35, 523.23, 526.9, 525.4, 525.4, 525.23, 525.23, 525.23, 522.3, 521.18, 519.13, 517.0, 517.75, 517.75, 517.75, 517.0, 526.4, 528.75, 534.7, 539.0, 539.0, 539.0, 539.4, 545.45, 605.68, 610.95, 610.95, 610.95, 610.95, 628.35, 624.0, 622.2, 627.1, 643.53, 643.53, 643.53, 655.85, 663.45, 653.85, 649.0, 648.0, 648.0, 648.0, 648.0, 659.5, 658.05, 655.2, 659.95, 659.95, 659.95, 652.18, 641.73, 632.95, 638.75, 645.95, 645.95, 645.95, 639.25, 631.93, 630.0, 637.38, 668.73, 668.73, 668.73, 689.78, 689.78, 708.98, 724.38, 716.88, 716.88, 716.88, 712.4, 700.18, 693.2, 686.65, 686.65, 686.65, 686.65, 697.65, 704.98, 691.25, 693.38, 710.5, 710.5, 710.5, 717.5, 732.5, 720.0, 711.88, 710.15, 710.15, 710.15, 710.15, 700.53, 690.33, 689.73, 683.5, 683.5, 683.5, 669.75, 666.83, 681.8, 684.88, 681.95, 681.95, 681.95, 678.0, 688.45, 682.85, 674.88, 667.85, 667.85, 667.85, 666.73, 664.93, 656.75, 656.2, 672.2, 672.2, 672.2, 682.73, 682.35, 683.7, 670.0, 669.33, 669.33, 669.33, 670.48, 666.98, 671.0, 672.35, 675.85, 675.85, 675.85, 664.88, 663.5, 680.0, 697.5, 697.9, 697.9, 697.9, 707.9, 711.0, 714.0, 721.95, 720.75, 720.75, 720.75, 720.75, 721.35, 719.6, 704.95, 696.2, 696.2, 696.2, 697.35, 713.55, 723.7, 725.0, 748.7, 748.7, 748.7, 750.45, 752.05, 762.5, 762.5, 768.0, 768.0, 768.0, 779.8, 775.75, 769.0, 775.0, 795.85, 795.85, 795.85, 812.45, 812.35, 814.95, 815.75, 802.5, 802.5, 802.5, 809.38, 810.95, 817.78, 832.4, 830.48, 830.48, 830.48, 815.8, 810.5, 810.0, 803.33, 788.15, 788.15, 788.15, 792.25, 792.25, 788.0, 798.78, 788.9, 788.9, 788.9, 792.08, 789.95, 793.25, 795.8, 795.8, 795.8, 795.8, 790.85, 783.75, 784.35, 798.68, 808.3, 808.3, 808.3, 818.03, 817.0, 826.2, 832.45, 823.25, 823.25, 823.25, 826.6, 825.0, 859.85, 861.45, 852.85, 852.85, 852.85, 851.05, 848.75, 872.05, 851.7, 838.45, 838.45, 838.45, 827.9, 827.05, 825.2, 802.9, 793.25, 793.25, 793.25, 793.25, 803.85, 824.9, 828.45, 839.0, 839.0, 839.0, 839.7, 847.25, 858.4, 876.5, 890.6, 890.6, 890.6, 891.9, 883.75, 917.9, 921.7, 921.7, 921.7, 921.7, 944.65, 946.05, 945.55, 957.8, 956.5, 956.5, 956.5, 945.55, 945.0, 957.55, 956.4, 953.0, 953.0, 953.0, 941.8, 935.0, 905.7, 909.9, 900.5, 900.5, 900.5, 891.85, 895.0, 890.6, 906.0, 924.6, 924.6, 924.6, 924.35, 939.5, 938.5, 949.9, 959.0, 959.0, 959.0, 957.25, 951.35, 950.0, 941.0, 931.25, 931.25, 931.25, 913.75, 920.75, 930.3, 936.0, 936.8, 936.8, 936.8, 926.0, 929.0, 924.7, 924.9, 932.7, 932.7, 932.7, 932.55, 927.0, 927.4, 923.85, 922.4, 922.4, 922.4, 922.4, 938.9, 937.45, 934.25, 931.7, 931.7, 931.7], \"yaxis\": \"y3\"}, {\"name\": \"2018\", \"type\": \"scatter\", \"x\": [\"2018-01-01T00:00:00\", \"2018-01-02T00:00:00\", \"2018-01-03T00:00:00\", \"2018-01-04T00:00:00\", \"2018-01-05T00:00:00\", \"2018-01-06T00:00:00\", \"2018-01-07T00:00:00\", \"2018-01-08T00:00:00\", \"2018-01-09T00:00:00\", \"2018-01-10T00:00:00\", \"2018-01-11T00:00:00\", \"2018-01-12T00:00:00\", \"2018-01-13T00:00:00\", \"2018-01-14T00:00:00\", \"2018-01-15T00:00:00\", \"2018-01-16T00:00:00\", \"2018-01-17T00:00:00\", \"2018-01-18T00:00:00\", \"2018-01-19T00:00:00\", \"2018-01-20T00:00:00\", \"2018-01-21T00:00:00\", \"2018-01-22T00:00:00\", \"2018-01-23T00:00:00\", \"2018-01-24T00:00:00\", \"2018-01-25T00:00:00\", \"2018-01-26T00:00:00\", \"2018-01-27T00:00:00\", \"2018-01-28T00:00:00\", \"2018-01-29T00:00:00\", \"2018-01-30T00:00:00\", \"2018-01-31T00:00:00\", \"2018-02-01T00:00:00\", \"2018-02-02T00:00:00\", \"2018-02-03T00:00:00\", \"2018-02-04T00:00:00\", \"2018-02-05T00:00:00\", \"2018-02-06T00:00:00\", \"2018-02-07T00:00:00\", \"2018-02-08T00:00:00\", \"2018-02-09T00:00:00\", \"2018-02-10T00:00:00\", \"2018-02-11T00:00:00\", \"2018-02-12T00:00:00\", \"2018-02-13T00:00:00\", \"2018-02-14T00:00:00\", \"2018-02-15T00:00:00\", \"2018-02-16T00:00:00\", \"2018-02-17T00:00:00\", \"2018-02-18T00:00:00\", \"2018-02-19T00:00:00\", \"2018-02-20T00:00:00\", \"2018-02-21T00:00:00\", \"2018-02-22T00:00:00\", \"2018-02-23T00:00:00\", \"2018-02-24T00:00:00\", \"2018-02-25T00:00:00\", \"2018-02-26T00:00:00\", \"2018-02-27T00:00:00\", \"2018-02-28T00:00:00\", \"2018-03-01T00:00:00\", \"2018-03-02T00:00:00\", \"2018-03-03T00:00:00\", \"2018-03-04T00:00:00\", \"2018-03-05T00:00:00\", \"2018-03-06T00:00:00\", \"2018-03-07T00:00:00\", \"2018-03-08T00:00:00\", \"2018-03-09T00:00:00\", \"2018-03-10T00:00:00\", \"2018-03-11T00:00:00\", \"2018-03-12T00:00:00\", \"2018-03-13T00:00:00\", \"2018-03-14T00:00:00\", \"2018-03-15T00:00:00\", \"2018-03-16T00:00:00\", \"2018-03-17T00:00:00\", \"2018-03-18T00:00:00\", \"2018-03-19T00:00:00\", \"2018-03-20T00:00:00\", \"2018-03-21T00:00:00\", \"2018-03-22T00:00:00\", \"2018-03-23T00:00:00\", \"2018-03-24T00:00:00\", \"2018-03-25T00:00:00\", \"2018-03-26T00:00:00\", \"2018-03-27T00:00:00\", \"2018-03-28T00:00:00\", \"2018-03-29T00:00:00\", \"2018-03-30T00:00:00\", \"2018-03-31T00:00:00\", \"2018-04-01T00:00:00\", \"2018-04-02T00:00:00\", \"2018-04-03T00:00:00\", \"2018-04-04T00:00:00\", \"2018-04-05T00:00:00\", \"2018-04-06T00:00:00\", \"2018-04-07T00:00:00\", \"2018-04-08T00:00:00\", \"2018-04-09T00:00:00\", \"2018-04-10T00:00:00\", \"2018-04-11T00:00:00\", \"2018-04-12T00:00:00\", \"2018-04-13T00:00:00\", \"2018-04-14T00:00:00\", \"2018-04-15T00:00:00\", \"2018-04-16T00:00:00\", \"2018-04-17T00:00:00\", \"2018-04-18T00:00:00\", \"2018-04-19T00:00:00\", \"2018-04-20T00:00:00\", \"2018-04-21T00:00:00\", \"2018-04-22T00:00:00\", \"2018-04-23T00:00:00\", \"2018-04-24T00:00:00\", \"2018-04-25T00:00:00\", \"2018-04-26T00:00:00\", \"2018-04-27T00:00:00\", \"2018-04-28T00:00:00\", \"2018-04-29T00:00:00\", \"2018-04-30T00:00:00\", \"2018-05-01T00:00:00\", \"2018-05-02T00:00:00\", \"2018-05-03T00:00:00\", \"2018-05-04T00:00:00\", \"2018-05-05T00:00:00\", \"2018-05-06T00:00:00\", \"2018-05-07T00:00:00\", \"2018-05-08T00:00:00\", \"2018-05-09T00:00:00\", \"2018-05-10T00:00:00\", \"2018-05-11T00:00:00\", \"2018-05-12T00:00:00\", \"2018-05-13T00:00:00\", \"2018-05-14T00:00:00\", \"2018-05-15T00:00:00\", \"2018-05-16T00:00:00\", \"2018-05-17T00:00:00\", \"2018-05-18T00:00:00\", \"2018-05-19T00:00:00\", \"2018-05-20T00:00:00\", \"2018-05-21T00:00:00\", \"2018-05-22T00:00:00\", \"2018-05-23T00:00:00\", \"2018-05-24T00:00:00\", \"2018-05-25T00:00:00\", \"2018-05-26T00:00:00\", \"2018-05-27T00:00:00\", \"2018-05-28T00:00:00\", \"2018-05-29T00:00:00\", \"2018-05-30T00:00:00\", \"2018-05-31T00:00:00\", \"2018-06-01T00:00:00\", \"2018-06-02T00:00:00\", \"2018-06-03T00:00:00\", \"2018-06-04T00:00:00\", \"2018-06-05T00:00:00\", \"2018-06-06T00:00:00\", \"2018-06-07T00:00:00\", \"2018-06-08T00:00:00\", \"2018-06-09T00:00:00\", \"2018-06-10T00:00:00\", \"2018-06-11T00:00:00\", \"2018-06-12T00:00:00\", \"2018-06-13T00:00:00\", \"2018-06-14T00:00:00\", \"2018-06-15T00:00:00\", \"2018-06-16T00:00:00\", \"2018-06-17T00:00:00\", \"2018-06-18T00:00:00\", \"2018-06-19T00:00:00\", \"2018-06-20T00:00:00\", \"2018-06-21T00:00:00\", \"2018-06-22T00:00:00\", \"2018-06-23T00:00:00\", \"2018-06-24T00:00:00\", \"2018-06-25T00:00:00\", \"2018-06-26T00:00:00\", \"2018-06-27T00:00:00\", \"2018-06-28T00:00:00\", \"2018-06-29T00:00:00\", \"2018-06-30T00:00:00\", \"2018-07-01T00:00:00\", \"2018-07-02T00:00:00\", \"2018-07-03T00:00:00\", \"2018-07-04T00:00:00\", \"2018-07-05T00:00:00\", \"2018-07-06T00:00:00\", \"2018-07-07T00:00:00\", \"2018-07-08T00:00:00\", \"2018-07-09T00:00:00\", \"2018-07-10T00:00:00\", \"2018-07-11T00:00:00\", \"2018-07-12T00:00:00\", \"2018-07-13T00:00:00\", \"2018-07-14T00:00:00\", \"2018-07-15T00:00:00\", \"2018-07-16T00:00:00\", \"2018-07-17T00:00:00\", \"2018-07-18T00:00:00\", \"2018-07-19T00:00:00\", \"2018-07-20T00:00:00\", \"2018-07-21T00:00:00\", \"2018-07-22T00:00:00\", \"2018-07-23T00:00:00\", \"2018-07-24T00:00:00\", \"2018-07-25T00:00:00\", \"2018-07-26T00:00:00\", \"2018-07-27T00:00:00\", \"2018-07-28T00:00:00\", \"2018-07-29T00:00:00\", \"2018-07-30T00:00:00\", \"2018-07-31T00:00:00\", \"2018-08-01T00:00:00\", \"2018-08-02T00:00:00\", \"2018-08-03T00:00:00\", \"2018-08-04T00:00:00\", \"2018-08-05T00:00:00\", \"2018-08-06T00:00:00\", \"2018-08-07T00:00:00\", \"2018-08-08T00:00:00\", \"2018-08-09T00:00:00\", \"2018-08-10T00:00:00\", \"2018-08-11T00:00:00\", \"2018-08-12T00:00:00\", \"2018-08-13T00:00:00\", \"2018-08-14T00:00:00\", \"2018-08-15T00:00:00\", \"2018-08-16T00:00:00\", \"2018-08-17T00:00:00\", \"2018-08-18T00:00:00\", \"2018-08-19T00:00:00\", \"2018-08-20T00:00:00\", \"2018-08-21T00:00:00\", \"2018-08-22T00:00:00\", \"2018-08-23T00:00:00\", \"2018-08-24T00:00:00\", \"2018-08-25T00:00:00\", \"2018-08-26T00:00:00\", \"2018-08-27T00:00:00\", \"2018-08-28T00:00:00\", \"2018-08-29T00:00:00\", \"2018-08-30T00:00:00\", \"2018-08-31T00:00:00\", \"2018-09-01T00:00:00\", \"2018-09-02T00:00:00\", \"2018-09-03T00:00:00\", \"2018-09-04T00:00:00\", \"2018-09-05T00:00:00\", \"2018-09-06T00:00:00\", \"2018-09-07T00:00:00\", \"2018-09-08T00:00:00\", \"2018-09-09T00:00:00\", \"2018-09-10T00:00:00\", \"2018-09-11T00:00:00\", \"2018-09-12T00:00:00\", \"2018-09-13T00:00:00\", \"2018-09-14T00:00:00\", \"2018-09-15T00:00:00\", \"2018-09-16T00:00:00\", \"2018-09-17T00:00:00\", \"2018-09-18T00:00:00\", \"2018-09-19T00:00:00\", \"2018-09-20T00:00:00\", \"2018-09-21T00:00:00\", \"2018-09-22T00:00:00\", \"2018-09-23T00:00:00\", \"2018-09-24T00:00:00\", \"2018-09-25T00:00:00\", \"2018-09-26T00:00:00\", \"2018-09-27T00:00:00\", \"2018-09-28T00:00:00\", \"2018-09-29T00:00:00\", \"2018-09-30T00:00:00\", \"2018-10-01T00:00:00\", \"2018-10-02T00:00:00\", \"2018-10-03T00:00:00\", \"2018-10-04T00:00:00\", \"2018-10-05T00:00:00\", \"2018-10-06T00:00:00\", \"2018-10-07T00:00:00\", \"2018-10-08T00:00:00\", \"2018-10-09T00:00:00\", \"2018-10-10T00:00:00\", \"2018-10-11T00:00:00\", \"2018-10-12T00:00:00\", \"2018-10-13T00:00:00\", \"2018-10-14T00:00:00\", \"2018-10-15T00:00:00\", \"2018-10-16T00:00:00\", \"2018-10-17T00:00:00\", \"2018-10-18T00:00:00\", \"2018-10-19T00:00:00\", \"2018-10-20T00:00:00\", \"2018-10-21T00:00:00\", \"2018-10-22T00:00:00\", \"2018-10-23T00:00:00\", \"2018-10-24T00:00:00\", \"2018-10-25T00:00:00\", \"2018-10-26T00:00:00\", \"2018-10-27T00:00:00\", \"2018-10-28T00:00:00\", \"2018-10-29T00:00:00\", \"2018-10-30T00:00:00\", \"2018-10-31T00:00:00\", \"2018-11-01T00:00:00\", \"2018-11-02T00:00:00\", \"2018-11-03T00:00:00\", \"2018-11-04T00:00:00\", \"2018-11-05T00:00:00\", \"2018-11-06T00:00:00\", \"2018-11-07T00:00:00\", \"2018-11-08T00:00:00\", \"2018-11-09T00:00:00\", \"2018-11-10T00:00:00\", \"2018-11-11T00:00:00\", \"2018-11-12T00:00:00\", \"2018-11-13T00:00:00\", \"2018-11-14T00:00:00\", \"2018-11-15T00:00:00\", \"2018-11-16T00:00:00\", \"2018-11-17T00:00:00\", \"2018-11-18T00:00:00\", \"2018-11-19T00:00:00\", \"2018-11-20T00:00:00\", \"2018-11-21T00:00:00\", \"2018-11-22T00:00:00\", \"2018-11-23T00:00:00\", \"2018-11-24T00:00:00\", \"2018-11-25T00:00:00\", \"2018-11-26T00:00:00\", \"2018-11-27T00:00:00\", \"2018-11-28T00:00:00\", \"2018-11-29T00:00:00\", \"2018-11-30T00:00:00\", \"2018-12-01T00:00:00\", \"2018-12-02T00:00:00\", \"2018-12-03T00:00:00\", \"2018-12-04T00:00:00\", \"2018-12-05T00:00:00\", \"2018-12-06T00:00:00\", \"2018-12-07T00:00:00\", \"2018-12-08T00:00:00\", \"2018-12-09T00:00:00\", \"2018-12-10T00:00:00\", \"2018-12-11T00:00:00\", \"2018-12-12T00:00:00\", \"2018-12-13T00:00:00\", \"2018-12-14T00:00:00\", \"2018-12-15T00:00:00\", \"2018-12-16T00:00:00\", \"2018-12-17T00:00:00\", \"2018-12-18T00:00:00\", \"2018-12-19T00:00:00\", \"2018-12-20T00:00:00\", \"2018-12-21T00:00:00\", \"2018-12-22T00:00:00\", \"2018-12-23T00:00:00\", \"2018-12-24T00:00:00\", \"2018-12-25T00:00:00\", \"2018-12-26T00:00:00\", \"2018-12-27T00:00:00\", \"2018-12-28T00:00:00\", \"2018-12-29T00:00:00\", \"2018-12-30T00:00:00\", \"2018-12-31T00:00:00\"], \"xaxis\": \"x4\", \"y\": [922.7, 919.35, 925.95, 921.8, 926.85, 926.85, 926.85, 931.0, 943.9, 947.0, 942.5, 952.8, 952.8, 952.8, 958.5, 947.7, 929.0, 929.35, 934.3, 934.3, 934.3, 974.05, 990.6, 981.0, 972.0, 972.0, 972.0, 972.0, 976.85, 965.1, 964.4, 972.6, 943.85, 943.85, 943.85, 912.5, 896.95, 905.35, 910.65, 902.0, 902.0, 902.0, 918.2, 918.2, 942.4, 945.65, 942.6, 942.6, 942.6, 932.0, 929.55, 932.5, 930.75, 938.0, 938.0, 938.0, 944.9, 955.65, 956.85, 959.75, 959.75, 959.75, 959.75, 950.15, 936.2, 909.25, 914.5, 919.35, 919.35, 919.35, 933.1, 936.0, 932.05, 929.45, 909.65, 909.65, 909.65, 906.8, 904.0, 902.35, 911.9, 900.0, 900.0, 900.0, 904.3, 910.7, 895.85, 895.85, 895.85, 895.85, 895.85, 900.95, 901.7, 911.55, 910.0, 918.5, 918.5, 918.5, 919.0, 923.9, 932.6, 936.3, 941.6, 941.6, 941.6, 940.0, 947.2, 948.15, 945.0, 941.75, 941.75, 941.75, 944.0, 975.5, 981.75, 988.0, 1011.0, 1011.0, 1011.0, 992.4, 992.4, 979.1, 976.95, 964.7, 964.7, 964.7, 973.25, 982.0, 984.3, 984.4, 991.0, 991.0, 991.0, 991.95, 1000.0, 972.4, 959.5, 953.5, 953.5, 953.5, 935.7, 934.0, 926.0, 921.0, 923.4, 923.4, 923.4, 927.0, 928.0, 923.2, 922.15, 935.75, 935.75, 935.75, 944.0, 955.0, 956.0, 976.0, 986.55, 986.55, 986.55, 999.3, 1000.0, 1005.9, 1011.8, 1023.5, 1023.5, 1023.5, 1020.4, 1014.7, 1022.8, 1036.0, 1029.2, 1029.2, 1029.2, 1016.5, 1005.9, 985.4, 968.5, 975.25, 975.25, 975.25, 971.9, 978.4, 992.0, 1008.4, 982.9, 982.9, 982.9, 1000.0, 1028.05, 1040.85, 1098.9, 1109.0, 1109.0, 1109.0, 1108.8, 1095.9, 1104.55, 1114.9, 1138.4, 1138.4, 1138.4, 1129.5, 1126.35, 1123.0, 1121.5, 1137.3, 1137.3, 1137.3, 1156.7, 1190.4, 1202.9, 1190.0, 1183.5, 1183.5, 1183.5, 1196.0, 1201.0, 1222.5, 1231.65, 1215.0, 1215.0, 1215.0, 1199.7, 1217.1, 1217.1, 1215.95, 1215.3, 1215.3, 1215.3, 1236.8, 1251.45, 1251.45, 1274.0, 1279.9, 1279.9, 1279.9, 1295.85, 1323.0, 1328.95, 1296.0, 1269.0, 1269.0, 1269.0, 1257.85, 1254.8, 1252.35, 1265.2, 1281.0, 1281.0, 1281.0, 1277.0, 1268.4, 1258.2, 1258.2, 1275.6, 1275.6, 1275.6, 1249.2, 1239.35, 1223.65, 1223.65, 1237.2, 1237.2, 1237.2, 1239.9, 1245.0, 1253.95, 1263.0, 1271.7, 1271.7, 1271.7, 1257.05, 1257.05, 1239.5, 1190.0, 1115.0, 1115.0, 1115.0, 1117.0, 1122.75, 1115.2, 1114.65, 1129.0, 1129.0, 1129.0, 1146.9, 1167.4, 1178.0, 1178.0, 1110.9, 1110.9, 1110.9, 1114.55, 1064.5, 1073.0, 1040.5, 1057.0, 1057.0, 1057.0, 1093.55, 1083.1, 1065.8, 1066.95, 1080.7, 1080.7, 1080.7, 1092.7, 1112.0, 1114.9, 1114.9, 1113.8, 1113.8, 1113.8, 1098.25, 1102.65, 1112.5, 1102.75, 1129.8, 1129.8, 1129.8, 1151.6, 1155.75, 1145.15, 1125.25, 1125.25, 1125.25, 1125.25, 1117.25, 1130.0, 1157.65, 1179.9, 1186.0, 1186.0, 1186.0, 1174.8, 1157.35, 1158.8, 1148.0, 1136.95, 1136.95, 1136.95, 1112.95, 1102.05, 1113.5, 1123.85, 1114.75, 1114.75, 1114.75, 1133.0, 1139.0, 1147.0, 1132.4, 1131.0, 1131.0, 1131.0, 1103.0, 1103.0, 1100.0, 1127.0, 1135.25, 1135.25, 1135.25, 1133.3], \"yaxis\": \"y4\"}, {\"name\": \"2019\", \"type\": \"scatter\", \"x\": [\"2019-01-01T00:00:00\", \"2019-01-02T00:00:00\", \"2019-01-03T00:00:00\", \"2019-01-04T00:00:00\", \"2019-01-05T00:00:00\", \"2019-01-06T00:00:00\", \"2019-01-07T00:00:00\", \"2019-01-08T00:00:00\", \"2019-01-09T00:00:00\", \"2019-01-10T00:00:00\", \"2019-01-11T00:00:00\", \"2019-01-12T00:00:00\", \"2019-01-13T00:00:00\", \"2019-01-14T00:00:00\", \"2019-01-15T00:00:00\", \"2019-01-16T00:00:00\", \"2019-01-17T00:00:00\", \"2019-01-18T00:00:00\", \"2019-01-19T00:00:00\", \"2019-01-20T00:00:00\", \"2019-01-21T00:00:00\", \"2019-01-22T00:00:00\", \"2019-01-23T00:00:00\", \"2019-01-24T00:00:00\", \"2019-01-25T00:00:00\", \"2019-01-26T00:00:00\", \"2019-01-27T00:00:00\", \"2019-01-28T00:00:00\", \"2019-01-29T00:00:00\", \"2019-01-30T00:00:00\", \"2019-01-31T00:00:00\", \"2019-02-01T00:00:00\", \"2019-02-02T00:00:00\", \"2019-02-03T00:00:00\", \"2019-02-04T00:00:00\", \"2019-02-05T00:00:00\", \"2019-02-06T00:00:00\", \"2019-02-07T00:00:00\", \"2019-02-08T00:00:00\", \"2019-02-09T00:00:00\", \"2019-02-10T00:00:00\", \"2019-02-11T00:00:00\", \"2019-02-12T00:00:00\", \"2019-02-13T00:00:00\", \"2019-02-14T00:00:00\", \"2019-02-15T00:00:00\", \"2019-02-16T00:00:00\", \"2019-02-17T00:00:00\", \"2019-02-18T00:00:00\", \"2019-02-19T00:00:00\", \"2019-02-20T00:00:00\", \"2019-02-21T00:00:00\", \"2019-02-22T00:00:00\", \"2019-02-23T00:00:00\", \"2019-02-24T00:00:00\", \"2019-02-25T00:00:00\", \"2019-02-26T00:00:00\", \"2019-02-27T00:00:00\", \"2019-02-28T00:00:00\", \"2019-03-01T00:00:00\", \"2019-03-02T00:00:00\", \"2019-03-03T00:00:00\", \"2019-03-04T00:00:00\", \"2019-03-05T00:00:00\", \"2019-03-06T00:00:00\", \"2019-03-07T00:00:00\", \"2019-03-08T00:00:00\", \"2019-03-09T00:00:00\", \"2019-03-10T00:00:00\", \"2019-03-11T00:00:00\", \"2019-03-12T00:00:00\", \"2019-03-13T00:00:00\", \"2019-03-14T00:00:00\", \"2019-03-15T00:00:00\", \"2019-03-16T00:00:00\", \"2019-03-17T00:00:00\", \"2019-03-18T00:00:00\", \"2019-03-19T00:00:00\", \"2019-03-20T00:00:00\", \"2019-03-21T00:00:00\", \"2019-03-22T00:00:00\", \"2019-03-23T00:00:00\", \"2019-03-24T00:00:00\", \"2019-03-25T00:00:00\", \"2019-03-26T00:00:00\", \"2019-03-27T00:00:00\", \"2019-03-28T00:00:00\", \"2019-03-29T00:00:00\", \"2019-03-30T00:00:00\", \"2019-03-31T00:00:00\", \"2019-04-01T00:00:00\", \"2019-04-02T00:00:00\", \"2019-04-03T00:00:00\", \"2019-04-04T00:00:00\", \"2019-04-05T00:00:00\", \"2019-04-06T00:00:00\", \"2019-04-07T00:00:00\", \"2019-04-08T00:00:00\", \"2019-04-09T00:00:00\", \"2019-04-10T00:00:00\", \"2019-04-11T00:00:00\", \"2019-04-12T00:00:00\", \"2019-04-13T00:00:00\", \"2019-04-14T00:00:00\", \"2019-04-15T00:00:00\", \"2019-04-16T00:00:00\", \"2019-04-17T00:00:00\", \"2019-04-18T00:00:00\", \"2019-04-19T00:00:00\", \"2019-04-20T00:00:00\", \"2019-04-21T00:00:00\", \"2019-04-22T00:00:00\", \"2019-04-23T00:00:00\", \"2019-04-24T00:00:00\", \"2019-04-25T00:00:00\", \"2019-04-26T00:00:00\", \"2019-04-27T00:00:00\", \"2019-04-28T00:00:00\", \"2019-04-29T00:00:00\", \"2019-04-30T00:00:00\", \"2019-05-01T00:00:00\", \"2019-05-02T00:00:00\", \"2019-05-03T00:00:00\", \"2019-05-04T00:00:00\", \"2019-05-05T00:00:00\", \"2019-05-06T00:00:00\", \"2019-05-07T00:00:00\", \"2019-05-08T00:00:00\", \"2019-05-09T00:00:00\", \"2019-05-10T00:00:00\", \"2019-05-11T00:00:00\", \"2019-05-12T00:00:00\", \"2019-05-13T00:00:00\", \"2019-05-14T00:00:00\", \"2019-05-15T00:00:00\", \"2019-05-16T00:00:00\", \"2019-05-17T00:00:00\", \"2019-05-18T00:00:00\", \"2019-05-19T00:00:00\", \"2019-05-20T00:00:00\", \"2019-05-21T00:00:00\", \"2019-05-22T00:00:00\", \"2019-05-23T00:00:00\", \"2019-05-24T00:00:00\", \"2019-05-25T00:00:00\", \"2019-05-26T00:00:00\", \"2019-05-27T00:00:00\", \"2019-05-28T00:00:00\", \"2019-05-29T00:00:00\", \"2019-05-30T00:00:00\", \"2019-05-31T00:00:00\", \"2019-06-01T00:00:00\", \"2019-06-02T00:00:00\", \"2019-06-03T00:00:00\", \"2019-06-04T00:00:00\", \"2019-06-05T00:00:00\", \"2019-06-06T00:00:00\", \"2019-06-07T00:00:00\", \"2019-06-08T00:00:00\", \"2019-06-09T00:00:00\", \"2019-06-10T00:00:00\", \"2019-06-11T00:00:00\", \"2019-06-12T00:00:00\", \"2019-06-13T00:00:00\", \"2019-06-14T00:00:00\", \"2019-06-15T00:00:00\", \"2019-06-16T00:00:00\", \"2019-06-17T00:00:00\", \"2019-06-18T00:00:00\", \"2019-06-19T00:00:00\", \"2019-06-20T00:00:00\", \"2019-06-21T00:00:00\", \"2019-06-22T00:00:00\", \"2019-06-23T00:00:00\", \"2019-06-24T00:00:00\", \"2019-06-25T00:00:00\", \"2019-06-26T00:00:00\", \"2019-06-27T00:00:00\", \"2019-06-28T00:00:00\", \"2019-06-29T00:00:00\", \"2019-06-30T00:00:00\", \"2019-07-01T00:00:00\", \"2019-07-02T00:00:00\", \"2019-07-03T00:00:00\", \"2019-07-04T00:00:00\", \"2019-07-05T00:00:00\", \"2019-07-06T00:00:00\", \"2019-07-07T00:00:00\", \"2019-07-08T00:00:00\", \"2019-07-09T00:00:00\", \"2019-07-10T00:00:00\", \"2019-07-11T00:00:00\", \"2019-07-12T00:00:00\", \"2019-07-13T00:00:00\", \"2019-07-14T00:00:00\", \"2019-07-15T00:00:00\", \"2019-07-16T00:00:00\", \"2019-07-17T00:00:00\", \"2019-07-18T00:00:00\", \"2019-07-19T00:00:00\", \"2019-07-20T00:00:00\", \"2019-07-21T00:00:00\", \"2019-07-22T00:00:00\", \"2019-07-23T00:00:00\", \"2019-07-24T00:00:00\", \"2019-07-25T00:00:00\", \"2019-07-26T00:00:00\", \"2019-07-27T00:00:00\", \"2019-07-28T00:00:00\", \"2019-07-29T00:00:00\", \"2019-07-30T00:00:00\", \"2019-07-31T00:00:00\", \"2019-08-01T00:00:00\", \"2019-08-02T00:00:00\", \"2019-08-03T00:00:00\", \"2019-08-04T00:00:00\", \"2019-08-05T00:00:00\", \"2019-08-06T00:00:00\", \"2019-08-07T00:00:00\", \"2019-08-08T00:00:00\", \"2019-08-09T00:00:00\", \"2019-08-10T00:00:00\", \"2019-08-11T00:00:00\", \"2019-08-12T00:00:00\", \"2019-08-13T00:00:00\", \"2019-08-14T00:00:00\", \"2019-08-15T00:00:00\", \"2019-08-16T00:00:00\", \"2019-08-17T00:00:00\", \"2019-08-18T00:00:00\", \"2019-08-19T00:00:00\", \"2019-08-20T00:00:00\", \"2019-08-21T00:00:00\", \"2019-08-22T00:00:00\", \"2019-08-23T00:00:00\", \"2019-08-24T00:00:00\", \"2019-08-25T00:00:00\", \"2019-08-26T00:00:00\", \"2019-08-27T00:00:00\", \"2019-08-28T00:00:00\", \"2019-08-29T00:00:00\", \"2019-08-30T00:00:00\", \"2019-08-31T00:00:00\", \"2019-09-01T00:00:00\", \"2019-09-02T00:00:00\", \"2019-09-03T00:00:00\", \"2019-09-04T00:00:00\", \"2019-09-05T00:00:00\", \"2019-09-06T00:00:00\", \"2019-09-07T00:00:00\", \"2019-09-08T00:00:00\", \"2019-09-09T00:00:00\", \"2019-09-10T00:00:00\", \"2019-09-11T00:00:00\", \"2019-09-12T00:00:00\", \"2019-09-13T00:00:00\", \"2019-09-14T00:00:00\", \"2019-09-15T00:00:00\", \"2019-09-16T00:00:00\", \"2019-09-17T00:00:00\", \"2019-09-18T00:00:00\", \"2019-09-19T00:00:00\", \"2019-09-20T00:00:00\", \"2019-09-21T00:00:00\", \"2019-09-22T00:00:00\", \"2019-09-23T00:00:00\", \"2019-09-24T00:00:00\", \"2019-09-25T00:00:00\", \"2019-09-26T00:00:00\", \"2019-09-27T00:00:00\", \"2019-09-28T00:00:00\", \"2019-09-29T00:00:00\", \"2019-09-30T00:00:00\", \"2019-10-01T00:00:00\", \"2019-10-02T00:00:00\", \"2019-10-03T00:00:00\", \"2019-10-04T00:00:00\", \"2019-10-05T00:00:00\", \"2019-10-06T00:00:00\", \"2019-10-07T00:00:00\", \"2019-10-08T00:00:00\", \"2019-10-09T00:00:00\", \"2019-10-10T00:00:00\", \"2019-10-11T00:00:00\", \"2019-10-12T00:00:00\", \"2019-10-13T00:00:00\", \"2019-10-14T00:00:00\", \"2019-10-15T00:00:00\", \"2019-10-16T00:00:00\", \"2019-10-17T00:00:00\", \"2019-10-18T00:00:00\", \"2019-10-19T00:00:00\", \"2019-10-20T00:00:00\", \"2019-10-21T00:00:00\", \"2019-10-22T00:00:00\", \"2019-10-23T00:00:00\", \"2019-10-24T00:00:00\", \"2019-10-25T00:00:00\", \"2019-10-26T00:00:00\", \"2019-10-27T00:00:00\", \"2019-10-28T00:00:00\", \"2019-10-29T00:00:00\", \"2019-10-30T00:00:00\", \"2019-10-31T00:00:00\", \"2019-11-01T00:00:00\", \"2019-11-02T00:00:00\", \"2019-11-03T00:00:00\", \"2019-11-04T00:00:00\", \"2019-11-05T00:00:00\", \"2019-11-06T00:00:00\", \"2019-11-07T00:00:00\", \"2019-11-08T00:00:00\", \"2019-11-09T00:00:00\", \"2019-11-10T00:00:00\", \"2019-11-11T00:00:00\", \"2019-11-12T00:00:00\", \"2019-11-13T00:00:00\", \"2019-11-14T00:00:00\", \"2019-11-15T00:00:00\", \"2019-11-16T00:00:00\", \"2019-11-17T00:00:00\", \"2019-11-18T00:00:00\", \"2019-11-19T00:00:00\", \"2019-11-20T00:00:00\", \"2019-11-21T00:00:00\", \"2019-11-22T00:00:00\", \"2019-11-23T00:00:00\", \"2019-11-24T00:00:00\", \"2019-11-25T00:00:00\", \"2019-11-26T00:00:00\", \"2019-11-27T00:00:00\", \"2019-11-28T00:00:00\", \"2019-11-29T00:00:00\", \"2019-11-30T00:00:00\", \"2019-12-01T00:00:00\", \"2019-12-02T00:00:00\", \"2019-12-03T00:00:00\", \"2019-12-04T00:00:00\", \"2019-12-05T00:00:00\", \"2019-12-06T00:00:00\", \"2019-12-07T00:00:00\", \"2019-12-08T00:00:00\", \"2019-12-09T00:00:00\", \"2019-12-10T00:00:00\", \"2019-12-11T00:00:00\", \"2019-12-12T00:00:00\", \"2019-12-13T00:00:00\", \"2019-12-14T00:00:00\", \"2019-12-15T00:00:00\", \"2019-12-16T00:00:00\", \"2019-12-17T00:00:00\", \"2019-12-18T00:00:00\", \"2019-12-19T00:00:00\", \"2019-12-20T00:00:00\", \"2019-12-21T00:00:00\", \"2019-12-22T00:00:00\", \"2019-12-23T00:00:00\", \"2019-12-24T00:00:00\", \"2019-12-25T00:00:00\", \"2019-12-26T00:00:00\", \"2019-12-27T00:00:00\", \"2019-12-28T00:00:00\", \"2019-12-29T00:00:00\", \"2019-12-30T00:00:00\", \"2019-12-31T00:00:00\"], \"xaxis\": \"x5\", \"y\": [1126.75, 1126.9, 1114.6, 1104.45, 1104.45, 1104.45, 1118.4, 1109.95, 1117.0, 1110.7, 1113.75, 1113.75, 1113.75, 1100.4, 1132.0, 1145.0, 1147.9, 1189.45, 1189.45, 1189.45, 1239.9, 1246.9, 1244.15, 1253.2, 1264.7, 1264.7, 1264.7, 1255.5, 1231.0, 1225.0, 1229.6, 1255.0, 1255.0, 1255.0, 1296.95, 1304.25, 1317.6, 1321.2, 1300.15, 1300.15, 1300.15, 1275.9, 1272.25, 1273.95, 1241.0, 1249.9, 1249.9, 1249.9, 1251.55, 1239.7, 1240.0, 1257.75, 1245.0, 1245.0, 1245.0, 1243.0, 1234.5, 1244.9, 1239.85, 1242.35, 1242.35, 1242.35, 1242.35, 1239.8, 1273.0, 1279.8, 1274.45, 1274.45, 1274.45, 1312.0, 1334.0, 1358.0, 1362.0, 1358.75, 1358.75, 1358.75, 1357.95, 1380.0, 1387.95, 1387.95, 1380.8, 1380.8, 1380.8, 1336.75, 1371.05, 1377.95, 1369.8, 1376.5, 1376.5, 1376.5, 1406.75, 1403.0, 1403.0, 1383.7, 1363.8, 1363.8, 1363.8, 1357.0, 1340.7, 1348.0, 1353.0, 1356.8, 1356.8, 1356.8, 1348.95, 1360.0, 1360.0, 1389.75, 1389.75, 1389.75, 1389.75, 1366.7, 1373.0, 1394.8, 1412.35, 1395.9, 1395.9, 1395.9, 1395.9, 1396.4, 1396.4, 1413.9, 1417.5, 1417.5, 1417.5, 1402.7, 1394.8, 1340.0, null, null, null, null, null, null, null, null, null, null, null, null, null, null, null, null, null, null, null, null, null, null, null, null, null, null, null, null, null, null, null, null, null, null, null, null, null, null, null, null, null, null, null, null, null, null, null, null, null, null, null, null, null, null, null, null, null, null, null, null, null, null, null, null, null, null, null, null, null, null, null, null, null, null, null, null, null, null, null, null, null, null, null, null, null, null, null, null, null, null, null, null, null, null, null, null, null, null, null, null, null, null, null, null, null, null, null, null, null, null, null, null, null, null, null, null, null, null, null, null, null, null, null, null, null, null, null, null, null, null, null, null, null, null, null, null, null, null, null, null, null, null, null, null, null, null, null, null, null, null, null, null, null, null, null, null, null, null, null, null, null, null, null, null, null, null, null, null, null, null, null, null, null, null, null, null, null, null, null, null, null, null, null, null, null, null, null, null, null, null, null, null, null, null, null, null, null, null, null, null, null, null, null, null, null, null, null, null, null, null, null, null, null, null, null, null, null, null, null, null, null, null, null, null, null, null, null, null, null, null, null, null, null, null, null, null, null], \"yaxis\": \"y5\"}],                        {\"height\": 1000, \"template\": {\"data\": {\"bar\": [{\"error_x\": {\"color\": \"#2a3f5f\"}, \"error_y\": {\"color\": \"#2a3f5f\"}, \"marker\": {\"line\": {\"color\": \"#E5ECF6\", \"width\": 0.5}}, \"type\": \"bar\"}], \"barpolar\": [{\"marker\": {\"line\": {\"color\": \"#E5ECF6\", \"width\": 0.5}}, \"type\": \"barpolar\"}], \"carpet\": [{\"aaxis\": {\"endlinecolor\": \"#2a3f5f\", \"gridcolor\": \"white\", \"linecolor\": \"white\", \"minorgridcolor\": \"white\", \"startlinecolor\": \"#2a3f5f\"}, \"baxis\": {\"endlinecolor\": \"#2a3f5f\", \"gridcolor\": \"white\", \"linecolor\": \"white\", \"minorgridcolor\": \"white\", \"startlinecolor\": \"#2a3f5f\"}, \"type\": \"carpet\"}], \"choropleth\": [{\"colorbar\": {\"outlinewidth\": 0, \"ticks\": \"\"}, \"type\": \"choropleth\"}], \"contour\": [{\"colorbar\": {\"outlinewidth\": 0, \"ticks\": \"\"}, \"colorscale\": [[0.0, \"#0d0887\"], [0.1111111111111111, \"#46039f\"], [0.2222222222222222, \"#7201a8\"], [0.3333333333333333, \"#9c179e\"], [0.4444444444444444, \"#bd3786\"], [0.5555555555555556, \"#d8576b\"], [0.6666666666666666, \"#ed7953\"], [0.7777777777777778, \"#fb9f3a\"], [0.8888888888888888, \"#fdca26\"], [1.0, \"#f0f921\"]], \"type\": \"contour\"}], \"contourcarpet\": [{\"colorbar\": {\"outlinewidth\": 0, \"ticks\": \"\"}, \"type\": \"contourcarpet\"}], \"heatmap\": [{\"colorbar\": {\"outlinewidth\": 0, \"ticks\": \"\"}, \"colorscale\": [[0.0, \"#0d0887\"], [0.1111111111111111, \"#46039f\"], [0.2222222222222222, \"#7201a8\"], [0.3333333333333333, \"#9c179e\"], [0.4444444444444444, \"#bd3786\"], [0.5555555555555556, \"#d8576b\"], [0.6666666666666666, \"#ed7953\"], [0.7777777777777778, \"#fb9f3a\"], [0.8888888888888888, \"#fdca26\"], [1.0, \"#f0f921\"]], \"type\": \"heatmap\"}], \"heatmapgl\": [{\"colorbar\": {\"outlinewidth\": 0, \"ticks\": \"\"}, \"colorscale\": [[0.0, \"#0d0887\"], [0.1111111111111111, \"#46039f\"], [0.2222222222222222, \"#7201a8\"], [0.3333333333333333, \"#9c179e\"], [0.4444444444444444, \"#bd3786\"], [0.5555555555555556, \"#d8576b\"], [0.6666666666666666, \"#ed7953\"], [0.7777777777777778, \"#fb9f3a\"], [0.8888888888888888, \"#fdca26\"], [1.0, \"#f0f921\"]], \"type\": \"heatmapgl\"}], \"histogram\": [{\"marker\": {\"colorbar\": {\"outlinewidth\": 0, \"ticks\": \"\"}}, \"type\": \"histogram\"}], \"histogram2d\": [{\"colorbar\": {\"outlinewidth\": 0, \"ticks\": \"\"}, \"colorscale\": [[0.0, \"#0d0887\"], [0.1111111111111111, \"#46039f\"], [0.2222222222222222, \"#7201a8\"], [0.3333333333333333, \"#9c179e\"], [0.4444444444444444, \"#bd3786\"], [0.5555555555555556, \"#d8576b\"], [0.6666666666666666, \"#ed7953\"], [0.7777777777777778, \"#fb9f3a\"], [0.8888888888888888, \"#fdca26\"], [1.0, \"#f0f921\"]], \"type\": \"histogram2d\"}], \"histogram2dcontour\": [{\"colorbar\": {\"outlinewidth\": 0, \"ticks\": \"\"}, \"colorscale\": [[0.0, \"#0d0887\"], [0.1111111111111111, \"#46039f\"], [0.2222222222222222, \"#7201a8\"], [0.3333333333333333, \"#9c179e\"], [0.4444444444444444, \"#bd3786\"], [0.5555555555555556, \"#d8576b\"], [0.6666666666666666, \"#ed7953\"], [0.7777777777777778, \"#fb9f3a\"], [0.8888888888888888, \"#fdca26\"], [1.0, \"#f0f921\"]], \"type\": \"histogram2dcontour\"}], \"mesh3d\": [{\"colorbar\": {\"outlinewidth\": 0, \"ticks\": \"\"}, \"type\": \"mesh3d\"}], \"parcoords\": [{\"line\": {\"colorbar\": {\"outlinewidth\": 0, \"ticks\": \"\"}}, \"type\": \"parcoords\"}], \"pie\": [{\"automargin\": true, \"type\": \"pie\"}], \"scatter\": [{\"marker\": {\"colorbar\": {\"outlinewidth\": 0, \"ticks\": \"\"}}, \"type\": \"scatter\"}], \"scatter3d\": [{\"line\": {\"colorbar\": {\"outlinewidth\": 0, \"ticks\": \"\"}}, \"marker\": {\"colorbar\": {\"outlinewidth\": 0, \"ticks\": \"\"}}, \"type\": \"scatter3d\"}], \"scattercarpet\": [{\"marker\": {\"colorbar\": {\"outlinewidth\": 0, \"ticks\": \"\"}}, \"type\": \"scattercarpet\"}], \"scattergeo\": [{\"marker\": {\"colorbar\": {\"outlinewidth\": 0, \"ticks\": \"\"}}, \"type\": \"scattergeo\"}], \"scattergl\": [{\"marker\": {\"colorbar\": {\"outlinewidth\": 0, \"ticks\": \"\"}}, \"type\": \"scattergl\"}], \"scattermapbox\": [{\"marker\": {\"colorbar\": {\"outlinewidth\": 0, \"ticks\": \"\"}}, \"type\": \"scattermapbox\"}], \"scatterpolar\": [{\"marker\": {\"colorbar\": {\"outlinewidth\": 0, \"ticks\": \"\"}}, \"type\": \"scatterpolar\"}], \"scatterpolargl\": [{\"marker\": {\"colorbar\": {\"outlinewidth\": 0, \"ticks\": \"\"}}, \"type\": \"scatterpolargl\"}], \"scatterternary\": [{\"marker\": {\"colorbar\": {\"outlinewidth\": 0, \"ticks\": \"\"}}, \"type\": \"scatterternary\"}], \"surface\": [{\"colorbar\": {\"outlinewidth\": 0, \"ticks\": \"\"}, \"colorscale\": [[0.0, \"#0d0887\"], [0.1111111111111111, \"#46039f\"], [0.2222222222222222, \"#7201a8\"], [0.3333333333333333, \"#9c179e\"], [0.4444444444444444, \"#bd3786\"], [0.5555555555555556, \"#d8576b\"], [0.6666666666666666, \"#ed7953\"], [0.7777777777777778, \"#fb9f3a\"], [0.8888888888888888, \"#fdca26\"], [1.0, \"#f0f921\"]], \"type\": \"surface\"}], \"table\": [{\"cells\": {\"fill\": {\"color\": \"#EBF0F8\"}, \"line\": {\"color\": \"white\"}}, \"header\": {\"fill\": {\"color\": \"#C8D4E3\"}, \"line\": {\"color\": \"white\"}}, \"type\": \"table\"}]}, \"layout\": {\"annotationdefaults\": {\"arrowcolor\": \"#2a3f5f\", \"arrowhead\": 0, \"arrowwidth\": 1}, \"autotypenumbers\": \"strict\", \"coloraxis\": {\"colorbar\": {\"outlinewidth\": 0, \"ticks\": \"\"}}, \"colorscale\": {\"diverging\": [[0, \"#8e0152\"], [0.1, \"#c51b7d\"], [0.2, \"#de77ae\"], [0.3, \"#f1b6da\"], [0.4, \"#fde0ef\"], [0.5, \"#f7f7f7\"], [0.6, \"#e6f5d0\"], [0.7, \"#b8e186\"], [0.8, \"#7fbc41\"], [0.9, \"#4d9221\"], [1, \"#276419\"]], \"sequential\": [[0.0, \"#0d0887\"], [0.1111111111111111, \"#46039f\"], [0.2222222222222222, \"#7201a8\"], [0.3333333333333333, \"#9c179e\"], [0.4444444444444444, \"#bd3786\"], [0.5555555555555556, \"#d8576b\"], [0.6666666666666666, \"#ed7953\"], [0.7777777777777778, \"#fb9f3a\"], [0.8888888888888888, \"#fdca26\"], [1.0, \"#f0f921\"]], \"sequentialminus\": [[0.0, \"#0d0887\"], [0.1111111111111111, \"#46039f\"], [0.2222222222222222, \"#7201a8\"], [0.3333333333333333, \"#9c179e\"], [0.4444444444444444, \"#bd3786\"], [0.5555555555555556, \"#d8576b\"], [0.6666666666666666, \"#ed7953\"], [0.7777777777777778, \"#fb9f3a\"], [0.8888888888888888, \"#fdca26\"], [1.0, \"#f0f921\"]]}, \"colorway\": [\"#636efa\", \"#EF553B\", \"#00cc96\", \"#ab63fa\", \"#FFA15A\", \"#19d3f3\", \"#FF6692\", \"#B6E880\", \"#FF97FF\", \"#FECB52\"], \"font\": {\"color\": \"#2a3f5f\"}, \"geo\": {\"bgcolor\": \"white\", \"lakecolor\": \"white\", \"landcolor\": \"#E5ECF6\", \"showlakes\": true, \"showland\": true, \"subunitcolor\": \"white\"}, \"hoverlabel\": {\"align\": \"left\"}, \"hovermode\": \"closest\", \"mapbox\": {\"style\": \"light\"}, \"paper_bgcolor\": \"white\", \"plot_bgcolor\": \"#E5ECF6\", \"polar\": {\"angularaxis\": {\"gridcolor\": \"white\", \"linecolor\": \"white\", \"ticks\": \"\"}, \"bgcolor\": \"#E5ECF6\", \"radialaxis\": {\"gridcolor\": \"white\", \"linecolor\": \"white\", \"ticks\": \"\"}}, \"scene\": {\"xaxis\": {\"backgroundcolor\": \"#E5ECF6\", \"gridcolor\": \"white\", \"gridwidth\": 2, \"linecolor\": \"white\", \"showbackground\": true, \"ticks\": \"\", \"zerolinecolor\": \"white\"}, \"yaxis\": {\"backgroundcolor\": \"#E5ECF6\", \"gridcolor\": \"white\", \"gridwidth\": 2, \"linecolor\": \"white\", \"showbackground\": true, \"ticks\": \"\", \"zerolinecolor\": \"white\"}, \"zaxis\": {\"backgroundcolor\": \"#E5ECF6\", \"gridcolor\": \"white\", \"gridwidth\": 2, \"linecolor\": \"white\", \"showbackground\": true, \"ticks\": \"\", \"zerolinecolor\": \"white\"}}, \"shapedefaults\": {\"line\": {\"color\": \"#2a3f5f\"}}, \"ternary\": {\"aaxis\": {\"gridcolor\": \"white\", \"linecolor\": \"white\", \"ticks\": \"\"}, \"baxis\": {\"gridcolor\": \"white\", \"linecolor\": \"white\", \"ticks\": \"\"}, \"bgcolor\": \"#E5ECF6\", \"caxis\": {\"gridcolor\": \"white\", \"linecolor\": \"white\", \"ticks\": \"\"}}, \"title\": {\"x\": 0.05}, \"xaxis\": {\"automargin\": true, \"gridcolor\": \"white\", \"linecolor\": \"white\", \"ticks\": \"\", \"title\": {\"standoff\": 15}, \"zerolinecolor\": \"white\", \"zerolinewidth\": 2}, \"yaxis\": {\"automargin\": true, \"gridcolor\": \"white\", \"linecolor\": \"white\", \"ticks\": \"\", \"title\": {\"standoff\": 15}, \"zerolinecolor\": \"white\", \"zerolinewidth\": 2}}}, \"title\": {\"text\": \"Reliance Stock Prices Yearly\"}, \"width\": 800, \"xaxis\": {\"anchor\": \"y\", \"domain\": [0.0, 1.0], \"showticklabels\": false}, \"xaxis2\": {\"anchor\": \"y2\", \"domain\": [0.0, 1.0], \"showticklabels\": false}, \"xaxis3\": {\"anchor\": \"y3\", \"domain\": [0.0, 1.0], \"showticklabels\": false}, \"xaxis4\": {\"anchor\": \"y4\", \"domain\": [0.0, 1.0], \"showticklabels\": false}, \"xaxis5\": {\"anchor\": \"y5\", \"domain\": [0.0, 1.0], \"tickformat\": \"%B\"}, \"yaxis\": {\"anchor\": \"x\", \"domain\": [0.816, 1.0]}, \"yaxis2\": {\"anchor\": \"x2\", \"domain\": [0.6120000000000001, 0.796]}, \"yaxis3\": {\"anchor\": \"x3\", \"domain\": [0.408, 0.592]}, \"yaxis4\": {\"anchor\": \"x4\", \"domain\": [0.204, 0.388]}, \"yaxis5\": {\"anchor\": \"x5\", \"domain\": [0.0, 0.184]}},                        {\"responsive\": true}                    ).then(function(){\n",
       "                            \n",
       "var gd = document.getElementById('86767841-0cb4-49e2-b114-e95da611c6ef');\n",
       "var x = new MutationObserver(function (mutations, observer) {{\n",
       "        var display = window.getComputedStyle(gd).display;\n",
       "        if (!display || display === 'none') {{\n",
       "            console.log([gd, 'removed!']);\n",
       "            Plotly.purge(gd);\n",
       "            observer.disconnect();\n",
       "        }}\n",
       "}});\n",
       "\n",
       "// Listen for the removal of the full notebook cells\n",
       "var notebookContainer = gd.closest('#notebook-container');\n",
       "if (notebookContainer) {{\n",
       "    x.observe(notebookContainer, {childList: true});\n",
       "}}\n",
       "\n",
       "// Listen for the clearing of the current output cell\n",
       "var outputEl = gd.closest('.output');\n",
       "if (outputEl) {{\n",
       "    x.observe(outputEl, {childList: true});\n",
       "}}\n",
       "\n",
       "                        })                };                });            </script>        </div>"
      ]
     },
     "metadata": {},
     "output_type": "display_data"
    }
   ],
   "source": [
    "fig = make_subplots(rows=5, cols=1, start_cell=\"top-left\", vertical_spacing=0.02)\n",
    "\n",
    "fig.add_trace(go.Scatter(x=df_15['date'], y=df_15.fillna(method='ffill')['high'], name=2015), row=1, col=1)\n",
    "\n",
    "fig.add_trace(go.Scatter(x=df_16['date'], y=df_16.fillna(method='ffill')['high'], name=2016), row=2, col=1)\n",
    "\n",
    "fig.add_trace(go.Scatter(x=df_17['date'], y=df_17.fillna(method='ffill')['high'], name=2017), row=3, col=1)\n",
    "\n",
    "fig.add_trace(go.Scatter(x=df_18['date'], y=df_18.fillna(method='ffill')['high'], name=2018), row=4, col=1)\n",
    "\n",
    "fig.add_trace(go.Scatter(x=df_19['date'], y=df_19['high'], name=2019), row=5, col=1)\n",
    "\n",
    "fig.update_layout(height=1000, width=800, \n",
    "                  title=\"Reliance Stock Prices Yearly\",\n",
    "                  xaxis1=dict(\n",
    "                      showticklabels=False\n",
    "                  ),\n",
    "                  xaxis2=dict(\n",
    "                      showticklabels=False\n",
    "                  ),\n",
    "                  xaxis3=dict(\n",
    "                      showticklabels=False\n",
    "                  ),\n",
    "                  xaxis4=dict(\n",
    "                      showticklabels=False\n",
    "                  ),\n",
    "                  xaxis5_tickformat='%B',\n",
    "                 )"
   ]
  },
  {
   "cell_type": "code",
   "execution_count": 22,
   "id": "phantom-eugene",
   "metadata": {
    "_kg_hide-output": true,
    "execution": {
     "iopub.execute_input": "2021-05-31T18:42:51.157338Z",
     "iopub.status.busy": "2021-05-31T18:42:51.156648Z",
     "iopub.status.idle": "2021-05-31T18:42:51.166661Z",
     "shell.execute_reply": "2021-05-31T18:42:51.167208Z",
     "shell.execute_reply.started": "2021-05-31T17:08:50.193704Z"
    },
    "papermill": {
     "duration": 0.059134,
     "end_time": "2021-05-31T18:42:51.167391",
     "exception": false,
     "start_time": "2021-05-31T18:42:51.108257",
     "status": "completed"
    },
    "tags": []
   },
   "outputs": [
    {
     "data": {
      "text/html": [
       "<div>\n",
       "<style scoped>\n",
       "    .dataframe tbody tr th:only-of-type {\n",
       "        vertical-align: middle;\n",
       "    }\n",
       "\n",
       "    .dataframe tbody tr th {\n",
       "        vertical-align: top;\n",
       "    }\n",
       "\n",
       "    .dataframe thead th {\n",
       "        text-align: right;\n",
       "    }\n",
       "</style>\n",
       "<table border=\"1\" class=\"dataframe\">\n",
       "  <thead>\n",
       "    <tr style=\"text-align: right;\">\n",
       "      <th></th>\n",
       "      <th>volume</th>\n",
       "    </tr>\n",
       "    <tr>\n",
       "      <th>year</th>\n",
       "      <th></th>\n",
       "    </tr>\n",
       "  </thead>\n",
       "  <tbody>\n",
       "    <tr>\n",
       "      <th>2015</th>\n",
       "      <td>1571097940</td>\n",
       "    </tr>\n",
       "    <tr>\n",
       "      <th>2016</th>\n",
       "      <td>1775671062</td>\n",
       "    </tr>\n",
       "    <tr>\n",
       "      <th>2017</th>\n",
       "      <td>2099157497</td>\n",
       "    </tr>\n",
       "    <tr>\n",
       "      <th>2018</th>\n",
       "      <td>1939419623</td>\n",
       "    </tr>\n",
       "    <tr>\n",
       "      <th>2019</th>\n",
       "      <td>786035522</td>\n",
       "    </tr>\n",
       "  </tbody>\n",
       "</table>\n",
       "</div>"
      ],
      "text/plain": [
       "          volume\n",
       "year            \n",
       "2015  1571097940\n",
       "2016  1775671062\n",
       "2017  2099157497\n",
       "2018  1939419623\n",
       "2019   786035522"
      ]
     },
     "execution_count": 22,
     "metadata": {},
     "output_type": "execute_result"
    }
   ],
   "source": [
    "df_year = temp1.copy()\n",
    "df_year['year'] = df_year['date'].dt.year\n",
    "df_year = df_year.groupby(['year']).agg({'volume': 'sum'})\n",
    "df_year"
   ]
  },
  {
   "cell_type": "code",
   "execution_count": 23,
   "id": "missing-hypothetical",
   "metadata": {
    "execution": {
     "iopub.execute_input": "2021-05-31T18:42:51.258441Z",
     "iopub.status.busy": "2021-05-31T18:42:51.257752Z",
     "iopub.status.idle": "2021-05-31T18:42:51.286332Z",
     "shell.execute_reply": "2021-05-31T18:42:51.285696Z",
     "shell.execute_reply.started": "2021-05-31T17:08:50.213543Z"
    },
    "papermill": {
     "duration": 0.07492,
     "end_time": "2021-05-31T18:42:51.286468",
     "exception": false,
     "start_time": "2021-05-31T18:42:51.211548",
     "status": "completed"
    },
    "tags": []
   },
   "outputs": [
    {
     "data": {
      "text/html": [
       "<div>                            <div id=\"9c0d86a2-752b-4681-a9f0-4e63ef0c121b\" class=\"plotly-graph-div\" style=\"height:525px; width:100%;\"></div>            <script type=\"text/javascript\">                require([\"plotly\"], function(Plotly) {                    window.PLOTLYENV=window.PLOTLYENV || {};                                    if (document.getElementById(\"9c0d86a2-752b-4681-a9f0-4e63ef0c121b\")) {                    Plotly.newPlot(                        \"9c0d86a2-752b-4681-a9f0-4e63ef0c121b\",                        [{\"marker\": {\"color\": [\"#636EFA\", \"#636EFA\", \"#636EFA\", \"#636EFA\", \"#EF553B\"]}, \"type\": \"bar\", \"x\": [2015, 2016, 2017, 2018, 2019], \"y\": [1571097940, 1775671062, 2099157497, 1939419623, 786035522]}],                        {\"annotations\": [{\"font\": {\"color\": \"white\"}, \"opacity\": 0.7, \"showarrow\": false, \"text\": \"Till May\", \"x\": 2019, \"y\": 700000000}], \"template\": {\"data\": {\"bar\": [{\"error_x\": {\"color\": \"#2a3f5f\"}, \"error_y\": {\"color\": \"#2a3f5f\"}, \"marker\": {\"line\": {\"color\": \"#E5ECF6\", \"width\": 0.5}}, \"type\": \"bar\"}], \"barpolar\": [{\"marker\": {\"line\": {\"color\": \"#E5ECF6\", \"width\": 0.5}}, \"type\": \"barpolar\"}], \"carpet\": [{\"aaxis\": {\"endlinecolor\": \"#2a3f5f\", \"gridcolor\": \"white\", \"linecolor\": \"white\", \"minorgridcolor\": \"white\", \"startlinecolor\": \"#2a3f5f\"}, \"baxis\": {\"endlinecolor\": \"#2a3f5f\", \"gridcolor\": \"white\", \"linecolor\": \"white\", \"minorgridcolor\": \"white\", \"startlinecolor\": \"#2a3f5f\"}, \"type\": \"carpet\"}], \"choropleth\": [{\"colorbar\": {\"outlinewidth\": 0, \"ticks\": \"\"}, \"type\": \"choropleth\"}], \"contour\": [{\"colorbar\": {\"outlinewidth\": 0, \"ticks\": \"\"}, \"colorscale\": [[0.0, \"#0d0887\"], [0.1111111111111111, \"#46039f\"], [0.2222222222222222, \"#7201a8\"], [0.3333333333333333, \"#9c179e\"], [0.4444444444444444, \"#bd3786\"], [0.5555555555555556, \"#d8576b\"], [0.6666666666666666, \"#ed7953\"], [0.7777777777777778, \"#fb9f3a\"], [0.8888888888888888, \"#fdca26\"], [1.0, \"#f0f921\"]], \"type\": \"contour\"}], \"contourcarpet\": [{\"colorbar\": {\"outlinewidth\": 0, \"ticks\": \"\"}, \"type\": \"contourcarpet\"}], \"heatmap\": [{\"colorbar\": {\"outlinewidth\": 0, \"ticks\": \"\"}, \"colorscale\": [[0.0, \"#0d0887\"], [0.1111111111111111, \"#46039f\"], [0.2222222222222222, \"#7201a8\"], [0.3333333333333333, \"#9c179e\"], [0.4444444444444444, \"#bd3786\"], [0.5555555555555556, \"#d8576b\"], [0.6666666666666666, \"#ed7953\"], [0.7777777777777778, \"#fb9f3a\"], [0.8888888888888888, \"#fdca26\"], [1.0, \"#f0f921\"]], \"type\": \"heatmap\"}], \"heatmapgl\": [{\"colorbar\": {\"outlinewidth\": 0, \"ticks\": \"\"}, \"colorscale\": [[0.0, \"#0d0887\"], [0.1111111111111111, \"#46039f\"], [0.2222222222222222, \"#7201a8\"], [0.3333333333333333, \"#9c179e\"], [0.4444444444444444, \"#bd3786\"], [0.5555555555555556, \"#d8576b\"], [0.6666666666666666, \"#ed7953\"], [0.7777777777777778, \"#fb9f3a\"], [0.8888888888888888, \"#fdca26\"], [1.0, \"#f0f921\"]], \"type\": \"heatmapgl\"}], \"histogram\": [{\"marker\": {\"colorbar\": {\"outlinewidth\": 0, \"ticks\": \"\"}}, \"type\": \"histogram\"}], \"histogram2d\": [{\"colorbar\": {\"outlinewidth\": 0, \"ticks\": \"\"}, \"colorscale\": [[0.0, \"#0d0887\"], [0.1111111111111111, \"#46039f\"], [0.2222222222222222, \"#7201a8\"], [0.3333333333333333, \"#9c179e\"], [0.4444444444444444, \"#bd3786\"], [0.5555555555555556, \"#d8576b\"], [0.6666666666666666, \"#ed7953\"], [0.7777777777777778, \"#fb9f3a\"], [0.8888888888888888, \"#fdca26\"], [1.0, \"#f0f921\"]], \"type\": \"histogram2d\"}], \"histogram2dcontour\": [{\"colorbar\": {\"outlinewidth\": 0, \"ticks\": \"\"}, \"colorscale\": [[0.0, \"#0d0887\"], [0.1111111111111111, \"#46039f\"], [0.2222222222222222, \"#7201a8\"], [0.3333333333333333, \"#9c179e\"], [0.4444444444444444, \"#bd3786\"], [0.5555555555555556, \"#d8576b\"], [0.6666666666666666, \"#ed7953\"], [0.7777777777777778, \"#fb9f3a\"], [0.8888888888888888, \"#fdca26\"], [1.0, \"#f0f921\"]], \"type\": \"histogram2dcontour\"}], \"mesh3d\": [{\"colorbar\": {\"outlinewidth\": 0, \"ticks\": \"\"}, \"type\": \"mesh3d\"}], \"parcoords\": [{\"line\": {\"colorbar\": {\"outlinewidth\": 0, \"ticks\": \"\"}}, \"type\": \"parcoords\"}], \"pie\": [{\"automargin\": true, \"type\": \"pie\"}], \"scatter\": [{\"marker\": {\"colorbar\": {\"outlinewidth\": 0, \"ticks\": \"\"}}, \"type\": \"scatter\"}], \"scatter3d\": [{\"line\": {\"colorbar\": {\"outlinewidth\": 0, \"ticks\": \"\"}}, \"marker\": {\"colorbar\": {\"outlinewidth\": 0, \"ticks\": \"\"}}, \"type\": \"scatter3d\"}], \"scattercarpet\": [{\"marker\": {\"colorbar\": {\"outlinewidth\": 0, \"ticks\": \"\"}}, \"type\": \"scattercarpet\"}], \"scattergeo\": [{\"marker\": {\"colorbar\": {\"outlinewidth\": 0, \"ticks\": \"\"}}, \"type\": \"scattergeo\"}], \"scattergl\": [{\"marker\": {\"colorbar\": {\"outlinewidth\": 0, \"ticks\": \"\"}}, \"type\": \"scattergl\"}], \"scattermapbox\": [{\"marker\": {\"colorbar\": {\"outlinewidth\": 0, \"ticks\": \"\"}}, \"type\": \"scattermapbox\"}], \"scatterpolar\": [{\"marker\": {\"colorbar\": {\"outlinewidth\": 0, \"ticks\": \"\"}}, \"type\": \"scatterpolar\"}], \"scatterpolargl\": [{\"marker\": {\"colorbar\": {\"outlinewidth\": 0, \"ticks\": \"\"}}, \"type\": \"scatterpolargl\"}], \"scatterternary\": [{\"marker\": {\"colorbar\": {\"outlinewidth\": 0, \"ticks\": \"\"}}, \"type\": \"scatterternary\"}], \"surface\": [{\"colorbar\": {\"outlinewidth\": 0, \"ticks\": \"\"}, \"colorscale\": [[0.0, \"#0d0887\"], [0.1111111111111111, \"#46039f\"], [0.2222222222222222, \"#7201a8\"], [0.3333333333333333, \"#9c179e\"], [0.4444444444444444, \"#bd3786\"], [0.5555555555555556, \"#d8576b\"], [0.6666666666666666, \"#ed7953\"], [0.7777777777777778, \"#fb9f3a\"], [0.8888888888888888, \"#fdca26\"], [1.0, \"#f0f921\"]], \"type\": \"surface\"}], \"table\": [{\"cells\": {\"fill\": {\"color\": \"#EBF0F8\"}, \"line\": {\"color\": \"white\"}}, \"header\": {\"fill\": {\"color\": \"#C8D4E3\"}, \"line\": {\"color\": \"white\"}}, \"type\": \"table\"}]}, \"layout\": {\"annotationdefaults\": {\"arrowcolor\": \"#2a3f5f\", \"arrowhead\": 0, \"arrowwidth\": 1}, \"autotypenumbers\": \"strict\", \"coloraxis\": {\"colorbar\": {\"outlinewidth\": 0, \"ticks\": \"\"}}, \"colorscale\": {\"diverging\": [[0, \"#8e0152\"], [0.1, \"#c51b7d\"], [0.2, \"#de77ae\"], [0.3, \"#f1b6da\"], [0.4, \"#fde0ef\"], [0.5, \"#f7f7f7\"], [0.6, \"#e6f5d0\"], [0.7, \"#b8e186\"], [0.8, \"#7fbc41\"], [0.9, \"#4d9221\"], [1, \"#276419\"]], \"sequential\": [[0.0, \"#0d0887\"], [0.1111111111111111, \"#46039f\"], [0.2222222222222222, \"#7201a8\"], [0.3333333333333333, \"#9c179e\"], [0.4444444444444444, \"#bd3786\"], [0.5555555555555556, \"#d8576b\"], [0.6666666666666666, \"#ed7953\"], [0.7777777777777778, \"#fb9f3a\"], [0.8888888888888888, \"#fdca26\"], [1.0, \"#f0f921\"]], \"sequentialminus\": [[0.0, \"#0d0887\"], [0.1111111111111111, \"#46039f\"], [0.2222222222222222, \"#7201a8\"], [0.3333333333333333, \"#9c179e\"], [0.4444444444444444, \"#bd3786\"], [0.5555555555555556, \"#d8576b\"], [0.6666666666666666, \"#ed7953\"], [0.7777777777777778, \"#fb9f3a\"], [0.8888888888888888, \"#fdca26\"], [1.0, \"#f0f921\"]]}, \"colorway\": [\"#636efa\", \"#EF553B\", \"#00cc96\", \"#ab63fa\", \"#FFA15A\", \"#19d3f3\", \"#FF6692\", \"#B6E880\", \"#FF97FF\", \"#FECB52\"], \"font\": {\"color\": \"#2a3f5f\"}, \"geo\": {\"bgcolor\": \"white\", \"lakecolor\": \"white\", \"landcolor\": \"#E5ECF6\", \"showlakes\": true, \"showland\": true, \"subunitcolor\": \"white\"}, \"hoverlabel\": {\"align\": \"left\"}, \"hovermode\": \"closest\", \"mapbox\": {\"style\": \"light\"}, \"paper_bgcolor\": \"white\", \"plot_bgcolor\": \"#E5ECF6\", \"polar\": {\"angularaxis\": {\"gridcolor\": \"white\", \"linecolor\": \"white\", \"ticks\": \"\"}, \"bgcolor\": \"#E5ECF6\", \"radialaxis\": {\"gridcolor\": \"white\", \"linecolor\": \"white\", \"ticks\": \"\"}}, \"scene\": {\"xaxis\": {\"backgroundcolor\": \"#E5ECF6\", \"gridcolor\": \"white\", \"gridwidth\": 2, \"linecolor\": \"white\", \"showbackground\": true, \"ticks\": \"\", \"zerolinecolor\": \"white\"}, \"yaxis\": {\"backgroundcolor\": \"#E5ECF6\", \"gridcolor\": \"white\", \"gridwidth\": 2, \"linecolor\": \"white\", \"showbackground\": true, \"ticks\": \"\", \"zerolinecolor\": \"white\"}, \"zaxis\": {\"backgroundcolor\": \"#E5ECF6\", \"gridcolor\": \"white\", \"gridwidth\": 2, \"linecolor\": \"white\", \"showbackground\": true, \"ticks\": \"\", \"zerolinecolor\": \"white\"}}, \"shapedefaults\": {\"line\": {\"color\": \"#2a3f5f\"}}, \"ternary\": {\"aaxis\": {\"gridcolor\": \"white\", \"linecolor\": \"white\", \"ticks\": \"\"}, \"baxis\": {\"gridcolor\": \"white\", \"linecolor\": \"white\", \"ticks\": \"\"}, \"bgcolor\": \"#E5ECF6\", \"caxis\": {\"gridcolor\": \"white\", \"linecolor\": \"white\", \"ticks\": \"\"}}, \"title\": {\"x\": 0.05}, \"xaxis\": {\"automargin\": true, \"gridcolor\": \"white\", \"linecolor\": \"white\", \"ticks\": \"\", \"title\": {\"standoff\": 15}, \"zerolinecolor\": \"white\", \"zerolinewidth\": 2}, \"yaxis\": {\"automargin\": true, \"gridcolor\": \"white\", \"linecolor\": \"white\", \"ticks\": \"\", \"title\": {\"standoff\": 15}, \"zerolinecolor\": \"white\", \"zerolinewidth\": 2}}}, \"title\": {\"text\": \"Total Volume traded\"}, \"yaxis\": {\"title\": {\"text\": \"Volume\"}}},                        {\"responsive\": true}                    ).then(function(){\n",
       "                            \n",
       "var gd = document.getElementById('9c0d86a2-752b-4681-a9f0-4e63ef0c121b');\n",
       "var x = new MutationObserver(function (mutations, observer) {{\n",
       "        var display = window.getComputedStyle(gd).display;\n",
       "        if (!display || display === 'none') {{\n",
       "            console.log([gd, 'removed!']);\n",
       "            Plotly.purge(gd);\n",
       "            observer.disconnect();\n",
       "        }}\n",
       "}});\n",
       "\n",
       "// Listen for the removal of the full notebook cells\n",
       "var notebookContainer = gd.closest('#notebook-container');\n",
       "if (notebookContainer) {{\n",
       "    x.observe(notebookContainer, {childList: true});\n",
       "}}\n",
       "\n",
       "// Listen for the clearing of the current output cell\n",
       "var outputEl = gd.closest('.output');\n",
       "if (outputEl) {{\n",
       "    x.observe(outputEl, {childList: true});\n",
       "}}\n",
       "\n",
       "                        })                };                });            </script>        </div>"
      ]
     },
     "metadata": {},
     "output_type": "display_data"
    }
   ],
   "source": [
    "fig = go.Figure()\n",
    "\n",
    "fig.add_trace(go.Bar(x=df_year.index, y=df_year.volume,\n",
    "                     marker_color=['#636EFA','#636EFA','#636EFA','#636EFA','#EF553B']\n",
    "                    ))\n",
    "\n",
    "fig.add_annotation(x=2019, y=700000000, \n",
    "                   text=\"Till May\", \n",
    "                   showarrow=False, \n",
    "                   opacity=0.7,\n",
    "                   font_color=\"white\"\n",
    "                  )\n",
    "\n",
    "fig.update_layout(title=\"Total Volume traded\", yaxis_title=\"Volume\")\n",
    "fig.show()"
   ]
  },
  {
   "cell_type": "code",
   "execution_count": 24,
   "id": "objective-upset",
   "metadata": {
    "execution": {
     "iopub.execute_input": "2021-05-31T18:42:51.384391Z",
     "iopub.status.busy": "2021-05-31T18:42:51.383673Z",
     "iopub.status.idle": "2021-05-31T18:42:51.592583Z",
     "shell.execute_reply": "2021-05-31T18:42:51.593058Z",
     "shell.execute_reply.started": "2021-05-31T17:08:50.271077Z"
    },
    "papermill": {
     "duration": 0.26249,
     "end_time": "2021-05-31T18:42:51.593242",
     "exception": false,
     "start_time": "2021-05-31T18:42:51.330752",
     "status": "completed"
    },
    "tags": []
   },
   "outputs": [
    {
     "data": {
      "text/html": [
       "<div>                            <div id=\"253d2a61-6302-4a37-b2eb-fff03b8bd884\" class=\"plotly-graph-div\" style=\"height:650px; width:1000px;\"></div>            <script type=\"text/javascript\">                require([\"plotly\"], function(Plotly) {                    window.PLOTLYENV=window.PLOTLYENV || {};                                    if (document.getElementById(\"253d2a61-6302-4a37-b2eb-fff03b8bd884\")) {                    Plotly.newPlot(                        \"253d2a61-6302-4a37-b2eb-fff03b8bd884\",                        [{\"close\": [454.1, 468.13, 463.35, 460.8, 455.58, 447.18, 442.3, 450.75, 456.28, 460.03, 451.08, 450.53, 450.28, 436.4, 424.45, 421.1, 422.28, 424.25, 429.65, 433.48, 432.48, 450.08, 443.13, 443.0, 432.75, 429.0, 426.75, 431.78, 426.2, 421.6, 428.03, 434.48, 427.35, 429.0, 421.05, 424.45, 421.0, 415.5, 405.0, 407.05, 411.45, 417.58, 411.55, 416.08, 431.5, 448.5, 452.0, 461.15, 461.98, 464.78, 462.05, 441.88, 438.98, 439.5, 438.38, 441.2, 436.1, 431.3, 424.1, 432.5, 446.93, 445.58, 438.5, 433.5, 444.93, 446.88, 435.58, 442.8, 438.5, 436.18, 445.23, 447.5, 453.45, 447.68, 451.15, 446.55, 443.5, 442.0, 438.3, 440.43, 451.0, 448.75, 447.5, 457.9, 455.2, 442.63, 441.98, 453.15, 438.75, 445.75, 450.55, 452.13, 465.73, 491.0, 498.95, 496.33, 496.6, 493.48, 503.7, 499.75, 495.15, 499.6, 503.0, 504.03, 502.7, 508.65, 502.08, 497.0, 495.0, 500.95, 502.9, 497.85, 504.48, 511.18, 511.98, 512.48, 505.4, 525.95, 522.45, 514.63, 501.25, 505.83, 498.0, 500.0, 500.5, 501.45, 494.53, 494.43, 489.0, 492.0, 483.13, 483.0, 471.05, 469.2, 483.23, 475.45, 472.55, 476.5, 458.0, 452.5, 410.73, 429.15, 425.68, 434.25, 436.0, 428.58, 419.08, 426.5, 427.18, 417.5, 416.53, 425.45, 435.18, 435.25, 430.18, 431.0, 433.5, 436.3, 445.85, 438.88, 423.0, 424.5, 418.33, 417.5, 421.0, 431.0, 431.25, 444.93, 446.95, 458.05, 445.5, 442.85, 446.18, 447.5, 452.1, 451.9, 457.4, 481.15, 477.5, 476.95, 477.4, 471.08, 469.75, 468.45, 470.25, 474.33, 479.93, 483.5, 473.73, 467.58, 475.9, 480.18, 462.55, 464.25, 465.93, 466.5, 463.68, 455.5, 466.78, 474.0, 478.15, 484.55, 495.0, 489.75, 483.55, 483.25, 489.33, 488.53, 483.0, 476.3, 470.0, 458.88, 474.55, 475.45, 479.03, 488.0, 489.5, 506.08, 495.3, 495.25, 492.95, 501.88, 501.2, 505.05, 507.0, 501.73, 505.2, 497.05, 502.18, 514.55, 509.0, 513.7, 527.0, 522.2, 536.8, 530.23, 536.3, 510.2, 523.48, 504.5, 491.23, 502.03, 500.1, 498.5, 507.75, 517.75, 514.03, 497.75, 490.0, 488.83, 487.45, 479.83, 478.38, 482.7, 462.0, 451.63, 472.2, 464.63, 478.05, 469.25, 471.75, 481.5, 472.0, 477.5, 471.0, 476.5, 483.0, 491.75, 500.0, 505.0, 503.75, 512.0, 520.95, 504.95, 507.9, 509.88, 509.78, 512.2, 507.25, 514.15, 520.43, 524.68, 513.63, 511.25, 516.8, 523.7, 522.5, 517.5, 517.88, 513.65, 517.2, 517.4, 517.5, 519.6, 523.8, 532.3, 531.53, 518.6, 519.75, 519.98, 507.28, 507.03, 509.13, 496.95, 490.13, 493.5, 487.5, 488.0, 487.15, 484.58, 491.55, 491.15, 487.05, 496.5, 487.83, 487.45, 483.75, 485.03, 473.68, 466.7, 465.55, 470.5, 474.83, 473.85, 487.0, 482.9, 479.28, 476.35, 478.0, 479.38, 477.23, 476.5, 477.98, 485.03, 487.85, 490.0, 488.15, 490.93, 487.63, 486.5, 493.75, 491.53, 489.0, 490.5, 474.28, 476.8, 479.0, 483.5, 484.5, 487.25, 493.18, 495.73, 494.05, 488.8, 495.78, 501.7, 504.0, 502.1, 507.18, 501.45, 511.25, 511.38, 503.1, 507.95, 510.28, 511.13, 505.6, 512.0, 508.03, 504.5, 506.5, 496.18, 497.6, 509.0, 513.65, 514.95, 501.1, 507.5, 516.28, 511.83, 507.08, 509.0, 506.65, 504.9, 505.58, 510.63, 506.98, 513.75, 529.65, 532.38, 524.0, 514.25, 506.5, 510.98, 508.5, 516.63, 520.98, 523.48, 521.5, 532.38, 536.45, 541.53, 537.0, 535.0, 543.48, 550.8, 553.15, 555.5, 544.45, 537.25, 542.25, 545.1, 547.5, 545.0, 556.0, 553.48, 548.28, 529.45, 539.48, 530.15, 540.0, 543.5, 543.33, 532.5, 531.65, 531.75, 527.25, 525.2, 528.0, 524.78, 526.0, 513.0, 510.95, 503.45, 500.0, 501.95, 501.5, 504.03, 499.0, 491.43, 491.48, 489.25, 493.2, 496.5, 500.65, 503.5, 496.08, 496.5, 493.25, 498.98, 494.08, 498.25, 497.8, 497.0, 501.63, 500.93, 509.78, 514.08, 512.5, 519.5, 527.85, 525.6, 527.93, 530.5, 530.0, 531.5, 525.75, 529.95, 522.48, 532.05, 525.58, 532.03, 540.35, 543.5, 544.5, 533.58, 538.5, 536.98, 539.0, 544.0, 542.4, 540.5, 544.98, 538.35, 520.0, 515.98, 516.23, 512.85, 509.2, 513.95, 509.0, 514.0, 522.5, 522.4, 525.0, 522.78, 516.73, 520.35, 515.98, 511.3, 516.3, 515.0, 515.0, 524.5, 525.18, 532.98, 536.0, 537.5, 544.5, 604.65, 593.4, 618.78, 618.83, 615.8, 617.48, 629.1, 653.5, 653.15, 644.08, 642.53, 639.55, 644.13, 650.5, 648.4, 650.28, 640.48, 632.6, 630.7, 636.0, 642.0, 624.25, 623.15, 629.6, 635.0, 660.25, 686.63, 707.53, 717.05, 703.0, 692.38, 687.85, 676.98, 682.35, 695.73, 684.5, 685.03, 685.23, 702.0, 708.88, 715.0, 708.45, 704.5, 697.35, 686.0, 685.1, 680.78, 664.0, 660.05, 665.65, 679.6, 678.5, 674.95, 671.8, 678.1, 675.0, 663.73, 659.58, 662.0, 652.28, 649.5, 650.75, 669.5, 677.63, 680.0, 670.1, 664.93, 661.45, 665.0, 656.25, 670.0, 666.85, 666.48, 659.5, 656.0, 680.0, 688.68, 693.75, 703.5, 705.98, 713.0, 717.4, 716.75, 720.0, 699.9, 696.18, 691.5, 691.5, 711.0, 720.03, 721.0, 745.0, 745.5, 748.25, 755.63, 759.3, 766.5, 774.5, 760.48, 769.0, 763.43, 792.0, 809.2, 801.25, 810.58, 796.4, 797.15, 807.73, 802.9, 812.55, 825.73, 813.73, 809.0, 802.3, 797.5, 796.88, 772.53, 786.1, 788.0, 781.3, 788.08, 782.15, 780.5, 791.28, 785.5, 782.38, 766.03, 781.63, 798.0, 805.53, 807.5, 816.08, 821.65, 816.6, 816.95, 819.5, 824.5, 852.4, 844.2, 842.0, 845.2, 839.0, 848.0, 842.95, 816.95, 821.1, 819.2, 798.4, 785.85, 781.1, 799.0, 824.2, 823.65, 838.2, 829.5, 842.25, 839.0, 875.1, 877.8, 877.5, 875.45, 916.8, 904.0, 940.1, 936.2, 939.9, 945.3, 930.95, 943.25, 944.05, 952.35, 946.8, 945.1, 931.0, 906.5, 889.5, 903.0, 885.0, 875.0, 887.5, 883.25, 905.7, 912.95, 920.0, 933.0, 934.0, 949.15, 951.25, 952.0, 942.4, 943.3, 922.5, 908.25, 902.6, 914.3, 928.5, 932.45, 921.3, 916.5, 917.75, 914.75, 924.0, 921.0, 922.85, 926.85, 918.75, 913.0, 919.9, 935.5, 923.25, 923.0, 920.15, 909.5, 911.5, 915.5, 920.5, 923.0, 927.5, 940.0, 941.5, 936.9, 946.6, 947.6, 923.8, 924.85, 922.0, 934.3, 970.0, 982.05, 968.0, 963.95, 963.7, 950.4, 962.0, 945.05, 901.9, 906.7, 893.1, 892.45, 906.2, 899.0, 912.0, 929.0, 936.1, 920.45, 928.3, 919.9, 929.0, 922.95, 934.0, 938.75, 950.6, 951.0, 948.0, 922.65, 908.7, 892.4, 912.4, 915.0, 931.05, 933.7, 931.55, 911.0, 903.9, 895.5, 891.8, 896.0, 908.9, 893.0, 902.0, 899.0, 881.6, 892.95, 901.0, 893.55, 908.0, 911.95, 915.0, 915.5, 931.5, 927.1, 939.85, 938.0, 944.95, 937.0, 942.0, 930.0, 935.0, 971.9, 971.9, 973.0, 996.5, 963.5, 974.05, 962.0, 953.6, 971.9, 966.0, 976.75, 980.0, 986.55, 984.95, 978.55, 954.0, 945.0, 934.1, 934.8, 927.1, 913.8, 917.95, 922.0, 919.95, 917.0, 915.5, 920.3, 928.6, 941.5, 948.9, 954.0, 970.85, 983.1, 980.05, 999.9, 1001.05, 1007.0, 1011.4, 1014.1, 995.6, 1019.2, 1031.6, 1012.5, 1005.0, 978.3, 963.7, 947.55, 975.0, 960.0, 972.2, 992.0, 965.0, 977.6, 996.0, 1027.5, 1038.3, 1080.9, 1101.0, 1078.65, 1093.55, 1093.3, 1114.35, 1127.75, 1120.5, 1111.45, 1112.65, 1112.1, 1128.85, 1152.0, 1184.15, 1188.7, 1169.2, 1175.4, 1194.5, 1184.7, 1220.8, 1218.5, 1204.0, 1189.5, 1211.9, 1200.0, 1202.65, 1235.15, 1246.7, 1266.9, 1276.75, 1292.05, 1322.95, 1293.1, 1277.0, 1238.45, 1228.0, 1245.0, 1225.85, 1260.6, 1277.25, 1254.4, 1236.0, 1251.1, 1252.55, 1224.4, 1215.4, 1212.95, 1216.2, 1234.55, 1229.5, 1253.5, 1252.05, 1255.0, 1235.6, 1201.25, 1110.0, 1049.45, 1110.0, 1083.0, 1103.0, 1089.4, 1125.5, 1137.75, 1166.0, 1151.35, 1099.1, 1062.65, 1061.5, 1049.0, 1037.8, 1042.6, 1088.3, 1056.9, 1059.25, 1055.0, 1073.15, 1092.0, 1101.75, 1111.5, 1093.0, 1075.95, 1097.85, 1099.0, 1093.05, 1125.0, 1149.5, 1137.0, 1113.55, 1100.1, 1109.75, 1128.6, 1151.0, 1167.8, 1167.1, 1158.0, 1153.1, 1158.15, 1119.0, 1133.8, 1085.5, 1097.0, 1111.0, 1105.75, 1110.0, 1131.5, 1137.95, 1134.85, 1129.85, 1097.8, 1089.4, 1099.7, 1118.1, 1125.6, 1125.45, 1120.5, 1104.35, 1090.3, 1099.95, 1105.5, 1101.0, 1109.25, 1107.6, 1095.5, 1100.0, 1130.95, 1136.5, 1133.0, 1185.8, 1235.5, 1232.05, 1224.45, 1248.3, 1248.8, 1230.5, 1213.6, 1195.0, 1226.0, 1253.1, 1289.5, 1287.55, 1310.55, 1288.0, 1277.8, 1254.5, 1255.1, 1238.3, 1229.1, 1249.0, 1215.65, 1215.6, 1235.55, 1247.9, 1231.7, 1231.3, 1220.2, 1220.65, 1232.0, 1224.75, 1237.45, 1262.0, 1270.0, 1266.9, 1309.55, 1330.85, 1349.0, 1340.0, 1323.75, 1357.0, 1377.25, 1374.45, 1345.1, 1328.9, 1369.0, 1347.0, 1361.5, 1363.05, 1391.9, 1388.2, 1374.6, 1354.5, 1354.6, 1327.8, 1338.0, 1331.0, 1350.8, 1340.0, 1339.0, 1345.0, 1386.0, 1344.0, 1364.65, 1389.5, 1370.0, 1391.2, 1393.0, 1403.25, 1409.9, 1382.95, 1341.0, 1299.45], \"high\": [459.9, 470.43, 471.9, 469.95, 464.95, 457.8, 452.2, 452.38, 456.98, 460.33, 462.0, 454.0, 453.43, 447.58, 438.35, 428.25, 428.2, 425.0, 430.15, 434.2, 437.73, 453.23, 454.5, 449.38, 445.88, 437.9, 434.8, 433.7, 434.05, 424.13, 429.95, 436.13, 438.23, 430.5, 431.73, 427.15, 424.5, 424.6, 417.5, 408.55, 416.45, 419.48, 418.58, 418.05, 434.7, 449.43, 454.18, 462.25, 469.78, 469.0, 472.15, 468.65, 447.7, 443.38, 444.7, 442.2, 443.75, 441.0, 435.28, 432.95, 446.95, 450.78, 448.38, 439.23, 446.7, 449.7, 447.0, 444.1, 442.83, 443.48, 447.0, 452.35, 455.5, 457.7, 452.8, 453.93, 447.93, 445.45, 447.13, 443.23, 452.45, 459.3, 455.2, 458.0, 458.45, 455.0, 445.2, 454.95, 453.93, 446.28, 452.5, 452.5, 471.03, 491.0, 503.2, 504.23, 501.35, 503.2, 504.43, 506.88, 496.88, 501.43, 505.23, 509.8, 506.75, 509.45, 508.28, 504.35, 500.5, 502.0, 506.23, 505.7, 507.0, 513.78, 515.5, 514.95, 514.13, 526.98, 533.73, 524.73, 514.85, 508.35, 506.35, 504.0, 503.95, 506.88, 502.83, 500.4, 496.0, 496.93, 494.35, 486.83, 482.98, 476.98, 486.0, 482.3, 477.5, 480.5, 478.43, 455.03, 440.0, 429.83, 437.4, 440.58, 441.5, 436.23, 426.93, 428.5, 430.33, 424.85, 422.0, 426.48, 439.25, 435.25, 438.03, 432.75, 434.95, 438.68, 449.75, 444.05, 442.43, 428.3, 424.0, 420.43, 425.13, 432.4, 435.18, 445.0, 450.25, 458.75, 457.0, 452.7, 450.7, 448.1, 452.5, 455.45, 457.4, 482.73, 483.18, 487.4, 486.4, 481.35, 474.1, 472.45, 472.5, 477.95, 480.7, 485.23, 487.48, 475.5, 477.38, 482.5, 479.58, 466.33, 469.25, 470.85, 469.45, 465.48, 469.25, 476.38, 478.95, 485.7, 495.98, 496.23, 492.08, 489.4, 489.85, 494.43, 487.98, 486.43, 476.8, 471.73, 476.85, 479.5, 481.33, 488.9, 493.75, 507.05, 504.5, 499.03, 501.25, 503.45, 503.6, 506.7, 509.35, 507.78, 509.43, 506.9, 505.0, 519.18, 514.0, 516.08, 530.13, 532.5, 544.78, 540.5, 544.75, 541.63, 524.63, 516.9, 512.75, 505.5, 509.33, 505.0, 510.9, 519.78, 520.5, 516.25, 497.0, 500.2, 491.0, 492.4, 484.4, 486.5, 482.88, 466.4, 475.68, 479.0, 478.73, 484.0, 476.38, 484.0, 483.35, 479.28, 478.23, 479.3, 497.23, 492.53, 502.8, 508.78, 507.5, 515.45, 521.9, 522.85, 514.75, 513.15, 513.6, 512.9, 518.35, 515.05, 520.75, 526.13, 522.78, 515.75, 521.0, 525.6, 528.0, 523.13, 521.05, 521.2, 518.3, 524.0, 527.0, 522.75, 528.73, 534.9, 533.35, 534.18, 526.0, 523.75, 521.58, 511.95, 512.9, 509.5, 499.18, 496.2, 497.48, 491.75, 491.73, 488.35, 493.0, 492.28, 490.38, 497.0, 495.25, 491.25, 491.55, 486.23, 485.75, 477.25, 469.93, 472.0, 476.4, 475.98, 488.45, 490.75, 486.5, 483.05, 478.58, 481.45, 481.33, 480.45, 479.0, 488.23, 492.18, 491.73, 492.7, 493.25, 491.83, 489.33, 496.3, 497.03, 492.95, 491.0, 482.05, 479.2, 480.75, 484.48, 488.7, 488.35, 496.7, 501.45, 500.25, 494.4, 497.48, 502.5, 508.33, 507.03, 510.43, 519.28, 511.4, 514.15, 512.03, 508.9, 511.88, 517.38, 513.0, 515.23, 512.38, 510.15, 510.0, 506.3, 500.0, 509.5, 517.0, 517.25, 517.28, 511.43, 521.38, 522.4, 514.35, 511.83, 510.85, 509.85, 507.5, 510.98, 514.5, 515.4, 529.85, 534.25, 537.0, 536.25, 516.1, 512.48, 513.5, 517.95, 524.95, 527.88, 529.5, 535.0, 546.93, 543.95, 542.3, 542.43, 547.75, 554.73, 564.78, 562.93, 554.0, 555.38, 547.28, 553.85, 554.15, 553.25, 563.0, 561.53, 561.0, 544.48, 541.0, 540.4, 541.38, 547.35, 549.0, 548.5, 536.98, 532.58, 529.68, 526.95, 529.0, 529.35, 527.98, 521.33, 517.38, 513.45, 508.15, 502.85, 504.35, 514.43, 508.73, 499.95, 498.4, 499.08, 496.05, 496.68, 503.88, 505.15, 502.0, 497.95, 500.3, 502.08, 499.5, 507.5, 502.5, 499.73, 503.28, 503.8, 510.88, 515.93, 520.85, 520.5, 532.08, 533.8, 530.88, 533.45, 530.5, 533.5, 531.33, 534.48, 533.0, 533.55, 534.6, 534.4, 542.5, 545.0, 548.5, 546.5, 539.95, 542.5, 543.0, 547.18, 547.85, 545.18, 548.75, 546.95, 533.6, 524.0, 522.65, 518.73, 515.25, 514.4, 516.35, 514.35, 523.23, 526.9, 525.4, 525.4, 525.23, 522.3, 521.18, 519.13, 517.0, 517.75, 517.0, 526.4, 528.75, 534.7, 539.0, 539.4, 545.45, 605.68, 610.95, 628.35, 624.0, 622.2, 627.1, 643.53, 655.85, 663.45, 653.85, 649.0, 648.0, 659.5, 658.05, 655.2, 659.95, 652.18, 641.73, 632.95, 638.75, 645.95, 639.25, 631.93, 630.0, 637.38, 668.73, 689.78, 708.98, 724.38, 716.88, 712.4, 700.18, 693.2, 686.65, 697.65, 704.98, 691.25, 693.38, 710.5, 717.5, 732.5, 720.0, 711.88, 710.15, 700.53, 690.33, 689.73, 683.5, 669.75, 666.83, 681.8, 684.88, 681.95, 678.0, 688.45, 682.85, 674.88, 667.85, 666.73, 664.93, 656.75, 656.2, 672.2, 682.73, 682.35, 683.7, 670.0, 669.33, 670.48, 666.98, 671.0, 672.35, 675.85, 664.88, 663.5, 680.0, 697.5, 697.9, 707.9, 711.0, 714.0, 721.95, 720.75, 721.35, 719.6, 704.95, 696.2, 697.35, 713.55, 723.7, 725.0, 748.7, 750.45, 752.05, 762.5, 762.5, 768.0, 779.8, 775.75, 769.0, 775.0, 795.85, 812.45, 812.35, 814.95, 815.75, 802.5, 809.38, 810.95, 817.78, 832.4, 830.48, 815.8, 810.5, 810.0, 803.33, 788.15, 792.25, 788.0, 798.78, 788.9, 792.08, 789.95, 793.25, 795.8, 790.85, 783.75, 784.35, 798.68, 808.3, 818.03, 817.0, 826.2, 832.45, 823.25, 826.6, 825.0, 859.85, 861.45, 852.85, 851.05, 848.75, 872.05, 851.7, 838.45, 827.9, 827.05, 825.2, 802.9, 793.25, 803.85, 824.9, 828.45, 839.0, 839.7, 847.25, 858.4, 876.5, 890.6, 891.9, 883.75, 917.9, 921.7, 944.65, 946.05, 945.55, 957.8, 956.5, 945.55, 945.0, 957.55, 956.4, 953.0, 941.8, 935.0, 905.7, 909.9, 900.5, 891.85, 895.0, 890.6, 906.0, 924.6, 924.35, 939.5, 938.5, 949.9, 959.0, 957.25, 951.35, 950.0, 941.0, 931.25, 913.75, 920.75, 930.3, 936.0, 936.8, 926.0, 929.0, 924.7, 924.9, 932.7, 932.55, 927.0, 927.4, 923.85, 922.4, 938.9, 937.45, 934.25, 931.7, 922.7, 919.35, 925.95, 921.8, 926.85, 931.0, 943.9, 947.0, 942.5, 952.8, 958.5, 947.7, 929.0, 929.35, 934.3, 974.05, 990.6, 981.0, 972.0, 976.85, 965.1, 964.4, 972.6, 943.85, 912.5, 896.95, 905.35, 910.65, 902.0, 918.2, 942.4, 945.65, 942.6, 932.0, 929.55, 932.5, 930.75, 938.0, 944.9, 955.65, 956.85, 959.75, 950.15, 936.2, 909.25, 914.5, 919.35, 933.1, 936.0, 932.05, 929.45, 909.65, 906.8, 904.0, 902.35, 911.9, 900.0, 904.3, 910.7, 895.85, 900.95, 901.7, 911.55, 910.0, 918.5, 919.0, 923.9, 932.6, 936.3, 941.6, 940.0, 947.2, 948.15, 945.0, 941.75, 944.0, 975.5, 981.75, 988.0, 1011.0, 992.4, 979.1, 976.95, 964.7, 973.25, 982.0, 984.3, 984.4, 991.0, 991.95, 1000.0, 972.4, 959.5, 953.5, 935.7, 934.0, 926.0, 921.0, 923.4, 927.0, 928.0, 923.2, 922.15, 935.75, 944.0, 955.0, 956.0, 976.0, 986.55, 999.3, 1000.0, 1005.9, 1011.8, 1023.5, 1020.4, 1014.7, 1022.8, 1036.0, 1029.2, 1016.5, 1005.9, 985.4, 968.5, 975.25, 971.9, 978.4, 992.0, 1008.4, 982.9, 1000.0, 1028.05, 1040.85, 1098.9, 1109.0, 1108.8, 1095.9, 1104.55, 1114.9, 1138.4, 1129.5, 1126.35, 1123.0, 1121.5, 1137.3, 1156.7, 1190.4, 1202.9, 1190.0, 1183.5, 1196.0, 1201.0, 1222.5, 1231.65, 1215.0, 1199.7, 1217.1, 1215.95, 1215.3, 1236.8, 1251.45, 1274.0, 1279.9, 1295.85, 1323.0, 1328.95, 1296.0, 1269.0, 1257.85, 1254.8, 1252.35, 1265.2, 1281.0, 1277.0, 1268.4, 1258.2, 1275.6, 1249.2, 1239.35, 1223.65, 1237.2, 1239.9, 1245.0, 1253.95, 1263.0, 1271.7, 1257.05, 1239.5, 1190.0, 1115.0, 1117.0, 1122.75, 1115.2, 1114.65, 1129.0, 1146.9, 1167.4, 1178.0, 1110.9, 1114.55, 1064.5, 1073.0, 1040.5, 1057.0, 1093.55, 1083.1, 1065.8, 1066.95, 1080.7, 1092.7, 1112.0, 1114.9, 1113.8, 1098.25, 1102.65, 1112.5, 1102.75, 1129.8, 1151.6, 1155.75, 1145.15, 1125.25, 1117.25, 1130.0, 1157.65, 1179.9, 1186.0, 1174.8, 1157.35, 1158.8, 1148.0, 1136.95, 1112.95, 1102.05, 1113.5, 1123.85, 1114.75, 1133.0, 1139.0, 1147.0, 1132.4, 1131.0, 1103.0, 1100.0, 1127.0, 1135.25, 1133.3, 1126.75, 1126.9, 1114.6, 1104.45, 1118.4, 1109.95, 1117.0, 1110.7, 1113.75, 1100.4, 1132.0, 1145.0, 1147.9, 1189.45, 1239.9, 1246.9, 1244.15, 1253.2, 1264.7, 1255.5, 1231.0, 1225.0, 1229.6, 1255.0, 1296.95, 1304.25, 1317.6, 1321.2, 1300.15, 1275.9, 1272.25, 1273.95, 1241.0, 1249.9, 1251.55, 1239.7, 1240.0, 1257.75, 1245.0, 1243.0, 1234.5, 1244.9, 1239.85, 1242.35, 1239.8, 1273.0, 1279.8, 1274.45, 1312.0, 1334.0, 1358.0, 1362.0, 1358.75, 1357.95, 1380.0, 1387.95, 1380.8, 1336.75, 1371.05, 1377.95, 1369.8, 1376.5, 1406.75, 1403.0, 1403.0, 1383.7, 1363.8, 1357.0, 1340.7, 1348.0, 1353.0, 1356.8, 1348.95, 1360.0, 1389.75, 1366.7, 1373.0, 1394.8, 1412.35, 1395.9, 1396.4, 1413.9, 1417.5, 1402.7, 1394.8, 1340.0], \"low\": [452.9, 456.9, 462.95, 458.9, 451.55, 446.03, 430.85, 441.63, 443.63, 454.83, 450.2, 447.23, 443.78, 435.8, 423.63, 418.5, 420.63, 418.33, 422.35, 423.33, 427.78, 433.75, 440.15, 439.43, 432.15, 427.88, 426.25, 427.95, 423.5, 420.3, 420.5, 427.5, 427.25, 424.38, 419.05, 421.2, 420.5, 412.05, 400.73, 398.28, 409.03, 406.7, 410.75, 413.55, 416.45, 429.73, 444.55, 449.38, 453.83, 459.5, 461.38, 439.48, 436.25, 433.65, 434.55, 434.35, 435.73, 429.33, 423.7, 424.03, 430.25, 442.55, 436.0, 430.0, 432.05, 441.7, 432.6, 428.6, 435.33, 435.08, 436.1, 443.3, 449.65, 447.13, 448.5, 446.18, 441.35, 440.1, 436.1, 436.55, 439.5, 445.78, 444.3, 447.28, 452.25, 441.73, 438.8, 442.5, 436.95, 439.5, 445.0, 446.75, 447.0, 466.28, 491.43, 493.35, 495.5, 493.33, 492.5, 497.7, 486.08, 494.0, 500.5, 503.55, 501.53, 497.9, 500.13, 495.83, 491.73, 495.13, 497.58, 497.6, 499.85, 505.78, 509.0, 508.95, 501.38, 502.3, 520.75, 510.6, 500.9, 500.13, 496.08, 496.4, 495.0, 499.93, 490.0, 492.08, 488.75, 488.75, 482.25, 479.0, 470.4, 464.7, 467.15, 473.48, 471.1, 469.85, 456.93, 448.63, 409.03, 412.0, 420.73, 428.7, 433.05, 427.05, 417.55, 421.5, 422.23, 412.55, 413.85, 412.55, 425.35, 427.75, 428.28, 426.08, 427.8, 432.65, 438.65, 438.03, 422.28, 420.2, 417.63, 414.53, 413.08, 419.3, 429.43, 431.03, 442.88, 445.5, 443.23, 440.75, 444.3, 441.45, 446.98, 450.05, 451.88, 471.0, 476.53, 476.5, 476.2, 470.7, 469.1, 465.05, 467.5, 470.23, 472.63, 480.75, 473.15, 466.5, 468.95, 461.73, 458.15, 463.55, 457.3, 462.43, 463.1, 455.0, 459.0, 462.78, 473.15, 475.65, 484.25, 487.05, 481.2, 480.63, 482.95, 487.05, 480.73, 474.88, 468.15, 456.5, 460.0, 471.75, 473.0, 476.83, 486.93, 489.0, 495.0, 492.25, 492.0, 495.1, 498.15, 500.0, 503.6, 501.0, 499.55, 493.35, 498.5, 500.2, 504.3, 508.35, 505.5, 520.65, 524.28, 526.53, 532.83, 504.15, 507.45, 495.0, 488.55, 497.15, 500.0, 498.48, 498.58, 509.38, 513.08, 495.3, 487.5, 483.28, 481.05, 478.98, 475.05, 474.33, 458.0, 444.15, 459.6, 463.5, 458.33, 468.15, 468.68, 472.63, 471.45, 471.13, 470.5, 472.38, 468.05, 482.63, 493.68, 498.75, 501.78, 503.78, 509.53, 504.53, 505.3, 506.5, 507.6, 502.98, 506.0, 507.9, 511.5, 518.03, 511.28, 507.83, 510.85, 521.45, 516.63, 512.5, 512.65, 511.23, 511.3, 511.53, 515.7, 516.5, 519.03, 526.5, 527.78, 517.9, 517.5, 514.73, 506.15, 503.98, 508.0, 495.85, 489.48, 489.28, 486.5, 486.55, 485.5, 483.5, 486.4, 489.0, 485.0, 487.7, 487.75, 485.55, 483.18, 482.2, 473.0, 466.23, 462.83, 464.13, 470.65, 472.05, 474.38, 482.63, 478.25, 475.9, 472.55, 478.0, 476.28, 475.8, 474.83, 479.55, 484.43, 481.8, 484.73, 486.88, 483.8, 485.05, 484.0, 489.93, 488.55, 485.0, 466.78, 471.9, 477.5, 480.0, 483.65, 485.0, 488.0, 490.15, 493.23, 488.25, 492.95, 495.5, 502.25, 499.53, 502.03, 500.93, 497.93, 508.28, 502.53, 502.55, 503.7, 507.6, 504.95, 506.53, 506.0, 502.53, 503.15, 495.78, 491.7, 498.53, 509.4, 510.5, 501.0, 500.0, 508.55, 507.75, 503.65, 508.18, 503.58, 503.6, 502.5, 505.88, 504.8, 507.33, 513.43, 526.53, 523.58, 513.13, 501.35, 507.5, 506.65, 510.15, 515.03, 514.88, 520.45, 524.0, 529.8, 535.55, 534.55, 534.55, 539.53, 545.0, 551.58, 553.3, 543.25, 533.75, 533.98, 538.15, 546.0, 542.9, 546.45, 553.25, 547.0, 526.0, 530.85, 529.4, 531.05, 540.7, 542.1, 529.53, 530.38, 527.1, 526.23, 521.75, 522.0, 524.25, 523.73, 510.5, 510.3, 500.05, 499.55, 499.15, 465.95, 503.98, 498.0, 489.8, 490.35, 487.2, 491.53, 491.63, 496.75, 499.78, 491.38, 492.2, 492.05, 494.25, 493.35, 497.5, 496.1, 493.25, 497.35, 498.18, 502.3, 510.15, 510.55, 514.0, 519.25, 524.33, 526.25, 527.45, 526.83, 528.6, 525.48, 526.5, 522.33, 524.0, 523.58, 524.78, 531.55, 536.2, 540.55, 532.15, 534.5, 536.55, 535.5, 540.0, 542.0, 539.95, 542.3, 536.98, 519.33, 514.5, 515.5, 512.0, 506.6, 509.13, 508.08, 509.5, 512.48, 520.18, 517.6, 519.13, 515.05, 516.05, 513.6, 511.0, 513.48, 512.85, 511.0, 515.33, 522.8, 526.28, 529.25, 533.25, 536.53, 546.5, 589.8, 596.0, 614.3, 615.0, 613.55, 621.73, 632.63, 648.38, 643.33, 640.85, 630.7, 642.63, 645.2, 646.9, 649.1, 639.18, 629.65, 623.3, 629.0, 634.28, 623.65, 621.13, 616.68, 626.55, 633.85, 669.45, 690.13, 701.28, 701.4, 688.7, 685.15, 675.6, 674.05, 682.88, 683.63, 679.13, 682.05, 689.53, 700.68, 713.93, 701.38, 701.13, 695.5, 683.15, 682.63, 677.25, 662.53, 659.4, 660.38, 665.33, 675.83, 672.05, 666.75, 670.5, 673.88, 662.2, 655.2, 657.63, 651.0, 647.55, 648.28, 650.0, 667.8, 674.55, 668.1, 661.5, 658.5, 658.0, 655.5, 654.5, 664.03, 665.55, 658.58, 655.5, 658.0, 680.0, 685.0, 695.5, 703.73, 702.28, 714.05, 715.35, 712.5, 698.0, 695.13, 687.53, 685.75, 695.0, 712.0, 719.0, 720.5, 744.55, 743.55, 749.0, 753.15, 757.85, 768.75, 755.53, 757.45, 761.88, 773.2, 792.95, 798.8, 800.55, 794.23, 789.13, 798.0, 795.75, 804.08, 808.53, 807.55, 806.4, 793.85, 792.5, 789.0, 766.53, 780.5, 775.1, 780.58, 776.9, 780.13, 778.03, 776.58, 782.38, 780.78, 765.0, 771.5, 787.03, 799.5, 798.03, 810.53, 811.88, 815.0, 812.2, 816.55, 817.0, 822.1, 842.0, 834.8, 843.1, 837.0, 845.1, 836.55, 813.85, 805.25, 812.2, 795.7, 780.5, 779.8, 786.15, 795.95, 819.45, 823.1, 828.0, 831.05, 836.0, 844.25, 873.5, 861.55, 867.25, 876.0, 903.65, 910.0, 928.5, 929.9, 931.0, 925.8, 930.8, 932.25, 945.85, 944.3, 940.15, 929.0, 903.1, 884.2, 892.3, 879.25, 873.5, 873.05, 877.95, 888.0, 908.9, 905.2, 925.9, 923.9, 926.95, 947.55, 944.05, 938.1, 941.55, 919.5, 908.0, 898.0, 895.55, 909.05, 923.0, 919.5, 913.6, 908.0, 911.0, 909.1, 917.7, 864.6, 920.0, 917.05, 910.35, 909.95, 918.25, 919.0, 919.1, 918.5, 907.55, 906.5, 913.05, 916.0, 920.25, 923.75, 924.0, 935.5, 935.05, 938.3, 945.3, 920.0, 907.05, 915.45, 922.3, 940.0, 975.15, 963.05, 956.75, 959.45, 949.1, 941.95, 937.4, 901.05, 883.8, 871.45, 890.0, 892.55, 886.0, 903.1, 921.15, 928.15, 918.35, 913.8, 918.85, 922.15, 920.5, 923.1, 936.9, 938.75, 943.9, 946.0, 922.0, 905.4, 888.05, 893.8, 911.3, 917.6, 921.45, 919.5, 910.0, 886.4, 892.0, 887.05, 893.35, 895.9, 889.15, 892.5, 897.05, 880.1, 887.35, 885.25, 892.1, 903.5, 905.0, 912.55, 914.4, 916.1, 924.3, 930.0, 928.5, 936.0, 935.05, 935.0, 921.25, 928.8, 935.45, 964.3, 962.55, 988.1, 960.25, 965.55, 959.5, 950.0, 956.4, 965.25, 962.25, 974.85, 977.75, 976.7, 976.65, 953.45, 942.0, 932.05, 922.4, 925.1, 909.25, 910.2, 914.85, 918.35, 914.4, 906.85, 915.95, 918.5, 931.55, 941.0, 942.75, 954.9, 960.6, 979.1, 980.35, 989.5, 988.1, 999.25, 1007.7, 993.65, 995.95, 1021.3, 1008.45, 1002.55, 975.65, 962.8, 940.65, 949.0, 957.0, 960.75, 971.95, 958.75, 964.7, 983.75, 1002.2, 1018.0, 1043.25, 1080.55, 1073.35, 1070.2, 1078.35, 1086.55, 1112.15, 1113.2, 1107.5, 1104.45, 1107.8, 1112.3, 1129.6, 1147.2, 1185.5, 1166.05, 1169.55, 1175.35, 1177.1, 1185.2, 1212.2, 1202.3, 1182.7, 1184.3, 1195.55, 1200.05, 1207.65, 1227.0, 1238.4, 1260.5, 1279.0, 1296.05, 1290.5, 1270.6, 1236.65, 1226.1, 1229.0, 1208.75, 1225.55, 1255.0, 1250.15, 1234.25, 1229.0, 1248.15, 1221.75, 1214.45, 1201.4, 1183.5, 1204.55, 1195.25, 1227.35, 1237.55, 1247.8, 1204.7, 1200.25, 1106.0, 1038.4, 1025.55, 1081.55, 1085.15, 1044.1, 1101.9, 1119.9, 1140.0, 1144.05, 1074.55, 1057.4, 1043.85, 1031.4, 1016.7, 1022.9, 1046.85, 1052.5, 1047.0, 1050.0, 1063.2, 1065.05, 1094.0, 1106.8, 1085.0, 1074.6, 1070.25, 1085.75, 1086.5, 1097.5, 1132.1, 1130.0, 1107.15, 1100.1, 1097.7, 1106.0, 1126.5, 1161.25, 1162.3, 1148.5, 1142.2, 1139.7, 1119.0, 1108.6, 1083.3, 1056.25, 1088.1, 1095.25, 1091.8, 1111.7, 1120.65, 1133.3, 1116.15, 1096.0, 1086.65, 1065.7, 1104.1, 1121.5, 1116.2, 1111.6, 1101.0, 1090.1, 1081.4, 1101.0, 1096.0, 1099.0, 1103.0, 1088.6, 1086.4, 1105.0, 1132.0, 1130.0, 1135.3, 1189.75, 1220.0, 1222.0, 1220.1, 1235.4, 1222.4, 1201.35, 1191.25, 1202.0, 1227.05, 1245.55, 1279.8, 1295.95, 1286.2, 1272.35, 1251.0, 1251.5, 1235.75, 1218.0, 1214.15, 1215.0, 1211.4, 1219.0, 1229.5, 1226.0, 1222.65, 1206.05, 1209.05, 1226.8, 1222.25, 1218.65, 1235.1, 1259.0, 1262.0, 1268.0, 1315.05, 1328.1, 1336.15, 1311.6, 1329.5, 1343.1, 1364.0, 1336.9, 1317.0, 1330.3, 1344.3, 1343.05, 1355.4, 1362.6, 1380.35, 1372.0, 1347.25, 1343.2, 1323.8, 1321.3, 1326.5, 1329.0, 1337.2, 1335.05, 1340.0, 1365.35, 1341.5, 1346.1, 1366.35, 1363.0, 1370.7, 1366.95, 1382.2, 1402.65, 1378.3, 1340.3, 1292.5], \"name\": \"Stock Prices\", \"open\": [458.48, 457.0, 469.95, 465.5, 462.25, 450.58, 445.35, 443.0, 452.53, 457.0, 459.63, 449.88, 453.35, 447.55, 434.98, 427.25, 424.4, 423.15, 423.78, 431.4, 434.75, 434.88, 453.85, 445.9, 442.75, 434.3, 430.53, 428.98, 434.05, 423.38, 425.5, 428.58, 438.0, 427.85, 428.7, 421.4, 424.4, 420.5, 417.2, 408.5, 409.45, 411.98, 418.2, 414.0, 417.45, 432.55, 447.48, 453.2, 460.35, 462.25, 468.03, 468.25, 445.08, 440.98, 441.88, 438.5, 440.48, 437.0, 432.0, 425.5, 433.5, 446.53, 445.35, 437.9, 434.45, 445.8, 447.0, 436.68, 442.8, 440.5, 437.45, 444.25, 450.2, 455.78, 448.55, 450.7, 447.93, 443.0, 442.93, 439.95, 439.88, 452.5, 449.5, 450.55, 454.93, 453.6, 441.78, 443.5, 453.28, 439.5, 446.93, 448.8, 453.0, 466.48, 491.5, 498.35, 496.43, 497.75, 493.53, 499.95, 493.6, 494.85, 500.5, 504.75, 504.0, 497.9, 505.98, 497.78, 498.0, 496.0, 501.1, 504.0, 499.85, 505.9, 513.5, 513.3, 513.7, 502.5, 526.75, 523.5, 512.0, 504.15, 504.73, 500.6, 501.0, 500.5, 501.5, 495.5, 495.4, 490.0, 492.2, 485.5, 482.25, 473.5, 469.9, 482.28, 477.48, 471.5, 477.58, 454.95, 440.0, 420.43, 421.5, 433.4, 437.5, 436.03, 426.0, 424.48, 427.5, 424.65, 419.83, 418.45, 428.13, 430.5, 436.0, 430.68, 431.0, 436.43, 439.23, 440.13, 440.0, 420.98, 424.0, 419.9, 415.0, 424.75, 435.0, 431.38, 446.5, 447.0, 457.0, 447.6, 444.9, 443.2, 447.9, 453.85, 452.25, 471.5, 482.75, 477.5, 481.98, 480.25, 469.4, 467.98, 468.0, 471.03, 474.08, 481.83, 484.65, 474.25, 470.0, 466.75, 478.13, 463.55, 458.25, 463.43, 468.75, 463.5, 459.4, 466.5, 475.43, 476.35, 485.75, 493.55, 489.0, 481.93, 483.5, 487.4, 486.15, 482.55, 474.0, 469.5, 460.75, 475.88, 473.03, 478.5, 487.75, 490.7, 501.5, 493.63, 496.3, 496.23, 501.95, 500.0, 505.48, 507.7, 501.7, 502.5, 500.75, 503.5, 510.53, 511.5, 508.0, 528.25, 527.15, 531.93, 534.5, 538.45, 513.5, 516.9, 509.0, 498.3, 505.05, 504.25, 500.5, 509.63, 519.5, 515.5, 493.8, 494.5, 489.58, 486.83, 476.45, 475.58, 480.98, 466.4, 459.75, 476.05, 467.43, 480.58, 470.0, 472.63, 481.7, 472.25, 477.5, 476.5, 475.95, 482.63, 496.25, 503.55, 507.0, 503.78, 510.45, 521.7, 507.45, 510.98, 511.8, 510.5, 513.5, 510.0, 513.6, 518.4, 522.78, 514.48, 510.85, 521.63, 520.5, 520.0, 519.0, 515.68, 516.25, 516.88, 517.9, 518.7, 520.1, 527.0, 532.93, 534.18, 521.0, 519.03, 521.5, 507.08, 508.5, 507.1, 496.0, 489.5, 494.0, 487.03, 490.0, 486.75, 487.0, 491.5, 486.05, 488.0, 494.25, 488.7, 490.3, 482.55, 485.63, 476.45, 468.75, 464.13, 473.83, 475.25, 475.03, 488.2, 484.45, 479.93, 477.23, 480.0, 481.0, 478.78, 479.0, 479.98, 486.75, 484.95, 490.48, 490.0, 490.48, 489.0, 485.03, 497.03, 491.9, 490.0, 481.7, 472.6, 478.05, 481.0, 486.0, 486.35, 488.0, 493.18, 496.05, 493.95, 495.23, 497.83, 503.0, 504.05, 504.45, 513.45, 502.95, 509.98, 512.0, 503.03, 507.0, 511.5, 511.1, 507.48, 512.2, 509.68, 504.33, 506.3, 500.0, 498.98, 509.95, 513.38, 516.0, 501.0, 508.73, 518.13, 512.25, 508.4, 508.98, 507.25, 505.9, 506.05, 510.75, 508.95, 513.43, 530.95, 532.03, 525.55, 515.5, 510.13, 511.25, 511.7, 517.25, 515.0, 523.98, 526.0, 533.0, 537.2, 542.0, 536.95, 542.1, 545.0, 551.9, 558.28, 553.63, 548.5, 533.98, 544.0, 547.33, 551.0, 546.45, 557.5, 556.95, 544.48, 532.5, 539.58, 533.23, 541.75, 546.83, 548.5, 535.13, 532.5, 528.25, 525.78, 525.0, 529.0, 525.63, 520.5, 512.0, 510.35, 506.98, 502.7, 471.2, 508.33, 498.5, 498.5, 496.9, 493.0, 492.0, 494.2, 498.83, 503.08, 502.0, 495.2, 496.5, 494.75, 499.5, 498.68, 497.75, 497.38, 498.23, 502.2, 502.5, 510.75, 510.55, 514.48, 520.0, 526.25, 526.38, 527.45, 528.95, 530.25, 529.0, 526.5, 527.18, 524.0, 533.6, 525.88, 532.5, 541.63, 544.9, 546.0, 536.0, 537.5, 538.5, 540.03, 546.8, 544.0, 542.3, 544.35, 533.6, 521.75, 517.4, 516.93, 511.9, 509.45, 515.83, 510.15, 512.48, 522.5, 523.1, 525.0, 522.8, 518.45, 521.18, 515.13, 514.0, 517.75, 517.0, 515.6, 525.55, 526.28, 533.75, 537.0, 537.6, 546.5, 607.78, 596.9, 618.78, 620.38, 618.9, 622.38, 633.93, 658.78, 653.85, 644.15, 645.85, 658.45, 646.0, 654.4, 654.15, 651.5, 641.2, 625.68, 631.95, 637.35, 636.5, 627.9, 625.85, 627.25, 633.85, 672.5, 696.03, 704.5, 712.08, 705.2, 693.0, 690.98, 677.0, 683.33, 699.45, 684.95, 689.0, 690.0, 704.18, 731.2, 718.45, 708.6, 704.55, 700.53, 688.48, 687.98, 680.55, 664.83, 662.8, 667.13, 682.05, 680.1, 677.63, 673.08, 677.0, 670.28, 666.55, 663.18, 662.53, 653.85, 650.5, 652.38, 668.08, 677.95, 683.7, 667.3, 667.55, 663.33, 666.98, 655.63, 670.0, 672.5, 663.28, 661.0, 658.35, 680.0, 693.4, 695.5, 704.48, 703.4, 714.95, 718.5, 716.03, 719.55, 700.0, 696.0, 694.5, 698.4, 714.0, 723.4, 721.75, 749.0, 751.28, 749.13, 754.2, 759.5, 768.75, 773.0, 757.45, 769.5, 773.75, 799.5, 812.0, 802.35, 815.0, 795.5, 800.5, 810.95, 804.08, 813.43, 830.0, 815.8, 809.3, 800.0, 796.53, 779.15, 781.33, 785.65, 785.25, 781.5, 789.95, 786.0, 782.43, 795.03, 789.15, 780.93, 772.48, 787.55, 799.5, 807.75, 813.0, 813.0, 822.7, 820.55, 820.55, 822.2, 823.9, 855.75, 841.55, 851.05, 848.75, 858.4, 846.75, 838.05, 814.15, 821.75, 825.2, 799.65, 791.75, 795.45, 800.0, 825.05, 824.0, 839.7, 831.45, 845.75, 844.8, 879.1, 878.05, 878.8, 876.0, 915.9, 912.7, 946.0, 940.9, 939.6, 948.5, 933.75, 945.0, 947.35, 952.55, 952.65, 941.8, 935.0, 904.0, 894.0, 900.0, 886.95, 873.05, 884.5, 888.4, 916.5, 907.0, 926.0, 937.45, 931.3, 951.05, 947.0, 949.25, 941.8, 941.0, 924.45, 913.5, 901.7, 910.0, 930.1, 933.8, 922.45, 915.0, 916.85, 919.0, 932.7, 898.5, 923.6, 925.2, 918.45, 914.7, 923.7, 934.25, 925.25, 929.3, 922.5, 913.0, 923.1, 918.5, 921.8, 926.0, 928.5, 943.75, 941.55, 943.7, 950.15, 947.7, 925.35, 928.8, 922.3, 946.75, 976.4, 981.0, 967.85, 968.0, 965.1, 950.0, 964.05, 936.9, 892.15, 875.0, 902.7, 895.3, 888.45, 904.0, 924.2, 937.7, 938.25, 920.5, 929.0, 926.25, 922.35, 925.2, 939.0, 939.0, 945.95, 949.0, 942.7, 928.9, 909.05, 898.0, 914.8, 920.0, 930.9, 928.25, 926.15, 909.55, 901.5, 893.2, 894.65, 896.5, 890.75, 893.05, 907.25, 895.6, 890.35, 890.95, 903.8, 906.0, 907.0, 912.55, 918.0, 919.0, 929.4, 930.6, 932.9, 939.75, 946.05, 940.2, 940.0, 929.05, 935.75, 973.8, 972.7, 988.65, 983.85, 965.55, 976.95, 962.35, 958.85, 975.9, 965.65, 978.0, 984.0, 991.95, 983.6, 972.4, 958.05, 945.0, 931.2, 933.0, 925.2, 914.5, 916.0, 924.9, 921.0, 913.1, 920.05, 919.75, 934.45, 942.8, 947.0, 954.9, 966.3, 987.2, 984.95, 999.85, 998.25, 1005.0, 1007.7, 1013.7, 995.95, 1023.3, 1028.15, 1010.0, 1005.9, 976.65, 961.8, 949.0, 971.9, 963.05, 971.95, 995.65, 964.75, 987.35, 1002.2, 1024.0, 1044.3, 1081.0, 1100.0, 1078.35, 1097.95, 1094.0, 1112.15, 1129.5, 1122.5, 1109.05, 1111.5, 1117.9, 1129.6, 1151.5, 1191.0, 1190.0, 1175.0, 1176.7, 1195.45, 1185.2, 1223.2, 1212.0, 1197.0, 1189.8, 1204.1, 1208.1, 1208.0, 1237.35, 1247.2, 1265.45, 1279.0, 1296.75, 1316.55, 1296.0, 1269.0, 1244.0, 1233.95, 1242.5, 1231.85, 1263.0, 1275.0, 1258.8, 1246.8, 1259.0, 1249.05, 1225.75, 1222.9, 1219.7, 1213.8, 1235.5, 1237.0, 1257.4, 1261.95, 1257.05, 1228.0, 1189.5, 1097.0, 1050.6, 1120.0, 1093.9, 1062.0, 1103.0, 1128.65, 1145.0, 1177.0, 1094.0, 1108.9, 1051.9, 1072.15, 1035.0, 1032.0, 1048.85, 1083.1, 1059.0, 1066.75, 1068.8, 1070.0, 1094.0, 1114.0, 1108.4, 1097.85, 1074.65, 1105.8, 1096.7, 1097.95, 1132.8, 1146.0, 1137.5, 1117.2, 1108.9, 1107.0, 1131.0, 1161.25, 1173.4, 1174.8, 1157.15, 1143.65, 1148.0, 1130.0, 1110.9, 1066.0, 1099.0, 1121.2, 1103.1, 1115.8, 1125.8, 1141.9, 1123.95, 1125.55, 1100.9, 1085.8, 1107.2, 1125.5, 1130.95, 1125.25, 1114.5, 1108.0, 1097.85, 1108.0, 1105.1, 1112.0, 1107.75, 1107.6, 1095.0, 1105.0, 1135.0, 1144.45, 1148.8, 1194.0, 1232.85, 1233.3, 1225.0, 1250.45, 1250.5, 1231.0, 1215.0, 1202.0, 1234.0, 1247.0, 1292.0, 1296.25, 1310.25, 1284.8, 1275.9, 1251.5, 1261.0, 1241.0, 1229.75, 1250.0, 1218.0, 1223.85, 1236.0, 1244.6, 1236.0, 1209.5, 1228.05, 1233.75, 1237.0, 1223.4, 1239.8, 1264.0, 1266.05, 1270.05, 1316.9, 1337.0, 1349.75, 1345.0, 1331.0, 1360.0, 1377.0, 1375.45, 1331.95, 1330.3, 1377.95, 1350.25, 1370.05, 1370.0, 1398.0, 1392.75, 1379.0, 1360.95, 1356.0, 1328.9, 1337.95, 1332.95, 1350.0, 1345.0, 1345.0, 1375.0, 1360.0, 1348.0, 1370.3, 1389.1, 1375.0, 1396.4, 1392.0, 1407.95, 1398.0, 1394.8, 1340.0], \"type\": \"candlestick\", \"uid\": \"7102bcb3-3e42-4342-88af-8674821338a5\", \"x\": [\"2015-02-02T00:00:00\", \"2015-02-03T00:00:00\", \"2015-02-04T00:00:00\", \"2015-02-05T00:00:00\", \"2015-02-06T00:00:00\", \"2015-02-09T00:00:00\", \"2015-02-10T00:00:00\", \"2015-02-11T00:00:00\", \"2015-02-12T00:00:00\", \"2015-02-13T00:00:00\", \"2015-02-16T00:00:00\", \"2015-02-18T00:00:00\", \"2015-02-19T00:00:00\", \"2015-02-20T00:00:00\", \"2015-02-23T00:00:00\", \"2015-02-24T00:00:00\", \"2015-02-25T00:00:00\", \"2015-02-26T00:00:00\", \"2015-02-27T00:00:00\", \"2015-02-28T00:00:00\", \"2015-03-02T00:00:00\", \"2015-03-03T00:00:00\", \"2015-03-04T00:00:00\", \"2015-03-05T00:00:00\", \"2015-03-09T00:00:00\", \"2015-03-10T00:00:00\", \"2015-03-11T00:00:00\", \"2015-03-12T00:00:00\", \"2015-03-13T00:00:00\", \"2015-03-16T00:00:00\", \"2015-03-17T00:00:00\", \"2015-03-18T00:00:00\", \"2015-03-19T00:00:00\", \"2015-03-20T00:00:00\", \"2015-03-23T00:00:00\", \"2015-03-24T00:00:00\", \"2015-03-25T00:00:00\", \"2015-03-26T00:00:00\", \"2015-03-27T00:00:00\", \"2015-03-30T00:00:00\", \"2015-03-31T00:00:00\", \"2015-04-01T00:00:00\", \"2015-04-06T00:00:00\", \"2015-04-07T00:00:00\", \"2015-04-08T00:00:00\", \"2015-04-09T00:00:00\", \"2015-04-10T00:00:00\", \"2015-04-13T00:00:00\", \"2015-04-15T00:00:00\", \"2015-04-16T00:00:00\", \"2015-04-17T00:00:00\", \"2015-04-20T00:00:00\", \"2015-04-21T00:00:00\", \"2015-04-22T00:00:00\", \"2015-04-23T00:00:00\", \"2015-04-24T00:00:00\", \"2015-04-27T00:00:00\", \"2015-04-28T00:00:00\", \"2015-04-29T00:00:00\", \"2015-04-30T00:00:00\", \"2015-05-04T00:00:00\", \"2015-05-05T00:00:00\", \"2015-05-06T00:00:00\", \"2015-05-07T00:00:00\", \"2015-05-08T00:00:00\", \"2015-05-11T00:00:00\", \"2015-05-12T00:00:00\", \"2015-05-13T00:00:00\", \"2015-05-14T00:00:00\", \"2015-05-15T00:00:00\", \"2015-05-18T00:00:00\", \"2015-05-19T00:00:00\", \"2015-05-20T00:00:00\", \"2015-05-21T00:00:00\", \"2015-05-22T00:00:00\", \"2015-05-25T00:00:00\", \"2015-05-26T00:00:00\", \"2015-05-27T00:00:00\", \"2015-05-28T00:00:00\", \"2015-05-29T00:00:00\", \"2015-06-01T00:00:00\", \"2015-06-02T00:00:00\", \"2015-06-03T00:00:00\", \"2015-06-04T00:00:00\", \"2015-06-05T00:00:00\", \"2015-06-08T00:00:00\", \"2015-06-09T00:00:00\", \"2015-06-10T00:00:00\", \"2015-06-11T00:00:00\", \"2015-06-12T00:00:00\", \"2015-06-15T00:00:00\", \"2015-06-16T00:00:00\", \"2015-06-17T00:00:00\", \"2015-06-18T00:00:00\", \"2015-06-19T00:00:00\", \"2015-06-22T00:00:00\", \"2015-06-23T00:00:00\", \"2015-06-24T00:00:00\", \"2015-06-25T00:00:00\", \"2015-06-26T00:00:00\", \"2015-06-29T00:00:00\", \"2015-06-30T00:00:00\", \"2015-07-01T00:00:00\", \"2015-07-02T00:00:00\", \"2015-07-03T00:00:00\", \"2015-07-06T00:00:00\", \"2015-07-07T00:00:00\", \"2015-07-08T00:00:00\", \"2015-07-09T00:00:00\", \"2015-07-10T00:00:00\", \"2015-07-13T00:00:00\", \"2015-07-14T00:00:00\", \"2015-07-15T00:00:00\", \"2015-07-16T00:00:00\", \"2015-07-17T00:00:00\", \"2015-07-20T00:00:00\", \"2015-07-21T00:00:00\", \"2015-07-22T00:00:00\", \"2015-07-23T00:00:00\", \"2015-07-24T00:00:00\", \"2015-07-27T00:00:00\", \"2015-07-28T00:00:00\", \"2015-07-29T00:00:00\", \"2015-07-30T00:00:00\", \"2015-07-31T00:00:00\", \"2015-08-03T00:00:00\", \"2015-08-04T00:00:00\", \"2015-08-05T00:00:00\", \"2015-08-06T00:00:00\", \"2015-08-07T00:00:00\", \"2015-08-10T00:00:00\", \"2015-08-11T00:00:00\", \"2015-08-12T00:00:00\", \"2015-08-13T00:00:00\", \"2015-08-14T00:00:00\", \"2015-08-17T00:00:00\", \"2015-08-18T00:00:00\", \"2015-08-19T00:00:00\", \"2015-08-20T00:00:00\", \"2015-08-21T00:00:00\", \"2015-08-24T00:00:00\", \"2015-08-25T00:00:00\", \"2015-08-26T00:00:00\", \"2015-08-27T00:00:00\", \"2015-08-28T00:00:00\", \"2015-08-31T00:00:00\", \"2015-09-01T00:00:00\", \"2015-09-02T00:00:00\", \"2015-09-03T00:00:00\", \"2015-09-04T00:00:00\", \"2015-09-07T00:00:00\", \"2015-09-08T00:00:00\", \"2015-09-09T00:00:00\", \"2015-09-10T00:00:00\", \"2015-09-11T00:00:00\", \"2015-09-14T00:00:00\", \"2015-09-15T00:00:00\", \"2015-09-16T00:00:00\", \"2015-09-18T00:00:00\", \"2015-09-21T00:00:00\", \"2015-09-22T00:00:00\", \"2015-09-23T00:00:00\", \"2015-09-24T00:00:00\", \"2015-09-28T00:00:00\", \"2015-09-29T00:00:00\", \"2015-09-30T00:00:00\", \"2015-10-01T00:00:00\", \"2015-10-05T00:00:00\", \"2015-10-06T00:00:00\", \"2015-10-07T00:00:00\", \"2015-10-08T00:00:00\", \"2015-10-09T00:00:00\", \"2015-10-12T00:00:00\", \"2015-10-13T00:00:00\", \"2015-10-14T00:00:00\", \"2015-10-15T00:00:00\", \"2015-10-16T00:00:00\", \"2015-10-19T00:00:00\", \"2015-10-20T00:00:00\", \"2015-10-21T00:00:00\", \"2015-10-23T00:00:00\", \"2015-10-26T00:00:00\", \"2015-10-27T00:00:00\", \"2015-10-28T00:00:00\", \"2015-10-29T00:00:00\", \"2015-10-30T00:00:00\", \"2015-11-02T00:00:00\", \"2015-11-03T00:00:00\", \"2015-11-04T00:00:00\", \"2015-11-05T00:00:00\", \"2015-11-06T00:00:00\", \"2015-11-09T00:00:00\", \"2015-11-10T00:00:00\", \"2015-11-11T00:00:00\", \"2015-11-13T00:00:00\", \"2015-11-16T00:00:00\", \"2015-11-17T00:00:00\", \"2015-11-18T00:00:00\", \"2015-11-19T00:00:00\", \"2015-11-20T00:00:00\", \"2015-11-23T00:00:00\", \"2015-11-24T00:00:00\", \"2015-11-26T00:00:00\", \"2015-11-27T00:00:00\", \"2015-11-30T00:00:00\", \"2015-12-01T00:00:00\", \"2015-12-02T00:00:00\", \"2015-12-03T00:00:00\", \"2015-12-04T00:00:00\", \"2015-12-07T00:00:00\", \"2015-12-08T00:00:00\", \"2015-12-09T00:00:00\", \"2015-12-10T00:00:00\", \"2015-12-11T00:00:00\", \"2015-12-14T00:00:00\", \"2015-12-15T00:00:00\", \"2015-12-16T00:00:00\", \"2015-12-17T00:00:00\", \"2015-12-18T00:00:00\", \"2015-12-21T00:00:00\", \"2015-12-22T00:00:00\", \"2015-12-23T00:00:00\", \"2015-12-24T00:00:00\", \"2015-12-28T00:00:00\", \"2015-12-29T00:00:00\", \"2015-12-30T00:00:00\", \"2015-12-31T00:00:00\", \"2016-01-04T00:00:00\", \"2016-01-05T00:00:00\", \"2016-01-06T00:00:00\", \"2016-01-07T00:00:00\", \"2016-01-08T00:00:00\", \"2016-01-11T00:00:00\", \"2016-01-12T00:00:00\", \"2016-01-13T00:00:00\", \"2016-01-14T00:00:00\", \"2016-01-15T00:00:00\", \"2016-01-18T00:00:00\", \"2016-01-19T00:00:00\", \"2016-01-20T00:00:00\", \"2016-01-21T00:00:00\", \"2016-01-22T00:00:00\", \"2016-01-25T00:00:00\", \"2016-01-27T00:00:00\", \"2016-01-28T00:00:00\", \"2016-01-29T00:00:00\", \"2016-02-01T00:00:00\", \"2016-02-02T00:00:00\", \"2016-02-03T00:00:00\", \"2016-02-04T00:00:00\", \"2016-02-05T00:00:00\", \"2016-02-08T00:00:00\", \"2016-02-09T00:00:00\", \"2016-02-10T00:00:00\", \"2016-02-11T00:00:00\", \"2016-02-12T00:00:00\", \"2016-02-15T00:00:00\", \"2016-02-16T00:00:00\", \"2016-02-17T00:00:00\", \"2016-02-18T00:00:00\", \"2016-02-19T00:00:00\", \"2016-02-22T00:00:00\", \"2016-02-23T00:00:00\", \"2016-02-24T00:00:00\", \"2016-02-25T00:00:00\", \"2016-02-26T00:00:00\", \"2016-02-29T00:00:00\", \"2016-03-01T00:00:00\", \"2016-03-02T00:00:00\", \"2016-03-03T00:00:00\", \"2016-03-04T00:00:00\", \"2016-03-08T00:00:00\", \"2016-03-09T00:00:00\", \"2016-03-10T00:00:00\", \"2016-03-11T00:00:00\", \"2016-03-14T00:00:00\", \"2016-03-15T00:00:00\", \"2016-03-16T00:00:00\", \"2016-03-17T00:00:00\", \"2016-03-18T00:00:00\", \"2016-03-21T00:00:00\", \"2016-03-22T00:00:00\", \"2016-03-23T00:00:00\", \"2016-03-28T00:00:00\", \"2016-03-29T00:00:00\", \"2016-03-30T00:00:00\", \"2016-03-31T00:00:00\", \"2016-04-01T00:00:00\", \"2016-04-04T00:00:00\", \"2016-04-05T00:00:00\", \"2016-04-06T00:00:00\", \"2016-04-07T00:00:00\", \"2016-04-08T00:00:00\", \"2016-04-11T00:00:00\", \"2016-04-12T00:00:00\", \"2016-04-13T00:00:00\", \"2016-04-18T00:00:00\", \"2016-04-20T00:00:00\", \"2016-04-21T00:00:00\", \"2016-04-22T00:00:00\", \"2016-04-25T00:00:00\", \"2016-04-26T00:00:00\", \"2016-04-27T00:00:00\", \"2016-04-28T00:00:00\", \"2016-04-29T00:00:00\", \"2016-05-02T00:00:00\", \"2016-05-03T00:00:00\", \"2016-05-04T00:00:00\", \"2016-05-05T00:00:00\", \"2016-05-06T00:00:00\", \"2016-05-09T00:00:00\", \"2016-05-10T00:00:00\", \"2016-05-11T00:00:00\", \"2016-05-12T00:00:00\", \"2016-05-13T00:00:00\", \"2016-05-16T00:00:00\", \"2016-05-17T00:00:00\", \"2016-05-18T00:00:00\", \"2016-05-19T00:00:00\", \"2016-05-20T00:00:00\", \"2016-05-23T00:00:00\", \"2016-05-24T00:00:00\", \"2016-05-25T00:00:00\", \"2016-05-26T00:00:00\", \"2016-05-27T00:00:00\", \"2016-05-30T00:00:00\", \"2016-05-31T00:00:00\", \"2016-06-01T00:00:00\", \"2016-06-02T00:00:00\", \"2016-06-03T00:00:00\", \"2016-06-06T00:00:00\", \"2016-06-07T00:00:00\", \"2016-06-08T00:00:00\", \"2016-06-09T00:00:00\", \"2016-06-10T00:00:00\", \"2016-06-13T00:00:00\", \"2016-06-14T00:00:00\", \"2016-06-15T00:00:00\", \"2016-06-16T00:00:00\", \"2016-06-17T00:00:00\", \"2016-06-20T00:00:00\", \"2016-06-21T00:00:00\", \"2016-06-22T00:00:00\", \"2016-06-23T00:00:00\", \"2016-06-24T00:00:00\", \"2016-06-27T00:00:00\", \"2016-06-28T00:00:00\", \"2016-06-29T00:00:00\", \"2016-06-30T00:00:00\", \"2016-07-01T00:00:00\", \"2016-07-04T00:00:00\", \"2016-07-05T00:00:00\", \"2016-07-07T00:00:00\", \"2016-07-08T00:00:00\", \"2016-07-11T00:00:00\", \"2016-07-12T00:00:00\", \"2016-07-13T00:00:00\", \"2016-07-14T00:00:00\", \"2016-07-15T00:00:00\", \"2016-07-18T00:00:00\", \"2016-07-19T00:00:00\", \"2016-07-20T00:00:00\", \"2016-07-21T00:00:00\", \"2016-07-22T00:00:00\", \"2016-07-25T00:00:00\", \"2016-07-26T00:00:00\", \"2016-07-27T00:00:00\", \"2016-07-28T00:00:00\", \"2016-07-29T00:00:00\", \"2016-08-01T00:00:00\", \"2016-08-02T00:00:00\", \"2016-08-03T00:00:00\", \"2016-08-04T00:00:00\", \"2016-08-05T00:00:00\", \"2016-08-08T00:00:00\", \"2016-08-09T00:00:00\", \"2016-08-10T00:00:00\", \"2016-08-11T00:00:00\", \"2016-08-12T00:00:00\", \"2016-08-16T00:00:00\", \"2016-08-17T00:00:00\", \"2016-08-18T00:00:00\", \"2016-08-19T00:00:00\", \"2016-08-22T00:00:00\", \"2016-08-23T00:00:00\", \"2016-08-24T00:00:00\", \"2016-08-25T00:00:00\", \"2016-08-26T00:00:00\", \"2016-08-29T00:00:00\", \"2016-08-30T00:00:00\", \"2016-08-31T00:00:00\", \"2016-09-01T00:00:00\", \"2016-09-02T00:00:00\", \"2016-09-06T00:00:00\", \"2016-09-07T00:00:00\", \"2016-09-08T00:00:00\", \"2016-09-09T00:00:00\", \"2016-09-12T00:00:00\", \"2016-09-14T00:00:00\", \"2016-09-15T00:00:00\", \"2016-09-16T00:00:00\", \"2016-09-19T00:00:00\", \"2016-09-20T00:00:00\", \"2016-09-21T00:00:00\", \"2016-09-22T00:00:00\", \"2016-09-23T00:00:00\", \"2016-09-26T00:00:00\", \"2016-09-27T00:00:00\", \"2016-09-28T00:00:00\", \"2016-09-29T00:00:00\", \"2016-09-30T00:00:00\", \"2016-10-03T00:00:00\", \"2016-10-04T00:00:00\", \"2016-10-05T00:00:00\", \"2016-10-06T00:00:00\", \"2016-10-07T00:00:00\", \"2016-10-10T00:00:00\", \"2016-10-13T00:00:00\", \"2016-10-14T00:00:00\", \"2016-10-17T00:00:00\", \"2016-10-18T00:00:00\", \"2016-10-19T00:00:00\", \"2016-10-20T00:00:00\", \"2016-10-21T00:00:00\", \"2016-10-24T00:00:00\", \"2016-10-25T00:00:00\", \"2016-10-26T00:00:00\", \"2016-10-27T00:00:00\", \"2016-10-28T00:00:00\", \"2016-10-30T00:00:00\", \"2016-11-01T00:00:00\", \"2016-11-02T00:00:00\", \"2016-11-03T00:00:00\", \"2016-11-04T00:00:00\", \"2016-11-07T00:00:00\", \"2016-11-08T00:00:00\", \"2016-11-09T00:00:00\", \"2016-11-10T00:00:00\", \"2016-11-11T00:00:00\", \"2016-11-15T00:00:00\", \"2016-11-16T00:00:00\", \"2016-11-17T00:00:00\", \"2016-11-18T00:00:00\", \"2016-11-21T00:00:00\", \"2016-11-22T00:00:00\", \"2016-11-23T00:00:00\", \"2016-11-24T00:00:00\", \"2016-11-25T00:00:00\", \"2016-11-28T00:00:00\", \"2016-11-29T00:00:00\", \"2016-11-30T00:00:00\", \"2016-12-01T00:00:00\", \"2016-12-02T00:00:00\", \"2016-12-05T00:00:00\", \"2016-12-06T00:00:00\", \"2016-12-07T00:00:00\", \"2016-12-08T00:00:00\", \"2016-12-09T00:00:00\", \"2016-12-12T00:00:00\", \"2016-12-13T00:00:00\", \"2016-12-14T00:00:00\", \"2016-12-15T00:00:00\", \"2016-12-16T00:00:00\", \"2016-12-19T00:00:00\", \"2016-12-20T00:00:00\", \"2016-12-21T00:00:00\", \"2016-12-22T00:00:00\", \"2016-12-23T00:00:00\", \"2016-12-26T00:00:00\", \"2016-12-27T00:00:00\", \"2016-12-28T00:00:00\", \"2016-12-29T00:00:00\", \"2016-12-30T00:00:00\", \"2017-01-02T00:00:00\", \"2017-01-03T00:00:00\", \"2017-01-04T00:00:00\", \"2017-01-05T00:00:00\", \"2017-01-06T00:00:00\", \"2017-01-09T00:00:00\", \"2017-01-10T00:00:00\", \"2017-01-11T00:00:00\", \"2017-01-12T00:00:00\", \"2017-01-13T00:00:00\", \"2017-01-16T00:00:00\", \"2017-01-17T00:00:00\", \"2017-01-18T00:00:00\", \"2017-01-19T00:00:00\", \"2017-01-20T00:00:00\", \"2017-01-23T00:00:00\", \"2017-01-24T00:00:00\", \"2017-01-25T00:00:00\", \"2017-01-27T00:00:00\", \"2017-01-30T00:00:00\", \"2017-01-31T00:00:00\", \"2017-02-01T00:00:00\", \"2017-02-02T00:00:00\", \"2017-02-03T00:00:00\", \"2017-02-06T00:00:00\", \"2017-02-07T00:00:00\", \"2017-02-08T00:00:00\", \"2017-02-09T00:00:00\", \"2017-02-10T00:00:00\", \"2017-02-13T00:00:00\", \"2017-02-14T00:00:00\", \"2017-02-15T00:00:00\", \"2017-02-16T00:00:00\", \"2017-02-17T00:00:00\", \"2017-02-20T00:00:00\", \"2017-02-21T00:00:00\", \"2017-02-22T00:00:00\", \"2017-02-23T00:00:00\", \"2017-02-27T00:00:00\", \"2017-02-28T00:00:00\", \"2017-03-01T00:00:00\", \"2017-03-02T00:00:00\", \"2017-03-03T00:00:00\", \"2017-03-06T00:00:00\", \"2017-03-07T00:00:00\", \"2017-03-08T00:00:00\", \"2017-03-09T00:00:00\", \"2017-03-10T00:00:00\", \"2017-03-14T00:00:00\", \"2017-03-15T00:00:00\", \"2017-03-16T00:00:00\", \"2017-03-17T00:00:00\", \"2017-03-20T00:00:00\", \"2017-03-21T00:00:00\", \"2017-03-22T00:00:00\", \"2017-03-23T00:00:00\", \"2017-03-24T00:00:00\", \"2017-03-27T00:00:00\", \"2017-03-28T00:00:00\", \"2017-03-29T00:00:00\", \"2017-03-30T00:00:00\", \"2017-03-31T00:00:00\", \"2017-04-03T00:00:00\", \"2017-04-05T00:00:00\", \"2017-04-06T00:00:00\", \"2017-04-07T00:00:00\", \"2017-04-10T00:00:00\", \"2017-04-11T00:00:00\", \"2017-04-12T00:00:00\", \"2017-04-13T00:00:00\", \"2017-04-17T00:00:00\", \"2017-04-18T00:00:00\", \"2017-04-19T00:00:00\", \"2017-04-20T00:00:00\", \"2017-04-21T00:00:00\", \"2017-04-24T00:00:00\", \"2017-04-25T00:00:00\", \"2017-04-26T00:00:00\", \"2017-04-27T00:00:00\", \"2017-04-28T00:00:00\", \"2017-05-02T00:00:00\", \"2017-05-03T00:00:00\", \"2017-05-04T00:00:00\", \"2017-05-05T00:00:00\", \"2017-05-08T00:00:00\", \"2017-05-09T00:00:00\", \"2017-05-10T00:00:00\", \"2017-05-11T00:00:00\", \"2017-05-12T00:00:00\", \"2017-05-15T00:00:00\", \"2017-05-16T00:00:00\", \"2017-05-17T00:00:00\", \"2017-05-18T00:00:00\", \"2017-05-19T00:00:00\", \"2017-05-22T00:00:00\", \"2017-05-23T00:00:00\", \"2017-05-24T00:00:00\", \"2017-05-25T00:00:00\", \"2017-05-26T00:00:00\", \"2017-05-29T00:00:00\", \"2017-05-30T00:00:00\", \"2017-05-31T00:00:00\", \"2017-06-01T00:00:00\", \"2017-06-02T00:00:00\", \"2017-06-05T00:00:00\", \"2017-06-06T00:00:00\", \"2017-06-07T00:00:00\", \"2017-06-08T00:00:00\", \"2017-06-09T00:00:00\", \"2017-06-12T00:00:00\", \"2017-06-13T00:00:00\", \"2017-06-14T00:00:00\", \"2017-06-15T00:00:00\", \"2017-06-16T00:00:00\", \"2017-06-19T00:00:00\", \"2017-06-20T00:00:00\", \"2017-06-21T00:00:00\", \"2017-06-22T00:00:00\", \"2017-06-23T00:00:00\", \"2017-06-27T00:00:00\", \"2017-06-28T00:00:00\", \"2017-06-29T00:00:00\", \"2017-06-30T00:00:00\", \"2017-07-03T00:00:00\", \"2017-07-04T00:00:00\", \"2017-07-05T00:00:00\", \"2017-07-06T00:00:00\", \"2017-07-07T00:00:00\", \"2017-07-10T00:00:00\", \"2017-07-11T00:00:00\", \"2017-07-12T00:00:00\", \"2017-07-13T00:00:00\", \"2017-07-14T00:00:00\", \"2017-07-17T00:00:00\", \"2017-07-18T00:00:00\", \"2017-07-19T00:00:00\", \"2017-07-20T00:00:00\", \"2017-07-21T00:00:00\", \"2017-07-24T00:00:00\", \"2017-07-25T00:00:00\", \"2017-07-26T00:00:00\", \"2017-07-27T00:00:00\", \"2017-07-28T00:00:00\", \"2017-07-31T00:00:00\", \"2017-08-01T00:00:00\", \"2017-08-02T00:00:00\", \"2017-08-03T00:00:00\", \"2017-08-04T00:00:00\", \"2017-08-07T00:00:00\", \"2017-08-08T00:00:00\", \"2017-08-09T00:00:00\", \"2017-08-10T00:00:00\", \"2017-08-11T00:00:00\", \"2017-08-14T00:00:00\", \"2017-08-16T00:00:00\", \"2017-08-17T00:00:00\", \"2017-08-18T00:00:00\", \"2017-08-21T00:00:00\", \"2017-08-22T00:00:00\", \"2017-08-23T00:00:00\", \"2017-08-24T00:00:00\", \"2017-08-28T00:00:00\", \"2017-08-29T00:00:00\", \"2017-08-30T00:00:00\", \"2017-08-31T00:00:00\", \"2017-09-01T00:00:00\", \"2017-09-04T00:00:00\", \"2017-09-05T00:00:00\", \"2017-09-06T00:00:00\", \"2017-09-07T00:00:00\", \"2017-09-08T00:00:00\", \"2017-09-11T00:00:00\", \"2017-09-12T00:00:00\", \"2017-09-13T00:00:00\", \"2017-09-14T00:00:00\", \"2017-09-15T00:00:00\", \"2017-09-18T00:00:00\", \"2017-09-19T00:00:00\", \"2017-09-20T00:00:00\", \"2017-09-21T00:00:00\", \"2017-09-22T00:00:00\", \"2017-09-25T00:00:00\", \"2017-09-26T00:00:00\", \"2017-09-27T00:00:00\", \"2017-09-28T00:00:00\", \"2017-09-29T00:00:00\", \"2017-10-03T00:00:00\", \"2017-10-04T00:00:00\", \"2017-10-05T00:00:00\", \"2017-10-06T00:00:00\", \"2017-10-09T00:00:00\", \"2017-10-10T00:00:00\", \"2017-10-11T00:00:00\", \"2017-10-12T00:00:00\", \"2017-10-13T00:00:00\", \"2017-10-16T00:00:00\", \"2017-10-17T00:00:00\", \"2017-10-18T00:00:00\", \"2017-10-19T00:00:00\", \"2017-10-23T00:00:00\", \"2017-10-24T00:00:00\", \"2017-10-25T00:00:00\", \"2017-10-26T00:00:00\", \"2017-10-27T00:00:00\", \"2017-10-30T00:00:00\", \"2017-10-31T00:00:00\", \"2017-11-01T00:00:00\", \"2017-11-02T00:00:00\", \"2017-11-03T00:00:00\", \"2017-11-06T00:00:00\", \"2017-11-07T00:00:00\", \"2017-11-08T00:00:00\", \"2017-11-09T00:00:00\", \"2017-11-10T00:00:00\", \"2017-11-13T00:00:00\", \"2017-11-14T00:00:00\", \"2017-11-15T00:00:00\", \"2017-11-16T00:00:00\", \"2017-11-17T00:00:00\", \"2017-11-20T00:00:00\", \"2017-11-21T00:00:00\", \"2017-11-22T00:00:00\", \"2017-11-23T00:00:00\", \"2017-11-24T00:00:00\", \"2017-11-27T00:00:00\", \"2017-11-28T00:00:00\", \"2017-11-29T00:00:00\", \"2017-11-30T00:00:00\", \"2017-12-01T00:00:00\", \"2017-12-04T00:00:00\", \"2017-12-05T00:00:00\", \"2017-12-06T00:00:00\", \"2017-12-07T00:00:00\", \"2017-12-08T00:00:00\", \"2017-12-11T00:00:00\", \"2017-12-12T00:00:00\", \"2017-12-13T00:00:00\", \"2017-12-14T00:00:00\", \"2017-12-15T00:00:00\", \"2017-12-18T00:00:00\", \"2017-12-19T00:00:00\", \"2017-12-20T00:00:00\", \"2017-12-21T00:00:00\", \"2017-12-22T00:00:00\", \"2017-12-26T00:00:00\", \"2017-12-27T00:00:00\", \"2017-12-28T00:00:00\", \"2017-12-29T00:00:00\", \"2018-01-01T00:00:00\", \"2018-01-02T00:00:00\", \"2018-01-03T00:00:00\", \"2018-01-04T00:00:00\", \"2018-01-05T00:00:00\", \"2018-01-08T00:00:00\", \"2018-01-09T00:00:00\", \"2018-01-10T00:00:00\", \"2018-01-11T00:00:00\", \"2018-01-12T00:00:00\", \"2018-01-15T00:00:00\", \"2018-01-16T00:00:00\", \"2018-01-17T00:00:00\", \"2018-01-18T00:00:00\", \"2018-01-19T00:00:00\", \"2018-01-22T00:00:00\", \"2018-01-23T00:00:00\", \"2018-01-24T00:00:00\", \"2018-01-25T00:00:00\", \"2018-01-29T00:00:00\", \"2018-01-30T00:00:00\", \"2018-01-31T00:00:00\", \"2018-02-01T00:00:00\", \"2018-02-02T00:00:00\", \"2018-02-05T00:00:00\", \"2018-02-06T00:00:00\", \"2018-02-07T00:00:00\", \"2018-02-08T00:00:00\", \"2018-02-09T00:00:00\", \"2018-02-12T00:00:00\", \"2018-02-14T00:00:00\", \"2018-02-15T00:00:00\", \"2018-02-16T00:00:00\", \"2018-02-19T00:00:00\", \"2018-02-20T00:00:00\", \"2018-02-21T00:00:00\", \"2018-02-22T00:00:00\", \"2018-02-23T00:00:00\", \"2018-02-26T00:00:00\", \"2018-02-27T00:00:00\", \"2018-02-28T00:00:00\", \"2018-03-01T00:00:00\", \"2018-03-05T00:00:00\", \"2018-03-06T00:00:00\", \"2018-03-07T00:00:00\", \"2018-03-08T00:00:00\", \"2018-03-09T00:00:00\", \"2018-03-12T00:00:00\", \"2018-03-13T00:00:00\", \"2018-03-14T00:00:00\", \"2018-03-15T00:00:00\", \"2018-03-16T00:00:00\", \"2018-03-19T00:00:00\", \"2018-03-20T00:00:00\", \"2018-03-21T00:00:00\", \"2018-03-22T00:00:00\", \"2018-03-23T00:00:00\", \"2018-03-26T00:00:00\", \"2018-03-27T00:00:00\", \"2018-03-28T00:00:00\", \"2018-04-02T00:00:00\", \"2018-04-03T00:00:00\", \"2018-04-04T00:00:00\", \"2018-04-05T00:00:00\", \"2018-04-06T00:00:00\", \"2018-04-09T00:00:00\", \"2018-04-10T00:00:00\", \"2018-04-11T00:00:00\", \"2018-04-12T00:00:00\", \"2018-04-13T00:00:00\", \"2018-04-16T00:00:00\", \"2018-04-17T00:00:00\", \"2018-04-18T00:00:00\", \"2018-04-19T00:00:00\", \"2018-04-20T00:00:00\", \"2018-04-23T00:00:00\", \"2018-04-24T00:00:00\", \"2018-04-25T00:00:00\", \"2018-04-26T00:00:00\", \"2018-04-27T00:00:00\", \"2018-04-30T00:00:00\", \"2018-05-02T00:00:00\", \"2018-05-03T00:00:00\", \"2018-05-04T00:00:00\", \"2018-05-07T00:00:00\", \"2018-05-08T00:00:00\", \"2018-05-09T00:00:00\", \"2018-05-10T00:00:00\", \"2018-05-11T00:00:00\", \"2018-05-14T00:00:00\", \"2018-05-15T00:00:00\", \"2018-05-16T00:00:00\", \"2018-05-17T00:00:00\", \"2018-05-18T00:00:00\", \"2018-05-21T00:00:00\", \"2018-05-22T00:00:00\", \"2018-05-23T00:00:00\", \"2018-05-24T00:00:00\", \"2018-05-25T00:00:00\", \"2018-05-28T00:00:00\", \"2018-05-29T00:00:00\", \"2018-05-30T00:00:00\", \"2018-05-31T00:00:00\", \"2018-06-01T00:00:00\", \"2018-06-04T00:00:00\", \"2018-06-05T00:00:00\", \"2018-06-06T00:00:00\", \"2018-06-07T00:00:00\", \"2018-06-08T00:00:00\", \"2018-06-11T00:00:00\", \"2018-06-12T00:00:00\", \"2018-06-13T00:00:00\", \"2018-06-14T00:00:00\", \"2018-06-15T00:00:00\", \"2018-06-18T00:00:00\", \"2018-06-19T00:00:00\", \"2018-06-20T00:00:00\", \"2018-06-21T00:00:00\", \"2018-06-22T00:00:00\", \"2018-06-25T00:00:00\", \"2018-06-26T00:00:00\", \"2018-06-27T00:00:00\", \"2018-06-28T00:00:00\", \"2018-06-29T00:00:00\", \"2018-07-02T00:00:00\", \"2018-07-03T00:00:00\", \"2018-07-04T00:00:00\", \"2018-07-05T00:00:00\", \"2018-07-06T00:00:00\", \"2018-07-09T00:00:00\", \"2018-07-10T00:00:00\", \"2018-07-11T00:00:00\", \"2018-07-12T00:00:00\", \"2018-07-13T00:00:00\", \"2018-07-16T00:00:00\", \"2018-07-17T00:00:00\", \"2018-07-18T00:00:00\", \"2018-07-19T00:00:00\", \"2018-07-20T00:00:00\", \"2018-07-23T00:00:00\", \"2018-07-24T00:00:00\", \"2018-07-25T00:00:00\", \"2018-07-26T00:00:00\", \"2018-07-27T00:00:00\", \"2018-07-30T00:00:00\", \"2018-07-31T00:00:00\", \"2018-08-01T00:00:00\", \"2018-08-02T00:00:00\", \"2018-08-03T00:00:00\", \"2018-08-06T00:00:00\", \"2018-08-07T00:00:00\", \"2018-08-08T00:00:00\", \"2018-08-09T00:00:00\", \"2018-08-10T00:00:00\", \"2018-08-13T00:00:00\", \"2018-08-14T00:00:00\", \"2018-08-16T00:00:00\", \"2018-08-17T00:00:00\", \"2018-08-20T00:00:00\", \"2018-08-21T00:00:00\", \"2018-08-23T00:00:00\", \"2018-08-24T00:00:00\", \"2018-08-27T00:00:00\", \"2018-08-28T00:00:00\", \"2018-08-29T00:00:00\", \"2018-08-30T00:00:00\", \"2018-08-31T00:00:00\", \"2018-09-03T00:00:00\", \"2018-09-04T00:00:00\", \"2018-09-05T00:00:00\", \"2018-09-06T00:00:00\", \"2018-09-07T00:00:00\", \"2018-09-10T00:00:00\", \"2018-09-11T00:00:00\", \"2018-09-12T00:00:00\", \"2018-09-14T00:00:00\", \"2018-09-17T00:00:00\", \"2018-09-18T00:00:00\", \"2018-09-19T00:00:00\", \"2018-09-21T00:00:00\", \"2018-09-24T00:00:00\", \"2018-09-25T00:00:00\", \"2018-09-26T00:00:00\", \"2018-09-27T00:00:00\", \"2018-09-28T00:00:00\", \"2018-10-01T00:00:00\", \"2018-10-03T00:00:00\", \"2018-10-04T00:00:00\", \"2018-10-05T00:00:00\", \"2018-10-08T00:00:00\", \"2018-10-09T00:00:00\", \"2018-10-10T00:00:00\", \"2018-10-11T00:00:00\", \"2018-10-12T00:00:00\", \"2018-10-15T00:00:00\", \"2018-10-16T00:00:00\", \"2018-10-17T00:00:00\", \"2018-10-19T00:00:00\", \"2018-10-22T00:00:00\", \"2018-10-23T00:00:00\", \"2018-10-24T00:00:00\", \"2018-10-25T00:00:00\", \"2018-10-26T00:00:00\", \"2018-10-29T00:00:00\", \"2018-10-30T00:00:00\", \"2018-10-31T00:00:00\", \"2018-11-01T00:00:00\", \"2018-11-02T00:00:00\", \"2018-11-05T00:00:00\", \"2018-11-06T00:00:00\", \"2018-11-07T00:00:00\", \"2018-11-09T00:00:00\", \"2018-11-12T00:00:00\", \"2018-11-13T00:00:00\", \"2018-11-14T00:00:00\", \"2018-11-15T00:00:00\", \"2018-11-16T00:00:00\", \"2018-11-19T00:00:00\", \"2018-11-20T00:00:00\", \"2018-11-21T00:00:00\", \"2018-11-22T00:00:00\", \"2018-11-26T00:00:00\", \"2018-11-27T00:00:00\", \"2018-11-28T00:00:00\", \"2018-11-29T00:00:00\", \"2018-11-30T00:00:00\", \"2018-12-03T00:00:00\", \"2018-12-04T00:00:00\", \"2018-12-05T00:00:00\", \"2018-12-06T00:00:00\", \"2018-12-07T00:00:00\", \"2018-12-10T00:00:00\", \"2018-12-11T00:00:00\", \"2018-12-12T00:00:00\", \"2018-12-13T00:00:00\", \"2018-12-14T00:00:00\", \"2018-12-17T00:00:00\", \"2018-12-18T00:00:00\", \"2018-12-19T00:00:00\", \"2018-12-20T00:00:00\", \"2018-12-21T00:00:00\", \"2018-12-24T00:00:00\", \"2018-12-26T00:00:00\", \"2018-12-27T00:00:00\", \"2018-12-28T00:00:00\", \"2018-12-31T00:00:00\", \"2019-01-01T00:00:00\", \"2019-01-02T00:00:00\", \"2019-01-03T00:00:00\", \"2019-01-04T00:00:00\", \"2019-01-07T00:00:00\", \"2019-01-08T00:00:00\", \"2019-01-09T00:00:00\", \"2019-01-10T00:00:00\", \"2019-01-11T00:00:00\", \"2019-01-14T00:00:00\", \"2019-01-15T00:00:00\", \"2019-01-16T00:00:00\", \"2019-01-17T00:00:00\", \"2019-01-18T00:00:00\", \"2019-01-21T00:00:00\", \"2019-01-22T00:00:00\", \"2019-01-23T00:00:00\", \"2019-01-24T00:00:00\", \"2019-01-25T00:00:00\", \"2019-01-28T00:00:00\", \"2019-01-29T00:00:00\", \"2019-01-30T00:00:00\", \"2019-01-31T00:00:00\", \"2019-02-01T00:00:00\", \"2019-02-04T00:00:00\", \"2019-02-05T00:00:00\", \"2019-02-06T00:00:00\", \"2019-02-07T00:00:00\", \"2019-02-08T00:00:00\", \"2019-02-11T00:00:00\", \"2019-02-12T00:00:00\", \"2019-02-13T00:00:00\", \"2019-02-14T00:00:00\", \"2019-02-15T00:00:00\", \"2019-02-18T00:00:00\", \"2019-02-19T00:00:00\", \"2019-02-20T00:00:00\", \"2019-02-21T00:00:00\", \"2019-02-22T00:00:00\", \"2019-02-25T00:00:00\", \"2019-02-26T00:00:00\", \"2019-02-27T00:00:00\", \"2019-02-28T00:00:00\", \"2019-03-01T00:00:00\", \"2019-03-05T00:00:00\", \"2019-03-06T00:00:00\", \"2019-03-07T00:00:00\", \"2019-03-08T00:00:00\", \"2019-03-11T00:00:00\", \"2019-03-12T00:00:00\", \"2019-03-13T00:00:00\", \"2019-03-14T00:00:00\", \"2019-03-15T00:00:00\", \"2019-03-18T00:00:00\", \"2019-03-19T00:00:00\", \"2019-03-20T00:00:00\", \"2019-03-22T00:00:00\", \"2019-03-25T00:00:00\", \"2019-03-26T00:00:00\", \"2019-03-27T00:00:00\", \"2019-03-28T00:00:00\", \"2019-03-29T00:00:00\", \"2019-04-01T00:00:00\", \"2019-04-02T00:00:00\", \"2019-04-03T00:00:00\", \"2019-04-04T00:00:00\", \"2019-04-05T00:00:00\", \"2019-04-08T00:00:00\", \"2019-04-09T00:00:00\", \"2019-04-10T00:00:00\", \"2019-04-11T00:00:00\", \"2019-04-12T00:00:00\", \"2019-04-15T00:00:00\", \"2019-04-16T00:00:00\", \"2019-04-18T00:00:00\", \"2019-04-22T00:00:00\", \"2019-04-23T00:00:00\", \"2019-04-24T00:00:00\", \"2019-04-25T00:00:00\", \"2019-04-26T00:00:00\", \"2019-04-30T00:00:00\", \"2019-05-02T00:00:00\", \"2019-05-03T00:00:00\", \"2019-05-06T00:00:00\", \"2019-05-07T00:00:00\", \"2019-05-08T00:00:00\"], \"xaxis\": \"x\", \"yaxis\": \"y2\"}, {\"name\": \"Volume\", \"type\": \"bar\", \"uid\": \"1c91ced6-b205-4b1e-91cf-617fd46fa5e1\", \"x\": [\"2015-02-02T00:00:00\", \"2015-02-03T00:00:00\", \"2015-02-04T00:00:00\", \"2015-02-05T00:00:00\", \"2015-02-06T00:00:00\", \"2015-02-09T00:00:00\", \"2015-02-10T00:00:00\", \"2015-02-11T00:00:00\", \"2015-02-12T00:00:00\", \"2015-02-13T00:00:00\", \"2015-02-16T00:00:00\", \"2015-02-18T00:00:00\", \"2015-02-19T00:00:00\", \"2015-02-20T00:00:00\", \"2015-02-23T00:00:00\", \"2015-02-24T00:00:00\", \"2015-02-25T00:00:00\", \"2015-02-26T00:00:00\", \"2015-02-27T00:00:00\", \"2015-02-28T00:00:00\", \"2015-03-02T00:00:00\", \"2015-03-03T00:00:00\", \"2015-03-04T00:00:00\", \"2015-03-05T00:00:00\", \"2015-03-09T00:00:00\", \"2015-03-10T00:00:00\", \"2015-03-11T00:00:00\", \"2015-03-12T00:00:00\", \"2015-03-13T00:00:00\", \"2015-03-16T00:00:00\", \"2015-03-17T00:00:00\", \"2015-03-18T00:00:00\", \"2015-03-19T00:00:00\", \"2015-03-20T00:00:00\", \"2015-03-23T00:00:00\", \"2015-03-24T00:00:00\", \"2015-03-25T00:00:00\", \"2015-03-26T00:00:00\", \"2015-03-27T00:00:00\", \"2015-03-30T00:00:00\", \"2015-03-31T00:00:00\", \"2015-04-01T00:00:00\", \"2015-04-06T00:00:00\", \"2015-04-07T00:00:00\", \"2015-04-08T00:00:00\", \"2015-04-09T00:00:00\", \"2015-04-10T00:00:00\", \"2015-04-13T00:00:00\", \"2015-04-15T00:00:00\", \"2015-04-16T00:00:00\", \"2015-04-17T00:00:00\", \"2015-04-20T00:00:00\", \"2015-04-21T00:00:00\", \"2015-04-22T00:00:00\", \"2015-04-23T00:00:00\", \"2015-04-24T00:00:00\", \"2015-04-27T00:00:00\", \"2015-04-28T00:00:00\", \"2015-04-29T00:00:00\", \"2015-04-30T00:00:00\", \"2015-05-04T00:00:00\", \"2015-05-05T00:00:00\", \"2015-05-06T00:00:00\", \"2015-05-07T00:00:00\", \"2015-05-08T00:00:00\", \"2015-05-11T00:00:00\", \"2015-05-12T00:00:00\", \"2015-05-13T00:00:00\", \"2015-05-14T00:00:00\", \"2015-05-15T00:00:00\", \"2015-05-18T00:00:00\", \"2015-05-19T00:00:00\", \"2015-05-20T00:00:00\", \"2015-05-21T00:00:00\", \"2015-05-22T00:00:00\", \"2015-05-25T00:00:00\", \"2015-05-26T00:00:00\", \"2015-05-27T00:00:00\", \"2015-05-28T00:00:00\", \"2015-05-29T00:00:00\", \"2015-06-01T00:00:00\", \"2015-06-02T00:00:00\", \"2015-06-03T00:00:00\", \"2015-06-04T00:00:00\", \"2015-06-05T00:00:00\", \"2015-06-08T00:00:00\", \"2015-06-09T00:00:00\", \"2015-06-10T00:00:00\", \"2015-06-11T00:00:00\", \"2015-06-12T00:00:00\", \"2015-06-15T00:00:00\", \"2015-06-16T00:00:00\", \"2015-06-17T00:00:00\", \"2015-06-18T00:00:00\", \"2015-06-19T00:00:00\", \"2015-06-22T00:00:00\", \"2015-06-23T00:00:00\", \"2015-06-24T00:00:00\", \"2015-06-25T00:00:00\", \"2015-06-26T00:00:00\", \"2015-06-29T00:00:00\", \"2015-06-30T00:00:00\", \"2015-07-01T00:00:00\", \"2015-07-02T00:00:00\", \"2015-07-03T00:00:00\", \"2015-07-06T00:00:00\", \"2015-07-07T00:00:00\", \"2015-07-08T00:00:00\", \"2015-07-09T00:00:00\", \"2015-07-10T00:00:00\", \"2015-07-13T00:00:00\", \"2015-07-14T00:00:00\", \"2015-07-15T00:00:00\", \"2015-07-16T00:00:00\", \"2015-07-17T00:00:00\", \"2015-07-20T00:00:00\", \"2015-07-21T00:00:00\", \"2015-07-22T00:00:00\", \"2015-07-23T00:00:00\", \"2015-07-24T00:00:00\", \"2015-07-27T00:00:00\", \"2015-07-28T00:00:00\", \"2015-07-29T00:00:00\", \"2015-07-30T00:00:00\", \"2015-07-31T00:00:00\", \"2015-08-03T00:00:00\", \"2015-08-04T00:00:00\", \"2015-08-05T00:00:00\", \"2015-08-06T00:00:00\", \"2015-08-07T00:00:00\", \"2015-08-10T00:00:00\", \"2015-08-11T00:00:00\", \"2015-08-12T00:00:00\", \"2015-08-13T00:00:00\", \"2015-08-14T00:00:00\", \"2015-08-17T00:00:00\", \"2015-08-18T00:00:00\", \"2015-08-19T00:00:00\", \"2015-08-20T00:00:00\", \"2015-08-21T00:00:00\", \"2015-08-24T00:00:00\", \"2015-08-25T00:00:00\", \"2015-08-26T00:00:00\", \"2015-08-27T00:00:00\", \"2015-08-28T00:00:00\", \"2015-08-31T00:00:00\", \"2015-09-01T00:00:00\", \"2015-09-02T00:00:00\", \"2015-09-03T00:00:00\", \"2015-09-04T00:00:00\", \"2015-09-07T00:00:00\", \"2015-09-08T00:00:00\", \"2015-09-09T00:00:00\", \"2015-09-10T00:00:00\", \"2015-09-11T00:00:00\", \"2015-09-14T00:00:00\", \"2015-09-15T00:00:00\", \"2015-09-16T00:00:00\", \"2015-09-18T00:00:00\", \"2015-09-21T00:00:00\", \"2015-09-22T00:00:00\", \"2015-09-23T00:00:00\", \"2015-09-24T00:00:00\", \"2015-09-28T00:00:00\", \"2015-09-29T00:00:00\", \"2015-09-30T00:00:00\", \"2015-10-01T00:00:00\", \"2015-10-05T00:00:00\", \"2015-10-06T00:00:00\", \"2015-10-07T00:00:00\", \"2015-10-08T00:00:00\", \"2015-10-09T00:00:00\", \"2015-10-12T00:00:00\", \"2015-10-13T00:00:00\", \"2015-10-14T00:00:00\", \"2015-10-15T00:00:00\", \"2015-10-16T00:00:00\", \"2015-10-19T00:00:00\", \"2015-10-20T00:00:00\", \"2015-10-21T00:00:00\", \"2015-10-23T00:00:00\", \"2015-10-26T00:00:00\", \"2015-10-27T00:00:00\", \"2015-10-28T00:00:00\", \"2015-10-29T00:00:00\", \"2015-10-30T00:00:00\", \"2015-11-02T00:00:00\", \"2015-11-03T00:00:00\", \"2015-11-04T00:00:00\", \"2015-11-05T00:00:00\", \"2015-11-06T00:00:00\", \"2015-11-09T00:00:00\", \"2015-11-10T00:00:00\", \"2015-11-11T00:00:00\", \"2015-11-13T00:00:00\", \"2015-11-16T00:00:00\", \"2015-11-17T00:00:00\", \"2015-11-18T00:00:00\", \"2015-11-19T00:00:00\", \"2015-11-20T00:00:00\", \"2015-11-23T00:00:00\", \"2015-11-24T00:00:00\", \"2015-11-26T00:00:00\", \"2015-11-27T00:00:00\", \"2015-11-30T00:00:00\", \"2015-12-01T00:00:00\", \"2015-12-02T00:00:00\", \"2015-12-03T00:00:00\", \"2015-12-04T00:00:00\", \"2015-12-07T00:00:00\", \"2015-12-08T00:00:00\", \"2015-12-09T00:00:00\", \"2015-12-10T00:00:00\", \"2015-12-11T00:00:00\", \"2015-12-14T00:00:00\", \"2015-12-15T00:00:00\", \"2015-12-16T00:00:00\", \"2015-12-17T00:00:00\", \"2015-12-18T00:00:00\", \"2015-12-21T00:00:00\", \"2015-12-22T00:00:00\", \"2015-12-23T00:00:00\", \"2015-12-24T00:00:00\", \"2015-12-28T00:00:00\", \"2015-12-29T00:00:00\", \"2015-12-30T00:00:00\", \"2015-12-31T00:00:00\", \"2016-01-04T00:00:00\", \"2016-01-05T00:00:00\", \"2016-01-06T00:00:00\", \"2016-01-07T00:00:00\", \"2016-01-08T00:00:00\", \"2016-01-11T00:00:00\", \"2016-01-12T00:00:00\", \"2016-01-13T00:00:00\", \"2016-01-14T00:00:00\", \"2016-01-15T00:00:00\", \"2016-01-18T00:00:00\", \"2016-01-19T00:00:00\", \"2016-01-20T00:00:00\", \"2016-01-21T00:00:00\", \"2016-01-22T00:00:00\", \"2016-01-25T00:00:00\", \"2016-01-27T00:00:00\", \"2016-01-28T00:00:00\", \"2016-01-29T00:00:00\", \"2016-02-01T00:00:00\", \"2016-02-02T00:00:00\", \"2016-02-03T00:00:00\", \"2016-02-04T00:00:00\", \"2016-02-05T00:00:00\", \"2016-02-08T00:00:00\", \"2016-02-09T00:00:00\", \"2016-02-10T00:00:00\", \"2016-02-11T00:00:00\", \"2016-02-12T00:00:00\", \"2016-02-15T00:00:00\", \"2016-02-16T00:00:00\", \"2016-02-17T00:00:00\", \"2016-02-18T00:00:00\", \"2016-02-19T00:00:00\", \"2016-02-22T00:00:00\", \"2016-02-23T00:00:00\", \"2016-02-24T00:00:00\", \"2016-02-25T00:00:00\", \"2016-02-26T00:00:00\", \"2016-02-29T00:00:00\", \"2016-03-01T00:00:00\", \"2016-03-02T00:00:00\", \"2016-03-03T00:00:00\", \"2016-03-04T00:00:00\", \"2016-03-08T00:00:00\", \"2016-03-09T00:00:00\", \"2016-03-10T00:00:00\", \"2016-03-11T00:00:00\", \"2016-03-14T00:00:00\", \"2016-03-15T00:00:00\", \"2016-03-16T00:00:00\", \"2016-03-17T00:00:00\", \"2016-03-18T00:00:00\", \"2016-03-21T00:00:00\", \"2016-03-22T00:00:00\", \"2016-03-23T00:00:00\", \"2016-03-28T00:00:00\", \"2016-03-29T00:00:00\", \"2016-03-30T00:00:00\", \"2016-03-31T00:00:00\", \"2016-04-01T00:00:00\", \"2016-04-04T00:00:00\", \"2016-04-05T00:00:00\", \"2016-04-06T00:00:00\", \"2016-04-07T00:00:00\", \"2016-04-08T00:00:00\", \"2016-04-11T00:00:00\", \"2016-04-12T00:00:00\", \"2016-04-13T00:00:00\", \"2016-04-18T00:00:00\", \"2016-04-20T00:00:00\", \"2016-04-21T00:00:00\", \"2016-04-22T00:00:00\", \"2016-04-25T00:00:00\", \"2016-04-26T00:00:00\", \"2016-04-27T00:00:00\", \"2016-04-28T00:00:00\", \"2016-04-29T00:00:00\", \"2016-05-02T00:00:00\", \"2016-05-03T00:00:00\", \"2016-05-04T00:00:00\", \"2016-05-05T00:00:00\", \"2016-05-06T00:00:00\", \"2016-05-09T00:00:00\", \"2016-05-10T00:00:00\", \"2016-05-11T00:00:00\", \"2016-05-12T00:00:00\", \"2016-05-13T00:00:00\", \"2016-05-16T00:00:00\", \"2016-05-17T00:00:00\", \"2016-05-18T00:00:00\", \"2016-05-19T00:00:00\", \"2016-05-20T00:00:00\", \"2016-05-23T00:00:00\", \"2016-05-24T00:00:00\", \"2016-05-25T00:00:00\", \"2016-05-26T00:00:00\", \"2016-05-27T00:00:00\", \"2016-05-30T00:00:00\", \"2016-05-31T00:00:00\", \"2016-06-01T00:00:00\", \"2016-06-02T00:00:00\", \"2016-06-03T00:00:00\", \"2016-06-06T00:00:00\", \"2016-06-07T00:00:00\", \"2016-06-08T00:00:00\", \"2016-06-09T00:00:00\", \"2016-06-10T00:00:00\", \"2016-06-13T00:00:00\", \"2016-06-14T00:00:00\", \"2016-06-15T00:00:00\", \"2016-06-16T00:00:00\", \"2016-06-17T00:00:00\", \"2016-06-20T00:00:00\", \"2016-06-21T00:00:00\", \"2016-06-22T00:00:00\", \"2016-06-23T00:00:00\", \"2016-06-24T00:00:00\", \"2016-06-27T00:00:00\", \"2016-06-28T00:00:00\", \"2016-06-29T00:00:00\", \"2016-06-30T00:00:00\", \"2016-07-01T00:00:00\", \"2016-07-04T00:00:00\", \"2016-07-05T00:00:00\", \"2016-07-07T00:00:00\", \"2016-07-08T00:00:00\", \"2016-07-11T00:00:00\", \"2016-07-12T00:00:00\", \"2016-07-13T00:00:00\", \"2016-07-14T00:00:00\", \"2016-07-15T00:00:00\", \"2016-07-18T00:00:00\", \"2016-07-19T00:00:00\", \"2016-07-20T00:00:00\", \"2016-07-21T00:00:00\", \"2016-07-22T00:00:00\", \"2016-07-25T00:00:00\", \"2016-07-26T00:00:00\", \"2016-07-27T00:00:00\", \"2016-07-28T00:00:00\", \"2016-07-29T00:00:00\", \"2016-08-01T00:00:00\", \"2016-08-02T00:00:00\", \"2016-08-03T00:00:00\", \"2016-08-04T00:00:00\", \"2016-08-05T00:00:00\", \"2016-08-08T00:00:00\", \"2016-08-09T00:00:00\", \"2016-08-10T00:00:00\", \"2016-08-11T00:00:00\", \"2016-08-12T00:00:00\", \"2016-08-16T00:00:00\", \"2016-08-17T00:00:00\", \"2016-08-18T00:00:00\", \"2016-08-19T00:00:00\", \"2016-08-22T00:00:00\", \"2016-08-23T00:00:00\", \"2016-08-24T00:00:00\", \"2016-08-25T00:00:00\", \"2016-08-26T00:00:00\", \"2016-08-29T00:00:00\", \"2016-08-30T00:00:00\", \"2016-08-31T00:00:00\", \"2016-09-01T00:00:00\", \"2016-09-02T00:00:00\", \"2016-09-06T00:00:00\", \"2016-09-07T00:00:00\", \"2016-09-08T00:00:00\", \"2016-09-09T00:00:00\", \"2016-09-12T00:00:00\", \"2016-09-14T00:00:00\", \"2016-09-15T00:00:00\", \"2016-09-16T00:00:00\", \"2016-09-19T00:00:00\", \"2016-09-20T00:00:00\", \"2016-09-21T00:00:00\", \"2016-09-22T00:00:00\", \"2016-09-23T00:00:00\", \"2016-09-26T00:00:00\", \"2016-09-27T00:00:00\", \"2016-09-28T00:00:00\", \"2016-09-29T00:00:00\", \"2016-09-30T00:00:00\", \"2016-10-03T00:00:00\", \"2016-10-04T00:00:00\", \"2016-10-05T00:00:00\", \"2016-10-06T00:00:00\", \"2016-10-07T00:00:00\", \"2016-10-10T00:00:00\", \"2016-10-13T00:00:00\", \"2016-10-14T00:00:00\", \"2016-10-17T00:00:00\", \"2016-10-18T00:00:00\", \"2016-10-19T00:00:00\", \"2016-10-20T00:00:00\", \"2016-10-21T00:00:00\", \"2016-10-24T00:00:00\", \"2016-10-25T00:00:00\", \"2016-10-26T00:00:00\", \"2016-10-27T00:00:00\", \"2016-10-28T00:00:00\", \"2016-10-30T00:00:00\", \"2016-11-01T00:00:00\", \"2016-11-02T00:00:00\", \"2016-11-03T00:00:00\", \"2016-11-04T00:00:00\", \"2016-11-07T00:00:00\", \"2016-11-08T00:00:00\", \"2016-11-09T00:00:00\", \"2016-11-10T00:00:00\", \"2016-11-11T00:00:00\", \"2016-11-15T00:00:00\", \"2016-11-16T00:00:00\", \"2016-11-17T00:00:00\", \"2016-11-18T00:00:00\", \"2016-11-21T00:00:00\", \"2016-11-22T00:00:00\", \"2016-11-23T00:00:00\", \"2016-11-24T00:00:00\", \"2016-11-25T00:00:00\", \"2016-11-28T00:00:00\", \"2016-11-29T00:00:00\", \"2016-11-30T00:00:00\", \"2016-12-01T00:00:00\", \"2016-12-02T00:00:00\", \"2016-12-05T00:00:00\", \"2016-12-06T00:00:00\", \"2016-12-07T00:00:00\", \"2016-12-08T00:00:00\", \"2016-12-09T00:00:00\", \"2016-12-12T00:00:00\", \"2016-12-13T00:00:00\", \"2016-12-14T00:00:00\", \"2016-12-15T00:00:00\", \"2016-12-16T00:00:00\", \"2016-12-19T00:00:00\", \"2016-12-20T00:00:00\", \"2016-12-21T00:00:00\", \"2016-12-22T00:00:00\", \"2016-12-23T00:00:00\", \"2016-12-26T00:00:00\", \"2016-12-27T00:00:00\", \"2016-12-28T00:00:00\", \"2016-12-29T00:00:00\", \"2016-12-30T00:00:00\", \"2017-01-02T00:00:00\", \"2017-01-03T00:00:00\", \"2017-01-04T00:00:00\", \"2017-01-05T00:00:00\", \"2017-01-06T00:00:00\", \"2017-01-09T00:00:00\", \"2017-01-10T00:00:00\", \"2017-01-11T00:00:00\", \"2017-01-12T00:00:00\", \"2017-01-13T00:00:00\", \"2017-01-16T00:00:00\", \"2017-01-17T00:00:00\", \"2017-01-18T00:00:00\", \"2017-01-19T00:00:00\", \"2017-01-20T00:00:00\", \"2017-01-23T00:00:00\", \"2017-01-24T00:00:00\", \"2017-01-25T00:00:00\", \"2017-01-27T00:00:00\", \"2017-01-30T00:00:00\", \"2017-01-31T00:00:00\", \"2017-02-01T00:00:00\", \"2017-02-02T00:00:00\", \"2017-02-03T00:00:00\", \"2017-02-06T00:00:00\", \"2017-02-07T00:00:00\", \"2017-02-08T00:00:00\", \"2017-02-09T00:00:00\", \"2017-02-10T00:00:00\", \"2017-02-13T00:00:00\", \"2017-02-14T00:00:00\", \"2017-02-15T00:00:00\", \"2017-02-16T00:00:00\", \"2017-02-17T00:00:00\", \"2017-02-20T00:00:00\", \"2017-02-21T00:00:00\", \"2017-02-22T00:00:00\", \"2017-02-23T00:00:00\", \"2017-02-27T00:00:00\", \"2017-02-28T00:00:00\", \"2017-03-01T00:00:00\", \"2017-03-02T00:00:00\", \"2017-03-03T00:00:00\", \"2017-03-06T00:00:00\", \"2017-03-07T00:00:00\", \"2017-03-08T00:00:00\", \"2017-03-09T00:00:00\", \"2017-03-10T00:00:00\", \"2017-03-14T00:00:00\", \"2017-03-15T00:00:00\", \"2017-03-16T00:00:00\", \"2017-03-17T00:00:00\", \"2017-03-20T00:00:00\", \"2017-03-21T00:00:00\", \"2017-03-22T00:00:00\", \"2017-03-23T00:00:00\", \"2017-03-24T00:00:00\", \"2017-03-27T00:00:00\", \"2017-03-28T00:00:00\", \"2017-03-29T00:00:00\", \"2017-03-30T00:00:00\", \"2017-03-31T00:00:00\", \"2017-04-03T00:00:00\", \"2017-04-05T00:00:00\", \"2017-04-06T00:00:00\", \"2017-04-07T00:00:00\", \"2017-04-10T00:00:00\", \"2017-04-11T00:00:00\", \"2017-04-12T00:00:00\", \"2017-04-13T00:00:00\", \"2017-04-17T00:00:00\", \"2017-04-18T00:00:00\", \"2017-04-19T00:00:00\", \"2017-04-20T00:00:00\", \"2017-04-21T00:00:00\", \"2017-04-24T00:00:00\", \"2017-04-25T00:00:00\", \"2017-04-26T00:00:00\", \"2017-04-27T00:00:00\", \"2017-04-28T00:00:00\", \"2017-05-02T00:00:00\", \"2017-05-03T00:00:00\", \"2017-05-04T00:00:00\", \"2017-05-05T00:00:00\", \"2017-05-08T00:00:00\", \"2017-05-09T00:00:00\", \"2017-05-10T00:00:00\", \"2017-05-11T00:00:00\", \"2017-05-12T00:00:00\", \"2017-05-15T00:00:00\", \"2017-05-16T00:00:00\", \"2017-05-17T00:00:00\", \"2017-05-18T00:00:00\", \"2017-05-19T00:00:00\", \"2017-05-22T00:00:00\", \"2017-05-23T00:00:00\", \"2017-05-24T00:00:00\", \"2017-05-25T00:00:00\", \"2017-05-26T00:00:00\", \"2017-05-29T00:00:00\", \"2017-05-30T00:00:00\", \"2017-05-31T00:00:00\", \"2017-06-01T00:00:00\", \"2017-06-02T00:00:00\", \"2017-06-05T00:00:00\", \"2017-06-06T00:00:00\", \"2017-06-07T00:00:00\", \"2017-06-08T00:00:00\", \"2017-06-09T00:00:00\", \"2017-06-12T00:00:00\", \"2017-06-13T00:00:00\", \"2017-06-14T00:00:00\", \"2017-06-15T00:00:00\", \"2017-06-16T00:00:00\", \"2017-06-19T00:00:00\", \"2017-06-20T00:00:00\", \"2017-06-21T00:00:00\", \"2017-06-22T00:00:00\", \"2017-06-23T00:00:00\", \"2017-06-27T00:00:00\", \"2017-06-28T00:00:00\", \"2017-06-29T00:00:00\", \"2017-06-30T00:00:00\", \"2017-07-03T00:00:00\", \"2017-07-04T00:00:00\", \"2017-07-05T00:00:00\", \"2017-07-06T00:00:00\", \"2017-07-07T00:00:00\", \"2017-07-10T00:00:00\", \"2017-07-11T00:00:00\", \"2017-07-12T00:00:00\", \"2017-07-13T00:00:00\", \"2017-07-14T00:00:00\", \"2017-07-17T00:00:00\", \"2017-07-18T00:00:00\", \"2017-07-19T00:00:00\", \"2017-07-20T00:00:00\", \"2017-07-21T00:00:00\", \"2017-07-24T00:00:00\", \"2017-07-25T00:00:00\", \"2017-07-26T00:00:00\", \"2017-07-27T00:00:00\", \"2017-07-28T00:00:00\", \"2017-07-31T00:00:00\", \"2017-08-01T00:00:00\", \"2017-08-02T00:00:00\", \"2017-08-03T00:00:00\", \"2017-08-04T00:00:00\", \"2017-08-07T00:00:00\", \"2017-08-08T00:00:00\", \"2017-08-09T00:00:00\", \"2017-08-10T00:00:00\", \"2017-08-11T00:00:00\", \"2017-08-14T00:00:00\", \"2017-08-16T00:00:00\", \"2017-08-17T00:00:00\", \"2017-08-18T00:00:00\", \"2017-08-21T00:00:00\", \"2017-08-22T00:00:00\", \"2017-08-23T00:00:00\", \"2017-08-24T00:00:00\", \"2017-08-28T00:00:00\", \"2017-08-29T00:00:00\", \"2017-08-30T00:00:00\", \"2017-08-31T00:00:00\", \"2017-09-01T00:00:00\", \"2017-09-04T00:00:00\", \"2017-09-05T00:00:00\", \"2017-09-06T00:00:00\", \"2017-09-07T00:00:00\", \"2017-09-08T00:00:00\", \"2017-09-11T00:00:00\", \"2017-09-12T00:00:00\", \"2017-09-13T00:00:00\", \"2017-09-14T00:00:00\", \"2017-09-15T00:00:00\", \"2017-09-18T00:00:00\", \"2017-09-19T00:00:00\", \"2017-09-20T00:00:00\", \"2017-09-21T00:00:00\", \"2017-09-22T00:00:00\", \"2017-09-25T00:00:00\", \"2017-09-26T00:00:00\", \"2017-09-27T00:00:00\", \"2017-09-28T00:00:00\", \"2017-09-29T00:00:00\", \"2017-10-03T00:00:00\", \"2017-10-04T00:00:00\", \"2017-10-05T00:00:00\", \"2017-10-06T00:00:00\", \"2017-10-09T00:00:00\", \"2017-10-10T00:00:00\", \"2017-10-11T00:00:00\", \"2017-10-12T00:00:00\", \"2017-10-13T00:00:00\", \"2017-10-16T00:00:00\", \"2017-10-17T00:00:00\", \"2017-10-18T00:00:00\", \"2017-10-19T00:00:00\", \"2017-10-23T00:00:00\", \"2017-10-24T00:00:00\", \"2017-10-25T00:00:00\", \"2017-10-26T00:00:00\", \"2017-10-27T00:00:00\", \"2017-10-30T00:00:00\", \"2017-10-31T00:00:00\", \"2017-11-01T00:00:00\", \"2017-11-02T00:00:00\", \"2017-11-03T00:00:00\", \"2017-11-06T00:00:00\", \"2017-11-07T00:00:00\", \"2017-11-08T00:00:00\", \"2017-11-09T00:00:00\", \"2017-11-10T00:00:00\", \"2017-11-13T00:00:00\", \"2017-11-14T00:00:00\", \"2017-11-15T00:00:00\", \"2017-11-16T00:00:00\", \"2017-11-17T00:00:00\", \"2017-11-20T00:00:00\", \"2017-11-21T00:00:00\", \"2017-11-22T00:00:00\", \"2017-11-23T00:00:00\", \"2017-11-24T00:00:00\", \"2017-11-27T00:00:00\", \"2017-11-28T00:00:00\", \"2017-11-29T00:00:00\", \"2017-11-30T00:00:00\", \"2017-12-01T00:00:00\", \"2017-12-04T00:00:00\", \"2017-12-05T00:00:00\", \"2017-12-06T00:00:00\", \"2017-12-07T00:00:00\", \"2017-12-08T00:00:00\", \"2017-12-11T00:00:00\", \"2017-12-12T00:00:00\", \"2017-12-13T00:00:00\", \"2017-12-14T00:00:00\", \"2017-12-15T00:00:00\", \"2017-12-18T00:00:00\", \"2017-12-19T00:00:00\", \"2017-12-20T00:00:00\", \"2017-12-21T00:00:00\", \"2017-12-22T00:00:00\", \"2017-12-26T00:00:00\", \"2017-12-27T00:00:00\", \"2017-12-28T00:00:00\", \"2017-12-29T00:00:00\", \"2018-01-01T00:00:00\", \"2018-01-02T00:00:00\", \"2018-01-03T00:00:00\", \"2018-01-04T00:00:00\", \"2018-01-05T00:00:00\", \"2018-01-08T00:00:00\", \"2018-01-09T00:00:00\", \"2018-01-10T00:00:00\", \"2018-01-11T00:00:00\", \"2018-01-12T00:00:00\", \"2018-01-15T00:00:00\", \"2018-01-16T00:00:00\", \"2018-01-17T00:00:00\", \"2018-01-18T00:00:00\", \"2018-01-19T00:00:00\", \"2018-01-22T00:00:00\", \"2018-01-23T00:00:00\", \"2018-01-24T00:00:00\", \"2018-01-25T00:00:00\", \"2018-01-29T00:00:00\", \"2018-01-30T00:00:00\", \"2018-01-31T00:00:00\", \"2018-02-01T00:00:00\", \"2018-02-02T00:00:00\", \"2018-02-05T00:00:00\", \"2018-02-06T00:00:00\", \"2018-02-07T00:00:00\", \"2018-02-08T00:00:00\", \"2018-02-09T00:00:00\", \"2018-02-12T00:00:00\", \"2018-02-14T00:00:00\", \"2018-02-15T00:00:00\", \"2018-02-16T00:00:00\", \"2018-02-19T00:00:00\", \"2018-02-20T00:00:00\", \"2018-02-21T00:00:00\", \"2018-02-22T00:00:00\", \"2018-02-23T00:00:00\", \"2018-02-26T00:00:00\", \"2018-02-27T00:00:00\", \"2018-02-28T00:00:00\", \"2018-03-01T00:00:00\", \"2018-03-05T00:00:00\", \"2018-03-06T00:00:00\", \"2018-03-07T00:00:00\", \"2018-03-08T00:00:00\", \"2018-03-09T00:00:00\", \"2018-03-12T00:00:00\", \"2018-03-13T00:00:00\", \"2018-03-14T00:00:00\", \"2018-03-15T00:00:00\", \"2018-03-16T00:00:00\", \"2018-03-19T00:00:00\", \"2018-03-20T00:00:00\", \"2018-03-21T00:00:00\", \"2018-03-22T00:00:00\", \"2018-03-23T00:00:00\", \"2018-03-26T00:00:00\", \"2018-03-27T00:00:00\", \"2018-03-28T00:00:00\", \"2018-04-02T00:00:00\", \"2018-04-03T00:00:00\", \"2018-04-04T00:00:00\", \"2018-04-05T00:00:00\", \"2018-04-06T00:00:00\", \"2018-04-09T00:00:00\", \"2018-04-10T00:00:00\", \"2018-04-11T00:00:00\", \"2018-04-12T00:00:00\", \"2018-04-13T00:00:00\", \"2018-04-16T00:00:00\", \"2018-04-17T00:00:00\", \"2018-04-18T00:00:00\", \"2018-04-19T00:00:00\", \"2018-04-20T00:00:00\", \"2018-04-23T00:00:00\", \"2018-04-24T00:00:00\", \"2018-04-25T00:00:00\", \"2018-04-26T00:00:00\", \"2018-04-27T00:00:00\", \"2018-04-30T00:00:00\", \"2018-05-02T00:00:00\", \"2018-05-03T00:00:00\", \"2018-05-04T00:00:00\", \"2018-05-07T00:00:00\", \"2018-05-08T00:00:00\", \"2018-05-09T00:00:00\", \"2018-05-10T00:00:00\", \"2018-05-11T00:00:00\", \"2018-05-14T00:00:00\", \"2018-05-15T00:00:00\", \"2018-05-16T00:00:00\", \"2018-05-17T00:00:00\", \"2018-05-18T00:00:00\", \"2018-05-21T00:00:00\", \"2018-05-22T00:00:00\", \"2018-05-23T00:00:00\", \"2018-05-24T00:00:00\", \"2018-05-25T00:00:00\", \"2018-05-28T00:00:00\", \"2018-05-29T00:00:00\", \"2018-05-30T00:00:00\", \"2018-05-31T00:00:00\", \"2018-06-01T00:00:00\", \"2018-06-04T00:00:00\", \"2018-06-05T00:00:00\", \"2018-06-06T00:00:00\", \"2018-06-07T00:00:00\", \"2018-06-08T00:00:00\", \"2018-06-11T00:00:00\", \"2018-06-12T00:00:00\", \"2018-06-13T00:00:00\", \"2018-06-14T00:00:00\", \"2018-06-15T00:00:00\", \"2018-06-18T00:00:00\", \"2018-06-19T00:00:00\", \"2018-06-20T00:00:00\", \"2018-06-21T00:00:00\", \"2018-06-22T00:00:00\", \"2018-06-25T00:00:00\", \"2018-06-26T00:00:00\", \"2018-06-27T00:00:00\", \"2018-06-28T00:00:00\", \"2018-06-29T00:00:00\", \"2018-07-02T00:00:00\", \"2018-07-03T00:00:00\", \"2018-07-04T00:00:00\", \"2018-07-05T00:00:00\", \"2018-07-06T00:00:00\", \"2018-07-09T00:00:00\", \"2018-07-10T00:00:00\", \"2018-07-11T00:00:00\", \"2018-07-12T00:00:00\", \"2018-07-13T00:00:00\", \"2018-07-16T00:00:00\", \"2018-07-17T00:00:00\", \"2018-07-18T00:00:00\", \"2018-07-19T00:00:00\", \"2018-07-20T00:00:00\", \"2018-07-23T00:00:00\", \"2018-07-24T00:00:00\", \"2018-07-25T00:00:00\", \"2018-07-26T00:00:00\", \"2018-07-27T00:00:00\", \"2018-07-30T00:00:00\", \"2018-07-31T00:00:00\", \"2018-08-01T00:00:00\", \"2018-08-02T00:00:00\", \"2018-08-03T00:00:00\", \"2018-08-06T00:00:00\", \"2018-08-07T00:00:00\", \"2018-08-08T00:00:00\", \"2018-08-09T00:00:00\", \"2018-08-10T00:00:00\", \"2018-08-13T00:00:00\", \"2018-08-14T00:00:00\", \"2018-08-16T00:00:00\", \"2018-08-17T00:00:00\", \"2018-08-20T00:00:00\", \"2018-08-21T00:00:00\", \"2018-08-23T00:00:00\", \"2018-08-24T00:00:00\", \"2018-08-27T00:00:00\", \"2018-08-28T00:00:00\", \"2018-08-29T00:00:00\", \"2018-08-30T00:00:00\", \"2018-08-31T00:00:00\", \"2018-09-03T00:00:00\", \"2018-09-04T00:00:00\", \"2018-09-05T00:00:00\", \"2018-09-06T00:00:00\", \"2018-09-07T00:00:00\", \"2018-09-10T00:00:00\", \"2018-09-11T00:00:00\", \"2018-09-12T00:00:00\", \"2018-09-14T00:00:00\", \"2018-09-17T00:00:00\", \"2018-09-18T00:00:00\", \"2018-09-19T00:00:00\", \"2018-09-21T00:00:00\", \"2018-09-24T00:00:00\", \"2018-09-25T00:00:00\", \"2018-09-26T00:00:00\", \"2018-09-27T00:00:00\", \"2018-09-28T00:00:00\", \"2018-10-01T00:00:00\", \"2018-10-03T00:00:00\", \"2018-10-04T00:00:00\", \"2018-10-05T00:00:00\", \"2018-10-08T00:00:00\", \"2018-10-09T00:00:00\", \"2018-10-10T00:00:00\", \"2018-10-11T00:00:00\", \"2018-10-12T00:00:00\", \"2018-10-15T00:00:00\", \"2018-10-16T00:00:00\", \"2018-10-17T00:00:00\", \"2018-10-19T00:00:00\", \"2018-10-22T00:00:00\", \"2018-10-23T00:00:00\", \"2018-10-24T00:00:00\", \"2018-10-25T00:00:00\", \"2018-10-26T00:00:00\", \"2018-10-29T00:00:00\", \"2018-10-30T00:00:00\", \"2018-10-31T00:00:00\", \"2018-11-01T00:00:00\", \"2018-11-02T00:00:00\", \"2018-11-05T00:00:00\", \"2018-11-06T00:00:00\", \"2018-11-07T00:00:00\", \"2018-11-09T00:00:00\", \"2018-11-12T00:00:00\", \"2018-11-13T00:00:00\", \"2018-11-14T00:00:00\", \"2018-11-15T00:00:00\", \"2018-11-16T00:00:00\", \"2018-11-19T00:00:00\", \"2018-11-20T00:00:00\", \"2018-11-21T00:00:00\", \"2018-11-22T00:00:00\", \"2018-11-26T00:00:00\", \"2018-11-27T00:00:00\", \"2018-11-28T00:00:00\", \"2018-11-29T00:00:00\", \"2018-11-30T00:00:00\", \"2018-12-03T00:00:00\", \"2018-12-04T00:00:00\", \"2018-12-05T00:00:00\", \"2018-12-06T00:00:00\", \"2018-12-07T00:00:00\", \"2018-12-10T00:00:00\", \"2018-12-11T00:00:00\", \"2018-12-12T00:00:00\", \"2018-12-13T00:00:00\", \"2018-12-14T00:00:00\", \"2018-12-17T00:00:00\", \"2018-12-18T00:00:00\", \"2018-12-19T00:00:00\", \"2018-12-20T00:00:00\", \"2018-12-21T00:00:00\", \"2018-12-24T00:00:00\", \"2018-12-26T00:00:00\", \"2018-12-27T00:00:00\", \"2018-12-28T00:00:00\", \"2018-12-31T00:00:00\", \"2019-01-01T00:00:00\", \"2019-01-02T00:00:00\", \"2019-01-03T00:00:00\", \"2019-01-04T00:00:00\", \"2019-01-07T00:00:00\", \"2019-01-08T00:00:00\", \"2019-01-09T00:00:00\", \"2019-01-10T00:00:00\", \"2019-01-11T00:00:00\", \"2019-01-14T00:00:00\", \"2019-01-15T00:00:00\", \"2019-01-16T00:00:00\", \"2019-01-17T00:00:00\", \"2019-01-18T00:00:00\", \"2019-01-21T00:00:00\", \"2019-01-22T00:00:00\", \"2019-01-23T00:00:00\", \"2019-01-24T00:00:00\", \"2019-01-25T00:00:00\", \"2019-01-28T00:00:00\", \"2019-01-29T00:00:00\", \"2019-01-30T00:00:00\", \"2019-01-31T00:00:00\", \"2019-02-01T00:00:00\", \"2019-02-04T00:00:00\", \"2019-02-05T00:00:00\", \"2019-02-06T00:00:00\", \"2019-02-07T00:00:00\", \"2019-02-08T00:00:00\", \"2019-02-11T00:00:00\", \"2019-02-12T00:00:00\", \"2019-02-13T00:00:00\", \"2019-02-14T00:00:00\", \"2019-02-15T00:00:00\", \"2019-02-18T00:00:00\", \"2019-02-19T00:00:00\", \"2019-02-20T00:00:00\", \"2019-02-21T00:00:00\", \"2019-02-22T00:00:00\", \"2019-02-25T00:00:00\", \"2019-02-26T00:00:00\", \"2019-02-27T00:00:00\", \"2019-02-28T00:00:00\", \"2019-03-01T00:00:00\", \"2019-03-05T00:00:00\", \"2019-03-06T00:00:00\", \"2019-03-07T00:00:00\", \"2019-03-08T00:00:00\", \"2019-03-11T00:00:00\", \"2019-03-12T00:00:00\", \"2019-03-13T00:00:00\", \"2019-03-14T00:00:00\", \"2019-03-15T00:00:00\", \"2019-03-18T00:00:00\", \"2019-03-19T00:00:00\", \"2019-03-20T00:00:00\", \"2019-03-22T00:00:00\", \"2019-03-25T00:00:00\", \"2019-03-26T00:00:00\", \"2019-03-27T00:00:00\", \"2019-03-28T00:00:00\", \"2019-03-29T00:00:00\", \"2019-04-01T00:00:00\", \"2019-04-02T00:00:00\", \"2019-04-03T00:00:00\", \"2019-04-04T00:00:00\", \"2019-04-05T00:00:00\", \"2019-04-08T00:00:00\", \"2019-04-09T00:00:00\", \"2019-04-10T00:00:00\", \"2019-04-11T00:00:00\", \"2019-04-12T00:00:00\", \"2019-04-15T00:00:00\", \"2019-04-16T00:00:00\", \"2019-04-18T00:00:00\", \"2019-04-22T00:00:00\", \"2019-04-23T00:00:00\", \"2019-04-24T00:00:00\", \"2019-04-25T00:00:00\", \"2019-04-26T00:00:00\", \"2019-04-30T00:00:00\", \"2019-05-02T00:00:00\", \"2019-05-03T00:00:00\", \"2019-05-06T00:00:00\", \"2019-05-07T00:00:00\", \"2019-05-08T00:00:00\"], \"xaxis\": \"x\", \"y\": [8805408, 7807994, 6420064, 5634828, 4124050, 4036814, 6222324, 4464552, 3972444, 3367256, 5603948, 4487354, 4360756, 8533236, 6406098, 9103022, 6973272, 9794234, 8521634, 4176636, 6660988, 9420426, 6600558, 4889162, 6407516, 6951912, 5314196, 5381626, 5906998, 5924518, 8687358, 4227114, 6341690, 4743548, 6051434, 4217124, 4686388, 9401358, 10644842, 7903222, 9236604, 6662234, 5614030, 9718416, 11332066, 12441392, 11562034, 9212320, 10109852, 9212654, 10900432, 17124200, 8058612, 6718890, 6093864, 5802988, 5040882, 6689786, 7464710, 15899854, 6882512, 8143050, 10248612, 7643250, 7793300, 6484430, 7593884, 7629478, 5630258, 3801088, 4495946, 6626948, 3968360, 4909794, 3814108, 3018512, 4344130, 3669930, 12118950, 13373938, 8951466, 9192736, 7101086, 7273672, 5962662, 4947314, 4179184, 6171598, 6693286, 9806364, 5863280, 6358256, 11981614, 22560252, 20869134, 8827786, 7305134, 8497300, 12407370, 9569534, 9215732, 10594762, 6760324, 7275970, 6306556, 5574918, 5133460, 6936140, 7418544, 7360048, 4503738, 4536642, 6181144, 6779746, 4653324, 2895914, 3613752, 7905368, 8501972, 5957464, 9146466, 6102564, 6726706, 5315854, 7596648, 4509106, 5471774, 6543000, 3972164, 3929012, 4235080, 3996250, 4401096, 4261496, 5813256, 4955144, 3001220, 4054172, 8668784, 9153200, 16167024, 22617156, 8643034, 12318824, 4911058, 9453078, 9879050, 8840986, 5320264, 7398110, 4670390, 5895740, 7919294, 5057334, 4856002, 3636546, 5258912, 6112260, 15653456, 5791836, 7182644, 6942384, 13276370, 5300816, 7220388, 7890752, 3953422, 7288730, 5623794, 5252486, 4901630, 4259754, 2834252, 2804522, 3651756, 4129988, 6957388, 15165134, 8261192, 6574854, 5544542, 4992800, 5299442, 5457678, 6064846, 6107600, 3293708, 5192452, 4575752, 4904886, 3821660, 7779356, 5245920, 597312, 6232338, 7012172, 3923092, 5138984, 5562102, 5162846, 4792748, 6765246, 10870134, 4963130, 13666796, 5926156, 3448754, 5190506, 6139542, 6607820, 3436614, 4184496, 8491236, 8289704, 4818318, 7178818, 5498424, 8840342, 7289298, 5630700, 6370680, 5897868, 5432890, 5867752, 6813518, 3717712, 8444902, 13784026, 6829180, 12213960, 9009160, 9717378, 13255526, 10671076, 32805526, 12705552, 13133378, 12447316, 9808502, 20532532, 14498088, 10805646, 5981864, 7861728, 10542868, 8757992, 4521314, 6749472, 7159016, 8305714, 9587288, 5507428, 8952784, 7707560, 7813380, 13411066, 8822876, 5946916, 7042224, 6587908, 4674492, 5828162, 8673450, 6934426, 11344500, 3809500, 14175700, 7516342, 9188214, 7241656, 4096510, 6035816, 5413848, 9449238, 6995322, 5415706, 4783952, 5051592, 7674230, 6409474, 5800924, 6991228, 7669058, 8244530, 7250828, 6599902, 14084698, 5652700, 3937730, 4688664, 3191620, 4008490, 6127640, 4703920, 5098462, 7316486, 8692512, 9879104, 5196766, 5338152, 27837674, 12071508, 6619448, 28290892, 10704284, 4835468, 8011902, 6187546, 9893380, 6723644, 7004188, 3304956, 5628466, 5833830, 6686730, 4241764, 5546000, 3752652, 4164874, 8463182, 8389270, 5606772, 4209218, 6475676, 6120202, 4395742, 10655814, 4124736, 4682842, 3930852, 3960184, 8661788, 5535670, 7142612, 7450730, 4665380, 4979762, 5083292, 4278034, 4802092, 4902896, 6352238, 5840370, 4494010, 11411464, 4159036, 3464480, 3435076, 5822898, 2996352, 3558218, 5189514, 5480062, 3257766, 3770052, 4458420, 6805702, 4906992, 6381814, 14526298, 7601586, 5600914, 3063714, 3147366, 3763396, 4802464, 5038440, 7129420, 4397018, 3640520, 3521350, 5422218, 4649232, 5528418, 6192656, 6069352, 6149518, 6473324, 7472936, 6096796, 7068704, 3537014, 3729056, 3051862, 3342892, 3980140, 6833676, 4398100, 7389792, 8297934, 10643658, 19443452, 12827756, 5251858, 5902758, 5560912, 6972260, 15366412, 8492104, 14329394, 17956196, 7611988, 5263946, 4998826, 8568086, 14176464, 17456402, 8839450, 11338644, 9692240, 5112192, 8275586, 5990352, 4925722, 9647430, 6981744, 5265304, 10006602, 6969270, 4487314, 5059088, 7794880, 4616452, 19794750, 4793450, 3481512, 4999818, 5692698, 3710626, 704166, 4663848, 3212820, 3335654, 5266978, 4337644, 6136870, 9863872, 4454964, 6744546, 6617216, 7559146, 5766894, 8292282, 6041790, 8060954, 5986528, 8642738, 4770198, 3792414, 4511520, 12605430, 5748840, 5700076, 1818934, 3068952, 2245840, 3994600, 3758662, 4119378, 4736686, 11026802, 8830952, 6822792, 6857360, 5328400, 9305986, 13192400, 4690762, 7000522, 7970046, 4391272, 4004236, 7173186, 3235122, 2936802, 4741916, 3985706, 3576096, 2385362, 5184846, 5239344, 1996152, 3300716, 5476264, 17844944, 7231602, 6982286, 4002134, 6259938, 4294798, 10891426, 9980366, 7159786, 6907520, 5165798, 4155366, 6037398, 4560918, 4520424, 7412942, 4503984, 5718320, 3913844, 8331678, 6953378, 8984074, 6781988, 5321752, 6477430, 58181972, 28345506, 38102504, 16484482, 11130976, 8249366, 38483156, 30438688, 19194346, 19793622, 14203802, 11318126, 12626920, 10994784, 7255842, 10374216, 5862578, 10321018, 9263058, 5381432, 7434292, 14784918, 9909806, 8642228, 12728586, 20742286, 20437362, 18358446, 23118930, 14509002, 14052294, 14729118, 12504266, 5789942, 5398766, 7300242, 5274846, 3822884, 13801910, 11634336, 16644178, 7655136, 5733752, 5400440, 8483168, 4334766, 6558164, 7118382, 7332500, 9641300, 10464374, 6282792, 3432506, 3075668, 5781046, 4496530, 4464078, 5846524, 4014686, 4211400, 6542534, 11832758, 9788820, 10974578, 4404302, 7490020, 4346568, 5241756, 4937348, 4374800, 5111126, 3605588, 6272902, 3850490, 2745974, 24184592, 12907216, 14903164, 6953048, 4629268, 9124792, 10095924, 14223454, 14879462, 7097832, 5871146, 3561298, 4197600, 8588852, 12421476, 6196596, 16379070, 2343864, 9559814, 7800264, 10486620, 9354474, 8554356, 8961664, 5366274, 6209708, 44170680, 19762966, 9136558, 10023928, 8396382, 6529748, 7566946, 5599246, 9494980, 8992506, 8436900, 4337440, 5000558, 4765194, 4649568, 7712586, 6123776, 6188358, 7214138, 3619472, 3454542, 4351858, 3793278, 5774076, 5618014, 6923334, 4703014, 11441146, 7036682, 9842158, 11490224, 22243608, 7360697, 6045872, 5796755, 2965106, 13408300, 5397212, 13063384, 2301383, 3524428, 11309086, 5898827, 5606895, 6493894, 4824565, 8422426, 13482709, 7595722, 8367385, 8627519, 4841373, 5930965, 4024474, 6725324, 7036620, 8512481, 9766358, 14575786, 6331647, 16746889, 3612761, 12509005, 6307466, 4568497, 7681859, 5246079, 3567250, 4338659, 8022241, 4692243, 2178497, 4443661, 9337435, 8100888, 6846746, 6350114, 4145045, 5700766, 6976083, 6922695, 5535597, 4213475, 5968433, 5047524, 7320549, 6377912, 4670670, 4631804, 3667181, 9425208, 5065764, 4613540, 8356827, 10997631, 5518635, 5583582, 4926111, 7192434, 4164953, 5014242, 11139358, 8454571, 4053716, 4765707, 4136018, 4862339, 5285275, 4342556, 7078770, 5045123, 4308800, 4332743, 6134420, 4092754, 3391573, 4015327, 6526467, 5344596, 3573701, 6872758, 5075596, 4940540, 6027691, 4279089, 4550574, 20800526, 10274577, 6501545, 6241822, 4511520, 4184603, 5726438, 7547089, 13213678, 8749970, 10963640, 7079752, 6311699, 5280577, 5418205, 10124117, 6097190, 4393416, 4077590, 3859069, 5432492, 5106787, 4846496, 3840933, 6383113, 25887212, 4077928, 5605096, 7311893, 7232668, 6058880, 4857246, 3790044, 5084531, 6721380, 5802315, 14070595, 5763023, 6936027, 6717210, 10109426, 10709970, 6031005, 6924175, 8734508, 5681361, 6355371, 6483481, 3880795, 4408325, 3561957, 3852972, 5990476, 4936077, 5758957, 4066090, 4377741, 3348531, 4467388, 3342354, 3499035, 9098307, 6409354, 15573468, 11578079, 8767364, 6094470, 3925641, 3787063, 3501586, 4925020, 4486416, 4004429, 3997852, 2571440, 4794018, 8606681, 4717536, 5219825, 6608385, 5165578, 4541126, 5310604, 8121770, 5189851, 8170060, 5981176, 16927921, 8726913, 5588600, 7964271, 4184643, 6851453, 6522271, 6851477, 7418128, 5906107, 5477349, 11283973, 5640568, 6317025, 7185631, 10478114, 16152290, 5187377, 8055836, 8942077, 8559030, 7953445, 6635903, 5050944, 4970421, 18674393, 9137032, 5144704, 10430537, 8644605, 24083095, 17950870, 6565035, 6447670, 4667444, 5419033, 7995983, 5826300, 4457646, 5937242, 6402006, 6662112, 13641059, 13850257, 9663629, 6235018, 6621691, 4000966, 4051946, 7900520, 6813018, 3578453, 4657885, 5288533, 5959681, 3814985, 7593443, 7267710, 7935727, 6612951, 5554575, 8677225, 11031117, 9832127, 15285683, 12162568, 8825146, 10312290, 11176385, 10657216, 7040585, 10859594, 8061356, 7849815, 6726452, 7596244, 11251275, 19034084, 10082313, 9702495, 6387955, 10792698, 11047783, 7317397, 7358159, 23192804, 21889527, 24637041, 10970744, 9484776, 13196075, 9044870, 8856944, 7459295, 12750592, 25329776, 13147691, 10564099, 13621733, 14085534, 9165102, 7657823, 8790195, 16432468, 9382833, 16776353, 7565162, 8608961, 1268157, 10801976, 5792691, 6801884, 7775778, 6830435, 11022996, 7292947, 5707067, 7492560, 5763417, 6377474, 6796422, 7991577, 12575899, 10706861, 5559454, 5183786, 5809848, 5856030, 7194896, 9362246, 13472555, 12590396, 9260062, 7213200, 5051405, 5849136, 7353029, 5720936, 8271183, 4130260, 7202108, 12459615, 7655803, 7211038, 4446395, 7136570, 7434640, 8451017, 5491421, 5612263, 5754638, 4070237, 6453287, 4096434, 10046373, 6363764, 7465178, 25569061, 21969878, 16642317, 8803643, 13133054, 8506089, 8554137, 9313530, 7830037, 10161461, 9210159, 12037442, 9346125, 9395232, 9199585, 6492651, 7499344, 6381507, 6943712, 6608571, 9582070, 9634451, 6220193, 6284235, 10564724, 8737552, 7837632, 10081052, 11097587, 11254439, 7916006, 7093525, 12027974, 8095577, 6029435, 9690312, 11197222, 11199012, 10366211, 15868943, 10082048, 9771400, 9871414, 11421144, 7920599, 9458912, 10063773, 10467515, 7673582, 10083469, 7985916, 7834243, 8356305, 6714772, 8708110, 9483504, 7596487, 5730065, 5907941, 4237011, 7924392, 17781858, 10672111, 9040532, 7331903, 13902379, 6872079, 10182400, 8659681, 6497654, 7158075, 8853418, 14592926], \"yaxis\": \"y\"}],                        {\"height\": 650, \"template\": {\"data\": {\"bar\": [{\"error_x\": {\"color\": \"#2a3f5f\"}, \"error_y\": {\"color\": \"#2a3f5f\"}, \"marker\": {\"line\": {\"color\": \"#E5ECF6\", \"width\": 0.5}}, \"type\": \"bar\"}], \"barpolar\": [{\"marker\": {\"line\": {\"color\": \"#E5ECF6\", \"width\": 0.5}}, \"type\": \"barpolar\"}], \"carpet\": [{\"aaxis\": {\"endlinecolor\": \"#2a3f5f\", \"gridcolor\": \"white\", \"linecolor\": \"white\", \"minorgridcolor\": \"white\", \"startlinecolor\": \"#2a3f5f\"}, \"baxis\": {\"endlinecolor\": \"#2a3f5f\", \"gridcolor\": \"white\", \"linecolor\": \"white\", \"minorgridcolor\": \"white\", \"startlinecolor\": \"#2a3f5f\"}, \"type\": \"carpet\"}], \"choropleth\": [{\"colorbar\": {\"outlinewidth\": 0, \"ticks\": \"\"}, \"type\": \"choropleth\"}], \"contour\": [{\"colorbar\": {\"outlinewidth\": 0, \"ticks\": \"\"}, \"colorscale\": [[0.0, \"#0d0887\"], [0.1111111111111111, \"#46039f\"], [0.2222222222222222, \"#7201a8\"], [0.3333333333333333, \"#9c179e\"], [0.4444444444444444, \"#bd3786\"], [0.5555555555555556, \"#d8576b\"], [0.6666666666666666, \"#ed7953\"], [0.7777777777777778, \"#fb9f3a\"], [0.8888888888888888, \"#fdca26\"], [1.0, \"#f0f921\"]], \"type\": \"contour\"}], \"contourcarpet\": [{\"colorbar\": {\"outlinewidth\": 0, \"ticks\": \"\"}, \"type\": \"contourcarpet\"}], \"heatmap\": [{\"colorbar\": {\"outlinewidth\": 0, \"ticks\": \"\"}, \"colorscale\": [[0.0, \"#0d0887\"], [0.1111111111111111, \"#46039f\"], [0.2222222222222222, \"#7201a8\"], [0.3333333333333333, \"#9c179e\"], [0.4444444444444444, \"#bd3786\"], [0.5555555555555556, \"#d8576b\"], [0.6666666666666666, \"#ed7953\"], [0.7777777777777778, \"#fb9f3a\"], [0.8888888888888888, \"#fdca26\"], [1.0, \"#f0f921\"]], \"type\": \"heatmap\"}], \"heatmapgl\": [{\"colorbar\": {\"outlinewidth\": 0, \"ticks\": \"\"}, \"colorscale\": [[0.0, \"#0d0887\"], [0.1111111111111111, \"#46039f\"], [0.2222222222222222, \"#7201a8\"], [0.3333333333333333, \"#9c179e\"], [0.4444444444444444, \"#bd3786\"], [0.5555555555555556, \"#d8576b\"], [0.6666666666666666, \"#ed7953\"], [0.7777777777777778, \"#fb9f3a\"], [0.8888888888888888, \"#fdca26\"], [1.0, \"#f0f921\"]], \"type\": \"heatmapgl\"}], \"histogram\": [{\"marker\": {\"colorbar\": {\"outlinewidth\": 0, \"ticks\": \"\"}}, \"type\": \"histogram\"}], \"histogram2d\": [{\"colorbar\": {\"outlinewidth\": 0, \"ticks\": \"\"}, \"colorscale\": [[0.0, \"#0d0887\"], [0.1111111111111111, \"#46039f\"], [0.2222222222222222, \"#7201a8\"], [0.3333333333333333, \"#9c179e\"], [0.4444444444444444, \"#bd3786\"], [0.5555555555555556, \"#d8576b\"], [0.6666666666666666, \"#ed7953\"], [0.7777777777777778, \"#fb9f3a\"], [0.8888888888888888, \"#fdca26\"], [1.0, \"#f0f921\"]], \"type\": \"histogram2d\"}], \"histogram2dcontour\": [{\"colorbar\": {\"outlinewidth\": 0, \"ticks\": \"\"}, \"colorscale\": [[0.0, \"#0d0887\"], [0.1111111111111111, \"#46039f\"], [0.2222222222222222, \"#7201a8\"], [0.3333333333333333, \"#9c179e\"], [0.4444444444444444, \"#bd3786\"], [0.5555555555555556, \"#d8576b\"], [0.6666666666666666, \"#ed7953\"], [0.7777777777777778, \"#fb9f3a\"], [0.8888888888888888, \"#fdca26\"], [1.0, \"#f0f921\"]], \"type\": \"histogram2dcontour\"}], \"mesh3d\": [{\"colorbar\": {\"outlinewidth\": 0, \"ticks\": \"\"}, \"type\": \"mesh3d\"}], \"parcoords\": [{\"line\": {\"colorbar\": {\"outlinewidth\": 0, \"ticks\": \"\"}}, \"type\": \"parcoords\"}], \"pie\": [{\"automargin\": true, \"type\": \"pie\"}], \"scatter\": [{\"marker\": {\"colorbar\": {\"outlinewidth\": 0, \"ticks\": \"\"}}, \"type\": \"scatter\"}], \"scatter3d\": [{\"line\": {\"colorbar\": {\"outlinewidth\": 0, \"ticks\": \"\"}}, \"marker\": {\"colorbar\": {\"outlinewidth\": 0, \"ticks\": \"\"}}, \"type\": \"scatter3d\"}], \"scattercarpet\": [{\"marker\": {\"colorbar\": {\"outlinewidth\": 0, \"ticks\": \"\"}}, \"type\": \"scattercarpet\"}], \"scattergeo\": [{\"marker\": {\"colorbar\": {\"outlinewidth\": 0, \"ticks\": \"\"}}, \"type\": \"scattergeo\"}], \"scattergl\": [{\"marker\": {\"colorbar\": {\"outlinewidth\": 0, \"ticks\": \"\"}}, \"type\": \"scattergl\"}], \"scattermapbox\": [{\"marker\": {\"colorbar\": {\"outlinewidth\": 0, \"ticks\": \"\"}}, \"type\": \"scattermapbox\"}], \"scatterpolar\": [{\"marker\": {\"colorbar\": {\"outlinewidth\": 0, \"ticks\": \"\"}}, \"type\": \"scatterpolar\"}], \"scatterpolargl\": [{\"marker\": {\"colorbar\": {\"outlinewidth\": 0, \"ticks\": \"\"}}, \"type\": \"scatterpolargl\"}], \"scatterternary\": [{\"marker\": {\"colorbar\": {\"outlinewidth\": 0, \"ticks\": \"\"}}, \"type\": \"scatterternary\"}], \"surface\": [{\"colorbar\": {\"outlinewidth\": 0, \"ticks\": \"\"}, \"colorscale\": [[0.0, \"#0d0887\"], [0.1111111111111111, \"#46039f\"], [0.2222222222222222, \"#7201a8\"], [0.3333333333333333, \"#9c179e\"], [0.4444444444444444, \"#bd3786\"], [0.5555555555555556, \"#d8576b\"], [0.6666666666666666, \"#ed7953\"], [0.7777777777777778, \"#fb9f3a\"], [0.8888888888888888, \"#fdca26\"], [1.0, \"#f0f921\"]], \"type\": \"surface\"}], \"table\": [{\"cells\": {\"fill\": {\"color\": \"#EBF0F8\"}, \"line\": {\"color\": \"white\"}}, \"header\": {\"fill\": {\"color\": \"#C8D4E3\"}, \"line\": {\"color\": \"white\"}}, \"type\": \"table\"}]}, \"layout\": {\"annotationdefaults\": {\"arrowcolor\": \"#2a3f5f\", \"arrowhead\": 0, \"arrowwidth\": 1}, \"autotypenumbers\": \"strict\", \"coloraxis\": {\"colorbar\": {\"outlinewidth\": 0, \"ticks\": \"\"}}, \"colorscale\": {\"diverging\": [[0, \"#8e0152\"], [0.1, \"#c51b7d\"], [0.2, \"#de77ae\"], [0.3, \"#f1b6da\"], [0.4, \"#fde0ef\"], [0.5, \"#f7f7f7\"], [0.6, \"#e6f5d0\"], [0.7, \"#b8e186\"], [0.8, \"#7fbc41\"], [0.9, \"#4d9221\"], [1, \"#276419\"]], \"sequential\": [[0.0, \"#0d0887\"], [0.1111111111111111, \"#46039f\"], [0.2222222222222222, \"#7201a8\"], [0.3333333333333333, \"#9c179e\"], [0.4444444444444444, \"#bd3786\"], [0.5555555555555556, \"#d8576b\"], [0.6666666666666666, \"#ed7953\"], [0.7777777777777778, \"#fb9f3a\"], [0.8888888888888888, \"#fdca26\"], [1.0, \"#f0f921\"]], \"sequentialminus\": [[0.0, \"#0d0887\"], [0.1111111111111111, \"#46039f\"], [0.2222222222222222, \"#7201a8\"], [0.3333333333333333, \"#9c179e\"], [0.4444444444444444, \"#bd3786\"], [0.5555555555555556, \"#d8576b\"], [0.6666666666666666, \"#ed7953\"], [0.7777777777777778, \"#fb9f3a\"], [0.8888888888888888, \"#fdca26\"], [1.0, \"#f0f921\"]]}, \"colorway\": [\"#636efa\", \"#EF553B\", \"#00cc96\", \"#ab63fa\", \"#FFA15A\", \"#19d3f3\", \"#FF6692\", \"#B6E880\", \"#FF97FF\", \"#FECB52\"], \"font\": {\"color\": \"#2a3f5f\"}, \"geo\": {\"bgcolor\": \"white\", \"lakecolor\": \"white\", \"landcolor\": \"#E5ECF6\", \"showlakes\": true, \"showland\": true, \"subunitcolor\": \"white\"}, \"hoverlabel\": {\"align\": \"left\"}, \"hovermode\": \"closest\", \"mapbox\": {\"style\": \"light\"}, \"paper_bgcolor\": \"white\", \"plot_bgcolor\": \"#E5ECF6\", \"polar\": {\"angularaxis\": {\"gridcolor\": \"white\", \"linecolor\": \"white\", \"ticks\": \"\"}, \"bgcolor\": \"#E5ECF6\", \"radialaxis\": {\"gridcolor\": \"white\", \"linecolor\": \"white\", \"ticks\": \"\"}}, \"scene\": {\"xaxis\": {\"backgroundcolor\": \"#E5ECF6\", \"gridcolor\": \"white\", \"gridwidth\": 2, \"linecolor\": \"white\", \"showbackground\": true, \"ticks\": \"\", \"zerolinecolor\": \"white\"}, \"yaxis\": {\"backgroundcolor\": \"#E5ECF6\", \"gridcolor\": \"white\", \"gridwidth\": 2, \"linecolor\": \"white\", \"showbackground\": true, \"ticks\": \"\", \"zerolinecolor\": \"white\"}, \"zaxis\": {\"backgroundcolor\": \"#E5ECF6\", \"gridcolor\": \"white\", \"gridwidth\": 2, \"linecolor\": \"white\", \"showbackground\": true, \"ticks\": \"\", \"zerolinecolor\": \"white\"}}, \"shapedefaults\": {\"line\": {\"color\": \"#2a3f5f\"}}, \"ternary\": {\"aaxis\": {\"gridcolor\": \"white\", \"linecolor\": \"white\", \"ticks\": \"\"}, \"baxis\": {\"gridcolor\": \"white\", \"linecolor\": \"white\", \"ticks\": \"\"}, \"bgcolor\": \"#E5ECF6\", \"caxis\": {\"gridcolor\": \"white\", \"linecolor\": \"white\", \"ticks\": \"\"}}, \"title\": {\"x\": 0.05}, \"xaxis\": {\"automargin\": true, \"gridcolor\": \"white\", \"linecolor\": \"white\", \"ticks\": \"\", \"title\": {\"standoff\": 15}, \"zerolinecolor\": \"white\", \"zerolinewidth\": 2}, \"yaxis\": {\"automargin\": true, \"gridcolor\": \"white\", \"linecolor\": \"white\", \"ticks\": \"\", \"title\": {\"standoff\": 15}, \"zerolinecolor\": \"white\", \"zerolinewidth\": 2}}}, \"title\": {\"text\": \"Candlechart\"}, \"width\": 1000, \"xaxis\": {\"anchor\": \"y\", \"domain\": [0.0, 0.94]}, \"yaxis\": {\"anchor\": \"x\", \"domain\": [0.0, 1.0], \"title\": {\"text\": \"Volume\"}}, \"yaxis2\": {\"anchor\": \"x\", \"overlaying\": \"y\", \"side\": \"right\", \"title\": {\"text\": \"Stock Prices(\\u20b9)\"}}},                        {\"responsive\": true}                    ).then(function(){\n",
       "                            \n",
       "var gd = document.getElementById('253d2a61-6302-4a37-b2eb-fff03b8bd884');\n",
       "var x = new MutationObserver(function (mutations, observer) {{\n",
       "        var display = window.getComputedStyle(gd).display;\n",
       "        if (!display || display === 'none') {{\n",
       "            console.log([gd, 'removed!']);\n",
       "            Plotly.purge(gd);\n",
       "            observer.disconnect();\n",
       "        }}\n",
       "}});\n",
       "\n",
       "// Listen for the removal of the full notebook cells\n",
       "var notebookContainer = gd.closest('#notebook-container');\n",
       "if (notebookContainer) {{\n",
       "    x.observe(notebookContainer, {childList: true});\n",
       "}}\n",
       "\n",
       "// Listen for the clearing of the current output cell\n",
       "var outputEl = gd.closest('.output');\n",
       "if (outputEl) {{\n",
       "    x.observe(outputEl, {childList: true});\n",
       "}}\n",
       "\n",
       "                        })                };                });            </script>        </div>"
      ]
     },
     "metadata": {},
     "output_type": "display_data"
    }
   ],
   "source": [
    "fig = go.FigureWidget(make_subplots(specs=[[{\"secondary_y\": True}]]))\n",
    "\n",
    "fig.add_trace(go.Candlestick(x=temp1['date'],\n",
    "                             open=temp1['open'],\n",
    "                             high=temp1['high'],\n",
    "                             low=temp1['low'],\n",
    "                             close=temp1['close'],\n",
    "                             name=\"Stock Prices\"\n",
    "                            ), secondary_y=True)\n",
    "\n",
    "fig.add_trace(go.Bar(x=temp1['date'],\n",
    "                     y=temp1['volume'],\n",
    "                     name=\"Volume\"\n",
    "                     ), secondary_y=False)\n",
    "\n",
    "fig.update_layout(height=650, width=1000, title=\"Candlechart\", yaxis1_title=\"Volume\", yaxis2_title=\"Stock Prices(₹)\")\n",
    "\n",
    "# def zoom(layout, xrange):\n",
    "#     in_view = temp1.loc[fig.layout.xaxis.range[0]:fig.layout.xaxis.range[1]]\n",
    "#     fig.layout.yaxis.range = [in_view['volume'].min() - 10, in_view['volume'].max() + 10]\n",
    "\n",
    "# fig.layout.on_change(zoom, 'xaxis.range')\n",
    "\n",
    "fig.show()"
   ]
  },
  {
   "cell_type": "code",
   "execution_count": 25,
   "id": "confident-petersburg",
   "metadata": {
    "execution": {
     "iopub.execute_input": "2021-05-31T18:42:51.713594Z",
     "iopub.status.busy": "2021-05-31T18:42:51.712565Z",
     "iopub.status.idle": "2021-05-31T18:42:51.977167Z",
     "shell.execute_reply": "2021-05-31T18:42:51.977653Z",
     "shell.execute_reply.started": "2021-05-31T17:08:50.603867Z"
    },
    "papermill": {
     "duration": 0.336726,
     "end_time": "2021-05-31T18:42:51.977819",
     "exception": false,
     "start_time": "2021-05-31T18:42:51.641093",
     "status": "completed"
    },
    "tags": []
   },
   "outputs": [
    {
     "data": {
      "text/html": [
       "<div>                            <div id=\"f6a40b71-dcde-4561-a87c-db605d9bcb2b\" class=\"plotly-graph-div\" style=\"height:525px; width:100%;\"></div>            <script type=\"text/javascript\">                require([\"plotly\"], function(Plotly) {                    window.PLOTLYENV=window.PLOTLYENV || {};                                    if (document.getElementById(\"f6a40b71-dcde-4561-a87c-db605d9bcb2b\")) {                    Plotly.newPlot(                        \"f6a40b71-dcde-4561-a87c-db605d9bcb2b\",                        [{\"hovertemplate\": \"stock_name=RELIANCE<br>date=%{x}<br>high=%{y}<extra></extra>\", \"legendgroup\": \"RELIANCE\", \"line\": {\"color\": \"#636efa\", \"dash\": \"solid\"}, \"mode\": \"lines\", \"name\": \"RELIANCE\", \"showlegend\": true, \"type\": \"scattergl\", \"x\": [\"2015-02-02\", \"2015-02-03\", \"2015-02-04\", \"2015-02-05\", \"2015-02-06\", \"2015-02-09\", \"2015-02-10\", \"2015-02-11\", \"2015-02-12\", \"2015-02-13\", \"2015-02-16\", \"2015-02-18\", \"2015-02-19\", \"2015-02-20\", \"2015-02-23\", \"2015-02-24\", \"2015-02-25\", \"2015-02-26\", \"2015-02-27\", \"2015-02-28\", \"2015-03-02\", \"2015-03-03\", \"2015-03-04\", \"2015-03-05\", \"2015-03-09\", \"2015-03-10\", \"2015-03-11\", \"2015-03-12\", \"2015-03-13\", \"2015-03-16\", \"2015-03-17\", \"2015-03-18\", \"2015-03-19\", \"2015-03-20\", \"2015-03-23\", \"2015-03-24\", \"2015-03-25\", \"2015-03-26\", \"2015-03-27\", \"2015-03-30\", \"2015-03-31\", \"2015-04-01\", \"2015-04-06\", \"2015-04-07\", \"2015-04-08\", \"2015-04-09\", \"2015-04-10\", \"2015-04-13\", \"2015-04-15\", \"2015-04-16\", \"2015-04-17\", \"2015-04-20\", \"2015-04-21\", \"2015-04-22\", \"2015-04-23\", \"2015-04-24\", \"2015-04-27\", \"2015-04-28\", \"2015-04-29\", \"2015-04-30\", \"2015-05-04\", \"2015-05-05\", \"2015-05-06\", \"2015-05-07\", \"2015-05-08\", \"2015-05-11\", \"2015-05-12\", \"2015-05-13\", \"2015-05-14\", \"2015-05-15\", \"2015-05-18\", \"2015-05-19\", \"2015-05-20\", \"2015-05-21\", \"2015-05-22\", \"2015-05-25\", \"2015-05-26\", \"2015-05-27\", \"2015-05-28\", \"2015-05-29\", \"2015-06-01\", \"2015-06-02\", \"2015-06-03\", \"2015-06-04\", \"2015-06-05\", \"2015-06-08\", \"2015-06-09\", \"2015-06-10\", \"2015-06-11\", \"2015-06-12\", \"2015-06-15\", \"2015-06-16\", \"2015-06-17\", \"2015-06-18\", \"2015-06-19\", \"2015-06-22\", \"2015-06-23\", \"2015-06-24\", \"2015-06-25\", \"2015-06-26\", \"2015-06-29\", \"2015-06-30\", \"2015-07-01\", \"2015-07-02\", \"2015-07-03\", \"2015-07-06\", \"2015-07-07\", \"2015-07-08\", \"2015-07-09\", \"2015-07-10\", \"2015-07-13\", \"2015-07-14\", \"2015-07-15\", \"2015-07-16\", \"2015-07-17\", \"2015-07-20\", \"2015-07-21\", \"2015-07-22\", \"2015-07-23\", \"2015-07-24\", \"2015-07-27\", \"2015-07-28\", \"2015-07-29\", \"2015-07-30\", \"2015-07-31\", \"2015-08-03\", \"2015-08-04\", \"2015-08-05\", \"2015-08-06\", \"2015-08-07\", \"2015-08-10\", \"2015-08-11\", \"2015-08-12\", \"2015-08-13\", \"2015-08-14\", \"2015-08-17\", \"2015-08-18\", \"2015-08-19\", \"2015-08-20\", \"2015-08-21\", \"2015-08-24\", \"2015-08-25\", \"2015-08-26\", \"2015-08-27\", \"2015-08-28\", \"2015-08-31\", \"2015-09-01\", \"2015-09-02\", \"2015-09-03\", \"2015-09-04\", \"2015-09-07\", \"2015-09-08\", \"2015-09-09\", \"2015-09-10\", \"2015-09-11\", \"2015-09-14\", \"2015-09-15\", \"2015-09-16\", \"2015-09-18\", \"2015-09-21\", \"2015-09-22\", \"2015-09-23\", \"2015-09-24\", \"2015-09-28\", \"2015-09-29\", \"2015-09-30\", \"2015-10-01\", \"2015-10-05\", \"2015-10-06\", \"2015-10-07\", \"2015-10-08\", \"2015-10-09\", \"2015-10-12\", \"2015-10-13\", \"2015-10-14\", \"2015-10-15\", \"2015-10-16\", \"2015-10-19\", \"2015-10-20\", \"2015-10-21\", \"2015-10-23\", \"2015-10-26\", \"2015-10-27\", \"2015-10-28\", \"2015-10-29\", \"2015-10-30\", \"2015-11-02\", \"2015-11-03\", \"2015-11-04\", \"2015-11-05\", \"2015-11-06\", \"2015-11-09\", \"2015-11-10\", \"2015-11-11\", \"2015-11-13\", \"2015-11-16\", \"2015-11-17\", \"2015-11-18\", \"2015-11-19\", \"2015-11-20\", \"2015-11-23\", \"2015-11-24\", \"2015-11-26\", \"2015-11-27\", \"2015-11-30\", \"2015-12-01\", \"2015-12-02\", \"2015-12-03\", \"2015-12-04\", \"2015-12-07\", \"2015-12-08\", \"2015-12-09\", \"2015-12-10\", \"2015-12-11\", \"2015-12-14\", \"2015-12-15\", \"2015-12-16\", \"2015-12-17\", \"2015-12-18\", \"2015-12-21\", \"2015-12-22\", \"2015-12-23\", \"2015-12-24\", \"2015-12-28\", \"2015-12-29\", \"2015-12-30\", \"2015-12-31\", \"2016-01-04\", \"2016-01-05\", \"2016-01-06\", \"2016-01-07\", \"2016-01-08\", \"2016-01-11\", \"2016-01-12\", \"2016-01-13\", \"2016-01-14\", \"2016-01-15\", \"2016-01-18\", \"2016-01-19\", \"2016-01-20\", \"2016-01-21\", \"2016-01-22\", \"2016-01-25\", \"2016-01-27\", \"2016-01-28\", \"2016-01-29\", \"2016-02-01\", \"2016-02-02\", \"2016-02-03\", \"2016-02-04\", \"2016-02-05\", \"2016-02-08\", \"2016-02-09\", \"2016-02-10\", \"2016-02-11\", \"2016-02-12\", \"2016-02-15\", \"2016-02-16\", \"2016-02-17\", \"2016-02-18\", \"2016-02-19\", \"2016-02-22\", \"2016-02-23\", \"2016-02-24\", \"2016-02-25\", \"2016-02-26\", \"2016-02-29\", \"2016-03-01\", \"2016-03-02\", \"2016-03-03\", \"2016-03-04\", \"2016-03-08\", \"2016-03-09\", \"2016-03-10\", \"2016-03-11\", \"2016-03-14\", \"2016-03-15\", \"2016-03-16\", \"2016-03-17\", \"2016-03-18\", \"2016-03-21\", \"2016-03-22\", \"2016-03-23\", \"2016-03-28\", \"2016-03-29\", \"2016-03-30\", \"2016-03-31\", \"2016-04-01\", \"2016-04-04\", \"2016-04-05\", \"2016-04-06\", \"2016-04-07\", \"2016-04-08\", \"2016-04-11\", \"2016-04-12\", \"2016-04-13\", \"2016-04-18\", \"2016-04-20\", \"2016-04-21\", \"2016-04-22\", \"2016-04-25\", \"2016-04-26\", \"2016-04-27\", \"2016-04-28\", \"2016-04-29\", \"2016-05-02\", \"2016-05-03\", \"2016-05-04\", \"2016-05-05\", \"2016-05-06\", \"2016-05-09\", \"2016-05-10\", \"2016-05-11\", \"2016-05-12\", \"2016-05-13\", \"2016-05-16\", \"2016-05-17\", \"2016-05-18\", \"2016-05-19\", \"2016-05-20\", \"2016-05-23\", \"2016-05-24\", \"2016-05-25\", \"2016-05-26\", \"2016-05-27\", \"2016-05-30\", \"2016-05-31\", \"2016-06-01\", \"2016-06-02\", \"2016-06-03\", \"2016-06-06\", \"2016-06-07\", \"2016-06-08\", \"2016-06-09\", \"2016-06-10\", \"2016-06-13\", \"2016-06-14\", \"2016-06-15\", \"2016-06-16\", \"2016-06-17\", \"2016-06-20\", \"2016-06-21\", \"2016-06-22\", \"2016-06-23\", \"2016-06-24\", \"2016-06-27\", \"2016-06-28\", \"2016-06-29\", \"2016-06-30\", \"2016-07-01\", \"2016-07-04\", \"2016-07-05\", \"2016-07-07\", \"2016-07-08\", \"2016-07-11\", \"2016-07-12\", \"2016-07-13\", \"2016-07-14\", \"2016-07-15\", \"2016-07-18\", \"2016-07-19\", \"2016-07-20\", \"2016-07-21\", \"2016-07-22\", \"2016-07-25\", \"2016-07-26\", \"2016-07-27\", \"2016-07-28\", \"2016-07-29\", \"2016-08-01\", \"2016-08-02\", \"2016-08-03\", \"2016-08-04\", \"2016-08-05\", \"2016-08-08\", \"2016-08-09\", \"2016-08-10\", \"2016-08-11\", \"2016-08-12\", \"2016-08-16\", \"2016-08-17\", \"2016-08-18\", \"2016-08-19\", \"2016-08-22\", \"2016-08-23\", \"2016-08-24\", \"2016-08-25\", \"2016-08-26\", \"2016-08-29\", \"2016-08-30\", \"2016-08-31\", \"2016-09-01\", \"2016-09-02\", \"2016-09-06\", \"2016-09-07\", \"2016-09-08\", \"2016-09-09\", \"2016-09-12\", \"2016-09-14\", \"2016-09-15\", \"2016-09-16\", \"2016-09-19\", \"2016-09-20\", \"2016-09-21\", \"2016-09-22\", \"2016-09-23\", \"2016-09-26\", \"2016-09-27\", \"2016-09-28\", \"2016-09-29\", \"2016-09-30\", \"2016-10-03\", \"2016-10-04\", \"2016-10-05\", \"2016-10-06\", \"2016-10-07\", \"2016-10-10\", \"2016-10-13\", \"2016-10-14\", \"2016-10-17\", \"2016-10-18\", \"2016-10-19\", \"2016-10-20\", \"2016-10-21\", \"2016-10-24\", \"2016-10-25\", \"2016-10-26\", \"2016-10-27\", \"2016-10-28\", \"2016-10-30\", \"2016-11-01\", \"2016-11-02\", \"2016-11-03\", \"2016-11-04\", \"2016-11-07\", \"2016-11-08\", \"2016-11-09\", \"2016-11-10\", \"2016-11-11\", \"2016-11-15\", \"2016-11-16\", \"2016-11-17\", \"2016-11-18\", \"2016-11-21\", \"2016-11-22\", \"2016-11-23\", \"2016-11-24\", \"2016-11-25\", \"2016-11-28\", \"2016-11-29\", \"2016-11-30\", \"2016-12-01\", \"2016-12-02\", \"2016-12-05\", \"2016-12-06\", \"2016-12-07\", \"2016-12-08\", \"2016-12-09\", \"2016-12-12\", \"2016-12-13\", \"2016-12-14\", \"2016-12-15\", \"2016-12-16\", \"2016-12-19\", \"2016-12-20\", \"2016-12-21\", \"2016-12-22\", \"2016-12-23\", \"2016-12-26\", \"2016-12-27\", \"2016-12-28\", \"2016-12-29\", \"2016-12-30\", \"2017-01-02\", \"2017-01-03\", \"2017-01-04\", \"2017-01-05\", \"2017-01-06\", \"2017-01-09\", \"2017-01-10\", \"2017-01-11\", \"2017-01-12\", \"2017-01-13\", \"2017-01-16\", \"2017-01-17\", \"2017-01-18\", \"2017-01-19\", \"2017-01-20\", \"2017-01-23\", \"2017-01-24\", \"2017-01-25\", \"2017-01-27\", \"2017-01-30\", \"2017-01-31\", \"2017-02-01\", \"2017-02-02\", \"2017-02-03\", \"2017-02-06\", \"2017-02-07\", \"2017-02-08\", \"2017-02-09\", \"2017-02-10\", \"2017-02-13\", \"2017-02-14\", \"2017-02-15\", \"2017-02-16\", \"2017-02-17\", \"2017-02-20\", \"2017-02-21\", \"2017-02-22\", \"2017-02-23\", \"2017-02-27\", \"2017-02-28\", \"2017-03-01\", \"2017-03-02\", \"2017-03-03\", \"2017-03-06\", \"2017-03-07\", \"2017-03-08\", \"2017-03-09\", \"2017-03-10\", \"2017-03-14\", \"2017-03-15\", \"2017-03-16\", \"2017-03-17\", \"2017-03-20\", \"2017-03-21\", \"2017-03-22\", \"2017-03-23\", \"2017-03-24\", \"2017-03-27\", \"2017-03-28\", \"2017-03-29\", \"2017-03-30\", \"2017-03-31\", \"2017-04-03\", \"2017-04-05\", \"2017-04-06\", \"2017-04-07\", \"2017-04-10\", \"2017-04-11\", \"2017-04-12\", \"2017-04-13\", \"2017-04-17\", \"2017-04-18\", \"2017-04-19\", \"2017-04-20\", \"2017-04-21\", \"2017-04-24\", \"2017-04-25\", \"2017-04-26\", \"2017-04-27\", \"2017-04-28\", \"2017-05-02\", \"2017-05-03\", \"2017-05-04\", \"2017-05-05\", \"2017-05-08\", \"2017-05-09\", \"2017-05-10\", \"2017-05-11\", \"2017-05-12\", \"2017-05-15\", \"2017-05-16\", \"2017-05-17\", \"2017-05-18\", \"2017-05-19\", \"2017-05-22\", \"2017-05-23\", \"2017-05-24\", \"2017-05-25\", \"2017-05-26\", \"2017-05-29\", \"2017-05-30\", \"2017-05-31\", \"2017-06-01\", \"2017-06-02\", \"2017-06-05\", \"2017-06-06\", \"2017-06-07\", \"2017-06-08\", \"2017-06-09\", \"2017-06-12\", \"2017-06-13\", \"2017-06-14\", \"2017-06-15\", \"2017-06-16\", \"2017-06-19\", \"2017-06-20\", \"2017-06-21\", \"2017-06-22\", \"2017-06-23\", \"2017-06-27\", \"2017-06-28\", \"2017-06-29\", \"2017-06-30\", \"2017-07-03\", \"2017-07-04\", \"2017-07-05\", \"2017-07-06\", \"2017-07-07\", \"2017-07-10\", \"2017-07-11\", \"2017-07-12\", \"2017-07-13\", \"2017-07-14\", \"2017-07-17\", \"2017-07-18\", \"2017-07-19\", \"2017-07-20\", \"2017-07-21\", \"2017-07-24\", \"2017-07-25\", \"2017-07-26\", \"2017-07-27\", \"2017-07-28\", \"2017-07-31\", \"2017-08-01\", \"2017-08-02\", \"2017-08-03\", \"2017-08-04\", \"2017-08-07\", \"2017-08-08\", \"2017-08-09\", \"2017-08-10\", \"2017-08-11\", \"2017-08-14\", \"2017-08-16\", \"2017-08-17\", \"2017-08-18\", \"2017-08-21\", \"2017-08-22\", \"2017-08-23\", \"2017-08-24\", \"2017-08-28\", \"2017-08-29\", \"2017-08-30\", \"2017-08-31\", \"2017-09-01\", \"2017-09-04\", \"2017-09-05\", \"2017-09-06\", \"2017-09-07\", \"2017-09-08\", \"2017-09-11\", \"2017-09-12\", \"2017-09-13\", \"2017-09-14\", \"2017-09-15\", \"2017-09-18\", \"2017-09-19\", \"2017-09-20\", \"2017-09-21\", \"2017-09-22\", \"2017-09-25\", \"2017-09-26\", \"2017-09-27\", \"2017-09-28\", \"2017-09-29\", \"2017-10-03\", \"2017-10-04\", \"2017-10-05\", \"2017-10-06\", \"2017-10-09\", \"2017-10-10\", \"2017-10-11\", \"2017-10-12\", \"2017-10-13\", \"2017-10-16\", \"2017-10-17\", \"2017-10-18\", \"2017-10-19\", \"2017-10-23\", \"2017-10-24\", \"2017-10-25\", \"2017-10-26\", \"2017-10-27\", \"2017-10-30\", \"2017-10-31\", \"2017-11-01\", \"2017-11-02\", \"2017-11-03\", \"2017-11-06\", \"2017-11-07\", \"2017-11-08\", \"2017-11-09\", \"2017-11-10\", \"2017-11-13\", \"2017-11-14\", \"2017-11-15\", \"2017-11-16\", \"2017-11-17\", \"2017-11-20\", \"2017-11-21\", \"2017-11-22\", \"2017-11-23\", \"2017-11-24\", \"2017-11-27\", \"2017-11-28\", \"2017-11-29\", \"2017-11-30\", \"2017-12-01\", \"2017-12-04\", \"2017-12-05\", \"2017-12-06\", \"2017-12-07\", \"2017-12-08\", \"2017-12-11\", \"2017-12-12\", \"2017-12-13\", \"2017-12-14\", \"2017-12-15\", \"2017-12-18\", \"2017-12-19\", \"2017-12-20\", \"2017-12-21\", \"2017-12-22\", \"2017-12-26\", \"2017-12-27\", \"2017-12-28\", \"2017-12-29\", \"2018-01-01\", \"2018-01-02\", \"2018-01-03\", \"2018-01-04\", \"2018-01-05\", \"2018-01-08\", \"2018-01-09\", \"2018-01-10\", \"2018-01-11\", \"2018-01-12\", \"2018-01-15\", \"2018-01-16\", \"2018-01-17\", \"2018-01-18\", \"2018-01-19\", \"2018-01-22\", \"2018-01-23\", \"2018-01-24\", \"2018-01-25\", \"2018-01-29\", \"2018-01-30\", \"2018-01-31\", \"2018-02-01\", \"2018-02-02\", \"2018-02-05\", \"2018-02-06\", \"2018-02-07\", \"2018-02-08\", \"2018-02-09\", \"2018-02-12\", \"2018-02-14\", \"2018-02-15\", \"2018-02-16\", \"2018-02-19\", \"2018-02-20\", \"2018-02-21\", \"2018-02-22\", \"2018-02-23\", \"2018-02-26\", \"2018-02-27\", \"2018-02-28\", \"2018-03-01\", \"2018-03-05\", \"2018-03-06\", \"2018-03-07\", \"2018-03-08\", \"2018-03-09\", \"2018-03-12\", \"2018-03-13\", \"2018-03-14\", \"2018-03-15\", \"2018-03-16\", \"2018-03-19\", \"2018-03-20\", \"2018-03-21\", \"2018-03-22\", \"2018-03-23\", \"2018-03-26\", \"2018-03-27\", \"2018-03-28\", \"2018-04-02\", \"2018-04-03\", \"2018-04-04\", \"2018-04-05\", \"2018-04-06\", \"2018-04-09\", \"2018-04-10\", \"2018-04-11\", \"2018-04-12\", \"2018-04-13\", \"2018-04-16\", \"2018-04-17\", \"2018-04-18\", \"2018-04-19\", \"2018-04-20\", \"2018-04-23\", \"2018-04-24\", \"2018-04-25\", \"2018-04-26\", \"2018-04-27\", \"2018-04-30\", \"2018-05-02\", \"2018-05-03\", \"2018-05-04\", \"2018-05-07\", \"2018-05-08\", \"2018-05-09\", \"2018-05-10\", \"2018-05-11\", \"2018-05-14\", \"2018-05-15\", \"2018-05-16\", \"2018-05-17\", \"2018-05-18\", \"2018-05-21\", \"2018-05-22\", \"2018-05-23\", \"2018-05-24\", \"2018-05-25\", \"2018-05-28\", \"2018-05-29\", \"2018-05-30\", \"2018-05-31\", \"2018-06-01\", \"2018-06-04\", \"2018-06-05\", \"2018-06-06\", \"2018-06-07\", \"2018-06-08\", \"2018-06-11\", \"2018-06-12\", \"2018-06-13\", \"2018-06-14\", \"2018-06-15\", \"2018-06-18\", \"2018-06-19\", \"2018-06-20\", \"2018-06-21\", \"2018-06-22\", \"2018-06-25\", \"2018-06-26\", \"2018-06-27\", \"2018-06-28\", \"2018-06-29\", \"2018-07-02\", \"2018-07-03\", \"2018-07-04\", \"2018-07-05\", \"2018-07-06\", \"2018-07-09\", \"2018-07-10\", \"2018-07-11\", \"2018-07-12\", \"2018-07-13\", \"2018-07-16\", \"2018-07-17\", \"2018-07-18\", \"2018-07-19\", \"2018-07-20\", \"2018-07-23\", \"2018-07-24\", \"2018-07-25\", \"2018-07-26\", \"2018-07-27\", \"2018-07-30\", \"2018-07-31\", \"2018-08-01\", \"2018-08-02\", \"2018-08-03\", \"2018-08-06\", \"2018-08-07\", \"2018-08-08\", \"2018-08-09\", \"2018-08-10\", \"2018-08-13\", \"2018-08-14\", \"2018-08-16\", \"2018-08-17\", \"2018-08-20\", \"2018-08-21\", \"2018-08-23\", \"2018-08-24\", \"2018-08-27\", \"2018-08-28\", \"2018-08-29\", \"2018-08-30\", \"2018-08-31\", \"2018-09-03\", \"2018-09-04\", \"2018-09-05\", \"2018-09-06\", \"2018-09-07\", \"2018-09-10\", \"2018-09-11\", \"2018-09-12\", \"2018-09-14\", \"2018-09-17\", \"2018-09-18\", \"2018-09-19\", \"2018-09-21\", \"2018-09-24\", \"2018-09-25\", \"2018-09-26\", \"2018-09-27\", \"2018-09-28\", \"2018-10-01\", \"2018-10-03\", \"2018-10-04\", \"2018-10-05\", \"2018-10-08\", \"2018-10-09\", \"2018-10-10\", \"2018-10-11\", \"2018-10-12\", \"2018-10-15\", \"2018-10-16\", \"2018-10-17\", \"2018-10-19\", \"2018-10-22\", \"2018-10-23\", \"2018-10-24\", \"2018-10-25\", \"2018-10-26\", \"2018-10-29\", \"2018-10-30\", \"2018-10-31\", \"2018-11-01\", \"2018-11-02\", \"2018-11-05\", \"2018-11-06\", \"2018-11-07\", \"2018-11-09\", \"2018-11-12\", \"2018-11-13\", \"2018-11-14\", \"2018-11-15\", \"2018-11-16\", \"2018-11-19\", \"2018-11-20\", \"2018-11-21\", \"2018-11-22\", \"2018-11-26\", \"2018-11-27\", \"2018-11-28\", \"2018-11-29\", \"2018-11-30\", \"2018-12-03\", \"2018-12-04\", \"2018-12-05\", \"2018-12-06\", \"2018-12-07\", \"2018-12-10\", \"2018-12-11\", \"2018-12-12\", \"2018-12-13\", \"2018-12-14\", \"2018-12-17\", \"2018-12-18\", \"2018-12-19\", \"2018-12-20\", \"2018-12-21\", \"2018-12-24\", \"2018-12-26\", \"2018-12-27\", \"2018-12-28\", \"2018-12-31\", \"2019-01-01\", \"2019-01-02\", \"2019-01-03\", \"2019-01-04\", \"2019-01-07\", \"2019-01-08\", \"2019-01-09\", \"2019-01-10\", \"2019-01-11\", \"2019-01-14\", \"2019-01-15\", \"2019-01-16\", \"2019-01-17\", \"2019-01-18\", \"2019-01-21\", \"2019-01-22\", \"2019-01-23\", \"2019-01-24\", \"2019-01-25\", \"2019-01-28\", \"2019-01-29\", \"2019-01-30\", \"2019-01-31\", \"2019-02-01\", \"2019-02-04\", \"2019-02-05\", \"2019-02-06\", \"2019-02-07\", \"2019-02-08\", \"2019-02-11\", \"2019-02-12\", \"2019-02-13\", \"2019-02-14\", \"2019-02-15\", \"2019-02-18\", \"2019-02-19\", \"2019-02-20\", \"2019-02-21\", \"2019-02-22\", \"2019-02-25\", \"2019-02-26\", \"2019-02-27\", \"2019-02-28\", \"2019-03-01\", \"2019-03-05\", \"2019-03-06\", \"2019-03-07\", \"2019-03-08\", \"2019-03-11\", \"2019-03-12\", \"2019-03-13\", \"2019-03-14\", \"2019-03-15\", \"2019-03-18\", \"2019-03-19\", \"2019-03-20\", \"2019-03-22\", \"2019-03-25\", \"2019-03-26\", \"2019-03-27\", \"2019-03-28\", \"2019-03-29\", \"2019-04-01\", \"2019-04-02\", \"2019-04-03\", \"2019-04-04\", \"2019-04-05\", \"2019-04-08\", \"2019-04-09\", \"2019-04-10\", \"2019-04-11\", \"2019-04-12\", \"2019-04-15\", \"2019-04-16\", \"2019-04-18\", \"2019-04-22\", \"2019-04-23\", \"2019-04-24\", \"2019-04-25\", \"2019-04-26\", \"2019-04-30\", \"2019-05-02\", \"2019-05-03\", \"2019-05-06\", \"2019-05-07\", \"2019-05-08\"], \"xaxis\": \"x\", \"y\": [459.9, 470.43, 471.9, 469.95, 464.95, 457.8, 452.2, 452.38, 456.98, 460.33, 462.0, 454.0, 453.43, 447.58, 438.35, 428.25, 428.2, 425.0, 430.15, 434.2, 437.73, 453.23, 454.5, 449.38, 445.88, 437.9, 434.8, 433.7, 434.05, 424.13, 429.95, 436.13, 438.23, 430.5, 431.73, 427.15, 424.5, 424.6, 417.5, 408.55, 416.45, 419.48, 418.58, 418.05, 434.7, 449.43, 454.18, 462.25, 469.78, 469.0, 472.15, 468.65, 447.7, 443.38, 444.7, 442.2, 443.75, 441.0, 435.28, 432.95, 446.95, 450.78, 448.38, 439.23, 446.7, 449.7, 447.0, 444.1, 442.83, 443.48, 447.0, 452.35, 455.5, 457.7, 452.8, 453.93, 447.93, 445.45, 447.13, 443.23, 452.45, 459.3, 455.2, 458.0, 458.45, 455.0, 445.2, 454.95, 453.93, 446.28, 452.5, 452.5, 471.03, 491.0, 503.2, 504.23, 501.35, 503.2, 504.43, 506.88, 496.88, 501.43, 505.23, 509.8, 506.75, 509.45, 508.28, 504.35, 500.5, 502.0, 506.23, 505.7, 507.0, 513.78, 515.5, 514.95, 514.13, 526.98, 533.73, 524.73, 514.85, 508.35, 506.35, 504.0, 503.95, 506.88, 502.83, 500.4, 496.0, 496.93, 494.35, 486.83, 482.98, 476.98, 486.0, 482.3, 477.5, 480.5, 478.43, 455.03, 440.0, 429.83, 437.4, 440.58, 441.5, 436.23, 426.93, 428.5, 430.33, 424.85, 422.0, 426.48, 439.25, 435.25, 438.03, 432.75, 434.95, 438.68, 449.75, 444.05, 442.43, 428.3, 424.0, 420.43, 425.13, 432.4, 435.18, 445.0, 450.25, 458.75, 457.0, 452.7, 450.7, 448.1, 452.5, 455.45, 457.4, 482.73, 483.18, 487.4, 486.4, 481.35, 474.1, 472.45, 472.5, 477.95, 480.7, 485.23, 487.48, 475.5, 477.38, 482.5, 479.58, 466.33, 469.25, 470.85, 469.45, 465.48, 469.25, 476.38, 478.95, 485.7, 495.98, 496.23, 492.08, 489.4, 489.85, 494.43, 487.98, 486.43, 476.8, 471.73, 476.85, 479.5, 481.33, 488.9, 493.75, 507.05, 504.5, 499.03, 501.25, 503.45, 503.6, 506.7, 509.35, 507.78, 509.43, 506.9, 505.0, 519.18, 514.0, 516.08, 530.13, 532.5, 544.78, 540.5, 544.75, 541.63, 524.63, 516.9, 512.75, 505.5, 509.33, 505.0, 510.9, 519.78, 520.5, 516.25, 497.0, 500.2, 491.0, 492.4, 484.4, 486.5, 482.88, 466.4, 475.68, 479.0, 478.73, 484.0, 476.38, 484.0, 483.35, 479.28, 478.23, 479.3, 497.23, 492.53, 502.8, 508.78, 507.5, 515.45, 521.9, 522.85, 514.75, 513.15, 513.6, 512.9, 518.35, 515.05, 520.75, 526.13, 522.78, 515.75, 521.0, 525.6, 528.0, 523.13, 521.05, 521.2, 518.3, 524.0, 527.0, 522.75, 528.73, 534.9, 533.35, 534.18, 526.0, 523.75, 521.58, 511.95, 512.9, 509.5, 499.18, 496.2, 497.48, 491.75, 491.73, 488.35, 493.0, 492.28, 490.38, 497.0, 495.25, 491.25, 491.55, 486.23, 485.75, 477.25, 469.93, 472.0, 476.4, 475.98, 488.45, 490.75, 486.5, 483.05, 478.58, 481.45, 481.33, 480.45, 479.0, 488.23, 492.18, 491.73, 492.7, 493.25, 491.83, 489.33, 496.3, 497.03, 492.95, 491.0, 482.05, 479.2, 480.75, 484.48, 488.7, 488.35, 496.7, 501.45, 500.25, 494.4, 497.48, 502.5, 508.33, 507.03, 510.43, 519.28, 511.4, 514.15, 512.03, 508.9, 511.88, 517.38, 513.0, 515.23, 512.38, 510.15, 510.0, 506.3, 500.0, 509.5, 517.0, 517.25, 517.28, 511.43, 521.38, 522.4, 514.35, 511.83, 510.85, 509.85, 507.5, 510.98, 514.5, 515.4, 529.85, 534.25, 537.0, 536.25, 516.1, 512.48, 513.5, 517.95, 524.95, 527.88, 529.5, 535.0, 546.93, 543.95, 542.3, 542.43, 547.75, 554.73, 564.78, 562.93, 554.0, 555.38, 547.28, 553.85, 554.15, 553.25, 563.0, 561.53, 561.0, 544.48, 541.0, 540.4, 541.38, 547.35, 549.0, 548.5, 536.98, 532.58, 529.68, 526.95, 529.0, 529.35, 527.98, 521.33, 517.38, 513.45, 508.15, 502.85, 504.35, 514.43, 508.73, 499.95, 498.4, 499.08, 496.05, 496.68, 503.88, 505.15, 502.0, 497.95, 500.3, 502.08, 499.5, 507.5, 502.5, 499.73, 503.28, 503.8, 510.88, 515.93, 520.85, 520.5, 532.08, 533.8, 530.88, 533.45, 530.5, 533.5, 531.33, 534.48, 533.0, 533.55, 534.6, 534.4, 542.5, 545.0, 548.5, 546.5, 539.95, 542.5, 543.0, 547.18, 547.85, 545.18, 548.75, 546.95, 533.6, 524.0, 522.65, 518.73, 515.25, 514.4, 516.35, 514.35, 523.23, 526.9, 525.4, 525.4, 525.23, 522.3, 521.18, 519.13, 517.0, 517.75, 517.0, 526.4, 528.75, 534.7, 539.0, 539.4, 545.45, 605.68, 610.95, 628.35, 624.0, 622.2, 627.1, 643.53, 655.85, 663.45, 653.85, 649.0, 648.0, 659.5, 658.05, 655.2, 659.95, 652.18, 641.73, 632.95, 638.75, 645.95, 639.25, 631.93, 630.0, 637.38, 668.73, 689.78, 708.98, 724.38, 716.88, 712.4, 700.18, 693.2, 686.65, 697.65, 704.98, 691.25, 693.38, 710.5, 717.5, 732.5, 720.0, 711.88, 710.15, 700.53, 690.33, 689.73, 683.5, 669.75, 666.83, 681.8, 684.88, 681.95, 678.0, 688.45, 682.85, 674.88, 667.85, 666.73, 664.93, 656.75, 656.2, 672.2, 682.73, 682.35, 683.7, 670.0, 669.33, 670.48, 666.98, 671.0, 672.35, 675.85, 664.88, 663.5, 680.0, 697.5, 697.9, 707.9, 711.0, 714.0, 721.95, 720.75, 721.35, 719.6, 704.95, 696.2, 697.35, 713.55, 723.7, 725.0, 748.7, 750.45, 752.05, 762.5, 762.5, 768.0, 779.8, 775.75, 769.0, 775.0, 795.85, 812.45, 812.35, 814.95, 815.75, 802.5, 809.38, 810.95, 817.78, 832.4, 830.48, 815.8, 810.5, 810.0, 803.33, 788.15, 792.25, 788.0, 798.78, 788.9, 792.08, 789.95, 793.25, 795.8, 790.85, 783.75, 784.35, 798.68, 808.3, 818.03, 817.0, 826.2, 832.45, 823.25, 826.6, 825.0, 859.85, 861.45, 852.85, 851.05, 848.75, 872.05, 851.7, 838.45, 827.9, 827.05, 825.2, 802.9, 793.25, 803.85, 824.9, 828.45, 839.0, 839.7, 847.25, 858.4, 876.5, 890.6, 891.9, 883.75, 917.9, 921.7, 944.65, 946.05, 945.55, 957.8, 956.5, 945.55, 945.0, 957.55, 956.4, 953.0, 941.8, 935.0, 905.7, 909.9, 900.5, 891.85, 895.0, 890.6, 906.0, 924.6, 924.35, 939.5, 938.5, 949.9, 959.0, 957.25, 951.35, 950.0, 941.0, 931.25, 913.75, 920.75, 930.3, 936.0, 936.8, 926.0, 929.0, 924.7, 924.9, 932.7, 932.55, 927.0, 927.4, 923.85, 922.4, 938.9, 937.45, 934.25, 931.7, 922.7, 919.35, 925.95, 921.8, 926.85, 931.0, 943.9, 947.0, 942.5, 952.8, 958.5, 947.7, 929.0, 929.35, 934.3, 974.05, 990.6, 981.0, 972.0, 976.85, 965.1, 964.4, 972.6, 943.85, 912.5, 896.95, 905.35, 910.65, 902.0, 918.2, 942.4, 945.65, 942.6, 932.0, 929.55, 932.5, 930.75, 938.0, 944.9, 955.65, 956.85, 959.75, 950.15, 936.2, 909.25, 914.5, 919.35, 933.1, 936.0, 932.05, 929.45, 909.65, 906.8, 904.0, 902.35, 911.9, 900.0, 904.3, 910.7, 895.85, 900.95, 901.7, 911.55, 910.0, 918.5, 919.0, 923.9, 932.6, 936.3, 941.6, 940.0, 947.2, 948.15, 945.0, 941.75, 944.0, 975.5, 981.75, 988.0, 1011.0, 992.4, 979.1, 976.95, 964.7, 973.25, 982.0, 984.3, 984.4, 991.0, 991.95, 1000.0, 972.4, 959.5, 953.5, 935.7, 934.0, 926.0, 921.0, 923.4, 927.0, 928.0, 923.2, 922.15, 935.75, 944.0, 955.0, 956.0, 976.0, 986.55, 999.3, 1000.0, 1005.9, 1011.8, 1023.5, 1020.4, 1014.7, 1022.8, 1036.0, 1029.2, 1016.5, 1005.9, 985.4, 968.5, 975.25, 971.9, 978.4, 992.0, 1008.4, 982.9, 1000.0, 1028.05, 1040.85, 1098.9, 1109.0, 1108.8, 1095.9, 1104.55, 1114.9, 1138.4, 1129.5, 1126.35, 1123.0, 1121.5, 1137.3, 1156.7, 1190.4, 1202.9, 1190.0, 1183.5, 1196.0, 1201.0, 1222.5, 1231.65, 1215.0, 1199.7, 1217.1, 1215.95, 1215.3, 1236.8, 1251.45, 1274.0, 1279.9, 1295.85, 1323.0, 1328.95, 1296.0, 1269.0, 1257.85, 1254.8, 1252.35, 1265.2, 1281.0, 1277.0, 1268.4, 1258.2, 1275.6, 1249.2, 1239.35, 1223.65, 1237.2, 1239.9, 1245.0, 1253.95, 1263.0, 1271.7, 1257.05, 1239.5, 1190.0, 1115.0, 1117.0, 1122.75, 1115.2, 1114.65, 1129.0, 1146.9, 1167.4, 1178.0, 1110.9, 1114.55, 1064.5, 1073.0, 1040.5, 1057.0, 1093.55, 1083.1, 1065.8, 1066.95, 1080.7, 1092.7, 1112.0, 1114.9, 1113.8, 1098.25, 1102.65, 1112.5, 1102.75, 1129.8, 1151.6, 1155.75, 1145.15, 1125.25, 1117.25, 1130.0, 1157.65, 1179.9, 1186.0, 1174.8, 1157.35, 1158.8, 1148.0, 1136.95, 1112.95, 1102.05, 1113.5, 1123.85, 1114.75, 1133.0, 1139.0, 1147.0, 1132.4, 1131.0, 1103.0, 1100.0, 1127.0, 1135.25, 1133.3, 1126.75, 1126.9, 1114.6, 1104.45, 1118.4, 1109.95, 1117.0, 1110.7, 1113.75, 1100.4, 1132.0, 1145.0, 1147.9, 1189.45, 1239.9, 1246.9, 1244.15, 1253.2, 1264.7, 1255.5, 1231.0, 1225.0, 1229.6, 1255.0, 1296.95, 1304.25, 1317.6, 1321.2, 1300.15, 1275.9, 1272.25, 1273.95, 1241.0, 1249.9, 1251.55, 1239.7, 1240.0, 1257.75, 1245.0, 1243.0, 1234.5, 1244.9, 1239.85, 1242.35, 1239.8, 1273.0, 1279.8, 1274.45, 1312.0, 1334.0, 1358.0, 1362.0, 1358.75, 1357.95, 1380.0, 1387.95, 1380.8, 1336.75, 1371.05, 1377.95, 1369.8, 1376.5, 1406.75, 1403.0, 1403.0, 1383.7, 1363.8, 1357.0, 1340.7, 1348.0, 1353.0, 1356.8, 1348.95, 1360.0, 1389.75, 1366.7, 1373.0, 1394.8, 1412.35, 1395.9, 1396.4, 1413.9, 1417.5, 1402.7, 1394.8, 1340.0], \"yaxis\": \"y\"}, {\"hovertemplate\": \"stock_name=TCS<br>date=%{x}<br>high=%{y}<extra></extra>\", \"legendgroup\": \"TCS\", \"line\": {\"color\": \"#EF553B\", \"dash\": \"solid\"}, \"mode\": \"lines\", \"name\": \"TCS\", \"showlegend\": true, \"type\": \"scattergl\", \"x\": [\"2015-02-02\", \"2015-02-03\", \"2015-02-04\", \"2015-02-05\", \"2015-02-06\", \"2015-02-09\", \"2015-02-10\", \"2015-02-11\", \"2015-02-12\", \"2015-02-13\", \"2015-02-16\", \"2015-02-18\", \"2015-02-19\", \"2015-02-20\", \"2015-02-23\", \"2015-02-24\", \"2015-02-25\", \"2015-02-26\", \"2015-02-27\", \"2015-02-28\", \"2015-03-02\", \"2015-03-03\", \"2015-03-04\", \"2015-03-05\", \"2015-03-09\", \"2015-03-10\", \"2015-03-11\", \"2015-03-12\", \"2015-03-13\", \"2015-03-16\", \"2015-03-17\", \"2015-03-18\", \"2015-03-19\", \"2015-03-20\", \"2015-03-23\", \"2015-03-24\", \"2015-03-25\", \"2015-03-26\", \"2015-03-27\", \"2015-03-30\", \"2015-03-31\", \"2015-04-01\", \"2015-04-06\", \"2015-04-07\", \"2015-04-08\", \"2015-04-09\", \"2015-04-10\", \"2015-04-13\", \"2015-04-15\", \"2015-04-16\", \"2015-04-17\", \"2015-04-20\", \"2015-04-21\", \"2015-04-22\", \"2015-04-23\", \"2015-04-24\", \"2015-04-27\", \"2015-04-28\", \"2015-04-29\", \"2015-04-30\", \"2015-05-04\", \"2015-05-05\", \"2015-05-06\", \"2015-05-07\", \"2015-05-08\", \"2015-05-11\", \"2015-05-12\", \"2015-05-13\", \"2015-05-14\", \"2015-05-15\", \"2015-05-18\", \"2015-05-19\", \"2015-05-20\", \"2015-05-21\", \"2015-05-22\", \"2015-05-25\", \"2015-05-26\", \"2015-05-27\", \"2015-05-28\", \"2015-05-29\", \"2015-06-01\", \"2015-06-02\", \"2015-06-03\", \"2015-06-04\", \"2015-06-05\", \"2015-06-08\", \"2015-06-09\", \"2015-06-10\", \"2015-06-11\", \"2015-06-12\", \"2015-06-15\", \"2015-06-16\", \"2015-06-17\", \"2015-06-18\", \"2015-06-19\", \"2015-06-22\", \"2015-06-23\", \"2015-06-24\", \"2015-06-25\", \"2015-06-26\", \"2015-06-29\", \"2015-06-30\", \"2015-07-01\", \"2015-07-02\", \"2015-07-03\", \"2015-07-06\", \"2015-07-07\", \"2015-07-08\", \"2015-07-09\", \"2015-07-10\", \"2015-07-13\", \"2015-07-14\", \"2015-07-15\", \"2015-07-16\", \"2015-07-17\", \"2015-07-20\", \"2015-07-21\", \"2015-07-22\", \"2015-07-23\", \"2015-07-24\", \"2015-07-27\", \"2015-07-28\", \"2015-07-29\", \"2015-07-30\", \"2015-07-31\", \"2015-08-03\", \"2015-08-04\", \"2015-08-05\", \"2015-08-06\", \"2015-08-07\", \"2015-08-10\", \"2015-08-11\", \"2015-08-12\", \"2015-08-13\", \"2015-08-14\", \"2015-08-17\", \"2015-08-18\", \"2015-08-19\", \"2015-08-20\", \"2015-08-21\", \"2015-08-24\", \"2015-08-25\", \"2015-08-26\", \"2015-08-27\", \"2015-08-28\", \"2015-08-31\", \"2015-09-01\", \"2015-09-02\", \"2015-09-03\", \"2015-09-04\", \"2015-09-07\", \"2015-09-08\", \"2015-09-09\", \"2015-09-10\", \"2015-09-11\", \"2015-09-14\", \"2015-09-15\", \"2015-09-16\", \"2015-09-18\", \"2015-09-21\", \"2015-09-22\", \"2015-09-23\", \"2015-09-24\", \"2015-09-28\", \"2015-09-29\", \"2015-09-30\", \"2015-10-01\", \"2015-10-05\", \"2015-10-06\", \"2015-10-07\", \"2015-10-08\", \"2015-10-09\", \"2015-10-12\", \"2015-10-13\", \"2015-10-14\", \"2015-10-15\", \"2015-10-16\", \"2015-10-19\", \"2015-10-20\", \"2015-10-21\", \"2015-10-23\", \"2015-10-26\", \"2015-10-27\", \"2015-10-28\", \"2015-10-29\", \"2015-10-30\", \"2015-11-02\", \"2015-11-03\", \"2015-11-04\", \"2015-11-05\", \"2015-11-06\", \"2015-11-09\", \"2015-11-10\", \"2015-11-11\", \"2015-11-13\", \"2015-11-16\", \"2015-11-17\", \"2015-11-18\", \"2015-11-19\", \"2015-11-20\", \"2015-11-23\", \"2015-11-24\", \"2015-11-26\", \"2015-11-27\", \"2015-11-30\", \"2015-12-01\", \"2015-12-02\", \"2015-12-03\", \"2015-12-04\", \"2015-12-07\", \"2015-12-08\", \"2015-12-09\", \"2015-12-10\", \"2015-12-11\", \"2015-12-14\", \"2015-12-15\", \"2015-12-16\", \"2015-12-17\", \"2015-12-18\", \"2015-12-21\", \"2015-12-22\", \"2015-12-23\", \"2015-12-24\", \"2015-12-28\", \"2015-12-29\", \"2015-12-30\", \"2015-12-31\", \"2016-01-04\", \"2016-01-05\", \"2016-01-06\", \"2016-01-07\", \"2016-01-08\", \"2016-01-11\", \"2016-01-12\", \"2016-01-13\", \"2016-01-14\", \"2016-01-15\", \"2016-01-18\", \"2016-01-19\", \"2016-01-20\", \"2016-01-21\", \"2016-01-22\", \"2016-01-25\", \"2016-01-27\", \"2016-01-28\", \"2016-01-29\", \"2016-02-01\", \"2016-02-02\", \"2016-02-03\", \"2016-02-04\", \"2016-02-05\", \"2016-02-08\", \"2016-02-09\", \"2016-02-10\", \"2016-02-11\", \"2016-02-12\", \"2016-02-15\", \"2016-02-16\", \"2016-02-17\", \"2016-02-18\", \"2016-02-19\", \"2016-02-22\", \"2016-02-23\", \"2016-02-24\", \"2016-02-25\", \"2016-02-26\", \"2016-02-29\", \"2016-03-01\", \"2016-03-02\", \"2016-03-03\", \"2016-03-04\", \"2016-03-08\", \"2016-03-09\", \"2016-03-10\", \"2016-03-11\", \"2016-03-14\", \"2016-03-15\", \"2016-03-16\", \"2016-03-17\", \"2016-03-18\", \"2016-03-21\", \"2016-03-22\", \"2016-03-23\", \"2016-03-28\", \"2016-03-29\", \"2016-03-30\", \"2016-03-31\", \"2016-04-01\", \"2016-04-04\", \"2016-04-05\", \"2016-04-06\", \"2016-04-07\", \"2016-04-08\", \"2016-04-11\", \"2016-04-12\", \"2016-04-13\", \"2016-04-18\", \"2016-04-20\", \"2016-04-21\", \"2016-04-22\", \"2016-04-25\", \"2016-04-26\", \"2016-04-27\", \"2016-04-28\", \"2016-04-29\", \"2016-05-02\", \"2016-05-03\", \"2016-05-04\", \"2016-05-05\", \"2016-05-06\", \"2016-05-09\", \"2016-05-10\", \"2016-05-11\", \"2016-05-12\", \"2016-05-13\", \"2016-05-16\", \"2016-05-17\", \"2016-05-18\", \"2016-05-19\", \"2016-05-20\", \"2016-05-23\", \"2016-05-24\", \"2016-05-25\", \"2016-05-26\", \"2016-05-27\", \"2016-05-30\", \"2016-05-31\", \"2016-06-01\", \"2016-06-02\", \"2016-06-03\", \"2016-06-06\", \"2016-06-07\", \"2016-06-08\", \"2016-06-09\", \"2016-06-10\", \"2016-06-13\", \"2016-06-14\", \"2016-06-15\", \"2016-06-16\", \"2016-06-17\", \"2016-06-20\", \"2016-06-21\", \"2016-06-22\", \"2016-06-23\", \"2016-06-24\", \"2016-06-27\", \"2016-06-28\", \"2016-06-29\", \"2016-06-30\", \"2016-07-01\", \"2016-07-04\", \"2016-07-05\", \"2016-07-07\", \"2016-07-08\", \"2016-07-11\", \"2016-07-12\", \"2016-07-13\", \"2016-07-14\", \"2016-07-15\", \"2016-07-18\", \"2016-07-19\", \"2016-07-20\", \"2016-07-21\", \"2016-07-22\", \"2016-07-25\", \"2016-07-26\", \"2016-07-27\", \"2016-07-28\", \"2016-07-29\", \"2016-08-01\", \"2016-08-02\", \"2016-08-03\", \"2016-08-04\", \"2016-08-05\", \"2016-08-08\", \"2016-08-09\", \"2016-08-10\", \"2016-08-11\", \"2016-08-12\", \"2016-08-16\", \"2016-08-17\", \"2016-08-18\", \"2016-08-19\", \"2016-08-22\", \"2016-08-23\", \"2016-08-24\", \"2016-08-25\", \"2016-08-26\", \"2016-08-29\", \"2016-08-30\", \"2016-08-31\", \"2016-09-01\", \"2016-09-02\", \"2016-09-06\", \"2016-09-07\", \"2016-09-08\", \"2016-09-09\", \"2016-09-12\", \"2016-09-14\", \"2016-09-15\", \"2016-09-16\", \"2016-09-19\", \"2016-09-20\", \"2016-09-21\", \"2016-09-22\", \"2016-09-23\", \"2016-09-26\", \"2016-09-27\", \"2016-09-28\", \"2016-09-29\", \"2016-09-30\", \"2016-10-03\", \"2016-10-04\", \"2016-10-05\", \"2016-10-06\", \"2016-10-07\", \"2016-10-10\", \"2016-10-13\", \"2016-10-14\", \"2016-10-17\", \"2016-10-18\", \"2016-10-19\", \"2016-10-20\", \"2016-10-21\", \"2016-10-24\", \"2016-10-25\", \"2016-10-26\", \"2016-10-27\", \"2016-10-28\", \"2016-10-30\", \"2016-11-01\", \"2016-11-02\", \"2016-11-03\", \"2016-11-04\", \"2016-11-07\", \"2016-11-08\", \"2016-11-09\", \"2016-11-10\", \"2016-11-11\", \"2016-11-15\", \"2016-11-16\", \"2016-11-17\", \"2016-11-18\", \"2016-11-21\", \"2016-11-22\", \"2016-11-23\", \"2016-11-24\", \"2016-11-25\", \"2016-11-28\", \"2016-11-29\", \"2016-11-30\", \"2016-12-01\", \"2016-12-02\", \"2016-12-05\", \"2016-12-06\", \"2016-12-07\", \"2016-12-08\", \"2016-12-09\", \"2016-12-12\", \"2016-12-13\", \"2016-12-14\", \"2016-12-15\", \"2016-12-16\", \"2016-12-19\", \"2016-12-20\", \"2016-12-21\", \"2016-12-22\", \"2016-12-23\", \"2016-12-26\", \"2016-12-27\", \"2016-12-28\", \"2016-12-29\", \"2016-12-30\", \"2017-01-02\", \"2017-01-03\", \"2017-01-04\", \"2017-01-05\", \"2017-01-06\", \"2017-01-09\", \"2017-01-10\", \"2017-01-11\", \"2017-01-12\", \"2017-01-13\", \"2017-01-16\", \"2017-01-17\", \"2017-01-18\", \"2017-01-19\", \"2017-01-20\", \"2017-01-23\", \"2017-01-24\", \"2017-01-25\", \"2017-01-27\", \"2017-01-30\", \"2017-01-31\", \"2017-02-01\", \"2017-02-02\", \"2017-02-03\", \"2017-02-06\", \"2017-02-07\", \"2017-02-08\", \"2017-02-09\", \"2017-02-10\", \"2017-02-13\", \"2017-02-14\", \"2017-02-15\", \"2017-02-16\", \"2017-02-17\", \"2017-02-20\", \"2017-02-21\", \"2017-02-22\", \"2017-02-23\", \"2017-02-27\", \"2017-02-28\", \"2017-03-01\", \"2017-03-02\", \"2017-03-03\", \"2017-03-06\", \"2017-03-07\", \"2017-03-08\", \"2017-03-09\", \"2017-03-10\", \"2017-03-14\", \"2017-03-15\", \"2017-03-16\", \"2017-03-17\", \"2017-03-20\", \"2017-03-21\", \"2017-03-22\", \"2017-03-23\", \"2017-03-24\", \"2017-03-27\", \"2017-03-28\", \"2017-03-29\", \"2017-03-30\", \"2017-03-31\", \"2017-04-03\", \"2017-04-05\", \"2017-04-06\", \"2017-04-07\", \"2017-04-10\", \"2017-04-11\", \"2017-04-12\", \"2017-04-13\", \"2017-04-17\", \"2017-04-18\", \"2017-04-19\", \"2017-04-20\", \"2017-04-21\", \"2017-04-24\", \"2017-04-25\", \"2017-04-26\", \"2017-04-27\", \"2017-04-28\", \"2017-05-02\", \"2017-05-03\", \"2017-05-04\", \"2017-05-05\", \"2017-05-08\", \"2017-05-09\", \"2017-05-10\", \"2017-05-11\", \"2017-05-12\", \"2017-05-15\", \"2017-05-16\", \"2017-05-17\", \"2017-05-18\", \"2017-05-19\", \"2017-05-22\", \"2017-05-23\", \"2017-05-24\", \"2017-05-25\", \"2017-05-26\", \"2017-05-29\", \"2017-05-30\", \"2017-05-31\", \"2017-06-01\", \"2017-06-02\", \"2017-06-05\", \"2017-06-06\", \"2017-06-07\", \"2017-06-08\", \"2017-06-09\", \"2017-06-12\", \"2017-06-13\", \"2017-06-14\", \"2017-06-15\", \"2017-06-16\", \"2017-06-19\", \"2017-06-20\", \"2017-06-21\", \"2017-06-22\", \"2017-06-23\", \"2017-06-27\", \"2017-06-28\", \"2017-06-29\", \"2017-06-30\", \"2017-07-03\", \"2017-07-04\", \"2017-07-05\", \"2017-07-06\", \"2017-07-07\", \"2017-07-10\", \"2017-07-11\", \"2017-07-12\", \"2017-07-13\", \"2017-07-14\", \"2017-07-17\", \"2017-07-18\", \"2017-07-19\", \"2017-07-20\", \"2017-07-21\", \"2017-07-24\", \"2017-07-25\", \"2017-07-26\", \"2017-07-27\", \"2017-07-28\", \"2017-07-31\", \"2017-08-01\", \"2017-08-02\", \"2017-08-03\", \"2017-08-04\", \"2017-08-07\", \"2017-08-08\", \"2017-08-09\", \"2017-08-10\", \"2017-08-11\", \"2017-08-14\", \"2017-08-16\", \"2017-08-17\", \"2017-08-18\", \"2017-08-21\", \"2017-08-22\", \"2017-08-23\", \"2017-08-24\", \"2017-08-28\", \"2017-08-29\", \"2017-08-30\", \"2017-08-31\", \"2017-09-01\", \"2017-09-04\", \"2017-09-05\", \"2017-09-06\", \"2017-09-07\", \"2017-09-08\", \"2017-09-11\", \"2017-09-12\", \"2017-09-13\", \"2017-09-14\", \"2017-09-15\", \"2017-09-18\", \"2017-09-19\", \"2017-09-20\", \"2017-09-21\", \"2017-09-22\", \"2017-09-25\", \"2017-09-26\", \"2017-09-27\", \"2017-09-28\", \"2017-09-29\", \"2017-10-03\", \"2017-10-04\", \"2017-10-05\", \"2017-10-06\", \"2017-10-09\", \"2017-10-10\", \"2017-10-11\", \"2017-10-12\", \"2017-10-13\", \"2017-10-16\", \"2017-10-17\", \"2017-10-18\", \"2017-10-19\", \"2017-10-23\", \"2017-10-24\", \"2017-10-25\", \"2017-10-26\", \"2017-10-27\", \"2017-10-30\", \"2017-10-31\", \"2017-11-01\", \"2017-11-02\", \"2017-11-03\", \"2017-11-06\", \"2017-11-07\", \"2017-11-08\", \"2017-11-09\", \"2017-11-10\", \"2017-11-13\", \"2017-11-14\", \"2017-11-15\", \"2017-11-16\", \"2017-11-17\", \"2017-11-20\", \"2017-11-21\", \"2017-11-22\", \"2017-11-23\", \"2017-11-24\", \"2017-11-27\", \"2017-11-28\", \"2017-11-29\", \"2017-11-30\", \"2017-12-01\", \"2017-12-04\", \"2017-12-05\", \"2017-12-06\", \"2017-12-07\", \"2017-12-08\", \"2017-12-11\", \"2017-12-12\", \"2017-12-13\", \"2017-12-14\", \"2017-12-15\", \"2017-12-18\", \"2017-12-19\", \"2017-12-20\", \"2017-12-21\", \"2017-12-22\", \"2017-12-26\", \"2017-12-27\", \"2017-12-28\", \"2017-12-29\", \"2018-01-01\", \"2018-01-02\", \"2018-01-03\", \"2018-01-04\", \"2018-01-05\", \"2018-01-08\", \"2018-01-09\", \"2018-01-10\", \"2018-01-11\", \"2018-01-12\", \"2018-01-15\", \"2018-01-16\", \"2018-01-17\", \"2018-01-18\", \"2018-01-19\", \"2018-01-22\", \"2018-01-23\", \"2018-01-24\", \"2018-01-25\", \"2018-01-29\", \"2018-01-30\", \"2018-01-31\", \"2018-02-01\", \"2018-02-02\", \"2018-02-05\", \"2018-02-06\", \"2018-02-07\", \"2018-02-08\", \"2018-02-09\", \"2018-02-12\", \"2018-02-14\", \"2018-02-15\", \"2018-02-16\", \"2018-02-19\", \"2018-02-20\", \"2018-02-21\", \"2018-02-22\", \"2018-02-23\", \"2018-02-26\", \"2018-02-27\", \"2018-02-28\", \"2018-03-01\", \"2018-03-05\", \"2018-03-06\", \"2018-03-07\", \"2018-03-08\", \"2018-03-09\", \"2018-03-12\", \"2018-03-13\", \"2018-03-14\", \"2018-03-15\", \"2018-03-16\", \"2018-03-19\", \"2018-03-20\", \"2018-03-21\", \"2018-03-22\", \"2018-03-23\", \"2018-03-26\", \"2018-03-27\", \"2018-03-28\", \"2018-04-02\", \"2018-04-03\", \"2018-04-04\", \"2018-04-05\", \"2018-04-06\", \"2018-04-09\", \"2018-04-10\", \"2018-04-11\", \"2018-04-12\", \"2018-04-13\", \"2018-04-16\", \"2018-04-17\", \"2018-04-18\", \"2018-04-19\", \"2018-04-20\", \"2018-04-23\", \"2018-04-24\", \"2018-04-25\", \"2018-04-26\", \"2018-04-27\", \"2018-04-30\", \"2018-05-02\", \"2018-05-03\", \"2018-05-04\", \"2018-05-07\", \"2018-05-08\", \"2018-05-09\", \"2018-05-10\", \"2018-05-11\", \"2018-05-14\", \"2018-05-15\", \"2018-05-16\", \"2018-05-17\", \"2018-05-18\", \"2018-05-21\", \"2018-05-22\", \"2018-05-23\", \"2018-05-24\", \"2018-05-25\", \"2018-05-28\", \"2018-05-29\", \"2018-05-30\", \"2018-05-31\", \"2018-06-01\", \"2018-06-04\", \"2018-06-05\", \"2018-06-06\", \"2018-06-07\", \"2018-06-08\", \"2018-06-11\", \"2018-06-12\", \"2018-06-13\", \"2018-06-14\", \"2018-06-15\", \"2018-06-18\", \"2018-06-19\", \"2018-06-20\", \"2018-06-21\", \"2018-06-22\", \"2018-06-25\", \"2018-06-26\", \"2018-06-27\", \"2018-06-28\", \"2018-06-29\", \"2018-07-02\", \"2018-07-03\", \"2018-07-04\", \"2018-07-05\", \"2018-07-06\", \"2018-07-09\", \"2018-07-10\", \"2018-07-11\", \"2018-07-12\", \"2018-07-13\", \"2018-07-16\", \"2018-07-17\", \"2018-07-18\", \"2018-07-19\", \"2018-07-20\", \"2018-07-23\", \"2018-07-24\", \"2018-07-25\", \"2018-07-26\", \"2018-07-27\", \"2018-07-30\", \"2018-07-31\", \"2018-08-01\", \"2018-08-02\", \"2018-08-03\", \"2018-08-06\", \"2018-08-07\", \"2018-08-08\", \"2018-08-09\", \"2018-08-10\", \"2018-08-13\", \"2018-08-14\", \"2018-08-16\", \"2018-08-17\", \"2018-08-20\", \"2018-08-21\", \"2018-08-23\", \"2018-08-24\", \"2018-08-27\", \"2018-08-28\", \"2018-08-29\", \"2018-08-30\", \"2018-08-31\", \"2018-09-03\", \"2018-09-04\", \"2018-09-05\", \"2018-09-06\", \"2018-09-07\", \"2018-09-10\", \"2018-09-11\", \"2018-09-12\", \"2018-09-14\", \"2018-09-17\", \"2018-09-18\", \"2018-09-19\", \"2018-09-21\", \"2018-09-24\", \"2018-09-25\", \"2018-09-26\", \"2018-09-27\", \"2018-09-28\", \"2018-10-01\", \"2018-10-03\", \"2018-10-04\", \"2018-10-05\", \"2018-10-08\", \"2018-10-09\", \"2018-10-10\", \"2018-10-11\", \"2018-10-12\", \"2018-10-15\", \"2018-10-16\", \"2018-10-17\", \"2018-10-19\", \"2018-10-22\", \"2018-10-23\", \"2018-10-24\", \"2018-10-25\", \"2018-10-26\", \"2018-10-29\", \"2018-10-30\", \"2018-10-31\", \"2018-11-01\", \"2018-11-02\", \"2018-11-05\", \"2018-11-06\", \"2018-11-07\", \"2018-11-09\", \"2018-11-12\", \"2018-11-13\", \"2018-11-14\", \"2018-11-15\", \"2018-11-16\", \"2018-11-19\", \"2018-11-20\", \"2018-11-21\", \"2018-11-22\", \"2018-11-26\", \"2018-11-27\", \"2018-11-28\", \"2018-11-29\", \"2018-11-30\", \"2018-12-03\", \"2018-12-04\", \"2018-12-05\", \"2018-12-06\", \"2018-12-07\", \"2018-12-10\", \"2018-12-11\", \"2018-12-12\", \"2018-12-13\", \"2018-12-14\", \"2018-12-17\", \"2018-12-18\", \"2018-12-19\", \"2018-12-20\", \"2018-12-21\", \"2018-12-24\", \"2018-12-26\", \"2018-12-27\", \"2018-12-28\", \"2018-12-31\", \"2019-01-01\", \"2019-01-02\", \"2019-01-03\", \"2019-01-04\", \"2019-01-07\", \"2019-01-08\", \"2019-01-09\", \"2019-01-10\", \"2019-01-11\", \"2019-01-14\", \"2019-01-15\", \"2019-01-16\", \"2019-01-17\", \"2019-01-18\", \"2019-01-21\", \"2019-01-22\", \"2019-01-23\", \"2019-01-24\", \"2019-01-25\", \"2019-01-28\", \"2019-01-29\", \"2019-01-30\", \"2019-01-31\", \"2019-02-01\", \"2019-02-04\", \"2019-02-05\", \"2019-02-06\", \"2019-02-07\", \"2019-02-08\", \"2019-02-11\", \"2019-02-12\", \"2019-02-13\", \"2019-02-14\", \"2019-02-15\", \"2019-02-18\", \"2019-02-19\", \"2019-02-20\", \"2019-02-21\", \"2019-02-22\", \"2019-02-25\", \"2019-02-26\", \"2019-02-27\", \"2019-02-28\", \"2019-03-01\", \"2019-03-05\", \"2019-03-06\", \"2019-03-07\", \"2019-03-08\", \"2019-03-11\", \"2019-03-12\", \"2019-03-13\", \"2019-03-14\", \"2019-03-15\", \"2019-03-18\", \"2019-03-19\", \"2019-03-20\", \"2019-03-22\", \"2019-03-25\", \"2019-03-26\", \"2019-03-27\", \"2019-03-28\", \"2019-03-29\", \"2019-04-01\", \"2019-04-02\", \"2019-04-03\", \"2019-04-04\", \"2019-04-05\", \"2019-04-08\", \"2019-04-09\", \"2019-04-10\", \"2019-04-11\", \"2019-04-12\", \"2019-04-15\", \"2019-04-16\", \"2019-04-18\", \"2019-04-22\", \"2019-04-23\", \"2019-04-24\", \"2019-04-25\", \"2019-04-26\", \"2019-04-30\", \"2019-05-02\", \"2019-05-03\", \"2019-05-06\", \"2019-05-07\", \"2019-05-08\"], \"xaxis\": \"x\", \"y\": [1260.7, 1282.5, 1285.7, 1295.73, 1297.35, 1284.55, 1263.13, 1242.63, 1239.9, 1273.75, 1297.5, 1321.5, 1343.65, 1347.5, 1361.0, 1365.0, 1360.85, 1346.38, 1336.93, 1343.55, 1352.3, 1395.0, 1406.0, 1385.35, 1339.75, 1339.0, 1329.75, 1312.43, 1319.98, 1305.0, 1303.28, 1299.73, 1302.93, 1308.75, 1315.5, 1318.5, 1307.0, 1292.85, 1285.95, 1284.95, 1284.38, 1281.8, 1281.23, 1299.43, 1327.85, 1343.73, 1335.33, 1332.48, 1356.4, 1313.5, 1276.98, 1241.95, 1225.85, 1236.5, 1239.6, 1257.0, 1258.95, 1255.0, 1247.5, 1245.0, 1251.95, 1268.23, 1257.5, 1276.85, 1293.63, 1281.53, 1281.9, 1272.5, 1260.0, 1266.0, 1262.5, 1265.0, 1281.95, 1290.0, 1313.6, 1318.45, 1311.63, 1315.83, 1311.5, 1324.18, 1323.0, 1315.0, 1312.8, 1311.4, 1304.15, 1294.98, 1294.85, 1305.0, 1306.5, 1294.48, 1258.58, 1259.65, 1264.43, 1273.15, 1277.5, 1300.0, 1304.0, 1293.63, 1286.5, 1298.18, 1302.0, 1294.38, 1304.0, 1300.05, 1305.0, 1322.5, 1323.45, 1310.85, 1298.43, 1277.3, 1259.3, 1257.5, 1274.98, 1279.35, 1285.05, 1291.45, 1300.13, 1284.5, 1268.55, 1258.23, 1252.5, 1259.5, 1257.5, 1258.4, 1259.5, 1262.5, 1261.5, 1275.0, 1291.5, 1286.5, 1294.5, 1305.0, 1345.7, 1342.0, 1359.68, 1347.4, 1374.9, 1376.43, 1369.98, 1364.73, 1322.23, 1309.95, 1319.5, 1305.0, 1302.5, 1294.75, 1305.53, 1310.23, 1307.5, 1306.88, 1279.98, 1282.0, 1287.0, 1288.93, 1284.2, 1282.4, 1279.45, 1282.0, 1293.0, 1278.53, 1286.2, 1278.88, 1295.0, 1309.5, 1317.0, 1315.65, 1324.98, 1384.5, 1362.8, 1358.5, 1338.73, 1325.15, 1330.0, 1305.85, 1271.0, 1251.5, 1246.0, 1247.48, 1265.0, 1270.9, 1273.05, 1273.8, 1272.38, 1266.78, 1266.95, 1255.95, 1260.95, 1273.9, 1273.6, 1267.48, 1258.95, 1251.38, 1238.5, 1237.5, 1219.0, 1195.0, 1199.23, 1194.0, 1190.73, 1211.75, 1206.7, 1196.23, 1191.2, 1179.7, 1190.95, 1189.03, 1189.0, 1186.5, 1173.65, 1171.85, 1174.45, 1186.2, 1195.6, 1195.98, 1193.13, 1192.5, 1207.25, 1222.43, 1217.1, 1225.0, 1219.45, 1217.5, 1219.1, 1233.05, 1232.65, 1229.5, 1224.03, 1207.0, 1193.3, 1192.6, 1191.45, 1203.68, 1191.25, 1182.43, 1163.5, 1149.2, 1145.63, 1145.95, 1146.98, 1142.5, 1144.9, 1151.0, 1169.5, 1164.8, 1174.45, 1200.0, 1206.45, 1215.75, 1214.95, 1220.0, 1219.98, 1205.5, 1165.0, 1144.88, 1142.03, 1121.68, 1153.43, 1141.0, 1139.83, 1159.83, 1162.53, 1171.48, 1159.95, 1129.98, 1114.0, 1128.43, 1114.85, 1142.55, 1165.0, 1195.5, 1189.23, 1183.43, 1184.7, 1179.2, 1195.43, 1199.0, 1181.75, 1166.0, 1180.9, 1215.0, 1227.48, 1242.5, 1243.0, 1258.55, 1243.48, 1252.5, 1275.0, 1260.33, 1244.0, 1242.45, 1244.5, 1242.08, 1234.5, 1258.5, 1262.5, 1272.5, 1276.38, 1266.65, 1233.25, 1217.68, 1228.53, 1246.73, 1257.28, 1269.85, 1270.98, 1265.0, 1265.0, 1246.68, 1244.98, 1242.15, 1258.75, 1266.98, 1262.8, 1284.95, 1282.5, 1282.4, 1295.63, 1282.45, 1280.0, 1282.9, 1272.35, 1244.13, 1266.48, 1282.45, 1289.93, 1320.98, 1323.5, 1322.5, 1327.15, 1329.0, 1319.5, 1319.5, 1314.28, 1311.15, 1301.63, 1276.0, 1278.98, 1282.45, 1282.35, 1304.88, 1334.0, 1331.78, 1338.85, 1329.75, 1296.6, 1273.48, 1250.93, 1255.5, 1281.45, 1282.23, 1262.55, 1248.53, 1245.93, 1220.18, 1235.9, 1237.5, 1249.5, 1263.93, 1263.45, 1234.5, 1236.33, 1250.9, 1259.7, 1261.73, 1281.5, 1282.08, 1290.2, 1314.78, 1317.45, 1362.5, 1357.78, 1346.95, 1341.48, 1342.15, 1333.98, 1329.9, 1341.0, 1357.5, 1372.03, 1370.0, 1349.4, 1328.65, 1323.23, 1296.68, 1302.48, 1301.0, 1294.85, 1286.28, 1265.0, 1274.9, 1274.6, 1265.0, 1259.7, 1260.0, 1249.73, 1178.6, 1183.25, 1181.9, 1188.5, 1171.05, 1187.88, 1213.5, 1208.45, 1212.0, 1213.38, 1201.78, 1209.45, 1223.7, 1218.63, 1228.25, 1224.88, 1228.8, 1212.53, 1207.7, 1200.5, 1193.08, 1193.45, 1184.78, 1193.28, 1187.73, 1207.83, 1205.0, 1204.68, 1215.75, 1217.45, 1207.25, 1201.38, 1213.15, 1207.5, 1204.48, 1199.75, 1170.45, 1167.48, 1168.05, 1168.95, 1153.43, 1137.5, 1108.75, 1072.73, 1078.45, 1104.43, 1101.78, 1074.5, 1070.0, 1087.83, 1081.43, 1103.8, 1152.93, 1159.5, 1145.53, 1147.38, 1145.0, 1134.93, 1118.48, 1101.98, 1092.2, 1099.5, 1109.95, 1108.8, 1109.0, 1112.35, 1136.0, 1144.65, 1148.85, 1172.45, 1171.9, 1162.4, 1158.85, 1150.8, 1165.0, 1174.95, 1179.73, 1189.3, 1187.5, 1185.8, 1194.0, 1194.98, 1163.8, 1155.65, 1164.83, 1164.68, 1180.0, 1177.45, 1136.95, 1143.9, 1148.98, 1147.53, 1150.0, 1156.65, 1161.5, 1180.0, 1189.38, 1175.98, 1166.03, 1119.6, 1109.48, 1121.03, 1127.53, 1126.3, 1141.3, 1164.0, 1211.53, 1213.95, 1209.43, 1213.75, 1238.95, 1237.58, 1276.0, 1262.45, 1235.0, 1246.03, 1251.0, 1245.0, 1250.95, 1255.0, 1249.5, 1241.95, 1252.5, 1260.0, 1262.0, 1274.78, 1293.1, 1284.95, 1263.48, 1272.45, 1262.68, 1246.0, 1247.95, 1242.5, 1234.88, 1220.0, 1221.7, 1225.0, 1232.5, 1220.43, 1217.5, 1208.98, 1205.0, 1216.63, 1224.5, 1221.5, 1214.0, 1204.5, 1165.73, 1166.5, 1174.35, 1166.0, 1167.83, 1168.85, 1172.05, 1170.0, 1163.9, 1149.03, 1150.98, 1172.35, 1175.0, 1166.23, 1173.7, 1180.5, 1177.53, 1179.95, 1184.95, 1187.58, 1217.5, 1230.38, 1286.0, 1270.0, 1276.25, 1281.83, 1285.0, 1318.48, 1313.43, 1298.25, 1287.9, 1286.25, 1282.0, 1295.6, 1309.95, 1354.4, 1350.0, 1302.25, 1273.28, 1256.45, 1240.55, 1238.0, 1234.85, 1217.5, 1222.83, 1224.5, 1220.5, 1215.5, 1206.98, 1192.35, 1178.88, 1186.03, 1188.5, 1191.53, 1190.23, 1182.5, 1180.95, 1178.23, 1222.43, 1257.4, 1241.5, 1236.0, 1212.45, 1211.05, 1221.35, 1229.68, 1228.4, 1249.98, 1269.98, 1290.0, 1287.5, 1292.4, 1246.5, 1259.48, 1260.38, 1253.03, 1251.0, 1264.15, 1259.95, 1264.0, 1261.18, 1260.0, 1267.03, 1254.25, 1271.83, 1252.5, 1274.7, 1274.5, 1269.75, 1258.38, 1258.45, 1252.7, 1247.98, 1244.0, 1252.2, 1238.23, 1230.25, 1244.93, 1235.95, 1234.08, 1237.0, 1241.48, 1248.5, 1265.73, 1248.75, 1258.5, 1259.48, 1252.45, 1254.8, 1270.5, 1262.73, 1267.0, 1263.2, 1255.0, 1257.0, 1242.0, 1227.08, 1226.1, 1221.73, 1227.5, 1233.95, 1234.98, 1257.23, 1276.68, 1303.25, 1295.0, 1307.33, 1306.83, 1297.9, 1314.1, 1309.48, 1307.0, 1284.58, 1296.58, 1310.0, 1320.0, 1313.0, 1336.5, 1318.13, 1335.85, 1374.5, 1379.5, 1374.45, 1363.0, 1388.48, 1377.5, 1377.48, 1381.08, 1373.6, 1363.45, 1350.03, 1354.85, 1346.5, 1351.45, 1347.43, 1346.9, 1346.5, 1333.05, 1334.0, 1329.25, 1325.85, 1322.4, 1322.98, 1322.5, 1336.0, 1331.0, 1325.63, 1316.0, 1291.8, 1294.25, 1298.88, 1296.38, 1303.88, 1331.85, 1343.85, 1329.23, 1326.0, 1354.45, 1347.4, 1334.8, 1334.5, 1330.98, 1349.75, 1363.43, 1360.5, 1407.75, 1409.48, 1400.0, 1403.25, 1430.5, 1462.5, 1466.45, 1490.83, 1566.65, 1570.6, 1629.45, 1589.68, 1612.5, 1601.9, 1574.78, 1595.0, 1595.0, 1593.68, 1538.58, 1515.5, 1513.78, 1497.0, 1511.18, 1486.48, 1471.0, 1499.5, 1476.65, 1492.0, 1530.63, 1539.5, 1544.5, 1543.93, 1539.28, 1531.58, 1530.6, 1556.43, 1560.28, 1544.5, 1526.53, 1531.5, 1541.93, 1467.5, 1461.45, 1451.28, 1436.0, 1423.78, 1436.6, 1442.13, 1434.85, 1416.98, 1413.38, 1431.45, 1437.03, 1457.0, 1464.9, 1466.7, 1481.08, 1480.0, 1481.75, 1478.6, 1512.3, 1575.0, 1620.33, 1599.98, 1595.0, 1596.73, 1608.55, 1710.5, 1778.73, 1721.28, 1741.03, 1778.98, 1771.9, 1774.5, 1766.05, 1762.4, 1748.48, 1745.0, 1743.0, 1747.38, 1754.5, 1742.5, 1731.1, 1747.88, 1754.28, 1765.63, 1758.85, 1795.93, 1787.48, 1772.5, 1807.5, 1837.0, 1805.5, 1772.0, 1765.98, 1758.6, 1757.0, 1749.0, 1751.9, 1734.9, 1748.3, 1757.3, 1763.0, 1785.0, 1831.5, 1828.2, 1846.9, 1864.7, 1839.0, 1836.05, 1830.85, 1825.0, 1822.0, 1860.9, 1885.15, 1871.0, 1867.25, 1857.7, 1879.8, 1877.7, 1887.25, 1920.85, 1924.0, 1897.5, 1997.5, 1990.5, 1997.9, 1995.9, 2009.0, 2011.5, 2010.3, 2000.0, 2009.9, 2015.0, 2001.9, 1985.0, 1964.65, 1954.7, 1946.0, 1981.5, 1985.0, 1981.0, 1998.0, 1979.15, 1978.3, 1980.3, 1996.35, 2003.7, 2024.6, 2020.05, 2021.6, 2023.0, 2024.0, 2037.95, 2046.0, 2059.0, 2072.0, 2076.5, 2084.95, 2092.0, 2090.0, 2104.7, 2106.3, 2081.5, 2084.0, 2093.4, 2088.95, 2068.8, 2071.0, 2077.8, 2078.8, 2089.0, 2120.1, 2210.5, 2211.75, 2199.0, 2207.55, 2189.55, 2275.95, 2253.95, 2155.0, 2119.9, 2122.0, 2107.65, 2103.7, 2012.9, 1973.6, 1955.55, 1971.05, 1989.0, 1927.55, 1915.0, 1897.9, 1874.0, 1876.9, 1851.45, 1877.95, 1909.4, 1943.9, 1943.65, 1954.55, 1927.0, 1937.25, 1947.8, 1961.5, 1946.05, 1939.0, 1929.65, 1898.9, 1899.8, 1907.35, 1900.2, 1863.0, 1847.4, 1860.0, 1897.4, 1988.65, 1995.0, 1991.0, 1989.95, 2019.4, 2018.0, 2017.0, 2003.85, 2011.0, 2010.0, 2022.0, 2029.0, 1993.0, 2004.9, 2002.0, 1984.25, 1973.9, 1948.55, 1938.7, 1921.8, 1941.55, 1919.8, 1909.0, 1910.0, 1934.45, 1944.95, 1899.05, 1908.8, 1906.0, 1919.0, 1905.0, 1875.0, 1850.0, 1869.35, 1875.0, 1897.25, 1904.0, 1932.0, 1917.9, 1906.1, 1905.25, 1935.0, 1962.0, 1989.05, 1989.45, 2019.6, 2034.5, 2055.45, 2055.0, 2086.85, 2097.9, 2089.0, 2096.0, 2070.0, 2083.0, 2074.65, 2052.0, 2040.7, 1970.9, 1932.0, 1940.0, 1930.0, 1989.95, 2045.15, 2074.95, 2071.35, 2005.0, 2006.75, 2015.0, 2024.05, 2032.85, 2033.0, 2024.75, 2015.85, 2007.8, 2068.95, 2064.6, 2030.0, 2044.8, 2015.65, 2007.0, 1994.95, 1998.0, 2014.6, 2024.7, 2039.9, 2086.0, 2089.1, 2079.7, 2054.0, 2075.0, 2098.0, 2084.0, 2054.55, 2038.75, 2119.05, 2155.7, 2155.0, 2176.0, 2165.5, 2195.0, 2205.0, 2243.6, 2266.35, 2259.35, 2186.05, 2165.0, 2184.35, 2167.95], \"yaxis\": \"y\"}, {\"hovertemplate\": \"stock_name=WIPRO<br>date=%{x}<br>high=%{y}<extra></extra>\", \"legendgroup\": \"WIPRO\", \"line\": {\"color\": \"#00cc96\", \"dash\": \"solid\"}, \"mode\": \"lines\", \"name\": \"WIPRO\", \"showlegend\": true, \"type\": \"scattergl\", \"x\": [\"2015-02-02\", \"2015-02-03\", \"2015-02-04\", \"2015-02-05\", \"2015-02-06\", \"2015-02-09\", \"2015-02-10\", \"2015-02-11\", \"2015-02-12\", \"2015-02-13\", \"2015-02-16\", \"2015-02-18\", \"2015-02-19\", \"2015-02-20\", \"2015-02-23\", \"2015-02-24\", \"2015-02-25\", \"2015-02-26\", \"2015-02-27\", \"2015-02-28\", \"2015-03-02\", \"2015-03-03\", \"2015-03-04\", \"2015-03-05\", \"2015-03-09\", \"2015-03-10\", \"2015-03-11\", \"2015-03-12\", \"2015-03-13\", \"2015-03-16\", \"2015-03-17\", \"2015-03-18\", \"2015-03-19\", \"2015-03-20\", \"2015-03-23\", \"2015-03-24\", \"2015-03-25\", \"2015-03-26\", \"2015-03-27\", \"2015-03-30\", \"2015-03-31\", \"2015-04-01\", \"2015-04-06\", \"2015-04-07\", \"2015-04-08\", \"2015-04-09\", \"2015-04-10\", \"2015-04-13\", \"2015-04-15\", \"2015-04-16\", \"2015-04-17\", \"2015-04-20\", \"2015-04-21\", \"2015-04-22\", \"2015-04-23\", \"2015-04-24\", \"2015-04-27\", \"2015-04-28\", \"2015-04-29\", \"2015-04-30\", \"2015-05-04\", \"2015-05-05\", \"2015-05-06\", \"2015-05-07\", \"2015-05-08\", \"2015-05-11\", \"2015-05-12\", \"2015-05-13\", \"2015-05-14\", \"2015-05-15\", \"2015-05-18\", \"2015-05-19\", \"2015-05-20\", \"2015-05-21\", \"2015-05-22\", \"2015-05-25\", \"2015-05-26\", \"2015-05-27\", \"2015-05-28\", \"2015-05-29\", \"2015-06-01\", \"2015-06-02\", \"2015-06-03\", \"2015-06-04\", \"2015-06-05\", \"2015-06-08\", \"2015-06-09\", \"2015-06-10\", \"2015-06-11\", \"2015-06-12\", \"2015-06-15\", \"2015-06-16\", \"2015-06-17\", \"2015-06-18\", \"2015-06-19\", \"2015-06-22\", \"2015-06-23\", \"2015-06-24\", \"2015-06-25\", \"2015-06-26\", \"2015-06-29\", \"2015-06-30\", \"2015-07-01\", \"2015-07-02\", \"2015-07-03\", \"2015-07-06\", \"2015-07-07\", \"2015-07-08\", \"2015-07-09\", \"2015-07-10\", \"2015-07-13\", \"2015-07-14\", \"2015-07-15\", \"2015-07-16\", \"2015-07-17\", \"2015-07-20\", \"2015-07-21\", \"2015-07-22\", \"2015-07-23\", \"2015-07-24\", \"2015-07-27\", \"2015-07-28\", \"2015-07-29\", \"2015-07-30\", \"2015-07-31\", \"2015-08-03\", \"2015-08-04\", \"2015-08-05\", \"2015-08-06\", \"2015-08-07\", \"2015-08-10\", \"2015-08-11\", \"2015-08-12\", \"2015-08-13\", \"2015-08-14\", \"2015-08-17\", \"2015-08-18\", \"2015-08-19\", \"2015-08-20\", \"2015-08-21\", \"2015-08-24\", \"2015-08-25\", \"2015-08-26\", \"2015-08-27\", \"2015-08-28\", \"2015-08-31\", \"2015-09-01\", \"2015-09-02\", \"2015-09-03\", \"2015-09-04\", \"2015-09-07\", \"2015-09-08\", \"2015-09-09\", \"2015-09-10\", \"2015-09-11\", \"2015-09-14\", \"2015-09-15\", \"2015-09-16\", \"2015-09-18\", \"2015-09-21\", \"2015-09-22\", \"2015-09-23\", \"2015-09-24\", \"2015-09-28\", \"2015-09-29\", \"2015-09-30\", \"2015-10-01\", \"2015-10-05\", \"2015-10-06\", \"2015-10-07\", \"2015-10-08\", \"2015-10-09\", \"2015-10-12\", \"2015-10-13\", \"2015-10-14\", \"2015-10-15\", \"2015-10-16\", \"2015-10-19\", \"2015-10-20\", \"2015-10-21\", \"2015-10-23\", \"2015-10-26\", \"2015-10-27\", \"2015-10-28\", \"2015-10-29\", \"2015-10-30\", \"2015-11-02\", \"2015-11-03\", \"2015-11-04\", \"2015-11-05\", \"2015-11-06\", \"2015-11-09\", \"2015-11-10\", \"2015-11-11\", \"2015-11-13\", \"2015-11-16\", \"2015-11-17\", \"2015-11-18\", \"2015-11-19\", \"2015-11-20\", \"2015-11-23\", \"2015-11-24\", \"2015-11-26\", \"2015-11-27\", \"2015-11-30\", \"2015-12-01\", \"2015-12-02\", \"2015-12-03\", \"2015-12-04\", \"2015-12-07\", \"2015-12-08\", \"2015-12-09\", \"2015-12-10\", \"2015-12-11\", \"2015-12-14\", \"2015-12-15\", \"2015-12-16\", \"2015-12-17\", \"2015-12-18\", \"2015-12-21\", \"2015-12-22\", \"2015-12-23\", \"2015-12-24\", \"2015-12-28\", \"2015-12-29\", \"2015-12-30\", \"2015-12-31\", \"2016-01-04\", \"2016-01-05\", \"2016-01-06\", \"2016-01-07\", \"2016-01-08\", \"2016-01-11\", \"2016-01-12\", \"2016-01-13\", \"2016-01-14\", \"2016-01-15\", \"2016-01-18\", \"2016-01-19\", \"2016-01-20\", \"2016-01-21\", \"2016-01-22\", \"2016-01-25\", \"2016-01-27\", \"2016-01-28\", \"2016-01-29\", \"2016-02-01\", \"2016-02-02\", \"2016-02-03\", \"2016-02-04\", \"2016-02-05\", \"2016-02-08\", \"2016-02-09\", \"2016-02-10\", \"2016-02-11\", \"2016-02-12\", \"2016-02-15\", \"2016-02-16\", \"2016-02-17\", \"2016-02-18\", \"2016-02-19\", \"2016-02-22\", \"2016-02-23\", \"2016-02-24\", \"2016-02-25\", \"2016-02-26\", \"2016-02-29\", \"2016-03-01\", \"2016-03-02\", \"2016-03-03\", \"2016-03-04\", \"2016-03-08\", \"2016-03-09\", \"2016-03-10\", \"2016-03-11\", \"2016-03-14\", \"2016-03-15\", \"2016-03-16\", \"2016-03-17\", \"2016-03-18\", \"2016-03-21\", \"2016-03-22\", \"2016-03-23\", \"2016-03-28\", \"2016-03-29\", \"2016-03-30\", \"2016-03-31\", \"2016-04-01\", \"2016-04-04\", \"2016-04-05\", \"2016-04-06\", \"2016-04-07\", \"2016-04-08\", \"2016-04-11\", \"2016-04-12\", \"2016-04-13\", \"2016-04-18\", \"2016-04-20\", \"2016-04-21\", \"2016-04-22\", \"2016-04-25\", \"2016-04-26\", \"2016-04-27\", \"2016-04-28\", \"2016-04-29\", \"2016-05-02\", \"2016-05-03\", \"2016-05-04\", \"2016-05-05\", \"2016-05-06\", \"2016-05-09\", \"2016-05-10\", \"2016-05-11\", \"2016-05-12\", \"2016-05-13\", \"2016-05-16\", \"2016-05-17\", \"2016-05-18\", \"2016-05-19\", \"2016-05-20\", \"2016-05-23\", \"2016-05-24\", \"2016-05-25\", \"2016-05-26\", \"2016-05-27\", \"2016-05-30\", \"2016-05-31\", \"2016-06-01\", \"2016-06-02\", \"2016-06-03\", \"2016-06-06\", \"2016-06-07\", \"2016-06-08\", \"2016-06-09\", \"2016-06-10\", \"2016-06-13\", \"2016-06-14\", \"2016-06-15\", \"2016-06-16\", \"2016-06-17\", \"2016-06-20\", \"2016-06-21\", \"2016-06-22\", \"2016-06-23\", \"2016-06-24\", \"2016-06-27\", \"2016-06-28\", \"2016-06-29\", \"2016-06-30\", \"2016-07-01\", \"2016-07-04\", \"2016-07-05\", \"2016-07-07\", \"2016-07-08\", \"2016-07-11\", \"2016-07-12\", \"2016-07-13\", \"2016-07-14\", \"2016-07-15\", \"2016-07-18\", \"2016-07-19\", \"2016-07-20\", \"2016-07-21\", \"2016-07-22\", \"2016-07-25\", \"2016-07-26\", \"2016-07-27\", \"2016-07-28\", \"2016-07-29\", \"2016-08-01\", \"2016-08-02\", \"2016-08-03\", \"2016-08-04\", \"2016-08-05\", \"2016-08-08\", \"2016-08-09\", \"2016-08-10\", \"2016-08-11\", \"2016-08-12\", \"2016-08-16\", \"2016-08-17\", \"2016-08-18\", \"2016-08-19\", \"2016-08-22\", \"2016-08-23\", \"2016-08-24\", \"2016-08-25\", \"2016-08-26\", \"2016-08-29\", \"2016-08-30\", \"2016-08-31\", \"2016-09-01\", \"2016-09-02\", \"2016-09-06\", \"2016-09-07\", \"2016-09-08\", \"2016-09-09\", \"2016-09-12\", \"2016-09-14\", \"2016-09-15\", \"2016-09-16\", \"2016-09-19\", \"2016-09-20\", \"2016-09-21\", \"2016-09-22\", \"2016-09-23\", \"2016-09-26\", \"2016-09-27\", \"2016-09-28\", \"2016-09-29\", \"2016-09-30\", \"2016-10-03\", \"2016-10-04\", \"2016-10-05\", \"2016-10-06\", \"2016-10-07\", \"2016-10-10\", \"2016-10-13\", \"2016-10-14\", \"2016-10-17\", \"2016-10-18\", \"2016-10-19\", \"2016-10-20\", \"2016-10-21\", \"2016-10-24\", \"2016-10-25\", \"2016-10-26\", \"2016-10-27\", \"2016-10-28\", \"2016-10-30\", \"2016-11-01\", \"2016-11-02\", \"2016-11-03\", \"2016-11-04\", \"2016-11-07\", \"2016-11-08\", \"2016-11-09\", \"2016-11-10\", \"2016-11-11\", \"2016-11-15\", \"2016-11-16\", \"2016-11-17\", \"2016-11-18\", \"2016-11-21\", \"2016-11-22\", \"2016-11-23\", \"2016-11-24\", \"2016-11-25\", \"2016-11-28\", \"2016-11-29\", \"2016-11-30\", \"2016-12-01\", \"2016-12-02\", \"2016-12-05\", \"2016-12-06\", \"2016-12-07\", \"2016-12-08\", \"2016-12-09\", \"2016-12-12\", \"2016-12-13\", \"2016-12-14\", \"2016-12-15\", \"2016-12-16\", \"2016-12-19\", \"2016-12-20\", \"2016-12-21\", \"2016-12-22\", \"2016-12-23\", \"2016-12-26\", \"2016-12-27\", \"2016-12-28\", \"2016-12-29\", \"2016-12-30\", \"2017-01-02\", \"2017-01-03\", \"2017-01-04\", \"2017-01-05\", \"2017-01-06\", \"2017-01-09\", \"2017-01-10\", \"2017-01-11\", \"2017-01-12\", \"2017-01-13\", \"2017-01-16\", \"2017-01-17\", \"2017-01-18\", \"2017-01-19\", \"2017-01-20\", \"2017-01-23\", \"2017-01-24\", \"2017-01-25\", \"2017-01-27\", \"2017-01-30\", \"2017-01-31\", \"2017-02-01\", \"2017-02-02\", \"2017-02-03\", \"2017-02-06\", \"2017-02-07\", \"2017-02-08\", \"2017-02-09\", \"2017-02-10\", \"2017-02-13\", \"2017-02-14\", \"2017-02-15\", \"2017-02-16\", \"2017-02-17\", \"2017-02-20\", \"2017-02-21\", \"2017-02-22\", \"2017-02-23\", \"2017-02-27\", \"2017-02-28\", \"2017-03-01\", \"2017-03-02\", \"2017-03-03\", \"2017-03-06\", \"2017-03-07\", \"2017-03-08\", \"2017-03-09\", \"2017-03-10\", \"2017-03-14\", \"2017-03-15\", \"2017-03-16\", \"2017-03-17\", \"2017-03-20\", \"2017-03-21\", \"2017-03-22\", \"2017-03-23\", \"2017-03-24\", \"2017-03-27\", \"2017-03-28\", \"2017-03-29\", \"2017-03-30\", \"2017-03-31\", \"2017-04-03\", \"2017-04-05\", \"2017-04-06\", \"2017-04-07\", \"2017-04-10\", \"2017-04-11\", \"2017-04-12\", \"2017-04-13\", \"2017-04-17\", \"2017-04-18\", \"2017-04-19\", \"2017-04-20\", \"2017-04-21\", \"2017-04-24\", \"2017-04-25\", \"2017-04-26\", \"2017-04-27\", \"2017-04-28\", \"2017-05-02\", \"2017-05-03\", \"2017-05-04\", \"2017-05-05\", \"2017-05-08\", \"2017-05-09\", \"2017-05-10\", \"2017-05-11\", \"2017-05-12\", \"2017-05-15\", \"2017-05-16\", \"2017-05-17\", \"2017-05-18\", \"2017-05-19\", \"2017-05-22\", \"2017-05-23\", \"2017-05-24\", \"2017-05-25\", \"2017-05-26\", \"2017-05-29\", \"2017-05-30\", \"2017-05-31\", \"2017-06-01\", \"2017-06-02\", \"2017-06-05\", \"2017-06-06\", \"2017-06-07\", \"2017-06-08\", \"2017-06-09\", \"2017-06-12\", \"2017-06-13\", \"2017-06-14\", \"2017-06-15\", \"2017-06-16\", \"2017-06-19\", \"2017-06-20\", \"2017-06-21\", \"2017-06-22\", \"2017-06-23\", \"2017-06-27\", \"2017-06-28\", \"2017-06-29\", \"2017-06-30\", \"2017-07-03\", \"2017-07-04\", \"2017-07-05\", \"2017-07-06\", \"2017-07-07\", \"2017-07-10\", \"2017-07-11\", \"2017-07-12\", \"2017-07-13\", \"2017-07-14\", \"2017-07-17\", \"2017-07-18\", \"2017-07-19\", \"2017-07-20\", \"2017-07-21\", \"2017-07-24\", \"2017-07-25\", \"2017-07-26\", \"2017-07-27\", \"2017-07-28\", \"2017-07-31\", \"2017-08-01\", \"2017-08-02\", \"2017-08-03\", \"2017-08-04\", \"2017-08-07\", \"2017-08-08\", \"2017-08-09\", \"2017-08-10\", \"2017-08-11\", \"2017-08-14\", \"2017-08-16\", \"2017-08-17\", \"2017-08-18\", \"2017-08-21\", \"2017-08-22\", \"2017-08-23\", \"2017-08-24\", \"2017-08-28\", \"2017-08-29\", \"2017-08-30\", \"2017-08-31\", \"2017-09-01\", \"2017-09-04\", \"2017-09-05\", \"2017-09-06\", \"2017-09-07\", \"2017-09-08\", \"2017-09-11\", \"2017-09-12\", \"2017-09-13\", \"2017-09-14\", \"2017-09-15\", \"2017-09-18\", \"2017-09-19\", \"2017-09-20\", \"2017-09-21\", \"2017-09-22\", \"2017-09-25\", \"2017-09-26\", \"2017-09-27\", \"2017-09-28\", \"2017-09-29\", \"2017-10-03\", \"2017-10-04\", \"2017-10-05\", \"2017-10-06\", \"2017-10-09\", \"2017-10-10\", \"2017-10-11\", \"2017-10-12\", \"2017-10-13\", \"2017-10-16\", \"2017-10-17\", \"2017-10-18\", \"2017-10-19\", \"2017-10-23\", \"2017-10-24\", \"2017-10-25\", \"2017-10-26\", \"2017-10-27\", \"2017-10-30\", \"2017-10-31\", \"2017-11-01\", \"2017-11-02\", \"2017-11-03\", \"2017-11-06\", \"2017-11-07\", \"2017-11-08\", \"2017-11-09\", \"2017-11-10\", \"2017-11-13\", \"2017-11-14\", \"2017-11-15\", \"2017-11-16\", \"2017-11-17\", \"2017-11-20\", \"2017-11-21\", \"2017-11-22\", \"2017-11-23\", \"2017-11-24\", \"2017-11-27\", \"2017-11-28\", \"2017-11-29\", \"2017-11-30\", \"2017-12-01\", \"2017-12-04\", \"2017-12-05\", \"2017-12-06\", \"2017-12-07\", \"2017-12-08\", \"2017-12-11\", \"2017-12-12\", \"2017-12-13\", \"2017-12-14\", \"2017-12-15\", \"2017-12-18\", \"2017-12-19\", \"2017-12-20\", \"2017-12-21\", \"2017-12-22\", \"2017-12-26\", \"2017-12-27\", \"2017-12-28\", \"2017-12-29\", \"2018-01-01\", \"2018-01-02\", \"2018-01-03\", \"2018-01-04\", \"2018-01-05\", \"2018-01-08\", \"2018-01-09\", \"2018-01-10\", \"2018-01-11\", \"2018-01-12\", \"2018-01-15\", \"2018-01-16\", \"2018-01-17\", \"2018-01-18\", \"2018-01-19\", \"2018-01-22\", \"2018-01-23\", \"2018-01-24\", \"2018-01-25\", \"2018-01-29\", \"2018-01-30\", \"2018-01-31\", \"2018-02-01\", \"2018-02-02\", \"2018-02-05\", \"2018-02-06\", \"2018-02-07\", \"2018-02-08\", \"2018-02-09\", \"2018-02-12\", \"2018-02-14\", \"2018-02-15\", \"2018-02-16\", \"2018-02-19\", \"2018-02-20\", \"2018-02-21\", \"2018-02-22\", \"2018-02-23\", \"2018-02-26\", \"2018-02-27\", \"2018-02-28\", \"2018-03-01\", \"2018-03-05\", \"2018-03-06\", \"2018-03-07\", \"2018-03-08\", \"2018-03-09\", \"2018-03-12\", \"2018-03-13\", \"2018-03-14\", \"2018-03-15\", \"2018-03-16\", \"2018-03-19\", \"2018-03-20\", \"2018-03-21\", \"2018-03-22\", \"2018-03-23\", \"2018-03-26\", \"2018-03-27\", \"2018-03-28\", \"2018-04-02\", \"2018-04-03\", \"2018-04-04\", \"2018-04-05\", \"2018-04-06\", \"2018-04-09\", \"2018-04-10\", \"2018-04-11\", \"2018-04-12\", \"2018-04-13\", \"2018-04-16\", \"2018-04-17\", \"2018-04-18\", \"2018-04-19\", \"2018-04-20\", \"2018-04-23\", \"2018-04-24\", \"2018-04-25\", \"2018-04-26\", \"2018-04-27\", \"2018-04-30\", \"2018-05-02\", \"2018-05-03\", \"2018-05-04\", \"2018-05-07\", \"2018-05-08\", \"2018-05-09\", \"2018-05-10\", \"2018-05-11\", \"2018-05-14\", \"2018-05-15\", \"2018-05-16\", \"2018-05-17\", \"2018-05-18\", \"2018-05-21\", \"2018-05-22\", \"2018-05-23\", \"2018-05-24\", \"2018-05-25\", \"2018-05-28\", \"2018-05-29\", \"2018-05-30\", \"2018-05-31\", \"2018-06-01\", \"2018-06-04\", \"2018-06-05\", \"2018-06-06\", \"2018-06-07\", \"2018-06-08\", \"2018-06-11\", \"2018-06-12\", \"2018-06-13\", \"2018-06-14\", \"2018-06-15\", \"2018-06-18\", \"2018-06-19\", \"2018-06-20\", \"2018-06-21\", \"2018-06-22\", \"2018-06-25\", \"2018-06-26\", \"2018-06-27\", \"2018-06-28\", \"2018-06-29\", \"2018-07-02\", \"2018-07-03\", \"2018-07-04\", \"2018-07-05\", \"2018-07-06\", \"2018-07-09\", \"2018-07-10\", \"2018-07-11\", \"2018-07-12\", \"2018-07-13\", \"2018-07-16\", \"2018-07-17\", \"2018-07-18\", \"2018-07-19\", \"2018-07-20\", \"2018-07-23\", \"2018-07-24\", \"2018-07-25\", \"2018-07-26\", \"2018-07-27\", \"2018-07-30\", \"2018-07-31\", \"2018-08-01\", \"2018-08-02\", \"2018-08-03\", \"2018-08-06\", \"2018-08-07\", \"2018-08-08\", \"2018-08-09\", \"2018-08-10\", \"2018-08-13\", \"2018-08-14\", \"2018-08-16\", \"2018-08-17\", \"2018-08-20\", \"2018-08-21\", \"2018-08-23\", \"2018-08-24\", \"2018-08-27\", \"2018-08-28\", \"2018-08-29\", \"2018-08-30\", \"2018-08-31\", \"2018-09-03\", \"2018-09-04\", \"2018-09-05\", \"2018-09-06\", \"2018-09-07\", \"2018-09-10\", \"2018-09-11\", \"2018-09-12\", \"2018-09-14\", \"2018-09-17\", \"2018-09-18\", \"2018-09-19\", \"2018-09-21\", \"2018-09-24\", \"2018-09-25\", \"2018-09-26\", \"2018-09-27\", \"2018-09-28\", \"2018-10-01\", \"2018-10-03\", \"2018-10-04\", \"2018-10-05\", \"2018-10-08\", \"2018-10-09\", \"2018-10-10\", \"2018-10-11\", \"2018-10-12\", \"2018-10-15\", \"2018-10-16\", \"2018-10-17\", \"2018-10-19\", \"2018-10-22\", \"2018-10-23\", \"2018-10-24\", \"2018-10-25\", \"2018-10-26\", \"2018-10-29\", \"2018-10-30\", \"2018-10-31\", \"2018-11-01\", \"2018-11-02\", \"2018-11-05\", \"2018-11-06\", \"2018-11-07\", \"2018-11-09\", \"2018-11-12\", \"2018-11-13\", \"2018-11-14\", \"2018-11-15\", \"2018-11-16\", \"2018-11-19\", \"2018-11-20\", \"2018-11-21\", \"2018-11-22\", \"2018-11-26\", \"2018-11-27\", \"2018-11-28\", \"2018-11-29\", \"2018-11-30\", \"2018-12-03\", \"2018-12-04\", \"2018-12-05\", \"2018-12-06\", \"2018-12-07\", \"2018-12-10\", \"2018-12-11\", \"2018-12-12\", \"2018-12-13\", \"2018-12-14\", \"2018-12-17\", \"2018-12-18\", \"2018-12-19\", \"2018-12-20\", \"2018-12-21\", \"2018-12-24\", \"2018-12-26\", \"2018-12-27\", \"2018-12-28\", \"2018-12-31\", \"2019-01-01\", \"2019-01-02\", \"2019-01-03\", \"2019-01-04\", \"2019-01-07\", \"2019-01-08\", \"2019-01-09\", \"2019-01-10\", \"2019-01-11\", \"2019-01-14\", \"2019-01-15\", \"2019-01-16\", \"2019-01-17\", \"2019-01-18\", \"2019-01-21\", \"2019-01-22\", \"2019-01-23\", \"2019-01-24\", \"2019-01-25\", \"2019-01-28\", \"2019-01-29\", \"2019-01-30\", \"2019-01-31\", \"2019-02-01\", \"2019-02-04\", \"2019-02-05\", \"2019-02-06\", \"2019-02-07\", \"2019-02-08\", \"2019-02-11\", \"2019-02-12\", \"2019-02-13\", \"2019-02-14\", \"2019-02-15\", \"2019-02-18\", \"2019-02-19\", \"2019-02-20\", \"2019-02-21\", \"2019-02-22\", \"2019-02-25\", \"2019-02-26\", \"2019-02-27\", \"2019-02-28\", \"2019-03-01\", \"2019-03-05\", \"2019-03-06\", \"2019-03-07\", \"2019-03-08\", \"2019-03-11\", \"2019-03-12\", \"2019-03-13\", \"2019-03-14\", \"2019-03-15\", \"2019-03-18\", \"2019-03-19\", \"2019-03-20\", \"2019-03-22\", \"2019-03-25\", \"2019-03-26\", \"2019-03-27\", \"2019-03-28\", \"2019-03-29\", \"2019-04-01\", \"2019-04-02\", \"2019-04-03\", \"2019-04-04\", \"2019-04-05\", \"2019-04-08\", \"2019-04-09\", \"2019-04-10\", \"2019-04-11\", \"2019-04-12\", \"2019-04-15\", \"2019-04-16\", \"2019-04-18\", \"2019-04-22\", \"2019-04-23\", \"2019-04-24\", \"2019-04-25\", \"2019-04-26\", \"2019-04-30\", \"2019-05-02\", \"2019-05-03\", \"2019-05-06\", \"2019-05-07\", \"2019-05-08\", \"2019-05-09\", \"2019-05-10\", \"2019-05-13\", \"2019-05-14\", \"2019-05-15\"], \"xaxis\": \"x\", \"y\": [235.9, 236.11, 236.71, 241.77, 246.13, 244.36, 245.11, 243.98, 245.45, 249.44, 250.85, 252.26, 251.38, 248.5, 247.37, 248.05, 250.23, 251.34, 247.52, 249.02, 253.48, 254.51, 253.29, 251.79, 250.34, 248.8, 254.51, 246.95, 247.07, 244.65, 244.77, 243.23, 241.62, 246.65, 248.29, 247.48, 249.51, 247.29, 241.2, 234.95, 238.38, 239.25, 235.9, 236.05, 234.21, 234.7, 233.78, 235.25, 234.21, 228.65, 224.31, 222.13, 221.05, 211.28, 206.23, 202.5, 201.39, 202.09, 205.49, 203.76, 204.74, 206.15, 204.4, 203.61, 204.7, 204.62, 204.66, 204.25, 204.06, 203.61, 204.89, 208.56, 212.37, 212.82, 211.62, 212.59, 211.95, 209.59, 209.66, 212.41, 213.52, 211.28, 209.85, 210.81, 212.39, 211.17, 209.53, 213.11, 212.78, 208.42, 206.02, 205.44, 208.26, 210.68, 217.2, 211.8, 211.77, 213.53, 211.84, 211.02, 208.63, 208.48, 209.02, 210.71, 208.42, 207.41, 211.39, 210.0, 209.16, 208.42, 211.24, 213.31, 217.95, 218.8, 217.97, 215.17, 219.96, 221.26, 223.23, 220.21, 214.2, 211.34, 213.53, 214.17, 215.04, 216.5, 214.42, 217.28, 217.74, 216.47, 215.59, 213.31, 218.53, 217.78, 217.22, 217.67, 220.86, 220.59, 220.32, 216.88, 215.75, 207.13, 209.21, 209.31, 212.58, 216.17, 214.61, 213.98, 213.53, 214.89, 209.08, 212.78, 215.62, 210.41, 211.6, 215.68, 215.79, 218.8, 223.67, 224.27, 227.17, 224.17, 227.41, 225.56, 224.77, 225.17, 230.56, 229.29, 229.32, 224.81, 224.42, 224.31, 225.56, 223.2, 223.46, 221.04, 218.83, 219.65, 217.93, 217.84, 215.49, 215.9, 217.07, 218.52, 217.97, 217.69, 217.05, 217.92, 217.62, 216.13, 215.29, 213.16, 211.19, 210.9, 208.74, 209.76, 209.4, 209.35, 211.26, 216.17, 216.6, 217.07, 215.34, 214.42, 216.39, 220.85, 220.08, 219.55, 215.17, 217.07, 217.32, 215.74, 214.29, 213.44, 214.29, 214.29, 210.08, 209.59, 209.53, 210.25, 209.21, 210.45, 210.45, 211.92, 213.61, 213.53, 211.8, 210.53, 212.41, 210.45, 209.57, 209.72, 208.11, 206.95, 207.29, 205.62, 206.34, 206.99, 207.52, 205.04, 208.65, 208.65, 206.68, 208.63, 208.14, 212.67, 215.75, 214.87, 212.97, 211.15, 212.71, 210.6, 202.84, 201.75, 200.11, 199.05, 198.33, 199.44, 199.23, 204.38, 206.58, 205.85, 204.4, 203.86, 202.54, 203.72, 199.95, 202.63, 203.71, 206.13, 205.14, 204.25, 203.41, 202.77, 202.93, 204.12, 204.14, 203.2, 204.32, 208.14, 211.39, 209.17, 210.23, 211.88, 209.55, 211.9, 214.06, 215.23, 214.66, 212.97, 211.28, 210.53, 207.29, 213.76, 214.92, 222.47, 223.5, 228.18, 216.15, 211.5, 211.19, 209.76, 211.0, 212.03, 209.32, 207.48, 206.68, 204.17, 205.0, 205.44, 203.05, 203.8, 202.8, 204.23, 203.76, 204.23, 203.89, 203.33, 204.46, 206.0, 204.68, 203.16, 205.62, 206.32, 207.14, 207.63, 207.52, 208.87, 210.14, 204.32, 203.72, 203.38, 204.91, 205.49, 205.7, 204.77, 204.51, 205.92, 207.14, 208.27, 210.0, 211.6, 212.03, 212.35, 209.68, 208.63, 205.55, 209.4, 211.34, 212.41, 212.41, 213.91, 212.48, 211.8, 214.66, 215.0, 217.22, 215.77, 216.11, 208.26, 208.18, 203.38, 204.77, 203.38, 204.36, 207.05, 207.74, 209.31, 207.89, 211.19, 210.15, 208.71, 207.52, 207.69, 207.84, 207.71, 207.14, 205.85, 206.58, 205.26, 202.32, 199.05, 199.17, 195.45, 195.64, 196.24, 195.94, 190.23, 184.59, 184.36, 186.47, 184.1, 182.54, 182.48, 184.12, 180.32, 181.54, 181.73, 182.32, 180.34, 181.32, 181.19, 181.2, 182.14, 182.41, 181.58, 180.83, 182.29, 182.22, 181.86, 180.45, 180.45, 182.32, 181.64, 180.66, 180.34, 180.36, 180.08, 180.9, 178.82, 181.99, 186.79, 188.35, 188.35, 182.89, 182.18, 180.71, 177.65, 175.14, 175.19, 175.36, 173.26, 172.92, 170.56, 171.23, 171.39, 169.35, 169.7, 166.94, 169.7, 170.85, 166.95, 166.09, 166.83, 170.3, 169.62, 171.02, 175.56, 175.77, 175.36, 177.05, 177.05, 176.64, 172.93, 174.01, 172.77, 172.73, 173.31, 171.39, 174.46, 176.08, 177.41, 176.71, 175.38, 176.65, 176.88, 175.19, 174.81, 173.12, 175.19, 178.74, 179.32, 179.1, 179.85, 178.23, 179.55, 182.67, 180.49, 177.63, 180.02, 181.02, 182.05, 182.88, 183.27, 183.35, 183.08, 181.95, 180.38, 182.07, 181.58, 181.95, 178.01, 175.94, 174.89, 172.86, 172.17, 172.63, 173.98, 173.65, 174.87, 175.51, 177.5, 178.95, 179.59, 180.19, 181.17, 181.79, 179.47, 180.74, 179.51, 183.93, 185.19, 185.04, 186.15, 186.26, 186.34, 185.17, 187.82, 186.54, 185.34, 183.82, 189.68, 190.19, 189.05, 190.23, 189.55, 188.72, 189.25, 192.48, 193.23, 192.65, 192.11, 193.2, 195.0, 194.59, 194.16, 192.43, 193.8, 193.05, 194.66, 192.26, 191.68, 189.46, 186.24, 187.13, 187.78, 189.89, 189.25, 186.09, 187.97, 192.62, 187.26, 187.11, 187.2, 187.86, 188.46, 188.27, 189.59, 191.64, 191.79, 190.14, 190.9, 191.34, 194.05, 194.32, 198.44, 198.44, 196.73, 198.86, 200.0, 202.48, 204.85, 202.5, 203.01, 202.93, 204.89, 208.23, 209.7, 213.53, 211.09, 207.89, 204.4, 201.32, 200.41, 196.35, 196.92, 197.78, 193.91, 192.74, 192.86, 194.59, 195.41, 194.02, 195.04, 196.17, 196.13, 195.79, 196.17, 195.79, 195.53, 194.14, 202.18, 205.49, 199.85, 199.89, 199.21, 206.02, 204.81, 204.51, 206.2, 218.65, 220.68, 219.85, 219.17, 220.3, 218.68, 218.42, 222.52, 223.8, 222.11, 220.45, 217.97, 218.61, 216.95, 217.63, 221.47, 218.72, 218.12, 218.65, 218.8, 218.87, 220.3, 219.4, 218.8, 219.36, 219.55, 219.55, 225.83, 224.29, 223.98, 224.36, 223.98, 225.49, 226.84, 228.12, 227.67, 225.34, 217.22, 215.98, 218.05, 219.06, 219.62, 220.23, 221.77, 221.47, 219.77, 218.5, 218.23, 216.47, 214.74, 215.23, 214.29, 215.79, 215.9, 216.77, 219.44, 221.8, 222.33, 219.89, 219.96, 224.62, 221.58, 223.61, 224.74, 226.95, 228.42, 225.49, 222.71, 222.89, 223.05, 222.33, 222.44, 226.28, 232.07, 230.53, 228.91, 228.57, 228.72, 225.68, 225.23, 224.92, 224.29, 223.23, 224.06, 222.11, 221.8, 221.35, 222.07, 222.41, 224.96, 225.9, 220.94, 218.87, 216.88, 213.87, 214.06, 215.04, 218.05, 218.57, 217.63, 218.42, 218.61, 223.87, 223.08, 224.44, 224.81, 228.12, 230.56, 231.39, 233.01, 237.82, 240.6, 243.42, 240.86, 235.34, 236.02, 235.26, 240.6, 246.5, 245.15, 243.42, 243.8, 251.09, 250.71, 246.8, 248.12, 246.84, 242.44, 243.16, 239.1, 237.67, 234.81, 232.29, 232.41, 227.41, 229.7, 222.59, 224.21, 221.24, 217.07, 218.76, 223.12, 222.22, 222.41, 220.11, 220.38, 221.65, 221.24, 222.52, 222.33, 221.32, 220.9, 221.13, 220.86, 219.44, 218.65, 216.35, 216.47, 219.55, 225.11, 223.01, 227.07, 223.42, 222.93, 221.95, 222.78, 221.8, 216.2, 214.74, 211.09, 213.16, 218.5, 215.83, 215.41, 215.56, 214.66, 215.08, 216.8, 217.37, 218.42, 221.77, 221.05, 217.14, 220.86, 220.9, 225.56, 225.56, 222.29, 220.9, 212.78, 209.85, 212.29, 209.59, 207.11, 204.81, 207.26, 207.07, 206.32, 203.98, 205.71, 205.98, 205.9, 209.74, 211.09, 207.89, 202.59, 200.71, 199.74, 199.66, 199.62, 199.02, 198.87, 198.08, 198.87, 198.87, 197.33, 196.99, 195.86, 199.51, 199.25, 200.19, 202.37, 203.01, 202.29, 201.92, 201.88, 199.92, 197.37, 196.39, 195.19, 196.43, 195.45, 195.41, 194.7, 197.33, 197.18, 197.59, 197.41, 199.1, 198.5, 199.44, 204.7, 206.62, 211.58, 217.74, 215.71, 217.26, 216.02, 216.8, 218.42, 210.94, 209.36, 207.93, 206.84, 207.14, 205.86, 208.46, 209.4, 211.13, 210.86, 210.3, 210.15, 209.77, 210.79, 210.41, 213.87, 215.79, 214.29, 211.28, 215.34, 221.43, 220.38, 221.65, 223.53, 224.06, 223.68, 225.56, 230.45, 242.82, 236.84, 240.6, 242.48, 246.77, 246.62, 246.62, 248.16, 250.38, 252.63, 250.75, 250.68, 254.06, 254.14, 251.17, 246.88, 243.31, 245.6, 249.96, 248.12, 248.12, 246.54, 243.16, 242.71, 241.17, 237.18, 240.56, 242.14, 241.13, 247.29, 244.32, 246.05, 240.68, 234.32, 242.97, 242.33, 249.77, 251.62, 250.94, 249.32, 249.17, 244.74, 245.71, 246.24, 246.09, 245.49, 246.39, 244.92, 248.5, 248.42, 252.03, 248.72, 240.6, 239.7, 240.53, 242.33, 237.22, 237.97, 245.41, 247.74, 256.47, 254.59, 252.97, 252.71, 253.01, 250.98, 249.62, 258.53, 257.89, 256.95, 254.44, 257.33, 255.64, 251.69, 248.31, 246.09, 249.14, 250.3, 250.98, 250.19, 249.1, 246.58, 245.75, 245.68, 246.24, 250.0, 248.91, 248.05, 248.95, 249.85, 255.49, 254.59, 261.28, 259.29, 262.82, 267.52, 265.34, 269.44, 272.71, 271.24, 276.35, 279.17, 280.04, 281.73, 279.81, 281.92, 281.54, 281.84, 283.76, 282.89, 285.38, 284.51, 283.72, 284.81, 281.73, 281.13, 283.31, 285.71, 290.75, 292.41, 288.27, 283.23, 284.47, 281.54, 285.9, 280.0, 262.1, 260.9, 263.35, 265.45, 259.7, 264.25, 264.75, 258.9, 263.0, 263.55, 261.7, 258.6, 256.4, 257.9, 259.6, 263.9, 263.75, 263.1, 262.05, 263.85, 265.5, 275.0, 281.8, 284.4, 284.7, 289.5, 291.35, 289.0, 289.0, 291.85, 294.3, 295.95, 296.65, 299.45, 298.65, 293.65, 293.8, 294.95, 294.25, 293.1, 292.4, 292.6, 289.0, 285.9], \"yaxis\": \"y\"}, {\"hovertemplate\": \"stock_name=ASIANPAINT<br>date=%{x}<br>high=%{y}<extra></extra>\", \"legendgroup\": \"ASIANPAINT\", \"line\": {\"color\": \"#ab63fa\", \"dash\": \"solid\"}, \"mode\": \"lines\", \"name\": \"ASIANPAINT\", \"showlegend\": true, \"type\": \"scattergl\", \"x\": [\"2015-02-02\", \"2015-02-03\", \"2015-02-04\", \"2015-02-05\", \"2015-02-06\", \"2015-02-09\", \"2015-02-10\", \"2015-02-11\", \"2015-02-12\", \"2015-02-13\", \"2015-02-16\", \"2015-02-18\", \"2015-02-19\", \"2015-02-20\", \"2015-02-23\", \"2015-02-24\", \"2015-02-25\", \"2015-02-26\", \"2015-02-27\", \"2015-02-28\", \"2015-03-02\", \"2015-03-03\", \"2015-03-04\", \"2015-03-05\", \"2015-03-09\", \"2015-03-10\", \"2015-03-11\", \"2015-03-12\", \"2015-03-13\", \"2015-03-16\", \"2015-03-17\", \"2015-03-18\", \"2015-03-19\", \"2015-03-20\", \"2015-03-23\", \"2015-03-24\", \"2015-03-25\", \"2015-03-26\", \"2015-03-27\", \"2015-03-30\", \"2015-03-31\", \"2015-04-01\", \"2015-04-06\", \"2015-04-07\", \"2015-04-08\", \"2015-04-09\", \"2015-04-10\", \"2015-04-13\", \"2015-04-15\", \"2015-04-16\", \"2015-04-17\", \"2015-04-20\", \"2015-04-21\", \"2015-04-22\", \"2015-04-23\", \"2015-04-24\", \"2015-04-27\", \"2015-04-28\", \"2015-04-29\", \"2015-04-30\", \"2015-05-04\", \"2015-05-05\", \"2015-05-06\", \"2015-05-07\", \"2015-05-08\", \"2015-05-11\", \"2015-05-12\", \"2015-05-13\", \"2015-05-14\", \"2015-05-15\", \"2015-05-18\", \"2015-05-19\", \"2015-05-20\", \"2015-05-21\", \"2015-05-22\", \"2015-05-25\", \"2015-05-26\", \"2015-05-27\", \"2015-05-28\", \"2015-05-29\", \"2015-06-01\", \"2015-06-02\", \"2015-06-03\", \"2015-06-04\", \"2015-06-05\", \"2015-06-08\", \"2015-06-09\", \"2015-06-10\", \"2015-06-11\", \"2015-06-12\", \"2015-06-15\", \"2015-06-16\", \"2015-06-17\", \"2015-06-18\", \"2015-06-19\", \"2015-06-22\", \"2015-06-23\", \"2015-06-24\", \"2015-06-25\", \"2015-06-26\", \"2015-06-29\", \"2015-06-30\", \"2015-07-01\", \"2015-07-02\", \"2015-07-03\", \"2015-07-06\", \"2015-07-07\", \"2015-07-08\", \"2015-07-09\", \"2015-07-10\", \"2015-07-13\", \"2015-07-14\", \"2015-07-15\", \"2015-07-16\", \"2015-07-17\", \"2015-07-20\", \"2015-07-21\", \"2015-07-22\", \"2015-07-23\", \"2015-07-24\", \"2015-07-27\", \"2015-07-28\", \"2015-07-29\", \"2015-07-30\", \"2015-07-31\", \"2015-08-03\", \"2015-08-04\", \"2015-08-05\", \"2015-08-06\", \"2015-08-07\", \"2015-08-10\", \"2015-08-11\", \"2015-08-12\", \"2015-08-13\", \"2015-08-14\", \"2015-08-17\", \"2015-08-18\", \"2015-08-19\", \"2015-08-20\", \"2015-08-21\", \"2015-08-24\", \"2015-08-25\", \"2015-08-26\", \"2015-08-27\", \"2015-08-28\", \"2015-08-31\", \"2015-09-01\", \"2015-09-02\", \"2015-09-03\", \"2015-09-04\", \"2015-09-07\", \"2015-09-08\", \"2015-09-09\", \"2015-09-10\", \"2015-09-11\", \"2015-09-14\", \"2015-09-15\", \"2015-09-16\", \"2015-09-18\", \"2015-09-21\", \"2015-09-22\", \"2015-09-23\", \"2015-09-24\", \"2015-09-28\", \"2015-09-29\", \"2015-09-30\", \"2015-10-01\", \"2015-10-05\", \"2015-10-06\", \"2015-10-07\", \"2015-10-08\", \"2015-10-09\", \"2015-10-12\", \"2015-10-13\", \"2015-10-14\", \"2015-10-15\", \"2015-10-16\", \"2015-10-19\", \"2015-10-20\", \"2015-10-21\", \"2015-10-23\", \"2015-10-26\", \"2015-10-27\", \"2015-10-28\", \"2015-10-29\", \"2015-10-30\", \"2015-11-02\", \"2015-11-03\", \"2015-11-04\", \"2015-11-05\", \"2015-11-06\", \"2015-11-09\", \"2015-11-10\", \"2015-11-11\", \"2015-11-13\", \"2015-11-16\", \"2015-11-17\", \"2015-11-18\", \"2015-11-19\", \"2015-11-20\", \"2015-11-23\", \"2015-11-24\", \"2015-11-26\", \"2015-11-27\", \"2015-11-30\", \"2015-12-01\", \"2015-12-02\", \"2015-12-03\", \"2015-12-04\", \"2015-12-07\", \"2015-12-08\", \"2015-12-09\", \"2015-12-10\", \"2015-12-11\", \"2015-12-14\", \"2015-12-15\", \"2015-12-16\", \"2015-12-17\", \"2015-12-18\", \"2015-12-21\", \"2015-12-22\", \"2015-12-23\", \"2015-12-24\", \"2015-12-28\", \"2015-12-29\", \"2015-12-30\", \"2015-12-31\", \"2016-01-04\", \"2016-01-05\", \"2016-01-06\", \"2016-01-07\", \"2016-01-08\", \"2016-01-11\", \"2016-01-12\", \"2016-01-13\", \"2016-01-14\", \"2016-01-15\", \"2016-01-18\", \"2016-01-19\", \"2016-01-20\", \"2016-01-21\", \"2016-01-22\", \"2016-01-25\", \"2016-01-27\", \"2016-01-28\", \"2016-01-29\", \"2016-02-01\", \"2016-02-02\", \"2016-02-03\", \"2016-02-04\", \"2016-02-05\", \"2016-02-08\", \"2016-02-09\", \"2016-02-10\", \"2016-02-11\", \"2016-02-12\", \"2016-02-15\", \"2016-02-16\", \"2016-02-17\", \"2016-02-18\", \"2016-02-19\", \"2016-02-22\", \"2016-02-23\", \"2016-02-24\", \"2016-02-25\", \"2016-02-26\", \"2016-02-29\", \"2016-03-01\", \"2016-03-02\", \"2016-03-03\", \"2016-03-04\", \"2016-03-08\", \"2016-03-09\", \"2016-03-10\", \"2016-03-11\", \"2016-03-14\", \"2016-03-15\", \"2016-03-16\", \"2016-03-17\", \"2016-03-18\", \"2016-03-21\", \"2016-03-22\", \"2016-03-23\", \"2016-03-28\", \"2016-03-29\", \"2016-03-30\", \"2016-03-31\", \"2016-04-01\", \"2016-04-04\", \"2016-04-05\", \"2016-04-06\", \"2016-04-07\", \"2016-04-08\", \"2016-04-11\", \"2016-04-12\", \"2016-04-13\", \"2016-04-18\", \"2016-04-20\", \"2016-04-21\", \"2016-04-22\", \"2016-04-25\", \"2016-04-26\", \"2016-04-27\", \"2016-04-28\", \"2016-04-29\", \"2016-05-02\", \"2016-05-03\", \"2016-05-04\", \"2016-05-05\", \"2016-05-06\", \"2016-05-09\", \"2016-05-10\", \"2016-05-11\", \"2016-05-12\", \"2016-05-13\", \"2016-05-16\", \"2016-05-17\", \"2016-05-18\", \"2016-05-19\", \"2016-05-20\", \"2016-05-23\", \"2016-05-24\", \"2016-05-25\", \"2016-05-26\", \"2016-05-27\", \"2016-05-30\", \"2016-05-31\", \"2016-06-01\", \"2016-06-02\", \"2016-06-03\", \"2016-06-06\", \"2016-06-07\", \"2016-06-08\", \"2016-06-09\", \"2016-06-10\", \"2016-06-13\", \"2016-06-14\", \"2016-06-15\", \"2016-06-16\", \"2016-06-17\", \"2016-06-20\", \"2016-06-21\", \"2016-06-22\", \"2016-06-23\", \"2016-06-24\", \"2016-06-27\", \"2016-06-28\", \"2016-06-29\", \"2016-06-30\", \"2016-07-01\", \"2016-07-04\", \"2016-07-05\", \"2016-07-07\", \"2016-07-08\", \"2016-07-11\", \"2016-07-12\", \"2016-07-13\", \"2016-07-14\", \"2016-07-15\", \"2016-07-18\", \"2016-07-19\", \"2016-07-20\", \"2016-07-21\", \"2016-07-22\", \"2016-07-25\", \"2016-07-26\", \"2016-07-27\", \"2016-07-28\", \"2016-07-29\", \"2016-08-01\", \"2016-08-02\", \"2016-08-03\", \"2016-08-04\", \"2016-08-05\", \"2016-08-08\", \"2016-08-09\", \"2016-08-10\", \"2016-08-11\", \"2016-08-12\", \"2016-08-16\", \"2016-08-17\", \"2016-08-18\", \"2016-08-19\", \"2016-08-22\", \"2016-08-23\", \"2016-08-24\", \"2016-08-25\", \"2016-08-26\", \"2016-08-29\", \"2016-08-30\", \"2016-08-31\", \"2016-09-01\", \"2016-09-02\", \"2016-09-06\", \"2016-09-07\", \"2016-09-08\", \"2016-09-09\", \"2016-09-12\", \"2016-09-14\", \"2016-09-15\", \"2016-09-16\", \"2016-09-19\", \"2016-09-20\", \"2016-09-21\", \"2016-09-22\", \"2016-09-23\", \"2016-09-26\", \"2016-09-27\", \"2016-09-28\", \"2016-09-29\", \"2016-09-30\", \"2016-10-03\", \"2016-10-04\", \"2016-10-05\", \"2016-10-06\", \"2016-10-07\", \"2016-10-10\", \"2016-10-13\", \"2016-10-14\", \"2016-10-17\", \"2016-10-18\", \"2016-10-19\", \"2016-10-20\", \"2016-10-21\", \"2016-10-24\", \"2016-10-25\", \"2016-10-26\", \"2016-10-27\", \"2016-10-28\", \"2016-10-30\", \"2016-11-01\", \"2016-11-02\", \"2016-11-03\", \"2016-11-04\", \"2016-11-07\", \"2016-11-08\", \"2016-11-09\", \"2016-11-10\", \"2016-11-11\", \"2016-11-15\", \"2016-11-16\", \"2016-11-17\", \"2016-11-18\", \"2016-11-21\", \"2016-11-22\", \"2016-11-23\", \"2016-11-24\", \"2016-11-25\", \"2016-11-28\", \"2016-11-29\", \"2016-11-30\", \"2016-12-01\", \"2016-12-02\", \"2016-12-05\", \"2016-12-06\", \"2016-12-07\", \"2016-12-08\", \"2016-12-09\", \"2016-12-12\", \"2016-12-13\", \"2016-12-14\", \"2016-12-15\", \"2016-12-16\", \"2016-12-19\", \"2016-12-20\", \"2016-12-21\", \"2016-12-22\", \"2016-12-23\", \"2016-12-26\", \"2016-12-27\", \"2016-12-28\", \"2016-12-29\", \"2016-12-30\", \"2017-01-02\", \"2017-01-03\", \"2017-01-04\", \"2017-01-05\", \"2017-01-06\", \"2017-01-09\", \"2017-01-10\", \"2017-01-11\", \"2017-01-12\", \"2017-01-13\", \"2017-01-16\", \"2017-01-17\", \"2017-01-18\", \"2017-01-19\", \"2017-01-20\", \"2017-01-23\", \"2017-01-24\", \"2017-01-25\", \"2017-01-27\", \"2017-01-30\", \"2017-01-31\", \"2017-02-01\", \"2017-02-02\", \"2017-02-03\", \"2017-02-06\", \"2017-02-07\", \"2017-02-08\", \"2017-02-09\", \"2017-02-10\", \"2017-02-13\", \"2017-02-14\", \"2017-02-15\", \"2017-02-16\", \"2017-02-17\", \"2017-02-20\", \"2017-02-21\", \"2017-02-22\", \"2017-02-23\", \"2017-02-27\", \"2017-02-28\", \"2017-03-01\", \"2017-03-02\", \"2017-03-03\", \"2017-03-06\", \"2017-03-07\", \"2017-03-08\", \"2017-03-09\", \"2017-03-10\", \"2017-03-14\", \"2017-03-15\", \"2017-03-16\", \"2017-03-17\", \"2017-03-20\", \"2017-03-21\", \"2017-03-22\", \"2017-03-23\", \"2017-03-24\", \"2017-03-27\", \"2017-03-28\", \"2017-03-29\", \"2017-03-30\", \"2017-03-31\", \"2017-04-03\", \"2017-04-05\", \"2017-04-06\", \"2017-04-07\", \"2017-04-10\", \"2017-04-11\", \"2017-04-12\", \"2017-04-13\", \"2017-04-17\", \"2017-04-18\", \"2017-04-19\", \"2017-04-20\", \"2017-04-21\", \"2017-04-24\", \"2017-04-25\", \"2017-04-26\", \"2017-04-27\", \"2017-04-28\", \"2017-05-02\", \"2017-05-03\", \"2017-05-04\", \"2017-05-05\", \"2017-05-08\", \"2017-05-09\", \"2017-05-10\", \"2017-05-11\", \"2017-05-12\", \"2017-05-15\", \"2017-05-16\", \"2017-05-17\", \"2017-05-18\", \"2017-05-19\", \"2017-05-22\", \"2017-05-23\", \"2017-05-24\", \"2017-05-25\", \"2017-05-26\", \"2017-05-29\", \"2017-05-30\", \"2017-05-31\", \"2017-06-01\", \"2017-06-02\", \"2017-06-05\", \"2017-06-06\", \"2017-06-07\", \"2017-06-08\", \"2017-06-09\", \"2017-06-12\", \"2017-06-13\", \"2017-06-14\", \"2017-06-15\", \"2017-06-16\", \"2017-06-19\", \"2017-06-20\", \"2017-06-21\", \"2017-06-22\", \"2017-06-23\", \"2017-06-27\", \"2017-06-28\", \"2017-06-29\", \"2017-06-30\", \"2017-07-03\", \"2017-07-04\", \"2017-07-05\", \"2017-07-06\", \"2017-07-07\", \"2017-07-10\", \"2017-07-11\", \"2017-07-12\", \"2017-07-13\", \"2017-07-14\", \"2017-07-17\", \"2017-07-18\", \"2017-07-19\", \"2017-07-20\", \"2017-07-21\", \"2017-07-24\", \"2017-07-25\", \"2017-07-26\", \"2017-07-27\", \"2017-07-28\", \"2017-07-31\", \"2017-08-01\", \"2017-08-02\", \"2017-08-03\", \"2017-08-04\", \"2017-08-07\", \"2017-08-08\", \"2017-08-09\", \"2017-08-10\", \"2017-08-11\", \"2017-08-14\", \"2017-08-16\", \"2017-08-17\", \"2017-08-18\", \"2017-08-21\", \"2017-08-22\", \"2017-08-23\", \"2017-08-24\", \"2017-08-28\", \"2017-08-29\", \"2017-08-30\", \"2017-08-31\", \"2017-09-01\", \"2017-09-04\", \"2017-09-05\", \"2017-09-06\", \"2017-09-07\", \"2017-09-08\", \"2017-09-11\", \"2017-09-12\", \"2017-09-13\", \"2017-09-14\", \"2017-09-15\", \"2017-09-18\", \"2017-09-19\", \"2017-09-20\", \"2017-09-21\", \"2017-09-22\", \"2017-09-25\", \"2017-09-26\", \"2017-09-27\", \"2017-09-28\", \"2017-09-29\", \"2017-10-03\", \"2017-10-04\", \"2017-10-05\", \"2017-10-06\", \"2017-10-09\", \"2017-10-10\", \"2017-10-11\", \"2017-10-12\", \"2017-10-13\", \"2017-10-16\", \"2017-10-17\", \"2017-10-18\", \"2017-10-19\", \"2017-10-23\", \"2017-10-24\", \"2017-10-25\", \"2017-10-26\", \"2017-10-27\", \"2017-10-30\", \"2017-10-31\", \"2017-11-01\", \"2017-11-02\", \"2017-11-03\", \"2017-11-06\", \"2017-11-07\", \"2017-11-08\", \"2017-11-09\", \"2017-11-10\", \"2017-11-13\", \"2017-11-14\", \"2017-11-15\", \"2017-11-16\", \"2017-11-17\", \"2017-11-20\", \"2017-11-21\", \"2017-11-22\", \"2017-11-23\", \"2017-11-24\", \"2017-11-27\", \"2017-11-28\", \"2017-11-29\", \"2017-11-30\", \"2017-12-01\", \"2017-12-04\", \"2017-12-05\", \"2017-12-06\", \"2017-12-07\", \"2017-12-08\", \"2017-12-11\", \"2017-12-12\", \"2017-12-13\", \"2017-12-14\", \"2017-12-15\", \"2017-12-18\", \"2017-12-19\", \"2017-12-20\", \"2017-12-21\", \"2017-12-22\", \"2017-12-26\", \"2017-12-27\", \"2017-12-28\", \"2017-12-29\", \"2018-01-01\", \"2018-01-02\", \"2018-01-03\", \"2018-01-04\", \"2018-01-05\", \"2018-01-08\", \"2018-01-09\", \"2018-01-10\", \"2018-01-11\", \"2018-01-12\", \"2018-01-15\", \"2018-01-16\", \"2018-01-17\", \"2018-01-18\", \"2018-01-19\", \"2018-01-22\", \"2018-01-23\", \"2018-01-24\", \"2018-01-25\", \"2018-01-29\", \"2018-01-30\", \"2018-01-31\", \"2018-02-01\", \"2018-02-02\", \"2018-02-05\", \"2018-02-06\", \"2018-02-07\", \"2018-02-08\", \"2018-02-09\", \"2018-02-12\", \"2018-02-14\", \"2018-02-15\", \"2018-02-16\", \"2018-02-19\", \"2018-02-20\", \"2018-02-21\", \"2018-02-22\", \"2018-02-23\", \"2018-02-26\", \"2018-02-27\", \"2018-02-28\", \"2018-03-01\", \"2018-03-05\", \"2018-03-06\", \"2018-03-07\", \"2018-03-08\", \"2018-03-09\", \"2018-03-12\", \"2018-03-13\", \"2018-03-14\", \"2018-03-15\", \"2018-03-16\", \"2018-03-19\", \"2018-03-20\", \"2018-03-21\", \"2018-03-22\", \"2018-03-23\", \"2018-03-26\", \"2018-03-27\", \"2018-03-28\", \"2018-04-02\", \"2018-04-03\", \"2018-04-04\", \"2018-04-05\", \"2018-04-06\", \"2018-04-09\", \"2018-04-10\", \"2018-04-11\", \"2018-04-12\", \"2018-04-13\", \"2018-04-16\", \"2018-04-17\", \"2018-04-18\", \"2018-04-19\", \"2018-04-20\", \"2018-04-23\", \"2018-04-24\", \"2018-04-25\", \"2018-04-26\", \"2018-04-27\", \"2018-04-30\", \"2018-05-02\", \"2018-05-03\", \"2018-05-04\", \"2018-05-07\", \"2018-05-08\", \"2018-05-09\", \"2018-05-10\", \"2018-05-11\", \"2018-05-14\", \"2018-05-15\", \"2018-05-16\", \"2018-05-17\", \"2018-05-18\", \"2018-05-21\", \"2018-05-22\", \"2018-05-23\", \"2018-05-24\", \"2018-05-25\", \"2018-05-28\", \"2018-05-29\", \"2018-05-30\", \"2018-05-31\", \"2018-06-01\", \"2018-06-04\", \"2018-06-05\", \"2018-06-06\", \"2018-06-07\", \"2018-06-08\", \"2018-06-11\", \"2018-06-12\", \"2018-06-13\", \"2018-06-14\", \"2018-06-15\", \"2018-06-18\", \"2018-06-19\", \"2018-06-20\", \"2018-06-21\", \"2018-06-22\", \"2018-06-25\", \"2018-06-26\", \"2018-06-27\", \"2018-06-28\", \"2018-06-29\", \"2018-07-02\", \"2018-07-03\", \"2018-07-04\", \"2018-07-05\", \"2018-07-06\", \"2018-07-09\", \"2018-07-10\", \"2018-07-11\", \"2018-07-12\", \"2018-07-13\", \"2018-07-16\", \"2018-07-17\", \"2018-07-18\", \"2018-07-19\", \"2018-07-20\", \"2018-07-23\", \"2018-07-24\", \"2018-07-25\", \"2018-07-26\", \"2018-07-27\", \"2018-07-30\", \"2018-07-31\", \"2018-08-01\", \"2018-08-02\", \"2018-08-03\", \"2018-08-06\", \"2018-08-07\", \"2018-08-08\", \"2018-08-09\", \"2018-08-10\", \"2018-08-13\", \"2018-08-14\", \"2018-08-16\", \"2018-08-17\", \"2018-08-20\", \"2018-08-21\", \"2018-08-23\", \"2018-08-24\", \"2018-08-27\", \"2018-08-28\", \"2018-08-29\", \"2018-08-30\", \"2018-08-31\", \"2018-09-03\", \"2018-09-04\", \"2018-09-05\", \"2018-09-06\", \"2018-09-07\", \"2018-09-10\", \"2018-09-11\", \"2018-09-12\", \"2018-09-14\", \"2018-09-17\", \"2018-09-18\", \"2018-09-19\", \"2018-09-21\", \"2018-09-24\", \"2018-09-25\", \"2018-09-26\", \"2018-09-27\", \"2018-09-28\", \"2018-10-01\", \"2018-10-03\", \"2018-10-04\", \"2018-10-05\", \"2018-10-08\", \"2018-10-09\", \"2018-10-10\", \"2018-10-11\", \"2018-10-12\", \"2018-10-15\", \"2018-10-16\", \"2018-10-17\", \"2018-10-19\", \"2018-10-22\", \"2018-10-23\", \"2018-10-24\", \"2018-10-25\", \"2018-10-26\", \"2018-10-29\", \"2018-10-30\", \"2018-10-31\", \"2018-11-01\", \"2018-11-02\", \"2018-11-05\", \"2018-11-06\", \"2018-11-07\", \"2018-11-09\", \"2018-11-12\", \"2018-11-13\", \"2018-11-14\", \"2018-11-15\", \"2018-11-16\", \"2018-11-19\", \"2018-11-20\", \"2018-11-21\", \"2018-11-22\", \"2018-11-26\", \"2018-11-27\", \"2018-11-28\", \"2018-11-29\", \"2018-11-30\", \"2018-12-03\", \"2018-12-04\", \"2018-12-05\", \"2018-12-06\", \"2018-12-07\", \"2018-12-10\", \"2018-12-11\", \"2018-12-12\", \"2018-12-13\", \"2018-12-14\", \"2018-12-17\", \"2018-12-18\", \"2018-12-19\", \"2018-12-20\", \"2018-12-21\", \"2018-12-24\", \"2018-12-26\", \"2018-12-27\", \"2018-12-28\", \"2018-12-31\", \"2019-01-01\", \"2019-01-02\", \"2019-01-03\", \"2019-01-04\", \"2019-01-07\", \"2019-01-08\", \"2019-01-09\", \"2019-01-10\", \"2019-01-11\", \"2019-01-14\", \"2019-01-15\", \"2019-01-16\", \"2019-01-17\", \"2019-01-18\", \"2019-01-21\", \"2019-01-22\", \"2019-01-23\", \"2019-01-24\", \"2019-01-25\", \"2019-01-28\", \"2019-01-29\", \"2019-01-30\", \"2019-01-31\", \"2019-02-01\", \"2019-02-04\", \"2019-02-05\", \"2019-02-06\", \"2019-02-07\", \"2019-02-08\", \"2019-02-11\", \"2019-02-12\", \"2019-02-13\", \"2019-02-14\", \"2019-02-15\", \"2019-02-18\", \"2019-02-19\", \"2019-02-20\", \"2019-02-21\", \"2019-02-22\", \"2019-02-25\", \"2019-02-26\", \"2019-02-27\", \"2019-02-28\", \"2019-03-01\", \"2019-03-05\", \"2019-03-06\", \"2019-03-07\", \"2019-03-08\", \"2019-03-11\", \"2019-03-12\", \"2019-03-13\", \"2019-03-14\", \"2019-03-15\", \"2019-03-18\", \"2019-03-19\", \"2019-03-20\", \"2019-03-22\", \"2019-03-25\", \"2019-03-26\", \"2019-03-27\", \"2019-03-28\", \"2019-03-29\", \"2019-04-01\", \"2019-04-02\", \"2019-04-03\", \"2019-04-04\", \"2019-04-05\", \"2019-04-08\", \"2019-04-09\", \"2019-04-10\", \"2019-04-11\", \"2019-04-12\", \"2019-04-15\", \"2019-04-16\", \"2019-04-18\", \"2019-04-22\", \"2019-04-23\", \"2019-04-24\", \"2019-04-25\", \"2019-04-26\", \"2019-04-30\", \"2019-05-02\", \"2019-05-03\", \"2019-05-06\", \"2019-05-07\", \"2019-05-08\", \"2019-05-09\", \"2019-05-10\", \"2019-05-13\", \"2019-05-14\", \"2019-05-15\"], \"xaxis\": \"x\", \"y\": [851.1, 826.4, 823.1, 826.4, 813.75, 821.8, 829.9, 845.0, 848.9, 834.95, 842.5, 842.0, 838.0, 836.05, 833.0, 813.5, 816.0, 819.0, 809.1, 821.4, 830.5, 842.0, 848.2, 841.55, 832.0, 818.0, 819.75, 815.0, 818.4, 835.85, 841.35, 835.4, 847.6, 837.0, 815.85, 819.5, 817.35, 815.9, 791.6, 809.75, 817.0, 825.85, 831.2, 838.8, 854.0, 856.0, 861.7, 865.5, 863.0, 836.7, 829.5, 819.3, 816.9, 806.0, 810.0, 792.5, 774.8, 768.65, 763.0, 770.8, 781.5, 784.85, 778.7, 773.45, 774.4, 776.1, 772.85, 775.0, 802.75, 818.0, 818.0, 779.3, 777.75, 779.8, 779.75, 778.75, 769.0, 762.0, 770.5, 795.0, 794.55, 794.3, 767.0, 765.95, 765.6, 760.0, 749.95, 745.1, 743.45, 722.75, 719.35, 706.0, 719.0, 734.35, 744.9, 751.55, 760.0, 759.8, 759.8, 754.9, 742.85, 758.5, 765.6, 772.5, 778.3, 786.15, 827.9, 835.0, 814.9, 805.0, 821.2, 827.8, 840.5, 854.25, 852.4, 855.95, 869.0, 845.0, 851.8, 856.0, 859.5, 858.2, 852.8, 866.4, 885.0, 888.0, 908.75, 926.8, 924.5, 924.25, 916.25, 906.65, 893.7, 886.95, 900.0, 907.0, 914.9, 902.0, 914.25, 891.75, 877.2, 863.6, 868.1, 865.0, 874.1, 862.75, 844.0, 829.6, 833.0, 823.0, 819.95, 800.0, 822.9, 813.9, 824.9, 842.4, 848.0, 839.85, 848.8, 837.65, 839.4, 803.95, 814.0, 813.0, 809.65, 844.9, 848.4, 856.95, 864.1, 867.9, 879.95, 884.0, 864.9, 867.6, 869.5, 878.2, 885.15, 892.4, 888.75, 881.55, 866.05, 844.0, 829.9, 838.0, 834.8, 840.0, 837.0, 832.7, 822.5, 811.5, 816.0, 818.4, 816.0, 808.0, 807.6, 809.95, 813.25, 824.5, 833.8, 831.75, 852.0, 861.75, 865.95, 864.0, 858.7, 848.0, 867.2, 848.55, 840.8, 873.85, 877.2, 866.45, 861.2, 863.55, 878.35, 880.0, 883.95, 878.5, 885.85, 884.0, 887.0, 883.6, 883.9, 886.25, 885.0, 882.9, 886.95, 892.45, 905.0, 911.9, 891.55, 881.95, 884.0, 885.45, 883.5, 897.0, 894.95, 892.65, 867.8, 856.0, 855.95, 873.4, 881.95, 881.8, 865.0, 874.95, 890.0, 894.55, 883.95, 895.9, 903.45, 907.5, 894.0, 889.0, 874.0, 873.25, 872.2, 860.15, 858.9, 863.65, 856.9, 873.0, 879.9, 885.7, 884.75, 874.0, 868.95, 874.5, 880.9, 896.5, 890.1, 881.7, 888.8, 896.0, 903.7, 902.0, 906.5, 880.3, 875.95, 877.9, 873.25, 859.95, 855.9, 857.45, 860.0, 885.0, 882.0, 883.95, 888.0, 884.8, 875.0, 869.0, 861.45, 861.9, 870.0, 876.0, 886.55, 887.65, 895.0, 893.35, 870.0, 880.0, 891.0, 894.35, 875.8, 867.5, 886.9, 879.0, 875.4, 890.0, 913.9, 908.2, 919.0, 933.9, 948.0, 957.8, 972.0, 971.0, 968.85, 963.0, 960.0, 962.4, 985.0, 999.5, 1001.7, 1004.25, 995.35, 1025.0, 1029.0, 1032.05, 1032.3, 1037.45, 1028.0, 1019.0, 999.0, 996.5, 999.0, 1002.0, 1009.0, 1014.85, 995.8, 991.0, 989.45, 990.0, 993.0, 992.6, 985.0, 999.25, 1009.0, 1010.75, 1017.05, 1004.85, 997.0, 1013.9, 1033.0, 1037.9, 1029.0, 1025.15, 1031.5, 1044.9, 1037.5, 1036.4, 1047.5, 1054.0, 1074.2, 1074.95, 1073.8, 1153.8, 1137.7, 1134.0, 1142.5, 1147.05, 1154.3, 1145.25, 1150.9, 1154.95, 1148.45, 1147.3, 1161.25, 1147.75, 1127.7, 1119.75, 1126.9, 1120.85, 1129.65, 1130.15, 1126.5, 1127.55, 1124.65, 1148.0, 1173.9, 1164.0, 1172.0, 1213.85, 1208.45, 1190.0, 1181.9, 1163.0, 1178.95, 1175.5, 1181.25, 1172.0, 1173.65, 1176.0, 1196.95, 1203.5, 1194.95, 1203.0, 1201.0, 1202.85, 1169.6, 1198.95, 1202.0, 1224.0, 1222.4, 1209.95, 1219.0, 1223.5, 1220.0, 1208.4, 1193.35, 1183.9, 1177.0, 1171.85, 1162.0, 1158.25, 1146.5, 1133.1, 1096.5, 1085.0, 1088.15, 1083.35, 1067.1, 1054.6, 1059.6, 1060.0, 1058.1, 1059.9, 1004.95, 970.95, 945.75, 947.15, 928.9, 917.75, 912.5, 946.4, 965.75, 953.2, 968.65, 967.0, 974.9, 966.7, 936.45, 941.2, 944.5, 948.5, 947.55, 953.95, 937.1, 914.95, 923.1, 916.75, 911.05, 902.0, 882.0, 876.5, 874.1, 885.0, 885.0, 877.8, 890.0, 887.0, 895.0, 907.5, 910.0, 914.5, 919.9, 932.5, 933.0, 928.5, 940.6, 939.25, 938.2, 941.55, 963.5, 972.45, 965.75, 977.85, 973.5, 979.85, 981.35, 989.6, 979.0, 977.5, 1001.05, 995.0, 993.9, 1004.95, 1003.95, 1009.9, 1005.0, 1008.2, 1000.0, 988.05, 986.7, 989.55, 973.4, 979.95, 993.95, 1025.75, 1029.85, 1018.1, 1026.7, 1040.0, 1044.65, 1026.7, 1033.8, 1032.6, 1034.7, 1040.8, 1037.0, 1077.4, 1075.5, 1089.45, 1091.95, 1083.0, 1084.95, 1064.15, 1070.0, 1073.0, 1066.6, 1061.95, 1079.0, 1074.7, 1079.5, 1098.45, 1094.0, 1089.0, 1089.9, 1080.45, 1076.75, 1081.9, 1081.0, 1080.0, 1068.95, 1055.8, 1062.75, 1071.5, 1074.35, 1101.5, 1122.0, 1108.95, 1124.95, 1137.45, 1123.85, 1135.0, 1160.0, 1172.7, 1176.2, 1182.0, 1178.9, 1178.55, 1149.9, 1149.7, 1159.0, 1159.8, 1141.4, 1137.85, 1126.5, 1107.0, 1125.0, 1148.45, 1150.0, 1166.1, 1165.0, 1162.0, 1174.9, 1175.9, 1165.3, 1168.0, 1172.0, 1157.6, 1158.65, 1154.25, 1151.75, 1150.0, 1149.65, 1157.9, 1156.85, 1160.4, 1171.0, 1164.15, 1168.35, 1128.85, 1126.95, 1110.0, 1123.45, 1123.65, 1134.15, 1144.0, 1135.0, 1133.0, 1135.0, 1137.4, 1144.25, 1127.9, 1128.7, 1150.0, 1158.0, 1157.85, 1172.5, 1159.0, 1164.5, 1144.8, 1153.0, 1156.9, 1164.0, 1163.0, 1150.95, 1148.9, 1159.95, 1160.75, 1151.4, 1158.9, 1160.3, 1146.05, 1163.65, 1154.75, 1142.8, 1142.45, 1141.1, 1142.5, 1144.5, 1145.0, 1159.75, 1154.9, 1160.35, 1173.8, 1219.0, 1215.9, 1223.05, 1213.45, 1218.0, 1206.0, 1240.8, 1258.95, 1262.0, 1262.0, 1249.65, 1261.0, 1262.0, 1256.9, 1247.1, 1230.2, 1212.6, 1186.6, 1178.55, 1164.1, 1144.95, 1160.0, 1167.1, 1161.5, 1169.55, 1168.55, 1166.95, 1175.45, 1161.8, 1177.1, 1185.0, 1199.95, 1197.15, 1183.25, 1191.85, 1233.5, 1232.0, 1202.85, 1195.0, 1198.8, 1188.85, 1188.55, 1181.9, 1183.1, 1173.1, 1163.75, 1179.4, 1198.0, 1192.4, 1189.5, 1176.0, 1190.0, 1189.0, 1193.9, 1176.35, 1170.35, 1176.5, 1177.6, 1162.0, 1160.0, 1174.9, 1176.35, 1158.0, 1154.0, 1140.75, 1123.85, 1114.95, 1150.95, 1153.45, 1142.7, 1129.1, 1137.5, 1129.55, 1134.7, 1139.95, 1147.35, 1141.95, 1144.0, 1142.0, 1153.35, 1157.0, 1154.35, 1172.5, 1165.0, 1150.0, 1148.8, 1178.0, 1192.0, 1190.85, 1197.2, 1189.1, 1189.95, 1192.55, 1208.2, 1202.75, 1196.3, 1204.1, 1195.0, 1191.55, 1177.0, 1171.4, 1161.4, 1164.25, 1149.95, 1139.8, 1157.35, 1147.7, 1140.0, 1120.1, 1125.2, 1130.9, 1142.25, 1150.0, 1143.5, 1139.9, 1146.9, 1145.7, 1136.0, 1133.0, 1123.6, 1116.0, 1107.95, 1113.0, 1124.0, 1124.1, 1113.5, 1110.25, 1109.95, 1130.0, 1138.75, 1133.95, 1143.0, 1143.9, 1163.75, 1159.9, 1124.0, 1117.0, 1116.0, 1110.0, 1120.0, 1119.0, 1137.8, 1129.25, 1153.95, 1156.7, 1157.05, 1156.8, 1152.8, 1171.3, 1167.7, 1158.45, 1169.9, 1176.85, 1188.5, 1187.35, 1185.0, 1187.0, 1165.65, 1181.25, 1182.05, 1168.8, 1177.05, 1199.0, 1206.0, 1230.6, 1230.0, 1208.3, 1220.7, 1224.0, 1229.1, 1238.0, 1291.7, 1303.7, 1322.95, 1331.75, 1330.0, 1316.0, 1314.65, 1302.0, 1290.9, 1302.7, 1310.0, 1331.9, 1330.0, 1300.95, 1311.7, 1308.0, 1296.9, 1293.3, 1270.0, 1297.0, 1288.5, 1295.85, 1292.0, 1292.75, 1289.2, 1286.65, 1288.9, 1287.6, 1274.5, 1279.9, 1272.1, 1272.1, 1279.85, 1284.95, 1273.45, 1271.1, 1296.95, 1308.5, 1299.9, 1325.6, 1335.4, 1367.9, 1375.5, 1384.15, 1379.0, 1374.4, 1394.0, 1383.5, 1399.95, 1408.5, 1404.0, 1464.3, 1476.0, 1490.6, 1457.85, 1454.0, 1451.85, 1456.6, 1459.95, 1443.85, 1426.25, 1420.9, 1438.0, 1447.45, 1433.8, 1439.9, 1421.6, 1416.5, 1410.0, 1405.15, 1430.95, 1425.9, 1412.0, 1411.0, 1407.0, 1419.65, 1412.8, 1398.5, 1392.0, 1387.0, 1362.25, 1330.0, 1331.3, 1320.0, 1318.0, 1313.25, 1303.0, 1336.4, 1327.0, 1331.65, 1319.2, 1324.85, 1316.45, 1304.85, 1301.0, 1314.0, 1315.0, 1307.7, 1269.0, 1238.3, 1240.0, 1254.0, 1255.6, 1240.85, 1221.35, 1265.95, 1256.4, 1282.9, 1282.0, 1287.0, 1245.8, 1170.9, 1198.95, 1208.9, 1200.0, 1213.15, 1208.0, 1234.95, 1244.8, 1291.1, 1260.65, 1255.0, 1254.0, 1308.8, 1314.9, 1295.6, 1337.95, 1331.85, 1329.8, 1329.85, 1330.5, 1342.2, 1330.65, 1357.55, 1346.15, 1354.2, 1354.85, 1361.65, 1358.9, 1354.35, 1343.0, 1324.9, 1324.0, 1306.25, 1336.4, 1337.2, 1343.2, 1350.45, 1344.9, 1361.0, 1406.8, 1431.55, 1433.0, 1388.7, 1374.9, 1384.55, 1383.0, 1378.0, 1377.65, 1386.75, 1393.25, 1401.4, 1405.4, 1412.7, 1414.0, 1400.0, 1406.2, 1410.5, 1414.45, 1412.8, 1398.5, 1404.75, 1424.65, 1431.9, 1429.0, 1413.5, 1413.7, 1391.0, 1400.0, 1416.8, 1415.0, 1469.65, 1452.8, 1466.9, 1476.2, 1476.8, 1480.0, 1457.2, 1456.9, 1453.65, 1423.15, 1404.95, 1401.7, 1396.95, 1398.25, 1407.85, 1407.55, 1405.8, 1406.8, 1430.65, 1415.0, 1417.55, 1409.75, 1409.85, 1405.5, 1394.65, 1423.0, 1445.25, 1439.4, 1446.95, 1457.0, 1460.55, 1459.85, 1466.0, 1479.9, 1475.6, 1492.25, 1496.9, 1508.95, 1508.65, 1504.0, 1523.45, 1529.8, 1525.0, 1523.65, 1514.0, 1474.75, 1450.9, 1431.85, 1444.8, 1451.45, 1464.9, 1479.8, 1459.95, 1454.1, 1459.4, 1460.0, 1459.35, 1477.0, 1472.9, 1456.0, 1448.4, 1426.8, 1395.0, 1393.6, 1350.0, 1345.25, 1334.75, 1328.55], \"yaxis\": \"y\"}, {\"hovertemplate\": \"stock_name=HDFC<br>date=%{x}<br>high=%{y}<extra></extra>\", \"legendgroup\": \"HDFC\", \"line\": {\"color\": \"#FFA15A\", \"dash\": \"solid\"}, \"mode\": \"lines\", \"name\": \"HDFC\", \"showlegend\": true, \"type\": \"scattergl\", \"x\": [\"2015-02-02\", \"2015-02-03\", \"2015-02-04\", \"2015-02-05\", \"2015-02-06\", \"2015-02-09\", \"2015-02-10\", \"2015-02-11\", \"2015-02-12\", \"2015-02-13\", \"2015-02-16\", \"2015-02-18\", \"2015-02-19\", \"2015-02-20\", \"2015-02-23\", \"2015-02-24\", \"2015-02-25\", \"2015-02-26\", \"2015-02-27\", \"2015-02-28\", \"2015-03-02\", \"2015-03-03\", \"2015-03-04\", \"2015-03-05\", \"2015-03-09\", \"2015-03-10\", \"2015-03-11\", \"2015-03-12\", \"2015-03-13\", \"2015-03-16\", \"2015-03-17\", \"2015-03-18\", \"2015-03-19\", \"2015-03-20\", \"2015-03-23\", \"2015-03-24\", \"2015-03-25\", \"2015-03-26\", \"2015-03-27\", \"2015-03-30\", \"2015-03-31\", \"2015-04-01\", \"2015-04-06\", \"2015-04-07\", \"2015-04-08\", \"2015-04-09\", \"2015-04-10\", \"2015-04-13\", \"2015-04-15\", \"2015-04-16\", \"2015-04-17\", \"2015-04-20\", \"2015-04-21\", \"2015-04-22\", \"2015-04-23\", \"2015-04-24\", \"2015-04-27\", \"2015-04-28\", \"2015-04-29\", \"2015-04-30\", \"2015-05-04\", \"2015-05-05\", \"2015-05-06\", \"2015-05-07\", \"2015-05-08\", \"2015-05-11\", \"2015-05-12\", \"2015-05-13\", \"2015-05-14\", \"2015-05-15\", \"2015-05-18\", \"2015-05-19\", \"2015-05-20\", \"2015-05-21\", \"2015-05-22\", \"2015-05-25\", \"2015-05-26\", \"2015-05-27\", \"2015-05-28\", \"2015-05-29\", \"2015-06-01\", \"2015-06-02\", \"2015-06-03\", \"2015-06-04\", \"2015-06-05\", \"2015-06-08\", \"2015-06-09\", \"2015-06-10\", \"2015-06-11\", \"2015-06-12\", \"2015-06-15\", \"2015-06-16\", \"2015-06-17\", \"2015-06-18\", \"2015-06-19\", \"2015-06-22\", \"2015-06-23\", \"2015-06-24\", \"2015-06-25\", \"2015-06-26\", \"2015-06-29\", \"2015-06-30\", \"2015-07-01\", \"2015-07-02\", \"2015-07-03\", \"2015-07-06\", \"2015-07-07\", \"2015-07-08\", \"2015-07-09\", \"2015-07-10\", \"2015-07-13\", \"2015-07-14\", \"2015-07-15\", \"2015-07-16\", \"2015-07-17\", \"2015-07-20\", \"2015-07-21\", \"2015-07-22\", \"2015-07-23\", \"2015-07-24\", \"2015-07-27\", \"2015-07-28\", \"2015-07-29\", \"2015-07-30\", \"2015-07-31\", \"2015-08-03\", \"2015-08-04\", \"2015-08-05\", \"2015-08-06\", \"2015-08-07\", \"2015-08-10\", \"2015-08-11\", \"2015-08-12\", \"2015-08-13\", \"2015-08-14\", \"2015-08-17\", \"2015-08-18\", \"2015-08-19\", \"2015-08-20\", \"2015-08-21\", \"2015-08-24\", \"2015-08-25\", \"2015-08-26\", \"2015-08-27\", \"2015-08-28\", \"2015-08-31\", \"2015-09-01\", \"2015-09-02\", \"2015-09-03\", \"2015-09-04\", \"2015-09-07\", \"2015-09-08\", \"2015-09-09\", \"2015-09-10\", \"2015-09-11\", \"2015-09-14\", \"2015-09-15\", \"2015-09-16\", \"2015-09-18\", \"2015-09-21\", \"2015-09-22\", \"2015-09-23\", \"2015-09-24\", \"2015-09-28\", \"2015-09-29\", \"2015-09-30\", \"2015-10-01\", \"2015-10-05\", \"2015-10-06\", \"2015-10-07\", \"2015-10-08\", \"2015-10-09\", \"2015-10-12\", \"2015-10-13\", \"2015-10-14\", \"2015-10-15\", \"2015-10-16\", \"2015-10-19\", \"2015-10-20\", \"2015-10-21\", \"2015-10-23\", \"2015-10-26\", \"2015-10-27\", \"2015-10-28\", \"2015-10-29\", \"2015-10-30\", \"2015-11-02\", \"2015-11-03\", \"2015-11-04\", \"2015-11-05\", \"2015-11-06\", \"2015-11-09\", \"2015-11-10\", \"2015-11-11\", \"2015-11-13\", \"2015-11-16\", \"2015-11-17\", \"2015-11-18\", \"2015-11-19\", \"2015-11-20\", \"2015-11-23\", \"2015-11-24\", \"2015-11-26\", \"2015-11-27\", \"2015-11-30\", \"2015-12-01\", \"2015-12-02\", \"2015-12-03\", \"2015-12-04\", \"2015-12-07\", \"2015-12-08\", \"2015-12-09\", \"2015-12-10\", \"2015-12-11\", \"2015-12-14\", \"2015-12-15\", \"2015-12-16\", \"2015-12-17\", \"2015-12-18\", \"2015-12-21\", \"2015-12-22\", \"2015-12-23\", \"2015-12-24\", \"2015-12-28\", \"2015-12-29\", \"2015-12-30\", \"2015-12-31\", \"2016-01-04\", \"2016-01-05\", \"2016-01-06\", \"2016-01-07\", \"2016-01-08\", \"2016-01-11\", \"2016-01-12\", \"2016-01-13\", \"2016-01-14\", \"2016-01-15\", \"2016-01-18\", \"2016-01-19\", \"2016-01-20\", \"2016-01-21\", \"2016-01-22\", \"2016-01-25\", \"2016-01-27\", \"2016-01-28\", \"2016-01-29\", \"2016-02-01\", \"2016-02-02\", \"2016-02-03\", \"2016-02-04\", \"2016-02-05\", \"2016-02-08\", \"2016-02-09\", \"2016-02-10\", \"2016-02-11\", \"2016-02-12\", \"2016-02-15\", \"2016-02-16\", \"2016-02-17\", \"2016-02-18\", \"2016-02-19\", \"2016-02-22\", \"2016-02-23\", \"2016-02-24\", \"2016-02-25\", \"2016-02-26\", \"2016-02-29\", \"2016-03-01\", \"2016-03-02\", \"2016-03-03\", \"2016-03-04\", \"2016-03-08\", \"2016-03-09\", \"2016-03-10\", \"2016-03-11\", \"2016-03-14\", \"2016-03-15\", \"2016-03-16\", \"2016-03-17\", \"2016-03-18\", \"2016-03-21\", \"2016-03-22\", \"2016-03-23\", \"2016-03-28\", \"2016-03-29\", \"2016-03-30\", \"2016-03-31\", \"2016-04-01\", \"2016-04-04\", \"2016-04-05\", \"2016-04-06\", \"2016-04-07\", \"2016-04-08\", \"2016-04-11\", \"2016-04-12\", \"2016-04-13\", \"2016-04-18\", \"2016-04-20\", \"2016-04-21\", \"2016-04-22\", \"2016-04-25\", \"2016-04-26\", \"2016-04-27\", \"2016-04-28\", \"2016-04-29\", \"2016-05-02\", \"2016-05-03\", \"2016-05-04\", \"2016-05-05\", \"2016-05-06\", \"2016-05-09\", \"2016-05-10\", \"2016-05-11\", \"2016-05-12\", \"2016-05-13\", \"2016-05-16\", \"2016-05-17\", \"2016-05-18\", \"2016-05-19\", \"2016-05-20\", \"2016-05-23\", \"2016-05-24\", \"2016-05-25\", \"2016-05-26\", \"2016-05-27\", \"2016-05-30\", \"2016-05-31\", \"2016-06-01\", \"2016-06-02\", \"2016-06-03\", \"2016-06-06\", \"2016-06-07\", \"2016-06-08\", \"2016-06-09\", \"2016-06-10\", \"2016-06-13\", \"2016-06-14\", \"2016-06-15\", \"2016-06-16\", \"2016-06-17\", \"2016-06-20\", \"2016-06-21\", \"2016-06-22\", \"2016-06-23\", \"2016-06-24\", \"2016-06-27\", \"2016-06-28\", \"2016-06-29\", \"2016-06-30\", \"2016-07-01\", \"2016-07-04\", \"2016-07-05\", \"2016-07-07\", \"2016-07-08\", \"2016-07-11\", \"2016-07-12\", \"2016-07-13\", \"2016-07-14\", \"2016-07-15\", \"2016-07-18\", \"2016-07-19\", \"2016-07-20\", \"2016-07-21\", \"2016-07-22\", \"2016-07-25\", \"2016-07-26\", \"2016-07-27\", \"2016-07-28\", \"2016-07-29\", \"2016-08-01\", \"2016-08-02\", \"2016-08-03\", \"2016-08-04\", \"2016-08-05\", \"2016-08-08\", \"2016-08-09\", \"2016-08-10\", \"2016-08-11\", \"2016-08-12\", \"2016-08-16\", \"2016-08-17\", \"2016-08-18\", \"2016-08-19\", \"2016-08-22\", \"2016-08-23\", \"2016-08-24\", \"2016-08-25\", \"2016-08-26\", \"2016-08-29\", \"2016-08-30\", \"2016-08-31\", \"2016-09-01\", \"2016-09-02\", \"2016-09-06\", \"2016-09-07\", \"2016-09-08\", \"2016-09-09\", \"2016-09-12\", \"2016-09-14\", \"2016-09-15\", \"2016-09-16\", \"2016-09-19\", \"2016-09-20\", \"2016-09-21\", \"2016-09-22\", \"2016-09-23\", \"2016-09-26\", \"2016-09-27\", \"2016-09-28\", \"2016-09-29\", \"2016-09-30\", \"2016-10-03\", \"2016-10-04\", \"2016-10-05\", \"2016-10-06\", \"2016-10-07\", \"2016-10-10\", \"2016-10-13\", \"2016-10-14\", \"2016-10-17\", \"2016-10-18\", \"2016-10-19\", \"2016-10-20\", \"2016-10-21\", \"2016-10-24\", \"2016-10-25\", \"2016-10-26\", \"2016-10-27\", \"2016-10-28\", \"2016-10-30\", \"2016-11-01\", \"2016-11-02\", \"2016-11-03\", \"2016-11-04\", \"2016-11-07\", \"2016-11-08\", \"2016-11-09\", \"2016-11-10\", \"2016-11-11\", \"2016-11-15\", \"2016-11-16\", \"2016-11-17\", \"2016-11-18\", \"2016-11-21\", \"2016-11-22\", \"2016-11-23\", \"2016-11-24\", \"2016-11-25\", \"2016-11-28\", \"2016-11-29\", \"2016-11-30\", \"2016-12-01\", \"2016-12-02\", \"2016-12-05\", \"2016-12-06\", \"2016-12-07\", \"2016-12-08\", \"2016-12-09\", \"2016-12-12\", \"2016-12-13\", \"2016-12-14\", \"2016-12-15\", \"2016-12-16\", \"2016-12-19\", \"2016-12-20\", \"2016-12-21\", \"2016-12-22\", \"2016-12-23\", \"2016-12-26\", \"2016-12-27\", \"2016-12-28\", \"2016-12-29\", \"2016-12-30\", \"2017-01-02\", \"2017-01-03\", \"2017-01-04\", \"2017-01-05\", \"2017-01-06\", \"2017-01-09\", \"2017-01-10\", \"2017-01-11\", \"2017-01-12\", \"2017-01-13\", \"2017-01-16\", \"2017-01-17\", \"2017-01-18\", \"2017-01-19\", \"2017-01-20\", \"2017-01-23\", \"2017-01-24\", \"2017-01-25\", \"2017-01-27\", \"2017-01-30\", \"2017-01-31\", \"2017-02-01\", \"2017-02-02\", \"2017-02-03\", \"2017-02-06\", \"2017-02-07\", \"2017-02-08\", \"2017-02-09\", \"2017-02-10\", \"2017-02-13\", \"2017-02-14\", \"2017-02-15\", \"2017-02-16\", \"2017-02-17\", \"2017-02-20\", \"2017-02-21\", \"2017-02-22\", \"2017-02-23\", \"2017-02-27\", \"2017-02-28\", \"2017-03-01\", \"2017-03-02\", \"2017-03-03\", \"2017-03-06\", \"2017-03-07\", \"2017-03-08\", \"2017-03-09\", \"2017-03-10\", \"2017-03-14\", \"2017-03-15\", \"2017-03-16\", \"2017-03-17\", \"2017-03-20\", \"2017-03-21\", \"2017-03-22\", \"2017-03-23\", \"2017-03-24\", \"2017-03-27\", \"2017-03-28\", \"2017-03-29\", \"2017-03-30\", \"2017-03-31\", \"2017-04-03\", \"2017-04-05\", \"2017-04-06\", \"2017-04-07\", \"2017-04-10\", \"2017-04-11\", \"2017-04-12\", \"2017-04-13\", \"2017-04-17\", \"2017-04-18\", \"2017-04-19\", \"2017-04-20\", \"2017-04-21\", \"2017-04-24\", \"2017-04-25\", \"2017-04-26\", \"2017-04-27\", \"2017-04-28\", \"2017-05-02\", \"2017-05-03\", \"2017-05-04\", \"2017-05-05\", \"2017-05-08\", \"2017-05-09\", \"2017-05-10\", \"2017-05-11\", \"2017-05-12\", \"2017-05-15\", \"2017-05-16\", \"2017-05-17\", \"2017-05-18\", \"2017-05-19\", \"2017-05-22\", \"2017-05-23\", \"2017-05-24\", \"2017-05-25\", \"2017-05-26\", \"2017-05-29\", \"2017-05-30\", \"2017-05-31\", \"2017-06-01\", \"2017-06-02\", \"2017-06-05\", \"2017-06-06\", \"2017-06-07\", \"2017-06-08\", \"2017-06-09\", \"2017-06-12\", \"2017-06-13\", \"2017-06-14\", \"2017-06-15\", \"2017-06-16\", \"2017-06-19\", \"2017-06-20\", \"2017-06-21\", \"2017-06-22\", \"2017-06-23\", \"2017-06-27\", \"2017-06-28\", \"2017-06-29\", \"2017-06-30\", \"2017-07-03\", \"2017-07-04\", \"2017-07-05\", \"2017-07-06\", \"2017-07-07\", \"2017-07-10\", \"2017-07-11\", \"2017-07-12\", \"2017-07-13\", \"2017-07-14\", \"2017-07-17\", \"2017-07-18\", \"2017-07-19\", \"2017-07-20\", \"2017-07-21\", \"2017-07-24\", \"2017-07-25\", \"2017-07-26\", \"2017-07-27\", \"2017-07-28\", \"2017-07-31\", \"2017-08-01\", \"2017-08-02\", \"2017-08-03\", \"2017-08-04\", \"2017-08-07\", \"2017-08-08\", \"2017-08-09\", \"2017-08-10\", \"2017-08-11\", \"2017-08-14\", \"2017-08-16\", \"2017-08-17\", \"2017-08-18\", \"2017-08-21\", \"2017-08-22\", \"2017-08-23\", \"2017-08-24\", \"2017-08-28\", \"2017-08-29\", \"2017-08-30\", \"2017-08-31\", \"2017-09-01\", \"2017-09-04\", \"2017-09-05\", \"2017-09-06\", \"2017-09-07\", \"2017-09-08\", \"2017-09-11\", \"2017-09-12\", \"2017-09-13\", \"2017-09-14\", \"2017-09-15\", \"2017-09-18\", \"2017-09-19\", \"2017-09-20\", \"2017-09-21\", \"2017-09-22\", \"2017-09-25\", \"2017-09-26\", \"2017-09-27\", \"2017-09-28\", \"2017-09-29\", \"2017-10-03\", \"2017-10-04\", \"2017-10-05\", \"2017-10-06\", \"2017-10-09\", \"2017-10-10\", \"2017-10-11\", \"2017-10-12\", \"2017-10-13\", \"2017-10-16\", \"2017-10-17\", \"2017-10-18\", \"2017-10-19\", \"2017-10-23\", \"2017-10-24\", \"2017-10-25\", \"2017-10-26\", \"2017-10-27\", \"2017-10-30\", \"2017-10-31\", \"2017-11-01\", \"2017-11-02\", \"2017-11-03\", \"2017-11-06\", \"2017-11-07\", \"2017-11-08\", \"2017-11-09\", \"2017-11-10\", \"2017-11-13\", \"2017-11-14\", \"2017-11-15\", \"2017-11-16\", \"2017-11-17\", \"2017-11-20\", \"2017-11-21\", \"2017-11-22\", \"2017-11-23\", \"2017-11-24\", \"2017-11-27\", \"2017-11-28\", \"2017-11-29\", \"2017-11-30\", \"2017-12-01\", \"2017-12-04\", \"2017-12-05\", \"2017-12-06\", \"2017-12-07\", \"2017-12-08\", \"2017-12-11\", \"2017-12-12\", \"2017-12-13\", \"2017-12-14\", \"2017-12-15\", \"2017-12-18\", \"2017-12-19\", \"2017-12-20\", \"2017-12-21\", \"2017-12-22\", \"2017-12-26\", \"2017-12-27\", \"2017-12-28\", \"2017-12-29\", \"2018-01-01\", \"2018-01-02\", \"2018-01-03\", \"2018-01-04\", \"2018-01-05\", \"2018-01-08\", \"2018-01-09\", \"2018-01-10\", \"2018-01-11\", \"2018-01-12\", \"2018-01-15\", \"2018-01-16\", \"2018-01-17\", \"2018-01-18\", \"2018-01-19\", \"2018-01-22\", \"2018-01-23\", \"2018-01-24\", \"2018-01-25\", \"2018-01-29\", \"2018-01-30\", \"2018-01-31\", \"2018-02-01\", \"2018-02-02\", \"2018-02-05\", \"2018-02-06\", \"2018-02-07\", \"2018-02-08\", \"2018-02-09\", \"2018-02-12\", \"2018-02-14\", \"2018-02-15\", \"2018-02-16\", \"2018-02-19\", \"2018-02-20\", \"2018-02-21\", \"2018-02-22\", \"2018-02-23\", \"2018-02-26\", \"2018-02-27\", \"2018-02-28\", \"2018-03-01\", \"2018-03-05\", \"2018-03-06\", \"2018-03-07\", \"2018-03-08\", \"2018-03-09\", \"2018-03-12\", \"2018-03-13\", \"2018-03-14\", \"2018-03-15\", \"2018-03-16\", \"2018-03-19\", \"2018-03-20\", \"2018-03-21\", \"2018-03-22\", \"2018-03-23\", \"2018-03-26\", \"2018-03-27\", \"2018-03-28\", \"2018-04-02\", \"2018-04-03\", \"2018-04-04\", \"2018-04-05\", \"2018-04-06\", \"2018-04-09\", \"2018-04-10\", \"2018-04-11\", \"2018-04-12\", \"2018-04-13\", \"2018-04-16\", \"2018-04-17\", \"2018-04-18\", \"2018-04-19\", \"2018-04-20\", \"2018-04-23\", \"2018-04-24\", \"2018-04-25\", \"2018-04-26\", \"2018-04-27\", \"2018-04-30\", \"2018-05-02\", \"2018-05-03\", \"2018-05-04\", \"2018-05-07\", \"2018-05-08\", \"2018-05-09\", \"2018-05-10\", \"2018-05-11\", \"2018-05-14\", \"2018-05-15\", \"2018-05-16\", \"2018-05-17\", \"2018-05-18\", \"2018-05-21\", \"2018-05-22\", \"2018-05-23\", \"2018-05-24\", \"2018-05-25\", \"2018-05-28\", \"2018-05-29\", \"2018-05-30\", \"2018-05-31\", \"2018-06-01\", \"2018-06-04\", \"2018-06-05\", \"2018-06-06\", \"2018-06-07\", \"2018-06-08\", \"2018-06-11\", \"2018-06-12\", \"2018-06-13\", \"2018-06-14\", \"2018-06-15\", \"2018-06-18\", \"2018-06-19\", \"2018-06-20\", \"2018-06-21\", \"2018-06-22\", \"2018-06-25\", \"2018-06-26\", \"2018-06-27\", \"2018-06-28\", \"2018-06-29\", \"2018-07-02\", \"2018-07-03\", \"2018-07-04\", \"2018-07-05\", \"2018-07-06\", \"2018-07-09\", \"2018-07-10\", \"2018-07-11\", \"2018-07-12\", \"2018-07-13\", \"2018-07-16\", \"2018-07-17\", \"2018-07-18\", \"2018-07-19\", \"2018-07-20\", \"2018-07-23\", \"2018-07-24\", \"2018-07-25\", \"2018-07-26\", \"2018-07-27\", \"2018-07-30\", \"2018-07-31\", \"2018-08-01\", \"2018-08-02\", \"2018-08-03\", \"2018-08-06\", \"2018-08-07\", \"2018-08-08\", \"2018-08-09\", \"2018-08-10\", \"2018-08-13\", \"2018-08-14\", \"2018-08-16\", \"2018-08-17\", \"2018-08-20\", \"2018-08-21\", \"2018-08-23\", \"2018-08-24\", \"2018-08-27\", \"2018-08-28\", \"2018-08-29\", \"2018-08-30\", \"2018-08-31\", \"2018-09-03\", \"2018-09-04\", \"2018-09-05\", \"2018-09-06\", \"2018-09-07\", \"2018-09-10\", \"2018-09-11\", \"2018-09-12\", \"2018-09-14\", \"2018-09-17\", \"2018-09-18\", \"2018-09-19\", \"2018-09-21\", \"2018-09-24\", \"2018-09-25\", \"2018-09-26\", \"2018-09-27\", \"2018-09-28\", \"2018-10-01\", \"2018-10-03\", \"2018-10-04\", \"2018-10-05\", \"2018-10-08\", \"2018-10-09\", \"2018-10-10\", \"2018-10-11\", \"2018-10-12\", \"2018-10-15\", \"2018-10-16\", \"2018-10-17\", \"2018-10-19\", \"2018-10-22\", \"2018-10-23\", \"2018-10-24\", \"2018-10-25\", \"2018-10-26\", \"2018-10-29\", \"2018-10-30\", \"2018-10-31\", \"2018-11-01\", \"2018-11-02\", \"2018-11-05\", \"2018-11-06\", \"2018-11-07\", \"2018-11-09\", \"2018-11-12\", \"2018-11-13\", \"2018-11-14\", \"2018-11-15\", \"2018-11-16\", \"2018-11-19\", \"2018-11-20\", \"2018-11-21\", \"2018-11-22\", \"2018-11-26\", \"2018-11-27\", \"2018-11-28\", \"2018-11-29\", \"2018-11-30\", \"2018-12-03\", \"2018-12-04\", \"2018-12-05\", \"2018-12-06\", \"2018-12-07\", \"2018-12-10\", \"2018-12-11\", \"2018-12-12\", \"2018-12-13\", \"2018-12-14\", \"2018-12-17\", \"2018-12-18\", \"2018-12-19\", \"2018-12-20\", \"2018-12-21\", \"2018-12-24\", \"2018-12-26\", \"2018-12-27\", \"2018-12-28\", \"2018-12-31\", \"2019-01-01\", \"2019-01-02\", \"2019-01-03\", \"2019-01-04\", \"2019-01-07\", \"2019-01-08\", \"2019-01-09\", \"2019-01-10\", \"2019-01-11\", \"2019-01-14\", \"2019-01-15\", \"2019-01-16\", \"2019-01-17\", \"2019-01-18\", \"2019-01-21\", \"2019-01-22\", \"2019-01-23\", \"2019-01-24\", \"2019-01-25\", \"2019-01-28\", \"2019-01-29\", \"2019-01-30\", \"2019-01-31\", \"2019-02-01\", \"2019-02-04\", \"2019-02-05\", \"2019-02-06\", \"2019-02-07\", \"2019-02-08\", \"2019-02-11\", \"2019-02-12\", \"2019-02-13\", \"2019-02-14\", \"2019-02-15\", \"2019-02-18\", \"2019-02-19\", \"2019-02-20\", \"2019-02-21\", \"2019-02-22\", \"2019-02-25\", \"2019-02-26\", \"2019-02-27\", \"2019-02-28\", \"2019-03-01\", \"2019-03-05\", \"2019-03-06\", \"2019-03-07\", \"2019-03-08\", \"2019-03-11\", \"2019-03-12\", \"2019-03-13\", \"2019-03-14\", \"2019-03-15\", \"2019-03-18\", \"2019-03-19\", \"2019-03-20\", \"2019-03-22\", \"2019-03-25\", \"2019-03-26\", \"2019-03-27\", \"2019-03-28\", \"2019-03-29\", \"2019-04-01\", \"2019-04-02\", \"2019-04-03\", \"2019-04-04\", \"2019-04-05\", \"2019-04-08\", \"2019-04-09\", \"2019-04-10\", \"2019-04-11\", \"2019-04-12\", \"2019-04-15\", \"2019-04-16\", \"2019-04-18\", \"2019-04-22\", \"2019-04-23\", \"2019-04-24\", \"2019-04-25\", \"2019-04-26\", \"2019-04-30\", \"2019-05-02\", \"2019-05-03\", \"2019-05-06\", \"2019-05-07\", \"2019-05-08\", \"2019-05-09\", \"2019-05-10\", \"2019-05-13\", \"2019-05-14\"], \"xaxis\": \"x\", \"y\": [1284.5, 1271.85, 1252.0, 1292.0, 1289.8, 1279.2, 1293.0, 1267.7, 1260.0, 1275.0, 1300.0, 1335.0, 1357.35, 1351.65, 1337.85, 1321.45, 1349.0, 1374.2, 1367.35, 1379.9, 1370.0, 1372.15, 1401.05, 1402.0, 1394.15, 1365.1, 1338.4, 1343.45, 1368.0, 1320.45, 1347.65, 1343.0, 1354.0, 1343.75, 1348.85, 1386.55, 1380.95, 1337.15, 1297.75, 1308.75, 1322.95, 1341.9, 1345.55, 1341.4, 1335.3, 1316.4, 1308.65, 1312.0, 1313.4, 1310.0, 1315.95, 1305.15, 1276.7, 1285.0, 1297.55, 1271.0, 1255.0, 1236.4, 1237.0, 1199.75, 1205.75, 1201.7, 1178.95, 1172.75, 1200.0, 1230.5, 1221.95, 1228.7, 1224.0, 1236.45, 1271.0, 1262.7, 1273.3, 1273.4, 1292.95, 1288.0, 1260.0, 1245.0, 1249.3, 1247.9, 1255.0, 1250.05, 1217.45, 1225.0, 1217.0, 1205.0, 1196.0, 1204.8, 1200.0, 1194.9, 1218.0, 1213.2, 1217.9, 1219.0, 1247.55, 1274.5, 1288.7, 1294.85, 1313.7, 1310.0, 1293.0, 1302.85, 1302.95, 1295.4, 1323.0, 1321.0, 1347.4, 1332.2, 1299.0, 1294.3, 1326.95, 1322.6, 1343.95, 1372.4, 1359.7, 1333.35, 1329.35, 1349.95, 1357.4, 1365.0, 1359.15, 1337.0, 1332.0, 1352.0, 1350.0, 1350.5, 1331.1, 1319.95, 1313.2, 1310.0, 1333.4, 1306.95, 1284.5, 1273.0, 1306.9, 1306.2, 1285.5, 1262.4, 1266.9, 1238.0, 1194.95, 1187.05, 1157.8, 1202.9, 1215.15, 1213.3, 1175.05, 1175.5, 1176.35, 1163.75, 1176.6, 1180.0, 1203.4, 1174.9, 1186.0, 1188.45, 1184.45, 1200.0, 1235.5, 1209.65, 1216.85, 1173.4, 1184.4, 1189.0, 1230.95, 1240.0, 1231.0, 1262.7, 1270.9, 1280.0, 1279.8, 1299.0, 1295.35, 1282.5, 1297.0, 1305.0, 1315.8, 1322.0, 1315.55, 1320.0, 1344.0, 1350.0, 1302.85, 1284.5, 1285.6, 1273.55, 1266.95, 1233.3, 1236.0, 1224.15, 1224.5, 1203.15, 1185.7, 1182.7, 1181.0, 1189.95, 1203.95, 1202.5, 1217.0, 1222.15, 1210.95, 1224.5, 1231.85, 1241.35, 1229.4, 1228.15, 1232.85, 1208.9, 1192.35, 1187.9, 1178.9, 1170.4, 1185.0, 1187.4, 1195.0, 1209.5, 1222.6, 1243.85, 1247.5, 1240.0, 1237.0, 1242.0, 1245.0, 1231.75, 1239.9, 1244.9, 1274.4, 1252.5, 1233.45, 1220.75, 1203.55, 1198.95, 1171.0, 1164.5, 1173.5, 1167.0, 1167.1, 1155.1, 1157.15, 1144.35, 1147.6, 1162.65, 1183.15, 1186.85, 1159.6, 1187.65, 1193.95, 1192.85, 1180.85, 1177.0, 1186.0, 1186.0, 1168.65, 1155.0, 1115.1, 1097.1, 1100.95, 1090.45, 1085.35, 1084.75, 1065.0, 1063.55, 1060.5, 1050.05, 1049.5, 1059.0, 1078.5, 1073.5, 1107.0, 1135.5, 1134.9, 1150.8, 1145.0, 1157.0, 1167.0, 1175.0, 1148.25, 1128.6, 1152.0, 1132.6, 1155.85, 1174.0, 1167.45, 1168.9, 1141.95, 1130.1, 1116.3, 1117.8, 1122.0, 1111.0, 1112.3, 1099.1, 1082.8, 1084.6, 1091.95, 1117.45, 1138.0, 1158.5, 1157.45, 1152.0, 1127.5, 1131.85, 1127.95, 1126.4, 1102.25, 1097.0, 1116.5, 1138.0, 1176.15, 1173.05, 1206.95, 1220.45, 1221.5, 1212.45, 1203.0, 1191.0, 1230.0, 1214.3, 1201.7, 1193.0, 1185.0, 1177.9, 1212.2, 1234.1, 1267.75, 1258.9, 1247.8, 1248.35, 1263.5, 1268.6, 1264.95, 1260.0, 1267.0, 1258.0, 1251.55, 1225.0, 1208.45, 1209.4, 1205.6, 1235.65, 1234.0, 1242.25, 1241.8, 1249.45, 1225.9, 1229.55, 1231.65, 1251.0, 1266.25, 1262.8, 1266.05, 1263.35, 1295.35, 1301.65, 1322.0, 1337.8, 1337.75, 1340.2, 1369.95, 1386.25, 1354.9, 1345.8, 1345.0, 1361.1, 1387.0, 1383.7, 1398.1, 1409.85, 1406.0, 1397.45, 1372.4, 1342.05, 1333.7, 1349.9, 1370.6, 1375.0, 1349.0, 1353.0, 1383.75, 1384.95, 1372.45, 1377.7, 1375.8, 1380.75, 1380.0, 1385.8, 1390.0, 1371.0, 1379.5, 1394.2, 1414.0, 1430.0, 1441.95, 1461.75, 1461.8, 1442.4, 1437.55, 1404.35, 1396.0, 1412.5, 1415.45, 1400.65, 1396.0, 1406.0, 1419.4, 1427.2, 1424.2, 1423.0, 1432.0, 1432.95, 1398.7, 1430.2, 1435.05, 1436.95, 1433.85, 1425.8, 1412.0, 1385.15, 1341.1, 1322.95, 1357.4, 1359.2, 1368.0, 1361.4, 1350.0, 1349.2, 1343.95, 1383.0, 1393.0, 1397.45, 1431.55, 1408.95, 1411.45, 1406.45, 1401.95, 1394.5, 1362.0, 1363.55, 1310.0, 1258.0, 1265.45, 1269.9, 1261.6, 1250.0, 1252.4, 1254.0, 1227.1, 1256.5, 1252.0, 1284.95, 1271.8, 1285.75, 1260.25, 1238.35, 1259.45, 1283.45, 1294.9, 1289.7, 1278.0, 1281.4, 1279.0, 1277.1, 1278.0, 1263.85, 1252.85, 1256.95, 1237.85, 1232.25, 1224.25, 1236.9, 1247.9, 1260.85, 1269.75, 1270.0, 1222.3, 1224.45, 1220.4, 1232.0, 1229.0, 1227.95, 1233.0, 1242.95, 1250.4, 1264.0, 1260.35, 1260.95, 1250.95, 1245.0, 1262.0, 1282.0, 1341.2, 1379.0, 1379.4, 1388.2, 1417.4, 1409.9, 1408.0, 1411.85, 1410.0, 1409.95, 1421.2, 1410.0, 1396.7, 1403.65, 1409.8, 1403.0, 1430.3, 1402.85, 1414.0, 1415.0, 1404.85, 1389.45, 1383.95, 1405.0, 1415.2, 1396.3, 1391.85, 1373.9, 1376.8, 1381.9, 1383.05, 1427.9, 1435.0, 1454.75, 1457.9, 1464.9, 1473.45, 1454.75, 1460.9, 1467.25, 1478.5, 1508.0, 1530.8, 1528.35, 1520.2, 1537.0, 1528.6, 1488.0, 1494.0, 1484.0, 1486.95, 1476.45, 1484.7, 1494.4, 1491.0, 1492.3, 1531.65, 1526.7, 1538.4, 1557.5, 1590.0, 1589.95, 1565.8, 1590.0, 1590.0, 1586.05, 1570.1, 1549.0, 1542.6, 1575.25, 1580.1, 1565.0, 1572.2, 1569.0, 1570.7, 1558.55, 1546.95, 1530.0, 1536.1, 1541.65, 1545.45, 1563.0, 1601.2, 1603.9, 1595.3, 1587.4, 1612.75, 1612.0, 1624.85, 1611.4, 1635.0, 1649.0, 1651.8, 1682.15, 1667.65, 1653.65, 1650.5, 1660.0, 1653.2, 1633.95, 1660.0, 1660.0, 1667.0, 1658.8, 1654.9, 1624.8, 1629.0, 1646.45, 1639.05, 1654.0, 1648.9, 1643.55, 1649.1, 1647.0, 1665.0, 1649.9, 1657.1, 1676.95, 1661.0, 1664.1, 1655.7, 1646.5, 1640.0, 1643.7, 1742.8, 1799.0, 1799.9, 1788.35, 1783.25, 1776.65, 1738.05, 1752.8, 1732.05, 1741.45, 1749.05, 1709.45, 1745.0, 1756.55, 1766.0, 1758.0, 1745.4, 1756.7, 1769.0, 1769.0, 1784.25, 1762.2, 1770.0, 1780.5, 1776.0, 1768.35, 1772.2, 1776.95, 1790.1, 1789.8, 1796.0, 1802.0, 1799.7, 1777.0, 1781.3, 1778.1, 1776.05, 1770.5, 1795.35, 1785.6, 1777.5, 1758.8, 1755.05, 1754.05, 1758.1, 1767.9, 1777.6, 1773.8, 1765.9, 1753.8, 1749.7, 1763.4, 1758.8, 1773.8, 1779.2, 1767.15, 1763.95, 1754.55, 1750.05, 1732.0, 1737.85, 1706.2, 1716.0, 1722.8, 1727.8, 1760.1, 1769.85, 1790.0, 1799.0, 1804.0, 1777.9, 1755.8, 1725.85, 1702.95, 1682.55, 1676.4, 1672.0, 1719.4, 1706.7, 1705.75, 1724.95, 1720.95, 1715.0, 1714.45, 1737.0, 1726.0, 1703.85, 1685.45, 1685.0, 1690.0, 1675.4, 1659.85, 1687.95, 1718.0, 1715.0, 1716.6, 1710.0, 1734.5, 1741.0, 1722.05, 1718.05, 1709.9, 1717.0, 1718.95, 1715.0, 1715.0, 1713.0, 1711.05, 1706.25, 1711.8, 1708.2, 1731.0, 1745.0, 1748.0, 1739.4, 1745.0, 1764.85, 1885.5, 1869.45, 1869.0, 1918.65, 1912.65, 1924.0, 1896.8, 1919.45, 1922.2, 1985.55, 1971.5, 1963.0, 1975.0, 1946.0, 1885.6, 1808.8, 1804.45, 1836.4, 1782.85, 1812.3, 1832.35, 1850.6, 1836.95, 1829.8, 1840.0, 1832.7, 1825.0, 1826.75, 1852.75, 1850.95, 1831.65, 1818.5, 1809.7, 1819.0, 1781.75, 1803.5, 1834.3, 1865.35, 1881.25, 1863.8, 1847.7, 1832.0, 1806.0, 1808.5, 1830.4, 1838.0, 1799.55, 1835.2, 1837.9, 1830.8, 1854.15, 1846.4, 1831.75, 1830.0, 1837.7, 1847.0, 1850.25, 1827.4, 1830.55, 1842.8, 1873.0, 1896.5, 1898.0, 1887.05, 1872.65, 1846.9, 1867.5, 1856.95, 1857.2, 1859.3, 1890.45, 1912.5, 1931.65, 1933.8, 1922.1, 1920.0, 1905.4, 1909.95, 1921.7, 1936.75, 1941.9, 1928.65, 1917.95, 1882.05, 1859.0, 1828.8, 1807.35, 1814.0, 1828.65, 1835.0, 1828.75, 1806.65, 1838.2, 1857.0, 1870.45, 1854.9, 1861.5, 1874.0, 1861.0, 1849.9, 1854.8, 1852.65, 1837.3, 1850.0, 1834.6, 1837.75, 1852.1, 1875.95, 1912.7, 1910.9, 1922.85, 1936.0, 1912.6, 1913.0, 1915.0, 1898.9, 1926.5, 1937.1, 1938.35, 1922.0, 1947.6, 1961.8, 1979.9, 1978.35, 1997.4, 1998.0, 2025.0, 2004.9, 1981.95, 1988.0, 1982.8, 2011.7, 2033.4, 2049.95, 2052.95, 2015.15, 1995.0, 1966.5, 1980.0, 1993.05, 1992.9, 1989.75, 1988.7, 1980.0, 1966.95, 1970.5, 1936.4, 1903.0, 1923.3, 1931.75, 1943.45, 1921.6, 1934.85, 1958.95, 1971.4, 1964.3, 1942.45, 1950.0, 1959.5, 1965.0, 1960.0, 1961.2, 1915.15, 1890.85, 1886.7, 1928.85, 1908.95, 1888.5, 1862.0, 1874.4, 1844.95, 1783.6, 1805.5, 1765.15, 1772.75, 1817.1, 1819.4, 1797.7, 1775.0, 1708.0, 1733.9, 1767.65, 1724.1, 1741.5, 1765.0, 1773.2, 1775.0, 1757.6, 1688.9, 1710.0, 1748.5, 1738.0, 1719.85, 1710.0, 1710.0, 1774.0, 1794.45, 1836.9, 1824.4, 1814.0, 1819.0, 1832.65, 1838.0, 1828.5, 1850.0, 1858.0, 1892.8, 1906.95, 1904.0, 1891.25, 1889.2, 1891.0, 1908.0, 1930.9, 1965.0, 1998.6, 2016.0, 1977.0, 1979.8, 1969.65, 1961.3, 1939.9, 1912.25, 1946.8, 1961.85, 1955.0, 1963.35, 1957.65, 1985.25, 1981.8, 1979.6, 1953.65, 1942.2, 1955.0, 1990.0, 1989.5, 2014.7, 2006.9, 1987.1, 1976.0, 1987.15, 1983.0, 1997.65, 1993.0, 2007.7, 1983.0, 1995.5, 1994.75, 2007.0, 2012.55, 2015.95, 2002.0, 1984.95, 1976.0, 1993.0, 1981.85, 1948.45, 1926.4, 1941.1, 1974.0, 1981.95, 1985.0, 1994.9, 1991.95, 1968.55, 1958.15, 1954.9, 1943.0, 1929.25, 1900.6, 1893.0, 1884.35, 1874.95, 1894.7, 1899.0, 1897.9, 1894.6, 1870.0, 1853.2, 1863.35, 1868.35, 1889.5, 1892.0, 1888.0, 1903.8, 1936.65, 1964.4, 1975.1, 1991.35, 1994.95, 1978.5, 1998.0, 2010.0, 1974.0, 1952.8, 1958.0, 1950.0, 1972.25, 1974.85, 2000.5, 2032.45, 2058.8, 2065.0, 2069.05, 2073.0, 2065.0, 2048.0, 2029.9, 2034.9, 2034.1, 2047.9, 2007.95, 1966.2, 1985.0, 1998.8, 1982.0, 1999.85, 2027.5, 2037.55, 1993.95, 2009.15, 1964.5, 1931.6, 1956.0, 1984.4, 1989.8], \"yaxis\": \"y\"}],                        {\"legend\": {\"title\": {\"text\": \"Stocks\"}, \"tracegroupgap\": 0}, \"margin\": {\"t\": 60}, \"template\": {\"data\": {\"bar\": [{\"error_x\": {\"color\": \"#2a3f5f\"}, \"error_y\": {\"color\": \"#2a3f5f\"}, \"marker\": {\"line\": {\"color\": \"#E5ECF6\", \"width\": 0.5}}, \"type\": \"bar\"}], \"barpolar\": [{\"marker\": {\"line\": {\"color\": \"#E5ECF6\", \"width\": 0.5}}, \"type\": \"barpolar\"}], \"carpet\": [{\"aaxis\": {\"endlinecolor\": \"#2a3f5f\", \"gridcolor\": \"white\", \"linecolor\": \"white\", \"minorgridcolor\": \"white\", \"startlinecolor\": \"#2a3f5f\"}, \"baxis\": {\"endlinecolor\": \"#2a3f5f\", \"gridcolor\": \"white\", \"linecolor\": \"white\", \"minorgridcolor\": \"white\", \"startlinecolor\": \"#2a3f5f\"}, \"type\": \"carpet\"}], \"choropleth\": [{\"colorbar\": {\"outlinewidth\": 0, \"ticks\": \"\"}, \"type\": \"choropleth\"}], \"contour\": [{\"colorbar\": {\"outlinewidth\": 0, \"ticks\": \"\"}, \"colorscale\": [[0.0, \"#0d0887\"], [0.1111111111111111, \"#46039f\"], [0.2222222222222222, \"#7201a8\"], [0.3333333333333333, \"#9c179e\"], [0.4444444444444444, \"#bd3786\"], [0.5555555555555556, \"#d8576b\"], [0.6666666666666666, \"#ed7953\"], [0.7777777777777778, \"#fb9f3a\"], [0.8888888888888888, \"#fdca26\"], [1.0, \"#f0f921\"]], \"type\": \"contour\"}], \"contourcarpet\": [{\"colorbar\": {\"outlinewidth\": 0, \"ticks\": \"\"}, \"type\": \"contourcarpet\"}], \"heatmap\": [{\"colorbar\": {\"outlinewidth\": 0, \"ticks\": \"\"}, \"colorscale\": [[0.0, \"#0d0887\"], [0.1111111111111111, \"#46039f\"], [0.2222222222222222, \"#7201a8\"], [0.3333333333333333, \"#9c179e\"], [0.4444444444444444, \"#bd3786\"], [0.5555555555555556, \"#d8576b\"], [0.6666666666666666, \"#ed7953\"], [0.7777777777777778, \"#fb9f3a\"], [0.8888888888888888, \"#fdca26\"], [1.0, \"#f0f921\"]], \"type\": \"heatmap\"}], \"heatmapgl\": [{\"colorbar\": {\"outlinewidth\": 0, \"ticks\": \"\"}, \"colorscale\": [[0.0, \"#0d0887\"], [0.1111111111111111, \"#46039f\"], [0.2222222222222222, \"#7201a8\"], [0.3333333333333333, \"#9c179e\"], [0.4444444444444444, \"#bd3786\"], [0.5555555555555556, \"#d8576b\"], [0.6666666666666666, \"#ed7953\"], [0.7777777777777778, \"#fb9f3a\"], [0.8888888888888888, \"#fdca26\"], [1.0, \"#f0f921\"]], \"type\": \"heatmapgl\"}], \"histogram\": [{\"marker\": {\"colorbar\": {\"outlinewidth\": 0, \"ticks\": \"\"}}, \"type\": \"histogram\"}], \"histogram2d\": [{\"colorbar\": {\"outlinewidth\": 0, \"ticks\": \"\"}, \"colorscale\": [[0.0, \"#0d0887\"], [0.1111111111111111, \"#46039f\"], [0.2222222222222222, \"#7201a8\"], [0.3333333333333333, \"#9c179e\"], [0.4444444444444444, \"#bd3786\"], [0.5555555555555556, \"#d8576b\"], [0.6666666666666666, \"#ed7953\"], [0.7777777777777778, \"#fb9f3a\"], [0.8888888888888888, \"#fdca26\"], [1.0, \"#f0f921\"]], \"type\": \"histogram2d\"}], \"histogram2dcontour\": [{\"colorbar\": {\"outlinewidth\": 0, \"ticks\": \"\"}, \"colorscale\": [[0.0, \"#0d0887\"], [0.1111111111111111, \"#46039f\"], [0.2222222222222222, \"#7201a8\"], [0.3333333333333333, \"#9c179e\"], [0.4444444444444444, \"#bd3786\"], [0.5555555555555556, \"#d8576b\"], [0.6666666666666666, \"#ed7953\"], [0.7777777777777778, \"#fb9f3a\"], [0.8888888888888888, \"#fdca26\"], [1.0, \"#f0f921\"]], \"type\": \"histogram2dcontour\"}], \"mesh3d\": [{\"colorbar\": {\"outlinewidth\": 0, \"ticks\": \"\"}, \"type\": \"mesh3d\"}], \"parcoords\": [{\"line\": {\"colorbar\": {\"outlinewidth\": 0, \"ticks\": \"\"}}, \"type\": \"parcoords\"}], \"pie\": [{\"automargin\": true, \"type\": \"pie\"}], \"scatter\": [{\"marker\": {\"colorbar\": {\"outlinewidth\": 0, \"ticks\": \"\"}}, \"type\": \"scatter\"}], \"scatter3d\": [{\"line\": {\"colorbar\": {\"outlinewidth\": 0, \"ticks\": \"\"}}, \"marker\": {\"colorbar\": {\"outlinewidth\": 0, \"ticks\": \"\"}}, \"type\": \"scatter3d\"}], \"scattercarpet\": [{\"marker\": {\"colorbar\": {\"outlinewidth\": 0, \"ticks\": \"\"}}, \"type\": \"scattercarpet\"}], \"scattergeo\": [{\"marker\": {\"colorbar\": {\"outlinewidth\": 0, \"ticks\": \"\"}}, \"type\": \"scattergeo\"}], \"scattergl\": [{\"marker\": {\"colorbar\": {\"outlinewidth\": 0, \"ticks\": \"\"}}, \"type\": \"scattergl\"}], \"scattermapbox\": [{\"marker\": {\"colorbar\": {\"outlinewidth\": 0, \"ticks\": \"\"}}, \"type\": \"scattermapbox\"}], \"scatterpolar\": [{\"marker\": {\"colorbar\": {\"outlinewidth\": 0, \"ticks\": \"\"}}, \"type\": \"scatterpolar\"}], \"scatterpolargl\": [{\"marker\": {\"colorbar\": {\"outlinewidth\": 0, \"ticks\": \"\"}}, \"type\": \"scatterpolargl\"}], \"scatterternary\": [{\"marker\": {\"colorbar\": {\"outlinewidth\": 0, \"ticks\": \"\"}}, \"type\": \"scatterternary\"}], \"surface\": [{\"colorbar\": {\"outlinewidth\": 0, \"ticks\": \"\"}, \"colorscale\": [[0.0, \"#0d0887\"], [0.1111111111111111, \"#46039f\"], [0.2222222222222222, \"#7201a8\"], [0.3333333333333333, \"#9c179e\"], [0.4444444444444444, \"#bd3786\"], [0.5555555555555556, \"#d8576b\"], [0.6666666666666666, \"#ed7953\"], [0.7777777777777778, \"#fb9f3a\"], [0.8888888888888888, \"#fdca26\"], [1.0, \"#f0f921\"]], \"type\": \"surface\"}], \"table\": [{\"cells\": {\"fill\": {\"color\": \"#EBF0F8\"}, \"line\": {\"color\": \"white\"}}, \"header\": {\"fill\": {\"color\": \"#C8D4E3\"}, \"line\": {\"color\": \"white\"}}, \"type\": \"table\"}]}, \"layout\": {\"annotationdefaults\": {\"arrowcolor\": \"#2a3f5f\", \"arrowhead\": 0, \"arrowwidth\": 1}, \"autotypenumbers\": \"strict\", \"coloraxis\": {\"colorbar\": {\"outlinewidth\": 0, \"ticks\": \"\"}}, \"colorscale\": {\"diverging\": [[0, \"#8e0152\"], [0.1, \"#c51b7d\"], [0.2, \"#de77ae\"], [0.3, \"#f1b6da\"], [0.4, \"#fde0ef\"], [0.5, \"#f7f7f7\"], [0.6, \"#e6f5d0\"], [0.7, \"#b8e186\"], [0.8, \"#7fbc41\"], [0.9, \"#4d9221\"], [1, \"#276419\"]], \"sequential\": [[0.0, \"#0d0887\"], [0.1111111111111111, \"#46039f\"], [0.2222222222222222, \"#7201a8\"], [0.3333333333333333, \"#9c179e\"], [0.4444444444444444, \"#bd3786\"], [0.5555555555555556, \"#d8576b\"], [0.6666666666666666, \"#ed7953\"], [0.7777777777777778, \"#fb9f3a\"], [0.8888888888888888, \"#fdca26\"], [1.0, \"#f0f921\"]], \"sequentialminus\": [[0.0, \"#0d0887\"], [0.1111111111111111, \"#46039f\"], [0.2222222222222222, \"#7201a8\"], [0.3333333333333333, \"#9c179e\"], [0.4444444444444444, \"#bd3786\"], [0.5555555555555556, \"#d8576b\"], [0.6666666666666666, \"#ed7953\"], [0.7777777777777778, \"#fb9f3a\"], [0.8888888888888888, \"#fdca26\"], [1.0, \"#f0f921\"]]}, \"colorway\": [\"#636efa\", \"#EF553B\", \"#00cc96\", \"#ab63fa\", \"#FFA15A\", \"#19d3f3\", \"#FF6692\", \"#B6E880\", \"#FF97FF\", \"#FECB52\"], \"font\": {\"color\": \"#2a3f5f\"}, \"geo\": {\"bgcolor\": \"white\", \"lakecolor\": \"white\", \"landcolor\": \"#E5ECF6\", \"showlakes\": true, \"showland\": true, \"subunitcolor\": \"white\"}, \"hoverlabel\": {\"align\": \"left\"}, \"hovermode\": \"closest\", \"mapbox\": {\"style\": \"light\"}, \"paper_bgcolor\": \"white\", \"plot_bgcolor\": \"#E5ECF6\", \"polar\": {\"angularaxis\": {\"gridcolor\": \"white\", \"linecolor\": \"white\", \"ticks\": \"\"}, \"bgcolor\": \"#E5ECF6\", \"radialaxis\": {\"gridcolor\": \"white\", \"linecolor\": \"white\", \"ticks\": \"\"}}, \"scene\": {\"xaxis\": {\"backgroundcolor\": \"#E5ECF6\", \"gridcolor\": \"white\", \"gridwidth\": 2, \"linecolor\": \"white\", \"showbackground\": true, \"ticks\": \"\", \"zerolinecolor\": \"white\"}, \"yaxis\": {\"backgroundcolor\": \"#E5ECF6\", \"gridcolor\": \"white\", \"gridwidth\": 2, \"linecolor\": \"white\", \"showbackground\": true, \"ticks\": \"\", \"zerolinecolor\": \"white\"}, \"zaxis\": {\"backgroundcolor\": \"#E5ECF6\", \"gridcolor\": \"white\", \"gridwidth\": 2, \"linecolor\": \"white\", \"showbackground\": true, \"ticks\": \"\", \"zerolinecolor\": \"white\"}}, \"shapedefaults\": {\"line\": {\"color\": \"#2a3f5f\"}}, \"ternary\": {\"aaxis\": {\"gridcolor\": \"white\", \"linecolor\": \"white\", \"ticks\": \"\"}, \"baxis\": {\"gridcolor\": \"white\", \"linecolor\": \"white\", \"ticks\": \"\"}, \"bgcolor\": \"#E5ECF6\", \"caxis\": {\"gridcolor\": \"white\", \"linecolor\": \"white\", \"ticks\": \"\"}}, \"title\": {\"x\": 0.05}, \"xaxis\": {\"automargin\": true, \"gridcolor\": \"white\", \"linecolor\": \"white\", \"ticks\": \"\", \"title\": {\"standoff\": 15}, \"zerolinecolor\": \"white\", \"zerolinewidth\": 2}, \"yaxis\": {\"automargin\": true, \"gridcolor\": \"white\", \"linecolor\": \"white\", \"ticks\": \"\", \"title\": {\"standoff\": 15}, \"zerolinecolor\": \"white\", \"zerolinewidth\": 2}}}, \"title\": {\"text\": \"Stock Prices of Selected Stocks\"}, \"xaxis\": {\"anchor\": \"y\", \"domain\": [0.0, 1.0], \"title\": {\"text\": \"Daily High\"}}, \"yaxis\": {\"anchor\": \"x\", \"domain\": [0.0, 1.0], \"title\": {\"text\": \"Date\"}}},                        {\"responsive\": true}                    ).then(function(){\n",
       "                            \n",
       "var gd = document.getElementById('f6a40b71-dcde-4561-a87c-db605d9bcb2b');\n",
       "var x = new MutationObserver(function (mutations, observer) {{\n",
       "        var display = window.getComputedStyle(gd).display;\n",
       "        if (!display || display === 'none') {{\n",
       "            console.log([gd, 'removed!']);\n",
       "            Plotly.purge(gd);\n",
       "            observer.disconnect();\n",
       "        }}\n",
       "}});\n",
       "\n",
       "// Listen for the removal of the full notebook cells\n",
       "var notebookContainer = gd.closest('#notebook-container');\n",
       "if (notebookContainer) {{\n",
       "    x.observe(notebookContainer, {childList: true});\n",
       "}}\n",
       "\n",
       "// Listen for the clearing of the current output cell\n",
       "var outputEl = gd.closest('.output');\n",
       "if (outputEl) {{\n",
       "    x.observe(outputEl, {childList: true});\n",
       "}}\n",
       "\n",
       "                        })                };                });            </script>        </div>"
      ]
     },
     "metadata": {},
     "output_type": "display_data"
    }
   ],
   "source": [
    "fig = px.line(df_merged, x='date', y='high', color='stock_name')\n",
    "\n",
    "fig.update_layout(title=\"Stock Prices of Selected Stocks\", \n",
    "                  xaxis_title=\"Daily High\", \n",
    "                  yaxis_title=\"Date\", \n",
    "                  legend_title=\"Stocks\", \n",
    "                 )\n",
    "\n",
    "fig.show()"
   ]
  },
  {
   "cell_type": "code",
   "execution_count": 26,
   "id": "vietnamese-titanium",
   "metadata": {
    "_kg_hide-input": true,
    "execution": {
     "iopub.execute_input": "2021-05-31T18:42:52.091144Z",
     "iopub.status.busy": "2021-05-31T18:42:52.090456Z",
     "iopub.status.idle": "2021-05-31T18:42:52.093698Z",
     "shell.execute_reply": "2021-05-31T18:42:52.093153Z",
     "shell.execute_reply.started": "2021-05-31T17:18:51.572515Z"
    },
    "papermill": {
     "duration": 0.063312,
     "end_time": "2021-05-31T18:42:52.093839",
     "exception": false,
     "start_time": "2021-05-31T18:42:52.030527",
     "status": "completed"
    },
    "tags": []
   },
   "outputs": [],
   "source": [
    "def convert_df_to_yearly(file_paths=file_paths):\n",
    "    final_df = pd.DataFrame()\n",
    "    for file_path in file_paths:\n",
    "        df = pd.read_pickle(file_path)\n",
    "        df = pd.DataFrame(df)\n",
    "        \n",
    "        # Getting Stock Name\n",
    "        pattern = \"historical\\/(.*?)\\-\"\n",
    "        stock_name = re.search(pattern, file_path).group(1)\n",
    "        \n",
    "        # Preprocessing\n",
    "        \n",
    "        df['date'] = df['date'].apply(pd.to_datetime)\n",
    "        df['time'] = df['date'].dt.time\n",
    "        df['year'] = df['date'].dt.strftime('%Y')\n",
    "        df['date'] = df['date'].dt.date\n",
    "        \n",
    "        temp = df.groupby(['year']).agg({'low':'min', 'high':'max', 'open':'first', 'close':'last', 'volume':'sum'})\n",
    "#         print(temp)\n",
    "        temp = temp.reset_index()\n",
    "#         temp.date = temp.date.apply(pd.to_datetime)\n",
    "#         temp = add_missing_data(temp, '2015-02-02', '2019-05-15')\n",
    "        temp = temp.reset_index()\n",
    "        temp['stock_name'] = stock_name\n",
    "        \n",
    "        final_df = final_df.append(temp, ignore_index=True)\n",
    "    \n",
    "    return final_df"
   ]
  },
  {
   "cell_type": "code",
   "execution_count": 27,
   "id": "clear-blair",
   "metadata": {
    "execution": {
     "iopub.execute_input": "2021-05-31T18:42:52.201890Z",
     "iopub.status.busy": "2021-05-31T18:42:52.201253Z",
     "iopub.status.idle": "2021-05-31T18:42:56.995165Z",
     "shell.execute_reply": "2021-05-31T18:42:56.994587Z",
     "shell.execute_reply.started": "2021-05-31T17:19:25.908196Z"
    },
    "papermill": {
     "duration": 4.849527,
     "end_time": "2021-05-31T18:42:56.995304",
     "exception": false,
     "start_time": "2021-05-31T18:42:52.145777",
     "status": "completed"
    },
    "tags": []
   },
   "outputs": [],
   "source": [
    "df_yearly = convert_df_to_yearly()"
   ]
  },
  {
   "cell_type": "code",
   "execution_count": 28,
   "id": "indonesian-punch",
   "metadata": {
    "execution": {
     "iopub.execute_input": "2021-05-31T18:42:57.112459Z",
     "iopub.status.busy": "2021-05-31T18:42:57.108146Z",
     "iopub.status.idle": "2021-05-31T18:42:57.336441Z",
     "shell.execute_reply": "2021-05-31T18:42:57.335877Z",
     "shell.execute_reply.started": "2021-05-31T17:28:14.427227Z"
    },
    "papermill": {
     "duration": 0.289635,
     "end_time": "2021-05-31T18:42:57.336585",
     "exception": false,
     "start_time": "2021-05-31T18:42:57.046950",
     "status": "completed"
    },
    "tags": []
   },
   "outputs": [
    {
     "data": {
      "text/html": [
       "<div>                            <div id=\"526d726b-eb47-44c1-8059-01c0381c5a05\" class=\"plotly-graph-div\" style=\"height:525px; width:100%;\"></div>            <script type=\"text/javascript\">                require([\"plotly\"], function(Plotly) {                    window.PLOTLYENV=window.PLOTLYENV || {};                                    if (document.getElementById(\"526d726b-eb47-44c1-8059-01c0381c5a05\")) {                    Plotly.newPlot(                        \"526d726b-eb47-44c1-8059-01c0381c5a05\",                        [{\"alignmentgroup\": \"True\", \"hovertemplate\": \"stock_name=%{x}<br>year=2015<br>low=%{y}<extra></extra>\", \"legendgroup\": \"RELIANCE\", \"marker\": {\"color\": \"#636efa\"}, \"name\": \"RELIANCE\", \"offsetgroup\": \"RELIANCE\", \"orientation\": \"v\", \"showlegend\": true, \"textposition\": \"auto\", \"type\": \"bar\", \"x\": [\"RELIANCE\"], \"xaxis\": \"x\", \"y\": [398.28], \"yaxis\": \"y\"}, {\"alignmentgroup\": \"True\", \"hovertemplate\": \"stock_name=%{x}<br>year=2015<br>low=%{y}<extra></extra>\", \"legendgroup\": \"TCS\", \"marker\": {\"color\": \"#EF553B\"}, \"name\": \"TCS\", \"offsetgroup\": \"TCS\", \"orientation\": \"v\", \"showlegend\": true, \"textposition\": \"auto\", \"type\": \"bar\", \"x\": [\"TCS\"], \"xaxis\": \"x\", \"y\": [1157.63], \"yaxis\": \"y\"}, {\"alignmentgroup\": \"True\", \"hovertemplate\": \"stock_name=%{x}<br>year=2015<br>low=%{y}<extra></extra>\", \"legendgroup\": \"WIPRO\", \"marker\": {\"color\": \"#00cc96\"}, \"name\": \"WIPRO\", \"offsetgroup\": \"WIPRO\", \"orientation\": \"v\", \"showlegend\": true, \"textposition\": \"auto\", \"type\": \"bar\", \"x\": [\"WIPRO\"], \"xaxis\": \"x\", \"y\": [192.67], \"yaxis\": \"y\"}, {\"alignmentgroup\": \"True\", \"hovertemplate\": \"stock_name=%{x}<br>year=2015<br>low=%{y}<extra></extra>\", \"legendgroup\": \"ASIANPAINT\", \"marker\": {\"color\": \"#ab63fa\"}, \"name\": \"ASIANPAINT\", \"offsetgroup\": \"ASIANPAINT\", \"orientation\": \"v\", \"showlegend\": true, \"textposition\": \"auto\", \"type\": \"bar\", \"x\": [\"ASIANPAINT\"], \"xaxis\": \"x\", \"y\": [693.0], \"yaxis\": \"y\"}, {\"alignmentgroup\": \"True\", \"hovertemplate\": \"stock_name=%{x}<br>year=2015<br>low=%{y}<extra></extra>\", \"legendgroup\": \"HDFC\", \"marker\": {\"color\": \"#FFA15A\"}, \"name\": \"HDFC\", \"offsetgroup\": \"HDFC\", \"orientation\": \"v\", \"showlegend\": true, \"textposition\": \"auto\", \"type\": \"bar\", \"x\": [\"HDFC\"], \"xaxis\": \"x\", \"y\": [1093.2], \"yaxis\": \"y\"}],                        {\"barmode\": \"relative\", \"legend\": {\"title\": {\"text\": \"stock_name\"}, \"tracegroupgap\": 0}, \"margin\": {\"t\": 60}, \"showlegend\": false, \"sliders\": [{\"active\": 0, \"currentvalue\": {\"prefix\": \"year=\"}, \"len\": 0.9, \"pad\": {\"b\": 10, \"t\": 60}, \"steps\": [{\"args\": [[\"2015\"], {\"frame\": {\"duration\": 0, \"redraw\": true}, \"fromcurrent\": true, \"mode\": \"immediate\", \"transition\": {\"duration\": 0, \"easing\": \"linear\"}}], \"label\": \"2015\", \"method\": \"animate\"}, {\"args\": [[\"2016\"], {\"frame\": {\"duration\": 0, \"redraw\": true}, \"fromcurrent\": true, \"mode\": \"immediate\", \"transition\": {\"duration\": 0, \"easing\": \"linear\"}}], \"label\": \"2016\", \"method\": \"animate\"}, {\"args\": [[\"2017\"], {\"frame\": {\"duration\": 0, \"redraw\": true}, \"fromcurrent\": true, \"mode\": \"immediate\", \"transition\": {\"duration\": 0, \"easing\": \"linear\"}}], \"label\": \"2017\", \"method\": \"animate\"}, {\"args\": [[\"2018\"], {\"frame\": {\"duration\": 0, \"redraw\": true}, \"fromcurrent\": true, \"mode\": \"immediate\", \"transition\": {\"duration\": 0, \"easing\": \"linear\"}}], \"label\": \"2018\", \"method\": \"animate\"}, {\"args\": [[\"2019\"], {\"frame\": {\"duration\": 0, \"redraw\": true}, \"fromcurrent\": true, \"mode\": \"immediate\", \"transition\": {\"duration\": 0, \"easing\": \"linear\"}}], \"label\": \"2019\", \"method\": \"animate\"}], \"x\": 0.1, \"xanchor\": \"left\", \"y\": 0, \"yanchor\": \"top\"}], \"template\": {\"data\": {\"bar\": [{\"error_x\": {\"color\": \"#2a3f5f\"}, \"error_y\": {\"color\": \"#2a3f5f\"}, \"marker\": {\"line\": {\"color\": \"#E5ECF6\", \"width\": 0.5}}, \"type\": \"bar\"}], \"barpolar\": [{\"marker\": {\"line\": {\"color\": \"#E5ECF6\", \"width\": 0.5}}, \"type\": \"barpolar\"}], \"carpet\": [{\"aaxis\": {\"endlinecolor\": \"#2a3f5f\", \"gridcolor\": \"white\", \"linecolor\": \"white\", \"minorgridcolor\": \"white\", \"startlinecolor\": \"#2a3f5f\"}, \"baxis\": {\"endlinecolor\": \"#2a3f5f\", \"gridcolor\": \"white\", \"linecolor\": \"white\", \"minorgridcolor\": \"white\", \"startlinecolor\": \"#2a3f5f\"}, \"type\": \"carpet\"}], \"choropleth\": [{\"colorbar\": {\"outlinewidth\": 0, \"ticks\": \"\"}, \"type\": \"choropleth\"}], \"contour\": [{\"colorbar\": {\"outlinewidth\": 0, \"ticks\": \"\"}, \"colorscale\": [[0.0, \"#0d0887\"], [0.1111111111111111, \"#46039f\"], [0.2222222222222222, \"#7201a8\"], [0.3333333333333333, \"#9c179e\"], [0.4444444444444444, \"#bd3786\"], [0.5555555555555556, \"#d8576b\"], [0.6666666666666666, \"#ed7953\"], [0.7777777777777778, \"#fb9f3a\"], [0.8888888888888888, \"#fdca26\"], [1.0, \"#f0f921\"]], \"type\": \"contour\"}], \"contourcarpet\": [{\"colorbar\": {\"outlinewidth\": 0, \"ticks\": \"\"}, \"type\": \"contourcarpet\"}], \"heatmap\": [{\"colorbar\": {\"outlinewidth\": 0, \"ticks\": \"\"}, \"colorscale\": [[0.0, \"#0d0887\"], [0.1111111111111111, \"#46039f\"], [0.2222222222222222, \"#7201a8\"], [0.3333333333333333, \"#9c179e\"], [0.4444444444444444, \"#bd3786\"], [0.5555555555555556, \"#d8576b\"], [0.6666666666666666, \"#ed7953\"], [0.7777777777777778, \"#fb9f3a\"], [0.8888888888888888, \"#fdca26\"], [1.0, \"#f0f921\"]], \"type\": \"heatmap\"}], \"heatmapgl\": [{\"colorbar\": {\"outlinewidth\": 0, \"ticks\": \"\"}, \"colorscale\": [[0.0, \"#0d0887\"], [0.1111111111111111, \"#46039f\"], [0.2222222222222222, \"#7201a8\"], [0.3333333333333333, \"#9c179e\"], [0.4444444444444444, \"#bd3786\"], [0.5555555555555556, \"#d8576b\"], [0.6666666666666666, \"#ed7953\"], [0.7777777777777778, \"#fb9f3a\"], [0.8888888888888888, \"#fdca26\"], [1.0, \"#f0f921\"]], \"type\": \"heatmapgl\"}], \"histogram\": [{\"marker\": {\"colorbar\": {\"outlinewidth\": 0, \"ticks\": \"\"}}, \"type\": \"histogram\"}], \"histogram2d\": [{\"colorbar\": {\"outlinewidth\": 0, \"ticks\": \"\"}, \"colorscale\": [[0.0, \"#0d0887\"], [0.1111111111111111, \"#46039f\"], [0.2222222222222222, \"#7201a8\"], [0.3333333333333333, \"#9c179e\"], [0.4444444444444444, \"#bd3786\"], [0.5555555555555556, \"#d8576b\"], [0.6666666666666666, \"#ed7953\"], [0.7777777777777778, \"#fb9f3a\"], [0.8888888888888888, \"#fdca26\"], [1.0, \"#f0f921\"]], \"type\": \"histogram2d\"}], \"histogram2dcontour\": [{\"colorbar\": {\"outlinewidth\": 0, \"ticks\": \"\"}, \"colorscale\": [[0.0, \"#0d0887\"], [0.1111111111111111, \"#46039f\"], [0.2222222222222222, \"#7201a8\"], [0.3333333333333333, \"#9c179e\"], [0.4444444444444444, \"#bd3786\"], [0.5555555555555556, \"#d8576b\"], [0.6666666666666666, \"#ed7953\"], [0.7777777777777778, \"#fb9f3a\"], [0.8888888888888888, \"#fdca26\"], [1.0, \"#f0f921\"]], \"type\": \"histogram2dcontour\"}], \"mesh3d\": [{\"colorbar\": {\"outlinewidth\": 0, \"ticks\": \"\"}, \"type\": \"mesh3d\"}], \"parcoords\": [{\"line\": {\"colorbar\": {\"outlinewidth\": 0, \"ticks\": \"\"}}, \"type\": \"parcoords\"}], \"pie\": [{\"automargin\": true, \"type\": \"pie\"}], \"scatter\": [{\"marker\": {\"colorbar\": {\"outlinewidth\": 0, \"ticks\": \"\"}}, \"type\": \"scatter\"}], \"scatter3d\": [{\"line\": {\"colorbar\": {\"outlinewidth\": 0, \"ticks\": \"\"}}, \"marker\": {\"colorbar\": {\"outlinewidth\": 0, \"ticks\": \"\"}}, \"type\": \"scatter3d\"}], \"scattercarpet\": [{\"marker\": {\"colorbar\": {\"outlinewidth\": 0, \"ticks\": \"\"}}, \"type\": \"scattercarpet\"}], \"scattergeo\": [{\"marker\": {\"colorbar\": {\"outlinewidth\": 0, \"ticks\": \"\"}}, \"type\": \"scattergeo\"}], \"scattergl\": [{\"marker\": {\"colorbar\": {\"outlinewidth\": 0, \"ticks\": \"\"}}, \"type\": \"scattergl\"}], \"scattermapbox\": [{\"marker\": {\"colorbar\": {\"outlinewidth\": 0, \"ticks\": \"\"}}, \"type\": \"scattermapbox\"}], \"scatterpolar\": [{\"marker\": {\"colorbar\": {\"outlinewidth\": 0, \"ticks\": \"\"}}, \"type\": \"scatterpolar\"}], \"scatterpolargl\": [{\"marker\": {\"colorbar\": {\"outlinewidth\": 0, \"ticks\": \"\"}}, \"type\": \"scatterpolargl\"}], \"scatterternary\": [{\"marker\": {\"colorbar\": {\"outlinewidth\": 0, \"ticks\": \"\"}}, \"type\": \"scatterternary\"}], \"surface\": [{\"colorbar\": {\"outlinewidth\": 0, \"ticks\": \"\"}, \"colorscale\": [[0.0, \"#0d0887\"], [0.1111111111111111, \"#46039f\"], [0.2222222222222222, \"#7201a8\"], [0.3333333333333333, \"#9c179e\"], [0.4444444444444444, \"#bd3786\"], [0.5555555555555556, \"#d8576b\"], [0.6666666666666666, \"#ed7953\"], [0.7777777777777778, \"#fb9f3a\"], [0.8888888888888888, \"#fdca26\"], [1.0, \"#f0f921\"]], \"type\": \"surface\"}], \"table\": [{\"cells\": {\"fill\": {\"color\": \"#EBF0F8\"}, \"line\": {\"color\": \"white\"}}, \"header\": {\"fill\": {\"color\": \"#C8D4E3\"}, \"line\": {\"color\": \"white\"}}, \"type\": \"table\"}]}, \"layout\": {\"annotationdefaults\": {\"arrowcolor\": \"#2a3f5f\", \"arrowhead\": 0, \"arrowwidth\": 1}, \"autotypenumbers\": \"strict\", \"coloraxis\": {\"colorbar\": {\"outlinewidth\": 0, \"ticks\": \"\"}}, \"colorscale\": {\"diverging\": [[0, \"#8e0152\"], [0.1, \"#c51b7d\"], [0.2, \"#de77ae\"], [0.3, \"#f1b6da\"], [0.4, \"#fde0ef\"], [0.5, \"#f7f7f7\"], [0.6, \"#e6f5d0\"], [0.7, \"#b8e186\"], [0.8, \"#7fbc41\"], [0.9, \"#4d9221\"], [1, \"#276419\"]], \"sequential\": [[0.0, \"#0d0887\"], [0.1111111111111111, \"#46039f\"], [0.2222222222222222, \"#7201a8\"], [0.3333333333333333, \"#9c179e\"], [0.4444444444444444, \"#bd3786\"], [0.5555555555555556, \"#d8576b\"], [0.6666666666666666, \"#ed7953\"], [0.7777777777777778, \"#fb9f3a\"], [0.8888888888888888, \"#fdca26\"], [1.0, \"#f0f921\"]], \"sequentialminus\": [[0.0, \"#0d0887\"], [0.1111111111111111, \"#46039f\"], [0.2222222222222222, \"#7201a8\"], [0.3333333333333333, \"#9c179e\"], [0.4444444444444444, \"#bd3786\"], [0.5555555555555556, \"#d8576b\"], [0.6666666666666666, \"#ed7953\"], [0.7777777777777778, \"#fb9f3a\"], [0.8888888888888888, \"#fdca26\"], [1.0, \"#f0f921\"]]}, \"colorway\": [\"#636efa\", \"#EF553B\", \"#00cc96\", \"#ab63fa\", \"#FFA15A\", \"#19d3f3\", \"#FF6692\", \"#B6E880\", \"#FF97FF\", \"#FECB52\"], \"font\": {\"color\": \"#2a3f5f\"}, \"geo\": {\"bgcolor\": \"white\", \"lakecolor\": \"white\", \"landcolor\": \"#E5ECF6\", \"showlakes\": true, \"showland\": true, \"subunitcolor\": \"white\"}, \"hoverlabel\": {\"align\": \"left\"}, \"hovermode\": \"closest\", \"mapbox\": {\"style\": \"light\"}, \"paper_bgcolor\": \"white\", \"plot_bgcolor\": \"#E5ECF6\", \"polar\": {\"angularaxis\": {\"gridcolor\": \"white\", \"linecolor\": \"white\", \"ticks\": \"\"}, \"bgcolor\": \"#E5ECF6\", \"radialaxis\": {\"gridcolor\": \"white\", \"linecolor\": \"white\", \"ticks\": \"\"}}, \"scene\": {\"xaxis\": {\"backgroundcolor\": \"#E5ECF6\", \"gridcolor\": \"white\", \"gridwidth\": 2, \"linecolor\": \"white\", \"showbackground\": true, \"ticks\": \"\", \"zerolinecolor\": \"white\"}, \"yaxis\": {\"backgroundcolor\": \"#E5ECF6\", \"gridcolor\": \"white\", \"gridwidth\": 2, \"linecolor\": \"white\", \"showbackground\": true, \"ticks\": \"\", \"zerolinecolor\": \"white\"}, \"zaxis\": {\"backgroundcolor\": \"#E5ECF6\", \"gridcolor\": \"white\", \"gridwidth\": 2, \"linecolor\": \"white\", \"showbackground\": true, \"ticks\": \"\", \"zerolinecolor\": \"white\"}}, \"shapedefaults\": {\"line\": {\"color\": \"#2a3f5f\"}}, \"ternary\": {\"aaxis\": {\"gridcolor\": \"white\", \"linecolor\": \"white\", \"ticks\": \"\"}, \"baxis\": {\"gridcolor\": \"white\", \"linecolor\": \"white\", \"ticks\": \"\"}, \"bgcolor\": \"#E5ECF6\", \"caxis\": {\"gridcolor\": \"white\", \"linecolor\": \"white\", \"ticks\": \"\"}}, \"title\": {\"x\": 0.05}, \"xaxis\": {\"automargin\": true, \"gridcolor\": \"white\", \"linecolor\": \"white\", \"ticks\": \"\", \"title\": {\"standoff\": 15}, \"zerolinecolor\": \"white\", \"zerolinewidth\": 2}, \"yaxis\": {\"automargin\": true, \"gridcolor\": \"white\", \"linecolor\": \"white\", \"ticks\": \"\", \"title\": {\"standoff\": 15}, \"zerolinecolor\": \"white\", \"zerolinewidth\": 2}}}, \"title\": {\"text\": \"Yearly change in Stock Prices\"}, \"updatemenus\": [{\"buttons\": [{\"args\": [null, {\"frame\": {\"duration\": 500, \"redraw\": true}, \"fromcurrent\": true, \"mode\": \"immediate\", \"transition\": {\"duration\": 500, \"easing\": \"linear\"}}], \"label\": \"&#9654;\", \"method\": \"animate\"}, {\"args\": [[null], {\"frame\": {\"duration\": 0, \"redraw\": true}, \"fromcurrent\": true, \"mode\": \"immediate\", \"transition\": {\"duration\": 0, \"easing\": \"linear\"}}], \"label\": \"&#9724;\", \"method\": \"animate\"}], \"direction\": \"left\", \"pad\": {\"r\": 10, \"t\": 70}, \"showactive\": false, \"type\": \"buttons\", \"x\": 0.1, \"xanchor\": \"right\", \"y\": 0, \"yanchor\": \"top\"}], \"xaxis\": {\"anchor\": \"y\", \"categoryarray\": [\"RELIANCE\", \"TCS\", \"WIPRO\", \"ASIANPAINT\", \"HDFC\"], \"categoryorder\": \"array\", \"domain\": [0.0, 1.0], \"title\": {\"text\": \"Stocks\"}}, \"yaxis\": {\"anchor\": \"x\", \"domain\": [0.0, 1.0], \"range\": [0, 2500], \"title\": {\"text\": \"Low(\\u20b9)\"}}},                        {\"responsive\": true}                    ).then(function(){\n",
       "                            Plotly.addFrames('526d726b-eb47-44c1-8059-01c0381c5a05', [{\"data\": [{\"alignmentgroup\": \"True\", \"hovertemplate\": \"stock_name=%{x}<br>year=2015<br>low=%{y}<extra></extra>\", \"legendgroup\": \"RELIANCE\", \"marker\": {\"color\": \"#636efa\"}, \"name\": \"RELIANCE\", \"offsetgroup\": \"RELIANCE\", \"orientation\": \"v\", \"showlegend\": true, \"textposition\": \"auto\", \"x\": [\"RELIANCE\"], \"xaxis\": \"x\", \"y\": [398.28], \"yaxis\": \"y\", \"type\": \"bar\"}, {\"alignmentgroup\": \"True\", \"hovertemplate\": \"stock_name=%{x}<br>year=2015<br>low=%{y}<extra></extra>\", \"legendgroup\": \"TCS\", \"marker\": {\"color\": \"#EF553B\"}, \"name\": \"TCS\", \"offsetgroup\": \"TCS\", \"orientation\": \"v\", \"showlegend\": true, \"textposition\": \"auto\", \"x\": [\"TCS\"], \"xaxis\": \"x\", \"y\": [1157.63], \"yaxis\": \"y\", \"type\": \"bar\"}, {\"alignmentgroup\": \"True\", \"hovertemplate\": \"stock_name=%{x}<br>year=2015<br>low=%{y}<extra></extra>\", \"legendgroup\": \"WIPRO\", \"marker\": {\"color\": \"#00cc96\"}, \"name\": \"WIPRO\", \"offsetgroup\": \"WIPRO\", \"orientation\": \"v\", \"showlegend\": true, \"textposition\": \"auto\", \"x\": [\"WIPRO\"], \"xaxis\": \"x\", \"y\": [192.67], \"yaxis\": \"y\", \"type\": \"bar\"}, {\"alignmentgroup\": \"True\", \"hovertemplate\": \"stock_name=%{x}<br>year=2015<br>low=%{y}<extra></extra>\", \"legendgroup\": \"ASIANPAINT\", \"marker\": {\"color\": \"#ab63fa\"}, \"name\": \"ASIANPAINT\", \"offsetgroup\": \"ASIANPAINT\", \"orientation\": \"v\", \"showlegend\": true, \"textposition\": \"auto\", \"x\": [\"ASIANPAINT\"], \"xaxis\": \"x\", \"y\": [693.0], \"yaxis\": \"y\", \"type\": \"bar\"}, {\"alignmentgroup\": \"True\", \"hovertemplate\": \"stock_name=%{x}<br>year=2015<br>low=%{y}<extra></extra>\", \"legendgroup\": \"HDFC\", \"marker\": {\"color\": \"#FFA15A\"}, \"name\": \"HDFC\", \"offsetgroup\": \"HDFC\", \"orientation\": \"v\", \"showlegend\": true, \"textposition\": \"auto\", \"x\": [\"HDFC\"], \"xaxis\": \"x\", \"y\": [1093.2], \"yaxis\": \"y\", \"type\": \"bar\"}], \"name\": \"2015\"}, {\"data\": [{\"alignmentgroup\": \"True\", \"hovertemplate\": \"stock_name=%{x}<br>year=2016<br>low=%{y}<extra></extra>\", \"legendgroup\": \"RELIANCE\", \"marker\": {\"color\": \"#636efa\"}, \"name\": \"RELIANCE\", \"offsetgroup\": \"RELIANCE\", \"orientation\": \"v\", \"showlegend\": true, \"textposition\": \"auto\", \"x\": [\"RELIANCE\"], \"xaxis\": \"x\", \"y\": [444.15], \"yaxis\": \"y\", \"type\": \"bar\"}, {\"alignmentgroup\": \"True\", \"hovertemplate\": \"stock_name=%{x}<br>year=2016<br>low=%{y}<extra></extra>\", \"legendgroup\": \"TCS\", \"marker\": {\"color\": \"#EF553B\"}, \"name\": \"TCS\", \"offsetgroup\": \"TCS\", \"orientation\": \"v\", \"showlegend\": true, \"textposition\": \"auto\", \"x\": [\"TCS\"], \"xaxis\": \"x\", \"y\": [1026.0], \"yaxis\": \"y\", \"type\": \"bar\"}, {\"alignmentgroup\": \"True\", \"hovertemplate\": \"stock_name=%{x}<br>year=2016<br>low=%{y}<extra></extra>\", \"legendgroup\": \"WIPRO\", \"marker\": {\"color\": \"#00cc96\"}, \"name\": \"WIPRO\", \"offsetgroup\": \"WIPRO\", \"orientation\": \"v\", \"showlegend\": true, \"textposition\": \"auto\", \"x\": [\"WIPRO\"], \"xaxis\": \"x\", \"y\": [153.42], \"yaxis\": \"y\", \"type\": \"bar\"}, {\"alignmentgroup\": \"True\", \"hovertemplate\": \"stock_name=%{x}<br>year=2016<br>low=%{y}<extra></extra>\", \"legendgroup\": \"ASIANPAINT\", \"marker\": {\"color\": \"#ab63fa\"}, \"name\": \"ASIANPAINT\", \"offsetgroup\": \"ASIANPAINT\", \"orientation\": \"v\", \"showlegend\": true, \"textposition\": \"auto\", \"x\": [\"ASIANPAINT\"], \"xaxis\": \"x\", \"y\": [826.8], \"yaxis\": \"y\", \"type\": \"bar\"}, {\"alignmentgroup\": \"True\", \"hovertemplate\": \"stock_name=%{x}<br>year=2016<br>low=%{y}<extra></extra>\", \"legendgroup\": \"HDFC\", \"marker\": {\"color\": \"#FFA15A\"}, \"name\": \"HDFC\", \"offsetgroup\": \"HDFC\", \"orientation\": \"v\", \"showlegend\": true, \"textposition\": \"auto\", \"x\": [\"HDFC\"], \"xaxis\": \"x\", \"y\": [1012.05], \"yaxis\": \"y\", \"type\": \"bar\"}], \"name\": \"2016\"}, {\"data\": [{\"alignmentgroup\": \"True\", \"hovertemplate\": \"stock_name=%{x}<br>year=2017<br>low=%{y}<extra></extra>\", \"legendgroup\": \"RELIANCE\", \"marker\": {\"color\": \"#636efa\"}, \"name\": \"RELIANCE\", \"offsetgroup\": \"RELIANCE\", \"orientation\": \"v\", \"showlegend\": true, \"textposition\": \"auto\", \"x\": [\"RELIANCE\"], \"xaxis\": \"x\", \"y\": [506.6], \"yaxis\": \"y\", \"type\": \"bar\"}, {\"alignmentgroup\": \"True\", \"hovertemplate\": \"stock_name=%{x}<br>year=2017<br>low=%{y}<extra></extra>\", \"legendgroup\": \"TCS\", \"marker\": {\"color\": \"#EF553B\"}, \"name\": \"TCS\", \"offsetgroup\": \"TCS\", \"orientation\": \"v\", \"showlegend\": true, \"textposition\": \"auto\", \"x\": [\"TCS\"], \"xaxis\": \"x\", \"y\": [1076.5], \"yaxis\": \"y\", \"type\": \"bar\"}, {\"alignmentgroup\": \"True\", \"hovertemplate\": \"stock_name=%{x}<br>year=2017<br>low=%{y}<extra></extra>\", \"legendgroup\": \"WIPRO\", \"marker\": {\"color\": \"#00cc96\"}, \"name\": \"WIPRO\", \"offsetgroup\": \"WIPRO\", \"orientation\": \"v\", \"showlegend\": true, \"textposition\": \"auto\", \"x\": [\"WIPRO\"], \"xaxis\": \"x\", \"y\": [167.52], \"yaxis\": \"y\", \"type\": \"bar\"}, {\"alignmentgroup\": \"True\", \"hovertemplate\": \"stock_name=%{x}<br>year=2017<br>low=%{y}<extra></extra>\", \"legendgroup\": \"ASIANPAINT\", \"marker\": {\"color\": \"#ab63fa\"}, \"name\": \"ASIANPAINT\", \"offsetgroup\": \"ASIANPAINT\", \"orientation\": \"v\", \"showlegend\": true, \"textposition\": \"auto\", \"x\": [\"ASIANPAINT\"], \"xaxis\": \"x\", \"y\": [882.85], \"yaxis\": \"y\", \"type\": \"bar\"}, {\"alignmentgroup\": \"True\", \"hovertemplate\": \"stock_name=%{x}<br>year=2017<br>low=%{y}<extra></extra>\", \"legendgroup\": \"HDFC\", \"marker\": {\"color\": \"#FFA15A\"}, \"name\": \"HDFC\", \"offsetgroup\": \"HDFC\", \"orientation\": \"v\", \"showlegend\": true, \"textposition\": \"auto\", \"x\": [\"HDFC\"], \"xaxis\": \"x\", \"y\": [1197.45], \"yaxis\": \"y\", \"type\": \"bar\"}], \"name\": \"2017\"}, {\"data\": [{\"alignmentgroup\": \"True\", \"hovertemplate\": \"stock_name=%{x}<br>year=2018<br>low=%{y}<extra></extra>\", \"legendgroup\": \"RELIANCE\", \"marker\": {\"color\": \"#636efa\"}, \"name\": \"RELIANCE\", \"offsetgroup\": \"RELIANCE\", \"orientation\": \"v\", \"showlegend\": true, \"textposition\": \"auto\", \"x\": [\"RELIANCE\"], \"xaxis\": \"x\", \"y\": [871.45], \"yaxis\": \"y\", \"type\": \"bar\"}, {\"alignmentgroup\": \"True\", \"hovertemplate\": \"stock_name=%{x}<br>year=2018<br>low=%{y}<extra></extra>\", \"legendgroup\": \"TCS\", \"marker\": {\"color\": \"#EF553B\"}, \"name\": \"TCS\", \"offsetgroup\": \"TCS\", \"orientation\": \"v\", \"showlegend\": true, \"textposition\": \"auto\", \"x\": [\"TCS\"], \"xaxis\": \"x\", \"y\": [1310.33], \"yaxis\": \"y\", \"type\": \"bar\"}, {\"alignmentgroup\": \"True\", \"hovertemplate\": \"stock_name=%{x}<br>year=2018<br>low=%{y}<extra></extra>\", \"legendgroup\": \"WIPRO\", \"marker\": {\"color\": \"#00cc96\"}, \"name\": \"WIPRO\", \"offsetgroup\": \"WIPRO\", \"orientation\": \"v\", \"showlegend\": true, \"textposition\": \"auto\", \"x\": [\"WIPRO\"], \"xaxis\": \"x\", \"y\": [190.68], \"yaxis\": \"y\", \"type\": \"bar\"}, {\"alignmentgroup\": \"True\", \"hovertemplate\": \"stock_name=%{x}<br>year=2018<br>low=%{y}<extra></extra>\", \"legendgroup\": \"ASIANPAINT\", \"marker\": {\"color\": \"#ab63fa\"}, \"name\": \"ASIANPAINT\", \"offsetgroup\": \"ASIANPAINT\", \"orientation\": \"v\", \"showlegend\": true, \"textposition\": \"auto\", \"x\": [\"ASIANPAINT\"], \"xaxis\": \"x\", \"y\": [1090.1], \"yaxis\": \"y\", \"type\": \"bar\"}, {\"alignmentgroup\": \"True\", \"hovertemplate\": \"stock_name=%{x}<br>year=2018<br>low=%{y}<extra></extra>\", \"legendgroup\": \"HDFC\", \"marker\": {\"color\": \"#FFA15A\"}, \"name\": \"HDFC\", \"offsetgroup\": \"HDFC\", \"orientation\": \"v\", \"showlegend\": true, \"textposition\": \"auto\", \"x\": [\"HDFC\"], \"xaxis\": \"x\", \"y\": [1647.45], \"yaxis\": \"y\", \"type\": \"bar\"}], \"name\": \"2018\"}, {\"data\": [{\"alignmentgroup\": \"True\", \"hovertemplate\": \"stock_name=%{x}<br>year=2019<br>low=%{y}<extra></extra>\", \"legendgroup\": \"RELIANCE\", \"marker\": {\"color\": \"#636efa\"}, \"name\": \"RELIANCE\", \"offsetgroup\": \"RELIANCE\", \"orientation\": \"v\", \"showlegend\": true, \"textposition\": \"auto\", \"x\": [\"RELIANCE\"], \"xaxis\": \"x\", \"y\": [1081.4], \"yaxis\": \"y\", \"type\": \"bar\"}, {\"alignmentgroup\": \"True\", \"hovertemplate\": \"stock_name=%{x}<br>year=2019<br>low=%{y}<extra></extra>\", \"legendgroup\": \"TCS\", \"marker\": {\"color\": \"#EF553B\"}, \"name\": \"TCS\", \"offsetgroup\": \"TCS\", \"orientation\": \"v\", \"showlegend\": true, \"textposition\": \"auto\", \"x\": [\"TCS\"], \"xaxis\": \"x\", \"y\": [1809.4], \"yaxis\": \"y\", \"type\": \"bar\"}, {\"alignmentgroup\": \"True\", \"hovertemplate\": \"stock_name=%{x}<br>year=2019<br>low=%{y}<extra></extra>\", \"legendgroup\": \"WIPRO\", \"marker\": {\"color\": \"#00cc96\"}, \"name\": \"WIPRO\", \"offsetgroup\": \"WIPRO\", \"orientation\": \"v\", \"showlegend\": true, \"textposition\": \"auto\", \"x\": [\"WIPRO\"], \"xaxis\": \"x\", \"y\": [234.14], \"yaxis\": \"y\", \"type\": \"bar\"}, {\"alignmentgroup\": \"True\", \"hovertemplate\": \"stock_name=%{x}<br>year=2019<br>low=%{y}<extra></extra>\", \"legendgroup\": \"ASIANPAINT\", \"marker\": {\"color\": \"#ab63fa\"}, \"name\": \"ASIANPAINT\", \"offsetgroup\": \"ASIANPAINT\", \"orientation\": \"v\", \"showlegend\": true, \"textposition\": \"auto\", \"x\": [\"ASIANPAINT\"], \"xaxis\": \"x\", \"y\": [1302.0], \"yaxis\": \"y\", \"type\": \"bar\"}, {\"alignmentgroup\": \"True\", \"hovertemplate\": \"stock_name=%{x}<br>year=2019<br>low=%{y}<extra></extra>\", \"legendgroup\": \"HDFC\", \"marker\": {\"color\": \"#FFA15A\"}, \"name\": \"HDFC\", \"offsetgroup\": \"HDFC\", \"orientation\": \"v\", \"showlegend\": true, \"textposition\": \"auto\", \"x\": [\"HDFC\"], \"xaxis\": \"x\", \"y\": [1820.0], \"yaxis\": \"y\", \"type\": \"bar\"}], \"name\": \"2019\"}]);\n",
       "                        }).then(function(){\n",
       "                            \n",
       "var gd = document.getElementById('526d726b-eb47-44c1-8059-01c0381c5a05');\n",
       "var x = new MutationObserver(function (mutations, observer) {{\n",
       "        var display = window.getComputedStyle(gd).display;\n",
       "        if (!display || display === 'none') {{\n",
       "            console.log([gd, 'removed!']);\n",
       "            Plotly.purge(gd);\n",
       "            observer.disconnect();\n",
       "        }}\n",
       "}});\n",
       "\n",
       "// Listen for the removal of the full notebook cells\n",
       "var notebookContainer = gd.closest('#notebook-container');\n",
       "if (notebookContainer) {{\n",
       "    x.observe(notebookContainer, {childList: true});\n",
       "}}\n",
       "\n",
       "// Listen for the clearing of the current output cell\n",
       "var outputEl = gd.closest('.output');\n",
       "if (outputEl) {{\n",
       "    x.observe(outputEl, {childList: true});\n",
       "}}\n",
       "\n",
       "                        })                };                });            </script>        </div>"
      ]
     },
     "metadata": {},
     "output_type": "display_data"
    }
   ],
   "source": [
    "fig = px.bar(df_yearly, x=df_yearly['stock_name'], y=df_yearly['low'], \n",
    "             color=df_yearly['stock_name'], \n",
    "             animation_frame='year',\n",
    "             range_y=[0, 2500]\n",
    "            )\n",
    "\n",
    "fig.update_layout(title=\"Yearly change in Stock Prices\",\n",
    "                  showlegend=False,\n",
    "                  yaxis_title=\"Low(₹)\",\n",
    "                  xaxis_title=\"Stocks\"\n",
    "                 )\n",
    "\n",
    "fig.show()"
   ]
  },
  {
   "cell_type": "markdown",
   "id": "familiar-airfare",
   "metadata": {
    "papermill": {
     "duration": 0.052374,
     "end_time": "2021-05-31T18:42:57.441782",
     "exception": false,
     "start_time": "2021-05-31T18:42:57.389408",
     "status": "completed"
    },
    "tags": []
   },
   "source": [
    "<div class=\"alert alert-info\">\n",
    "    <strong>📌 Reliance Financial (2015-2019)</strong>\n",
    "    <p>Financial features for Reliance procured from reliable resources available on the web. These features impact the stock prices of the company.</p>\n",
    "</div>"
   ]
  },
  {
   "cell_type": "code",
   "execution_count": 29,
   "id": "optical-repository",
   "metadata": {
    "_kg_hide-output": true,
    "execution": {
     "iopub.execute_input": "2021-05-31T18:42:57.564497Z",
     "iopub.status.busy": "2021-05-31T18:42:57.563716Z",
     "iopub.status.idle": "2021-05-31T18:42:57.567052Z",
     "shell.execute_reply": "2021-05-31T18:42:57.566445Z",
     "shell.execute_reply.started": "2021-05-31T18:24:21.071663Z"
    },
    "papermill": {
     "duration": 0.069856,
     "end_time": "2021-05-31T18:42:57.567197",
     "exception": false,
     "start_time": "2021-05-31T18:42:57.497341",
     "status": "completed"
    },
    "tags": []
   },
   "outputs": [
    {
     "data": {
      "text/html": [
       "<div>\n",
       "<style scoped>\n",
       "    .dataframe tbody tr th:only-of-type {\n",
       "        vertical-align: middle;\n",
       "    }\n",
       "\n",
       "    .dataframe tbody tr th {\n",
       "        vertical-align: top;\n",
       "    }\n",
       "\n",
       "    .dataframe thead th {\n",
       "        text-align: right;\n",
       "    }\n",
       "</style>\n",
       "<table border=\"1\" class=\"dataframe\">\n",
       "  <thead>\n",
       "    <tr style=\"text-align: right;\">\n",
       "      <th></th>\n",
       "      <th>Total Revenue</th>\n",
       "      <th>Gross Profit</th>\n",
       "      <th>Net Profit</th>\n",
       "    </tr>\n",
       "  </thead>\n",
       "  <tbody>\n",
       "    <tr>\n",
       "      <th>2019</th>\n",
       "      <td>383732.0</td>\n",
       "      <td>57925.0</td>\n",
       "      <td>35163.0</td>\n",
       "    </tr>\n",
       "    <tr>\n",
       "      <th>2018</th>\n",
       "      <td>301494.0</td>\n",
       "      <td>55305.0</td>\n",
       "      <td>33612.0</td>\n",
       "    </tr>\n",
       "    <tr>\n",
       "      <th>2017</th>\n",
       "      <td>255573.0</td>\n",
       "      <td>49242.0</td>\n",
       "      <td>31425.0</td>\n",
       "    </tr>\n",
       "    <tr>\n",
       "      <th>2016</th>\n",
       "      <td>236808.0</td>\n",
       "      <td>44606.0</td>\n",
       "      <td>27384.0</td>\n",
       "    </tr>\n",
       "    <tr>\n",
       "      <th>2015</th>\n",
       "      <td>335854.0</td>\n",
       "      <td>37956.0</td>\n",
       "      <td>22719.0</td>\n",
       "    </tr>\n",
       "  </tbody>\n",
       "</table>\n",
       "</div>"
      ],
      "text/plain": [
       "      Total Revenue  Gross Profit  Net Profit\n",
       "2019       383732.0       57925.0     35163.0\n",
       "2018       301494.0       55305.0     33612.0\n",
       "2017       255573.0       49242.0     31425.0\n",
       "2016       236808.0       44606.0     27384.0\n",
       "2015       335854.0       37956.0     22719.0"
      ]
     },
     "execution_count": 29,
     "metadata": {},
     "output_type": "execute_result"
    }
   ],
   "source": [
    "data = {\n",
    "        'Total Revenue':[383732.00, 301494.00, 255573.00, 236808.00, 335854.00,],\n",
    "        'Gross Profit':[57925.00, 55305.00, 49242.00, 44606.00, 37956.00],\n",
    "        'Net Profit':[35163.00, 33612.00, 31425.00, 27384.00, 22719.00]\n",
    "       }\n",
    "financials = pd.DataFrame(data, index=[2019, 2018, 2017, 2016, 2015])\n",
    "financials"
   ]
  },
  {
   "cell_type": "code",
   "execution_count": 30,
   "id": "academic-expansion",
   "metadata": {
    "execution": {
     "iopub.execute_input": "2021-05-31T18:42:57.689193Z",
     "iopub.status.busy": "2021-05-31T18:42:57.688516Z",
     "iopub.status.idle": "2021-05-31T18:42:57.694026Z",
     "shell.execute_reply": "2021-05-31T18:42:57.694477Z",
     "shell.execute_reply.started": "2021-05-31T18:26:16.906512Z"
    },
    "papermill": {
     "duration": 0.07414,
     "end_time": "2021-05-31T18:42:57.694654",
     "exception": false,
     "start_time": "2021-05-31T18:42:57.620514",
     "status": "completed"
    },
    "tags": []
   },
   "outputs": [
    {
     "data": {
      "text/html": [
       "<div>                            <div id=\"72866e11-46a4-4fab-95ac-21b6d0975022\" class=\"plotly-graph-div\" style=\"height:525px; width:100%;\"></div>            <script type=\"text/javascript\">                require([\"plotly\"], function(Plotly) {                    window.PLOTLYENV=window.PLOTLYENV || {};                                    if (document.getElementById(\"72866e11-46a4-4fab-95ac-21b6d0975022\")) {                    Plotly.newPlot(                        \"72866e11-46a4-4fab-95ac-21b6d0975022\",                        [{\"name\": \"Total Revenue(\\u20b9 10x crores)\", \"type\": \"bar\", \"x\": [2019, 2018, 2017, 2016, 2015], \"y\": [38373.2, 30149.4, 25557.3, 23680.8, 33585.4]}, {\"name\": \"Net Profit(\\u20b9 crores)\", \"type\": \"bar\", \"x\": [2019, 2018, 2017, 2016, 2015], \"y\": [35163.0, 33612.0, 31425.0, 27384.0, 22719.0]}, {\"name\": \"Highest Stock Price(\\u20b9)\", \"type\": \"bar\", \"x\": [\"2015\", \"2016\", \"2017\", \"2018\", \"2019\"], \"y\": [533.73, 564.78, 959.0, 1328.95, 1417.5]}],                        {\"template\": {\"data\": {\"bar\": [{\"error_x\": {\"color\": \"#2a3f5f\"}, \"error_y\": {\"color\": \"#2a3f5f\"}, \"marker\": {\"line\": {\"color\": \"#E5ECF6\", \"width\": 0.5}}, \"type\": \"bar\"}], \"barpolar\": [{\"marker\": {\"line\": {\"color\": \"#E5ECF6\", \"width\": 0.5}}, \"type\": \"barpolar\"}], \"carpet\": [{\"aaxis\": {\"endlinecolor\": \"#2a3f5f\", \"gridcolor\": \"white\", \"linecolor\": \"white\", \"minorgridcolor\": \"white\", \"startlinecolor\": \"#2a3f5f\"}, \"baxis\": {\"endlinecolor\": \"#2a3f5f\", \"gridcolor\": \"white\", \"linecolor\": \"white\", \"minorgridcolor\": \"white\", \"startlinecolor\": \"#2a3f5f\"}, \"type\": \"carpet\"}], \"choropleth\": [{\"colorbar\": {\"outlinewidth\": 0, \"ticks\": \"\"}, \"type\": \"choropleth\"}], \"contour\": [{\"colorbar\": {\"outlinewidth\": 0, \"ticks\": \"\"}, \"colorscale\": [[0.0, \"#0d0887\"], [0.1111111111111111, \"#46039f\"], [0.2222222222222222, \"#7201a8\"], [0.3333333333333333, \"#9c179e\"], [0.4444444444444444, \"#bd3786\"], [0.5555555555555556, \"#d8576b\"], [0.6666666666666666, \"#ed7953\"], [0.7777777777777778, \"#fb9f3a\"], [0.8888888888888888, \"#fdca26\"], [1.0, \"#f0f921\"]], \"type\": \"contour\"}], \"contourcarpet\": [{\"colorbar\": {\"outlinewidth\": 0, \"ticks\": \"\"}, \"type\": \"contourcarpet\"}], \"heatmap\": [{\"colorbar\": {\"outlinewidth\": 0, \"ticks\": \"\"}, \"colorscale\": [[0.0, \"#0d0887\"], [0.1111111111111111, \"#46039f\"], [0.2222222222222222, \"#7201a8\"], [0.3333333333333333, \"#9c179e\"], [0.4444444444444444, \"#bd3786\"], [0.5555555555555556, \"#d8576b\"], [0.6666666666666666, \"#ed7953\"], [0.7777777777777778, \"#fb9f3a\"], [0.8888888888888888, \"#fdca26\"], [1.0, \"#f0f921\"]], \"type\": \"heatmap\"}], \"heatmapgl\": [{\"colorbar\": {\"outlinewidth\": 0, \"ticks\": \"\"}, \"colorscale\": [[0.0, \"#0d0887\"], [0.1111111111111111, \"#46039f\"], [0.2222222222222222, \"#7201a8\"], [0.3333333333333333, \"#9c179e\"], [0.4444444444444444, \"#bd3786\"], [0.5555555555555556, \"#d8576b\"], [0.6666666666666666, \"#ed7953\"], [0.7777777777777778, \"#fb9f3a\"], [0.8888888888888888, \"#fdca26\"], [1.0, \"#f0f921\"]], \"type\": \"heatmapgl\"}], \"histogram\": [{\"marker\": {\"colorbar\": {\"outlinewidth\": 0, \"ticks\": \"\"}}, \"type\": \"histogram\"}], \"histogram2d\": [{\"colorbar\": {\"outlinewidth\": 0, \"ticks\": \"\"}, \"colorscale\": [[0.0, \"#0d0887\"], [0.1111111111111111, \"#46039f\"], [0.2222222222222222, \"#7201a8\"], [0.3333333333333333, \"#9c179e\"], [0.4444444444444444, \"#bd3786\"], [0.5555555555555556, \"#d8576b\"], [0.6666666666666666, \"#ed7953\"], [0.7777777777777778, \"#fb9f3a\"], [0.8888888888888888, \"#fdca26\"], [1.0, \"#f0f921\"]], \"type\": \"histogram2d\"}], \"histogram2dcontour\": [{\"colorbar\": {\"outlinewidth\": 0, \"ticks\": \"\"}, \"colorscale\": [[0.0, \"#0d0887\"], [0.1111111111111111, \"#46039f\"], [0.2222222222222222, \"#7201a8\"], [0.3333333333333333, \"#9c179e\"], [0.4444444444444444, \"#bd3786\"], [0.5555555555555556, \"#d8576b\"], [0.6666666666666666, \"#ed7953\"], [0.7777777777777778, \"#fb9f3a\"], [0.8888888888888888, \"#fdca26\"], [1.0, \"#f0f921\"]], \"type\": \"histogram2dcontour\"}], \"mesh3d\": [{\"colorbar\": {\"outlinewidth\": 0, \"ticks\": \"\"}, \"type\": \"mesh3d\"}], \"parcoords\": [{\"line\": {\"colorbar\": {\"outlinewidth\": 0, \"ticks\": \"\"}}, \"type\": \"parcoords\"}], \"pie\": [{\"automargin\": true, \"type\": \"pie\"}], \"scatter\": [{\"marker\": {\"colorbar\": {\"outlinewidth\": 0, \"ticks\": \"\"}}, \"type\": \"scatter\"}], \"scatter3d\": [{\"line\": {\"colorbar\": {\"outlinewidth\": 0, \"ticks\": \"\"}}, \"marker\": {\"colorbar\": {\"outlinewidth\": 0, \"ticks\": \"\"}}, \"type\": \"scatter3d\"}], \"scattercarpet\": [{\"marker\": {\"colorbar\": {\"outlinewidth\": 0, \"ticks\": \"\"}}, \"type\": \"scattercarpet\"}], \"scattergeo\": [{\"marker\": {\"colorbar\": {\"outlinewidth\": 0, \"ticks\": \"\"}}, \"type\": \"scattergeo\"}], \"scattergl\": [{\"marker\": {\"colorbar\": {\"outlinewidth\": 0, \"ticks\": \"\"}}, \"type\": \"scattergl\"}], \"scattermapbox\": [{\"marker\": {\"colorbar\": {\"outlinewidth\": 0, \"ticks\": \"\"}}, \"type\": \"scattermapbox\"}], \"scatterpolar\": [{\"marker\": {\"colorbar\": {\"outlinewidth\": 0, \"ticks\": \"\"}}, \"type\": \"scatterpolar\"}], \"scatterpolargl\": [{\"marker\": {\"colorbar\": {\"outlinewidth\": 0, \"ticks\": \"\"}}, \"type\": \"scatterpolargl\"}], \"scatterternary\": [{\"marker\": {\"colorbar\": {\"outlinewidth\": 0, \"ticks\": \"\"}}, \"type\": \"scatterternary\"}], \"surface\": [{\"colorbar\": {\"outlinewidth\": 0, \"ticks\": \"\"}, \"colorscale\": [[0.0, \"#0d0887\"], [0.1111111111111111, \"#46039f\"], [0.2222222222222222, \"#7201a8\"], [0.3333333333333333, \"#9c179e\"], [0.4444444444444444, \"#bd3786\"], [0.5555555555555556, \"#d8576b\"], [0.6666666666666666, \"#ed7953\"], [0.7777777777777778, \"#fb9f3a\"], [0.8888888888888888, \"#fdca26\"], [1.0, \"#f0f921\"]], \"type\": \"surface\"}], \"table\": [{\"cells\": {\"fill\": {\"color\": \"#EBF0F8\"}, \"line\": {\"color\": \"white\"}}, \"header\": {\"fill\": {\"color\": \"#C8D4E3\"}, \"line\": {\"color\": \"white\"}}, \"type\": \"table\"}]}, \"layout\": {\"annotationdefaults\": {\"arrowcolor\": \"#2a3f5f\", \"arrowhead\": 0, \"arrowwidth\": 1}, \"autotypenumbers\": \"strict\", \"coloraxis\": {\"colorbar\": {\"outlinewidth\": 0, \"ticks\": \"\"}}, \"colorscale\": {\"diverging\": [[0, \"#8e0152\"], [0.1, \"#c51b7d\"], [0.2, \"#de77ae\"], [0.3, \"#f1b6da\"], [0.4, \"#fde0ef\"], [0.5, \"#f7f7f7\"], [0.6, \"#e6f5d0\"], [0.7, \"#b8e186\"], [0.8, \"#7fbc41\"], [0.9, \"#4d9221\"], [1, \"#276419\"]], \"sequential\": [[0.0, \"#0d0887\"], [0.1111111111111111, \"#46039f\"], [0.2222222222222222, \"#7201a8\"], [0.3333333333333333, \"#9c179e\"], [0.4444444444444444, \"#bd3786\"], [0.5555555555555556, \"#d8576b\"], [0.6666666666666666, \"#ed7953\"], [0.7777777777777778, \"#fb9f3a\"], [0.8888888888888888, \"#fdca26\"], [1.0, \"#f0f921\"]], \"sequentialminus\": [[0.0, \"#0d0887\"], [0.1111111111111111, \"#46039f\"], [0.2222222222222222, \"#7201a8\"], [0.3333333333333333, \"#9c179e\"], [0.4444444444444444, \"#bd3786\"], [0.5555555555555556, \"#d8576b\"], [0.6666666666666666, \"#ed7953\"], [0.7777777777777778, \"#fb9f3a\"], [0.8888888888888888, \"#fdca26\"], [1.0, \"#f0f921\"]]}, \"colorway\": [\"#636efa\", \"#EF553B\", \"#00cc96\", \"#ab63fa\", \"#FFA15A\", \"#19d3f3\", \"#FF6692\", \"#B6E880\", \"#FF97FF\", \"#FECB52\"], \"font\": {\"color\": \"#2a3f5f\"}, \"geo\": {\"bgcolor\": \"white\", \"lakecolor\": \"white\", \"landcolor\": \"#E5ECF6\", \"showlakes\": true, \"showland\": true, \"subunitcolor\": \"white\"}, \"hoverlabel\": {\"align\": \"left\"}, \"hovermode\": \"closest\", \"mapbox\": {\"style\": \"light\"}, \"paper_bgcolor\": \"white\", \"plot_bgcolor\": \"#E5ECF6\", \"polar\": {\"angularaxis\": {\"gridcolor\": \"white\", \"linecolor\": \"white\", \"ticks\": \"\"}, \"bgcolor\": \"#E5ECF6\", \"radialaxis\": {\"gridcolor\": \"white\", \"linecolor\": \"white\", \"ticks\": \"\"}}, \"scene\": {\"xaxis\": {\"backgroundcolor\": \"#E5ECF6\", \"gridcolor\": \"white\", \"gridwidth\": 2, \"linecolor\": \"white\", \"showbackground\": true, \"ticks\": \"\", \"zerolinecolor\": \"white\"}, \"yaxis\": {\"backgroundcolor\": \"#E5ECF6\", \"gridcolor\": \"white\", \"gridwidth\": 2, \"linecolor\": \"white\", \"showbackground\": true, \"ticks\": \"\", \"zerolinecolor\": \"white\"}, \"zaxis\": {\"backgroundcolor\": \"#E5ECF6\", \"gridcolor\": \"white\", \"gridwidth\": 2, \"linecolor\": \"white\", \"showbackground\": true, \"ticks\": \"\", \"zerolinecolor\": \"white\"}}, \"shapedefaults\": {\"line\": {\"color\": \"#2a3f5f\"}}, \"ternary\": {\"aaxis\": {\"gridcolor\": \"white\", \"linecolor\": \"white\", \"ticks\": \"\"}, \"baxis\": {\"gridcolor\": \"white\", \"linecolor\": \"white\", \"ticks\": \"\"}, \"bgcolor\": \"#E5ECF6\", \"caxis\": {\"gridcolor\": \"white\", \"linecolor\": \"white\", \"ticks\": \"\"}}, \"title\": {\"x\": 0.05}, \"xaxis\": {\"automargin\": true, \"gridcolor\": \"white\", \"linecolor\": \"white\", \"ticks\": \"\", \"title\": {\"standoff\": 15}, \"zerolinecolor\": \"white\", \"zerolinewidth\": 2}, \"yaxis\": {\"automargin\": true, \"gridcolor\": \"white\", \"linecolor\": \"white\", \"ticks\": \"\", \"title\": {\"standoff\": 15}, \"zerolinecolor\": \"white\", \"zerolinewidth\": 2}}}},                        {\"responsive\": true}                    ).then(function(){\n",
       "                            \n",
       "var gd = document.getElementById('72866e11-46a4-4fab-95ac-21b6d0975022');\n",
       "var x = new MutationObserver(function (mutations, observer) {{\n",
       "        var display = window.getComputedStyle(gd).display;\n",
       "        if (!display || display === 'none') {{\n",
       "            console.log([gd, 'removed!']);\n",
       "            Plotly.purge(gd);\n",
       "            observer.disconnect();\n",
       "        }}\n",
       "}});\n",
       "\n",
       "// Listen for the removal of the full notebook cells\n",
       "var notebookContainer = gd.closest('#notebook-container');\n",
       "if (notebookContainer) {{\n",
       "    x.observe(notebookContainer, {childList: true});\n",
       "}}\n",
       "\n",
       "// Listen for the clearing of the current output cell\n",
       "var outputEl = gd.closest('.output');\n",
       "if (outputEl) {{\n",
       "    x.observe(outputEl, {childList: true});\n",
       "}}\n",
       "\n",
       "                        })                };                });            </script>        </div>"
      ]
     },
     "metadata": {},
     "output_type": "display_data"
    }
   ],
   "source": [
    "fig = go.Figure()\n",
    "\n",
    "fig.add_trace(go.Bar(x=financials.index, y=financials['Total Revenue'].apply(lambda x: x / 10),\n",
    "                     name=\"Total Revenue(₹ 10x crores)\",\n",
    "                    ))\n",
    "\n",
    "fig.add_trace(go.Bar(x=financials.index, y=financials['Net Profit'],\n",
    "                     name=\"Net Profit(₹ crores)\",\n",
    "                    ))\n",
    "\n",
    "fig.add_trace(go.Bar(x=df_yearly[df_yearly['stock_name'] == 'RELIANCE']['year'], \n",
    "                     y=df_yearly[df_yearly['stock_name'] == 'RELIANCE']['high'],\n",
    "                     name=\"Highest Stock Price(₹)\",\n",
    "                    ))\n",
    "\n",
    "fig.show()"
   ]
  },
  {
   "cell_type": "markdown",
   "id": "violent-concert",
   "metadata": {
    "papermill": {
     "duration": 0.052976,
     "end_time": "2021-05-31T18:42:57.801239",
     "exception": false,
     "start_time": "2021-05-31T18:42:57.748263",
     "status": "completed"
    },
    "tags": []
   },
   "source": [
    "<center><h3><br>Thank You! Upvote if you liked or learned.<br><br> Feel free to comment any suggestions or improvements.</h3></center>"
   ]
  },
  {
   "cell_type": "code",
   "execution_count": null,
   "id": "demonstrated-success",
   "metadata": {
    "papermill": {
     "duration": 0.05328,
     "end_time": "2021-05-31T18:42:57.910171",
     "exception": false,
     "start_time": "2021-05-31T18:42:57.856891",
     "status": "completed"
    },
    "tags": []
   },
   "outputs": [],
   "source": []
  }
 ],
 "metadata": {
  "kernelspec": {
   "display_name": "Python 3",
   "language": "python",
   "name": "python3"
  },
  "language_info": {
   "codemirror_mode": {
    "name": "ipython",
    "version": 3
   },
   "file_extension": ".py",
   "mimetype": "text/x-python",
   "name": "python",
   "nbconvert_exporter": "python",
   "pygments_lexer": "ipython3",
   "version": "3.7.10"
  },
  "papermill": {
   "default_parameters": {},
   "duration": 24.876394,
   "end_time": "2021-05-31T18:42:59.475724",
   "environment_variables": {},
   "exception": null,
   "input_path": "__notebook__.ipynb",
   "output_path": "__notebook__.ipynb",
   "parameters": {},
   "start_time": "2021-05-31T18:42:34.599330",
   "version": "2.3.3"
  },
  "widgets": {
   "application/vnd.jupyter.widget-state+json": {
    "state": {
     "111307df95764327ae7e0ebf1ae8e8e5": {
      "buffers": [
       {
        "data": "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",
        "encoding": "base64",
        "path": [
         "_py2js_addTraces",
         "trace_data",
         0,
         "close",
         "buffer"
        ]
       },
       {
        "data": "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",
        "encoding": "base64",
        "path": [
         "_py2js_addTraces",
         "trace_data",
         0,
         "high",
         "buffer"
        ]
       },
       {
        "data": "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",
        "encoding": "base64",
        "path": [
         "_py2js_addTraces",
         "trace_data",
         0,
         "low",
         "buffer"
        ]
       },
       {
        "data": "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",
        "encoding": "base64",
        "path": [
         "_py2js_addTraces",
         "trace_data",
         0,
         "open",
         "buffer"
        ]
       }
      ],
      "model_module": "plotlywidget",
      "model_module_version": "^4.14.3",
      "model_name": "FigureModel",
      "state": {
       "_config": {
        "plotlyServerURL": "https://plot.ly"
       },
       "_data": [],
       "_dom_classes": [],
       "_js2py_layoutDelta": {},
       "_js2py_pointsCallback": {},
       "_js2py_relayout": {},
       "_js2py_restyle": {},
       "_js2py_traceDeltas": {},
       "_js2py_update": {},
       "_last_layout_edit_id": 3,
       "_last_trace_edit_id": 3,
       "_layout": {
        "template": {
         "data": {
          "bar": [
           {
            "error_x": {
             "color": "#2a3f5f"
            },
            "error_y": {
             "color": "#2a3f5f"
            },
            "marker": {
             "line": {
              "color": "#E5ECF6",
              "width": 0.5
             }
            },
            "type": "bar"
           }
          ],
          "barpolar": [
           {
            "marker": {
             "line": {
              "color": "#E5ECF6",
              "width": 0.5
             }
            },
            "type": "barpolar"
           }
          ],
          "carpet": [
           {
            "aaxis": {
             "endlinecolor": "#2a3f5f",
             "gridcolor": "white",
             "linecolor": "white",
             "minorgridcolor": "white",
             "startlinecolor": "#2a3f5f"
            },
            "baxis": {
             "endlinecolor": "#2a3f5f",
             "gridcolor": "white",
             "linecolor": "white",
             "minorgridcolor": "white",
             "startlinecolor": "#2a3f5f"
            },
            "type": "carpet"
           }
          ],
          "choropleth": [
           {
            "colorbar": {
             "outlinewidth": 0,
             "ticks": ""
            },
            "type": "choropleth"
           }
          ],
          "contour": [
           {
            "colorbar": {
             "outlinewidth": 0,
             "ticks": ""
            },
            "colorscale": [
             [
              0.0,
              "#0d0887"
             ],
             [
              0.1111111111111111,
              "#46039f"
             ],
             [
              0.2222222222222222,
              "#7201a8"
             ],
             [
              0.3333333333333333,
              "#9c179e"
             ],
             [
              0.4444444444444444,
              "#bd3786"
             ],
             [
              0.5555555555555556,
              "#d8576b"
             ],
             [
              0.6666666666666666,
              "#ed7953"
             ],
             [
              0.7777777777777778,
              "#fb9f3a"
             ],
             [
              0.8888888888888888,
              "#fdca26"
             ],
             [
              1.0,
              "#f0f921"
             ]
            ],
            "type": "contour"
           }
          ],
          "contourcarpet": [
           {
            "colorbar": {
             "outlinewidth": 0,
             "ticks": ""
            },
            "type": "contourcarpet"
           }
          ],
          "heatmap": [
           {
            "colorbar": {
             "outlinewidth": 0,
             "ticks": ""
            },
            "colorscale": [
             [
              0.0,
              "#0d0887"
             ],
             [
              0.1111111111111111,
              "#46039f"
             ],
             [
              0.2222222222222222,
              "#7201a8"
             ],
             [
              0.3333333333333333,
              "#9c179e"
             ],
             [
              0.4444444444444444,
              "#bd3786"
             ],
             [
              0.5555555555555556,
              "#d8576b"
             ],
             [
              0.6666666666666666,
              "#ed7953"
             ],
             [
              0.7777777777777778,
              "#fb9f3a"
             ],
             [
              0.8888888888888888,
              "#fdca26"
             ],
             [
              1.0,
              "#f0f921"
             ]
            ],
            "type": "heatmap"
           }
          ],
          "heatmapgl": [
           {
            "colorbar": {
             "outlinewidth": 0,
             "ticks": ""
            },
            "colorscale": [
             [
              0.0,
              "#0d0887"
             ],
             [
              0.1111111111111111,
              "#46039f"
             ],
             [
              0.2222222222222222,
              "#7201a8"
             ],
             [
              0.3333333333333333,
              "#9c179e"
             ],
             [
              0.4444444444444444,
              "#bd3786"
             ],
             [
              0.5555555555555556,
              "#d8576b"
             ],
             [
              0.6666666666666666,
              "#ed7953"
             ],
             [
              0.7777777777777778,
              "#fb9f3a"
             ],
             [
              0.8888888888888888,
              "#fdca26"
             ],
             [
              1.0,
              "#f0f921"
             ]
            ],
            "type": "heatmapgl"
           }
          ],
          "histogram": [
           {
            "marker": {
             "colorbar": {
              "outlinewidth": 0,
              "ticks": ""
             }
            },
            "type": "histogram"
           }
          ],
          "histogram2d": [
           {
            "colorbar": {
             "outlinewidth": 0,
             "ticks": ""
            },
            "colorscale": [
             [
              0.0,
              "#0d0887"
             ],
             [
              0.1111111111111111,
              "#46039f"
             ],
             [
              0.2222222222222222,
              "#7201a8"
             ],
             [
              0.3333333333333333,
              "#9c179e"
             ],
             [
              0.4444444444444444,
              "#bd3786"
             ],
             [
              0.5555555555555556,
              "#d8576b"
             ],
             [
              0.6666666666666666,
              "#ed7953"
             ],
             [
              0.7777777777777778,
              "#fb9f3a"
             ],
             [
              0.8888888888888888,
              "#fdca26"
             ],
             [
              1.0,
              "#f0f921"
             ]
            ],
            "type": "histogram2d"
           }
          ],
          "histogram2dcontour": [
           {
            "colorbar": {
             "outlinewidth": 0,
             "ticks": ""
            },
            "colorscale": [
             [
              0.0,
              "#0d0887"
             ],
             [
              0.1111111111111111,
              "#46039f"
             ],
             [
              0.2222222222222222,
              "#7201a8"
             ],
             [
              0.3333333333333333,
              "#9c179e"
             ],
             [
              0.4444444444444444,
              "#bd3786"
             ],
             [
              0.5555555555555556,
              "#d8576b"
             ],
             [
              0.6666666666666666,
              "#ed7953"
             ],
             [
              0.7777777777777778,
              "#fb9f3a"
             ],
             [
              0.8888888888888888,
              "#fdca26"
             ],
             [
              1.0,
              "#f0f921"
             ]
            ],
            "type": "histogram2dcontour"
           }
          ],
          "mesh3d": [
           {
            "colorbar": {
             "outlinewidth": 0,
             "ticks": ""
            },
            "type": "mesh3d"
           }
          ],
          "parcoords": [
           {
            "line": {
             "colorbar": {
              "outlinewidth": 0,
              "ticks": ""
             }
            },
            "type": "parcoords"
           }
          ],
          "pie": [
           {
            "automargin": true,
            "type": "pie"
           }
          ],
          "scatter": [
           {
            "marker": {
             "colorbar": {
              "outlinewidth": 0,
              "ticks": ""
             }
            },
            "type": "scatter"
           }
          ],
          "scatter3d": [
           {
            "line": {
             "colorbar": {
              "outlinewidth": 0,
              "ticks": ""
             }
            },
            "marker": {
             "colorbar": {
              "outlinewidth": 0,
              "ticks": ""
             }
            },
            "type": "scatter3d"
           }
          ],
          "scattercarpet": [
           {
            "marker": {
             "colorbar": {
              "outlinewidth": 0,
              "ticks": ""
             }
            },
            "type": "scattercarpet"
           }
          ],
          "scattergeo": [
           {
            "marker": {
             "colorbar": {
              "outlinewidth": 0,
              "ticks": ""
             }
            },
            "type": "scattergeo"
           }
          ],
          "scattergl": [
           {
            "marker": {
             "colorbar": {
              "outlinewidth": 0,
              "ticks": ""
             }
            },
            "type": "scattergl"
           }
          ],
          "scattermapbox": [
           {
            "marker": {
             "colorbar": {
              "outlinewidth": 0,
              "ticks": ""
             }
            },
            "type": "scattermapbox"
           }
          ],
          "scatterpolar": [
           {
            "marker": {
             "colorbar": {
              "outlinewidth": 0,
              "ticks": ""
             }
            },
            "type": "scatterpolar"
           }
          ],
          "scatterpolargl": [
           {
            "marker": {
             "colorbar": {
              "outlinewidth": 0,
              "ticks": ""
             }
            },
            "type": "scatterpolargl"
           }
          ],
          "scatterternary": [
           {
            "marker": {
             "colorbar": {
              "outlinewidth": 0,
              "ticks": ""
             }
            },
            "type": "scatterternary"
           }
          ],
          "surface": [
           {
            "colorbar": {
             "outlinewidth": 0,
             "ticks": ""
            },
            "colorscale": [
             [
              0.0,
              "#0d0887"
             ],
             [
              0.1111111111111111,
              "#46039f"
             ],
             [
              0.2222222222222222,
              "#7201a8"
             ],
             [
              0.3333333333333333,
              "#9c179e"
             ],
             [
              0.4444444444444444,
              "#bd3786"
             ],
             [
              0.5555555555555556,
              "#d8576b"
             ],
             [
              0.6666666666666666,
              "#ed7953"
             ],
             [
              0.7777777777777778,
              "#fb9f3a"
             ],
             [
              0.8888888888888888,
              "#fdca26"
             ],
             [
              1.0,
              "#f0f921"
             ]
            ],
            "type": "surface"
           }
          ],
          "table": [
           {
            "cells": {
             "fill": {
              "color": "#EBF0F8"
             },
             "line": {
              "color": "white"
             }
            },
            "header": {
             "fill": {
              "color": "#C8D4E3"
             },
             "line": {
              "color": "white"
             }
            },
            "type": "table"
           }
          ]
         },
         "layout": {
          "annotationdefaults": {
           "arrowcolor": "#2a3f5f",
           "arrowhead": 0,
           "arrowwidth": 1
          },
          "autotypenumbers": "strict",
          "coloraxis": {
           "colorbar": {
            "outlinewidth": 0,
            "ticks": ""
           }
          },
          "colorscale": {
           "diverging": [
            [
             0,
             "#8e0152"
            ],
            [
             0.1,
             "#c51b7d"
            ],
            [
             0.2,
             "#de77ae"
            ],
            [
             0.3,
             "#f1b6da"
            ],
            [
             0.4,
             "#fde0ef"
            ],
            [
             0.5,
             "#f7f7f7"
            ],
            [
             0.6,
             "#e6f5d0"
            ],
            [
             0.7,
             "#b8e186"
            ],
            [
             0.8,
             "#7fbc41"
            ],
            [
             0.9,
             "#4d9221"
            ],
            [
             1,
             "#276419"
            ]
           ],
           "sequential": [
            [
             0.0,
             "#0d0887"
            ],
            [
             0.1111111111111111,
             "#46039f"
            ],
            [
             0.2222222222222222,
             "#7201a8"
            ],
            [
             0.3333333333333333,
             "#9c179e"
            ],
            [
             0.4444444444444444,
             "#bd3786"
            ],
            [
             0.5555555555555556,
             "#d8576b"
            ],
            [
             0.6666666666666666,
             "#ed7953"
            ],
            [
             0.7777777777777778,
             "#fb9f3a"
            ],
            [
             0.8888888888888888,
             "#fdca26"
            ],
            [
             1.0,
             "#f0f921"
            ]
           ],
           "sequentialminus": [
            [
             0.0,
             "#0d0887"
            ],
            [
             0.1111111111111111,
             "#46039f"
            ],
            [
             0.2222222222222222,
             "#7201a8"
            ],
            [
             0.3333333333333333,
             "#9c179e"
            ],
            [
             0.4444444444444444,
             "#bd3786"
            ],
            [
             0.5555555555555556,
             "#d8576b"
            ],
            [
             0.6666666666666666,
             "#ed7953"
            ],
            [
             0.7777777777777778,
             "#fb9f3a"
            ],
            [
             0.8888888888888888,
             "#fdca26"
            ],
            [
             1.0,
             "#f0f921"
            ]
           ]
          },
          "colorway": [
           "#636efa",
           "#EF553B",
           "#00cc96",
           "#ab63fa",
           "#FFA15A",
           "#19d3f3",
           "#FF6692",
           "#B6E880",
           "#FF97FF",
           "#FECB52"
          ],
          "font": {
           "color": "#2a3f5f"
          },
          "geo": {
           "bgcolor": "white",
           "lakecolor": "white",
           "landcolor": "#E5ECF6",
           "showlakes": true,
           "showland": true,
           "subunitcolor": "white"
          },
          "hoverlabel": {
           "align": "left"
          },
          "hovermode": "closest",
          "mapbox": {
           "style": "light"
          },
          "paper_bgcolor": "white",
          "plot_bgcolor": "#E5ECF6",
          "polar": {
           "angularaxis": {
            "gridcolor": "white",
            "linecolor": "white",
            "ticks": ""
           },
           "bgcolor": "#E5ECF6",
           "radialaxis": {
            "gridcolor": "white",
            "linecolor": "white",
            "ticks": ""
           }
          },
          "scene": {
           "xaxis": {
            "backgroundcolor": "#E5ECF6",
            "gridcolor": "white",
            "gridwidth": 2,
            "linecolor": "white",
            "showbackground": true,
            "ticks": "",
            "zerolinecolor": "white"
           },
           "yaxis": {
            "backgroundcolor": "#E5ECF6",
            "gridcolor": "white",
            "gridwidth": 2,
            "linecolor": "white",
            "showbackground": true,
            "ticks": "",
            "zerolinecolor": "white"
           },
           "zaxis": {
            "backgroundcolor": "#E5ECF6",
            "gridcolor": "white",
            "gridwidth": 2,
            "linecolor": "white",
            "showbackground": true,
            "ticks": "",
            "zerolinecolor": "white"
           }
          },
          "shapedefaults": {
           "line": {
            "color": "#2a3f5f"
           }
          },
          "ternary": {
           "aaxis": {
            "gridcolor": "white",
            "linecolor": "white",
            "ticks": ""
           },
           "baxis": {
            "gridcolor": "white",
            "linecolor": "white",
            "ticks": ""
           },
           "bgcolor": "#E5ECF6",
           "caxis": {
            "gridcolor": "white",
            "linecolor": "white",
            "ticks": ""
           }
          },
          "title": {
           "x": 0.05
          },
          "xaxis": {
           "automargin": true,
           "gridcolor": "white",
           "linecolor": "white",
           "ticks": "",
           "title": {
            "standoff": 15
           },
           "zerolinecolor": "white",
           "zerolinewidth": 2
          },
          "yaxis": {
           "automargin": true,
           "gridcolor": "white",
           "linecolor": "white",
           "ticks": "",
           "title": {
            "standoff": 15
           },
           "zerolinecolor": "white",
           "zerolinewidth": 2
          }
         }
        },
        "xaxis": {
         "anchor": "y",
         "domain": [
          0.0,
          0.94
         ]
        },
        "yaxis": {
         "anchor": "x",
         "domain": [
          0.0,
          1.0
         ]
        },
        "yaxis2": {
         "anchor": "x",
         "overlaying": "y",
         "side": "right"
        }
       },
       "_model_module": "plotlywidget",
       "_model_module_version": "^4.14.3",
       "_model_name": "FigureModel",
       "_py2js_addTraces": null,
       "_py2js_animate": {},
       "_py2js_deleteTraces": {},
       "_py2js_moveTraces": {},
       "_py2js_relayout": {},
       "_py2js_removeLayoutProps": {},
       "_py2js_removeTraceProps": {},
       "_py2js_restyle": {},
       "_py2js_update": null,
       "_view_count": 0,
       "_view_module": "plotlywidget",
       "_view_module_version": "^4.14.3",
       "_view_name": "FigureView"
      }
     }
    },
    "version_major": 2,
    "version_minor": 0
   }
  }
 },
 "nbformat": 4,
 "nbformat_minor": 5
}
